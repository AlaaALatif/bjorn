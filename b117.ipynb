{
 "cells": [
  {
   "cell_type": "code",
   "execution_count": 1,
   "metadata": {},
   "outputs": [],
   "source": [
    "import sys\n",
    "import pandas as pd\n",
    "import os\n",
    "from path import Path\n",
    "import plotly\n",
    "import plotly.express as px\n",
    "import plotly.graph_objects as go\n",
    "from plotly.subplots import make_subplots\n",
    "from urllib.request import urlopen\n",
    "import json\n",
    "import statsmodels as sm\n",
    "from statsmodels.formula.api import ols\n",
    "from Bio import Seq, SeqIO, AlignIO, Phylo, Align\n",
    "from jinja2 import Environment, FileSystemLoader  # html template engine\n",
    "import cv2\n",
    "import numpy as np\n",
    "import skimage as sk\n",
    "import matplotlib.pylab as plt\n",
    "import datetime as dt"
   ]
  },
  {
   "cell_type": "code",
   "execution_count": 2,
   "metadata": {},
   "outputs": [],
   "source": [
    "sys.path.append('../')"
   ]
  },
  {
   "cell_type": "code",
   "execution_count": 3,
   "metadata": {},
   "outputs": [],
   "source": [
    "import bjorn_support as bs\n",
    "import onion_trees as ot\n",
    "import mutations as bm\n",
    "import visualize as bv\n",
    "import reports as br"
   ]
  },
  {
   "cell_type": "code",
   "execution_count": 4,
   "metadata": {},
   "outputs": [],
   "source": [
    "msa_fp = '/home/al/analysis/gisaid/sequences_2021-01-20_16-44_aligned.fasta.gz'\n",
    "meta_fp = '/home/al/analysis/gisaid/metadata_2021-01-20_17-49.tsv.gz'"
   ]
  },
  {
   "cell_type": "code",
   "execution_count": 21,
   "metadata": {},
   "outputs": [],
   "source": [
    "cols = {'Virus name': 'strain', 'Collection date': 'date' , 'Additional host information': 'purpose_of_sequencing',\n",
    "        'Lineage': 'pangolin_lineage', 'Host': 'host'}\n",
    "meta_fp = '/home/al/analysis/gisaid/metadata_2021-01-21.tsv.gz'\n",
    "old_meta_fp = '/home/al/analysis/gisaid/metadata_2021-01-20_17-49.tsv.gz'\n",
    "xtra_fp = '/home/al/analysis/gisaid/gisaid_hcov-19_2021_01_21_15.tsv'\n",
    "drop_cols = ['Accession ID', 'Location', 'Passage', 'Specimen', 'Sequencing technology',\n",
    "             'Assembly method', 'Comment', 'Comment type']"
   ]
  },
  {
   "cell_type": "code",
   "execution_count": 22,
   "metadata": {},
   "outputs": [
    {
     "name": "stderr",
     "output_type": "stream",
     "text": [
      "/home/al/anaconda3/lib/python3.8/site-packages/IPython/core/interactiveshell.py:3338: DtypeWarning:\n",
      "\n",
      "Columns (8) have mixed types.Specify dtype option on import or set low_memory=False.\n",
      "\n"
     ]
    }
   ],
   "source": [
    "meta = bs.integrate_gisaid_meta(old_meta_fp, xtra_fp, msa_fp, cols, drop_cols)"
   ]
  },
  {
   "cell_type": "code",
   "execution_count": 23,
   "metadata": {},
   "outputs": [
    {
     "data": {
      "text/plain": [
       "'/home/al/analysis/gisaid/metadata_2021-01-21.tsv.gz'"
      ]
     },
     "execution_count": 23,
     "metadata": {},
     "output_type": "execute_result"
    }
   ],
   "source": [
    "meta_fp"
   ]
  },
  {
   "cell_type": "code",
   "execution_count": 29,
   "metadata": {},
   "outputs": [],
   "source": [
    "# meta.to_csv(meta_fp, sep='\\t', compression='gzip', index=False)"
   ]
  },
  {
   "cell_type": "code",
   "execution_count": 25,
   "metadata": {},
   "outputs": [],
   "source": [
    "# meta = pd.read_csv(meta_fp, sep='\\t', compression='gzip')\n",
    "# meta.loc[(meta['country'].str.contains('United States'))&(meta['pangolin_lineage']=='B.1.1.7')]"
   ]
  },
  {
   "cell_type": "code",
   "execution_count": 26,
   "metadata": {},
   "outputs": [],
   "source": [
    "# gisaid, _ = bm.identify_replacements_per_sample(msa_fp, meta_fp, bm.GENE2POS, data_src='gisaid', test=False)\n",
    "# gisaid['mutation'] = gisaid['gene'] + ':' + gisaid['ref_aa'] + gisaid['codon_num'].astype(str) + gisaid['alt_aa']\n",
    "# gisaid.loc[gisaid['country']=='USA', 'country'] = 'United States of America'"
   ]
  },
  {
   "cell_type": "code",
   "execution_count": 27,
   "metadata": {},
   "outputs": [],
   "source": [
    "# gisaid_fp = '/home/al/analysis/gisaid/subs_long_2021-01-15_14-55v2.csv.gz'\n",
    "# gisaid.to_csv(gisaid_fp, index=False, compression='gzip')"
   ]
  },
  {
   "cell_type": "code",
   "execution_count": 28,
   "metadata": {},
   "outputs": [],
   "source": [
    "# gisaid[(gisaid['mutation']=='ORF1b:D1183Y')]['strain'].unique().shape"
   ]
  },
  {
   "cell_type": "code",
   "execution_count": 5,
   "metadata": {},
   "outputs": [],
   "source": [
    "# feature = 'mutations'\n",
    "# values = ['S:S13I', 'S:W152C', 'S:L452R']\n",
    "feature = 'pangolin_lineage'\n",
    "# S:Q677H, M:A85S, N:D377Y,\n",
    "values = ['B.1.1.7']#, 'S:W152C', 'S:L452R'] # 'ORF1ab:I4205V', \n",
    "input_params = {\n",
    "    'gisaid_data_fp' : '/home/al/analysis/gisaid/subs_long_2021-01-20.csv.gz',\n",
    "    'gisaid_meta_fp': '/home/al/analysis/gisaid/metadata_2021-01-21.tsv.gz',\n",
    "    'vocs': ['B.1.1.7', 'B.1.1.70'],\n",
    "    'strain': 'B117',\n",
    "    'date': '01/21/2021',\n",
    "    'msa_fp': Path('/home/al/analysis/gisaid/sequences_2021-01-20_16-44_aligned.fasta.gz'),\n",
    "    'meta_fp' : Path('/home/al/code/HCoV-19-Genomics/metadata.csv'),\n",
    "    'tree_fp' : Path('/home/al/analysis/alab_mutations_01-01-2021/alab/seqs_aligned.fa.treefile'),\n",
    "    'subs_fp' : '/home/al/analysis/alab_mutations_01-01-2021/alab_substitutions_long_01-01-2021.csv',\n",
    "    'countries_fp' : '/home/al/data/geojsons/countries.geo.json',\n",
    "    'states_fp' : \"/home/al/data/geojsons/us-states.json\",\n",
    "    'counties_fp' : '/home/al/data/geojsons/us-counties.json',\n",
    "    'patient_zero' : 'NC_045512.2',\n",
    "    'b117_meta' : '/home/al/analysis/b117/nextstrain_groups_neherlab_ncov_S.N501_metadata.tsv',\n",
    "    'b117_tree': 'test_data/b117_seqs_aligned.fasta.treefile',\n",
    "    'sample_sz': 500,\n",
    "    'sampling_img_fp' : \"/home/al/analysis/b117/figs/sars-cov-2_EM_v3.png\"\n",
    "}"
   ]
  },
  {
   "cell_type": "code",
   "execution_count": 6,
   "metadata": {
    "scrolled": true
   },
   "outputs": [
    {
     "name": "stderr",
     "output_type": "stream",
     "text": [
      "/home/al/anaconda3/lib/python3.8/site-packages/IPython/core/interactiveshell.py:3338: DtypeWarning: Columns (8,28) have mixed types.Specify dtype option on import or set low_memory=False.\n",
      "  if (await self.run_code(code, result,  async_=asy)):\n"
     ]
    }
   ],
   "source": [
    "results = br.generate_voc_data(feature, values, input_params)"
   ]
  },
  {
   "cell_type": "code",
   "execution_count": 7,
   "metadata": {},
   "outputs": [],
   "source": [
    "html = br.generate_voc_html(feature, values, results, template_name='voc.html')\n",
    "# br.save_html(html, f'test_data/orf1ab_i4205v_report.html')\n",
    "br.save_html(html, f'test_data/b117_report.html')"
   ]
  },
  {
   "cell_type": "code",
   "execution_count": null,
   "metadata": {},
   "outputs": [],
   "source": [
    "plotly.offline.plot()"
   ]
  },
  {
   "cell_type": "code",
   "execution_count": 17,
   "metadata": {},
   "outputs": [],
   "source": [
    "gisaid = pd.read_csv(input_params['gisaid_data_fp'], compression='gzip')"
   ]
  },
  {
   "cell_type": "code",
   "execution_count": 16,
   "metadata": {},
   "outputs": [],
   "source": [
    "# res = (gisaid.groupby(['date', 'country', 'division', \n",
    "#                                         'purpose_of_sequencing',\n",
    "#                                         'location', 'pangolin_lineage', 'strain'])\n",
    "#                        .agg(mutations=('mutation', 'unique')).reset_index())\n",
    "# res['is_vui'] = res['mutations'].apply(bv.is_vui, args=(set(values),))"
   ]
  },
  {
   "cell_type": "code",
   "execution_count": null,
   "metadata": {},
   "outputs": [],
   "source": []
  },
  {
   "cell_type": "code",
   "execution_count": null,
   "metadata": {},
   "outputs": [],
   "source": []
  },
  {
   "cell_type": "code",
   "execution_count": null,
   "metadata": {},
   "outputs": [],
   "source": []
  },
  {
   "cell_type": "code",
   "execution_count": 21,
   "metadata": {},
   "outputs": [
    {
     "data": {
      "text/html": [
       "<div>\n",
       "<style scoped>\n",
       "    .dataframe tbody tr th:only-of-type {\n",
       "        vertical-align: middle;\n",
       "    }\n",
       "\n",
       "    .dataframe tbody tr th {\n",
       "        vertical-align: top;\n",
       "    }\n",
       "\n",
       "    .dataframe thead th {\n",
       "        text-align: right;\n",
       "    }\n",
       "</style>\n",
       "<table border=\"1\" class=\"dataframe\">\n",
       "  <thead>\n",
       "    <tr style=\"text-align: right;\">\n",
       "      <th></th>\n",
       "      <th>date</th>\n",
       "      <th>num_samples</th>\n",
       "      <th>county_counts</th>\n",
       "      <th>counties</th>\n",
       "      <th>total_samples</th>\n",
       "      <th>cum_num_samples</th>\n",
       "      <th>cum_total_samples</th>\n",
       "      <th>rel_freq</th>\n",
       "    </tr>\n",
       "  </thead>\n",
       "  <tbody>\n",
       "    <tr>\n",
       "      <th>0</th>\n",
       "      <td>2020-05-11</td>\n",
       "      <td>1</td>\n",
       "      <td>[1]</td>\n",
       "      <td>[Alameda County]</td>\n",
       "      <td>1</td>\n",
       "      <td>1</td>\n",
       "      <td>1</td>\n",
       "      <td>1.0</td>\n",
       "    </tr>\n",
       "    <tr>\n",
       "      <th>1</th>\n",
       "      <td>2020-07-06</td>\n",
       "      <td>1</td>\n",
       "      <td>[1]</td>\n",
       "      <td>[unk]</td>\n",
       "      <td>1</td>\n",
       "      <td>2</td>\n",
       "      <td>2</td>\n",
       "      <td>1.0</td>\n",
       "    </tr>\n",
       "    <tr>\n",
       "      <th>2</th>\n",
       "      <td>2020-07-13</td>\n",
       "      <td>2</td>\n",
       "      <td>[2]</td>\n",
       "      <td>[unk]</td>\n",
       "      <td>2</td>\n",
       "      <td>4</td>\n",
       "      <td>4</td>\n",
       "      <td>1.0</td>\n",
       "    </tr>\n",
       "    <tr>\n",
       "      <th>3</th>\n",
       "      <td>2020-09-21</td>\n",
       "      <td>1</td>\n",
       "      <td>[1]</td>\n",
       "      <td>[San Joaquin County]</td>\n",
       "      <td>1</td>\n",
       "      <td>5</td>\n",
       "      <td>5</td>\n",
       "      <td>1.0</td>\n",
       "    </tr>\n",
       "    <tr>\n",
       "      <th>4</th>\n",
       "      <td>2020-10-05</td>\n",
       "      <td>1</td>\n",
       "      <td>[1]</td>\n",
       "      <td>[Orange County CA]</td>\n",
       "      <td>1</td>\n",
       "      <td>6</td>\n",
       "      <td>6</td>\n",
       "      <td>1.0</td>\n",
       "    </tr>\n",
       "    <tr>\n",
       "      <th>5</th>\n",
       "      <td>2020-10-12</td>\n",
       "      <td>2</td>\n",
       "      <td>[2]</td>\n",
       "      <td>[Orange County CA]</td>\n",
       "      <td>2</td>\n",
       "      <td>8</td>\n",
       "      <td>8</td>\n",
       "      <td>1.0</td>\n",
       "    </tr>\n",
       "    <tr>\n",
       "      <th>6</th>\n",
       "      <td>2020-10-26</td>\n",
       "      <td>1</td>\n",
       "      <td>[1]</td>\n",
       "      <td>[San Diego]</td>\n",
       "      <td>1</td>\n",
       "      <td>9</td>\n",
       "      <td>9</td>\n",
       "      <td>1.0</td>\n",
       "    </tr>\n",
       "    <tr>\n",
       "      <th>7</th>\n",
       "      <td>2020-11-02</td>\n",
       "      <td>9</td>\n",
       "      <td>[6, 3]</td>\n",
       "      <td>[Orange County CA, San Luis Obispo County]</td>\n",
       "      <td>9</td>\n",
       "      <td>18</td>\n",
       "      <td>18</td>\n",
       "      <td>1.0</td>\n",
       "    </tr>\n",
       "    <tr>\n",
       "      <th>8</th>\n",
       "      <td>2020-11-09</td>\n",
       "      <td>23</td>\n",
       "      <td>[1, 5, 9, 6, 2]</td>\n",
       "      <td>[Humboldt County, Los Angeles County, Orange C...</td>\n",
       "      <td>23</td>\n",
       "      <td>41</td>\n",
       "      <td>41</td>\n",
       "      <td>1.0</td>\n",
       "    </tr>\n",
       "    <tr>\n",
       "      <th>9</th>\n",
       "      <td>2020-11-16</td>\n",
       "      <td>27</td>\n",
       "      <td>[8, 15, 1, 3]</td>\n",
       "      <td>[Los Angeles County, Orange County CA, San Die...</td>\n",
       "      <td>27</td>\n",
       "      <td>68</td>\n",
       "      <td>68</td>\n",
       "      <td>1.0</td>\n",
       "    </tr>\n",
       "    <tr>\n",
       "      <th>10</th>\n",
       "      <td>2020-11-23</td>\n",
       "      <td>18</td>\n",
       "      <td>[9, 1, 1, 7]</td>\n",
       "      <td>[Orange County CA, San Diego, San Francisco Co...</td>\n",
       "      <td>18</td>\n",
       "      <td>86</td>\n",
       "      <td>86</td>\n",
       "      <td>1.0</td>\n",
       "    </tr>\n",
       "    <tr>\n",
       "      <th>11</th>\n",
       "      <td>2020-11-30</td>\n",
       "      <td>69</td>\n",
       "      <td>[48, 9, 4, 5, 3]</td>\n",
       "      <td>[Los Angeles County, Orange County CA, San Die...</td>\n",
       "      <td>69</td>\n",
       "      <td>155</td>\n",
       "      <td>155</td>\n",
       "      <td>1.0</td>\n",
       "    </tr>\n",
       "    <tr>\n",
       "      <th>12</th>\n",
       "      <td>2020-12-07</td>\n",
       "      <td>7</td>\n",
       "      <td>[2, 1, 4]</td>\n",
       "      <td>[Los Angeles County, Monterey County CA, San D...</td>\n",
       "      <td>7</td>\n",
       "      <td>162</td>\n",
       "      <td>162</td>\n",
       "      <td>1.0</td>\n",
       "    </tr>\n",
       "    <tr>\n",
       "      <th>13</th>\n",
       "      <td>2020-12-14</td>\n",
       "      <td>42</td>\n",
       "      <td>[19, 3, 20]</td>\n",
       "      <td>[Los Angeles County, San Diego, unk]</td>\n",
       "      <td>42</td>\n",
       "      <td>204</td>\n",
       "      <td>204</td>\n",
       "      <td>1.0</td>\n",
       "    </tr>\n",
       "    <tr>\n",
       "      <th>14</th>\n",
       "      <td>2020-12-21</td>\n",
       "      <td>90</td>\n",
       "      <td>[48, 42]</td>\n",
       "      <td>[Los Angeles County, unk]</td>\n",
       "      <td>90</td>\n",
       "      <td>294</td>\n",
       "      <td>294</td>\n",
       "      <td>1.0</td>\n",
       "    </tr>\n",
       "    <tr>\n",
       "      <th>15</th>\n",
       "      <td>2020-12-28</td>\n",
       "      <td>4</td>\n",
       "      <td>[1, 3]</td>\n",
       "      <td>[Los Angeles County, unk]</td>\n",
       "      <td>4</td>\n",
       "      <td>298</td>\n",
       "      <td>298</td>\n",
       "      <td>1.0</td>\n",
       "    </tr>\n",
       "    <tr>\n",
       "      <th>16</th>\n",
       "      <td>2021-01-04</td>\n",
       "      <td>7</td>\n",
       "      <td>[7]</td>\n",
       "      <td>[unk]</td>\n",
       "      <td>7</td>\n",
       "      <td>305</td>\n",
       "      <td>305</td>\n",
       "      <td>1.0</td>\n",
       "    </tr>\n",
       "  </tbody>\n",
       "</table>\n",
       "</div>"
      ],
      "text/plain": [
       "         date  num_samples     county_counts  \\\n",
       "0  2020-05-11            1               [1]   \n",
       "1  2020-07-06            1               [1]   \n",
       "2  2020-07-13            2               [2]   \n",
       "3  2020-09-21            1               [1]   \n",
       "4  2020-10-05            1               [1]   \n",
       "5  2020-10-12            2               [2]   \n",
       "6  2020-10-26            1               [1]   \n",
       "7  2020-11-02            9            [6, 3]   \n",
       "8  2020-11-09           23   [1, 5, 9, 6, 2]   \n",
       "9  2020-11-16           27     [8, 15, 1, 3]   \n",
       "10 2020-11-23           18      [9, 1, 1, 7]   \n",
       "11 2020-11-30           69  [48, 9, 4, 5, 3]   \n",
       "12 2020-12-07            7         [2, 1, 4]   \n",
       "13 2020-12-14           42       [19, 3, 20]   \n",
       "14 2020-12-21           90          [48, 42]   \n",
       "15 2020-12-28            4            [1, 3]   \n",
       "16 2021-01-04            7               [7]   \n",
       "\n",
       "                                             counties  total_samples  \\\n",
       "0                                    [Alameda County]              1   \n",
       "1                                               [unk]              1   \n",
       "2                                               [unk]              2   \n",
       "3                                [San Joaquin County]              1   \n",
       "4                                  [Orange County CA]              1   \n",
       "5                                  [Orange County CA]              2   \n",
       "6                                         [San Diego]              1   \n",
       "7          [Orange County CA, San Luis Obispo County]              9   \n",
       "8   [Humboldt County, Los Angeles County, Orange C...             23   \n",
       "9   [Los Angeles County, Orange County CA, San Die...             27   \n",
       "10  [Orange County CA, San Diego, San Francisco Co...             18   \n",
       "11  [Los Angeles County, Orange County CA, San Die...             69   \n",
       "12  [Los Angeles County, Monterey County CA, San D...              7   \n",
       "13               [Los Angeles County, San Diego, unk]             42   \n",
       "14                          [Los Angeles County, unk]             90   \n",
       "15                          [Los Angeles County, unk]              4   \n",
       "16                                              [unk]              7   \n",
       "\n",
       "    cum_num_samples  cum_total_samples  rel_freq  \n",
       "0                 1                  1       1.0  \n",
       "1                 2                  2       1.0  \n",
       "2                 4                  4       1.0  \n",
       "3                 5                  5       1.0  \n",
       "4                 6                  6       1.0  \n",
       "5                 8                  8       1.0  \n",
       "6                 9                  9       1.0  \n",
       "7                18                 18       1.0  \n",
       "8                41                 41       1.0  \n",
       "9                68                 68       1.0  \n",
       "10               86                 86       1.0  \n",
       "11              155                155       1.0  \n",
       "12              162                162       1.0  \n",
       "13              204                204       1.0  \n",
       "14              294                294       1.0  \n",
       "15              298                298       1.0  \n",
       "16              305                305       1.0  "
      ]
     },
     "execution_count": 21,
     "metadata": {},
     "output_type": "execute_result"
    }
   ],
   "source": [
    "df"
   ]
  },
  {
   "cell_type": "code",
   "execution_count": null,
   "metadata": {},
   "outputs": [],
   "source": []
  },
  {
   "cell_type": "code",
   "execution_count": 18,
   "metadata": {},
   "outputs": [],
   "source": [
    "gisaid['tmp'] = gisaid['date'].str.split('-')\n",
    "gisaid = gisaid[gisaid['tmp'].str.len()>=3]\n",
    "gisaid['date'] = pd.to_datetime(gisaid['date'], errors='coerce')"
   ]
  },
  {
   "cell_type": "code",
   "execution_count": 47,
   "metadata": {},
   "outputs": [
    {
     "data": {
      "text/html": [
       "<div>\n",
       "<style scoped>\n",
       "    .dataframe tbody tr th:only-of-type {\n",
       "        vertical-align: middle;\n",
       "    }\n",
       "\n",
       "    .dataframe tbody tr th {\n",
       "        vertical-align: top;\n",
       "    }\n",
       "\n",
       "    .dataframe thead th {\n",
       "        text-align: right;\n",
       "    }\n",
       "</style>\n",
       "<table border=\"1\" class=\"dataframe\">\n",
       "  <thead>\n",
       "    <tr style=\"text-align: right;\">\n",
       "      <th></th>\n",
       "      <th>idx</th>\n",
       "      <th>replacements</th>\n",
       "      <th>pos</th>\n",
       "      <th>gene</th>\n",
       "      <th>codon_num</th>\n",
       "      <th>ref_codon</th>\n",
       "      <th>alt_codon</th>\n",
       "      <th>ref_aa</th>\n",
       "      <th>alt_aa</th>\n",
       "      <th>strain</th>\n",
       "      <th>...</th>\n",
       "      <th>GISAID_clade</th>\n",
       "      <th>originating_lab</th>\n",
       "      <th>submitting_lab</th>\n",
       "      <th>authors</th>\n",
       "      <th>url</th>\n",
       "      <th>title</th>\n",
       "      <th>paper_url</th>\n",
       "      <th>date_submitted</th>\n",
       "      <th>purpose_of_sequencing</th>\n",
       "      <th>mutation</th>\n",
       "    </tr>\n",
       "  </thead>\n",
       "  <tbody>\n",
       "  </tbody>\n",
       "</table>\n",
       "<p>0 rows × 38 columns</p>\n",
       "</div>"
      ],
      "text/plain": [
       "Empty DataFrame\n",
       "Columns: [idx, replacements, pos, gene, codon_num, ref_codon, alt_codon, ref_aa, alt_aa, strain, virus, gisaid_epi_isl, genbank_accession, date, region, country, division, location, region_exposure, country_exposure, division_exposure, segment, length, host, age, sex, Nextstrain_clade, pangolin_lineage, GISAID_clade, originating_lab, submitting_lab, authors, url, title, paper_url, date_submitted, purpose_of_sequencing, mutation]\n",
       "Index: []\n",
       "\n",
       "[0 rows x 38 columns]"
      ]
     },
     "execution_count": 47,
     "metadata": {},
     "output_type": "execute_result"
    }
   ],
   "source": [
    "gisaid.loc[(gisaid['pos']>=13468)&(gisaid['pos']<=21555)\n",
    "           &(gisaid['ref_aa']=='D')&(gisaid['alt_aa']=='Y')\n",
    "           &(gisaid['division']=='California')]#.value_counts()"
   ]
  },
  {
   "cell_type": "code",
   "execution_count": 48,
   "metadata": {},
   "outputs": [
    {
     "data": {
      "text/html": [
       "<div>\n",
       "<style scoped>\n",
       "    .dataframe tbody tr th:only-of-type {\n",
       "        vertical-align: middle;\n",
       "    }\n",
       "\n",
       "    .dataframe tbody tr th {\n",
       "        vertical-align: top;\n",
       "    }\n",
       "\n",
       "    .dataframe thead th {\n",
       "        text-align: right;\n",
       "    }\n",
       "</style>\n",
       "<table border=\"1\" class=\"dataframe\">\n",
       "  <thead>\n",
       "    <tr style=\"text-align: right;\">\n",
       "      <th></th>\n",
       "      <th>idx</th>\n",
       "      <th>replacements</th>\n",
       "      <th>pos</th>\n",
       "      <th>gene</th>\n",
       "      <th>codon_num</th>\n",
       "      <th>ref_codon</th>\n",
       "      <th>alt_codon</th>\n",
       "      <th>ref_aa</th>\n",
       "      <th>alt_aa</th>\n",
       "      <th>strain</th>\n",
       "      <th>...</th>\n",
       "      <th>GISAID_clade</th>\n",
       "      <th>originating_lab</th>\n",
       "      <th>submitting_lab</th>\n",
       "      <th>authors</th>\n",
       "      <th>url</th>\n",
       "      <th>title</th>\n",
       "      <th>paper_url</th>\n",
       "      <th>date_submitted</th>\n",
       "      <th>purpose_of_sequencing</th>\n",
       "      <th>mutation</th>\n",
       "    </tr>\n",
       "  </thead>\n",
       "  <tbody>\n",
       "    <tr>\n",
       "      <th>3808399</th>\n",
       "      <td>USA/CA-ALSR-5104/2020</td>\n",
       "      <td>27357:t</td>\n",
       "      <td>27357</td>\n",
       "      <td>ORF6</td>\n",
       "      <td>53</td>\n",
       "      <td>GAT</td>\n",
       "      <td>TAT</td>\n",
       "      <td>D</td>\n",
       "      <td>Y</td>\n",
       "      <td>USA/CA-ALSR-5104/2020</td>\n",
       "      <td>...</td>\n",
       "      <td>GH</td>\n",
       "      <td>San Diego County Public Health Laboratory</td>\n",
       "      <td>Andersen lab at Scripps Research</td>\n",
       "      <td>SEARCH Alliance San Diego with Tracy Basler et al</td>\n",
       "      <td>https://www.gisaid.org</td>\n",
       "      <td>?</td>\n",
       "      <td>?</td>\n",
       "      <td>2020-12-23</td>\n",
       "      <td>?</td>\n",
       "      <td>ORF6:D53Y</td>\n",
       "    </tr>\n",
       "    <tr>\n",
       "      <th>3983750</th>\n",
       "      <td>USA/CA-CZB-15979/2020</td>\n",
       "      <td>29473:t</td>\n",
       "      <td>29473</td>\n",
       "      <td>N</td>\n",
       "      <td>401</td>\n",
       "      <td>GAT</td>\n",
       "      <td>TAT</td>\n",
       "      <td>D</td>\n",
       "      <td>Y</td>\n",
       "      <td>USA/CA-CZB-15979/2020</td>\n",
       "      <td>...</td>\n",
       "      <td>GH</td>\n",
       "      <td>Santa Clara County Public Health Laboratory</td>\n",
       "      <td>Chan-Zuckerberg Biohub</td>\n",
       "      <td>CZB Cliahub Consortium et al</td>\n",
       "      <td>https://www.gisaid.org</td>\n",
       "      <td>?</td>\n",
       "      <td>?</td>\n",
       "      <td>2020-12-29</td>\n",
       "      <td>?</td>\n",
       "      <td>N:D401Y</td>\n",
       "    </tr>\n",
       "    <tr>\n",
       "      <th>4254693</th>\n",
       "      <td>USA/CA-CHLA-PLM78606325/2020</td>\n",
       "      <td>27146:t</td>\n",
       "      <td>27146</td>\n",
       "      <td>M</td>\n",
       "      <td>209</td>\n",
       "      <td>GAC</td>\n",
       "      <td>TAC</td>\n",
       "      <td>D</td>\n",
       "      <td>Y</td>\n",
       "      <td>USA/CA-CHLA-PLM78606325/2020</td>\n",
       "      <td>...</td>\n",
       "      <td>GH</td>\n",
       "      <td>Clinical virology Laboratory, Children's Hospi...</td>\n",
       "      <td>Center for Personalized Medicine, Children's H...</td>\n",
       "      <td>Gai et al et al</td>\n",
       "      <td>https://www.gisaid.org</td>\n",
       "      <td>?</td>\n",
       "      <td>?</td>\n",
       "      <td>2020-12-31</td>\n",
       "      <td>?</td>\n",
       "      <td>M:D209Y</td>\n",
       "    </tr>\n",
       "    <tr>\n",
       "      <th>4256209</th>\n",
       "      <td>USA/CA-CHLA-PLM08108247/2020</td>\n",
       "      <td>24940:t</td>\n",
       "      <td>24940</td>\n",
       "      <td>S</td>\n",
       "      <td>1127</td>\n",
       "      <td>GAT</td>\n",
       "      <td>TAT</td>\n",
       "      <td>D</td>\n",
       "      <td>Y</td>\n",
       "      <td>USA/CA-CHLA-PLM08108247/2020</td>\n",
       "      <td>...</td>\n",
       "      <td>GH</td>\n",
       "      <td>Clinical virology Laboratory, Children's Hospi...</td>\n",
       "      <td>Center for Personalized Medicine, Children's H...</td>\n",
       "      <td>Gai et al et al</td>\n",
       "      <td>https://www.gisaid.org</td>\n",
       "      <td>?</td>\n",
       "      <td>?</td>\n",
       "      <td>2020-12-31</td>\n",
       "      <td>?</td>\n",
       "      <td>S:D1127Y</td>\n",
       "    </tr>\n",
       "    <tr>\n",
       "      <th>4256588</th>\n",
       "      <td>USA/CA-CHLA-PLM66857248/2020</td>\n",
       "      <td>29473:t</td>\n",
       "      <td>29473</td>\n",
       "      <td>N</td>\n",
       "      <td>401</td>\n",
       "      <td>GAT</td>\n",
       "      <td>TAT</td>\n",
       "      <td>D</td>\n",
       "      <td>Y</td>\n",
       "      <td>USA/CA-CHLA-PLM66857248/2020</td>\n",
       "      <td>...</td>\n",
       "      <td>G</td>\n",
       "      <td>Clinical virology Laboratory, Children's Hospi...</td>\n",
       "      <td>Center for Personalized Medicine, Children's H...</td>\n",
       "      <td>Gai et al et al</td>\n",
       "      <td>https://www.gisaid.org</td>\n",
       "      <td>?</td>\n",
       "      <td>?</td>\n",
       "      <td>2020-12-31</td>\n",
       "      <td>?</td>\n",
       "      <td>N:D401Y</td>\n",
       "    </tr>\n",
       "    <tr>\n",
       "      <th>4968537</th>\n",
       "      <td>USA/CA-LACPHL-AF00109/2021</td>\n",
       "      <td>29473:t</td>\n",
       "      <td>29473</td>\n",
       "      <td>N</td>\n",
       "      <td>401</td>\n",
       "      <td>GAT</td>\n",
       "      <td>TAT</td>\n",
       "      <td>D</td>\n",
       "      <td>Y</td>\n",
       "      <td>USA/CA-LACPHL-AF00109/2021</td>\n",
       "      <td>...</td>\n",
       "      <td>G</td>\n",
       "      <td>USC Clinical Lab</td>\n",
       "      <td>Los Angeles County PHL</td>\n",
       "      <td>P. Hemarajata et al. et al</td>\n",
       "      <td>https://www.gisaid.org</td>\n",
       "      <td>?</td>\n",
       "      <td>?</td>\n",
       "      <td>2021-01-11</td>\n",
       "      <td>?</td>\n",
       "      <td>N:D401Y</td>\n",
       "    </tr>\n",
       "    <tr>\n",
       "      <th>5262929</th>\n",
       "      <td>USA/CA-SC20028/2020</td>\n",
       "      <td>29473:t</td>\n",
       "      <td>29473</td>\n",
       "      <td>N</td>\n",
       "      <td>401</td>\n",
       "      <td>GAT</td>\n",
       "      <td>TAT</td>\n",
       "      <td>D</td>\n",
       "      <td>Y</td>\n",
       "      <td>USA/CA-SC20028/2020</td>\n",
       "      <td>...</td>\n",
       "      <td>GH</td>\n",
       "      <td>Santa Clara County Public Health Laboratory</td>\n",
       "      <td>Santa Clara County Public Health Laboratory</td>\n",
       "      <td>Santa Clara County Public Health Department et al</td>\n",
       "      <td>https://www.gisaid.org</td>\n",
       "      <td>?</td>\n",
       "      <td>?</td>\n",
       "      <td>2021-01-13</td>\n",
       "      <td>?</td>\n",
       "      <td>N:D401Y</td>\n",
       "    </tr>\n",
       "    <tr>\n",
       "      <th>5521733</th>\n",
       "      <td>USA/CA-CSMC219/2020</td>\n",
       "      <td>29473:t</td>\n",
       "      <td>29473</td>\n",
       "      <td>N</td>\n",
       "      <td>401</td>\n",
       "      <td>GAT</td>\n",
       "      <td>TAT</td>\n",
       "      <td>D</td>\n",
       "      <td>Y</td>\n",
       "      <td>USA/CA-CSMC219/2020</td>\n",
       "      <td>...</td>\n",
       "      <td>G</td>\n",
       "      <td>Cedars-Sinai Medical Center, Department of Pat...</td>\n",
       "      <td>Cedars-Sinai Medical Center, Molecular Patholo...</td>\n",
       "      <td>Wenjuan Zhang et al</td>\n",
       "      <td>https://www.gisaid.org</td>\n",
       "      <td>?</td>\n",
       "      <td>?</td>\n",
       "      <td>2021-01-14</td>\n",
       "      <td>?</td>\n",
       "      <td>N:D401Y</td>\n",
       "    </tr>\n",
       "    <tr>\n",
       "      <th>5522759</th>\n",
       "      <td>USA/CA-CSMC269/2020</td>\n",
       "      <td>29473:t</td>\n",
       "      <td>29473</td>\n",
       "      <td>N</td>\n",
       "      <td>401</td>\n",
       "      <td>GAT</td>\n",
       "      <td>TAT</td>\n",
       "      <td>D</td>\n",
       "      <td>Y</td>\n",
       "      <td>USA/CA-CSMC269/2020</td>\n",
       "      <td>...</td>\n",
       "      <td>G</td>\n",
       "      <td>Cedars-Sinai Medical Center, Department of Pat...</td>\n",
       "      <td>Cedars-Sinai Medical Center, Molecular Patholo...</td>\n",
       "      <td>Wenjuan Zhang et al</td>\n",
       "      <td>https://www.gisaid.org</td>\n",
       "      <td>?</td>\n",
       "      <td>?</td>\n",
       "      <td>2021-01-14</td>\n",
       "      <td>?</td>\n",
       "      <td>N:D401Y</td>\n",
       "    </tr>\n",
       "  </tbody>\n",
       "</table>\n",
       "<p>9 rows × 38 columns</p>\n",
       "</div>"
      ],
      "text/plain": [
       "                                  idx replacements    pos  gene  codon_num  \\\n",
       "3808399         USA/CA-ALSR-5104/2020      27357:t  27357  ORF6         53   \n",
       "3983750         USA/CA-CZB-15979/2020      29473:t  29473     N        401   \n",
       "4254693  USA/CA-CHLA-PLM78606325/2020      27146:t  27146     M        209   \n",
       "4256209  USA/CA-CHLA-PLM08108247/2020      24940:t  24940     S       1127   \n",
       "4256588  USA/CA-CHLA-PLM66857248/2020      29473:t  29473     N        401   \n",
       "4968537    USA/CA-LACPHL-AF00109/2021      29473:t  29473     N        401   \n",
       "5262929           USA/CA-SC20028/2020      29473:t  29473     N        401   \n",
       "5521733           USA/CA-CSMC219/2020      29473:t  29473     N        401   \n",
       "5522759           USA/CA-CSMC269/2020      29473:t  29473     N        401   \n",
       "\n",
       "        ref_codon alt_codon ref_aa alt_aa                        strain  ...  \\\n",
       "3808399       GAT       TAT      D      Y         USA/CA-ALSR-5104/2020  ...   \n",
       "3983750       GAT       TAT      D      Y         USA/CA-CZB-15979/2020  ...   \n",
       "4254693       GAC       TAC      D      Y  USA/CA-CHLA-PLM78606325/2020  ...   \n",
       "4256209       GAT       TAT      D      Y  USA/CA-CHLA-PLM08108247/2020  ...   \n",
       "4256588       GAT       TAT      D      Y  USA/CA-CHLA-PLM66857248/2020  ...   \n",
       "4968537       GAT       TAT      D      Y    USA/CA-LACPHL-AF00109/2021  ...   \n",
       "5262929       GAT       TAT      D      Y           USA/CA-SC20028/2020  ...   \n",
       "5521733       GAT       TAT      D      Y           USA/CA-CSMC219/2020  ...   \n",
       "5522759       GAT       TAT      D      Y           USA/CA-CSMC269/2020  ...   \n",
       "\n",
       "        GISAID_clade                                    originating_lab  \\\n",
       "3808399           GH          San Diego County Public Health Laboratory   \n",
       "3983750           GH        Santa Clara County Public Health Laboratory   \n",
       "4254693           GH  Clinical virology Laboratory, Children's Hospi...   \n",
       "4256209           GH  Clinical virology Laboratory, Children's Hospi...   \n",
       "4256588            G  Clinical virology Laboratory, Children's Hospi...   \n",
       "4968537            G                                   USC Clinical Lab   \n",
       "5262929           GH        Santa Clara County Public Health Laboratory   \n",
       "5521733            G  Cedars-Sinai Medical Center, Department of Pat...   \n",
       "5522759            G  Cedars-Sinai Medical Center, Department of Pat...   \n",
       "\n",
       "                                            submitting_lab  \\\n",
       "3808399                   Andersen lab at Scripps Research   \n",
       "3983750                             Chan-Zuckerberg Biohub   \n",
       "4254693  Center for Personalized Medicine, Children's H...   \n",
       "4256209  Center for Personalized Medicine, Children's H...   \n",
       "4256588  Center for Personalized Medicine, Children's H...   \n",
       "4968537                             Los Angeles County PHL   \n",
       "5262929        Santa Clara County Public Health Laboratory   \n",
       "5521733  Cedars-Sinai Medical Center, Molecular Patholo...   \n",
       "5522759  Cedars-Sinai Medical Center, Molecular Patholo...   \n",
       "\n",
       "                                                   authors  \\\n",
       "3808399  SEARCH Alliance San Diego with Tracy Basler et al   \n",
       "3983750                       CZB Cliahub Consortium et al   \n",
       "4254693                                    Gai et al et al   \n",
       "4256209                                    Gai et al et al   \n",
       "4256588                                    Gai et al et al   \n",
       "4968537                         P. Hemarajata et al. et al   \n",
       "5262929  Santa Clara County Public Health Department et al   \n",
       "5521733                                Wenjuan Zhang et al   \n",
       "5522759                                Wenjuan Zhang et al   \n",
       "\n",
       "                            url title paper_url date_submitted  \\\n",
       "3808399  https://www.gisaid.org     ?         ?     2020-12-23   \n",
       "3983750  https://www.gisaid.org     ?         ?     2020-12-29   \n",
       "4254693  https://www.gisaid.org     ?         ?     2020-12-31   \n",
       "4256209  https://www.gisaid.org     ?         ?     2020-12-31   \n",
       "4256588  https://www.gisaid.org     ?         ?     2020-12-31   \n",
       "4968537  https://www.gisaid.org     ?         ?     2021-01-11   \n",
       "5262929  https://www.gisaid.org     ?         ?     2021-01-13   \n",
       "5521733  https://www.gisaid.org     ?         ?     2021-01-14   \n",
       "5522759  https://www.gisaid.org     ?         ?     2021-01-14   \n",
       "\n",
       "        purpose_of_sequencing   mutation  \n",
       "3808399                     ?  ORF6:D53Y  \n",
       "3983750                     ?    N:D401Y  \n",
       "4254693                     ?    M:D209Y  \n",
       "4256209                     ?   S:D1127Y  \n",
       "4256588                     ?    N:D401Y  \n",
       "4968537                     ?    N:D401Y  \n",
       "5262929                     ?    N:D401Y  \n",
       "5521733                     ?    N:D401Y  \n",
       "5522759                     ?    N:D401Y  \n",
       "\n",
       "[9 rows x 38 columns]"
      ]
     },
     "execution_count": 48,
     "metadata": {},
     "output_type": "execute_result"
    }
   ],
   "source": [
    "sois = gisaid.loc[(gisaid['mutation']=='S:L452R')&(gisaid['division']=='California'), 'strain'].unique()\n",
    "gisaid.loc[gisaid['strain'].isin(sois)\n",
    "          &(gisaid['ref_aa']=='D')&(gisaid['alt_aa']=='Y')]"
   ]
  },
  {
   "cell_type": "code",
   "execution_count": 109,
   "metadata": {},
   "outputs": [
    {
     "data": {
      "application/vnd.plotly.v1+json": {
       "config": {
        "plotlyServerURL": "https://plot.ly"
       },
       "data": [
        {
         "hovertemplate": "<b>Number of cases: %{text[0]}</b><br><b>Country(s) Reported: %{text[1]}</b><br><b>Cases Per Country: %{text[2]}</b><br><b>State(s) Reported: %{text[3]}</b><br><b>County(s) Reported: %{text[4]}</b><br><b>Date: %{text[5]}</b><br>",
         "line": {
          "color": "rgba(220,20,60,.6)"
         },
         "mode": "markers+lines",
         "name": "B.1.1.7 samples",
         "text": [
          [
           1,
           [
            "United States of America"
           ],
           [
            1
           ],
           [
            "California"
           ],
           [
            "unk"
           ],
           "2020-07-13T00:00:00"
          ],
          [
           0,
           null,
           null,
           null,
           null,
           "2020-07-20T00:00:00"
          ],
          [
           0,
           null,
           null,
           null,
           null,
           "2020-07-27T00:00:00"
          ],
          [
           0,
           null,
           null,
           null,
           null,
           "2020-08-03T00:00:00"
          ],
          [
           0,
           null,
           null,
           null,
           null,
           "2020-08-10T00:00:00"
          ],
          [
           0,
           null,
           null,
           null,
           null,
           "2020-08-17T00:00:00"
          ],
          [
           0,
           null,
           null,
           null,
           null,
           "2020-08-24T00:00:00"
          ],
          [
           0,
           null,
           null,
           null,
           null,
           "2020-08-31T00:00:00"
          ],
          [
           0,
           null,
           null,
           null,
           null,
           "2020-09-07T00:00:00"
          ],
          [
           0,
           null,
           null,
           null,
           null,
           "2020-09-14T00:00:00"
          ],
          [
           1,
           [
            "United States of America"
           ],
           [
            1
           ],
           [
            "California"
           ],
           [
            "San Joaquin County"
           ],
           "2020-09-21T00:00:00"
          ],
          [
           2,
           [
            "United States of America"
           ],
           [
            2
           ],
           [
            "California"
           ],
           [
            "San Diego"
           ],
           "2020-09-28T00:00:00"
          ],
          [
           1,
           [
            "United States of America"
           ],
           [
            1
           ],
           [
            "California"
           ],
           [
            "Orange County CA"
           ],
           "2020-10-05T00:00:00"
          ],
          [
           2,
           [
            "United States of America"
           ],
           [
            2
           ],
           [
            "California"
           ],
           [
            "Orange County CA"
           ],
           "2020-10-12T00:00:00"
          ],
          [
           1,
           [
            "United States of America"
           ],
           [
            1
           ],
           [
            "Utah"
           ],
           [
            "unk"
           ],
           "2020-10-19T00:00:00"
          ],
          [
           1,
           [
            "United States of America"
           ],
           [
            1
           ],
           [
            "California"
           ],
           [
            "San Diego"
           ],
           "2020-10-26T00:00:00"
          ],
          [
           9,
           [
            "United States of America"
           ],
           [
            9
           ],
           [
            "California"
           ],
           [
            "Orange County CA",
            "San Luis Obispo County"
           ],
           "2020-11-02T00:00:00"
          ],
          [
           23,
           [
            "United States of America"
           ],
           [
            23
           ],
           [
            "California"
           ],
           [
            "Los Angeles County",
            "Orange County CA",
            "San Luis Obispo County",
            "Humboldt County",
            "Santa Clara County",
            "unk"
           ],
           "2020-11-09T00:00:00"
          ],
          [
           34,
           [
            "United States of America"
           ],
           [
            34
           ],
           [
            "California",
            "Texas"
           ],
           [
            "Los Angeles County",
            "Orange County CA",
            "Houston",
            "San Diego",
            "Santa Clara County"
           ],
           "2020-11-16T00:00:00"
          ],
          [
           38,
           [
            "United States of America"
           ],
           [
            38
           ],
           [
            "California",
            "New York",
            "Connecticut",
            "Utah"
           ],
           [
            "Santa Clara County",
            "New York City",
            "Orange County CA",
            "San Diego",
            "unk",
            "Los Angeles County",
            "San Francisco County"
           ],
           "2020-11-23T00:00:00"
          ],
          [
           86,
           [
            "New Zealand",
            "United States of America"
           ],
           [
            1,
            85
           ],
           [
            "California",
            "Auckland",
            "New York"
           ],
           [
            "Los Angeles County",
            "Orange County CA",
            "San Diego",
            "Santa Clara County",
            "unk",
            "New York City"
           ],
           "2020-11-30T00:00:00"
          ],
          [
           27,
           [
            "Australia",
            "United Kingdom",
            "United States of America"
           ],
           [
            2,
            2,
            23
           ],
           [
            "California",
            "New South Wales",
            "New York",
            "Washington",
            "England",
            "New Mexico"
           ],
           [
            "Los Angeles County",
            "Sydney",
            "Monterey County CA",
            "San Diego",
            "New York City",
            "unk"
           ],
           "2020-12-07T00:00:00"
          ],
          [
           61,
           [
            "Australia",
            "United States of America"
           ],
           [
            2,
            59
           ],
           [
            "California",
            "New York",
            "Utah",
            "Washington",
            "Washington DC",
            "New South Wales"
           ],
           [
            "San Diego",
            "New York City",
            "unk",
            "Los Angeles County",
            "Mono County",
            "Sydney",
            "Westchester County"
           ],
           "2020-12-14T00:00:00"
          ],
          [
           130,
           [
            "Australia",
            "Singapore",
            "United States of America"
           ],
           [
            1,
            1,
            128
           ],
           [
            "New South Wales",
            "Arizona",
            "California",
            "Maryland",
            "New York",
            "Singapore",
            "New Mexico"
           ],
           [
            "Sydney",
            "Maricopa County",
            "Los Angeles County",
            "unk",
            "Bronx",
            "New York County",
            "Nassau County"
           ],
           "2020-12-21T00:00:00"
          ],
          [
           19,
           [
            "Australia",
            "Israel",
            "New Zealand",
            "United States of America"
           ],
           [
            1,
            1,
            1,
            16
           ],
           [
            "Central District",
            "Auckland",
            "California",
            "Maryland",
            "Nevada",
            "New Mexico",
            "Wyoming",
            "New South Wales"
           ],
           [
            "Rishon-Letsion",
            "Counties Manukau",
            "Los Angeles County",
            "unk",
            "Sydney"
           ],
           "2020-12-28T00:00:00"
          ],
          [
           17,
           [
            "Australia",
            "Denmark",
            "United States of America"
           ],
           [
            1,
            1,
            15
           ],
           [
            "Hovedstaden",
            "Wyoming",
            "Arizona",
            "California",
            "New South Wales"
           ],
           [
            "unk",
            "Maricopa County",
            "Sydney"
           ],
           "2021-01-04T00:00:00"
          ],
          [
           0,
           null,
           null,
           null,
           null,
           "2021-01-11T00:00:00"
          ]
         ],
         "type": "scatter",
         "x": [
          "2020-07-13T00:00:00",
          "2020-07-20T00:00:00",
          "2020-07-27T00:00:00",
          "2020-08-03T00:00:00",
          "2020-08-10T00:00:00",
          "2020-08-17T00:00:00",
          "2020-08-24T00:00:00",
          "2020-08-31T00:00:00",
          "2020-09-07T00:00:00",
          "2020-09-14T00:00:00",
          "2020-09-21T00:00:00",
          "2020-09-28T00:00:00",
          "2020-10-05T00:00:00",
          "2020-10-12T00:00:00",
          "2020-10-19T00:00:00",
          "2020-10-26T00:00:00",
          "2020-11-02T00:00:00",
          "2020-11-09T00:00:00",
          "2020-11-16T00:00:00",
          "2020-11-23T00:00:00",
          "2020-11-30T00:00:00",
          "2020-12-07T00:00:00",
          "2020-12-14T00:00:00",
          "2020-12-21T00:00:00",
          "2020-12-28T00:00:00",
          "2021-01-04T00:00:00",
          "2021-01-11T00:00:00"
         ],
         "y": [
          0.0002058460271716756,
          0.00010639429726566656,
          7.105300554213443e-05,
          5.370280865689276e-05,
          4.1893590280687055e-05,
          3.418920304967691e-05,
          2.8928488775746356e-05,
          2.4922739507526666e-05,
          2.1808823850129764e-05,
          1.9069776311523867e-05,
          3.277882487912808e-05,
          5.8834777236824684e-05,
          6.445126195570909e-05,
          7.974663355282644e-05,
          8.050476487577108e-05,
          8.13228517213337e-05,
          0.00014483541064862126,
          0.00029804959254439847,
          0.0005078823338209004,
          0.0007268891075988858,
          0.0012233205468673157,
          0.0013105399888662089,
          0.0015694981433985377,
          0.002194413454859284,
          0.0022348545037956646,
          0.002304428776363581,
          0.002304405331162885
         ]
        }
       ],
       "layout": {
        "annotations": [
         {
          "arrowhead": 1,
          "arrowsize": 2,
          "ax": 100,
          "ay": -250,
          "showarrow": true,
          "text": "On Earth, CAVUI1 1st detected in <br> United States of America <br> on week of <br> 2020-07-13",
          "x": "2020-07-13T00:00:00",
          "y": 0.0002058460271716756,
          "yshift": 10
         }
        ],
        "autosize": true,
        "template": {
         "data": {
          "bar": [
           {
            "error_x": {
             "color": "#2a3f5f"
            },
            "error_y": {
             "color": "#2a3f5f"
            },
            "marker": {
             "line": {
              "color": "white",
              "width": 0.5
             }
            },
            "type": "bar"
           }
          ],
          "barpolar": [
           {
            "marker": {
             "line": {
              "color": "white",
              "width": 0.5
             }
            },
            "type": "barpolar"
           }
          ],
          "carpet": [
           {
            "aaxis": {
             "endlinecolor": "#2a3f5f",
             "gridcolor": "#C8D4E3",
             "linecolor": "#C8D4E3",
             "minorgridcolor": "#C8D4E3",
             "startlinecolor": "#2a3f5f"
            },
            "baxis": {
             "endlinecolor": "#2a3f5f",
             "gridcolor": "#C8D4E3",
             "linecolor": "#C8D4E3",
             "minorgridcolor": "#C8D4E3",
             "startlinecolor": "#2a3f5f"
            },
            "type": "carpet"
           }
          ],
          "choropleth": [
           {
            "colorbar": {
             "outlinewidth": 0,
             "ticks": ""
            },
            "type": "choropleth"
           }
          ],
          "contour": [
           {
            "colorbar": {
             "outlinewidth": 0,
             "ticks": ""
            },
            "colorscale": [
             [
              0,
              "#0d0887"
             ],
             [
              0.1111111111111111,
              "#46039f"
             ],
             [
              0.2222222222222222,
              "#7201a8"
             ],
             [
              0.3333333333333333,
              "#9c179e"
             ],
             [
              0.4444444444444444,
              "#bd3786"
             ],
             [
              0.5555555555555556,
              "#d8576b"
             ],
             [
              0.6666666666666666,
              "#ed7953"
             ],
             [
              0.7777777777777778,
              "#fb9f3a"
             ],
             [
              0.8888888888888888,
              "#fdca26"
             ],
             [
              1,
              "#f0f921"
             ]
            ],
            "type": "contour"
           }
          ],
          "contourcarpet": [
           {
            "colorbar": {
             "outlinewidth": 0,
             "ticks": ""
            },
            "type": "contourcarpet"
           }
          ],
          "heatmap": [
           {
            "colorbar": {
             "outlinewidth": 0,
             "ticks": ""
            },
            "colorscale": [
             [
              0,
              "#0d0887"
             ],
             [
              0.1111111111111111,
              "#46039f"
             ],
             [
              0.2222222222222222,
              "#7201a8"
             ],
             [
              0.3333333333333333,
              "#9c179e"
             ],
             [
              0.4444444444444444,
              "#bd3786"
             ],
             [
              0.5555555555555556,
              "#d8576b"
             ],
             [
              0.6666666666666666,
              "#ed7953"
             ],
             [
              0.7777777777777778,
              "#fb9f3a"
             ],
             [
              0.8888888888888888,
              "#fdca26"
             ],
             [
              1,
              "#f0f921"
             ]
            ],
            "type": "heatmap"
           }
          ],
          "heatmapgl": [
           {
            "colorbar": {
             "outlinewidth": 0,
             "ticks": ""
            },
            "colorscale": [
             [
              0,
              "#0d0887"
             ],
             [
              0.1111111111111111,
              "#46039f"
             ],
             [
              0.2222222222222222,
              "#7201a8"
             ],
             [
              0.3333333333333333,
              "#9c179e"
             ],
             [
              0.4444444444444444,
              "#bd3786"
             ],
             [
              0.5555555555555556,
              "#d8576b"
             ],
             [
              0.6666666666666666,
              "#ed7953"
             ],
             [
              0.7777777777777778,
              "#fb9f3a"
             ],
             [
              0.8888888888888888,
              "#fdca26"
             ],
             [
              1,
              "#f0f921"
             ]
            ],
            "type": "heatmapgl"
           }
          ],
          "histogram": [
           {
            "marker": {
             "colorbar": {
              "outlinewidth": 0,
              "ticks": ""
             }
            },
            "type": "histogram"
           }
          ],
          "histogram2d": [
           {
            "colorbar": {
             "outlinewidth": 0,
             "ticks": ""
            },
            "colorscale": [
             [
              0,
              "#0d0887"
             ],
             [
              0.1111111111111111,
              "#46039f"
             ],
             [
              0.2222222222222222,
              "#7201a8"
             ],
             [
              0.3333333333333333,
              "#9c179e"
             ],
             [
              0.4444444444444444,
              "#bd3786"
             ],
             [
              0.5555555555555556,
              "#d8576b"
             ],
             [
              0.6666666666666666,
              "#ed7953"
             ],
             [
              0.7777777777777778,
              "#fb9f3a"
             ],
             [
              0.8888888888888888,
              "#fdca26"
             ],
             [
              1,
              "#f0f921"
             ]
            ],
            "type": "histogram2d"
           }
          ],
          "histogram2dcontour": [
           {
            "colorbar": {
             "outlinewidth": 0,
             "ticks": ""
            },
            "colorscale": [
             [
              0,
              "#0d0887"
             ],
             [
              0.1111111111111111,
              "#46039f"
             ],
             [
              0.2222222222222222,
              "#7201a8"
             ],
             [
              0.3333333333333333,
              "#9c179e"
             ],
             [
              0.4444444444444444,
              "#bd3786"
             ],
             [
              0.5555555555555556,
              "#d8576b"
             ],
             [
              0.6666666666666666,
              "#ed7953"
             ],
             [
              0.7777777777777778,
              "#fb9f3a"
             ],
             [
              0.8888888888888888,
              "#fdca26"
             ],
             [
              1,
              "#f0f921"
             ]
            ],
            "type": "histogram2dcontour"
           }
          ],
          "mesh3d": [
           {
            "colorbar": {
             "outlinewidth": 0,
             "ticks": ""
            },
            "type": "mesh3d"
           }
          ],
          "parcoords": [
           {
            "line": {
             "colorbar": {
              "outlinewidth": 0,
              "ticks": ""
             }
            },
            "type": "parcoords"
           }
          ],
          "pie": [
           {
            "automargin": true,
            "type": "pie"
           }
          ],
          "scatter": [
           {
            "marker": {
             "colorbar": {
              "outlinewidth": 0,
              "ticks": ""
             }
            },
            "type": "scatter"
           }
          ],
          "scatter3d": [
           {
            "line": {
             "colorbar": {
              "outlinewidth": 0,
              "ticks": ""
             }
            },
            "marker": {
             "colorbar": {
              "outlinewidth": 0,
              "ticks": ""
             }
            },
            "type": "scatter3d"
           }
          ],
          "scattercarpet": [
           {
            "marker": {
             "colorbar": {
              "outlinewidth": 0,
              "ticks": ""
             }
            },
            "type": "scattercarpet"
           }
          ],
          "scattergeo": [
           {
            "marker": {
             "colorbar": {
              "outlinewidth": 0,
              "ticks": ""
             }
            },
            "type": "scattergeo"
           }
          ],
          "scattergl": [
           {
            "marker": {
             "colorbar": {
              "outlinewidth": 0,
              "ticks": ""
             }
            },
            "type": "scattergl"
           }
          ],
          "scattermapbox": [
           {
            "marker": {
             "colorbar": {
              "outlinewidth": 0,
              "ticks": ""
             }
            },
            "type": "scattermapbox"
           }
          ],
          "scatterpolar": [
           {
            "marker": {
             "colorbar": {
              "outlinewidth": 0,
              "ticks": ""
             }
            },
            "type": "scatterpolar"
           }
          ],
          "scatterpolargl": [
           {
            "marker": {
             "colorbar": {
              "outlinewidth": 0,
              "ticks": ""
             }
            },
            "type": "scatterpolargl"
           }
          ],
          "scatterternary": [
           {
            "marker": {
             "colorbar": {
              "outlinewidth": 0,
              "ticks": ""
             }
            },
            "type": "scatterternary"
           }
          ],
          "surface": [
           {
            "colorbar": {
             "outlinewidth": 0,
             "ticks": ""
            },
            "colorscale": [
             [
              0,
              "#0d0887"
             ],
             [
              0.1111111111111111,
              "#46039f"
             ],
             [
              0.2222222222222222,
              "#7201a8"
             ],
             [
              0.3333333333333333,
              "#9c179e"
             ],
             [
              0.4444444444444444,
              "#bd3786"
             ],
             [
              0.5555555555555556,
              "#d8576b"
             ],
             [
              0.6666666666666666,
              "#ed7953"
             ],
             [
              0.7777777777777778,
              "#fb9f3a"
             ],
             [
              0.8888888888888888,
              "#fdca26"
             ],
             [
              1,
              "#f0f921"
             ]
            ],
            "type": "surface"
           }
          ],
          "table": [
           {
            "cells": {
             "fill": {
              "color": "#EBF0F8"
             },
             "line": {
              "color": "white"
             }
            },
            "header": {
             "fill": {
              "color": "#C8D4E3"
             },
             "line": {
              "color": "white"
             }
            },
            "type": "table"
           }
          ]
         },
         "layout": {
          "annotationdefaults": {
           "arrowcolor": "#2a3f5f",
           "arrowhead": 0,
           "arrowwidth": 1
          },
          "autotypenumbers": "strict",
          "coloraxis": {
           "colorbar": {
            "outlinewidth": 0,
            "ticks": ""
           }
          },
          "colorscale": {
           "diverging": [
            [
             0,
             "#8e0152"
            ],
            [
             0.1,
             "#c51b7d"
            ],
            [
             0.2,
             "#de77ae"
            ],
            [
             0.3,
             "#f1b6da"
            ],
            [
             0.4,
             "#fde0ef"
            ],
            [
             0.5,
             "#f7f7f7"
            ],
            [
             0.6,
             "#e6f5d0"
            ],
            [
             0.7,
             "#b8e186"
            ],
            [
             0.8,
             "#7fbc41"
            ],
            [
             0.9,
             "#4d9221"
            ],
            [
             1,
             "#276419"
            ]
           ],
           "sequential": [
            [
             0,
             "#0d0887"
            ],
            [
             0.1111111111111111,
             "#46039f"
            ],
            [
             0.2222222222222222,
             "#7201a8"
            ],
            [
             0.3333333333333333,
             "#9c179e"
            ],
            [
             0.4444444444444444,
             "#bd3786"
            ],
            [
             0.5555555555555556,
             "#d8576b"
            ],
            [
             0.6666666666666666,
             "#ed7953"
            ],
            [
             0.7777777777777778,
             "#fb9f3a"
            ],
            [
             0.8888888888888888,
             "#fdca26"
            ],
            [
             1,
             "#f0f921"
            ]
           ],
           "sequentialminus": [
            [
             0,
             "#0d0887"
            ],
            [
             0.1111111111111111,
             "#46039f"
            ],
            [
             0.2222222222222222,
             "#7201a8"
            ],
            [
             0.3333333333333333,
             "#9c179e"
            ],
            [
             0.4444444444444444,
             "#bd3786"
            ],
            [
             0.5555555555555556,
             "#d8576b"
            ],
            [
             0.6666666666666666,
             "#ed7953"
            ],
            [
             0.7777777777777778,
             "#fb9f3a"
            ],
            [
             0.8888888888888888,
             "#fdca26"
            ],
            [
             1,
             "#f0f921"
            ]
           ]
          },
          "colorway": [
           "#636efa",
           "#EF553B",
           "#00cc96",
           "#ab63fa",
           "#FFA15A",
           "#19d3f3",
           "#FF6692",
           "#B6E880",
           "#FF97FF",
           "#FECB52"
          ],
          "font": {
           "color": "#2a3f5f"
          },
          "geo": {
           "bgcolor": "white",
           "lakecolor": "white",
           "landcolor": "white",
           "showlakes": true,
           "showland": true,
           "subunitcolor": "#C8D4E3"
          },
          "hoverlabel": {
           "align": "left"
          },
          "hovermode": "closest",
          "mapbox": {
           "style": "light"
          },
          "paper_bgcolor": "white",
          "plot_bgcolor": "white",
          "polar": {
           "angularaxis": {
            "gridcolor": "#EBF0F8",
            "linecolor": "#EBF0F8",
            "ticks": ""
           },
           "bgcolor": "white",
           "radialaxis": {
            "gridcolor": "#EBF0F8",
            "linecolor": "#EBF0F8",
            "ticks": ""
           }
          },
          "scene": {
           "xaxis": {
            "backgroundcolor": "white",
            "gridcolor": "#DFE8F3",
            "gridwidth": 2,
            "linecolor": "#EBF0F8",
            "showbackground": true,
            "ticks": "",
            "zerolinecolor": "#EBF0F8"
           },
           "yaxis": {
            "backgroundcolor": "white",
            "gridcolor": "#DFE8F3",
            "gridwidth": 2,
            "linecolor": "#EBF0F8",
            "showbackground": true,
            "ticks": "",
            "zerolinecolor": "#EBF0F8"
           },
           "zaxis": {
            "backgroundcolor": "white",
            "gridcolor": "#DFE8F3",
            "gridwidth": 2,
            "linecolor": "#EBF0F8",
            "showbackground": true,
            "ticks": "",
            "zerolinecolor": "#EBF0F8"
           }
          },
          "shapedefaults": {
           "line": {
            "color": "#2a3f5f"
           }
          },
          "ternary": {
           "aaxis": {
            "gridcolor": "#DFE8F3",
            "linecolor": "#A2B1C6",
            "ticks": ""
           },
           "baxis": {
            "gridcolor": "#DFE8F3",
            "linecolor": "#A2B1C6",
            "ticks": ""
           },
           "bgcolor": "white",
           "caxis": {
            "gridcolor": "#DFE8F3",
            "linecolor": "#A2B1C6",
            "ticks": ""
           }
          },
          "title": {
           "x": 0.05
          },
          "xaxis": {
           "automargin": true,
           "gridcolor": "#EBF0F8",
           "linecolor": "#EBF0F8",
           "ticks": "",
           "title": {
            "standoff": 15
           },
           "zerolinecolor": "#EBF0F8",
           "zerolinewidth": 2
          },
          "yaxis": {
           "automargin": true,
           "gridcolor": "#EBF0F8",
           "linecolor": "#EBF0F8",
           "ticks": "",
           "title": {
            "standoff": 15
           },
           "zerolinecolor": "#EBF0F8",
           "zerolinewidth": 2
          }
         }
        },
        "xaxis": {
         "title": {
          "text": "Collection Date"
         }
        },
        "yaxis": {
         "side": "right",
         "title": {
          "text": "Relative cumulative number of CAVUI1 cases on Earth"
         }
        }
       }
      },
      "text/html": [
       "<div>                            <div id=\"6a34ecf0-6367-4995-880f-9caa75515824\" class=\"plotly-graph-div\" style=\"height:525px; width:100%;\"></div>            <script type=\"text/javascript\">                require([\"plotly\"], function(Plotly) {                    window.PLOTLYENV=window.PLOTLYENV || {};                                    if (document.getElementById(\"6a34ecf0-6367-4995-880f-9caa75515824\")) {                    Plotly.newPlot(                        \"6a34ecf0-6367-4995-880f-9caa75515824\",                        [{\"hovertemplate\": \"<b>Number of cases: %{text[0]}</b><br><b>Country(s) Reported: %{text[1]}</b><br><b>Cases Per Country: %{text[2]}</b><br><b>State(s) Reported: %{text[3]}</b><br><b>County(s) Reported: %{text[4]}</b><br><b>Date: %{text[5]}</b><br>\", \"line\": {\"color\": \"rgba(220,20,60,.6)\"}, \"mode\": \"markers+lines\", \"name\": \"B.1.1.7 samples\", \"text\": [[1.0, [\"United States of America\"], [1], [\"California\"], [\"unk\"], \"2020-07-13T00:00:00\"], [0.0, null, null, null, null, \"2020-07-20T00:00:00\"], [0.0, null, null, null, null, \"2020-07-27T00:00:00\"], [0.0, null, null, null, null, \"2020-08-03T00:00:00\"], [0.0, null, null, null, null, \"2020-08-10T00:00:00\"], [0.0, null, null, null, null, \"2020-08-17T00:00:00\"], [0.0, null, null, null, null, \"2020-08-24T00:00:00\"], [0.0, null, null, null, null, \"2020-08-31T00:00:00\"], [0.0, null, null, null, null, \"2020-09-07T00:00:00\"], [0.0, null, null, null, null, \"2020-09-14T00:00:00\"], [1.0, [\"United States of America\"], [1], [\"California\"], [\"San Joaquin County\"], \"2020-09-21T00:00:00\"], [2.0, [\"United States of America\"], [2], [\"California\"], [\"San Diego\"], \"2020-09-28T00:00:00\"], [1.0, [\"United States of America\"], [1], [\"California\"], [\"Orange County CA\"], \"2020-10-05T00:00:00\"], [2.0, [\"United States of America\"], [2], [\"California\"], [\"Orange County CA\"], \"2020-10-12T00:00:00\"], [1.0, [\"United States of America\"], [1], [\"Utah\"], [\"unk\"], \"2020-10-19T00:00:00\"], [1.0, [\"United States of America\"], [1], [\"California\"], [\"San Diego\"], \"2020-10-26T00:00:00\"], [9.0, [\"United States of America\"], [9], [\"California\"], [\"Orange County CA\", \"San Luis Obispo County\"], \"2020-11-02T00:00:00\"], [23.0, [\"United States of America\"], [23], [\"California\"], [\"Los Angeles County\", \"Orange County CA\", \"San Luis Obispo County\", \"Humboldt County\", \"Santa Clara County\", \"unk\"], \"2020-11-09T00:00:00\"], [34.0, [\"United States of America\"], [34], [\"California\", \"Texas\"], [\"Los Angeles County\", \"Orange County CA\", \"Houston\", \"San Diego\", \"Santa Clara County\"], \"2020-11-16T00:00:00\"], [38.0, [\"United States of America\"], [38], [\"California\", \"New York\", \"Connecticut\", \"Utah\"], [\"Santa Clara County\", \"New York City\", \"Orange County CA\", \"San Diego\", \"unk\", \"Los Angeles County\", \"San Francisco County\"], \"2020-11-23T00:00:00\"], [86.0, [\"New Zealand\", \"United States of America\"], [1, 85], [\"California\", \"Auckland\", \"New York\"], [\"Los Angeles County\", \"Orange County CA\", \"San Diego\", \"Santa Clara County\", \"unk\", \"New York City\"], \"2020-11-30T00:00:00\"], [27.0, [\"Australia\", \"United Kingdom\", \"United States of America\"], [2, 2, 23], [\"California\", \"New South Wales\", \"New York\", \"Washington\", \"England\", \"New Mexico\"], [\"Los Angeles County\", \"Sydney\", \"Monterey County CA\", \"San Diego\", \"New York City\", \"unk\"], \"2020-12-07T00:00:00\"], [61.0, [\"Australia\", \"United States of America\"], [2, 59], [\"California\", \"New York\", \"Utah\", \"Washington\", \"Washington DC\", \"New South Wales\"], [\"San Diego\", \"New York City\", \"unk\", \"Los Angeles County\", \"Mono County\", \"Sydney\", \"Westchester County\"], \"2020-12-14T00:00:00\"], [130.0, [\"Australia\", \"Singapore\", \"United States of America\"], [1, 1, 128], [\"New South Wales\", \"Arizona\", \"California\", \"Maryland\", \"New York\", \"Singapore\", \"New Mexico\"], [\"Sydney\", \"Maricopa County\", \"Los Angeles County\", \"unk\", \"Bronx\", \"New York County\", \"Nassau County\"], \"2020-12-21T00:00:00\"], [19.0, [\"Australia\", \"Israel\", \"New Zealand\", \"United States of America\"], [1, 1, 1, 16], [\"Central District\", \"Auckland\", \"California\", \"Maryland\", \"Nevada\", \"New Mexico\", \"Wyoming\", \"New South Wales\"], [\"Rishon-Letsion\", \"Counties Manukau\", \"Los Angeles County\", \"unk\", \"Sydney\"], \"2020-12-28T00:00:00\"], [17.0, [\"Australia\", \"Denmark\", \"United States of America\"], [1, 1, 15], [\"Hovedstaden\", \"Wyoming\", \"Arizona\", \"California\", \"New South Wales\"], [\"unk\", \"Maricopa County\", \"Sydney\"], \"2021-01-04T00:00:00\"], [0.0, null, null, null, null, \"2021-01-11T00:00:00\"]], \"type\": \"scatter\", \"x\": [\"2020-07-13T00:00:00\", \"2020-07-20T00:00:00\", \"2020-07-27T00:00:00\", \"2020-08-03T00:00:00\", \"2020-08-10T00:00:00\", \"2020-08-17T00:00:00\", \"2020-08-24T00:00:00\", \"2020-08-31T00:00:00\", \"2020-09-07T00:00:00\", \"2020-09-14T00:00:00\", \"2020-09-21T00:00:00\", \"2020-09-28T00:00:00\", \"2020-10-05T00:00:00\", \"2020-10-12T00:00:00\", \"2020-10-19T00:00:00\", \"2020-10-26T00:00:00\", \"2020-11-02T00:00:00\", \"2020-11-09T00:00:00\", \"2020-11-16T00:00:00\", \"2020-11-23T00:00:00\", \"2020-11-30T00:00:00\", \"2020-12-07T00:00:00\", \"2020-12-14T00:00:00\", \"2020-12-21T00:00:00\", \"2020-12-28T00:00:00\", \"2021-01-04T00:00:00\", \"2021-01-11T00:00:00\"], \"y\": [0.0002058460271716756, 0.00010639429726566656, 7.105300554213443e-05, 5.370280865689276e-05, 4.1893590280687055e-05, 3.418920304967691e-05, 2.8928488775746356e-05, 2.4922739507526666e-05, 2.1808823850129764e-05, 1.9069776311523867e-05, 3.277882487912808e-05, 5.8834777236824684e-05, 6.445126195570909e-05, 7.974663355282644e-05, 8.050476487577108e-05, 8.13228517213337e-05, 0.00014483541064862126, 0.00029804959254439847, 0.0005078823338209004, 0.0007268891075988858, 0.0012233205468673157, 0.0013105399888662089, 0.0015694981433985377, 0.002194413454859284, 0.0022348545037956646, 0.002304428776363581, 0.002304405331162885]}],                        {\"annotations\": [{\"arrowhead\": 1, \"arrowsize\": 2, \"ax\": 100, \"ay\": -250, \"showarrow\": true, \"text\": \"On Earth, CAVUI1 1st detected in <br> United States of America <br> on week of <br> 2020-07-13\", \"x\": \"2020-07-13T00:00:00\", \"y\": 0.0002058460271716756, \"yshift\": 10}], \"autosize\": true, \"template\": {\"data\": {\"bar\": [{\"error_x\": {\"color\": \"#2a3f5f\"}, \"error_y\": {\"color\": \"#2a3f5f\"}, \"marker\": {\"line\": {\"color\": \"white\", \"width\": 0.5}}, \"type\": \"bar\"}], \"barpolar\": [{\"marker\": {\"line\": {\"color\": \"white\", \"width\": 0.5}}, \"type\": \"barpolar\"}], \"carpet\": [{\"aaxis\": {\"endlinecolor\": \"#2a3f5f\", \"gridcolor\": \"#C8D4E3\", \"linecolor\": \"#C8D4E3\", \"minorgridcolor\": \"#C8D4E3\", \"startlinecolor\": \"#2a3f5f\"}, \"baxis\": {\"endlinecolor\": \"#2a3f5f\", \"gridcolor\": \"#C8D4E3\", \"linecolor\": \"#C8D4E3\", \"minorgridcolor\": \"#C8D4E3\", \"startlinecolor\": \"#2a3f5f\"}, \"type\": \"carpet\"}], \"choropleth\": [{\"colorbar\": {\"outlinewidth\": 0, \"ticks\": \"\"}, \"type\": \"choropleth\"}], \"contour\": [{\"colorbar\": {\"outlinewidth\": 0, \"ticks\": \"\"}, \"colorscale\": [[0.0, \"#0d0887\"], [0.1111111111111111, \"#46039f\"], [0.2222222222222222, \"#7201a8\"], [0.3333333333333333, \"#9c179e\"], [0.4444444444444444, \"#bd3786\"], [0.5555555555555556, \"#d8576b\"], [0.6666666666666666, \"#ed7953\"], [0.7777777777777778, \"#fb9f3a\"], [0.8888888888888888, \"#fdca26\"], [1.0, \"#f0f921\"]], \"type\": \"contour\"}], \"contourcarpet\": [{\"colorbar\": {\"outlinewidth\": 0, \"ticks\": \"\"}, \"type\": \"contourcarpet\"}], \"heatmap\": [{\"colorbar\": {\"outlinewidth\": 0, \"ticks\": \"\"}, \"colorscale\": [[0.0, \"#0d0887\"], [0.1111111111111111, \"#46039f\"], [0.2222222222222222, \"#7201a8\"], [0.3333333333333333, \"#9c179e\"], [0.4444444444444444, \"#bd3786\"], [0.5555555555555556, \"#d8576b\"], [0.6666666666666666, \"#ed7953\"], [0.7777777777777778, \"#fb9f3a\"], [0.8888888888888888, \"#fdca26\"], [1.0, \"#f0f921\"]], \"type\": \"heatmap\"}], \"heatmapgl\": [{\"colorbar\": {\"outlinewidth\": 0, \"ticks\": \"\"}, \"colorscale\": [[0.0, \"#0d0887\"], [0.1111111111111111, \"#46039f\"], [0.2222222222222222, \"#7201a8\"], [0.3333333333333333, \"#9c179e\"], [0.4444444444444444, \"#bd3786\"], [0.5555555555555556, \"#d8576b\"], [0.6666666666666666, \"#ed7953\"], [0.7777777777777778, \"#fb9f3a\"], [0.8888888888888888, \"#fdca26\"], [1.0, \"#f0f921\"]], \"type\": \"heatmapgl\"}], \"histogram\": [{\"marker\": {\"colorbar\": {\"outlinewidth\": 0, \"ticks\": \"\"}}, \"type\": \"histogram\"}], \"histogram2d\": [{\"colorbar\": {\"outlinewidth\": 0, \"ticks\": \"\"}, \"colorscale\": [[0.0, \"#0d0887\"], [0.1111111111111111, \"#46039f\"], [0.2222222222222222, \"#7201a8\"], [0.3333333333333333, \"#9c179e\"], [0.4444444444444444, \"#bd3786\"], [0.5555555555555556, \"#d8576b\"], [0.6666666666666666, \"#ed7953\"], [0.7777777777777778, \"#fb9f3a\"], [0.8888888888888888, \"#fdca26\"], [1.0, \"#f0f921\"]], \"type\": \"histogram2d\"}], \"histogram2dcontour\": [{\"colorbar\": {\"outlinewidth\": 0, \"ticks\": \"\"}, \"colorscale\": [[0.0, \"#0d0887\"], [0.1111111111111111, \"#46039f\"], [0.2222222222222222, \"#7201a8\"], [0.3333333333333333, \"#9c179e\"], [0.4444444444444444, \"#bd3786\"], [0.5555555555555556, \"#d8576b\"], [0.6666666666666666, \"#ed7953\"], [0.7777777777777778, \"#fb9f3a\"], [0.8888888888888888, \"#fdca26\"], [1.0, \"#f0f921\"]], \"type\": \"histogram2dcontour\"}], \"mesh3d\": [{\"colorbar\": {\"outlinewidth\": 0, \"ticks\": \"\"}, \"type\": \"mesh3d\"}], \"parcoords\": [{\"line\": {\"colorbar\": {\"outlinewidth\": 0, \"ticks\": \"\"}}, \"type\": \"parcoords\"}], \"pie\": [{\"automargin\": true, \"type\": \"pie\"}], \"scatter\": [{\"marker\": {\"colorbar\": {\"outlinewidth\": 0, \"ticks\": \"\"}}, \"type\": \"scatter\"}], \"scatter3d\": [{\"line\": {\"colorbar\": {\"outlinewidth\": 0, \"ticks\": \"\"}}, \"marker\": {\"colorbar\": {\"outlinewidth\": 0, \"ticks\": \"\"}}, \"type\": \"scatter3d\"}], \"scattercarpet\": [{\"marker\": {\"colorbar\": {\"outlinewidth\": 0, \"ticks\": \"\"}}, \"type\": \"scattercarpet\"}], \"scattergeo\": [{\"marker\": {\"colorbar\": {\"outlinewidth\": 0, \"ticks\": \"\"}}, \"type\": \"scattergeo\"}], \"scattergl\": [{\"marker\": {\"colorbar\": {\"outlinewidth\": 0, \"ticks\": \"\"}}, \"type\": \"scattergl\"}], \"scattermapbox\": [{\"marker\": {\"colorbar\": {\"outlinewidth\": 0, \"ticks\": \"\"}}, \"type\": \"scattermapbox\"}], \"scatterpolar\": [{\"marker\": {\"colorbar\": {\"outlinewidth\": 0, \"ticks\": \"\"}}, \"type\": \"scatterpolar\"}], \"scatterpolargl\": [{\"marker\": {\"colorbar\": {\"outlinewidth\": 0, \"ticks\": \"\"}}, \"type\": \"scatterpolargl\"}], \"scatterternary\": [{\"marker\": {\"colorbar\": {\"outlinewidth\": 0, \"ticks\": \"\"}}, \"type\": \"scatterternary\"}], \"surface\": [{\"colorbar\": {\"outlinewidth\": 0, \"ticks\": \"\"}, \"colorscale\": [[0.0, \"#0d0887\"], [0.1111111111111111, \"#46039f\"], [0.2222222222222222, \"#7201a8\"], [0.3333333333333333, \"#9c179e\"], [0.4444444444444444, \"#bd3786\"], [0.5555555555555556, \"#d8576b\"], [0.6666666666666666, \"#ed7953\"], [0.7777777777777778, \"#fb9f3a\"], [0.8888888888888888, \"#fdca26\"], [1.0, \"#f0f921\"]], \"type\": \"surface\"}], \"table\": [{\"cells\": {\"fill\": {\"color\": \"#EBF0F8\"}, \"line\": {\"color\": \"white\"}}, \"header\": {\"fill\": {\"color\": \"#C8D4E3\"}, \"line\": {\"color\": \"white\"}}, \"type\": \"table\"}]}, \"layout\": {\"annotationdefaults\": {\"arrowcolor\": \"#2a3f5f\", \"arrowhead\": 0, \"arrowwidth\": 1}, \"autotypenumbers\": \"strict\", \"coloraxis\": {\"colorbar\": {\"outlinewidth\": 0, \"ticks\": \"\"}}, \"colorscale\": {\"diverging\": [[0, \"#8e0152\"], [0.1, \"#c51b7d\"], [0.2, \"#de77ae\"], [0.3, \"#f1b6da\"], [0.4, \"#fde0ef\"], [0.5, \"#f7f7f7\"], [0.6, \"#e6f5d0\"], [0.7, \"#b8e186\"], [0.8, \"#7fbc41\"], [0.9, \"#4d9221\"], [1, \"#276419\"]], \"sequential\": [[0.0, \"#0d0887\"], [0.1111111111111111, \"#46039f\"], [0.2222222222222222, \"#7201a8\"], [0.3333333333333333, \"#9c179e\"], [0.4444444444444444, \"#bd3786\"], [0.5555555555555556, \"#d8576b\"], [0.6666666666666666, \"#ed7953\"], [0.7777777777777778, \"#fb9f3a\"], [0.8888888888888888, \"#fdca26\"], [1.0, \"#f0f921\"]], \"sequentialminus\": [[0.0, \"#0d0887\"], [0.1111111111111111, \"#46039f\"], [0.2222222222222222, \"#7201a8\"], [0.3333333333333333, \"#9c179e\"], [0.4444444444444444, \"#bd3786\"], [0.5555555555555556, \"#d8576b\"], [0.6666666666666666, \"#ed7953\"], [0.7777777777777778, \"#fb9f3a\"], [0.8888888888888888, \"#fdca26\"], [1.0, \"#f0f921\"]]}, \"colorway\": [\"#636efa\", \"#EF553B\", \"#00cc96\", \"#ab63fa\", \"#FFA15A\", \"#19d3f3\", \"#FF6692\", \"#B6E880\", \"#FF97FF\", \"#FECB52\"], \"font\": {\"color\": \"#2a3f5f\"}, \"geo\": {\"bgcolor\": \"white\", \"lakecolor\": \"white\", \"landcolor\": \"white\", \"showlakes\": true, \"showland\": true, \"subunitcolor\": \"#C8D4E3\"}, \"hoverlabel\": {\"align\": \"left\"}, \"hovermode\": \"closest\", \"mapbox\": {\"style\": \"light\"}, \"paper_bgcolor\": \"white\", \"plot_bgcolor\": \"white\", \"polar\": {\"angularaxis\": {\"gridcolor\": \"#EBF0F8\", \"linecolor\": \"#EBF0F8\", \"ticks\": \"\"}, \"bgcolor\": \"white\", \"radialaxis\": {\"gridcolor\": \"#EBF0F8\", \"linecolor\": \"#EBF0F8\", \"ticks\": \"\"}}, \"scene\": {\"xaxis\": {\"backgroundcolor\": \"white\", \"gridcolor\": \"#DFE8F3\", \"gridwidth\": 2, \"linecolor\": \"#EBF0F8\", \"showbackground\": true, \"ticks\": \"\", \"zerolinecolor\": \"#EBF0F8\"}, \"yaxis\": {\"backgroundcolor\": \"white\", \"gridcolor\": \"#DFE8F3\", \"gridwidth\": 2, \"linecolor\": \"#EBF0F8\", \"showbackground\": true, \"ticks\": \"\", \"zerolinecolor\": \"#EBF0F8\"}, \"zaxis\": {\"backgroundcolor\": \"white\", \"gridcolor\": \"#DFE8F3\", \"gridwidth\": 2, \"linecolor\": \"#EBF0F8\", \"showbackground\": true, \"ticks\": \"\", \"zerolinecolor\": \"#EBF0F8\"}}, \"shapedefaults\": {\"line\": {\"color\": \"#2a3f5f\"}}, \"ternary\": {\"aaxis\": {\"gridcolor\": \"#DFE8F3\", \"linecolor\": \"#A2B1C6\", \"ticks\": \"\"}, \"baxis\": {\"gridcolor\": \"#DFE8F3\", \"linecolor\": \"#A2B1C6\", \"ticks\": \"\"}, \"bgcolor\": \"white\", \"caxis\": {\"gridcolor\": \"#DFE8F3\", \"linecolor\": \"#A2B1C6\", \"ticks\": \"\"}}, \"title\": {\"x\": 0.05}, \"xaxis\": {\"automargin\": true, \"gridcolor\": \"#EBF0F8\", \"linecolor\": \"#EBF0F8\", \"ticks\": \"\", \"title\": {\"standoff\": 15}, \"zerolinecolor\": \"#EBF0F8\", \"zerolinewidth\": 2}, \"yaxis\": {\"automargin\": true, \"gridcolor\": \"#EBF0F8\", \"linecolor\": \"#EBF0F8\", \"ticks\": \"\", \"title\": {\"standoff\": 15}, \"zerolinecolor\": \"#EBF0F8\", \"zerolinewidth\": 2}}}, \"xaxis\": {\"title\": {\"text\": \"Collection Date\"}}, \"yaxis\": {\"side\": \"right\", \"title\": {\"text\": \"Relative cumulative number of CAVUI1 cases on Earth\"}}},                        {\"responsive\": true}                    ).then(function(){\n",
       "                            \n",
       "var gd = document.getElementById('6a34ecf0-6367-4995-880f-9caa75515824');\n",
       "var x = new MutationObserver(function (mutations, observer) {{\n",
       "        var display = window.getComputedStyle(gd).display;\n",
       "        if (!display || display === 'none') {{\n",
       "            console.log([gd, 'removed!']);\n",
       "            Plotly.purge(gd);\n",
       "            observer.disconnect();\n",
       "        }}\n",
       "}});\n",
       "\n",
       "// Listen for the removal of the full notebook cells\n",
       "var notebookContainer = gd.closest('#notebook-container');\n",
       "if (notebookContainer) {{\n",
       "    x.observe(notebookContainer, {childList: true});\n",
       "}}\n",
       "\n",
       "// Listen for the clearing of the current output cell\n",
       "var outputEl = gd.closest('.output');\n",
       "if (outputEl) {{\n",
       "    x.observe(outputEl, {childList: true});\n",
       "}}\n",
       "\n",
       "                        })                };                });            </script>        </div>"
      ]
     },
     "metadata": {},
     "output_type": "display_data"
    }
   ],
   "source": [
    "def world_time_relative(data, feature, values, res, strain='B117', vocs=['B.1.1.7', 'B.1.1.70']):\n",
    "    if len(values)==1:\n",
    "        results = (data.loc[(data[feature]==values[0])]\n",
    "                            .drop_duplicates(subset=['date', 'strain']))\n",
    "    else:\n",
    "        # results = (data.groupby(['date', 'country', 'division', 'purpose_of_sequencing',\n",
    "        #                          'location', 'pangolin_lineage', 'strain'])\n",
    "        #                .agg(mutations=('mutation', 'unique')).reset_index())\n",
    "        # results['is_vui'] = results['mutations'].apply(is_vui, args=(set(values),))\n",
    "        res = res.copy()\n",
    "        res.loc[:, 'tmp'] = res['date'].str.split('-')\n",
    "        res = res[res['tmp'].str.len()>=3]\n",
    "        res.loc[:, 'date'] = pd.to_datetime(res['date'], errors='coerce')\n",
    "        res.loc[:, 'weekday'] = res['date'].dt.weekday\n",
    "        res.loc[:, 'date'] = res['date'] - res['weekday'] * dt.timedelta(days=1)\n",
    "        total_samples = (res[(~res['pangolin_lineage'].isin(vocs))]\n",
    "                         .groupby('date')\n",
    "                         .agg(total_samples=('strain', 'nunique'))\n",
    "                         .reset_index())\n",
    "        results = res[(res['is_vui']==True)].drop_duplicates(subset=['date', 'strain'])\n",
    "        \n",
    "    b117_world_time = (results.groupby('date')\n",
    "                              .agg(num_samples=('strain', 'nunique'),\n",
    "                                   country_counts=('country', \n",
    "                                                    lambda x: np.unique(x, \n",
    "                                                                        return_counts=True)),\n",
    "                                   divisions=('division', 'unique'),\n",
    "                                   locations=('location', 'unique'))\n",
    "                              .reset_index())\n",
    "    b117_world_time.loc[:, 'countries'] = b117_world_time['country_counts'].apply(lambda x: list(x[0]))\n",
    "    b117_world_time.loc[:, 'country_counts'] = b117_world_time['country_counts'].apply(lambda x: list(x[1]))\n",
    "    b117_world_time = pd.merge(b117_world_time, total_samples, on='date', how='right')\n",
    "    b117_world_time.loc[:, ['num_samples', 'total_samples']] = b117_world_time[['num_samples', 'total_samples']].fillna(0)\n",
    "    first_detected = b117_world_time.loc[b117_world_time['num_samples']>0]['date'].min()\n",
    "    first_countries = b117_world_time.loc[b117_world_time['date']==first_detected, 'countries'].values[0]\n",
    "    b117_world_time = b117_world_time[b117_world_time['date']>=first_detected]\n",
    "    b117_world_time['cum_num_samples'] = b117_world_time['num_samples'].cumsum()\n",
    "    b117_world_time.loc[:, 'cum_total_samples'] = b117_world_time['total_samples'].cumsum()\n",
    "    b117_world_time.loc[:, 'rel_freq'] = b117_world_time['cum_num_samples'] / b117_world_time['cum_total_samples']\n",
    "    fig = go.Figure(data=go.Scatter(y=b117_world_time['rel_freq'], \n",
    "                                    x=b117_world_time['date'], \n",
    "                                    name='B.1.1.7 samples', mode='markers+lines', \n",
    "                                    line_color='rgba(220,20,60,.6)',\n",
    "                                    text=b117_world_time[['num_samples', 'countries', 'country_counts',\n",
    "                                                          'divisions', 'locations', \n",
    "                                                          'date']],\n",
    "                                    hovertemplate=\"<b>Number of cases: %{text[0]}</b><br>\" +\n",
    "                                                  \"<b>Country(s) Reported: %{text[1]}</b><br>\" +\n",
    "                                                  \"<b>Cases Per Country: %{text[2]}</b><br>\" +\n",
    "                                                  \"<b>State(s) Reported: %{text[3]}</b><br>\" +\n",
    "                                                  \"<b>County(s) Reported: %{text[4]}</b><br>\" +\n",
    "                                                  \"<b>Date: %{text[5]}</b><br>\"))\n",
    "    fig.add_annotation(x=first_detected, \n",
    "                       y=b117_world_time.loc[b117_world_time['date']==first_detected, 'rel_freq'].values[0],\n",
    "            text=f\"On Earth, {strain} 1st detected in <br> {', '.join(first_countries)} <br> on week of <br> {first_detected.date()}\",\n",
    "            showarrow=True,\n",
    "            arrowhead=1, yshift=10, arrowsize=2, ay=-250, ax=100)\n",
    "    fig.update_layout(yaxis_title=f'Relative cumulative number of {strain} cases on Earth', \n",
    "                      xaxis_title='Collection Date',\n",
    "                      template='plotly_white', autosize=True)#, height=850,\n",
    "    fig.update_yaxes(side = 'right')\n",
    "    return fig\n",
    "\n",
    "fig = world_time_relative(gisaid, feature, values, res.copy(), strain=input_params['strain'])\n",
    "fig.show()"
   ]
  },
  {
   "cell_type": "code",
   "execution_count": 101,
   "metadata": {},
   "outputs": [
    {
     "data": {
      "text/html": [
       "<div>\n",
       "<style scoped>\n",
       "    .dataframe tbody tr th:only-of-type {\n",
       "        vertical-align: middle;\n",
       "    }\n",
       "\n",
       "    .dataframe tbody tr th {\n",
       "        vertical-align: top;\n",
       "    }\n",
       "\n",
       "    .dataframe thead th {\n",
       "        text-align: right;\n",
       "    }\n",
       "</style>\n",
       "<table border=\"1\" class=\"dataframe\">\n",
       "  <thead>\n",
       "    <tr style=\"text-align: right;\">\n",
       "      <th></th>\n",
       "      <th>date</th>\n",
       "      <th>num_samples</th>\n",
       "      <th>country_counts</th>\n",
       "      <th>divisions</th>\n",
       "      <th>locations</th>\n",
       "      <th>countries</th>\n",
       "      <th>total_samples</th>\n",
       "      <th>cum_num_samples</th>\n",
       "      <th>cum_total_samples</th>\n",
       "      <th>rel_freq</th>\n",
       "    </tr>\n",
       "  </thead>\n",
       "  <tbody>\n",
       "    <tr>\n",
       "      <th>29</th>\n",
       "      <td>2020-07-13</td>\n",
       "      <td>1.0</td>\n",
       "      <td>[1]</td>\n",
       "      <td>[California]</td>\n",
       "      <td>[unk]</td>\n",
       "      <td>[United States of America]</td>\n",
       "      <td>4858</td>\n",
       "      <td>1.0</td>\n",
       "      <td>4858</td>\n",
       "      <td>0.000206</td>\n",
       "    </tr>\n",
       "    <tr>\n",
       "      <th>30</th>\n",
       "      <td>2020-07-20</td>\n",
       "      <td>0.0</td>\n",
       "      <td>NaN</td>\n",
       "      <td>NaN</td>\n",
       "      <td>NaN</td>\n",
       "      <td>NaN</td>\n",
       "      <td>4541</td>\n",
       "      <td>1.0</td>\n",
       "      <td>9399</td>\n",
       "      <td>0.000106</td>\n",
       "    </tr>\n",
       "    <tr>\n",
       "      <th>31</th>\n",
       "      <td>2020-07-27</td>\n",
       "      <td>0.0</td>\n",
       "      <td>NaN</td>\n",
       "      <td>NaN</td>\n",
       "      <td>NaN</td>\n",
       "      <td>NaN</td>\n",
       "      <td>4675</td>\n",
       "      <td>1.0</td>\n",
       "      <td>14074</td>\n",
       "      <td>0.000071</td>\n",
       "    </tr>\n",
       "    <tr>\n",
       "      <th>32</th>\n",
       "      <td>2020-08-03</td>\n",
       "      <td>0.0</td>\n",
       "      <td>NaN</td>\n",
       "      <td>NaN</td>\n",
       "      <td>NaN</td>\n",
       "      <td>NaN</td>\n",
       "      <td>4547</td>\n",
       "      <td>1.0</td>\n",
       "      <td>18621</td>\n",
       "      <td>0.000054</td>\n",
       "    </tr>\n",
       "    <tr>\n",
       "      <th>33</th>\n",
       "      <td>2020-08-10</td>\n",
       "      <td>0.0</td>\n",
       "      <td>NaN</td>\n",
       "      <td>NaN</td>\n",
       "      <td>NaN</td>\n",
       "      <td>NaN</td>\n",
       "      <td>5249</td>\n",
       "      <td>1.0</td>\n",
       "      <td>23870</td>\n",
       "      <td>0.000042</td>\n",
       "    </tr>\n",
       "    <tr>\n",
       "      <th>34</th>\n",
       "      <td>2020-08-17</td>\n",
       "      <td>0.0</td>\n",
       "      <td>NaN</td>\n",
       "      <td>NaN</td>\n",
       "      <td>NaN</td>\n",
       "      <td>NaN</td>\n",
       "      <td>5379</td>\n",
       "      <td>1.0</td>\n",
       "      <td>29249</td>\n",
       "      <td>0.000034</td>\n",
       "    </tr>\n",
       "    <tr>\n",
       "      <th>35</th>\n",
       "      <td>2020-08-24</td>\n",
       "      <td>0.0</td>\n",
       "      <td>NaN</td>\n",
       "      <td>NaN</td>\n",
       "      <td>NaN</td>\n",
       "      <td>NaN</td>\n",
       "      <td>5319</td>\n",
       "      <td>1.0</td>\n",
       "      <td>34568</td>\n",
       "      <td>0.000029</td>\n",
       "    </tr>\n",
       "    <tr>\n",
       "      <th>36</th>\n",
       "      <td>2020-08-31</td>\n",
       "      <td>0.0</td>\n",
       "      <td>NaN</td>\n",
       "      <td>NaN</td>\n",
       "      <td>NaN</td>\n",
       "      <td>NaN</td>\n",
       "      <td>5556</td>\n",
       "      <td>1.0</td>\n",
       "      <td>40124</td>\n",
       "      <td>0.000025</td>\n",
       "    </tr>\n",
       "    <tr>\n",
       "      <th>37</th>\n",
       "      <td>2020-09-07</td>\n",
       "      <td>0.0</td>\n",
       "      <td>NaN</td>\n",
       "      <td>NaN</td>\n",
       "      <td>NaN</td>\n",
       "      <td>NaN</td>\n",
       "      <td>5729</td>\n",
       "      <td>1.0</td>\n",
       "      <td>45853</td>\n",
       "      <td>0.000022</td>\n",
       "    </tr>\n",
       "    <tr>\n",
       "      <th>38</th>\n",
       "      <td>2020-09-14</td>\n",
       "      <td>0.0</td>\n",
       "      <td>NaN</td>\n",
       "      <td>NaN</td>\n",
       "      <td>NaN</td>\n",
       "      <td>NaN</td>\n",
       "      <td>6586</td>\n",
       "      <td>1.0</td>\n",
       "      <td>52439</td>\n",
       "      <td>0.000019</td>\n",
       "    </tr>\n",
       "    <tr>\n",
       "      <th>39</th>\n",
       "      <td>2020-09-21</td>\n",
       "      <td>1.0</td>\n",
       "      <td>[1]</td>\n",
       "      <td>[California]</td>\n",
       "      <td>[San Joaquin County]</td>\n",
       "      <td>[United States of America]</td>\n",
       "      <td>8576</td>\n",
       "      <td>2.0</td>\n",
       "      <td>61015</td>\n",
       "      <td>0.000033</td>\n",
       "    </tr>\n",
       "    <tr>\n",
       "      <th>40</th>\n",
       "      <td>2020-09-28</td>\n",
       "      <td>2.0</td>\n",
       "      <td>[2]</td>\n",
       "      <td>[California]</td>\n",
       "      <td>[San Diego]</td>\n",
       "      <td>[United States of America]</td>\n",
       "      <td>6972</td>\n",
       "      <td>4.0</td>\n",
       "      <td>67987</td>\n",
       "      <td>0.000059</td>\n",
       "    </tr>\n",
       "    <tr>\n",
       "      <th>41</th>\n",
       "      <td>2020-10-05</td>\n",
       "      <td>1.0</td>\n",
       "      <td>[1]</td>\n",
       "      <td>[California]</td>\n",
       "      <td>[Orange County CA]</td>\n",
       "      <td>[United States of America]</td>\n",
       "      <td>9591</td>\n",
       "      <td>5.0</td>\n",
       "      <td>77578</td>\n",
       "      <td>0.000064</td>\n",
       "    </tr>\n",
       "    <tr>\n",
       "      <th>42</th>\n",
       "      <td>2020-10-12</td>\n",
       "      <td>2.0</td>\n",
       "      <td>[2]</td>\n",
       "      <td>[California]</td>\n",
       "      <td>[Orange County CA]</td>\n",
       "      <td>[United States of America]</td>\n",
       "      <td>10200</td>\n",
       "      <td>7.0</td>\n",
       "      <td>87778</td>\n",
       "      <td>0.000080</td>\n",
       "    </tr>\n",
       "    <tr>\n",
       "      <th>43</th>\n",
       "      <td>2020-10-19</td>\n",
       "      <td>1.0</td>\n",
       "      <td>[1]</td>\n",
       "      <td>[Utah]</td>\n",
       "      <td>[unk]</td>\n",
       "      <td>[United States of America]</td>\n",
       "      <td>11595</td>\n",
       "      <td>8.0</td>\n",
       "      <td>99373</td>\n",
       "      <td>0.000081</td>\n",
       "    </tr>\n",
       "    <tr>\n",
       "      <th>44</th>\n",
       "      <td>2020-10-26</td>\n",
       "      <td>1.0</td>\n",
       "      <td>[1]</td>\n",
       "      <td>[California]</td>\n",
       "      <td>[San Diego]</td>\n",
       "      <td>[United States of America]</td>\n",
       "      <td>11297</td>\n",
       "      <td>9.0</td>\n",
       "      <td>110670</td>\n",
       "      <td>0.000081</td>\n",
       "    </tr>\n",
       "    <tr>\n",
       "      <th>45</th>\n",
       "      <td>2020-11-02</td>\n",
       "      <td>9.0</td>\n",
       "      <td>[9]</td>\n",
       "      <td>[California]</td>\n",
       "      <td>[Orange County CA, San Luis Obispo County]</td>\n",
       "      <td>[United States of America]</td>\n",
       "      <td>13609</td>\n",
       "      <td>18.0</td>\n",
       "      <td>124279</td>\n",
       "      <td>0.000145</td>\n",
       "    </tr>\n",
       "    <tr>\n",
       "      <th>46</th>\n",
       "      <td>2020-11-09</td>\n",
       "      <td>23.0</td>\n",
       "      <td>[23]</td>\n",
       "      <td>[California]</td>\n",
       "      <td>[Los Angeles County, Orange County CA, San Lui...</td>\n",
       "      <td>[United States of America]</td>\n",
       "      <td>13282</td>\n",
       "      <td>41.0</td>\n",
       "      <td>137561</td>\n",
       "      <td>0.000298</td>\n",
       "    </tr>\n",
       "    <tr>\n",
       "      <th>47</th>\n",
       "      <td>2020-11-16</td>\n",
       "      <td>34.0</td>\n",
       "      <td>[34]</td>\n",
       "      <td>[California, Texas]</td>\n",
       "      <td>[Los Angeles County, Orange County CA, Houston...</td>\n",
       "      <td>[United States of America]</td>\n",
       "      <td>10111</td>\n",
       "      <td>75.0</td>\n",
       "      <td>147672</td>\n",
       "      <td>0.000508</td>\n",
       "    </tr>\n",
       "    <tr>\n",
       "      <th>48</th>\n",
       "      <td>2020-11-23</td>\n",
       "      <td>38.0</td>\n",
       "      <td>[38]</td>\n",
       "      <td>[California, New York, Connecticut, Utah]</td>\n",
       "      <td>[Santa Clara County, New York City, Orange Cou...</td>\n",
       "      <td>[United States of America]</td>\n",
       "      <td>7785</td>\n",
       "      <td>113.0</td>\n",
       "      <td>155457</td>\n",
       "      <td>0.000727</td>\n",
       "    </tr>\n",
       "    <tr>\n",
       "      <th>49</th>\n",
       "      <td>2020-11-30</td>\n",
       "      <td>86.0</td>\n",
       "      <td>[1, 85]</td>\n",
       "      <td>[California, Auckland, New York]</td>\n",
       "      <td>[Los Angeles County, Orange County CA, San Die...</td>\n",
       "      <td>[New Zealand, United States of America]</td>\n",
       "      <td>7215</td>\n",
       "      <td>199.0</td>\n",
       "      <td>162672</td>\n",
       "      <td>0.001223</td>\n",
       "    </tr>\n",
       "    <tr>\n",
       "      <th>50</th>\n",
       "      <td>2020-12-07</td>\n",
       "      <td>27.0</td>\n",
       "      <td>[2, 2, 23]</td>\n",
       "      <td>[California, New South Wales, New York, Washin...</td>\n",
       "      <td>[Los Angeles County, Sydney, Monterey County C...</td>\n",
       "      <td>[Australia, United Kingdom, United States of A...</td>\n",
       "      <td>9776</td>\n",
       "      <td>226.0</td>\n",
       "      <td>172448</td>\n",
       "      <td>0.001311</td>\n",
       "    </tr>\n",
       "    <tr>\n",
       "      <th>51</th>\n",
       "      <td>2020-12-14</td>\n",
       "      <td>61.0</td>\n",
       "      <td>[2, 59]</td>\n",
       "      <td>[California, New York, Utah, Washington, Washi...</td>\n",
       "      <td>[San Diego, New York City, unk, Los Angeles Co...</td>\n",
       "      <td>[Australia, United States of America]</td>\n",
       "      <td>10413</td>\n",
       "      <td>287.0</td>\n",
       "      <td>182861</td>\n",
       "      <td>0.001569</td>\n",
       "    </tr>\n",
       "    <tr>\n",
       "      <th>52</th>\n",
       "      <td>2020-12-21</td>\n",
       "      <td>130.0</td>\n",
       "      <td>[1, 1, 128]</td>\n",
       "      <td>[New South Wales, Arizona, California, Marylan...</td>\n",
       "      <td>[Sydney, Maricopa County, Los Angeles County, ...</td>\n",
       "      <td>[Australia, Singapore, United States of America]</td>\n",
       "      <td>7167</td>\n",
       "      <td>417.0</td>\n",
       "      <td>190028</td>\n",
       "      <td>0.002194</td>\n",
       "    </tr>\n",
       "    <tr>\n",
       "      <th>53</th>\n",
       "      <td>2020-12-28</td>\n",
       "      <td>19.0</td>\n",
       "      <td>[1, 1, 1, 16]</td>\n",
       "      <td>[Central District, Auckland, California, Maryl...</td>\n",
       "      <td>[Rishon-Letsion, Counties Manukau, Los Angeles...</td>\n",
       "      <td>[Australia, Israel, New Zealand, United States...</td>\n",
       "      <td>5063</td>\n",
       "      <td>436.0</td>\n",
       "      <td>195091</td>\n",
       "      <td>0.002235</td>\n",
       "    </tr>\n",
       "    <tr>\n",
       "      <th>54</th>\n",
       "      <td>2021-01-04</td>\n",
       "      <td>17.0</td>\n",
       "      <td>[1, 1, 15]</td>\n",
       "      <td>[Hovedstaden, Wyoming, Arizona, California, Ne...</td>\n",
       "      <td>[unk, Maricopa County, Sydney]</td>\n",
       "      <td>[Australia, Denmark, United States of America]</td>\n",
       "      <td>1487</td>\n",
       "      <td>453.0</td>\n",
       "      <td>196578</td>\n",
       "      <td>0.002304</td>\n",
       "    </tr>\n",
       "    <tr>\n",
       "      <th>55</th>\n",
       "      <td>2021-01-11</td>\n",
       "      <td>0.0</td>\n",
       "      <td>NaN</td>\n",
       "      <td>NaN</td>\n",
       "      <td>NaN</td>\n",
       "      <td>NaN</td>\n",
       "      <td>2</td>\n",
       "      <td>453.0</td>\n",
       "      <td>196580</td>\n",
       "      <td>0.002304</td>\n",
       "    </tr>\n",
       "  </tbody>\n",
       "</table>\n",
       "</div>"
      ],
      "text/plain": [
       "         date  num_samples country_counts  \\\n",
       "29 2020-07-13          1.0            [1]   \n",
       "30 2020-07-20          0.0            NaN   \n",
       "31 2020-07-27          0.0            NaN   \n",
       "32 2020-08-03          0.0            NaN   \n",
       "33 2020-08-10          0.0            NaN   \n",
       "34 2020-08-17          0.0            NaN   \n",
       "35 2020-08-24          0.0            NaN   \n",
       "36 2020-08-31          0.0            NaN   \n",
       "37 2020-09-07          0.0            NaN   \n",
       "38 2020-09-14          0.0            NaN   \n",
       "39 2020-09-21          1.0            [1]   \n",
       "40 2020-09-28          2.0            [2]   \n",
       "41 2020-10-05          1.0            [1]   \n",
       "42 2020-10-12          2.0            [2]   \n",
       "43 2020-10-19          1.0            [1]   \n",
       "44 2020-10-26          1.0            [1]   \n",
       "45 2020-11-02          9.0            [9]   \n",
       "46 2020-11-09         23.0           [23]   \n",
       "47 2020-11-16         34.0           [34]   \n",
       "48 2020-11-23         38.0           [38]   \n",
       "49 2020-11-30         86.0        [1, 85]   \n",
       "50 2020-12-07         27.0     [2, 2, 23]   \n",
       "51 2020-12-14         61.0        [2, 59]   \n",
       "52 2020-12-21        130.0    [1, 1, 128]   \n",
       "53 2020-12-28         19.0  [1, 1, 1, 16]   \n",
       "54 2021-01-04         17.0     [1, 1, 15]   \n",
       "55 2021-01-11          0.0            NaN   \n",
       "\n",
       "                                            divisions  \\\n",
       "29                                       [California]   \n",
       "30                                                NaN   \n",
       "31                                                NaN   \n",
       "32                                                NaN   \n",
       "33                                                NaN   \n",
       "34                                                NaN   \n",
       "35                                                NaN   \n",
       "36                                                NaN   \n",
       "37                                                NaN   \n",
       "38                                                NaN   \n",
       "39                                       [California]   \n",
       "40                                       [California]   \n",
       "41                                       [California]   \n",
       "42                                       [California]   \n",
       "43                                             [Utah]   \n",
       "44                                       [California]   \n",
       "45                                       [California]   \n",
       "46                                       [California]   \n",
       "47                                [California, Texas]   \n",
       "48          [California, New York, Connecticut, Utah]   \n",
       "49                   [California, Auckland, New York]   \n",
       "50  [California, New South Wales, New York, Washin...   \n",
       "51  [California, New York, Utah, Washington, Washi...   \n",
       "52  [New South Wales, Arizona, California, Marylan...   \n",
       "53  [Central District, Auckland, California, Maryl...   \n",
       "54  [Hovedstaden, Wyoming, Arizona, California, Ne...   \n",
       "55                                                NaN   \n",
       "\n",
       "                                            locations  \\\n",
       "29                                              [unk]   \n",
       "30                                                NaN   \n",
       "31                                                NaN   \n",
       "32                                                NaN   \n",
       "33                                                NaN   \n",
       "34                                                NaN   \n",
       "35                                                NaN   \n",
       "36                                                NaN   \n",
       "37                                                NaN   \n",
       "38                                                NaN   \n",
       "39                               [San Joaquin County]   \n",
       "40                                        [San Diego]   \n",
       "41                                 [Orange County CA]   \n",
       "42                                 [Orange County CA]   \n",
       "43                                              [unk]   \n",
       "44                                        [San Diego]   \n",
       "45         [Orange County CA, San Luis Obispo County]   \n",
       "46  [Los Angeles County, Orange County CA, San Lui...   \n",
       "47  [Los Angeles County, Orange County CA, Houston...   \n",
       "48  [Santa Clara County, New York City, Orange Cou...   \n",
       "49  [Los Angeles County, Orange County CA, San Die...   \n",
       "50  [Los Angeles County, Sydney, Monterey County C...   \n",
       "51  [San Diego, New York City, unk, Los Angeles Co...   \n",
       "52  [Sydney, Maricopa County, Los Angeles County, ...   \n",
       "53  [Rishon-Letsion, Counties Manukau, Los Angeles...   \n",
       "54                     [unk, Maricopa County, Sydney]   \n",
       "55                                                NaN   \n",
       "\n",
       "                                            countries  total_samples  \\\n",
       "29                         [United States of America]           4858   \n",
       "30                                                NaN           4541   \n",
       "31                                                NaN           4675   \n",
       "32                                                NaN           4547   \n",
       "33                                                NaN           5249   \n",
       "34                                                NaN           5379   \n",
       "35                                                NaN           5319   \n",
       "36                                                NaN           5556   \n",
       "37                                                NaN           5729   \n",
       "38                                                NaN           6586   \n",
       "39                         [United States of America]           8576   \n",
       "40                         [United States of America]           6972   \n",
       "41                         [United States of America]           9591   \n",
       "42                         [United States of America]          10200   \n",
       "43                         [United States of America]          11595   \n",
       "44                         [United States of America]          11297   \n",
       "45                         [United States of America]          13609   \n",
       "46                         [United States of America]          13282   \n",
       "47                         [United States of America]          10111   \n",
       "48                         [United States of America]           7785   \n",
       "49            [New Zealand, United States of America]           7215   \n",
       "50  [Australia, United Kingdom, United States of A...           9776   \n",
       "51              [Australia, United States of America]          10413   \n",
       "52   [Australia, Singapore, United States of America]           7167   \n",
       "53  [Australia, Israel, New Zealand, United States...           5063   \n",
       "54     [Australia, Denmark, United States of America]           1487   \n",
       "55                                                NaN              2   \n",
       "\n",
       "    cum_num_samples  cum_total_samples  rel_freq  \n",
       "29              1.0               4858  0.000206  \n",
       "30              1.0               9399  0.000106  \n",
       "31              1.0              14074  0.000071  \n",
       "32              1.0              18621  0.000054  \n",
       "33              1.0              23870  0.000042  \n",
       "34              1.0              29249  0.000034  \n",
       "35              1.0              34568  0.000029  \n",
       "36              1.0              40124  0.000025  \n",
       "37              1.0              45853  0.000022  \n",
       "38              1.0              52439  0.000019  \n",
       "39              2.0              61015  0.000033  \n",
       "40              4.0              67987  0.000059  \n",
       "41              5.0              77578  0.000064  \n",
       "42              7.0              87778  0.000080  \n",
       "43              8.0              99373  0.000081  \n",
       "44              9.0             110670  0.000081  \n",
       "45             18.0             124279  0.000145  \n",
       "46             41.0             137561  0.000298  \n",
       "47             75.0             147672  0.000508  \n",
       "48            113.0             155457  0.000727  \n",
       "49            199.0             162672  0.001223  \n",
       "50            226.0             172448  0.001311  \n",
       "51            287.0             182861  0.001569  \n",
       "52            417.0             190028  0.002194  \n",
       "53            436.0             195091  0.002235  \n",
       "54            453.0             196578  0.002304  \n",
       "55            453.0             196580  0.002304  "
      ]
     },
     "execution_count": 101,
     "metadata": {},
     "output_type": "execute_result"
    }
   ],
   "source": [
    "df"
   ]
  },
  {
   "cell_type": "code",
   "execution_count": null,
   "metadata": {},
   "outputs": [],
   "source": [
    "## TODO: look at col name with clade (e.g. 20C) values to use in mutation_diversity plots"
   ]
  },
  {
   "cell_type": "code",
   "execution_count": 21,
   "metadata": {},
   "outputs": [],
   "source": [
    "# results['ca_time']"
   ]
  },
  {
   "cell_type": "code",
   "execution_count": 16,
   "metadata": {},
   "outputs": [],
   "source": [
    "gisaid = pd.read_csv(input_params['gisaid_data_fp'], compression='gzip')"
   ]
  },
  {
   "cell_type": "code",
   "execution_count": null,
   "metadata": {},
   "outputs": [],
   "source": []
  },
  {
   "cell_type": "code",
   "execution_count": null,
   "metadata": {},
   "outputs": [],
   "source": []
  },
  {
   "cell_type": "code",
   "execution_count": null,
   "metadata": {},
   "outputs": [],
   "source": []
  },
  {
   "cell_type": "code",
   "execution_count": null,
   "metadata": {},
   "outputs": [],
   "source": []
  },
  {
   "cell_type": "code",
   "execution_count": null,
   "metadata": {},
   "outputs": [],
   "source": []
  },
  {
   "cell_type": "code",
   "execution_count": null,
   "metadata": {},
   "outputs": [],
   "source": []
  },
  {
   "cell_type": "code",
   "execution_count": 12,
   "metadata": {},
   "outputs": [],
   "source": [
    "\n",
    "def get_mutations(data: pd.DataFrame, lineage: str='B.1.1.7'):\n",
    "    mutations = set(data[data['pangolin_lineage']==lineage]['mutation'].unique().tolist())\n",
    "    return mutations"
   ]
  },
  {
   "cell_type": "code",
   "execution_count": 12,
   "metadata": {},
   "outputs": [
    {
     "name": "stderr",
     "output_type": "stream",
     "text": [
      "/home/al/anaconda3/lib/python3.8/site-packages/IPython/core/interactiveshell.py:3146: DtypeWarning: Columns (38,39,41,42,43,44,45,46) have mixed types.Specify dtype option on import or set low_memory=False.\n",
      "  has_raised = await self.run_ast_nodes(code_ast.body, cell_name,\n"
     ]
    }
   ],
   "source": [
    "# gisaid = pd.read_csv(input_params['gisaid_data_fp'], compression='gzip')\n",
    "# gisaid.drop(columns=['mutation'], inplace=True)\n",
    "# gisaid['mutations'] = gisaid['gene'] + ':' + gisaid['ref_aa'] + gisaid['codon_num'].astype(str) + gisaid['alt_aa']\n",
    "# gisaid.to_csv(input_params['gisaid_data_fp'], compression='gzip')"
   ]
  },
  {
   "cell_type": "code",
   "execution_count": 20,
   "metadata": {},
   "outputs": [
    {
     "data": {
      "text/plain": [
       "(10421,)"
      ]
     },
     "execution_count": 20,
     "metadata": {},
     "output_type": "execute_result"
    }
   ],
   "source": [
    "gisaid[gisaid['pangolin_lineage']=='B.1.1.7']['strain'].unique().shape"
   ]
  },
  {
   "cell_type": "code",
   "execution_count": 21,
   "metadata": {},
   "outputs": [
    {
     "data": {
      "text/plain": [
       "(1340,)"
      ]
     },
     "execution_count": 21,
     "metadata": {},
     "output_type": "execute_result"
    }
   ],
   "source": [
    "gisaid[gisaid['pangolin_lineage']=='B.1.1.70']['strain'].unique().shape"
   ]
  },
  {
   "cell_type": "code",
   "execution_count": 18,
   "metadata": {},
   "outputs": [
    {
     "data": {
      "text/plain": [
       "{'3UTR:A15T',\n",
       " '3UTR:G35G',\n",
       " '3UTR:I4I',\n",
       " '3UTR:Q66K',\n",
       " '3UTR:T32I',\n",
       " '3UTR:V46L',\n",
       " '3UTR:V6L',\n",
       " '3UTR:_31L',\n",
       " '3UTR:_9W',\n",
       " '5UTR:I74I',\n",
       " '5UTR:P73P',\n",
       " '5UTR:R81C',\n",
       " '5UTR:S68L',\n",
       " 'E:F23F',\n",
       " 'E:L65L',\n",
       " 'E:L73F',\n",
       " 'E:S68F',\n",
       " 'E:T30I',\n",
       " 'M:D160D',\n",
       " 'M:D190D',\n",
       " 'M:F112F',\n",
       " 'M:F53F',\n",
       " 'M:G202G',\n",
       " 'M:G78C',\n",
       " 'M:L124L',\n",
       " 'M:L35L',\n",
       " 'M:N203N',\n",
       " 'M:N41N',\n",
       " 'M:S173K',\n",
       " 'M:T172T',\n",
       " 'M:Y196Y',\n",
       " 'M:Y71Y',\n",
       " 'N:A134V',\n",
       " 'N:A156S',\n",
       " 'N:A208S',\n",
       " 'N:A211S',\n",
       " 'N:A252S',\n",
       " 'N:A273S',\n",
       " 'N:A359S',\n",
       " 'N:A35A',\n",
       " 'N:A90S',\n",
       " 'N:D348Y',\n",
       " 'N:D401Y',\n",
       " 'N:D402Y',\n",
       " 'N:D415D',\n",
       " 'N:F110F',\n",
       " 'N:F274F',\n",
       " 'N:F346F',\n",
       " 'N:G204R',\n",
       " 'N:H145H',\n",
       " 'N:I292I',\n",
       " 'N:I337I',\n",
       " 'N:N126N',\n",
       " 'N:N192N',\n",
       " 'N:P142S',\n",
       " 'N:P199S',\n",
       " 'N:P383P',\n",
       " 'N:Q28H',\n",
       " 'N:Q418H',\n",
       " 'N:Q9H',\n",
       " 'N:R195I',\n",
       " 'N:R203K',\n",
       " 'N:R385I',\n",
       " 'N:S194P',\n",
       " 'N:S413I',\n",
       " 'N:T135I',\n",
       " 'N:T16M',\n",
       " 'N:T16T',\n",
       " 'N:T24I',\n",
       " 'N:T282T',\n",
       " 'N:T379I',\n",
       " 'N:T417I',\n",
       " 'N:T54T',\n",
       " 'N:Y298Y',\n",
       " 'N:Y360Y',\n",
       " 'N:Y86Y',\n",
       " 'ORF10:C19C',\n",
       " 'ORF10:Y26Y',\n",
       " 'ORF1ab:A1151V',\n",
       " 'ORF1ab:A1283V',\n",
       " 'ORF1ab:A1298V',\n",
       " 'ORF1ab:A1397V',\n",
       " 'ORF1ab:A1679V',\n",
       " 'ORF1ab:A1923T',\n",
       " 'ORF1ab:A2529V',\n",
       " 'ORF1ab:A2584A',\n",
       " 'ORF1ab:A3143V',\n",
       " 'ORF1ab:A3209V',\n",
       " 'ORF1ab:A3333V',\n",
       " 'ORF1ab:A3456V',\n",
       " 'ORF1ab:A3615V',\n",
       " 'ORF1ab:A3755A',\n",
       " 'ORF1ab:A3939V',\n",
       " 'ORF1ab:A4133A',\n",
       " 'ORF1ab:A486V',\n",
       " 'ORF1ab:A498V',\n",
       " 'ORF1ab:A5062V',\n",
       " 'ORF1ab:A5332V',\n",
       " 'ORF1ab:A599A',\n",
       " 'ORF1ab:A6307A',\n",
       " 'ORF1ab:A6430V',\n",
       " 'ORF1ab:A6788V',\n",
       " 'ORF1ab:A690V',\n",
       " 'ORF1ab:A967V',\n",
       " 'ORF1ab:C5060F',\n",
       " 'ORF1ab:C5557F',\n",
       " 'ORF1ab:C5735C',\n",
       " 'ORF1ab:C6078F',\n",
       " 'ORF1ab:D1273D',\n",
       " 'ORF1ab:D1849D',\n",
       " 'ORF1ab:D223D',\n",
       " 'ORF1ab:D3297D',\n",
       " 'ORF1ab:D3311D',\n",
       " 'ORF1ab:D3450D',\n",
       " 'ORF1ab:D992D',\n",
       " 'ORF1ab:E3310K',\n",
       " 'ORF1ab:E929D',\n",
       " 'ORF1ab:F2334F',\n",
       " 'ORF1ab:F2338F',\n",
       " 'ORF1ab:F266F',\n",
       " 'ORF1ab:F3329F',\n",
       " 'ORF1ab:F3603F',\n",
       " 'ORF1ab:F3604L',\n",
       " 'ORF1ab:F3769F',\n",
       " 'ORF1ab:F924F',\n",
       " 'ORF1ab:G1073G',\n",
       " 'ORF1ab:G137G',\n",
       " 'ORF1ab:G2091G',\n",
       " 'ORF1ab:G3676S',\n",
       " 'ORF1ab:G6018V',\n",
       " 'ORF1ab:G6953V',\n",
       " 'ORF1ab:G728C',\n",
       " 'ORF1ab:H1113Y',\n",
       " 'ORF1ab:H1652H',\n",
       " 'ORF1ab:H165Y',\n",
       " 'ORF1ab:H2092Y',\n",
       " 'ORF1ab:H2125Y',\n",
       " 'ORF1ab:H2799Y',\n",
       " 'ORF1ab:H3426H',\n",
       " 'ORF1ab:H374H',\n",
       " 'ORF1ab:H4533Y',\n",
       " 'ORF1ab:H4918Y',\n",
       " 'ORF1ab:H5362Y',\n",
       " 'ORF1ab:I1203I',\n",
       " 'ORF1ab:I1276T',\n",
       " 'ORF1ab:I3055I',\n",
       " 'ORF1ab:I3257I',\n",
       " 'ORF1ab:I4205I',\n",
       " 'ORF1ab:I473I',\n",
       " 'ORF1ab:I5264T',\n",
       " 'ORF1ab:I5747T',\n",
       " 'ORF1ab:I6923I',\n",
       " 'ORF1ab:I785V',\n",
       " 'ORF1ab:K1230N',\n",
       " 'ORF1ab:K2029N',\n",
       " 'ORF1ab:K3353R',\n",
       " 'ORF1ab:K5925N',\n",
       " 'ORF1ab:K6771N',\n",
       " 'ORF1ab:L1356L',\n",
       " 'ORF1ab:L1438L',\n",
       " 'ORF1ab:L1643L',\n",
       " 'ORF1ab:L16L',\n",
       " 'ORF1ab:L219L',\n",
       " 'ORF1ab:L2211L',\n",
       " 'ORF1ab:L2609L',\n",
       " 'ORF1ab:L2874L',\n",
       " 'ORF1ab:L3198L',\n",
       " 'ORF1ab:L3338F',\n",
       " 'ORF1ab:L3535L',\n",
       " 'ORF1ab:L3606F',\n",
       " 'ORF1ab:L3694F',\n",
       " 'ORF1ab:L3829F',\n",
       " 'ORF1ab:L4418L',\n",
       " 'ORF1ab:L450F',\n",
       " 'ORF1ab:L454L',\n",
       " 'ORF1ab:L4715L',\n",
       " 'ORF1ab:L5315L',\n",
       " 'ORF1ab:L5376F',\n",
       " 'ORF1ab:L5493S',\n",
       " 'ORF1ab:L5727P',\n",
       " 'ORF1ab:L5755L',\n",
       " 'ORF1ab:L5833L',\n",
       " 'ORF1ab:L5844L',\n",
       " 'ORF1ab:L5923F',\n",
       " 'ORF1ab:L5941L',\n",
       " 'ORF1ab:L5956L',\n",
       " 'ORF1ab:L6044L',\n",
       " 'ORF1ab:L6063L',\n",
       " 'ORF1ab:L6128L',\n",
       " 'ORF1ab:L628F',\n",
       " 'ORF1ab:L6461F',\n",
       " 'ORF1ab:L6533L',\n",
       " 'ORF1ab:L730L',\n",
       " 'ORF1ab:L791L',\n",
       " 'ORF1ab:L815L',\n",
       " 'ORF1ab:L960L',\n",
       " 'ORF1ab:M1378I',\n",
       " 'ORF1ab:M2796I',\n",
       " 'ORF1ab:M3752I',\n",
       " 'ORF1ab:N1662S',\n",
       " 'ORF1ab:N188N',\n",
       " 'ORF1ab:N2523N',\n",
       " 'ORF1ab:N3007N',\n",
       " 'ORF1ab:N3414N',\n",
       " 'ORF1ab:N508D',\n",
       " 'ORF1ab:N615N',\n",
       " 'ORF1ab:N810N',\n",
       " 'ORF1ab:P1330P',\n",
       " 'ORF1ab:P1786L',\n",
       " 'ORF1ab:P1862L',\n",
       " 'ORF1ab:P1921S',\n",
       " 'ORF1ab:P2046S',\n",
       " 'ORF1ab:P2376P',\n",
       " 'ORF1ab:P2483S',\n",
       " 'ORF1ab:P309L',\n",
       " 'ORF1ab:P309S',\n",
       " 'ORF1ab:P3371S',\n",
       " 'ORF1ab:P3395P',\n",
       " 'ORF1ab:P3831P',\n",
       " 'ORF1ab:P4389S',\n",
       " 'ORF1ab:P4638S',\n",
       " 'ORF1ab:P4959L',\n",
       " 'ORF1ab:P5232L',\n",
       " 'ORF1ab:P5636L',\n",
       " 'ORF1ab:P6623S',\n",
       " 'ORF1ab:P6860L',\n",
       " 'ORF1ab:P927L',\n",
       " 'ORF1ab:P959S',\n",
       " 'ORF1ab:P971L',\n",
       " 'ORF1ab:P971S',\n",
       " 'ORF1ab:Q3818Q',\n",
       " 'ORF1ab:Q4983R',\n",
       " 'ORF1ab:Q5674_',\n",
       " 'ORF1ab:Q6485_',\n",
       " 'ORF1ab:Q6777_',\n",
       " 'ORF1ab:Q6896_',\n",
       " 'ORF1ab:Q6938_',\n",
       " 'ORF1ab:Q998H',\n",
       " 'ORF1ab:R124C',\n",
       " 'ORF1ab:R3368R',\n",
       " 'ORF1ab:R402R',\n",
       " 'ORF1ab:R4387C',\n",
       " 'ORF1ab:R4786C',\n",
       " 'ORF1ab:R5036C',\n",
       " 'ORF1ab:R5036L',\n",
       " 'ORF1ab:R5371H',\n",
       " 'ORF1ab:R550C',\n",
       " 'ORF1ab:R5805C',\n",
       " 'ORF1ab:R6805Q',\n",
       " 'ORF1ab:R6997P',\n",
       " 'ORF1ab:S1188L',\n",
       " 'ORF1ab:S1587L',\n",
       " 'ORF1ab:S1924S',\n",
       " 'ORF1ab:S2103F',\n",
       " 'ORF1ab:S2242F',\n",
       " 'ORF1ab:S2273F',\n",
       " 'ORF1ab:S2396G',\n",
       " 'ORF1ab:S248S',\n",
       " 'ORF1ab:S2500S',\n",
       " 'ORF1ab:S318L',\n",
       " 'ORF1ab:S3946S',\n",
       " 'ORF1ab:S3950S',\n",
       " 'ORF1ab:S4398S',\n",
       " 'ORF1ab:S4429F',\n",
       " 'ORF1ab:S443S',\n",
       " 'ORF1ab:S4667L',\n",
       " 'ORF1ab:S5092L',\n",
       " 'ORF1ab:S5282S',\n",
       " 'ORF1ab:S5348F',\n",
       " 'ORF1ab:S549S',\n",
       " 'ORF1ab:S5580L',\n",
       " 'ORF1ab:S5680F',\n",
       " 'ORF1ab:S5762L',\n",
       " 'ORF1ab:S5804L',\n",
       " 'ORF1ab:S5834F',\n",
       " 'ORF1ab:S6129I',\n",
       " 'ORF1ab:S6188F',\n",
       " 'ORF1ab:S6251F',\n",
       " 'ORF1ab:S6408F',\n",
       " 'ORF1ab:S6420L',\n",
       " 'ORF1ab:S6573F',\n",
       " 'ORF1ab:S6638F',\n",
       " 'ORF1ab:S6741I',\n",
       " 'ORF1ab:S6958G',\n",
       " 'ORF1ab:S944L',\n",
       " 'ORF1ab:T1000I',\n",
       " 'ORF1ab:T1035I',\n",
       " 'ORF1ab:T1093I',\n",
       " 'ORF1ab:T1426T',\n",
       " 'ORF1ab:T1521I',\n",
       " 'ORF1ab:T1597I',\n",
       " 'ORF1ab:T1637I',\n",
       " 'ORF1ab:T1840I',\n",
       " 'ORF1ab:T2007T',\n",
       " 'ORF1ab:T224I',\n",
       " 'ORF1ab:T2283I',\n",
       " 'ORF1ab:T2300T',\n",
       " 'ORF1ab:T2495I',\n",
       " 'ORF1ab:T2648I',\n",
       " 'ORF1ab:T2825I',\n",
       " 'ORF1ab:T2936T',\n",
       " 'ORF1ab:T2967I',\n",
       " 'ORF1ab:T333T',\n",
       " 'ORF1ab:T350I',\n",
       " 'ORF1ab:T4031I',\n",
       " 'ORF1ab:T4083T',\n",
       " 'ORF1ab:T4087I',\n",
       " 'ORF1ab:T4175I',\n",
       " 'ORF1ab:T4311I',\n",
       " 'ORF1ab:T4354I',\n",
       " 'ORF1ab:T4355I',\n",
       " 'ORF1ab:T4467I',\n",
       " 'ORF1ab:T4652I',\n",
       " 'ORF1ab:T4847I',\n",
       " 'ORF1ab:T4992I',\n",
       " 'ORF1ab:T5020I',\n",
       " 'ORF1ab:T5130I',\n",
       " 'ORF1ab:T5152M',\n",
       " 'ORF1ab:T5355M',\n",
       " 'ORF1ab:T5541I',\n",
       " 'ORF1ab:T554I',\n",
       " 'ORF1ab:T5904T',\n",
       " 'ORF1ab:T5955I',\n",
       " 'ORF1ab:T5996I',\n",
       " 'ORF1ab:T6160M',\n",
       " 'ORF1ab:T6335I',\n",
       " 'ORF1ab:T6466I',\n",
       " 'ORF1ab:T6853I',\n",
       " 'ORF1ab:T6931T',\n",
       " 'ORF1ab:T753I',\n",
       " 'ORF1ab:T882I',\n",
       " 'ORF1ab:V111V',\n",
       " 'ORF1ab:V1143F',\n",
       " 'ORF1ab:V1291F',\n",
       " 'ORF1ab:V186V',\n",
       " 'ORF1ab:V2866M',\n",
       " 'ORF1ab:V2975V',\n",
       " 'ORF1ab:V4361V',\n",
       " 'ORF1ab:V4485V',\n",
       " 'ORF1ab:V4702V',\n",
       " 'ORF1ab:V5166A',\n",
       " 'ORF1ab:V5613V',\n",
       " 'ORF1ab:V6062L',\n",
       " 'ORF1ab:W5819L',\n",
       " 'ORF1ab:W6240L',\n",
       " 'ORF1ab:Y1174Y',\n",
       " 'ORF1ab:Y136Y',\n",
       " 'ORF1ab:Y1868Y',\n",
       " 'ORF1ab:Y2560Y',\n",
       " 'ORF1ab:Y3744Y',\n",
       " 'ORF1ab:Y5715Y',\n",
       " 'ORF1ab:_5147L',\n",
       " 'ORF1ab:_5672L',\n",
       " 'ORF1ab:_6124L',\n",
       " 'ORF1ab:_6404W',\n",
       " 'ORF3a:A33A',\n",
       " 'ORF3a:D27Y',\n",
       " 'ORF3a:F43F',\n",
       " 'ORF3a:G224C',\n",
       " 'ORF3a:K21N',\n",
       " 'ORF3a:L106L',\n",
       " 'ORF3a:L140F',\n",
       " 'ORF3a:L147F',\n",
       " 'ORF3a:L15F',\n",
       " 'ORF3a:L65L',\n",
       " 'ORF3a:L84L',\n",
       " 'ORF3a:P240L',\n",
       " 'ORF3a:P36P',\n",
       " 'ORF3a:P42L',\n",
       " 'ORF3a:Q185H',\n",
       " 'ORF3a:Q57H',\n",
       " 'ORF3a:S166L',\n",
       " 'ORF3a:S177I',\n",
       " 'ORF3a:S60S',\n",
       " 'ORF3a:T151I',\n",
       " 'ORF3a:T175I',\n",
       " 'ORF3a:T229I',\n",
       " 'ORF3a:T32I',\n",
       " 'ORF3a:W131C',\n",
       " 'ORF6:D61D',\n",
       " 'ORF6:I32I',\n",
       " 'ORF6:L16L',\n",
       " 'ORF6:L4L',\n",
       " 'ORF6:P57L',\n",
       " 'ORF6:S41F',\n",
       " 'ORF6:T21I',\n",
       " 'ORF7a:A55S',\n",
       " 'ORF7a:A79A',\n",
       " 'ORF7a:E121_',\n",
       " 'ORF7a:P84S',\n",
       " 'ORF7a:R89I',\n",
       " 'ORF7a:T11T',\n",
       " 'ORF7a:T120I',\n",
       " 'ORF7a:T14I',\n",
       " 'ORF7a:T61I',\n",
       " 'ORF7a:Y40Y',\n",
       " 'ORF7a:Y97Y',\n",
       " 'ORF7b:H42H',\n",
       " 'ORF7b:S31L',\n",
       " 'ORF8:A65S',\n",
       " 'ORF8:A65V',\n",
       " 'ORF8:F120F',\n",
       " 'ORF8:P36L',\n",
       " 'ORF8:P36P',\n",
       " 'ORF8:Q18_',\n",
       " 'ORF8:Q27_',\n",
       " 'ORF8:R115C',\n",
       " 'ORF8:S54L',\n",
       " 'ORF8:V62L',\n",
       " 'ORF8:V62V',\n",
       " 'ORF8:Y42Y',\n",
       " 'S:A1020S',\n",
       " 'S:A1078V',\n",
       " 'S:A262S',\n",
       " 'S:A27S',\n",
       " 'S:A475A',\n",
       " 'S:A647S',\n",
       " 'S:A67V',\n",
       " 'S:A688V',\n",
       " 'S:A871S',\n",
       " 'S:C1235F',\n",
       " 'S:D1259D',\n",
       " 'S:D138H',\n",
       " 'S:D215Y',\n",
       " 'S:D40D',\n",
       " 'S:D614G',\n",
       " 'S:D936D',\n",
       " 'S:E1202Q',\n",
       " 'S:E583D',\n",
       " 'S:F43F',\n",
       " 'S:F543F',\n",
       " 'S:F55F',\n",
       " 'S:G1219V',\n",
       " 'S:G181V',\n",
       " 'S:G413G',\n",
       " 'S:H146H',\n",
       " 'S:H49Y',\n",
       " 'S:H655Y',\n",
       " 'S:I692I',\n",
       " 'S:I726I',\n",
       " 'S:K1045R',\n",
       " 'S:K1205N',\n",
       " 'S:K921K',\n",
       " 'S:L1193L',\n",
       " 'S:L1200L',\n",
       " 'S:L141F',\n",
       " 'S:L276L',\n",
       " 'S:L5F',\n",
       " 'S:L821L',\n",
       " 'S:L877L',\n",
       " 'S:M1229I',\n",
       " 'S:N501Y',\n",
       " 'S:N856N',\n",
       " 'S:N925N',\n",
       " 'S:N99N',\n",
       " 'S:P1162L',\n",
       " 'S:P1162S',\n",
       " 'S:P1263L',\n",
       " 'S:P715P',\n",
       " 'S:Q1201K',\n",
       " 'S:Q677H',\n",
       " 'S:Q677Y',\n",
       " 'S:S221L',\n",
       " 'S:S221S',\n",
       " 'S:S494P',\n",
       " 'S:S640F',\n",
       " 'S:S884F',\n",
       " 'S:T20I',\n",
       " 'S:T20T',\n",
       " 'S:T302T',\n",
       " 'S:T323I',\n",
       " 'S:T385I',\n",
       " 'S:T572I',\n",
       " 'S:T676T',\n",
       " 'S:T778T',\n",
       " 'S:T859I',\n",
       " 'S:T95I',\n",
       " 'S:V308L',\n",
       " 'S:V367F',\n",
       " 'S:V615L',\n",
       " 'S:V620V',\n",
       " 'S:W152L',\n",
       " 'S:Y789Y'}"
      ]
     },
     "execution_count": 18,
     "metadata": {},
     "output_type": "execute_result"
    }
   ],
   "source": [
    "b117 = get_mutations(gisaid, lineage='B.1.1.7')\n",
    "b1170 = get_mutations(gisaid, lineage='B.1.1.70')\n",
    "b117.intersection(b1170)"
   ]
  },
  {
   "cell_type": "code",
   "execution_count": 13,
   "metadata": {},
   "outputs": [
    {
     "name": "stderr",
     "output_type": "stream",
     "text": [
      "/home/al/anaconda3/lib/python3.8/site-packages/IPython/core/interactiveshell.py:3146: DtypeWarning:\n",
      "\n",
      "Columns (37,38,40,41,42,43,44,45) have mixed types.Specify dtype option on import or set low_memory=False.\n",
      "\n"
     ]
    }
   ],
   "source": [
    "# gisaid.columns"
   ]
  },
  {
   "cell_type": "code",
   "execution_count": 13,
   "metadata": {},
   "outputs": [],
   "source": []
  },
  {
   "cell_type": "markdown",
   "metadata": {},
   "source": [
    "'England/205141731/2020', 'Lebanon/LAU-uk4/2020', 'England/204590625/2020', \n",
    "'England/204590575/2020', 'England/NORW-F6D33/2020'"
   ]
  },
  {
   "cell_type": "code",
   "execution_count": 16,
   "metadata": {},
   "outputs": [],
   "source": [
    "g = gisaid.groupby(['pangolin_lineage', 'strain']).agg(mutations=('mutation', 'unique')).reset_index()\n",
    "def check_mutation(x, mutation='S:N501Y'):\n",
    "    if mutation in x:\n",
    "        return True\n",
    "    return False\n",
    "\n",
    "g['501Y'] = g['mutations'].apply(check_mutation)"
   ]
  },
  {
   "cell_type": "code",
   "execution_count": 31,
   "metadata": {},
   "outputs": [],
   "source": [
    "m = \"S:D614G\"\n",
    "g['614G'] = g['mutations'].apply(check_mutation, args=(m,))"
   ]
  },
  {
   "cell_type": "code",
   "execution_count": 32,
   "metadata": {},
   "outputs": [],
   "source": [
    "soi = g.loc[(g['614G']==False) \n",
    "          & (g['pangolin_lineage']=='B.1.1.7'), \n",
    "            'strain'].unique().tolist() + [input_params['patient_zero']]"
   ]
  },
  {
   "cell_type": "code",
   "execution_count": 33,
   "metadata": {},
   "outputs": [
    {
     "data": {
      "text/plain": [
       "['England/CAMC-CFDB18/2020', 'NC_045512.2']"
      ]
     },
     "execution_count": 33,
     "metadata": {},
     "output_type": "execute_result"
    }
   ],
   "source": [
    "soi"
   ]
  },
  {
   "cell_type": "code",
   "execution_count": 26,
   "metadata": {},
   "outputs": [
    {
     "data": {
      "text/plain": [
       "1"
      ]
     },
     "execution_count": 26,
     "metadata": {},
     "output_type": "execute_result"
    }
   ],
   "source": [
    "bs.fetch_seqs(input_params['msa_fp'], 'test_data/b117_wo_N501Y.fasta', soi, is_aligned=True)"
   ]
  },
  {
   "cell_type": "code",
   "execution_count": 185,
   "metadata": {},
   "outputs": [],
   "source": [
    "# gisaid[(gisaid['pangolin_lineage']=='B.1.1.7')]['location'].value_counts()"
   ]
  },
  {
   "cell_type": "code",
   "execution_count": 186,
   "metadata": {},
   "outputs": [],
   "source": [
    "# df"
   ]
  },
  {
   "cell_type": "code",
   "execution_count": 187,
   "metadata": {},
   "outputs": [],
   "source": [
    "results['county_map'] = fig"
   ]
  },
  {
   "cell_type": "code",
   "execution_count": 143,
   "metadata": {},
   "outputs": [
    {
     "data": {
      "text/plain": [
       "(404,)"
      ]
     },
     "execution_count": 143,
     "metadata": {},
     "output_type": "execute_result"
    }
   ],
   "source": [
    "gisaid.loc[(gisaid['codon_num']==452) & (gisaid['gene']=='S') & (gisaid['alt_aa']=='R'), 'strain'].unique().shape"
   ]
  },
  {
   "cell_type": "code",
   "execution_count": 24,
   "metadata": {},
   "outputs": [
    {
     "data": {
      "text/plain": [
       "'2020-03-17'"
      ]
     },
     "execution_count": 24,
     "metadata": {},
     "output_type": "execute_result"
    }
   ],
   "source": [
    "gisaid.loc[(gisaid['codon_num']==452) & (gisaid['gene']=='S') & (gisaid['alt_aa']=='R'), 'date'].min()"
   ]
  },
  {
   "cell_type": "code",
   "execution_count": null,
   "metadata": {},
   "outputs": [],
   "source": [
    "gisaid[gisaid['pangolin_lineage']=='B.1.1.70']"
   ]
  },
  {
   "cell_type": "code",
   "execution_count": 15,
   "metadata": {},
   "outputs": [
    {
     "data": {
      "text/plain": [
       "B.1.1.70     48\n",
       "B.1.351      19\n",
       "B.1.160       1\n",
       "B.1.1.31      1\n",
       "B.1.160.6     1\n",
       "B.1.1.1       1\n",
       "B.1.367       1\n",
       "C.14          1\n",
       "Name: pangolin_lineage, dtype: int64"
      ]
     },
     "execution_count": 15,
     "metadata": {},
     "output_type": "execute_result"
    }
   ],
   "source": [
    "dists.loc[(dists['group']=='outgroup') & (dists['genetic_distance']>0.0008), 'pangolin_lineage'].value_counts()"
   ]
  }
 ],
 "metadata": {
  "kernelspec": {
   "display_name": "covid",
   "language": "python",
   "name": "covid"
  },
  "language_info": {
   "codemirror_mode": {
    "name": "ipython",
    "version": 3
   },
   "file_extension": ".py",
   "mimetype": "text/x-python",
   "name": "python",
   "nbconvert_exporter": "python",
   "pygments_lexer": "ipython3",
   "version": "3.8.3"
  }
 },
 "nbformat": 4,
 "nbformat_minor": 4
}
