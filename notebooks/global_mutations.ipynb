{
 "cells": [
  {
   "cell_type": "markdown",
   "metadata": {},
   "source": [
    "## TODO\n",
    "* `gb_accession` and `gisaid_accession` are not found for new sequences, how do we concat to `metadata.csv` without them?\n",
    "* metadata format for NCBI\n",
    "* support tools for manual sanity checks"
   ]
  },
  {
   "cell_type": "code",
   "execution_count": 15,
   "metadata": {},
   "outputs": [],
   "source": [
    "from bjorn import *\n",
    "from bjorn_support import *\n",
    "from onion_trees import *\n",
    "import gffutils\n",
    "import math\n",
    "from mutations import *"
   ]
  },
  {
   "cell_type": "code",
   "execution_count": 16,
   "metadata": {},
   "outputs": [],
   "source": [
    "input_fasta = \"/home/al/analysis/mutations/S501Y/msa_reference.fa\"\n",
    "meta_fp = \"/home/al/analysis/mutations/S501Y/metadata_2020-12-20_12-24.tsv\"\n",
    "out_dir = \"/home/al/analysis/mutations/S501Y/\"\n",
    "ref_fp = \"/home/al/data/test_inputs/NC045512.fasta\"\n",
    "patient_zero = 'NC_045512.2'"
   ]
  },
  {
   "cell_type": "code",
   "execution_count": 17,
   "metadata": {},
   "outputs": [
    {
     "name": "stderr",
     "output_type": "stream",
     "text": [
      "/home/al/anaconda3/lib/python3.8/site-packages/IPython/core/interactiveshell.py:3145: DtypeWarning: Columns (8) have mixed types.Specify dtype option on import or set low_memory=False.\n",
      "  has_raised = await self.run_ast_nodes(code_ast.body, cell_name,\n"
     ]
    },
    {
     "data": {
      "text/plain": [
       "Index(['strain', 'virus', 'gisaid_epi_isl', 'genbank_accession', 'date',\n",
       "       'region', 'country', 'division', 'location', 'region_exposure',\n",
       "       'country_exposure', 'division_exposure', 'segment', 'length', 'host',\n",
       "       'age', 'sex', 'Nextstrain_clade', 'pangolin_lineage', 'GISAID_clade',\n",
       "       'originating_lab', 'submitting_lab', 'authors', 'url', 'title',\n",
       "       'paper_url', 'date_submitted'],\n",
       "      dtype='object')"
      ]
     },
     "execution_count": 17,
     "metadata": {},
     "output_type": "execute_result"
    }
   ],
   "source": [
    "## keep only seqs contained in meta_file and save to fasta file\n",
    "## concat with internal SD file\n",
    "## generate MSA\n",
    "meta = pd.read_csv(meta_fp, sep='\\t')\n",
    "meta.columns"
   ]
  },
  {
   "cell_type": "code",
   "execution_count": 18,
   "metadata": {},
   "outputs": [],
   "source": [
    "# consensus_data = SeqIO.to_dict(SeqIO.parse(seqs_fp, \"fasta\"))"
   ]
  },
  {
   "cell_type": "code",
   "execution_count": 19,
   "metadata": {},
   "outputs": [
    {
     "data": {
      "text/plain": [
       "273267"
      ]
     },
     "execution_count": 19,
     "metadata": {},
     "output_type": "execute_result"
    }
   ],
   "source": [
    "strains = meta['strain'].unique().tolist()\n",
    "len(strains)"
   ]
  },
  {
   "cell_type": "code",
   "execution_count": 20,
   "metadata": {},
   "outputs": [
    {
     "name": "stdout",
     "output_type": "stream",
     "text": [
      "Loading Alignment file at: /home/al/analysis/mutations/S501Y/msa_reference.fa\n"
     ]
    }
   ],
   "source": [
    "print(f\"Loading Alignment file at: {input_fasta}\")\n",
    "cns = AlignIO.read(input_fasta, 'fasta')"
   ]
  },
  {
   "cell_type": "code",
   "execution_count": 21,
   "metadata": {},
   "outputs": [
    {
     "name": "stdout",
     "output_type": "stream",
     "text": [
      "Initial cleaning...\n"
     ]
    }
   ],
   "source": [
    "print(f\"Initial cleaning...\")\n",
    "seqs, ref_seq = process_cns_seqs(cns, patient_zero,\n",
    "                                 start_pos=0, end_pos=30000)"
   ]
  },
  {
   "cell_type": "code",
   "execution_count": 156,
   "metadata": {},
   "outputs": [
    {
     "name": "stdout",
     "output_type": "stream",
     "text": [
      "Creating a dataframe...\n"
     ]
    }
   ],
   "source": [
    "print(f\"Creating a dataframe...\")\n",
    "seqsdf = (pd.DataFrame(index=seqs.keys(), \n",
    "                       data=seqs.values(), \n",
    "                       columns=['sequence'])\n",
    "            .reset_index()\n",
    "            .rename(columns={'index': 'idx'}))"
   ]
  },
  {
   "cell_type": "code",
   "execution_count": 157,
   "metadata": {},
   "outputs": [],
   "source": [
    "def find_replacements(x, ref):\n",
    "    return [f'{i}:{n}' for i, n in enumerate(x)\n",
    "            if n!=ref[i] and n!='-' and n!='n']"
   ]
  },
  {
   "cell_type": "code",
   "execution_count": 158,
   "metadata": {},
   "outputs": [
    {
     "name": "stdout",
     "output_type": "stream",
     "text": [
      "Identifying mutations...\n"
     ]
    }
   ],
   "source": [
    "print(f\"Identifying mutations...\")\n",
    "# for each sample, identify list of substitutions (position:alt)\n",
    "seqsdf['replacements'] = seqsdf['sequence'].apply(find_replacements, args=(ref_seq,))"
   ]
  },
  {
   "cell_type": "code",
   "execution_count": 159,
   "metadata": {},
   "outputs": [],
   "source": [
    "# wide-to-long data manipulation\n",
    "seqsdf = seqsdf.explode('replacements')"
   ]
  },
  {
   "cell_type": "code",
   "execution_count": 160,
   "metadata": {},
   "outputs": [],
   "source": [
    "# seqsdf"
   ]
  },
  {
   "cell_type": "code",
   "execution_count": 161,
   "metadata": {},
   "outputs": [],
   "source": [
    "seqsdf['pos'] = -1\n",
    "# populate position column\n",
    "seqsdf.loc[~seqsdf['replacements'].isna(), 'pos'] = (seqsdf.loc[~seqsdf['replacements'].isna(), 'replacements']\n",
    "   .apply(lambda x: int(x.split(':')[0])))"
   ]
  },
  {
   "cell_type": "code",
   "execution_count": 162,
   "metadata": {},
   "outputs": [
    {
     "name": "stdout",
     "output_type": "stream",
     "text": [
      "Mapping Genes to mutations...\n"
     ]
    }
   ],
   "source": [
    "# filter out non-substitutions\n",
    "seqsdf = seqsdf.loc[seqsdf['pos']!=-1]\n",
    "print(f\"Mapping Genes to mutations...\")\n",
    "# identify gene of each substitution\n",
    "seqsdf['gene'] = seqsdf['pos'].apply(map_gene_to_pos)\n",
    "seqsdf = seqsdf.loc[~seqsdf['gene'].isna()]"
   ]
  },
  {
   "cell_type": "code",
   "execution_count": 163,
   "metadata": {},
   "outputs": [],
   "source": [
    "# seqsdf"
   ]
  },
  {
   "cell_type": "code",
   "execution_count": 164,
   "metadata": {},
   "outputs": [
    {
     "name": "stdout",
     "output_type": "stream",
     "text": [
      "Compute codon numbers...\n"
     ]
    }
   ],
   "source": [
    "# filter our substitutions in non-gene positions\n",
    "seqsdf = seqsdf.loc[seqsdf['gene']!='nan']\n",
    "print(f\"Compute codon numbers...\")\n",
    "\n",
    "# compute codon number of each substitution\n",
    "seqsdf['codon_num'] = seqsdf.apply(compute_codon_num, args=(GENE2POS,), axis=1)\n"
   ]
  },
  {
   "cell_type": "code",
   "execution_count": 165,
   "metadata": {},
   "outputs": [
    {
     "name": "stdout",
     "output_type": "stream",
     "text": [
      "Fetch reference codon...\n"
     ]
    }
   ],
   "source": [
    "\n",
    "print(f\"Fetch reference codon...\")\n",
    "# fetch the reference codon for each substitution\n",
    "seqsdf['ref_codon'] = seqsdf.apply(get_ref_codon, args=(ref_seq, GENE2POS), axis=1)"
   ]
  },
  {
   "cell_type": "code",
   "execution_count": 166,
   "metadata": {},
   "outputs": [
    {
     "name": "stdout",
     "output_type": "stream",
     "text": [
      "Fetch alternative codon...\n"
     ]
    }
   ],
   "source": [
    "\n",
    "print(f\"Fetch alternative codon...\")\n",
    "# fetch the alternative codon for each substitution\n",
    "seqsdf['alt_codon'] = seqsdf.apply(get_alt_codon, args=(GENE2POS,), axis=1)"
   ]
  },
  {
   "cell_type": "code",
   "execution_count": 167,
   "metadata": {},
   "outputs": [
    {
     "name": "stdout",
     "output_type": "stream",
     "text": [
      "Map amino acids...\n"
     ]
    }
   ],
   "source": [
    "print(f\"Map amino acids...\")\n",
    "# fetch the reference and alternative amino acids\n",
    "seqsdf['ref_aa'] = seqsdf['ref_codon'].apply(get_aa)\n",
    "seqsdf['alt_aa'] = seqsdf['alt_codon'].apply(get_aa)\n",
    "\n",
    "\n",
    "# filter out substitutions with non-amino acid alternates (bad consensus calls)\n",
    "seqsdf = seqsdf.loc[seqsdf['alt_aa']!='nan']"
   ]
  },
  {
   "cell_type": "code",
   "execution_count": 168,
   "metadata": {},
   "outputs": [
    {
     "name": "stdout",
     "output_type": "stream",
     "text": [
      "Fuse with metadata...\n"
     ]
    },
    {
     "name": "stderr",
     "output_type": "stream",
     "text": [
      "/home/al/anaconda3/lib/python3.8/site-packages/IPython/core/interactiveshell.py:3145: DtypeWarning: Columns (8) have mixed types.Specify dtype option on import or set low_memory=False.\n",
      "  has_raised = await self.run_ast_nodes(code_ast.body, cell_name,\n"
     ]
    }
   ],
   "source": [
    "print(f\"Fuse with metadata...\")\n",
    "# load and join metadata\n",
    "meta = pd.read_csv(meta_fp, sep='\\t')\n",
    "seqsdf = pd.merge(seqsdf, meta, left_on='idx', right_on='strain')"
   ]
  },
  {
   "cell_type": "code",
   "execution_count": 169,
   "metadata": {},
   "outputs": [],
   "source": [
    "seqsdf['date'] = pd.to_datetime(seqsdf['date_submitted'])"
   ]
  },
  {
   "cell_type": "code",
   "execution_count": 170,
   "metadata": {},
   "outputs": [],
   "source": [
    "seqsdf['month'] = seqsdf['date'].dt.month"
   ]
  },
  {
   "cell_type": "code",
   "execution_count": 171,
   "metadata": {},
   "outputs": [
    {
     "data": {
      "text/plain": [
       "Index(['idx', 'sequence', 'replacements', 'pos', 'gene', 'codon_num',\n",
       "       'ref_codon', 'alt_codon', 'ref_aa', 'alt_aa', 'strain', 'virus',\n",
       "       'gisaid_epi_isl', 'genbank_accession', 'date', 'region', 'country',\n",
       "       'division', 'location', 'region_exposure', 'country_exposure',\n",
       "       'division_exposure', 'segment', 'length', 'host', 'age', 'sex',\n",
       "       'Nextstrain_clade', 'pangolin_lineage', 'GISAID_clade',\n",
       "       'originating_lab', 'submitting_lab', 'authors', 'url', 'title',\n",
       "       'paper_url', 'date_submitted', 'month'],\n",
       "      dtype='object')"
      ]
     },
     "execution_count": 171,
     "metadata": {},
     "output_type": "execute_result"
    }
   ],
   "source": [
    "seqsdf.columns"
   ]
  },
  {
   "cell_type": "code",
   "execution_count": 172,
   "metadata": {},
   "outputs": [],
   "source": [
    "seqsdf.loc[seqsdf['location'].isna(), 'location'] = 'unk'"
   ]
  },
  {
   "cell_type": "code",
   "execution_count": null,
   "metadata": {},
   "outputs": [],
   "source": [
    "out_dir = Path('/home/al/analysis/mutations/gisaid')"
   ]
  },
  {
   "cell_type": "code",
   "execution_count": 204,
   "metadata": {},
   "outputs": [],
   "source": [
    "seqsdf.drop(columns=['sequence']).to_csv(out_dir/'gisaid_replacements_19-12-2020.csv', index=False)"
   ]
  },
  {
   "cell_type": "code",
   "execution_count": 205,
   "metadata": {},
   "outputs": [],
   "source": [
    "seqsdf[['idx', 'sequence']].to_csv(out_dir/'gisaid_sequences_19-12-2020.csv', index=False)"
   ]
  },
  {
   "cell_type": "code",
   "execution_count": 22,
   "metadata": {},
   "outputs": [],
   "source": [
    "seqsdf = pd.read_csv('/home/al/analysis/mutations/gisaid/gisaid_replacements_19-12-2020.csv')"
   ]
  },
  {
   "cell_type": "code",
   "execution_count": 23,
   "metadata": {},
   "outputs": [],
   "source": [
    "seqsdf = seqsdf[seqsdf['host']=='Human']"
   ]
  },
  {
   "cell_type": "code",
   "execution_count": 29,
   "metadata": {},
   "outputs": [
    {
     "name": "stdout",
     "output_type": "stream",
     "text": [
      "Aggregate final results...\n"
     ]
    }
   ],
   "source": [
    "print(f\"Aggregate final results...\")\n",
    "# aggregate on each substitutions, compute number of samples and other attributes\n",
    "subs = (seqsdf.groupby(['gene', 'pos', 'ref_aa', 'codon_num', 'alt_aa'])\n",
    ".agg(\n",
    " num_samples=('idx', 'nunique'),\n",
    " first_detected=('date', 'min'),\n",
    " last_detected=('date', 'max'),\n",
    " num_locations=('location', 'nunique'),\n",
    " location_counts=('location', lambda x: np.unique(x, return_counts=True)),\n",
    " num_divisions=('division', 'nunique'),\n",
    " division_counts=('division', lambda x: np.unique(x, return_counts=True)),\n",
    " num_countries=('country', 'nunique'),\n",
    " country_counts=('country', lambda x: np.unique(x, return_counts=True))\n",
    ")\n",
    ".reset_index())\n",
    "# 1-based nucleotide position coordinate system\n",
    "subs['pos'] = subs['pos'] + 1"
   ]
  },
  {
   "cell_type": "code",
   "execution_count": 32,
   "metadata": {},
   "outputs": [],
   "source": [
    "# subs.sort_values('num_samples', ascending=False).iloc[0]['country_counts']"
   ]
  },
  {
   "cell_type": "code",
   "execution_count": 33,
   "metadata": {},
   "outputs": [],
   "source": [
    "subs['locations'] = subs['location_counts'].apply(lambda x: list(x[0]))\n",
    "subs['location_counts'] = subs['location_counts'].apply(lambda x: list(x[1]))\n",
    "subs['divisions'] = subs['division_counts'].apply(lambda x: list(x[0]))\n",
    "subs['division_counts'] = subs['division_counts'].apply(lambda x: list(x[1]))\n",
    "subs['countries'] = subs['country_counts'].apply(lambda x: list(x[0]))\n",
    "subs['country_counts'] = subs['country_counts'].apply(lambda x: list(x[1]))"
   ]
  },
  {
   "cell_type": "code",
   "execution_count": 181,
   "metadata": {},
   "outputs": [
    {
     "name": "stdout",
     "output_type": "stream",
     "text": [
      "Aggregate final results...\n"
     ]
    }
   ],
   "source": [
    "print(f\"Aggregate final results...\")\n",
    "# aggregate on each substitutions, compute number of samples and other attributes\n",
    "subs_mnth = (seqsdf.groupby(['month', 'gene', 'pos', 'ref_aa', 'codon_num', 'alt_aa'])\n",
    ".agg(\n",
    " num_samples=('idx', 'nunique'),\n",
    " first_detected_mnth=('date', 'min'),\n",
    " last_detected_mnth=('date', 'max'),\n",
    " num_locations=('location', 'nunique'),\n",
    "#  locations=('location', lambda x: list(np.unique(x))),\n",
    " location_counts=('location', lambda x: np.unique(x, return_counts=True)),\n",
    " num_divisions=('division', 'nunique'),\n",
    " division_counts=('division', lambda x: np.unique(x, return_counts=True)),\n",
    " num_countries=('country', 'nunique'),\n",
    "#  countries=('country', lambda x: list(np.unique(x))),\n",
    " country_counts=('country', lambda x: np.unique(x, return_counts=True)),\n",
    ")\n",
    ".reset_index())\n",
    "# 1-based nucleotide position coordinate system\n",
    "subs_mnth['pos'] = subs_mnth['pos'] + 1\n",
    "subs_mnth = pd.merge(subs_mnth, subs[['gene', 'pos', 'alt_aa', 'first_detected', 'last_detected']], on=['gene', 'pos', 'alt_aa'])"
   ]
  },
  {
   "cell_type": "code",
   "execution_count": 34,
   "metadata": {},
   "outputs": [],
   "source": [
    "out_dir = Path('/home/al/analysis/mutations/gisaid')"
   ]
  },
  {
   "cell_type": "code",
   "execution_count": 41,
   "metadata": {},
   "outputs": [],
   "source": [
    "subs.to_csv(out_dir/'gisaid_substitutions_aggregated_19-12-2020.csv', index=False)"
   ]
  },
  {
   "cell_type": "code",
   "execution_count": 183,
   "metadata": {},
   "outputs": [],
   "source": [
    "top_s_mnthly = (subs_mnth[subs_mnth['gene']=='S'].sort_values('num_samples', ascending=False)\n",
    " .drop_duplicates(subset=['gene', 'codon_num', 'alt_aa'])\n",
    " .iloc[:50]\n",
    " .reset_index(drop=True))"
   ]
  },
  {
   "cell_type": "code",
   "execution_count": 192,
   "metadata": {},
   "outputs": [
    {
     "data": {
      "text/plain": [
       "[0, 1, 2, 3, 10, 13, 21, 22, 33, 34, 35, 38, 40, 42, 43, 44, 45, 49]"
      ]
     },
     "execution_count": 192,
     "metadata": {},
     "output_type": "execute_result"
    }
   ],
   "source": [
    "muts_of_interest = []\n",
    "for i, mutation in top_s_mnthly.iterrows():\n",
    "    locs = mutation['location_counts'][0]\n",
    "    for l in locs:\n",
    "        if 'san diego' in l.lower():\n",
    "            muts_of_interest.append(i)\n",
    "muts_of_interest"
   ]
  },
  {
   "cell_type": "code",
   "execution_count": 197,
   "metadata": {},
   "outputs": [],
   "source": [
    "def is_in(x, loc):\n",
    "    for i in x[0]:\n",
    "        if loc in i.lower():\n",
    "            return True\n",
    "    return False\n",
    "top_s_mnthly['isin_SD'] = top_s_mnthly['location_counts'].apply(is_in, args=('san diego',))\n",
    "top_s_mnthly['isin_CA'] = top_s_mnthly['division_counts'].apply(is_in, args=('california',))\n",
    "top_s_mnthly['isin_US'] = top_s_mnthly['country_counts'].apply(is_in, args=('usa',))\n",
    "\n",
    "top_s_mnthly.to_csv(\"/home/al/analysis/mutations/gisaid/top_S_mutations_monthly.csv\", index=False)"
   ]
  },
  {
   "cell_type": "markdown",
   "metadata": {},
   "source": [
    "### Integrate GISAID information with ALab variants table"
   ]
  },
  {
   "cell_type": "code",
   "execution_count": 42,
   "metadata": {},
   "outputs": [],
   "source": [
    "out_dir = Path('/home/al/analysis/mutations/gisaid')\n",
    "subs = pd.read_csv(out_dir/'gisaid_substitutions_aggregated_19-12-2020.csv')"
   ]
  },
  {
   "cell_type": "code",
   "execution_count": 43,
   "metadata": {},
   "outputs": [],
   "source": [
    "gisaid_subs = (subs.rename(columns={'num_samples': 'gisaid_num_samples', 'first_detected': 'gisaid_1st_detected', 'last_detected': 'gisaid_last_detected',\n",
    "                                    'num_locations': 'gisaid_num_locations', 'locations': 'gisaid_locations', 'location_counts': 'gisaid_location_counts',\n",
    "                                   'num_divisions': 'gisaid_num_states','divisions': 'gisaid_states', 'division_counts': 'gisaid_state_counts',\n",
    "                                   'num_countries': 'gisaid_num_countries', 'countries': 'gisaid_countries', 'country_counts': 'gisaid_country_counts'})\n",
    "               .drop(columns=['ref_aa', 'pos']))"
   ]
  },
  {
   "cell_type": "code",
   "execution_count": 44,
   "metadata": {},
   "outputs": [
    {
     "data": {
      "text/plain": [
       "Index(['gene', 'codon_num', 'alt_aa', 'gisaid_num_samples',\n",
       "       'gisaid_1st_detected', 'gisaid_last_detected', 'gisaid_num_locations',\n",
       "       'gisaid_location_counts', 'gisaid_num_states', 'gisaid_state_counts',\n",
       "       'gisaid_num_countries', 'gisaid_country_counts', 'gisaid_locations',\n",
       "       'gisaid_states', 'gisaid_countries'],\n",
       "      dtype='object')"
      ]
     },
     "execution_count": 44,
     "metadata": {},
     "output_type": "execute_result"
    }
   ],
   "source": [
    "gisaid_subs.columns"
   ]
  },
  {
   "cell_type": "code",
   "execution_count": 45,
   "metadata": {},
   "outputs": [],
   "source": [
    "# gisaid_subs.sort_values('gisaid_num_samples', ascending=False).iloc[0]['gisaid_country_counts']"
   ]
  },
  {
   "cell_type": "code",
   "execution_count": 46,
   "metadata": {},
   "outputs": [
    {
     "data": {
      "text/plain": [
       "(4043, 13)"
      ]
     },
     "execution_count": 46,
     "metadata": {},
     "output_type": "execute_result"
    }
   ],
   "source": [
    "our_subs = pd.read_csv(\"/home/al/analysis/mutations/alab_git/substitutions_22-12-2020_orig.csv\")\n",
    "our_subs.shape"
   ]
  },
  {
   "cell_type": "code",
   "execution_count": 47,
   "metadata": {},
   "outputs": [],
   "source": [
    "all_subs = pd.merge(our_subs, gisaid_subs, on=['gene', 'codon_num', 'alt_aa'], how='left').drop_duplicates(subset=['gene', 'codon_num', 'alt_aa'])"
   ]
  },
  {
   "cell_type": "code",
   "execution_count": 48,
   "metadata": {},
   "outputs": [
    {
     "data": {
      "text/plain": [
       "Index(['gene', 'ref_codon', 'alt_codon', 'pos', 'ref_aa', 'codon_num',\n",
       "       'alt_aa', 'num_samples', 'first_detected', 'last_detected',\n",
       "       'location_counts', 'samples', 'locations', 'gisaid_num_samples',\n",
       "       'gisaid_1st_detected', 'gisaid_last_detected', 'gisaid_num_locations',\n",
       "       'gisaid_location_counts', 'gisaid_num_states', 'gisaid_state_counts',\n",
       "       'gisaid_num_countries', 'gisaid_country_counts', 'gisaid_locations',\n",
       "       'gisaid_states', 'gisaid_countries'],\n",
       "      dtype='object')"
      ]
     },
     "execution_count": 48,
     "metadata": {},
     "output_type": "execute_result"
    }
   ],
   "source": [
    "all_subs.columns"
   ]
  },
  {
   "cell_type": "code",
   "execution_count": 53,
   "metadata": {},
   "outputs": [
    {
     "data": {
      "text/html": [
       "<div>\n",
       "<style scoped>\n",
       "    .dataframe tbody tr th:only-of-type {\n",
       "        vertical-align: middle;\n",
       "    }\n",
       "\n",
       "    .dataframe tbody tr th {\n",
       "        vertical-align: top;\n",
       "    }\n",
       "\n",
       "    .dataframe thead th {\n",
       "        text-align: right;\n",
       "    }\n",
       "</style>\n",
       "<table border=\"1\" class=\"dataframe\">\n",
       "  <thead>\n",
       "    <tr style=\"text-align: right;\">\n",
       "      <th></th>\n",
       "      <th>gene</th>\n",
       "      <th>ref_codon</th>\n",
       "      <th>alt_codon</th>\n",
       "      <th>pos</th>\n",
       "      <th>ref_aa</th>\n",
       "      <th>codon_num</th>\n",
       "      <th>alt_aa</th>\n",
       "      <th>num_samples</th>\n",
       "      <th>first_detected</th>\n",
       "      <th>last_detected</th>\n",
       "      <th>...</th>\n",
       "      <th>gisaid_last_detected</th>\n",
       "      <th>gisaid_num_locations</th>\n",
       "      <th>gisaid_location_counts</th>\n",
       "      <th>gisaid_num_states</th>\n",
       "      <th>gisaid_state_counts</th>\n",
       "      <th>gisaid_num_countries</th>\n",
       "      <th>gisaid_country_counts</th>\n",
       "      <th>gisaid_locations</th>\n",
       "      <th>gisaid_states</th>\n",
       "      <th>gisaid_countries</th>\n",
       "    </tr>\n",
       "  </thead>\n",
       "  <tbody>\n",
       "    <tr>\n",
       "      <th>0</th>\n",
       "      <td>S</td>\n",
       "      <td>GAT</td>\n",
       "      <td>GGT</td>\n",
       "      <td>23403</td>\n",
       "      <td>D</td>\n",
       "      <td>614</td>\n",
       "      <td>G</td>\n",
       "      <td>3194</td>\n",
       "      <td>2020-03-04</td>\n",
       "      <td>2020-12-06</td>\n",
       "      <td>...</td>\n",
       "      <td>2020-12-19</td>\n",
       "      <td>2145.0</td>\n",
       "      <td>[15, 1, 5, 2, 8, 1, 1, 10, 1, 1, 2, 12, 8, 196...</td>\n",
       "      <td>969.0</td>\n",
       "      <td>[1, 155, 102, 831, 1, 2, 1, 1, 29, 11, 50, 1, ...</td>\n",
       "      <td>129.0</td>\n",
       "      <td>[3, 1, 50, 1, 9, 15004, 692, 126, 480, 1, 1666...</td>\n",
       "      <td>['A Coruna', 'Aarschot', 'Abakan', 'Abondant',...</td>\n",
       "      <td>['Aalst', 'Aargau', 'Abruzzo', 'Abu Dhabi', 'A...</td>\n",
       "      <td>['Algeria', 'Andorra', 'Argentina', 'Armenia',...</td>\n",
       "    </tr>\n",
       "    <tr>\n",
       "      <th>2</th>\n",
       "      <td>ORF1ab</td>\n",
       "      <td>CTA</td>\n",
       "      <td>TTA</td>\n",
       "      <td>14408</td>\n",
       "      <td>L</td>\n",
       "      <td>4715</td>\n",
       "      <td>L</td>\n",
       "      <td>3194</td>\n",
       "      <td>2020-03-04</td>\n",
       "      <td>2020-12-06</td>\n",
       "      <td>...</td>\n",
       "      <td>2020-12-19</td>\n",
       "      <td>2129.0</td>\n",
       "      <td>[15, 1, 4, 2, 8, 1, 10, 1, 1, 2, 12, 8, 193, 1...</td>\n",
       "      <td>954.0</td>\n",
       "      <td>[1, 155, 80, 805, 1, 2, 1, 1, 29, 11, 50, 1, 1...</td>\n",
       "      <td>128.0</td>\n",
       "      <td>[3, 1, 48, 1, 9, 14966, 688, 81, 460, 1, 1669,...</td>\n",
       "      <td>['A Coruna', 'Aarschot', 'Abakan', 'Abondant',...</td>\n",
       "      <td>['Aalst', 'Aargau', 'Abruzzo', 'Abu Dhabi', 'A...</td>\n",
       "      <td>['Algeria', 'Andorra', 'Argentina', 'Armenia',...</td>\n",
       "    </tr>\n",
       "    <tr>\n",
       "      <th>3</th>\n",
       "      <td>ORF1ab</td>\n",
       "      <td>TTC</td>\n",
       "      <td>TTT</td>\n",
       "      <td>3037</td>\n",
       "      <td>F</td>\n",
       "      <td>924</td>\n",
       "      <td>F</td>\n",
       "      <td>3185</td>\n",
       "      <td>2020-03-04</td>\n",
       "      <td>2020-12-06</td>\n",
       "      <td>...</td>\n",
       "      <td>2020-12-19</td>\n",
       "      <td>2136.0</td>\n",
       "      <td>[15, 1, 5, 2, 8, 1, 10, 1, 1, 2, 12, 8, 197, 1...</td>\n",
       "      <td>960.0</td>\n",
       "      <td>[1, 146, 102, 774, 1, 2, 1, 1, 29, 11, 50, 1, ...</td>\n",
       "      <td>129.0</td>\n",
       "      <td>[3, 1, 50, 1, 9, 14992, 679, 124, 458, 1, 1668...</td>\n",
       "      <td>['A Coruna', 'Aarschot', 'Abakan', 'Abondant',...</td>\n",
       "      <td>['Aalst', 'Aargau', 'Abruzzo', 'Abu Dhabi', 'A...</td>\n",
       "      <td>['Algeria', 'Andorra', 'Argentina', 'Armenia',...</td>\n",
       "    </tr>\n",
       "    <tr>\n",
       "      <th>4</th>\n",
       "      <td>5UTR</td>\n",
       "      <td>CGT</td>\n",
       "      <td>TGT</td>\n",
       "      <td>241</td>\n",
       "      <td>R</td>\n",
       "      <td>81</td>\n",
       "      <td>C</td>\n",
       "      <td>3158</td>\n",
       "      <td>2020-03-04</td>\n",
       "      <td>2020-12-06</td>\n",
       "      <td>...</td>\n",
       "      <td>2020-12-19</td>\n",
       "      <td>2117.0</td>\n",
       "      <td>[15, 1, 5, 2, 8, 1, 10, 1, 1, 2, 10, 7, 197, 1...</td>\n",
       "      <td>952.0</td>\n",
       "      <td>[1, 155, 99, 835, 1, 2, 1, 29, 1, 11, 50, 1, 2...</td>\n",
       "      <td>128.0</td>\n",
       "      <td>[3, 50, 1, 9, 13405, 688, 124, 474, 1, 1665, 4...</td>\n",
       "      <td>['A Coruna', 'Aarschot', 'Abakan', 'Abondant',...</td>\n",
       "      <td>['Aalst', 'Aargau', 'Abruzzo', 'Abu Dhabi', 'A...</td>\n",
       "      <td>['Algeria', 'Argentina', 'Armenia', 'Aruba', '...</td>\n",
       "    </tr>\n",
       "    <tr>\n",
       "      <th>6</th>\n",
       "      <td>N</td>\n",
       "      <td>TCA</td>\n",
       "      <td>TTA</td>\n",
       "      <td>28854</td>\n",
       "      <td>S</td>\n",
       "      <td>194</td>\n",
       "      <td>L</td>\n",
       "      <td>1603</td>\n",
       "      <td>2020-03-23</td>\n",
       "      <td>2020-12-06</td>\n",
       "      <td>...</td>\n",
       "      <td>2020-12-19</td>\n",
       "      <td>279.0</td>\n",
       "      <td>[120, 5, 71, 1, 4, 20, 1, 1, 3, 1, 1, 1, 1, 8,...</td>\n",
       "      <td>259.0</td>\n",
       "      <td>[8, 13, 10, 4, 1, 7, 18, 3, 4, 418, 4, 46, 2, ...</td>\n",
       "      <td>63.0</td>\n",
       "      <td>[4, 122, 1, 3, 31, 28, 119, 17, 2, 3, 1, 1, 15...</td>\n",
       "      <td>['Ahmedabad', 'Alachua County', 'Alameda Count...</td>\n",
       "      <td>['Aargau', 'Abu Dhabi', 'Agder', 'Aguascalient...</td>\n",
       "      <td>['Aruba', 'Australia', 'Austria', 'Bahrain', '...</td>\n",
       "    </tr>\n",
       "    <tr>\n",
       "      <th>...</th>\n",
       "      <td>...</td>\n",
       "      <td>...</td>\n",
       "      <td>...</td>\n",
       "      <td>...</td>\n",
       "      <td>...</td>\n",
       "      <td>...</td>\n",
       "      <td>...</td>\n",
       "      <td>...</td>\n",
       "      <td>...</td>\n",
       "      <td>...</td>\n",
       "      <td>...</td>\n",
       "      <td>...</td>\n",
       "      <td>...</td>\n",
       "      <td>...</td>\n",
       "      <td>...</td>\n",
       "      <td>...</td>\n",
       "      <td>...</td>\n",
       "      <td>...</td>\n",
       "      <td>...</td>\n",
       "      <td>...</td>\n",
       "      <td>...</td>\n",
       "    </tr>\n",
       "    <tr>\n",
       "      <th>2959</th>\n",
       "      <td>N</td>\n",
       "      <td>AGC</td>\n",
       "      <td>ATC</td>\n",
       "      <td>28875</td>\n",
       "      <td>S</td>\n",
       "      <td>201</td>\n",
       "      <td>I</td>\n",
       "      <td>1</td>\n",
       "      <td>2020-03-16</td>\n",
       "      <td>2020-03-16</td>\n",
       "      <td>...</td>\n",
       "      <td>2020-12-17</td>\n",
       "      <td>2.0</td>\n",
       "      <td>[1, 57]</td>\n",
       "      <td>8.0</td>\n",
       "      <td>[1, 11, 1, 1, 1, 3, 3, 37]</td>\n",
       "      <td>6.0</td>\n",
       "      <td>[1, 38, 4, 1, 3, 11]</td>\n",
       "      <td>['San Diego County', 'unk']</td>\n",
       "      <td>['California', 'England', 'Oslo', 'Osun State'...</td>\n",
       "      <td>['Nigeria', 'Norway', 'Switzerland', 'USA', 'U...</td>\n",
       "    </tr>\n",
       "    <tr>\n",
       "      <th>2958</th>\n",
       "      <td>ORF6</td>\n",
       "      <td>GAT</td>\n",
       "      <td>TAT</td>\n",
       "      <td>27382</td>\n",
       "      <td>D</td>\n",
       "      <td>61</td>\n",
       "      <td>Y</td>\n",
       "      <td>1</td>\n",
       "      <td>2020-10-02</td>\n",
       "      <td>2020-10-02</td>\n",
       "      <td>...</td>\n",
       "      <td>2020-12-12</td>\n",
       "      <td>8.0</td>\n",
       "      <td>[4, 1, 1, 1, 1, 1, 1, 88]</td>\n",
       "      <td>25.0</td>\n",
       "      <td>[1, 1, 2, 1, 1, 33, 1, 4, 1, 21, 1, 6, 1, 1, 1...</td>\n",
       "      <td>12.0</td>\n",
       "      <td>[1, 24, 2, 2, 1, 1, 1, 1, 2, 4, 12, 47]</td>\n",
       "      <td>['Gibraltar', 'Huescar', 'Milwaukee County', '...</td>\n",
       "      <td>['Amman', 'Andalusia', 'Arizona', 'Balear Isla...</td>\n",
       "      <td>['Australia', 'Denmark', 'France', 'India', 'J...</td>\n",
       "    </tr>\n",
       "    <tr>\n",
       "      <th>2957</th>\n",
       "      <td>N</td>\n",
       "      <td>AGT</td>\n",
       "      <td>AAT</td>\n",
       "      <td>29511</td>\n",
       "      <td>S</td>\n",
       "      <td>413</td>\n",
       "      <td>N</td>\n",
       "      <td>1</td>\n",
       "      <td>2020-06-23</td>\n",
       "      <td>2020-06-23</td>\n",
       "      <td>...</td>\n",
       "      <td>2020-12-12</td>\n",
       "      <td>3.0</td>\n",
       "      <td>[1, 1, 9]</td>\n",
       "      <td>5.0</td>\n",
       "      <td>[2, 1, 3, 1, 4]</td>\n",
       "      <td>2.0</td>\n",
       "      <td>[8, 3]</td>\n",
       "      <td>['Greater Houston Area', 'San Diego County', '...</td>\n",
       "      <td>['Arizona', 'California', 'England', 'Texas', ...</td>\n",
       "      <td>['USA', 'United Kingdom']</td>\n",
       "    </tr>\n",
       "    <tr>\n",
       "      <th>2956</th>\n",
       "      <td>N</td>\n",
       "      <td>ATG</td>\n",
       "      <td>ATT</td>\n",
       "      <td>28903</td>\n",
       "      <td>M</td>\n",
       "      <td>210</td>\n",
       "      <td>I</td>\n",
       "      <td>1</td>\n",
       "      <td>2020-09-12</td>\n",
       "      <td>2020-09-12</td>\n",
       "      <td>...</td>\n",
       "      <td>2020-12-17</td>\n",
       "      <td>22.0</td>\n",
       "      <td>[1, 1, 1, 1, 1, 1, 1, 1, 1, 1, 2, 1, 1, 1, 1, ...</td>\n",
       "      <td>41.0</td>\n",
       "      <td>[3, 2, 2, 1, 1, 1, 4, 1, 1, 567, 1, 1, 2, 1, 4...</td>\n",
       "      <td>21.0</td>\n",
       "      <td>[1, 1, 3, 4, 4, 2, 1, 3, 10, 3, 5, 1, 1, 2, 3,...</td>\n",
       "      <td>['Alameda County', 'Badalona', 'Caruaru', 'Con...</td>\n",
       "      <td>['Abu Dhabi', 'Alajuela', 'Auckland', 'Auvergn...</td>\n",
       "      <td>['Australia', 'Bangladesh', 'Brazil', 'Costa R...</td>\n",
       "    </tr>\n",
       "    <tr>\n",
       "      <th>4401</th>\n",
       "      <td>S</td>\n",
       "      <td>TTT</td>\n",
       "      <td>TTC</td>\n",
       "      <td>23257</td>\n",
       "      <td>F</td>\n",
       "      <td>565</td>\n",
       "      <td>F</td>\n",
       "      <td>1</td>\n",
       "      <td>2020-10-13</td>\n",
       "      <td>2020-10-13</td>\n",
       "      <td>...</td>\n",
       "      <td>2020-12-13</td>\n",
       "      <td>2.0</td>\n",
       "      <td>[1, 2]</td>\n",
       "      <td>2.0</td>\n",
       "      <td>[2, 1]</td>\n",
       "      <td>2.0</td>\n",
       "      <td>[1, 2]</td>\n",
       "      <td>['San Diego', 'unk']</td>\n",
       "      <td>['Abu Dhabi', 'California']</td>\n",
       "      <td>['USA', 'United Arab Emirates']</td>\n",
       "    </tr>\n",
       "  </tbody>\n",
       "</table>\n",
       "<p>3950 rows × 25 columns</p>\n",
       "</div>"
      ],
      "text/plain": [
       "        gene ref_codon alt_codon    pos ref_aa  codon_num alt_aa  num_samples  \\\n",
       "0          S       GAT       GGT  23403      D        614      G         3194   \n",
       "2     ORF1ab       CTA       TTA  14408      L       4715      L         3194   \n",
       "3     ORF1ab       TTC       TTT   3037      F        924      F         3185   \n",
       "4       5UTR       CGT       TGT    241      R         81      C         3158   \n",
       "6          N       TCA       TTA  28854      S        194      L         1603   \n",
       "...      ...       ...       ...    ...    ...        ...    ...          ...   \n",
       "2959       N       AGC       ATC  28875      S        201      I            1   \n",
       "2958    ORF6       GAT       TAT  27382      D         61      Y            1   \n",
       "2957       N       AGT       AAT  29511      S        413      N            1   \n",
       "2956       N       ATG       ATT  28903      M        210      I            1   \n",
       "4401       S       TTT       TTC  23257      F        565      F            1   \n",
       "\n",
       "     first_detected last_detected  ... gisaid_last_detected  \\\n",
       "0        2020-03-04    2020-12-06  ...           2020-12-19   \n",
       "2        2020-03-04    2020-12-06  ...           2020-12-19   \n",
       "3        2020-03-04    2020-12-06  ...           2020-12-19   \n",
       "4        2020-03-04    2020-12-06  ...           2020-12-19   \n",
       "6        2020-03-23    2020-12-06  ...           2020-12-19   \n",
       "...             ...           ...  ...                  ...   \n",
       "2959     2020-03-16    2020-03-16  ...           2020-12-17   \n",
       "2958     2020-10-02    2020-10-02  ...           2020-12-12   \n",
       "2957     2020-06-23    2020-06-23  ...           2020-12-12   \n",
       "2956     2020-09-12    2020-09-12  ...           2020-12-17   \n",
       "4401     2020-10-13    2020-10-13  ...           2020-12-13   \n",
       "\n",
       "     gisaid_num_locations                             gisaid_location_counts  \\\n",
       "0                  2145.0  [15, 1, 5, 2, 8, 1, 1, 10, 1, 1, 2, 12, 8, 196...   \n",
       "2                  2129.0  [15, 1, 4, 2, 8, 1, 10, 1, 1, 2, 12, 8, 193, 1...   \n",
       "3                  2136.0  [15, 1, 5, 2, 8, 1, 10, 1, 1, 2, 12, 8, 197, 1...   \n",
       "4                  2117.0  [15, 1, 5, 2, 8, 1, 10, 1, 1, 2, 10, 7, 197, 1...   \n",
       "6                   279.0  [120, 5, 71, 1, 4, 20, 1, 1, 3, 1, 1, 1, 1, 8,...   \n",
       "...                   ...                                                ...   \n",
       "2959                  2.0                                            [1, 57]   \n",
       "2958                  8.0                          [4, 1, 1, 1, 1, 1, 1, 88]   \n",
       "2957                  3.0                                          [1, 1, 9]   \n",
       "2956                 22.0  [1, 1, 1, 1, 1, 1, 1, 1, 1, 1, 2, 1, 1, 1, 1, ...   \n",
       "4401                  2.0                                             [1, 2]   \n",
       "\n",
       "      gisaid_num_states                                gisaid_state_counts  \\\n",
       "0                 969.0  [1, 155, 102, 831, 1, 2, 1, 1, 29, 11, 50, 1, ...   \n",
       "2                 954.0  [1, 155, 80, 805, 1, 2, 1, 1, 29, 11, 50, 1, 1...   \n",
       "3                 960.0  [1, 146, 102, 774, 1, 2, 1, 1, 29, 11, 50, 1, ...   \n",
       "4                 952.0  [1, 155, 99, 835, 1, 2, 1, 29, 1, 11, 50, 1, 2...   \n",
       "6                 259.0  [8, 13, 10, 4, 1, 7, 18, 3, 4, 418, 4, 46, 2, ...   \n",
       "...                 ...                                                ...   \n",
       "2959                8.0                         [1, 11, 1, 1, 1, 3, 3, 37]   \n",
       "2958               25.0  [1, 1, 2, 1, 1, 33, 1, 4, 1, 21, 1, 6, 1, 1, 1...   \n",
       "2957                5.0                                    [2, 1, 3, 1, 4]   \n",
       "2956               41.0  [3, 2, 2, 1, 1, 1, 4, 1, 1, 567, 1, 1, 2, 1, 4...   \n",
       "4401                2.0                                             [2, 1]   \n",
       "\n",
       "     gisaid_num_countries                              gisaid_country_counts  \\\n",
       "0                   129.0  [3, 1, 50, 1, 9, 15004, 692, 126, 480, 1, 1666...   \n",
       "2                   128.0  [3, 1, 48, 1, 9, 14966, 688, 81, 460, 1, 1669,...   \n",
       "3                   129.0  [3, 1, 50, 1, 9, 14992, 679, 124, 458, 1, 1668...   \n",
       "4                   128.0  [3, 50, 1, 9, 13405, 688, 124, 474, 1, 1665, 4...   \n",
       "6                    63.0  [4, 122, 1, 3, 31, 28, 119, 17, 2, 3, 1, 1, 15...   \n",
       "...                   ...                                                ...   \n",
       "2959                  6.0                               [1, 38, 4, 1, 3, 11]   \n",
       "2958                 12.0            [1, 24, 2, 2, 1, 1, 1, 1, 2, 4, 12, 47]   \n",
       "2957                  2.0                                             [8, 3]   \n",
       "2956                 21.0  [1, 1, 3, 4, 4, 2, 1, 3, 10, 3, 5, 1, 1, 2, 3,...   \n",
       "4401                  2.0                                             [1, 2]   \n",
       "\n",
       "                                       gisaid_locations  \\\n",
       "0     ['A Coruna', 'Aarschot', 'Abakan', 'Abondant',...   \n",
       "2     ['A Coruna', 'Aarschot', 'Abakan', 'Abondant',...   \n",
       "3     ['A Coruna', 'Aarschot', 'Abakan', 'Abondant',...   \n",
       "4     ['A Coruna', 'Aarschot', 'Abakan', 'Abondant',...   \n",
       "6     ['Ahmedabad', 'Alachua County', 'Alameda Count...   \n",
       "...                                                 ...   \n",
       "2959                        ['San Diego County', 'unk']   \n",
       "2958  ['Gibraltar', 'Huescar', 'Milwaukee County', '...   \n",
       "2957  ['Greater Houston Area', 'San Diego County', '...   \n",
       "2956  ['Alameda County', 'Badalona', 'Caruaru', 'Con...   \n",
       "4401                               ['San Diego', 'unk']   \n",
       "\n",
       "                                          gisaid_states  \\\n",
       "0     ['Aalst', 'Aargau', 'Abruzzo', 'Abu Dhabi', 'A...   \n",
       "2     ['Aalst', 'Aargau', 'Abruzzo', 'Abu Dhabi', 'A...   \n",
       "3     ['Aalst', 'Aargau', 'Abruzzo', 'Abu Dhabi', 'A...   \n",
       "4     ['Aalst', 'Aargau', 'Abruzzo', 'Abu Dhabi', 'A...   \n",
       "6     ['Aargau', 'Abu Dhabi', 'Agder', 'Aguascalient...   \n",
       "...                                                 ...   \n",
       "2959  ['California', 'England', 'Oslo', 'Osun State'...   \n",
       "2958  ['Amman', 'Andalusia', 'Arizona', 'Balear Isla...   \n",
       "2957  ['Arizona', 'California', 'England', 'Texas', ...   \n",
       "2956  ['Abu Dhabi', 'Alajuela', 'Auckland', 'Auvergn...   \n",
       "4401                        ['Abu Dhabi', 'California']   \n",
       "\n",
       "                                       gisaid_countries  \n",
       "0     ['Algeria', 'Andorra', 'Argentina', 'Armenia',...  \n",
       "2     ['Algeria', 'Andorra', 'Argentina', 'Armenia',...  \n",
       "3     ['Algeria', 'Andorra', 'Argentina', 'Armenia',...  \n",
       "4     ['Algeria', 'Argentina', 'Armenia', 'Aruba', '...  \n",
       "6     ['Aruba', 'Australia', 'Austria', 'Bahrain', '...  \n",
       "...                                                 ...  \n",
       "2959  ['Nigeria', 'Norway', 'Switzerland', 'USA', 'U...  \n",
       "2958  ['Australia', 'Denmark', 'France', 'India', 'J...  \n",
       "2957                          ['USA', 'United Kingdom']  \n",
       "2956  ['Australia', 'Bangladesh', 'Brazil', 'Costa R...  \n",
       "4401                    ['USA', 'United Arab Emirates']  \n",
       "\n",
       "[3950 rows x 25 columns]"
      ]
     },
     "execution_count": 53,
     "metadata": {},
     "output_type": "execute_result"
    }
   ],
   "source": [
    "all_subs.sort_values('num_samples', ascending=False)"
   ]
  },
  {
   "cell_type": "code",
   "execution_count": 28,
   "metadata": {},
   "outputs": [
    {
     "data": {
      "text/html": [
       "<div>\n",
       "<style scoped>\n",
       "    .dataframe tbody tr th:only-of-type {\n",
       "        vertical-align: middle;\n",
       "    }\n",
       "\n",
       "    .dataframe tbody tr th {\n",
       "        vertical-align: top;\n",
       "    }\n",
       "\n",
       "    .dataframe thead th {\n",
       "        text-align: right;\n",
       "    }\n",
       "</style>\n",
       "<table border=\"1\" class=\"dataframe\">\n",
       "  <thead>\n",
       "    <tr style=\"text-align: right;\">\n",
       "      <th></th>\n",
       "      <th>gene</th>\n",
       "      <th>pos</th>\n",
       "      <th>ref_aa</th>\n",
       "      <th>codon_num</th>\n",
       "      <th>alt_aa</th>\n",
       "      <th>num_samples</th>\n",
       "      <th>first_detected</th>\n",
       "      <th>last_detected</th>\n",
       "      <th>num_locations</th>\n",
       "      <th>locations</th>\n",
       "      <th>location_counts</th>\n",
       "      <th>num_countries</th>\n",
       "      <th>countries</th>\n",
       "    </tr>\n",
       "  </thead>\n",
       "  <tbody>\n",
       "    <tr>\n",
       "      <th>23070</th>\n",
       "      <td>S</td>\n",
       "      <td>24432</td>\n",
       "      <td>Q</td>\n",
       "      <td>957</td>\n",
       "      <td>L</td>\n",
       "      <td>3</td>\n",
       "      <td>2020-10-27</td>\n",
       "      <td>2020-12-09</td>\n",
       "      <td>3</td>\n",
       "      <td>[Counties Manukau, King County, Sydney]</td>\n",
       "      <td>[1, 1, 1]</td>\n",
       "      <td>3</td>\n",
       "      <td>[USA, Australia, New Zealand]</td>\n",
       "    </tr>\n",
       "  </tbody>\n",
       "</table>\n",
       "</div>"
      ],
      "text/plain": [
       "      gene    pos ref_aa  codon_num alt_aa  num_samples first_detected  \\\n",
       "23070    S  24432      Q        957      L            3     2020-10-27   \n",
       "\n",
       "      last_detected  num_locations                                locations  \\\n",
       "23070    2020-12-09              3  [Counties Manukau, King County, Sydney]   \n",
       "\n",
       "      location_counts  num_countries                      countries  \n",
       "23070       [1, 1, 1]              3  [USA, Australia, New Zealand]  "
      ]
     },
     "execution_count": 28,
     "metadata": {},
     "output_type": "execute_result"
    }
   ],
   "source": [
    "subs.loc[(subs['gene']=='S')&(subs['alt_aa']=='L')&(subs['codon_num']==957)]"
   ]
  },
  {
   "cell_type": "code",
   "execution_count": null,
   "metadata": {},
   "outputs": [],
   "source": []
  },
  {
   "cell_type": "code",
   "execution_count": 30,
   "metadata": {},
   "outputs": [],
   "source": [
    "cols = ['month', 'ref_aa', 'codon_num', 'alt_aa', 'first_detected', \n",
    "        'last_detected', 'num_samples', 'num_countries', \n",
    "        'countries', 'country_counts', 'num_locations', 'locations', 'location_counts' ,\n",
    "        'first_detected_mnth', 'last_detected_mnth']"
   ]
  },
  {
   "cell_type": "code",
   "execution_count": 72,
   "metadata": {},
   "outputs": [],
   "source": [
    "# (subs_mnth[(subs_mnth['gene']=='S') & (subs_mnth['month']==12)]\n",
    "#  .sort_values('num_samples', ascending=False)\n",
    "#  .drop_duplicates(subset=['codon_num', 'alt_aa'], keep='first')\n",
    "#  .iloc[:50]\n",
    "#  .reset_index(drop=True))[cols]"
   ]
  },
  {
   "cell_type": "code",
   "execution_count": 132,
   "metadata": {},
   "outputs": [],
   "source": [
    "# keys_df = seqsdf[['idx', 'sequence']]\n",
    "# keys_df.to_csv('gisaid_replacements.csv', index=False)"
   ]
  },
  {
   "cell_type": "code",
   "execution_count": null,
   "metadata": {},
   "outputs": [],
   "source": []
  },
  {
   "cell_type": "code",
   "execution_count": 133,
   "metadata": {},
   "outputs": [],
   "source": [
    "sd = []\n",
    "for d in seqsdf['location'].dropna().unique():\n",
    "    if 'san diego' in d.lower():\n",
    "        sd.append(d)"
   ]
  },
  {
   "cell_type": "code",
   "execution_count": 111,
   "metadata": {},
   "outputs": [],
   "source": [
    "ca = []\n",
    "for d in seqsdf['division'].unique():\n",
    "    if 'cali' in d.lower():\n",
    "        ca.append(d)"
   ]
  },
  {
   "cell_type": "code",
   "execution_count": 73,
   "metadata": {},
   "outputs": [],
   "source": [
    "# cols = ['idx', 'location', 'division', 'pos']\n",
    "# seqsdf.loc[(seqsdf['codon_num']==681) & (seqsdf['gene']=='S')][cols]"
   ]
  },
  {
   "cell_type": "markdown",
   "metadata": {},
   "source": [
    "## Deletions"
   ]
  },
  {
   "cell_type": "code",
   "execution_count": 285,
   "metadata": {},
   "outputs": [],
   "source": [
    "input_fasta = \"/home/al/analysis/mutations/S501Y/msa_reference.fa\"\n",
    "meta_fp = \"/home/al/analysis/mutations/S501Y/metadata_2020-12-20_12-24.tsv\"\n",
    "out_dir = \"/home/al/analysis/mutations/S501Y/\"\n",
    "ref_fp = \"/home/al/data/test_inputs/NC045512.fasta\"\n",
    "patient_zero = 'NC_045512.2'\n",
    "min_del_len = 1\n",
    "start_pos = 265\n",
    "end_pos = 29674"
   ]
  },
  {
   "cell_type": "code",
   "execution_count": 286,
   "metadata": {},
   "outputs": [],
   "source": [
    "# read MSA file\n",
    "consensus_data = AlignIO.read(input_fasta, 'fasta')\n",
    "# prcess MSA to remove insertions and fix position coordinate systems\n",
    "seqs, ref_seq = process_cns_seqs(consensus_data, patient_zero, start_pos=start_pos, end_pos=end_pos)\n",
    "# load into dataframe\n",
    "seqsdf = (pd.DataFrame(index=seqs.keys(), data=seqs.values(), \n",
    "                       columns=['sequence'])\n",
    "            .reset_index().rename(columns={'index': 'idx'}))"
   ]
  },
  {
   "cell_type": "code",
   "execution_count": 287,
   "metadata": {},
   "outputs": [
    {
     "name": "stderr",
     "output_type": "stream",
     "text": [
      "/home/al/anaconda3/lib/python3.8/site-packages/IPython/core/interactiveshell.py:3145: DtypeWarning: Columns (8) have mixed types.Specify dtype option on import or set low_memory=False.\n",
      "  has_raised = await self.run_ast_nodes(code_ast.body, cell_name,\n"
     ]
    },
    {
     "name": "stdout",
     "output_type": "stream",
     "text": [
      "(273268, 2)\n",
      "(273267, 29)\n"
     ]
    }
   ],
   "source": [
    "# load and join metadata\n",
    "meta = pd.read_csv(meta_fp, sep='\\t')\n",
    "print(seqsdf.shape)\n",
    "seqsdf = pd.merge(seqsdf, meta, left_on='idx', right_on='strain')\n",
    "print(seqsdf.shape)\n",
    "# # clean and process sample collection dates\n",
    "# seqsdf = seqsdf.loc[(seqsdf['collection_date']!='Unknown') \n",
    "#                & (seqsdf['collection_date']!='1900-01-00')]\n",
    "# seqsdf.loc[seqsdf['collection_date'].str.contains('/'), 'collection_date'] = seqsdf['collection_date'].apply(lambda x: x.split('/')[0])\n",
    "seqsdf['date'] = pd.to_datetime(seqsdf['date_submitted'])"
   ]
  },
  {
   "cell_type": "code",
   "execution_count": 288,
   "metadata": {},
   "outputs": [],
   "source": [
    "# compute length of each sequence\n",
    "seqsdf['seq_len'] = seqsdf['sequence'].str.len()\n",
    "# identify deletion positions\n",
    "seqsdf['del_positions'] = seqsdf['sequence'].apply(find_deletions)"
   ]
  },
  {
   "cell_type": "code",
   "execution_count": 289,
   "metadata": {},
   "outputs": [
    {
     "data": {
      "text/plain": [
       "Index(['idx', 'sequence', 'strain', 'virus', 'gisaid_epi_isl',\n",
       "       'genbank_accession', 'date', 'region', 'country', 'division',\n",
       "       'location', 'region_exposure', 'country_exposure', 'division_exposure',\n",
       "       'segment', 'length', 'host', 'age', 'sex', 'Nextstrain_clade',\n",
       "       'pangolin_lineage', 'GISAID_clade', 'originating_lab', 'submitting_lab',\n",
       "       'authors', 'url', 'title', 'paper_url', 'date_submitted', 'seq_len',\n",
       "       'del_positions'],\n",
       "      dtype='object')"
      ]
     },
     "execution_count": 289,
     "metadata": {},
     "output_type": "execute_result"
    }
   ],
   "source": [
    "seqsdf.columns"
   ]
  },
  {
   "cell_type": "code",
   "execution_count": 290,
   "metadata": {},
   "outputs": [],
   "source": [
    "seqsdf = seqsdf[seqsdf['host']=='Human']"
   ]
  },
  {
   "cell_type": "code",
   "execution_count": 291,
   "metadata": {},
   "outputs": [
    {
     "data": {
      "text/html": [
       "<div>\n",
       "<style scoped>\n",
       "    .dataframe tbody tr th:only-of-type {\n",
       "        vertical-align: middle;\n",
       "    }\n",
       "\n",
       "    .dataframe tbody tr th {\n",
       "        vertical-align: top;\n",
       "    }\n",
       "\n",
       "    .dataframe thead th {\n",
       "        text-align: right;\n",
       "    }\n",
       "</style>\n",
       "<table border=\"1\" class=\"dataframe\">\n",
       "  <thead>\n",
       "    <tr style=\"text-align: right;\">\n",
       "      <th></th>\n",
       "      <th>relative_coords</th>\n",
       "      <th>del_len</th>\n",
       "      <th>samples</th>\n",
       "      <th>num_samples</th>\n",
       "      <th>first_detected</th>\n",
       "      <th>last_detected</th>\n",
       "      <th>location_counts</th>\n",
       "      <th>division_counts</th>\n",
       "      <th>country_counts</th>\n",
       "      <th>type</th>\n",
       "      <th>...</th>\n",
       "      <th>pos</th>\n",
       "      <th>gene</th>\n",
       "      <th>codon_num</th>\n",
       "      <th>ref_codon</th>\n",
       "      <th>ref_aa</th>\n",
       "      <th>prev_5nts</th>\n",
       "      <th>next_5nts</th>\n",
       "      <th>locations</th>\n",
       "      <th>divisions</th>\n",
       "      <th>countries</th>\n",
       "    </tr>\n",
       "  </thead>\n",
       "  <tbody>\n",
       "    <tr>\n",
       "      <th>938</th>\n",
       "      <td>21499:21504</td>\n",
       "      <td>6</td>\n",
       "      <td>[England/SHEF-C43D2/2020, Australia/VIC1606/20...</td>\n",
       "      <td>6353</td>\n",
       "      <td>2020-05-27</td>\n",
       "      <td>2020-12-19</td>\n",
       "      <td>[1, 1, 3, 1, 1, 2, 3, 1, 6, 11, 1, 1, 1, 1, 1,...</td>\n",
       "      <td>[1, 1, 1, 10, 8, 6, 1, 1, 19, 1, 13, 1, 1, 325...</td>\n",
       "      <td>[8, 2, 1, 4, 79, 6, 2303, 1, 14, 8, 1, 3, 2, 2...</td>\n",
       "      <td>deletion</td>\n",
       "      <td>...</td>\n",
       "      <td>21765</td>\n",
       "      <td>S</td>\n",
       "      <td>68</td>\n",
       "      <td>ATA</td>\n",
       "      <td>I</td>\n",
       "      <td>gctat</td>\n",
       "      <td>ctctg</td>\n",
       "      <td>[Benátky nad Jizerou, Bobo Dioulasso, Brno, Ch...</td>\n",
       "      <td>[Aargau, Agder, Auckland, Auvergne-Rhône-Alpes...</td>\n",
       "      <td>[Australia, Burkina Faso, Canada, Croatia, Cze...</td>\n",
       "    </tr>\n",
       "    <tr>\n",
       "      <th>233</th>\n",
       "      <td>0:76</td>\n",
       "      <td>77</td>\n",
       "      <td>[Guangdong/ZQ-S2-P0061/2020, USA/CT-Yale-001/2...</td>\n",
       "      <td>3295</td>\n",
       "      <td>2020-03-09</td>\n",
       "      <td>2020-12-18</td>\n",
       "      <td>[1, 1, 2, 1, 1, 8, 297, 1, 1, 2, 2, 2, 3, 1, 2...</td>\n",
       "      <td>[5, 3, 2, 2, 2, 4, 3, 43, 62, 1, 1, 16, 2, 5, ...</td>\n",
       "      <td>[32, 4, 2, 3, 154, 52, 5, 8, 1, 1, 2, 1, 37, 1...</td>\n",
       "      <td>deletion</td>\n",
       "      <td>...</td>\n",
       "      <td>266</td>\n",
       "      <td>ORF1ab</td>\n",
       "      <td>1</td>\n",
       "      <td>ATG</td>\n",
       "      <td>M</td>\n",
       "      <td>taaga</td>\n",
       "      <td>ctcgt</td>\n",
       "      <td>[Alameda County, Barcelona, Barranquilla, Brow...</td>\n",
       "      <td>[Alaska, Antioquia, Atlantico, Auckland, Austr...</td>\n",
       "      <td>[Australia, Austria, Bangladesh, Belgium, Braz...</td>\n",
       "    </tr>\n",
       "    <tr>\n",
       "      <th>987</th>\n",
       "      <td>21725:21727</td>\n",
       "      <td>3</td>\n",
       "      <td>[India/MH-1-27/2020, Netherlands/ZuidHolland_7...</td>\n",
       "      <td>2096</td>\n",
       "      <td>2020-03-06</td>\n",
       "      <td>2020-12-19</td>\n",
       "      <td>[2, 1, 1, 4, 6, 2, 1, 1, 1, 1, 1, 1, 1, 1, 1, ...</td>\n",
       "      <td>[3, 1, 2, 1, 1, 1, 1, 2, 1, 1, 6, 1, 2, 5, 1, ...</td>\n",
       "      <td>[3, 1, 5, 1, 1, 20, 1, 1, 1, 2, 2, 4, 1, 3, 1,...</td>\n",
       "      <td>deletion</td>\n",
       "      <td>...</td>\n",
       "      <td>21991</td>\n",
       "      <td>S</td>\n",
       "      <td>144</td>\n",
       "      <td>TAT</td>\n",
       "      <td>Y</td>\n",
       "      <td>gtgtt</td>\n",
       "      <td>tacca</td>\n",
       "      <td>[Alameda County, Allegheny County, Amadora, Ca...</td>\n",
       "      <td>[Abu Dhabi, Amman, Andalusia, Apulia, Aragon, ...</td>\n",
       "      <td>[Australia, Bangladesh, Canada, Côte d'Ivoire,...</td>\n",
       "    </tr>\n",
       "    <tr>\n",
       "      <th>2539</th>\n",
       "      <td>29400:29408</td>\n",
       "      <td>9</td>\n",
       "      <td>[Guangdong/DG-S9-P0045/2020, Guangdong/MM-S1-P...</td>\n",
       "      <td>2052</td>\n",
       "      <td>2020-03-09</td>\n",
       "      <td>2020-12-19</td>\n",
       "      <td>[7, 1, 1, 1, 1, 33, 17, 1, 2, 1, 165, 10, 1, 1...</td>\n",
       "      <td>[26, 3, 1, 1, 2, 9, 19, 2, 1, 8, 1, 1, 28, 3, ...</td>\n",
       "      <td>[49, 27, 25, 11, 138, 43, 3, 6, 3, 45, 1, 2, 2...</td>\n",
       "      <td>deletion</td>\n",
       "      <td>...</td>\n",
       "      <td>29666</td>\n",
       "      <td>ORF10</td>\n",
       "      <td>37</td>\n",
       "      <td>CTC</td>\n",
       "      <td>L</td>\n",
       "      <td>taatc</td>\n",
       "      <td>aatct</td>\n",
       "      <td>[A Coruna, Alameda County, Alaquas, Brown Coun...</td>\n",
       "      <td>[Alaska, Amazonas, Aragon, Arizona, Auckland, ...</td>\n",
       "      <td>[Australia, Austria, Bangladesh, Belgium, Braz...</td>\n",
       "    </tr>\n",
       "    <tr>\n",
       "      <th>459</th>\n",
       "      <td>1339:1341</td>\n",
       "      <td>3</td>\n",
       "      <td>[France/ARA-739/2020, Netherlands/Andel_136506...</td>\n",
       "      <td>2020</td>\n",
       "      <td>2020-02-14</td>\n",
       "      <td>2020-12-18</td>\n",
       "      <td>[1, 1, 1, 1, 1, 1, 4, 1, 1, 1, 1, 1, 1, 1, 2, ...</td>\n",
       "      <td>[1, 9, 2, 2, 1, 1, 1, 4, 4, 1, 6, 1, 3, 2, 1, ...</td>\n",
       "      <td>[27, 15, 5, 2, 2, 1, 1, 26, 2, 10, 1, 1, 2, 3,...</td>\n",
       "      <td>deletion</td>\n",
       "      <td>...</td>\n",
       "      <td>1605</td>\n",
       "      <td>ORF1ab</td>\n",
       "      <td>447</td>\n",
       "      <td>AAT</td>\n",
       "      <td>N</td>\n",
       "      <td>cttaa</td>\n",
       "      <td>caacc</td>\n",
       "      <td>[Alcaniz, Algemesi, Alhaurin de la Torre, Alzi...</td>\n",
       "      <td>[Agder, Andalusia, Aragon, Athens, Auckland, A...</td>\n",
       "      <td>[Australia, Belgium, Canada, Chile, Curacao, C...</td>\n",
       "    </tr>\n",
       "    <tr>\n",
       "      <th>...</th>\n",
       "      <td>...</td>\n",
       "      <td>...</td>\n",
       "      <td>...</td>\n",
       "      <td>...</td>\n",
       "      <td>...</td>\n",
       "      <td>...</td>\n",
       "      <td>...</td>\n",
       "      <td>...</td>\n",
       "      <td>...</td>\n",
       "      <td>...</td>\n",
       "      <td>...</td>\n",
       "      <td>...</td>\n",
       "      <td>...</td>\n",
       "      <td>...</td>\n",
       "      <td>...</td>\n",
       "      <td>...</td>\n",
       "      <td>...</td>\n",
       "      <td>...</td>\n",
       "      <td>...</td>\n",
       "      <td>...</td>\n",
       "      <td>...</td>\n",
       "    </tr>\n",
       "    <tr>\n",
       "      <th>2203</th>\n",
       "      <td>29048:29408</td>\n",
       "      <td>361</td>\n",
       "      <td>[Australia/WA387/2020]</td>\n",
       "      <td>1</td>\n",
       "      <td>2020-11-02</td>\n",
       "      <td>2020-11-02</td>\n",
       "      <td>[1]</td>\n",
       "      <td>[1]</td>\n",
       "      <td>[1]</td>\n",
       "      <td>deletion</td>\n",
       "      <td>...</td>\n",
       "      <td>29314</td>\n",
       "      <td>N</td>\n",
       "      <td>348</td>\n",
       "      <td>GAT</td>\n",
       "      <td>D</td>\n",
       "      <td>tcaaa</td>\n",
       "      <td>aatct</td>\n",
       "      <td>[unk]</td>\n",
       "      <td>[Western Australia]</td>\n",
       "      <td>[Australia]</td>\n",
       "    </tr>\n",
       "    <tr>\n",
       "      <th>2202</th>\n",
       "      <td>29043:29408</td>\n",
       "      <td>366</td>\n",
       "      <td>[USA/UT-UPHL-05515/2020]</td>\n",
       "      <td>1</td>\n",
       "      <td>2020-10-08</td>\n",
       "      <td>2020-10-08</td>\n",
       "      <td>[1]</td>\n",
       "      <td>[1]</td>\n",
       "      <td>[1]</td>\n",
       "      <td>deletion</td>\n",
       "      <td>...</td>\n",
       "      <td>29309</td>\n",
       "      <td>N</td>\n",
       "      <td>346</td>\n",
       "      <td>TTC</td>\n",
       "      <td>F</td>\n",
       "      <td>aaatt</td>\n",
       "      <td>aatct</td>\n",
       "      <td>[unk]</td>\n",
       "      <td>[Utah]</td>\n",
       "      <td>[USA]</td>\n",
       "    </tr>\n",
       "    <tr>\n",
       "      <th>2201</th>\n",
       "      <td>29042:29408</td>\n",
       "      <td>367</td>\n",
       "      <td>[Panama/335568/2020]</td>\n",
       "      <td>1</td>\n",
       "      <td>2020-07-24</td>\n",
       "      <td>2020-07-24</td>\n",
       "      <td>[1]</td>\n",
       "      <td>[1]</td>\n",
       "      <td>[1]</td>\n",
       "      <td>deletion</td>\n",
       "      <td>...</td>\n",
       "      <td>29308</td>\n",
       "      <td>N</td>\n",
       "      <td>346</td>\n",
       "      <td>TTC</td>\n",
       "      <td>F</td>\n",
       "      <td>caaat</td>\n",
       "      <td>aatct</td>\n",
       "      <td>[unk]</td>\n",
       "      <td>[Cocle]</td>\n",
       "      <td>[Panama]</td>\n",
       "    </tr>\n",
       "    <tr>\n",
       "      <th>2200</th>\n",
       "      <td>29039:29408</td>\n",
       "      <td>370</td>\n",
       "      <td>[Panama/336247/2020]</td>\n",
       "      <td>1</td>\n",
       "      <td>2020-07-24</td>\n",
       "      <td>2020-07-24</td>\n",
       "      <td>[1]</td>\n",
       "      <td>[1]</td>\n",
       "      <td>[1]</td>\n",
       "      <td>deletion</td>\n",
       "      <td>...</td>\n",
       "      <td>29305</td>\n",
       "      <td>N</td>\n",
       "      <td>345</td>\n",
       "      <td>AAT</td>\n",
       "      <td>N</td>\n",
       "      <td>atcca</td>\n",
       "      <td>aatct</td>\n",
       "      <td>[unk]</td>\n",
       "      <td>[Panama Center]</td>\n",
       "      <td>[Panama]</td>\n",
       "    </tr>\n",
       "    <tr>\n",
       "      <th>497</th>\n",
       "      <td>14221:14235</td>\n",
       "      <td>15</td>\n",
       "      <td>[Egypt/CUNCI-HGC4I032/2020]</td>\n",
       "      <td>1</td>\n",
       "      <td>2020-06-15</td>\n",
       "      <td>2020-06-15</td>\n",
       "      <td>[1]</td>\n",
       "      <td>[1]</td>\n",
       "      <td>[1]</td>\n",
       "      <td>deletion</td>\n",
       "      <td>...</td>\n",
       "      <td>14487</td>\n",
       "      <td>ORF1ab</td>\n",
       "      <td>4741</td>\n",
       "      <td>GAG</td>\n",
       "      <td>E</td>\n",
       "      <td>tcaga</td>\n",
       "      <td>cataa</td>\n",
       "      <td>[unk]</td>\n",
       "      <td>[Egypt]</td>\n",
       "      <td>[Egypt]</td>\n",
       "    </tr>\n",
       "  </tbody>\n",
       "</table>\n",
       "<p>3042 rows × 21 columns</p>\n",
       "</div>"
      ],
      "text/plain": [
       "     relative_coords  del_len  \\\n",
       "938      21499:21504        6   \n",
       "233             0:76       77   \n",
       "987      21725:21727        3   \n",
       "2539     29400:29408        9   \n",
       "459        1339:1341        3   \n",
       "...              ...      ...   \n",
       "2203     29048:29408      361   \n",
       "2202     29043:29408      366   \n",
       "2201     29042:29408      367   \n",
       "2200     29039:29408      370   \n",
       "497      14221:14235       15   \n",
       "\n",
       "                                                samples  num_samples  \\\n",
       "938   [England/SHEF-C43D2/2020, Australia/VIC1606/20...         6353   \n",
       "233   [Guangdong/ZQ-S2-P0061/2020, USA/CT-Yale-001/2...         3295   \n",
       "987   [India/MH-1-27/2020, Netherlands/ZuidHolland_7...         2096   \n",
       "2539  [Guangdong/DG-S9-P0045/2020, Guangdong/MM-S1-P...         2052   \n",
       "459   [France/ARA-739/2020, Netherlands/Andel_136506...         2020   \n",
       "...                                                 ...          ...   \n",
       "2203                             [Australia/WA387/2020]            1   \n",
       "2202                           [USA/UT-UPHL-05515/2020]            1   \n",
       "2201                               [Panama/335568/2020]            1   \n",
       "2200                               [Panama/336247/2020]            1   \n",
       "497                         [Egypt/CUNCI-HGC4I032/2020]            1   \n",
       "\n",
       "     first_detected last_detected  \\\n",
       "938      2020-05-27    2020-12-19   \n",
       "233      2020-03-09    2020-12-18   \n",
       "987      2020-03-06    2020-12-19   \n",
       "2539     2020-03-09    2020-12-19   \n",
       "459      2020-02-14    2020-12-18   \n",
       "...             ...           ...   \n",
       "2203     2020-11-02    2020-11-02   \n",
       "2202     2020-10-08    2020-10-08   \n",
       "2201     2020-07-24    2020-07-24   \n",
       "2200     2020-07-24    2020-07-24   \n",
       "497      2020-06-15    2020-06-15   \n",
       "\n",
       "                                        location_counts  \\\n",
       "938   [1, 1, 3, 1, 1, 2, 3, 1, 6, 11, 1, 1, 1, 1, 1,...   \n",
       "233   [1, 1, 2, 1, 1, 8, 297, 1, 1, 2, 2, 2, 3, 1, 2...   \n",
       "987   [2, 1, 1, 4, 6, 2, 1, 1, 1, 1, 1, 1, 1, 1, 1, ...   \n",
       "2539  [7, 1, 1, 1, 1, 33, 17, 1, 2, 1, 165, 10, 1, 1...   \n",
       "459   [1, 1, 1, 1, 1, 1, 4, 1, 1, 1, 1, 1, 1, 1, 2, ...   \n",
       "...                                                 ...   \n",
       "2203                                                [1]   \n",
       "2202                                                [1]   \n",
       "2201                                                [1]   \n",
       "2200                                                [1]   \n",
       "497                                                 [1]   \n",
       "\n",
       "                                        division_counts  \\\n",
       "938   [1, 1, 1, 10, 8, 6, 1, 1, 19, 1, 13, 1, 1, 325...   \n",
       "233   [5, 3, 2, 2, 2, 4, 3, 43, 62, 1, 1, 16, 2, 5, ...   \n",
       "987   [3, 1, 2, 1, 1, 1, 1, 2, 1, 1, 6, 1, 2, 5, 1, ...   \n",
       "2539  [26, 3, 1, 1, 2, 9, 19, 2, 1, 8, 1, 1, 28, 3, ...   \n",
       "459   [1, 9, 2, 2, 1, 1, 1, 4, 4, 1, 6, 1, 3, 2, 1, ...   \n",
       "...                                                 ...   \n",
       "2203                                                [1]   \n",
       "2202                                                [1]   \n",
       "2201                                                [1]   \n",
       "2200                                                [1]   \n",
       "497                                                 [1]   \n",
       "\n",
       "                                         country_counts      type  ...    pos  \\\n",
       "938   [8, 2, 1, 4, 79, 6, 2303, 1, 14, 8, 1, 3, 2, 2...  deletion  ...  21765   \n",
       "233   [32, 4, 2, 3, 154, 52, 5, 8, 1, 1, 2, 1, 37, 1...  deletion  ...    266   \n",
       "987   [3, 1, 5, 1, 1, 20, 1, 1, 1, 2, 2, 4, 1, 3, 1,...  deletion  ...  21991   \n",
       "2539  [49, 27, 25, 11, 138, 43, 3, 6, 3, 45, 1, 2, 2...  deletion  ...  29666   \n",
       "459   [27, 15, 5, 2, 2, 1, 1, 26, 2, 10, 1, 1, 2, 3,...  deletion  ...   1605   \n",
       "...                                                 ...       ...  ...    ...   \n",
       "2203                                                [1]  deletion  ...  29314   \n",
       "2202                                                [1]  deletion  ...  29309   \n",
       "2201                                                [1]  deletion  ...  29308   \n",
       "2200                                                [1]  deletion  ...  29305   \n",
       "497                                                 [1]  deletion  ...  14487   \n",
       "\n",
       "        gene codon_num  ref_codon ref_aa prev_5nts next_5nts  \\\n",
       "938        S        68        ATA      I     gctat     ctctg   \n",
       "233   ORF1ab         1        ATG      M     taaga     ctcgt   \n",
       "987        S       144        TAT      Y     gtgtt     tacca   \n",
       "2539   ORF10        37        CTC      L     taatc     aatct   \n",
       "459   ORF1ab       447        AAT      N     cttaa     caacc   \n",
       "...      ...       ...        ...    ...       ...       ...   \n",
       "2203       N       348        GAT      D     tcaaa     aatct   \n",
       "2202       N       346        TTC      F     aaatt     aatct   \n",
       "2201       N       346        TTC      F     caaat     aatct   \n",
       "2200       N       345        AAT      N     atcca     aatct   \n",
       "497   ORF1ab      4741        GAG      E     tcaga     cataa   \n",
       "\n",
       "                                              locations  \\\n",
       "938   [Benátky nad Jizerou, Bobo Dioulasso, Brno, Ch...   \n",
       "233   [Alameda County, Barcelona, Barranquilla, Brow...   \n",
       "987   [Alameda County, Allegheny County, Amadora, Ca...   \n",
       "2539  [A Coruna, Alameda County, Alaquas, Brown Coun...   \n",
       "459   [Alcaniz, Algemesi, Alhaurin de la Torre, Alzi...   \n",
       "...                                                 ...   \n",
       "2203                                              [unk]   \n",
       "2202                                              [unk]   \n",
       "2201                                              [unk]   \n",
       "2200                                              [unk]   \n",
       "497                                               [unk]   \n",
       "\n",
       "                                              divisions  \\\n",
       "938   [Aargau, Agder, Auckland, Auvergne-Rhône-Alpes...   \n",
       "233   [Alaska, Antioquia, Atlantico, Auckland, Austr...   \n",
       "987   [Abu Dhabi, Amman, Andalusia, Apulia, Aragon, ...   \n",
       "2539  [Alaska, Amazonas, Aragon, Arizona, Auckland, ...   \n",
       "459   [Agder, Andalusia, Aragon, Athens, Auckland, A...   \n",
       "...                                                 ...   \n",
       "2203                                [Western Australia]   \n",
       "2202                                             [Utah]   \n",
       "2201                                            [Cocle]   \n",
       "2200                                    [Panama Center]   \n",
       "497                                             [Egypt]   \n",
       "\n",
       "                                              countries  \n",
       "938   [Australia, Burkina Faso, Canada, Croatia, Cze...  \n",
       "233   [Australia, Austria, Bangladesh, Belgium, Braz...  \n",
       "987   [Australia, Bangladesh, Canada, Côte d'Ivoire,...  \n",
       "2539  [Australia, Austria, Bangladesh, Belgium, Braz...  \n",
       "459   [Australia, Belgium, Canada, Chile, Curacao, C...  \n",
       "...                                                 ...  \n",
       "2203                                        [Australia]  \n",
       "2202                                              [USA]  \n",
       "2201                                           [Panama]  \n",
       "2200                                           [Panama]  \n",
       "497                                             [Egypt]  \n",
       "\n",
       "[3042 rows x 21 columns]"
      ]
     },
     "execution_count": 291,
     "metadata": {},
     "output_type": "execute_result"
    }
   ],
   "source": [
    "# sequences with one or more deletions\n",
    "del_seqs = seqsdf.loc[seqsdf['del_positions'].str.len() > 0]\n",
    "del_seqs = del_seqs.explode('del_positions')\n",
    "# compute length of each deletion\n",
    "del_seqs['del_len'] = del_seqs['del_positions'].apply(len)\n",
    "# only consider deletions longer than 2nts\n",
    "del_seqs = del_seqs[del_seqs['del_len'] >= min_del_len]\n",
    "# fetch coordinates of each deletion\n",
    "del_seqs['relative_coords'] = del_seqs['del_positions'].apply(get_indel_coords)\n",
    "del_seqs.loc[del_seqs['location'].isna(), 'location'] = 'unk'\n",
    "# group sample by the deletion they share\n",
    "del_seqs = (del_seqs.groupby(['relative_coords', 'del_len'])\n",
    "                    .agg(\n",
    "                         samples=('idx', 'unique'),\n",
    "                         num_samples=('idx', 'nunique'),\n",
    "                         first_detected=('date', 'min'),\n",
    "                         last_detected=('date', 'max'),\n",
    "#                          locations=('location', lambda x: list(np.unique(x))),\n",
    "                         location_counts=('location', lambda x: np.unique(x, return_counts=True)),\n",
    "#                          divisions=('division', lambda x: list(np.unique(x))),\n",
    "                         division_counts=('division', lambda x: np.unique(x, return_counts=True)),\n",
    "#                          countries=('country', lambda x: list(np.unique(x))),\n",
    "                         country_counts=('country', lambda x: np.unique(x, return_counts=True)),\n",
    "                        )\n",
    "                    .reset_index()\n",
    "                    .sort_values('num_samples'))\n",
    "del_seqs['type'] = 'deletion'\n",
    "# adjust coordinates to account for the nts trimmed from beginning e.g. 265nts\n",
    "del_seqs['absolute_coords'] = del_seqs['relative_coords'].apply(adjust_coords, args=(start_pos+1,))\n",
    "del_seqs['pos'] = del_seqs['absolute_coords'].apply(lambda x: int(x.split(':')[0]))\n",
    "# approximate the gene where each deletion was identified\n",
    "del_seqs['gene'] = del_seqs['pos'].apply(map_gene_to_pos)\n",
    "del_seqs = del_seqs.loc[~del_seqs['gene'].isna()]\n",
    "# filter our substitutions in non-gene positions\n",
    "del_seqs = del_seqs.loc[del_seqs['gene']!='nan']\n",
    "# compute codon number of each substitution\n",
    "del_seqs['codon_num'] = del_seqs.apply(compute_codon_num, args=(GENE2POS,), axis=1)\n",
    "# fetch the reference codon for each substitution\n",
    "del_seqs['ref_codon'] = del_seqs.apply(get_ref_codon, args=(ref_seq, GENE2POS), axis=1)\n",
    "# fetch the reference and alternative amino acids\n",
    "del_seqs['ref_aa'] = del_seqs['ref_codon'].apply(get_aa)\n",
    "# record the 5 nts before each deletion (based on reference seq)\n",
    "del_seqs['prev_5nts'] = del_seqs['absolute_coords'].apply(lambda x: ref_seq[int(x.split(':')[0])-5:int(x.split(':')[0])])\n",
    "# record the 5 nts after each deletion (based on reference seq)\n",
    "del_seqs['next_5nts'] = del_seqs['absolute_coords'].apply(lambda x: ref_seq[int(x.split(':')[1])+1:int(x.split(':')[1])+6])\n",
    "del_seqs['locations'] = del_seqs['location_counts'].apply(lambda x: list(x[0]))\n",
    "del_seqs['location_counts'] = del_seqs['location_counts'].apply(lambda x: list(x[1]))\n",
    "del_seqs['divisions'] = del_seqs['division_counts'].apply(lambda x: list(x[0]))\n",
    "del_seqs['division_counts'] = del_seqs['division_counts'].apply(lambda x: list(x[1]))\n",
    "del_seqs['countries'] = del_seqs['country_counts'].apply(lambda x: list(x[0]))\n",
    "del_seqs['country_counts'] = del_seqs['country_counts'].apply(lambda x: list(x[1]))\n",
    "del_seqs.sort_values('num_samples', ascending=False)"
   ]
  },
  {
   "cell_type": "code",
   "execution_count": null,
   "metadata": {},
   "outputs": [],
   "source": []
  },
  {
   "cell_type": "code",
   "execution_count": 293,
   "metadata": {},
   "outputs": [],
   "source": [
    "del_seqs.to_csv('/home/al/analysis/mutations/gisaid/gisaid_deletions_aggregated_19-12-2020.csv', index=False)"
   ]
  },
  {
   "cell_type": "code",
   "execution_count": 294,
   "metadata": {},
   "outputs": [
    {
     "data": {
      "text/plain": [
       "Index(['relative_coords', 'del_len', 'samples', 'num_samples',\n",
       "       'first_detected', 'last_detected', 'location_counts', 'division_counts',\n",
       "       'country_counts', 'type', 'absolute_coords', 'pos', 'gene', 'codon_num',\n",
       "       'ref_codon', 'ref_aa', 'prev_5nts', 'next_5nts', 'locations',\n",
       "       'divisions', 'countries'],\n",
       "      dtype='object')"
      ]
     },
     "execution_count": 294,
     "metadata": {},
     "output_type": "execute_result"
    }
   ],
   "source": [
    "del_seqs.columns"
   ]
  },
  {
   "cell_type": "code",
   "execution_count": 295,
   "metadata": {},
   "outputs": [],
   "source": [
    "gisaid_dels = (del_seqs.rename(columns={'num_samples': 'gisaid_num_samples', 'first_detected': 'gisaid_1st_detected', 'last_detected': 'gisaid_last_detected',\n",
    "                                   'locations': 'gisaid_locations', 'location_counts': 'gisaid_location_counts',\n",
    "                                   'divisions': 'gisaid_states', 'division_counts': 'gisaid_state_counts',\n",
    "                                   'countries': 'gisaid_countries', 'country_counts': 'gisaid_country_counts'})\n",
    "               .drop(columns=['ref_aa', 'pos', 'type', 'samples', 'ref_codon', 'prev_5nts', 'next_5nts', 'relative_coords', 'del_len']))"
   ]
  },
  {
   "cell_type": "code",
   "execution_count": 296,
   "metadata": {},
   "outputs": [],
   "source": [
    "our_dels = pd.read_csv(\"/home/al/analysis/mutations/alab_git/deletions_22-12-2020_orig.csv\")\n",
    "# our_dels"
   ]
  },
  {
   "cell_type": "code",
   "execution_count": 297,
   "metadata": {},
   "outputs": [],
   "source": [
    "cols = ['type', 'gene', 'absolute_coords', 'del_len', 'pos', \n",
    "                 'ref_aa', 'codon_num', 'num_samples',\n",
    "                 'first_detected', 'last_detected', 'locations',\n",
    "                 'location_counts', 'gisaid_num_samples',\n",
    "                 'gisaid_1st_detected', 'gisaid_last_detected', 'gisaid_countries', 'gisaid_country_counts',\n",
    "                 'gisaid_states', 'gisaid_state_counts', 'gisaid_locations', 'gisaid_location_counts', 'samples',\n",
    "                 'ref_codon', 'prev_5nts', 'next_5nts'\n",
    "                 ]"
   ]
  },
  {
   "cell_type": "code",
   "execution_count": 298,
   "metadata": {},
   "outputs": [],
   "source": [
    "our_dels = pd.merge(our_dels, gisaid_dels, on=['gene', 'codon_num', 'absolute_coords'], how='left')"
   ]
  },
  {
   "cell_type": "code",
   "execution_count": 299,
   "metadata": {},
   "outputs": [
    {
     "data": {
      "text/html": [
       "<div>\n",
       "<style scoped>\n",
       "    .dataframe tbody tr th:only-of-type {\n",
       "        vertical-align: middle;\n",
       "    }\n",
       "\n",
       "    .dataframe tbody tr th {\n",
       "        vertical-align: top;\n",
       "    }\n",
       "\n",
       "    .dataframe thead th {\n",
       "        text-align: right;\n",
       "    }\n",
       "</style>\n",
       "<table border=\"1\" class=\"dataframe\">\n",
       "  <thead>\n",
       "    <tr style=\"text-align: right;\">\n",
       "      <th></th>\n",
       "      <th>type</th>\n",
       "      <th>gene</th>\n",
       "      <th>absolute_coords</th>\n",
       "      <th>del_len</th>\n",
       "      <th>pos</th>\n",
       "      <th>ref_aa</th>\n",
       "      <th>codon_num</th>\n",
       "      <th>num_samples</th>\n",
       "      <th>first_detected</th>\n",
       "      <th>last_detected</th>\n",
       "      <th>...</th>\n",
       "      <th>gisaid_countries</th>\n",
       "      <th>gisaid_country_counts</th>\n",
       "      <th>gisaid_states</th>\n",
       "      <th>gisaid_state_counts</th>\n",
       "      <th>gisaid_locations</th>\n",
       "      <th>gisaid_location_counts</th>\n",
       "      <th>samples</th>\n",
       "      <th>ref_codon</th>\n",
       "      <th>prev_5nts</th>\n",
       "      <th>next_5nts</th>\n",
       "    </tr>\n",
       "  </thead>\n",
       "  <tbody>\n",
       "    <tr>\n",
       "      <th>0</th>\n",
       "      <td>deletion</td>\n",
       "      <td>ORF8</td>\n",
       "      <td>28090:28092</td>\n",
       "      <td>3</td>\n",
       "      <td>28090</td>\n",
       "      <td>G</td>\n",
       "      <td>66</td>\n",
       "      <td>49</td>\n",
       "      <td>2020-09-30</td>\n",
       "      <td>2020-11-06</td>\n",
       "      <td>...</td>\n",
       "      <td>[Jordan, USA]</td>\n",
       "      <td>[27, 1]</td>\n",
       "      <td>[Amman, Michigan]</td>\n",
       "      <td>[27, 1]</td>\n",
       "      <td>[unk]</td>\n",
       "      <td>[28]</td>\n",
       "      <td>['hCoV-19/JOR/SEARCH-3903-JOR/2020' 'hCoV-19/J...</td>\n",
       "      <td>GGT</td>\n",
       "      <td>gctgg</td>\n",
       "      <td>taaat</td>\n",
       "    </tr>\n",
       "    <tr>\n",
       "      <th>1</th>\n",
       "      <td>deletion</td>\n",
       "      <td>N</td>\n",
       "      <td>28890:28901</td>\n",
       "      <td>12</td>\n",
       "      <td>28890</td>\n",
       "      <td>S</td>\n",
       "      <td>206</td>\n",
       "      <td>24</td>\n",
       "      <td>2020-06-16</td>\n",
       "      <td>2020-08-25</td>\n",
       "      <td>...</td>\n",
       "      <td>[USA, United Kingdom]</td>\n",
       "      <td>[23, 1]</td>\n",
       "      <td>[California, England]</td>\n",
       "      <td>[23, 1]</td>\n",
       "      <td>[San Diego, unk]</td>\n",
       "      <td>[23, 1]</td>\n",
       "      <td>['hCoV-19/USA/SEARCH-2285-SAN/2020' 'hCoV-19/U...</td>\n",
       "      <td>TCT</td>\n",
       "      <td>acttc</td>\n",
       "      <td>ggctg</td>\n",
       "    </tr>\n",
       "    <tr>\n",
       "      <th>2</th>\n",
       "      <td>deletion</td>\n",
       "      <td>ORF1ab</td>\n",
       "      <td>686:694</td>\n",
       "      <td>9</td>\n",
       "      <td>686</td>\n",
       "      <td>K</td>\n",
       "      <td>141</td>\n",
       "      <td>17</td>\n",
       "      <td>2020-03-31</td>\n",
       "      <td>2020-10-03</td>\n",
       "      <td>...</td>\n",
       "      <td>[Australia, Belgium, Belize, Brazil, Burkina F...</td>\n",
       "      <td>[107, 21, 1, 4, 2, 43, 2, 1, 2, 1, 207, 1, 2, ...</td>\n",
       "      <td>[Abu Dhabi, Aichi, Amazonas, Amman, Andalusia,...</td>\n",
       "      <td>[4, 1, 3, 2, 1, 1, 1, 2, 1, 1, 1, 2, 2, 1, 1, ...</td>\n",
       "      <td>[Angers, Bee County, Bobo Dioulasso, Brooklyn,...</td>\n",
       "      <td>[1, 1, 2, 3, 3, 1, 1, 1, 1, 1, 1, 5, 1, 3, 1, ...</td>\n",
       "      <td>['hCoV-19/USA/SEARCH-0264-NBG/2020' 'hCoV-19/U...</td>\n",
       "      <td>AAG</td>\n",
       "      <td>tctaa</td>\n",
       "      <td>actta</td>\n",
       "    </tr>\n",
       "    <tr>\n",
       "      <th>3</th>\n",
       "      <td>deletion</td>\n",
       "      <td>ORF7b</td>\n",
       "      <td>27879:27891</td>\n",
       "      <td>13</td>\n",
       "      <td>27879</td>\n",
       "      <td>H</td>\n",
       "      <td>42</td>\n",
       "      <td>10</td>\n",
       "      <td>2020-10-20</td>\n",
       "      <td>2020-11-06</td>\n",
       "      <td>...</td>\n",
       "      <td>NaN</td>\n",
       "      <td>NaN</td>\n",
       "      <td>NaN</td>\n",
       "      <td>NaN</td>\n",
       "      <td>NaN</td>\n",
       "      <td>NaN</td>\n",
       "      <td>['hCoV-19/USA/SEARCH-4415-SAN/2020' 'hCoV-19/U...</td>\n",
       "      <td>CAC</td>\n",
       "      <td>ttgtc</td>\n",
       "      <td>catga</td>\n",
       "    </tr>\n",
       "    <tr>\n",
       "      <th>4</th>\n",
       "      <td>deletion</td>\n",
       "      <td>ORF1ab</td>\n",
       "      <td>516:518</td>\n",
       "      <td>3</td>\n",
       "      <td>516</td>\n",
       "      <td>V</td>\n",
       "      <td>84</td>\n",
       "      <td>10</td>\n",
       "      <td>2020-07-22</td>\n",
       "      <td>2020-08-01</td>\n",
       "      <td>...</td>\n",
       "      <td>[Australia, Belgium, Brazil, Denmark, Germany,...</td>\n",
       "      <td>[8, 4, 1, 771, 1, 1, 1, 23, 26, 1]</td>\n",
       "      <td>[Arizona, Baden-Wuerttemberg, California, Dela...</td>\n",
       "      <td>[1, 1, 10, 1, 4, 21, 1, 1, 39, 3, 1, 1, 222, 1...</td>\n",
       "      <td>[Faroe Islands, Hanoi, Kent County, Madrid, Sa...</td>\n",
       "      <td>[1, 1, 1, 1, 10, 1, 1, 821]</td>\n",
       "      <td>['hCoV-19/USA/SEARCH-4342-SAN/2020' 'hCoV-19/U...</td>\n",
       "      <td>GTT</td>\n",
       "      <td>catgt</td>\n",
       "      <td>ggttg</td>\n",
       "    </tr>\n",
       "    <tr>\n",
       "      <th>...</th>\n",
       "      <td>...</td>\n",
       "      <td>...</td>\n",
       "      <td>...</td>\n",
       "      <td>...</td>\n",
       "      <td>...</td>\n",
       "      <td>...</td>\n",
       "      <td>...</td>\n",
       "      <td>...</td>\n",
       "      <td>...</td>\n",
       "      <td>...</td>\n",
       "      <td>...</td>\n",
       "      <td>...</td>\n",
       "      <td>...</td>\n",
       "      <td>...</td>\n",
       "      <td>...</td>\n",
       "      <td>...</td>\n",
       "      <td>...</td>\n",
       "      <td>...</td>\n",
       "      <td>...</td>\n",
       "      <td>...</td>\n",
       "      <td>...</td>\n",
       "    </tr>\n",
       "    <tr>\n",
       "      <th>81</th>\n",
       "      <td>deletion</td>\n",
       "      <td>N</td>\n",
       "      <td>29426:29441</td>\n",
       "      <td>16</td>\n",
       "      <td>29426</td>\n",
       "      <td>R</td>\n",
       "      <td>385</td>\n",
       "      <td>1</td>\n",
       "      <td>2020-06-06</td>\n",
       "      <td>2020-06-06</td>\n",
       "      <td>...</td>\n",
       "      <td>NaN</td>\n",
       "      <td>NaN</td>\n",
       "      <td>NaN</td>\n",
       "      <td>NaN</td>\n",
       "      <td>NaN</td>\n",
       "      <td>NaN</td>\n",
       "      <td>['hCoV-19/MEX/SEARCH-2505-TIJ/2020']</td>\n",
       "      <td>AGA</td>\n",
       "      <td>gcaga</td>\n",
       "      <td>aactg</td>\n",
       "    </tr>\n",
       "    <tr>\n",
       "      <th>82</th>\n",
       "      <td>deletion</td>\n",
       "      <td>ORF10</td>\n",
       "      <td>29574:29588</td>\n",
       "      <td>15</td>\n",
       "      <td>29574</td>\n",
       "      <td>V</td>\n",
       "      <td>6</td>\n",
       "      <td>1</td>\n",
       "      <td>2020-06-30</td>\n",
       "      <td>2020-06-30</td>\n",
       "      <td>...</td>\n",
       "      <td>[USA]</td>\n",
       "      <td>[1]</td>\n",
       "      <td>[California]</td>\n",
       "      <td>[1]</td>\n",
       "      <td>[San Diego]</td>\n",
       "      <td>[1]</td>\n",
       "      <td>['hCoV-19/USA/SEARCH-2405-SAN/2020']</td>\n",
       "      <td>GTT</td>\n",
       "      <td>aacgt</td>\n",
       "      <td>tacga</td>\n",
       "    </tr>\n",
       "    <tr>\n",
       "      <th>83</th>\n",
       "      <td>deletion</td>\n",
       "      <td>ORF1ab</td>\n",
       "      <td>3716:3716</td>\n",
       "      <td>1</td>\n",
       "      <td>3716</td>\n",
       "      <td>A</td>\n",
       "      <td>1151</td>\n",
       "      <td>1</td>\n",
       "      <td>2020-03-16</td>\n",
       "      <td>2020-03-16</td>\n",
       "      <td>...</td>\n",
       "      <td>NaN</td>\n",
       "      <td>NaN</td>\n",
       "      <td>NaN</td>\n",
       "      <td>NaN</td>\n",
       "      <td>NaN</td>\n",
       "      <td>NaN</td>\n",
       "      <td>['hCoV-19/USA/SEARCH-0116-SAN/2020']</td>\n",
       "      <td>GCT</td>\n",
       "      <td>atcag</td>\n",
       "      <td>tggta</td>\n",
       "    </tr>\n",
       "    <tr>\n",
       "      <th>84</th>\n",
       "      <td>deletion</td>\n",
       "      <td>E</td>\n",
       "      <td>26306:26306</td>\n",
       "      <td>1</td>\n",
       "      <td>26306</td>\n",
       "      <td>L</td>\n",
       "      <td>21</td>\n",
       "      <td>1</td>\n",
       "      <td>2020-07-08</td>\n",
       "      <td>2020-07-08</td>\n",
       "      <td>...</td>\n",
       "      <td>NaN</td>\n",
       "      <td>NaN</td>\n",
       "      <td>NaN</td>\n",
       "      <td>NaN</td>\n",
       "      <td>NaN</td>\n",
       "      <td>NaN</td>\n",
       "      <td>['hCoV-19/USA/SEARCH-4104-SAN/2020']</td>\n",
       "      <td>CTT</td>\n",
       "      <td>tttct</td>\n",
       "      <td>gcttt</td>\n",
       "    </tr>\n",
       "    <tr>\n",
       "      <th>85</th>\n",
       "      <td>deletion</td>\n",
       "      <td>ORF1ab</td>\n",
       "      <td>14433:14434</td>\n",
       "      <td>2</td>\n",
       "      <td>14433</td>\n",
       "      <td>E</td>\n",
       "      <td>4723</td>\n",
       "      <td>1</td>\n",
       "      <td>2020-07-12</td>\n",
       "      <td>2020-07-12</td>\n",
       "      <td>...</td>\n",
       "      <td>NaN</td>\n",
       "      <td>NaN</td>\n",
       "      <td>NaN</td>\n",
       "      <td>NaN</td>\n",
       "      <td>NaN</td>\n",
       "      <td>NaN</td>\n",
       "      <td>['hCoV-19/USA/SEARCH-2646-SAN/2020']</td>\n",
       "      <td>GAA</td>\n",
       "      <td>tgaga</td>\n",
       "      <td>aatat</td>\n",
       "    </tr>\n",
       "  </tbody>\n",
       "</table>\n",
       "<p>86 rows × 25 columns</p>\n",
       "</div>"
      ],
      "text/plain": [
       "        type    gene absolute_coords  del_len    pos ref_aa  codon_num  \\\n",
       "0   deletion    ORF8     28090:28092        3  28090      G         66   \n",
       "1   deletion       N     28890:28901       12  28890      S        206   \n",
       "2   deletion  ORF1ab         686:694        9    686      K        141   \n",
       "3   deletion   ORF7b     27879:27891       13  27879      H         42   \n",
       "4   deletion  ORF1ab         516:518        3    516      V         84   \n",
       "..       ...     ...             ...      ...    ...    ...        ...   \n",
       "81  deletion       N     29426:29441       16  29426      R        385   \n",
       "82  deletion   ORF10     29574:29588       15  29574      V          6   \n",
       "83  deletion  ORF1ab       3716:3716        1   3716      A       1151   \n",
       "84  deletion       E     26306:26306        1  26306      L         21   \n",
       "85  deletion  ORF1ab     14433:14434        2  14433      E       4723   \n",
       "\n",
       "    num_samples first_detected last_detected  ...  \\\n",
       "0            49     2020-09-30    2020-11-06  ...   \n",
       "1            24     2020-06-16    2020-08-25  ...   \n",
       "2            17     2020-03-31    2020-10-03  ...   \n",
       "3            10     2020-10-20    2020-11-06  ...   \n",
       "4            10     2020-07-22    2020-08-01  ...   \n",
       "..          ...            ...           ...  ...   \n",
       "81            1     2020-06-06    2020-06-06  ...   \n",
       "82            1     2020-06-30    2020-06-30  ...   \n",
       "83            1     2020-03-16    2020-03-16  ...   \n",
       "84            1     2020-07-08    2020-07-08  ...   \n",
       "85            1     2020-07-12    2020-07-12  ...   \n",
       "\n",
       "                                     gisaid_countries  \\\n",
       "0                                       [Jordan, USA]   \n",
       "1                               [USA, United Kingdom]   \n",
       "2   [Australia, Belgium, Belize, Brazil, Burkina F...   \n",
       "3                                                 NaN   \n",
       "4   [Australia, Belgium, Brazil, Denmark, Germany,...   \n",
       "..                                                ...   \n",
       "81                                                NaN   \n",
       "82                                              [USA]   \n",
       "83                                                NaN   \n",
       "84                                                NaN   \n",
       "85                                                NaN   \n",
       "\n",
       "                                gisaid_country_counts  \\\n",
       "0                                             [27, 1]   \n",
       "1                                             [23, 1]   \n",
       "2   [107, 21, 1, 4, 2, 43, 2, 1, 2, 1, 207, 1, 2, ...   \n",
       "3                                                 NaN   \n",
       "4                  [8, 4, 1, 771, 1, 1, 1, 23, 26, 1]   \n",
       "..                                                ...   \n",
       "81                                                NaN   \n",
       "82                                                [1]   \n",
       "83                                                NaN   \n",
       "84                                                NaN   \n",
       "85                                                NaN   \n",
       "\n",
       "                                        gisaid_states  \\\n",
       "0                                   [Amman, Michigan]   \n",
       "1                               [California, England]   \n",
       "2   [Abu Dhabi, Aichi, Amazonas, Amman, Andalusia,...   \n",
       "3                                                 NaN   \n",
       "4   [Arizona, Baden-Wuerttemberg, California, Dela...   \n",
       "..                                                ...   \n",
       "81                                                NaN   \n",
       "82                                       [California]   \n",
       "83                                                NaN   \n",
       "84                                                NaN   \n",
       "85                                                NaN   \n",
       "\n",
       "                                  gisaid_state_counts  \\\n",
       "0                                             [27, 1]   \n",
       "1                                             [23, 1]   \n",
       "2   [4, 1, 3, 2, 1, 1, 1, 2, 1, 1, 1, 2, 2, 1, 1, ...   \n",
       "3                                                 NaN   \n",
       "4   [1, 1, 10, 1, 4, 21, 1, 1, 39, 3, 1, 1, 222, 1...   \n",
       "..                                                ...   \n",
       "81                                                NaN   \n",
       "82                                                [1]   \n",
       "83                                                NaN   \n",
       "84                                                NaN   \n",
       "85                                                NaN   \n",
       "\n",
       "                                     gisaid_locations  \\\n",
       "0                                               [unk]   \n",
       "1                                    [San Diego, unk]   \n",
       "2   [Angers, Bee County, Bobo Dioulasso, Brooklyn,...   \n",
       "3                                                 NaN   \n",
       "4   [Faroe Islands, Hanoi, Kent County, Madrid, Sa...   \n",
       "..                                                ...   \n",
       "81                                                NaN   \n",
       "82                                        [San Diego]   \n",
       "83                                                NaN   \n",
       "84                                                NaN   \n",
       "85                                                NaN   \n",
       "\n",
       "                               gisaid_location_counts  \\\n",
       "0                                                [28]   \n",
       "1                                             [23, 1]   \n",
       "2   [1, 1, 2, 3, 3, 1, 1, 1, 1, 1, 1, 5, 1, 3, 1, ...   \n",
       "3                                                 NaN   \n",
       "4                         [1, 1, 1, 1, 10, 1, 1, 821]   \n",
       "..                                                ...   \n",
       "81                                                NaN   \n",
       "82                                                [1]   \n",
       "83                                                NaN   \n",
       "84                                                NaN   \n",
       "85                                                NaN   \n",
       "\n",
       "                                              samples ref_codon prev_5nts  \\\n",
       "0   ['hCoV-19/JOR/SEARCH-3903-JOR/2020' 'hCoV-19/J...       GGT     gctgg   \n",
       "1   ['hCoV-19/USA/SEARCH-2285-SAN/2020' 'hCoV-19/U...       TCT     acttc   \n",
       "2   ['hCoV-19/USA/SEARCH-0264-NBG/2020' 'hCoV-19/U...       AAG     tctaa   \n",
       "3   ['hCoV-19/USA/SEARCH-4415-SAN/2020' 'hCoV-19/U...       CAC     ttgtc   \n",
       "4   ['hCoV-19/USA/SEARCH-4342-SAN/2020' 'hCoV-19/U...       GTT     catgt   \n",
       "..                                                ...       ...       ...   \n",
       "81               ['hCoV-19/MEX/SEARCH-2505-TIJ/2020']       AGA     gcaga   \n",
       "82               ['hCoV-19/USA/SEARCH-2405-SAN/2020']       GTT     aacgt   \n",
       "83               ['hCoV-19/USA/SEARCH-0116-SAN/2020']       GCT     atcag   \n",
       "84               ['hCoV-19/USA/SEARCH-4104-SAN/2020']       CTT     tttct   \n",
       "85               ['hCoV-19/USA/SEARCH-2646-SAN/2020']       GAA     tgaga   \n",
       "\n",
       "   next_5nts  \n",
       "0      taaat  \n",
       "1      ggctg  \n",
       "2      actta  \n",
       "3      catga  \n",
       "4      ggttg  \n",
       "..       ...  \n",
       "81     aactg  \n",
       "82     tacga  \n",
       "83     tggta  \n",
       "84     gcttt  \n",
       "85     aatat  \n",
       "\n",
       "[86 rows x 25 columns]"
      ]
     },
     "execution_count": 299,
     "metadata": {},
     "output_type": "execute_result"
    }
   ],
   "source": [
    "our_dels[cols]"
   ]
  },
  {
   "cell_type": "code",
   "execution_count": 300,
   "metadata": {},
   "outputs": [],
   "source": [
    "our_dels[cols].sort_values('num_samples', ascending=False).to_csv(\"/home/al/analysis/mutations/alab_git/deletions_22-12-2020.csv\", index=False)"
   ]
  },
  {
   "cell_type": "code",
   "execution_count": null,
   "metadata": {},
   "outputs": [],
   "source": []
  },
  {
   "cell_type": "code",
   "execution_count": null,
   "metadata": {},
   "outputs": [],
   "source": []
  },
  {
   "cell_type": "code",
   "execution_count": null,
   "metadata": {},
   "outputs": [],
   "source": []
  },
  {
   "cell_type": "code",
   "execution_count": null,
   "metadata": {},
   "outputs": [],
   "source": []
  },
  {
   "cell_type": "code",
   "execution_count": null,
   "metadata": {},
   "outputs": [],
   "source": []
  },
  {
   "cell_type": "code",
   "execution_count": null,
   "metadata": {},
   "outputs": [],
   "source": []
  },
  {
   "cell_type": "code",
   "execution_count": null,
   "metadata": {},
   "outputs": [],
   "source": [
    "align_fasta_reference(seqs_fp, num_cpus=25, ref_fp=ref_fp)"
   ]
  },
  {
   "cell_type": "markdown",
   "metadata": {},
   "source": [
    "## CNS Mutations Report"
   ]
  },
  {
   "cell_type": "code",
   "execution_count": 6,
   "metadata": {},
   "outputs": [],
   "source": [
    "analysis_folder = Path('/home/al/code/HCoV-19-Genomics/consensus_sequences/')\n",
    "meta_fp = Path('/home/al/code/HCoV-19-Genomics/metadata.csv')\n",
    "ref_path = Path('/home/gk/code/hCoV19/db/NC045512.fasta')\n",
    "patient_zero = 'NC_045512.2'\n",
    "in_fp = '/home/al/analysis/mutations/S501Y/msa_aligned.fa'"
   ]
  },
  {
   "cell_type": "code",
   "execution_count": 3,
   "metadata": {},
   "outputs": [],
   "source": [
    "subs = identify_replacements(in_fp, meta_fp)"
   ]
  },
  {
   "cell_type": "code",
   "execution_count": 4,
   "metadata": {},
   "outputs": [
    {
     "data": {
      "text/html": [
       "<div>\n",
       "<style scoped>\n",
       "    .dataframe tbody tr th:only-of-type {\n",
       "        vertical-align: middle;\n",
       "    }\n",
       "\n",
       "    .dataframe tbody tr th {\n",
       "        vertical-align: top;\n",
       "    }\n",
       "\n",
       "    .dataframe thead th {\n",
       "        text-align: right;\n",
       "    }\n",
       "</style>\n",
       "<table border=\"1\" class=\"dataframe\">\n",
       "  <thead>\n",
       "    <tr style=\"text-align: right;\">\n",
       "      <th></th>\n",
       "      <th>gene</th>\n",
       "      <th>pos</th>\n",
       "      <th>ref_aa</th>\n",
       "      <th>codon_num</th>\n",
       "      <th>alt_aa</th>\n",
       "      <th>num_samples</th>\n",
       "      <th>first_detected</th>\n",
       "      <th>last_detected</th>\n",
       "      <th>locations</th>\n",
       "      <th>location_counts</th>\n",
       "      <th>samples</th>\n",
       "    </tr>\n",
       "  </thead>\n",
       "  <tbody>\n",
       "    <tr>\n",
       "      <th>0</th>\n",
       "      <td>3UTR</td>\n",
       "      <td>29679</td>\n",
       "      <td>S</td>\n",
       "      <td>2</td>\n",
       "      <td>F</td>\n",
       "      <td>2</td>\n",
       "      <td>2020-07-14</td>\n",
       "      <td>2020-10-07</td>\n",
       "      <td>USA/California/San Diego</td>\n",
       "      <td>2</td>\n",
       "      <td>[SEARCH-3119-SAN, SEARCH-4245-SAN]</td>\n",
       "    </tr>\n",
       "    <tr>\n",
       "      <th>1</th>\n",
       "      <td>3UTR</td>\n",
       "      <td>29681</td>\n",
       "      <td>L</td>\n",
       "      <td>3</td>\n",
       "      <td>L</td>\n",
       "      <td>2</td>\n",
       "      <td>2020-07-11</td>\n",
       "      <td>2020-07-21</td>\n",
       "      <td>[USA/California/Los Angeles, USA/California/Sa...</td>\n",
       "      <td>[1, 1]</td>\n",
       "      <td>[SEARCH-2600-SAN, SEARCH-2692-LAX]</td>\n",
       "    </tr>\n",
       "    <tr>\n",
       "      <th>2</th>\n",
       "      <td>3UTR</td>\n",
       "      <td>29688</td>\n",
       "      <td>S</td>\n",
       "      <td>5</td>\n",
       "      <td>I</td>\n",
       "      <td>4</td>\n",
       "      <td>2020-03-25</td>\n",
       "      <td>2020-10-26</td>\n",
       "      <td>USA/California/San Diego</td>\n",
       "      <td>4</td>\n",
       "      <td>[SEARCH-0113-SAN, SEARCH-2855-SAN, SEARCH-3609...</td>\n",
       "    </tr>\n",
       "    <tr>\n",
       "      <th>3</th>\n",
       "      <td>3UTR</td>\n",
       "      <td>29690</td>\n",
       "      <td>V</td>\n",
       "      <td>6</td>\n",
       "      <td>L</td>\n",
       "      <td>1</td>\n",
       "      <td>2020-08-13</td>\n",
       "      <td>2020-08-13</td>\n",
       "      <td>USA/California/San Diego</td>\n",
       "      <td>1</td>\n",
       "      <td>[SEARCH-4455-SAN]</td>\n",
       "    </tr>\n",
       "    <tr>\n",
       "      <th>4</th>\n",
       "      <td>3UTR</td>\n",
       "      <td>29692</td>\n",
       "      <td>V</td>\n",
       "      <td>6</td>\n",
       "      <td>V</td>\n",
       "      <td>1</td>\n",
       "      <td>2020-10-03</td>\n",
       "      <td>2020-10-03</td>\n",
       "      <td>Jordan/Amman</td>\n",
       "      <td>1</td>\n",
       "      <td>[SEARCH-4034-JOR]</td>\n",
       "    </tr>\n",
       "  </tbody>\n",
       "</table>\n",
       "</div>"
      ],
      "text/plain": [
       "   gene    pos ref_aa  codon_num alt_aa  num_samples first_detected  \\\n",
       "0  3UTR  29679      S          2      F            2     2020-07-14   \n",
       "1  3UTR  29681      L          3      L            2     2020-07-11   \n",
       "2  3UTR  29688      S          5      I            4     2020-03-25   \n",
       "3  3UTR  29690      V          6      L            1     2020-08-13   \n",
       "4  3UTR  29692      V          6      V            1     2020-10-03   \n",
       "\n",
       "  last_detected                                          locations  \\\n",
       "0    2020-10-07                           USA/California/San Diego   \n",
       "1    2020-07-21  [USA/California/Los Angeles, USA/California/Sa...   \n",
       "2    2020-10-26                           USA/California/San Diego   \n",
       "3    2020-08-13                           USA/California/San Diego   \n",
       "4    2020-10-03                                       Jordan/Amman   \n",
       "\n",
       "  location_counts                                            samples  \n",
       "0               2                 [SEARCH-3119-SAN, SEARCH-4245-SAN]  \n",
       "1          [1, 1]                 [SEARCH-2600-SAN, SEARCH-2692-LAX]  \n",
       "2               4  [SEARCH-0113-SAN, SEARCH-2855-SAN, SEARCH-3609...  \n",
       "3               1                                  [SEARCH-4455-SAN]  \n",
       "4               1                                  [SEARCH-4034-JOR]  "
      ]
     },
     "execution_count": 4,
     "metadata": {},
     "output_type": "execute_result"
    }
   ],
   "source": [
    "subs.head()"
   ]
  },
  {
   "cell_type": "code",
   "execution_count": 5,
   "metadata": {},
   "outputs": [
    {
     "data": {
      "text/html": [
       "<div>\n",
       "<style scoped>\n",
       "    .dataframe tbody tr th:only-of-type {\n",
       "        vertical-align: middle;\n",
       "    }\n",
       "\n",
       "    .dataframe tbody tr th {\n",
       "        vertical-align: top;\n",
       "    }\n",
       "\n",
       "    .dataframe thead th {\n",
       "        text-align: right;\n",
       "    }\n",
       "</style>\n",
       "<table border=\"1\" class=\"dataframe\">\n",
       "  <thead>\n",
       "    <tr style=\"text-align: right;\">\n",
       "      <th></th>\n",
       "      <th>type</th>\n",
       "      <th>gene</th>\n",
       "      <th>absolute_coords</th>\n",
       "      <th>del_len</th>\n",
       "      <th>pos</th>\n",
       "      <th>ref_aa</th>\n",
       "      <th>codon_num</th>\n",
       "      <th>num_samples</th>\n",
       "      <th>first_detected</th>\n",
       "      <th>last_detected</th>\n",
       "      <th>locations</th>\n",
       "      <th>location_counts</th>\n",
       "      <th>samples</th>\n",
       "      <th>ref_codon</th>\n",
       "      <th>prev_5nts</th>\n",
       "      <th>next_5nts</th>\n",
       "    </tr>\n",
       "  </thead>\n",
       "  <tbody>\n",
       "    <tr>\n",
       "      <th>30</th>\n",
       "      <td>deletion</td>\n",
       "      <td>ORF7a</td>\n",
       "      <td>27538:27572</td>\n",
       "      <td>35</td>\n",
       "      <td>27538</td>\n",
       "      <td>L</td>\n",
       "      <td>49</td>\n",
       "      <td>1</td>\n",
       "      <td>2020-04-28</td>\n",
       "      <td>2020-04-28</td>\n",
       "      <td>MEX/Baja California/Tijuana</td>\n",
       "      <td>1</td>\n",
       "      <td>[hCoV-19/MEX/SEARCH-1480-TIJ/2020]</td>\n",
       "      <td>CTA</td>\n",
       "      <td>tcctc</td>\n",
       "      <td>actca</td>\n",
       "    </tr>\n",
       "    <tr>\n",
       "      <th>27</th>\n",
       "      <td>deletion</td>\n",
       "      <td>ORF6</td>\n",
       "      <td>27264:27290</td>\n",
       "      <td>27</td>\n",
       "      <td>27264</td>\n",
       "      <td>F</td>\n",
       "      <td>22</td>\n",
       "      <td>1</td>\n",
       "      <td>2020-07-28</td>\n",
       "      <td>2020-07-28</td>\n",
       "      <td>USA/California/San Diego</td>\n",
       "      <td>1</td>\n",
       "      <td>[hCoV-19/USA/SEARCH-3236-SAN/2020]</td>\n",
       "      <td>TTT</td>\n",
       "      <td>ggact</td>\n",
       "      <td>tacat</td>\n",
       "    </tr>\n",
       "    <tr>\n",
       "      <th>28</th>\n",
       "      <td>deletion</td>\n",
       "      <td>ORF6</td>\n",
       "      <td>27266:27293</td>\n",
       "      <td>28</td>\n",
       "      <td>27266</td>\n",
       "      <td>F</td>\n",
       "      <td>22</td>\n",
       "      <td>1</td>\n",
       "      <td>2020-04-23</td>\n",
       "      <td>2020-04-23</td>\n",
       "      <td>USA/California/San Diego</td>\n",
       "      <td>1</td>\n",
       "      <td>[hCoV-19/USA/SEARCH-1921-SAN/2020]</td>\n",
       "      <td>TTT</td>\n",
       "      <td>acttt</td>\n",
       "      <td>atcat</td>\n",
       "    </tr>\n",
       "    <tr>\n",
       "      <th>29</th>\n",
       "      <td>deletion</td>\n",
       "      <td>ORF7a</td>\n",
       "      <td>27498:27531</td>\n",
       "      <td>34</td>\n",
       "      <td>27498</td>\n",
       "      <td>S</td>\n",
       "      <td>36</td>\n",
       "      <td>1</td>\n",
       "      <td>2020-05-12</td>\n",
       "      <td>2020-05-12</td>\n",
       "      <td>USA/California/Imperial</td>\n",
       "      <td>1</td>\n",
       "      <td>[hCoV-19/USA/SEARCH-0573-IPL/2020]</td>\n",
       "      <td>TCT</td>\n",
       "      <td>cttgc</td>\n",
       "      <td>atcct</td>\n",
       "    </tr>\n",
       "    <tr>\n",
       "      <th>59</th>\n",
       "      <td>deletion</td>\n",
       "      <td>ORF1ab</td>\n",
       "      <td>6656:6679</td>\n",
       "      <td>24</td>\n",
       "      <td>6656</td>\n",
       "      <td>N</td>\n",
       "      <td>2131</td>\n",
       "      <td>1</td>\n",
       "      <td>2020-06-13</td>\n",
       "      <td>2020-06-13</td>\n",
       "      <td>USA/California/San Diego</td>\n",
       "      <td>1</td>\n",
       "      <td>[hCoV-19/USA/SEARCH-3559-SAN/2020]</td>\n",
       "      <td>AAT</td>\n",
       "      <td>tgtta</td>\n",
       "      <td>ctaat</td>\n",
       "    </tr>\n",
       "    <tr>\n",
       "      <th>...</th>\n",
       "      <td>...</td>\n",
       "      <td>...</td>\n",
       "      <td>...</td>\n",
       "      <td>...</td>\n",
       "      <td>...</td>\n",
       "      <td>...</td>\n",
       "      <td>...</td>\n",
       "      <td>...</td>\n",
       "      <td>...</td>\n",
       "      <td>...</td>\n",
       "      <td>...</td>\n",
       "      <td>...</td>\n",
       "      <td>...</td>\n",
       "      <td>...</td>\n",
       "      <td>...</td>\n",
       "      <td>...</td>\n",
       "    </tr>\n",
       "    <tr>\n",
       "      <th>24</th>\n",
       "      <td>deletion</td>\n",
       "      <td>ORF3a</td>\n",
       "      <td>26158:26161</td>\n",
       "      <td>4</td>\n",
       "      <td>26158</td>\n",
       "      <td>V</td>\n",
       "      <td>256</td>\n",
       "      <td>9</td>\n",
       "      <td>2020-07-17</td>\n",
       "      <td>2020-09-14</td>\n",
       "      <td>USA/California/San Diego</td>\n",
       "      <td>9</td>\n",
       "      <td>[hCoV-19/USA/SEARCH-2907-SAN/2020, hCoV-19/USA...</td>\n",
       "      <td>GTT</td>\n",
       "      <td>agttg</td>\n",
       "      <td>tccag</td>\n",
       "    </tr>\n",
       "    <tr>\n",
       "      <th>16</th>\n",
       "      <td>deletion</td>\n",
       "      <td>ORF1ab</td>\n",
       "      <td>516:518</td>\n",
       "      <td>3</td>\n",
       "      <td>516</td>\n",
       "      <td>V</td>\n",
       "      <td>84</td>\n",
       "      <td>10</td>\n",
       "      <td>2020-07-22</td>\n",
       "      <td>2020-08-01</td>\n",
       "      <td>USA/California/San Diego</td>\n",
       "      <td>10</td>\n",
       "      <td>[hCoV-19/USA/SEARCH-4342-SAN/2020, hCoV-19/USA...</td>\n",
       "      <td>GTT</td>\n",
       "      <td>catgt</td>\n",
       "      <td>ggttg</td>\n",
       "    </tr>\n",
       "    <tr>\n",
       "      <th>56</th>\n",
       "      <td>deletion</td>\n",
       "      <td>ORF1ab</td>\n",
       "      <td>686:694</td>\n",
       "      <td>9</td>\n",
       "      <td>686</td>\n",
       "      <td>K</td>\n",
       "      <td>141</td>\n",
       "      <td>17</td>\n",
       "      <td>2020-03-31</td>\n",
       "      <td>2020-10-03</td>\n",
       "      <td>[Jordan/Amman, USA/California/San Diego, USA/L...</td>\n",
       "      <td>[2, 13, 2]</td>\n",
       "      <td>[hCoV-19/USA/SEARCH-0264-NBG/2020, hCoV-19/USA...</td>\n",
       "      <td>AAG</td>\n",
       "      <td>tctaa</td>\n",
       "      <td>actta</td>\n",
       "    </tr>\n",
       "    <tr>\n",
       "      <th>51</th>\n",
       "      <td>deletion</td>\n",
       "      <td>N</td>\n",
       "      <td>28890:28901</td>\n",
       "      <td>12</td>\n",
       "      <td>28890</td>\n",
       "      <td>S</td>\n",
       "      <td>206</td>\n",
       "      <td>23</td>\n",
       "      <td>2020-06-16</td>\n",
       "      <td>2020-08-06</td>\n",
       "      <td>USA/California/San Diego</td>\n",
       "      <td>23</td>\n",
       "      <td>[hCoV-19/USA/SEARCH-2285-SAN/2020, hCoV-19/USA...</td>\n",
       "      <td>TCT</td>\n",
       "      <td>acttc</td>\n",
       "      <td>ggctg</td>\n",
       "    </tr>\n",
       "    <tr>\n",
       "      <th>46</th>\n",
       "      <td>deletion</td>\n",
       "      <td>ORF8</td>\n",
       "      <td>28090:28092</td>\n",
       "      <td>3</td>\n",
       "      <td>28090</td>\n",
       "      <td>G</td>\n",
       "      <td>66</td>\n",
       "      <td>27</td>\n",
       "      <td>2020-09-30</td>\n",
       "      <td>2020-10-03</td>\n",
       "      <td>Jordan/Amman</td>\n",
       "      <td>27</td>\n",
       "      <td>[hCoV-19/JOR/SEARCH-3903-JOR/2020, hCoV-19/JOR...</td>\n",
       "      <td>GGT</td>\n",
       "      <td>gctgg</td>\n",
       "      <td>taaat</td>\n",
       "    </tr>\n",
       "  </tbody>\n",
       "</table>\n",
       "<p>61 rows × 16 columns</p>\n",
       "</div>"
      ],
      "text/plain": [
       "        type    gene absolute_coords  del_len    pos ref_aa  codon_num  \\\n",
       "30  deletion   ORF7a     27538:27572       35  27538      L         49   \n",
       "27  deletion    ORF6     27264:27290       27  27264      F         22   \n",
       "28  deletion    ORF6     27266:27293       28  27266      F         22   \n",
       "29  deletion   ORF7a     27498:27531       34  27498      S         36   \n",
       "59  deletion  ORF1ab       6656:6679       24   6656      N       2131   \n",
       "..       ...     ...             ...      ...    ...    ...        ...   \n",
       "24  deletion   ORF3a     26158:26161        4  26158      V        256   \n",
       "16  deletion  ORF1ab         516:518        3    516      V         84   \n",
       "56  deletion  ORF1ab         686:694        9    686      K        141   \n",
       "51  deletion       N     28890:28901       12  28890      S        206   \n",
       "46  deletion    ORF8     28090:28092        3  28090      G         66   \n",
       "\n",
       "    num_samples first_detected last_detected  \\\n",
       "30            1     2020-04-28    2020-04-28   \n",
       "27            1     2020-07-28    2020-07-28   \n",
       "28            1     2020-04-23    2020-04-23   \n",
       "29            1     2020-05-12    2020-05-12   \n",
       "59            1     2020-06-13    2020-06-13   \n",
       "..          ...            ...           ...   \n",
       "24            9     2020-07-17    2020-09-14   \n",
       "16           10     2020-07-22    2020-08-01   \n",
       "56           17     2020-03-31    2020-10-03   \n",
       "51           23     2020-06-16    2020-08-06   \n",
       "46           27     2020-09-30    2020-10-03   \n",
       "\n",
       "                                            locations location_counts  \\\n",
       "30                        MEX/Baja California/Tijuana               1   \n",
       "27                           USA/California/San Diego               1   \n",
       "28                           USA/California/San Diego               1   \n",
       "29                            USA/California/Imperial               1   \n",
       "59                           USA/California/San Diego               1   \n",
       "..                                                ...             ...   \n",
       "24                           USA/California/San Diego               9   \n",
       "16                           USA/California/San Diego              10   \n",
       "56  [Jordan/Amman, USA/California/San Diego, USA/L...      [2, 13, 2]   \n",
       "51                           USA/California/San Diego              23   \n",
       "46                                       Jordan/Amman              27   \n",
       "\n",
       "                                              samples ref_codon prev_5nts  \\\n",
       "30                 [hCoV-19/MEX/SEARCH-1480-TIJ/2020]       CTA     tcctc   \n",
       "27                 [hCoV-19/USA/SEARCH-3236-SAN/2020]       TTT     ggact   \n",
       "28                 [hCoV-19/USA/SEARCH-1921-SAN/2020]       TTT     acttt   \n",
       "29                 [hCoV-19/USA/SEARCH-0573-IPL/2020]       TCT     cttgc   \n",
       "59                 [hCoV-19/USA/SEARCH-3559-SAN/2020]       AAT     tgtta   \n",
       "..                                                ...       ...       ...   \n",
       "24  [hCoV-19/USA/SEARCH-2907-SAN/2020, hCoV-19/USA...       GTT     agttg   \n",
       "16  [hCoV-19/USA/SEARCH-4342-SAN/2020, hCoV-19/USA...       GTT     catgt   \n",
       "56  [hCoV-19/USA/SEARCH-0264-NBG/2020, hCoV-19/USA...       AAG     tctaa   \n",
       "51  [hCoV-19/USA/SEARCH-2285-SAN/2020, hCoV-19/USA...       TCT     acttc   \n",
       "46  [hCoV-19/JOR/SEARCH-3903-JOR/2020, hCoV-19/JOR...       GGT     gctgg   \n",
       "\n",
       "   next_5nts  \n",
       "30     actca  \n",
       "27     tacat  \n",
       "28     atcat  \n",
       "29     atcct  \n",
       "59     ctaat  \n",
       "..       ...  \n",
       "24     tccag  \n",
       "16     ggttg  \n",
       "56     actta  \n",
       "51     ggctg  \n",
       "46     taaat  \n",
       "\n",
       "[61 rows x 16 columns]"
      ]
     },
     "execution_count": 5,
     "metadata": {},
     "output_type": "execute_result"
    }
   ],
   "source": [
    "dels = identify_deletions(in_fp, meta_fp, patient_zero)\n",
    "dels"
   ]
  },
  {
   "cell_type": "code",
   "execution_count": 3,
   "metadata": {},
   "outputs": [
    {
     "ename": "NameError",
     "evalue": "name 'dels' is not defined",
     "output_type": "error",
     "traceback": [
      "\u001b[0;31m---------------------------------------------------------------------------\u001b[0m",
      "\u001b[0;31mNameError\u001b[0m                                 Traceback (most recent call last)",
      "\u001b[0;32m<ipython-input-3-c4aae0949dc6>\u001b[0m in \u001b[0;36m<module>\u001b[0;34m\u001b[0m\n\u001b[0;32m----> 1\u001b[0;31m \u001b[0mdels\u001b[0m\u001b[0;34m[\u001b[0m\u001b[0mdels\u001b[0m\u001b[0;34m[\u001b[0m\u001b[0;34m'gene'\u001b[0m\u001b[0;34m]\u001b[0m\u001b[0;34m==\u001b[0m\u001b[0;34m'S'\u001b[0m\u001b[0;34m]\u001b[0m\u001b[0;34m.\u001b[0m\u001b[0msort_values\u001b[0m\u001b[0;34m(\u001b[0m\u001b[0;34m'num_samples'\u001b[0m\u001b[0;34m,\u001b[0m \u001b[0mascending\u001b[0m\u001b[0;34m=\u001b[0m\u001b[0;32mFalse\u001b[0m\u001b[0;34m)\u001b[0m\u001b[0;31m#.to_csv('S_deletions_consensus.csv', index=False)\u001b[0m\u001b[0;34m\u001b[0m\u001b[0;34m\u001b[0m\u001b[0m\n\u001b[0m",
      "\u001b[0;31mNameError\u001b[0m: name 'dels' is not defined"
     ]
    }
   ],
   "source": [
    "dels[dels['gene']=='S'].sort_values('num_samples', ascending=False)#.to_csv('S_deletions_consensus.csv', index=False)"
   ]
  },
  {
   "cell_type": "code",
   "execution_count": 4,
   "metadata": {},
   "outputs": [],
   "source": [
    "identify_insertions(in_fp, patient_zero).to_csv('test.csv', index=False)"
   ]
  },
  {
   "cell_type": "markdown",
   "metadata": {},
   "source": [
    "## dev "
   ]
  },
  {
   "cell_type": "code",
   "execution_count": 10,
   "metadata": {},
   "outputs": [],
   "source": [
    "GENE2POS = {\n",
    "            '5UTR': {'start': 0, 'end': 265},\n",
    "            'ORF1ab': {'start': 265, 'end': 21555},\n",
    "            'S': {'start': 21562, 'end': 25384},\n",
    "            'ORF3a': {'start': 25392, 'end': 26220},\n",
    "            'E': {'start': 26244, 'end': 26472},\n",
    "            'M': {'start': 26522, 'end': 27191},\n",
    "            'ORF6': {'start': 27201, 'end': 27387},\n",
    "            'ORF7a': {'start': 27393, 'end': 27759},\n",
    "            'ORF7b': {'start': 27755, 'end': 27887},\n",
    "            'ORF8': {'start': 27893, 'end': 28259},\n",
    "            'N': {'start': 28273, 'end': 29533},\n",
    "            'ORF10': {'start': 29557, 'end': 29674},\n",
    "            '3UTR': {'start': 29674, 'end': 29902}\n",
    "           }"
   ]
  },
  {
   "cell_type": "code",
   "execution_count": 11,
   "metadata": {},
   "outputs": [],
   "source": [
    "in_dir = '/home/al/analysis/mutations/fa/'\n",
    "out_dir = '/home/al/analysis/mutations/msa/'"
   ]
  },
  {
   "cell_type": "code",
   "execution_count": 14,
   "metadata": {},
   "outputs": [],
   "source": [
    "!rm -r /home/al/analysis/mutations\n",
    "!mkdir /home/al/analysis/mutations\n",
    "!mkdir /home/al/analysis/mutations/fa"
   ]
  },
  {
   "cell_type": "code",
   "execution_count": 15,
   "metadata": {},
   "outputs": [],
   "source": [
    "for filename in analysis_folder.listdir():\n",
    "    if (filename.endswith('fa') or filename.endswith('fasta')):\n",
    "        copy(filename, '/home/al/analysis/mutations/fa/')\n",
    "#         print(filename)"
   ]
  },
  {
   "cell_type": "code",
   "execution_count": 179,
   "metadata": {},
   "outputs": [
    {
     "data": {
      "text/plain": [
       "'/home/al/analysis/mutations/fa/NC045512.fasta'"
      ]
     },
     "execution_count": 179,
     "metadata": {},
     "output_type": "execute_result"
    }
   ],
   "source": [
    "copy(ref_path, in_dir)"
   ]
  },
  {
   "cell_type": "code",
   "execution_count": 180,
   "metadata": {},
   "outputs": [
    {
     "data": {
      "text/plain": [
       "'/home/al/analysis/mutations/msa.fa'"
      ]
     },
     "execution_count": 180,
     "metadata": {},
     "output_type": "execute_result"
    }
   ],
   "source": [
    "in_dir = '/home/al/analysis/mutations/fa/'\n",
    "out_dir = '/home/al/analysis/mutations/msa'\n",
    "concat_fasta(in_dir, out_dir)"
   ]
  },
  {
   "cell_type": "code",
   "execution_count": 17,
   "metadata": {},
   "outputs": [
    {
     "data": {
      "text/plain": [
       "'/home/al/analysis/mutations/msa_aligned.fa'"
      ]
     },
     "execution_count": 17,
     "metadata": {},
     "output_type": "execute_result"
    }
   ],
   "source": [
    "align_fasta_reference('/home/al/analysis/mutations/msa.fa',  num_cpus=12, ref_fp=ref_path)"
   ]
  },
  {
   "cell_type": "code",
   "execution_count": 14,
   "metadata": {},
   "outputs": [],
   "source": [
    "cns = AlignIO.read('/home/al/analysis/mutations/msa_aligned.fa', 'fasta')"
   ]
  },
  {
   "cell_type": "code",
   "execution_count": 15,
   "metadata": {},
   "outputs": [],
   "source": [
    "ref_seq = get_seq(cns, patient_zero)"
   ]
  },
  {
   "cell_type": "code",
   "execution_count": 16,
   "metadata": {},
   "outputs": [
    {
     "data": {
      "text/plain": [
       "29903"
      ]
     },
     "execution_count": 16,
     "metadata": {},
     "output_type": "execute_result"
    }
   ],
   "source": [
    "len(ref_seq)"
   ]
  },
  {
   "cell_type": "code",
   "execution_count": 17,
   "metadata": {},
   "outputs": [],
   "source": [
    "seqs = get_seqs(cns, 0, 30000)"
   ]
  },
  {
   "cell_type": "code",
   "execution_count": 18,
   "metadata": {},
   "outputs": [],
   "source": [
    "seqsdf = (pd.DataFrame(index=seqs.keys(), data=seqs.values(), columns=['sequence'])\n",
    "                .reset_index().rename(columns={'index': 'idx'}))"
   ]
  },
  {
   "cell_type": "code",
   "execution_count": 19,
   "metadata": {},
   "outputs": [],
   "source": [
    "# seqsdf"
   ]
  },
  {
   "cell_type": "code",
   "execution_count": 20,
   "metadata": {},
   "outputs": [],
   "source": [
    "def find_replacements(x, ref):\n",
    "    return [f'{i}:{n}' for i, n in enumerate(x) \n",
    "            if n!=ref[i] and n!='-' and n!='n']"
   ]
  },
  {
   "cell_type": "code",
   "execution_count": 21,
   "metadata": {},
   "outputs": [],
   "source": [
    "seqsdf['replacements'] = seqsdf['sequence'].apply(find_replacements, args=(ref_seq,))"
   ]
  },
  {
   "cell_type": "code",
   "execution_count": 22,
   "metadata": {},
   "outputs": [],
   "source": [
    "seqsdf = seqsdf.explode('replacements')\n",
    "seqsdf['pos'] = -1\n",
    "seqsdf.loc[~seqsdf['replacements'].isna(), 'pos'] = seqsdf.loc[~seqsdf['replacements'].isna(), 'replacements'].apply(lambda x: int(x.split(':')[0]))\n",
    "seqsdf = seqsdf.loc[seqsdf['pos']!=-1]"
   ]
  },
  {
   "cell_type": "code",
   "execution_count": 23,
   "metadata": {},
   "outputs": [],
   "source": [
    "def compute_codon_num(x, gene2pos: dict):\n",
    "    pos = x['pos']\n",
    "    ref_pos = gene2pos[x['gene']]['start']\n",
    "    return math.ceil((pos - ref_pos + 1) / 3)"
   ]
  },
  {
   "cell_type": "code",
   "execution_count": 24,
   "metadata": {},
   "outputs": [],
   "source": [
    "seqsdf['gene'] = seqsdf['pos'].apply(map_gene_to_pos)\n",
    "seqsdf = seqsdf.loc[~seqsdf['gene'].isna()]\n",
    "seqsdf = seqsdf.loc[seqsdf['gene']!='nan']\n",
    "seqsdf['codon_num'] = seqsdf.apply(compute_codon_num, args=(GENE2POS,), axis=1)"
   ]
  },
  {
   "cell_type": "code",
   "execution_count": 25,
   "metadata": {},
   "outputs": [],
   "source": [
    "def get_ref_codon(x, ref_seq, gene2pos: dict):\n",
    "    ref_pos = gene2pos[x['gene']]['start']\n",
    "    codon_start = ref_pos + ((x['codon_num'] - 1) * 3)\n",
    "    return ref_seq[codon_start: codon_start+3].upper()\n",
    "seqsdf['ref_codon'] = seqsdf.apply(get_ref_codon, args=(ref_seq, GENE2POS), axis=1)"
   ]
  },
  {
   "cell_type": "code",
   "execution_count": 26,
   "metadata": {},
   "outputs": [],
   "source": [
    "def get_alt_codon(x, gene2pos: dict):\n",
    "    ref_pos = gene2pos[x['gene']]['start']\n",
    "    codon_start = ref_pos + ((x['codon_num'] - 1) * 3)\n",
    "    return x['sequence'][codon_start: codon_start+3].upper()\n",
    "seqsdf['alt_codon'] = seqsdf.apply(get_alt_codon, args=(GENE2POS,), axis=1)"
   ]
  },
  {
   "cell_type": "code",
   "execution_count": 27,
   "metadata": {},
   "outputs": [],
   "source": [
    "def get_aa(codon: str):\n",
    "    CODON2AA = { \n",
    "        'ATA':'I', 'ATC':'I', 'ATT':'I', 'ATG':'M', \n",
    "        'ACA':'T', 'ACC':'T', 'ACG':'T', 'ACT':'T', \n",
    "        'AAC':'N', 'AAT':'N', 'AAA':'K', 'AAG':'K', \n",
    "        'AGC':'S', 'AGT':'S', 'AGA':'R', 'AGG':'R',                  \n",
    "        'CTA':'L', 'CTC':'L', 'CTG':'L', 'CTT':'L', \n",
    "        'CCA':'P', 'CCC':'P', 'CCG':'P', 'CCT':'P', \n",
    "        'CAC':'H', 'CAT':'H', 'CAA':'Q', 'CAG':'Q', \n",
    "        'CGA':'R', 'CGC':'R', 'CGG':'R', 'CGT':'R', \n",
    "        'GTA':'V', 'GTC':'V', 'GTG':'V', 'GTT':'V', \n",
    "        'GCA':'A', 'GCC':'A', 'GCG':'A', 'GCT':'A', \n",
    "        'GAC':'D', 'GAT':'D', 'GAA':'E', 'GAG':'E', \n",
    "        'GGA':'G', 'GGC':'G', 'GGG':'G', 'GGT':'G', \n",
    "        'TCA':'S', 'TCC':'S', 'TCG':'S', 'TCT':'S', \n",
    "        'TTC':'F', 'TTT':'F', 'TTA':'L', 'TTG':'L', \n",
    "        'TAC':'Y', 'TAT':'Y', 'TAA':'_', 'TAG':'_', \n",
    "        'TGC':'C', 'TGT':'C', 'TGA':'_', 'TGG':'W', \n",
    "    } \n",
    "    return CODON2AA.get(codon, 'nan')\n",
    "seqsdf['ref_aa'] = seqsdf['ref_codon'].apply(get_aa)\n",
    "seqsdf['alt_aa'] = seqsdf['alt_codon'].apply(get_aa)\n",
    "seqsdf = seqsdf.loc[seqsdf['alt_aa']!='nan']"
   ]
  },
  {
   "cell_type": "code",
   "execution_count": 28,
   "metadata": {},
   "outputs": [
    {
     "data": {
      "text/plain": [
       "Index(['idx', 'sequence', 'replacements', 'pos', 'gene', 'codon_num',\n",
       "       'ref_codon', 'alt_codon', 'ref_aa', 'alt_aa'],\n",
       "      dtype='object')"
      ]
     },
     "execution_count": 28,
     "metadata": {},
     "output_type": "execute_result"
    }
   ],
   "source": [
    "seqsdf.columns"
   ]
  },
  {
   "cell_type": "code",
   "execution_count": 29,
   "metadata": {},
   "outputs": [
    {
     "name": "stdout",
     "output_type": "stream",
     "text": [
      "(2765,)\n",
      "(2765,)\n"
     ]
    }
   ],
   "source": [
    "meta = pd.read_csv(meta_fp)\n",
    "print(seqsdf['idx'].unique().shape)\n",
    "seqsdf = pd.merge(seqsdf, meta, left_on='idx', right_on='fasta_hdr')\n",
    "print(seqsdf['idx'].unique().shape)"
   ]
  },
  {
   "cell_type": "code",
   "execution_count": 30,
   "metadata": {},
   "outputs": [],
   "source": [
    "seqsdf = seqsdf.loc[(seqsdf['collection_date']!='Unknown') \n",
    "                   & (seqsdf['collection_date']!='1900-01-00')]\n",
    "seqsdf.loc[seqsdf['collection_date'].str.contains('/'), 'collection_date'] = seqsdf['collection_date'].apply(lambda x: x.split('/')[0])\n",
    "seqsdf['date'] = pd.to_datetime(seqsdf['collection_date'])"
   ]
  },
  {
   "cell_type": "code",
   "execution_count": 31,
   "metadata": {},
   "outputs": [
    {
     "data": {
      "text/plain": [
       "Timestamp('2020-03-04 00:00:00')"
      ]
     },
     "execution_count": 31,
     "metadata": {},
     "output_type": "execute_result"
    }
   ],
   "source": [
    "seqsdf['date'].min()"
   ]
  },
  {
   "cell_type": "code",
   "execution_count": 32,
   "metadata": {},
   "outputs": [],
   "source": [
    "# (seqsdf.groupby(['gene', 'ref_aa', 'codon_num', 'alt_aa'])\n",
    "# .agg(\n",
    "#      num_samples=('ID', 'nunique')))"
   ]
  },
  {
   "cell_type": "code",
   "execution_count": 35,
   "metadata": {},
   "outputs": [],
   "source": [
    "def uniq_locs(x):\n",
    "    return np.unique(x)\n",
    "def loc_counts(x):\n",
    "    _, counts = np.unique(x, return_counts=True)\n",
    "    return counts"
   ]
  },
  {
   "cell_type": "code",
   "execution_count": 37,
   "metadata": {},
   "outputs": [],
   "source": [
    "subs = (seqsdf.groupby(['gene', 'pos', 'ref_aa', 'codon_num', 'alt_aa'])\n",
    ".agg(\n",
    "     num_samples=('ID', 'nunique'),\n",
    "     first_detected=('date', 'min'),\n",
    "     last_detected=('date', 'max'),\n",
    "     locations=('location', uniq_locs),\n",
    "     location_counts=('location', loc_counts),\n",
    "     samples=('ID', 'unique')\n",
    "    )\n",
    ".reset_index())\n",
    "subs['pos'] = subs['pos'] + 1"
   ]
  },
  {
   "cell_type": "code",
   "execution_count": 175,
   "metadata": {},
   "outputs": [],
   "source": [
    "(subs[subs['gene']=='S'].sort_values('num_samples', ascending=False)\n",
    " .to_csv('S_mutations_consensus.csv', index=False))"
   ]
  },
  {
   "cell_type": "markdown",
   "metadata": {},
   "source": [
    "## Consolidate metadata ID and fasta headers"
   ]
  },
  {
   "cell_type": "code",
   "execution_count": 134,
   "metadata": {},
   "outputs": [],
   "source": [
    "def fix_header(x):\n",
    "    if 'Consensus' in x:\n",
    "        return x.split('_')[1]\n",
    "    else:\n",
    "        return x.split('/')[2]\n",
    "seqsdf['n_ID'] = seqsdf['idx'].apply(fix_header)"
   ]
  },
  {
   "cell_type": "code",
   "execution_count": 135,
   "metadata": {},
   "outputs": [],
   "source": [
    "seqsdf['n_ID'] = seqsdf['n_ID'].str.replace('ALSR', 'SEARCH')"
   ]
  },
  {
   "cell_type": "code",
   "execution_count": 136,
   "metadata": {},
   "outputs": [],
   "source": [
    "meta = pd.read_csv(meta_fp)\n",
    "meta['n_ID'] = meta['ID'].apply(lambda x: '-'.join(x.split('-')[:2]))"
   ]
  },
  {
   "cell_type": "code",
   "execution_count": 137,
   "metadata": {},
   "outputs": [],
   "source": [
    "seqsdf['n_ID'] = seqsdf['n_ID'].apply(lambda x: '-'.join(x.split('-')[:2]))"
   ]
  },
  {
   "cell_type": "code",
   "execution_count": 138,
   "metadata": {},
   "outputs": [],
   "source": [
    "tmp = pd.merge(seqsdf, meta, on='n_ID')"
   ]
  },
  {
   "cell_type": "code",
   "execution_count": 122,
   "metadata": {},
   "outputs": [],
   "source": [
    "# tmp[tmp['ID'].str.contains('2112')]"
   ]
  },
  {
   "cell_type": "code",
   "execution_count": 98,
   "metadata": {},
   "outputs": [],
   "source": [
    "# seqsdf"
   ]
  },
  {
   "cell_type": "code",
   "execution_count": 139,
   "metadata": {},
   "outputs": [
    {
     "data": {
      "text/plain": [
       "{'SEARCH-1668'}"
      ]
     },
     "execution_count": 139,
     "metadata": {},
     "output_type": "execute_result"
    }
   ],
   "source": [
    "set(meta['n_ID'].unique()) - set(tmp['n_ID'].unique())"
   ]
  },
  {
   "cell_type": "code",
   "execution_count": 140,
   "metadata": {},
   "outputs": [
    {
     "data": {
      "text/plain": [
       "(2765,)"
      ]
     },
     "execution_count": 140,
     "metadata": {},
     "output_type": "execute_result"
    }
   ],
   "source": [
    "seqsdf['idx'].unique().shape"
   ]
  },
  {
   "cell_type": "code",
   "execution_count": 141,
   "metadata": {},
   "outputs": [
    {
     "data": {
      "text/plain": [
       "(2766,)"
      ]
     },
     "execution_count": 141,
     "metadata": {},
     "output_type": "execute_result"
    }
   ],
   "source": [
    "meta['ID'].unique().shape"
   ]
  },
  {
   "cell_type": "code",
   "execution_count": 147,
   "metadata": {},
   "outputs": [],
   "source": [
    "s = seqsdf[['n_ID', 'idx']].drop_duplicates()"
   ]
  },
  {
   "cell_type": "code",
   "execution_count": 151,
   "metadata": {},
   "outputs": [],
   "source": [
    "new_meta = pd.merge(meta, s, on='n_ID', how='left')\n",
    "(new_meta.drop(columns=['n_ID'])\n",
    ".rename(columns={'idx': 'fasta_hdr'})\n",
    ".to_csv('metadata.csv', index=False))"
   ]
  },
  {
   "cell_type": "code",
   "execution_count": 152,
   "metadata": {},
   "outputs": [
    {
     "data": {
      "text/plain": [
       "(2766, 11)"
      ]
     },
     "execution_count": 152,
     "metadata": {},
     "output_type": "execute_result"
    }
   ],
   "source": [
    "new_meta.shape "
   ]
  },
  {
   "cell_type": "code",
   "execution_count": 153,
   "metadata": {},
   "outputs": [
    {
     "data": {
      "text/html": [
       "<div>\n",
       "<style scoped>\n",
       "    .dataframe tbody tr th:only-of-type {\n",
       "        vertical-align: middle;\n",
       "    }\n",
       "\n",
       "    .dataframe tbody tr th {\n",
       "        vertical-align: top;\n",
       "    }\n",
       "\n",
       "    .dataframe thead th {\n",
       "        text-align: right;\n",
       "    }\n",
       "</style>\n",
       "<table border=\"1\" class=\"dataframe\">\n",
       "  <thead>\n",
       "    <tr style=\"text-align: right;\">\n",
       "      <th></th>\n",
       "      <th>ID</th>\n",
       "      <th>gb_accession</th>\n",
       "      <th>gisaid_accession</th>\n",
       "      <th>collection_date</th>\n",
       "      <th>location</th>\n",
       "      <th>percent_coverage_cds</th>\n",
       "      <th>avg_depth</th>\n",
       "      <th>authors</th>\n",
       "      <th>originating_lab</th>\n",
       "      <th>n_ID</th>\n",
       "      <th>idx</th>\n",
       "    </tr>\n",
       "  </thead>\n",
       "  <tbody>\n",
       "    <tr>\n",
       "      <th>0</th>\n",
       "      <td>MG0987</td>\n",
       "      <td>MT598172</td>\n",
       "      <td>EPI_ISL_416457</td>\n",
       "      <td>2020-03-18</td>\n",
       "      <td>USA/California/San Diego</td>\n",
       "      <td>99.5954</td>\n",
       "      <td>2465.60</td>\n",
       "      <td>SEARCH Alliance San Diego</td>\n",
       "      <td>Andersen lab at Scripps Research</td>\n",
       "      <td>MG0987</td>\n",
       "      <td>Consensus_MG0987</td>\n",
       "    </tr>\n",
       "    <tr>\n",
       "      <th>1</th>\n",
       "      <td>PC00101P</td>\n",
       "      <td>MT192765</td>\n",
       "      <td>EPI_ISL_414648</td>\n",
       "      <td>2020-03-11</td>\n",
       "      <td>USA/California/San Diego</td>\n",
       "      <td>99.7525</td>\n",
       "      <td>3516.14</td>\n",
       "      <td>SEARCH Alliance San Diego</td>\n",
       "      <td>Andersen lab at Scripps Research</td>\n",
       "      <td>PC00101P</td>\n",
       "      <td>Consensus_PC00101P_threshold_0_quality_20</td>\n",
       "    </tr>\n",
       "    <tr>\n",
       "      <th>2</th>\n",
       "      <td>SEARCH-0007-SAN</td>\n",
       "      <td>MT598171</td>\n",
       "      <td>EPI_ISL_429990</td>\n",
       "      <td>2020-03-21</td>\n",
       "      <td>USA/California/San Diego</td>\n",
       "      <td>100.0000</td>\n",
       "      <td>6215.17</td>\n",
       "      <td>SEARCH Alliance San Diego with Christina Clark...</td>\n",
       "      <td>Rady's Childrens Hospital</td>\n",
       "      <td>SEARCH-0007</td>\n",
       "      <td>Consensus_SEARCH-0007-SAN_L1_threshold_0_quali...</td>\n",
       "    </tr>\n",
       "    <tr>\n",
       "      <th>3</th>\n",
       "      <td>SEARCH-0016-SAN</td>\n",
       "      <td>MT598173</td>\n",
       "      <td>EPI_ISL_430016</td>\n",
       "      <td>2020-03-24</td>\n",
       "      <td>USA/California/San Diego</td>\n",
       "      <td>100.0000</td>\n",
       "      <td>6440.67</td>\n",
       "      <td>SEARCH Alliance San Diego</td>\n",
       "      <td>Andersen lab at Scripps Research</td>\n",
       "      <td>SEARCH-0016</td>\n",
       "      <td>Consensus_SEARCH-0016-SAN_L1_threshold_0_quali...</td>\n",
       "    </tr>\n",
       "    <tr>\n",
       "      <th>4</th>\n",
       "      <td>SEARCH-0017-SAN</td>\n",
       "      <td>MT598174</td>\n",
       "      <td>EPI_ISL_429991</td>\n",
       "      <td>2020-03-24</td>\n",
       "      <td>USA/California/San Diego</td>\n",
       "      <td>100.0000</td>\n",
       "      <td>4947.09</td>\n",
       "      <td>SEARCH Alliance San Diego</td>\n",
       "      <td>Andersen lab at Scripps Research</td>\n",
       "      <td>SEARCH-0017</td>\n",
       "      <td>Consensus_SEARCH-0017-SAN_L1_threshold_0_quali...</td>\n",
       "    </tr>\n",
       "    <tr>\n",
       "      <th>...</th>\n",
       "      <td>...</td>\n",
       "      <td>...</td>\n",
       "      <td>...</td>\n",
       "      <td>...</td>\n",
       "      <td>...</td>\n",
       "      <td>...</td>\n",
       "      <td>...</td>\n",
       "      <td>...</td>\n",
       "      <td>...</td>\n",
       "      <td>...</td>\n",
       "      <td>...</td>\n",
       "    </tr>\n",
       "    <tr>\n",
       "      <th>2761</th>\n",
       "      <td>SEARCH-4685-SAN</td>\n",
       "      <td>NaN</td>\n",
       "      <td>NaN</td>\n",
       "      <td>2020-11-02</td>\n",
       "      <td>USA/California/San Diego</td>\n",
       "      <td>100.0000</td>\n",
       "      <td>4831.37</td>\n",
       "      <td>SEARCH Alliance San Diego with Tracy Basler, J...</td>\n",
       "      <td>San Diego County Public Health Laboratory</td>\n",
       "      <td>SEARCH-4685</td>\n",
       "      <td>hCoV-19/USA/SEARCH-4685-SAN/2020</td>\n",
       "    </tr>\n",
       "    <tr>\n",
       "      <th>2762</th>\n",
       "      <td>SEARCH-4686-SAN</td>\n",
       "      <td>NaN</td>\n",
       "      <td>NaN</td>\n",
       "      <td>2020-11-05</td>\n",
       "      <td>USA/California/San Diego</td>\n",
       "      <td>100.0000</td>\n",
       "      <td>3864.73</td>\n",
       "      <td>SEARCH Alliance San Diego with Tracy Basler, J...</td>\n",
       "      <td>San Diego County Public Health Laboratory</td>\n",
       "      <td>SEARCH-4686</td>\n",
       "      <td>hCoV-19/USA/SEARCH-4686-SAN/2020</td>\n",
       "    </tr>\n",
       "    <tr>\n",
       "      <th>2763</th>\n",
       "      <td>SEARCH-4687-ORA</td>\n",
       "      <td>NaN</td>\n",
       "      <td>NaN</td>\n",
       "      <td>2020-11-02</td>\n",
       "      <td>USA/California/Orange</td>\n",
       "      <td>98.1400</td>\n",
       "      <td>3123.54</td>\n",
       "      <td>SEARCH Alliance San Diego with Tracy Basler, J...</td>\n",
       "      <td>San Diego County Public Health Laboratory</td>\n",
       "      <td>SEARCH-4687</td>\n",
       "      <td>hCoV-19/USA/SEARCH-4687-ORA/2020</td>\n",
       "    </tr>\n",
       "    <tr>\n",
       "      <th>2764</th>\n",
       "      <td>SEARCH-4690-SAN</td>\n",
       "      <td>NaN</td>\n",
       "      <td>NaN</td>\n",
       "      <td>2020-05-28</td>\n",
       "      <td>USA/California/San Diego</td>\n",
       "      <td>98.7283</td>\n",
       "      <td>2625.16</td>\n",
       "      <td>SEARCH Alliance San Diego with Tracy Basler, J...</td>\n",
       "      <td>San Diego County Public Health Laboratory</td>\n",
       "      <td>SEARCH-4690</td>\n",
       "      <td>hCoV-19/USA/SEARCH-4690-SAN/2020</td>\n",
       "    </tr>\n",
       "    <tr>\n",
       "      <th>2765</th>\n",
       "      <td>SEARCH-4691-SAN</td>\n",
       "      <td>NaN</td>\n",
       "      <td>NaN</td>\n",
       "      <td>2020-05-20</td>\n",
       "      <td>USA/California/San Diego</td>\n",
       "      <td>99.1465</td>\n",
       "      <td>2623.45</td>\n",
       "      <td>SEARCH Alliance San Diego with Tracy Basler, J...</td>\n",
       "      <td>San Diego County Public Health Laboratory</td>\n",
       "      <td>SEARCH-4691</td>\n",
       "      <td>hCoV-19/USA/SEARCH-4691-SAN/2020</td>\n",
       "    </tr>\n",
       "  </tbody>\n",
       "</table>\n",
       "<p>2766 rows × 11 columns</p>\n",
       "</div>"
      ],
      "text/plain": [
       "                   ID gb_accession gisaid_accession collection_date  \\\n",
       "0              MG0987     MT598172   EPI_ISL_416457      2020-03-18   \n",
       "1            PC00101P     MT192765   EPI_ISL_414648      2020-03-11   \n",
       "2     SEARCH-0007-SAN     MT598171   EPI_ISL_429990      2020-03-21   \n",
       "3     SEARCH-0016-SAN     MT598173   EPI_ISL_430016      2020-03-24   \n",
       "4     SEARCH-0017-SAN     MT598174   EPI_ISL_429991      2020-03-24   \n",
       "...               ...          ...              ...             ...   \n",
       "2761  SEARCH-4685-SAN          NaN              NaN      2020-11-02   \n",
       "2762  SEARCH-4686-SAN          NaN              NaN      2020-11-05   \n",
       "2763  SEARCH-4687-ORA          NaN              NaN      2020-11-02   \n",
       "2764  SEARCH-4690-SAN          NaN              NaN      2020-05-28   \n",
       "2765  SEARCH-4691-SAN          NaN              NaN      2020-05-20   \n",
       "\n",
       "                      location  percent_coverage_cds  avg_depth  \\\n",
       "0     USA/California/San Diego               99.5954    2465.60   \n",
       "1     USA/California/San Diego               99.7525    3516.14   \n",
       "2     USA/California/San Diego              100.0000    6215.17   \n",
       "3     USA/California/San Diego              100.0000    6440.67   \n",
       "4     USA/California/San Diego              100.0000    4947.09   \n",
       "...                        ...                   ...        ...   \n",
       "2761  USA/California/San Diego              100.0000    4831.37   \n",
       "2762  USA/California/San Diego              100.0000    3864.73   \n",
       "2763     USA/California/Orange               98.1400    3123.54   \n",
       "2764  USA/California/San Diego               98.7283    2625.16   \n",
       "2765  USA/California/San Diego               99.1465    2623.45   \n",
       "\n",
       "                                                authors  \\\n",
       "0                             SEARCH Alliance San Diego   \n",
       "1                             SEARCH Alliance San Diego   \n",
       "2     SEARCH Alliance San Diego with Christina Clark...   \n",
       "3                             SEARCH Alliance San Diego   \n",
       "4                             SEARCH Alliance San Diego   \n",
       "...                                                 ...   \n",
       "2761  SEARCH Alliance San Diego with Tracy Basler, J...   \n",
       "2762  SEARCH Alliance San Diego with Tracy Basler, J...   \n",
       "2763  SEARCH Alliance San Diego with Tracy Basler, J...   \n",
       "2764  SEARCH Alliance San Diego with Tracy Basler, J...   \n",
       "2765  SEARCH Alliance San Diego with Tracy Basler, J...   \n",
       "\n",
       "                                originating_lab         n_ID  \\\n",
       "0              Andersen lab at Scripps Research       MG0987   \n",
       "1              Andersen lab at Scripps Research     PC00101P   \n",
       "2                     Rady's Childrens Hospital  SEARCH-0007   \n",
       "3              Andersen lab at Scripps Research  SEARCH-0016   \n",
       "4              Andersen lab at Scripps Research  SEARCH-0017   \n",
       "...                                         ...          ...   \n",
       "2761  San Diego County Public Health Laboratory  SEARCH-4685   \n",
       "2762  San Diego County Public Health Laboratory  SEARCH-4686   \n",
       "2763  San Diego County Public Health Laboratory  SEARCH-4687   \n",
       "2764  San Diego County Public Health Laboratory  SEARCH-4690   \n",
       "2765  San Diego County Public Health Laboratory  SEARCH-4691   \n",
       "\n",
       "                                                    idx  \n",
       "0                                      Consensus_MG0987  \n",
       "1             Consensus_PC00101P_threshold_0_quality_20  \n",
       "2     Consensus_SEARCH-0007-SAN_L1_threshold_0_quali...  \n",
       "3     Consensus_SEARCH-0016-SAN_L1_threshold_0_quali...  \n",
       "4     Consensus_SEARCH-0017-SAN_L1_threshold_0_quali...  \n",
       "...                                                 ...  \n",
       "2761                   hCoV-19/USA/SEARCH-4685-SAN/2020  \n",
       "2762                   hCoV-19/USA/SEARCH-4686-SAN/2020  \n",
       "2763                   hCoV-19/USA/SEARCH-4687-ORA/2020  \n",
       "2764                   hCoV-19/USA/SEARCH-4690-SAN/2020  \n",
       "2765                   hCoV-19/USA/SEARCH-4691-SAN/2020  \n",
       "\n",
       "[2766 rows x 11 columns]"
      ]
     },
     "execution_count": 153,
     "metadata": {},
     "output_type": "execute_result"
    }
   ],
   "source": [
    "new_meta"
   ]
  },
  {
   "cell_type": "code",
   "execution_count": 81,
   "metadata": {},
   "outputs": [
    {
     "data": {
      "text/plain": [
       "29903"
      ]
     },
     "execution_count": 81,
     "metadata": {},
     "output_type": "execute_result"
    }
   ],
   "source": [
    "len(ref_seq)"
   ]
  }
 ],
 "metadata": {
  "kernelspec": {
   "display_name": "Python 3",
   "language": "python",
   "name": "python3"
  },
  "language_info": {
   "codemirror_mode": {
    "name": "ipython",
    "version": 3
   },
   "file_extension": ".py",
   "mimetype": "text/x-python",
   "name": "python",
   "nbconvert_exporter": "python",
   "pygments_lexer": "ipython3",
   "version": "3.8.3"
  }
 },
 "nbformat": 4,
 "nbformat_minor": 4
}
