{
 "cells": [
  {
   "cell_type": "code",
   "execution_count": 1,
   "metadata": {},
   "outputs": [],
   "source": [
    "import sys\n",
    "import numpy as np\n",
    "import pandas as pd"
   ]
  },
  {
   "cell_type": "code",
   "execution_count": 17,
   "metadata": {},
   "outputs": [
    {
     "data": {
      "text/plain": [
       "27085"
      ]
     },
     "execution_count": 17,
     "metadata": {},
     "output_type": "execute_result"
    }
   ],
   "source": [
    "(13466-265) + (21555-13467) + (25384-21562) + (26220-25392) + \\\n",
    "(26472-26244) + (27387-27201) + (27759-27393) "
   ]
  },
  {
   "cell_type": "code",
   "execution_count": 2,
   "metadata": {},
   "outputs": [],
   "source": [
    "import time"
   ]
  },
  {
   "cell_type": "code",
   "execution_count": 3,
   "metadata": {},
   "outputs": [],
   "source": [
    "sys.path.append('../')"
   ]
  },
  {
   "cell_type": "code",
   "execution_count": 4,
   "metadata": {},
   "outputs": [],
   "source": [
    "import bjorn_support as bs\n",
    "import onion_trees as ot\n",
    "import mutations as bm\n",
    "import visualize as bv\n",
    "import reports as br"
   ]
  },
  {
   "cell_type": "code",
   "execution_count": 5,
   "metadata": {},
   "outputs": [],
   "source": [
    "subs = pd.read_csv('/home/al/analysis/gisaid/subs_long_2021-01-20.csv.gz', compression='gzip')\n",
    "dels = pd.read_csv('/home/al/analysis/gisaid/dels_long_2021-01-20.csv.gz', compression='gzip')"
   ]
  },
  {
   "cell_type": "code",
   "execution_count": 6,
   "metadata": {},
   "outputs": [
    {
     "name": "stdout",
     "output_type": "stream",
     "text": [
      "(5946054, 38)\n",
      "(103463, 44)\n",
      "(6049517, 47)\n"
     ]
    }
   ],
   "source": [
    "print(subs.shape)\n",
    "print(dels.shape)\n",
    "subs['type'] = 'substitution'\n",
    "muts = pd.concat([subs, dels])\n",
    "print(muts.shape)"
   ]
  },
  {
   "cell_type": "code",
   "execution_count": 7,
   "metadata": {},
   "outputs": [
    {
     "data": {
      "text/plain": [
       "Index(['idx', 'replacements', 'pos', 'gene', 'codon_num', 'ref_codon',\n",
       "       'alt_codon', 'ref_aa', 'alt_aa', 'mutation', 'strain', 'virus',\n",
       "       'gisaid_epi_isl', 'genbank_accession', 'date', 'region', 'country',\n",
       "       'division', 'location', 'region_exposure', 'country_exposure',\n",
       "       'division_exposure', 'segment', 'length', 'host', 'age', 'sex',\n",
       "       'Nextstrain_clade', 'pangolin_lineage', 'GISAID_clade',\n",
       "       'originating_lab', 'submitting_lab', 'authors', 'url', 'title',\n",
       "       'paper_url', 'date_submitted', 'purpose_of_sequencing', 'type',\n",
       "       'seq_len', 'del_positions', 'del_len', 'relative_coords',\n",
       "       'absolute_coords', 'del_seq', 'prev_5nts', 'next_5nts'],\n",
       "      dtype='object')"
      ]
     },
     "execution_count": 7,
     "metadata": {},
     "output_type": "execute_result"
    }
   ],
   "source": [
    "muts.columns"
   ]
  },
  {
   "cell_type": "code",
   "execution_count": null,
   "metadata": {},
   "outputs": [],
   "source": [
    "meta_info = ['strain', 'date','date_submitted',\n",
    "        'country', 'division', 'location', \n",
    "        'submitting_lab', 'originating_lab',\n",
    "        'authors', 'pangolin_lineage', 'GISAID_clade', \n",
    "        'gisaid_epi_isl', 'genbank_accession',\n",
    "        'purpose_of_sequencing']\n",
    "\n",
    "muts_info = ['type', 'mutation', 'gene', \n",
    "             'ref_codon', 'pos', 'alt_codon', \n",
    "             'is_synonymous', \n",
    "             'ref_aa', 'codon_num', 'alt_aa', \n",
    "             'absolute_coords', \n",
    "             'del_len']"
   ]
  },
  {
   "cell_type": "code",
   "execution_count": null,
   "metadata": {},
   "outputs": [],
   "source": [
    "collection_date\n",
    "submitted_date\n",
    "name\n",
    "original_lab\n",
    "submitting_lab\n",
    "gisaid_epi_isl\n",
    "genbank_accession\n",
    "country\n",
    "division\n",
    "location\n",
    "pangolin_lineage\n",
    "gisaid_clade\n",
    "additional info: Eg, screened by S gene dropout for b117\n",
    "other_info\n",
    "Mutations -> mutations\n",
    "Mut,\n",
    "gene\n",
    "2. ref_codon\n",
    "3. alt_codon\n",
    "4. ref_aa\n",
    "5. alt_aa\n",
    "6. is_synonymous: boolean\n",
    "7. pos_aa\n",
    "8. pos_nuc\n",
    "9. aa_map_coords: (Cumulative length of genes in aa)\n",
    "9. nuc_map_coords: (Cumulative length of genes in aa)\n",
    "10. orf1ab_pos_aa\n",
    "11. orf1ab_pos_nuc\n",
    "12. orf1ab_gene_name\n",
    "13. mutation_type: [\"insertion\", \"substitution\", \"deletion\"]\n",
    "14. length"
   ]
  },
  {
   "cell_type": "code",
   "execution_count": 12,
   "metadata": {},
   "outputs": [],
   "source": [
    "sample_ids = muts[['strain']].drop_duplicates().sample(10)['strain'].unique()"
   ]
  },
  {
   "cell_type": "code",
   "execution_count": 13,
   "metadata": {},
   "outputs": [],
   "source": [
    "test = muts[muts['strain'].isin(sample_ids)]"
   ]
  },
  {
   "cell_type": "code",
   "execution_count": 8,
   "metadata": {},
   "outputs": [],
   "source": [
    "muts['is_synonymous'] = False\n",
    "muts.loc[muts['ref_aa']==muts['alt_aa'], 'is_synonymous'] = True"
   ]
  },
  {
   "cell_type": "code",
   "execution_count": 16,
   "metadata": {},
   "outputs": [
    {
     "name": "stdout",
     "output_type": "stream",
     "text": [
      "Execution time: 0.060778141021728516 seconds\n"
     ]
    }
   ],
   "source": [
    "start = time.time()\n",
    "(test.groupby(['strain', 'country', 'division', 'location',\n",
    "               'date','date_submitted', 'authors', \n",
    "               'pangolin_lineage', 'GISAID_clade', 'gisaid_epi_isl',\n",
    "               'submitting_lab', 'originating_lab',\n",
    "               'purpose_of_sequencing'], as_index=True)\n",
    "             .apply(lambda x: x[['type', 'mutation', 'gene', 'pos', 'absolute_coords', \n",
    "                                 'del_len', 'ref_codon', 'alt_codon', 'is_synonymous',\n",
    "                                 'ref_aa', 'codon_num', 'alt_aa']].to_dict('records'))\n",
    "             .reset_index()\n",
    "             .rename(columns={0:'Mutations'})\n",
    "             .to_json('test_data_model_2021-01-21.json', orient='records'))\n",
    "end = time.time()\n",
    "print(f'Execution time: {end - start} seconds')"
   ]
  },
  {
   "cell_type": "code",
   "execution_count": 17,
   "metadata": {},
   "outputs": [
    {
     "data": {
      "text/plain": [
       "(6049517, 48)"
      ]
     },
     "execution_count": 17,
     "metadata": {},
     "output_type": "execute_result"
    }
   ],
   "source": [
    "muts.shape"
   ]
  },
  {
   "cell_type": "code",
   "execution_count": 11,
   "metadata": {},
   "outputs": [
    {
     "name": "stdout",
     "output_type": "stream",
     "text": [
      "Execution time: 11.696144835154216 minutes\n"
     ]
    }
   ],
   "source": [
    "print(f'Execution time: {(end - start)/60} minutes')"
   ]
  },
  {
   "cell_type": "code",
   "execution_count": 14,
   "metadata": {},
   "outputs": [],
   "source": [
    "gbycols = ['date', 'country', 'division', 'location', \n",
    "           'pangolin_lineage', 'authors',  'submitting_lab',\n",
    "           'originating_lab', 'strain']\n",
    "ans = subs.groupby(gbycols).agg(mutations=('mutation', 'unique')).reset_index()"
   ]
  },
  {
   "cell_type": "code",
   "execution_count": 15,
   "metadata": {},
   "outputs": [],
   "source": [
    "mois = ['ORF1a:I4205V', 'ORF1b:D1183Y', 'S:S13I', 'S:W152C', 'S:L452R']\n",
    "ans['is_vui'] = ans['mutations'].apply(bv.is_vui, args=(set(mois),))"
   ]
  },
  {
   "cell_type": "code",
   "execution_count": 16,
   "metadata": {},
   "outputs": [
    {
     "data": {
      "text/html": [
       "<div>\n",
       "<style scoped>\n",
       "    .dataframe tbody tr th:only-of-type {\n",
       "        vertical-align: middle;\n",
       "    }\n",
       "\n",
       "    .dataframe tbody tr th {\n",
       "        vertical-align: top;\n",
       "    }\n",
       "\n",
       "    .dataframe thead th {\n",
       "        text-align: right;\n",
       "    }\n",
       "</style>\n",
       "<table border=\"1\" class=\"dataframe\">\n",
       "  <thead>\n",
       "    <tr style=\"text-align: right;\">\n",
       "      <th></th>\n",
       "      <th>date</th>\n",
       "      <th>country</th>\n",
       "      <th>division</th>\n",
       "      <th>location</th>\n",
       "      <th>pangolin_lineage</th>\n",
       "      <th>authors</th>\n",
       "      <th>submitting_lab</th>\n",
       "      <th>originating_lab</th>\n",
       "      <th>strain</th>\n",
       "      <th>mutations</th>\n",
       "      <th>is_vui</th>\n",
       "    </tr>\n",
       "  </thead>\n",
       "  <tbody>\n",
       "    <tr>\n",
       "      <th>152316</th>\n",
       "      <td>2020-07-14</td>\n",
       "      <td>United States of America</td>\n",
       "      <td>California</td>\n",
       "      <td>Los Angeles County</td>\n",
       "      <td>B.1.324</td>\n",
       "      <td>P. Hemarajata et al. et al</td>\n",
       "      <td>Los Angeles County PHL</td>\n",
       "      <td>USC Clinical Lab</td>\n",
       "      <td>USA/CA-LACPHL-AE00059/2020</td>\n",
       "      <td>[5UTR:R81C, ORF1a:T265I, ORF1a:N310S, ORF1a:V7...</td>\n",
       "      <td>True</td>\n",
       "    </tr>\n",
       "  </tbody>\n",
       "</table>\n",
       "</div>"
      ],
      "text/plain": [
       "              date                   country    division            location  \\\n",
       "152316  2020-07-14  United States of America  California  Los Angeles County   \n",
       "\n",
       "       pangolin_lineage                     authors          submitting_lab  \\\n",
       "152316          B.1.324  P. Hemarajata et al. et al  Los Angeles County PHL   \n",
       "\n",
       "         originating_lab                      strain  \\\n",
       "152316  USC Clinical Lab  USA/CA-LACPHL-AE00059/2020   \n",
       "\n",
       "                                                mutations  is_vui  \n",
       "152316  [5UTR:R81C, ORF1a:T265I, ORF1a:N310S, ORF1a:V7...    True  "
      ]
     },
     "execution_count": 16,
     "metadata": {},
     "output_type": "execute_result"
    }
   ],
   "source": [
    "ans.loc[(ans['is_vui']==True) & (ans['date']=='2020-07-14')]"
   ]
  },
  {
   "cell_type": "code",
   "execution_count": 17,
   "metadata": {},
   "outputs": [],
   "source": [
    "# data = subs.loc[(subs['mutation']=='S:L452R')&(subs['location'].str.contains('San Diego'))]\n"
   ]
  },
  {
   "cell_type": "markdown",
   "metadata": {},
   "source": [
    "# Data Priming"
   ]
  },
  {
   "cell_type": "code",
   "execution_count": 18,
   "metadata": {},
   "outputs": [],
   "source": [
    "is_test = False\n",
    "msa_fp = '/home/al/analysis/gisaid/sequences_2021-01-20_16-44_aligned.fasta.gz'\n",
    "meta_fp = '/home/al/analysis/gisaid/metadata_2021-01-20_17-49.tsv.gz'\n",
    "date = msa_fp.split('_')[1]"
   ]
  },
  {
   "cell_type": "code",
   "execution_count": 19,
   "metadata": {},
   "outputs": [
    {
     "name": "stdout",
     "output_type": "stream",
     "text": [
      "2021-01-20\n",
      "/home/al/analysis/gisaid/sequences_2021-01-20_16-44_aligned.fasta.gz\n",
      "/home/al/analysis/gisaid/metadata_2021-01-20_17-49.tsv.gz\n"
     ]
    }
   ],
   "source": [
    "print(date)\n",
    "print(msa_fp)\n",
    "print(meta_fp)"
   ]
  },
  {
   "cell_type": "code",
   "execution_count": null,
   "metadata": {},
   "outputs": [
    {
     "name": "stdout",
     "output_type": "stream",
     "text": [
      "Loading Alignment file at: /home/al/analysis/gisaid/sequences_2021-01-20_16-44_aligned.fasta.gz\n",
      "Initial cleaning...\n",
      "Identifying mutations...\n"
     ]
    }
   ],
   "source": [
    "subs, _ = bm.identify_replacements_per_sample(msa_fp, meta_fp,  \n",
    "                                           bm.GENE2POS, data_src='gisaid', \n",
    "                                           is_gzip=True, test=is_test)"
   ]
  },
  {
   "cell_type": "code",
   "execution_count": null,
   "metadata": {},
   "outputs": [],
   "source": [
    "subs_fp = f'/home/al/analysis/gisaid/subs_long_{date}.csv.gz'\n",
    "subs.to_csv(subs_fp, index=False, compression='gzip')"
   ]
  },
  {
   "cell_type": "code",
   "execution_count": null,
   "metadata": {},
   "outputs": [],
   "source": [
    "dels, _ = bm.identify_deletions_per_sample(msa_fp, meta_fp,  \n",
    "                                           bm.GENE2POS, data_src='gisaid', \n",
    "                                           min_del_len=3, is_gzip=True, test=is_test)"
   ]
  },
  {
   "cell_type": "code",
   "execution_count": null,
   "metadata": {},
   "outputs": [],
   "source": [
    "dels_fp = f'/home/al/analysis/gisaid/dels_long_{date}.csv.gz'\n",
    "dels.to_csv(dels_fp, index=False, compression='gzip')"
   ]
  },
  {
   "cell_type": "code",
   "execution_count": 9,
   "metadata": {},
   "outputs": [
    {
     "data": {
      "text/html": [
       "<div>\n",
       "<style scoped>\n",
       "    .dataframe tbody tr th:only-of-type {\n",
       "        vertical-align: middle;\n",
       "    }\n",
       "\n",
       "    .dataframe tbody tr th {\n",
       "        vertical-align: top;\n",
       "    }\n",
       "\n",
       "    .dataframe thead th {\n",
       "        text-align: right;\n",
       "    }\n",
       "</style>\n",
       "<table border=\"1\" class=\"dataframe\">\n",
       "  <thead>\n",
       "    <tr style=\"text-align: right;\">\n",
       "      <th></th>\n",
       "      <th>mutation</th>\n",
       "      <th>absolute_coords</th>\n",
       "      <th>del_len</th>\n",
       "      <th>del_seq</th>\n",
       "      <th>num_samples</th>\n",
       "    </tr>\n",
       "  </thead>\n",
       "  <tbody>\n",
       "    <tr>\n",
       "      <th>4</th>\n",
       "      <td>S:DEL69/70.0</td>\n",
       "      <td>21765:21770</td>\n",
       "      <td>6</td>\n",
       "      <td>catgtc</td>\n",
       "      <td>9</td>\n",
       "    </tr>\n",
       "    <tr>\n",
       "      <th>1</th>\n",
       "      <td>ORF1a:DEL3675/3677.0</td>\n",
       "      <td>11288:11296</td>\n",
       "      <td>9</td>\n",
       "      <td>tggttttaa</td>\n",
       "      <td>7</td>\n",
       "    </tr>\n",
       "    <tr>\n",
       "      <th>3</th>\n",
       "      <td>S:DEL144/144.0</td>\n",
       "      <td>21991:21993</td>\n",
       "      <td>3</td>\n",
       "      <td>att</td>\n",
       "      <td>7</td>\n",
       "    </tr>\n",
       "    <tr>\n",
       "      <th>0</th>\n",
       "      <td>ORF1a:DEL141/143.0</td>\n",
       "      <td>686:694</td>\n",
       "      <td>9</td>\n",
       "      <td>gtcatttga</td>\n",
       "      <td>1</td>\n",
       "    </tr>\n",
       "    <tr>\n",
       "      <th>2</th>\n",
       "      <td>ORF7a:DEL79/80.0</td>\n",
       "      <td>27626:27631</td>\n",
       "      <td>6</td>\n",
       "      <td>gccaga</td>\n",
       "      <td>1</td>\n",
       "    </tr>\n",
       "  </tbody>\n",
       "</table>\n",
       "</div>"
      ],
      "text/plain": [
       "               mutation absolute_coords  del_len    del_seq  num_samples\n",
       "4          S:DEL69/70.0     21765:21770        6     catgtc            9\n",
       "1  ORF1a:DEL3675/3677.0     11288:11296        9  tggttttaa            7\n",
       "3        S:DEL144/144.0     21991:21993        3        att            7\n",
       "0    ORF1a:DEL141/143.0         686:694        9  gtcatttga            1\n",
       "2      ORF7a:DEL79/80.0     27626:27631        6     gccaga            1"
      ]
     },
     "execution_count": 9,
     "metadata": {},
     "output_type": "execute_result"
    }
   ],
   "source": [
    "(dels.groupby(['mutation', 'absolute_coords', 'del_len', 'del_seq'])\n",
    "     .agg(num_samples=('idx', 'nunique'))\n",
    "     .reset_index()\n",
    "     .nlargest(50, 'num_samples'))"
   ]
  },
  {
   "cell_type": "markdown",
   "metadata": {},
   "source": [
    "# Analysis Report Generation"
   ]
  },
  {
   "cell_type": "code",
   "execution_count": 4,
   "metadata": {},
   "outputs": [],
   "source": [
    "# feature = 'mutations'\n",
    "# values = ['S:S13I', 'S:W152C', 'S:L452R']\n",
    "feature = 'mutation'\n",
    "# S:Q677H, M:A85S, N:D377Y,\n",
    "values = ['ORF1a:I4205V', 'ORF1b:D1183Y', 'S:S13I', 'S:W152C', 'S:L452R']#, 'S:L452R'] # 'ORF1ab:I4205V', \n",
    "input_params = {\n",
    "    'gisaid_data_fp' : '/home/al/analysis/gisaid/subs_long_2021-01-18.csv.gz',\n",
    "    'gisaid_meta_fp': '/home/al/analysis/gisaid/metadata_2021-01-18_18-48.tsv.gz',\n",
    "    'vocs': ['B.1.1.7', 'B.1.1.70'],\n",
    "    'strain': 'CAVUI1',\n",
    "    'date': '01/21/2021',\n",
    "    'msa_fp': Path('/home/al/analysis/gisaid/sequences_2021-01-18_08-48_aligned.fasta.gz'),\n",
    "    'meta_fp' : Path('/home/al/code/HCoV-19-Genomics/metadata.csv'),\n",
    "    'tree_fp' : Path('/home/al/analysis/alab_mutations_01-01-2021/alab/seqs_aligned.fa.treefile'),\n",
    "    'subs_fp' : '/home/al/analysis/alab_mutations_01-01-2021/alab_substitutions_long_01-01-2021.csv',\n",
    "    'countries_fp' : '/home/al/data/geojsons/countries.geo.json',\n",
    "    'states_fp' : \"/home/al/data/geojsons/us-states.json\",\n",
    "    'counties_fp' : '/home/al/data/geojsons/us-counties.json',\n",
    "    'patient_zero' : 'NC_045512.2',\n",
    "    'gisaid_data_fp' : '/home/al/analysis/gisaid/subs_long_2021-01-18.csv.gz',\n",
    "    'gisaid_meta_fp': '/home/al/analysis/gisaid/metadata_2021-01-18_18-48.tsv.gz',\n",
    "    'b117_meta' : '/home/al/analysis/b117/nextstrain_groups_neherlab_ncov_S.N501_metadata.tsv',\n",
    "    'b117_tree': 'test_data/b117_seqs_aligned.fasta.treefile',\n",
    "    'sample_sz': 300,\n",
    "    'sampling_img_fp' : \"/home/al/analysis/b117/figs/sars-cov-2_EM_v3.png\"\n",
    "}"
   ]
  },
  {
   "cell_type": "code",
   "execution_count": 5,
   "metadata": {
    "scrolled": true
   },
   "outputs": [],
   "source": [
    "results = br.generate_voc_data(feature, values, input_params)"
   ]
  },
  {
   "cell_type": "code",
   "execution_count": 6,
   "metadata": {},
   "outputs": [],
   "source": [
    "html = br.generate_voc_html(feature, values, results, template_name='mut.html')\n",
    "# br.save_html(html, f'test_data/orf1ab_i4205v_report.html')\n",
    "br.save_html(html, f'test_data/cavui1_report.html')"
   ]
  },
  {
   "cell_type": "code",
   "execution_count": 7,
   "metadata": {},
   "outputs": [],
   "source": [
    "# feature = 'mutations'\n",
    "# values = ['S:S13I', 'S:W152C', 'S:L452R']\n",
    "feature = 'mutation'\n",
    "# S:Q677H, M:A85S, N:D377Y,\n",
    "values = ['S:S13I', 'S:W152C', 'S:L452R']#, 'S:W152C', 'S:L452R'] # 'ORF1ab:I4205V', \n",
    "input_params['strain'] = 'CAVUI1S'"
   ]
  },
  {
   "cell_type": "code",
   "execution_count": 8,
   "metadata": {
    "scrolled": true
   },
   "outputs": [],
   "source": [
    "results = br.generate_voc_data(feature, values, input_params)"
   ]
  },
  {
   "cell_type": "code",
   "execution_count": 9,
   "metadata": {},
   "outputs": [],
   "source": [
    "html = br.generate_voc_html(feature, values, results, template_name='mut.html')\n",
    "# br.save_html(html, f'test_data/orf1ab_i4205v_report.html')\n",
    "br.save_html(html, f'test_data/cavui1s_report.html')"
   ]
  },
  {
   "cell_type": "code",
   "execution_count": 12,
   "metadata": {},
   "outputs": [],
   "source": [
    "runs = {'orf1a_i4205v': 'ORF1a:I4205V', 'orf1b_d1183y': 'ORF1b:D1183Y', \n",
    "        's_s13i': 'S:S13I', 's_w152c': 'S:W152C', 's_l452r': 'S:L452R'}\n",
    "for name, mut in runs.items():\n",
    "    if mut=='S:W152C':\n",
    "        input_params['strain'] = mut\n",
    "        results = br.generate_voc_data(feature, [mut], input_params)\n",
    "        html = br.generate_voc_html(feature, [mut], results, template_name='mut.html')\n",
    "        br.save_html(html, f'test_data/{name}_report.html')"
   ]
  },
  {
   "cell_type": "code",
   "execution_count": 17,
   "metadata": {},
   "outputs": [],
   "source": [
    "gisaid = pd.read_csv(input_params['gisaid_data_fp'], compression='gzip')"
   ]
  },
  {
   "cell_type": "code",
   "execution_count": 24,
   "metadata": {},
   "outputs": [],
   "source": [
    "mutations = ['S:Q677H', 'M:A85S', 'N:D377Y']"
   ]
  },
  {
   "cell_type": "code",
   "execution_count": 30,
   "metadata": {},
   "outputs": [],
   "source": [
    "m = gisaid.groupby(['country', 'division', 'strain']).agg(mutations=('mutation', 'unique')).reset_index()\n"
   ]
  },
  {
   "cell_type": "code",
   "execution_count": 31,
   "metadata": {},
   "outputs": [],
   "source": [
    "m['is_vui'] = m['mutations'].apply(bv.is_vui, args=(set(mutations),))"
   ]
  },
  {
   "cell_type": "code",
   "execution_count": 32,
   "metadata": {},
   "outputs": [
    {
     "data": {
      "text/plain": [
       "Ontario          25\n",
       "New York         10\n",
       "Maryland          2\n",
       "Wisconsin         2\n",
       "West Virginia     1\n",
       "Massachusetts     1\n",
       "Michigan          1\n",
       "Texas             1\n",
       "Name: division, dtype: int64"
      ]
     },
     "execution_count": 32,
     "metadata": {},
     "output_type": "execute_result"
    }
   ],
   "source": [
    "m.loc[m['is_vui']==True, 'division'].value_counts()"
   ]
  },
  {
   "cell_type": "code",
   "execution_count": 16,
   "metadata": {},
   "outputs": [],
   "source": [
    "# res = (gisaid.groupby(['date', 'country', 'division', \n",
    "#                                         'purpose_of_sequencing',\n",
    "#                                         'location', 'pangolin_lineage', 'strain'])\n",
    "#                        .agg(mutations=('mutation', 'unique')).reset_index())\n",
    "# res['is_vui'] = res['mutations'].apply(bv.is_vui, args=(set(values),))"
   ]
  },
  {
   "cell_type": "code",
   "execution_count": 12,
   "metadata": {},
   "outputs": [],
   "source": [
    "\n",
    "def get_mutations(data: pd.DataFrame, lineage: str='B.1.1.7'):\n",
    "    mutations = set(data[data['pangolin_lineage']==lineage]['mutation'].unique().tolist())\n",
    "    return mutations"
   ]
  }
 ],
 "metadata": {
  "kernelspec": {
   "display_name": "covid",
   "language": "python",
   "name": "covid"
  },
  "language_info": {
   "codemirror_mode": {
    "name": "ipython",
    "version": 3
   },
   "file_extension": ".py",
   "mimetype": "text/x-python",
   "name": "python",
   "nbconvert_exporter": "python",
   "pygments_lexer": "ipython3",
   "version": "3.8.3"
  }
 },
 "nbformat": 4,
 "nbformat_minor": 4
}
