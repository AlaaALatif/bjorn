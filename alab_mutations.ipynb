{
 "cells": [
  {
   "cell_type": "code",
   "execution_count": 1,
   "metadata": {},
   "outputs": [],
   "source": [
    "from path import Path\n",
    "import pandas as pd\n",
    "import bjorn_support as bs\n",
    "import subprocess\n",
    "import shlex\n",
    "import mutations as bm"
   ]
  },
  {
   "cell_type": "code",
   "execution_count": 2,
   "metadata": {},
   "outputs": [],
   "source": [
    "out_dir = Path('/home/al/analysis/alab_mutations_01-01-2020')\n",
    "# Path.mkdir(out_dir)"
   ]
  },
  {
   "cell_type": "code",
   "execution_count": 3,
   "metadata": {},
   "outputs": [],
   "source": [
    "in_dir = Path('/home/al/code/HCoV-19-Genomics/consensus_sequences/')\n",
    "fa_fp = bs.concat_fasta(in_dir, out_dir/'seqs')"
   ]
  },
  {
   "cell_type": "code",
   "execution_count": 5,
   "metadata": {},
   "outputs": [],
   "source": [
    "ref_fp = Path('/home/al/data/hcov19/NC045512.fasta')\n",
    "# bs.align_fasta_reference(fa_fp, num_cpus=25, ref_fp)"
   ]
  },
  {
   "cell_type": "code",
   "execution_count": 3,
   "metadata": {},
   "outputs": [],
   "source": [
    "msa_fp = '/home/al/analysis/alab_mutations_01-01-2020/seqs_aligned.fa'\n",
    "meta_fp = '/home/al/code/HCoV-19-Genomics/metadata.csv'"
   ]
  },
  {
   "cell_type": "code",
   "execution_count": 10,
   "metadata": {},
   "outputs": [],
   "source": [
    "seqsdf = bm.identify_replacements_per_sample(msa_fp, meta_fp, bm.GENE2POS)\n",
    "# seqsdf"
   ]
  },
  {
   "cell_type": "code",
   "execution_count": 4,
   "metadata": {},
   "outputs": [
    {
     "name": "stdout",
     "output_type": "stream",
     "text": [
      "Creating a dataframe...\n",
      "Loading Alignment file at: /home/al/analysis/alab_mutations_01-01-2020/seqs_aligned.fa\n",
      "Initial cleaning...\n",
      "Identifying mutations...\n",
      "Mapping Genes to mutations...\n",
      "Compute codon numbers...\n",
      "Fetch reference codon...\n",
      "Fetch alternative codon...\n",
      "Map amino acids...\n",
      "Fuse with metadata...\n"
     ]
    }
   ],
   "source": [
    "subs = bm.identify_replacements(msa_fp, meta_fp, location='Jordan')"
   ]
  },
  {
   "cell_type": "code",
   "execution_count": 6,
   "metadata": {},
   "outputs": [],
   "source": [
    "subs.sort_values('num_samples', ascending=False).to_csv(out_dir/'jordan_substitutions_01-01-2020.csv', index=False)"
   ]
  },
  {
   "cell_type": "code",
   "execution_count": 4,
   "metadata": {},
   "outputs": [],
   "source": [
    "dels = bm.identify_deletions(msa_fp, meta_fp, location='Jordan')"
   ]
  },
  {
   "cell_type": "code",
   "execution_count": 7,
   "metadata": {},
   "outputs": [],
   "source": [
    "dels.sort_values('num_samples', ascending=False).to_csv(out_dir/'jordan_deletions_01-01-2020.csv', index=False)"
   ]
  },
  {
   "cell_type": "code",
   "execution_count": null,
   "metadata": {},
   "outputs": [],
   "source": [
    "Path('/home/al/analysis/gisaid/metadata_2021-01-01_08-12.tsv.gz')"
   ]
  }
 ],
 "metadata": {
  "kernelspec": {
   "display_name": "Python 3",
   "language": "python",
   "name": "python3"
  },
  "language_info": {
   "codemirror_mode": {
    "name": "ipython",
    "version": 3
   },
   "file_extension": ".py",
   "mimetype": "text/x-python",
   "name": "python",
   "nbconvert_exporter": "python",
   "pygments_lexer": "ipython3",
   "version": "3.8.3"
  }
 },
 "nbformat": 4,
 "nbformat_minor": 4
}
