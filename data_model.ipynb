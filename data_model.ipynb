{
 "cells": [
  {
   "cell_type": "code",
   "execution_count": 1,
   "id": "systematic-sierra",
   "metadata": {},
   "outputs": [],
   "source": [
    "import sys\n",
    "import time\n",
    "import json\n",
    "import numpy as np\n",
    "import pandas as pd\n",
    "\n",
    "import bjorn_support as bs\n",
    "import onion_trees as ot\n",
    "import mutations as bm\n",
    "import visualize as bv\n",
    "import reports as br\n",
    "import data as bd"
   ]
  },
  {
   "cell_type": "code",
   "execution_count": 2,
   "id": "floral-plate",
   "metadata": {},
   "outputs": [],
   "source": [
    "import plotly\n",
    "import plotly.express as px\n",
    "import plotly.graph_objects as go\n",
    "from plotly.subplots import make_subplots"
   ]
  },
  {
   "cell_type": "code",
   "execution_count": 4,
   "id": "satisfactory-director",
   "metadata": {},
   "outputs": [],
   "source": [
    "date = '2021-01-26'\n",
    "countries_fp = '/home/al/data/geojsons/countries.geo.json'\n",
    "states_fp = '/home/al/data/geojsons/us-states.json'\n",
    "subs = pd.read_csv('/home/al/analysis/gisaid/subs_long_2021-01-25.csv.gz', \n",
    "                   compression='gzip')\n",
    "dels = pd.read_csv('/home/al/analysis/gisaid/dels_long_2021-01-25.csv.gz', \n",
    "                   compression='gzip')"
   ]
  },
  {
   "cell_type": "code",
   "execution_count": null,
   "id": "removable-evening",
   "metadata": {},
   "outputs": [],
   "source": [
    "(dels.groupby(['mutation', 'absolute_coords', 'del_len', 'del_seq'])\n",
    "     .agg(num_samples=('idx', 'nunique'))\n",
    "     .reset_index()\n",
    "     .nlargest(50, 'num_samples'))"
   ]
  },
  {
   "cell_type": "code",
   "execution_count": 5,
   "id": "executed-portal",
   "metadata": {},
   "outputs": [],
   "source": [
    "cols = ['mutation', 'strain', 'country', 'division', 'location', 'date', 'absolute_coords', 'del_len']"
   ]
  },
  {
   "cell_type": "code",
   "execution_count": 6,
   "id": "recreational-ministry",
   "metadata": {},
   "outputs": [],
   "source": [
    "dels['pos'] = dels['absolute_coords'].apply(lambda x: int(x.split(':')[0]))\n",
    "dels['ref_codon'] = dels['del_seq'].copy()"
   ]
  },
  {
   "cell_type": "code",
   "execution_count": 7,
   "id": "handled-therapy",
   "metadata": {},
   "outputs": [
    {
     "name": "stdout",
     "output_type": "stream",
     "text": [
      "(6328749, 38)\n",
      "(117950, 44)\n",
      "(6446699, 47)\n"
     ]
    }
   ],
   "source": [
    "print(subs.shape)\n",
    "print(dels.shape)\n",
    "subs['type'] = 'substitution'\n",
    "muts = pd.concat([subs, dels])\n",
    "print(muts.shape)"
   ]
  },
  {
   "cell_type": "code",
   "execution_count": 8,
   "id": "retired-consent",
   "metadata": {},
   "outputs": [],
   "source": [
    "with open(countries_fp) as f:\n",
    "    countries = json.load(f)\n",
    "country_map = {x['properties']['name']: x['id'] for x in countries['features']}\n",
    "muts['country_id'] = muts['country'].apply(lambda x: country_map.get(x, 'NA'))\n",
    "with open(states_fp) as f:\n",
    "    states = json.load(f)\n",
    "state_map = {x['properties']['name']: x['id'] for x in states['features']}\n",
    "muts['division_id'] = muts['division'].apply(lambda x: state_map.get(x, 'NA'))"
   ]
  },
  {
   "cell_type": "code",
   "execution_count": 9,
   "id": "electric-survivor",
   "metadata": {},
   "outputs": [],
   "source": [
    "muts.rename(columns={\n",
    "    'date': 'date_collected',\n",
    "    'GISAID_clade': 'gisaid_clade',\n",
    "    'Nextstrain_clade': 'nextstrain_clade',\n",
    "    'del_len': 'change_length_nt'\n",
    "    }, inplace=True)"
   ]
  },
  {
   "cell_type": "code",
   "execution_count": 10,
   "id": "operating-reputation",
   "metadata": {},
   "outputs": [
    {
     "data": {
      "text/plain": [
       "Index(['idx', 'replacements', 'pos', 'gene', 'codon_num', 'ref_codon',\n",
       "       'alt_codon', 'ref_aa', 'alt_aa', 'mutation', 'strain', 'virus',\n",
       "       'gisaid_epi_isl', 'genbank_accession', 'date_collected', 'region',\n",
       "       'country', 'division', 'location', 'region_exposure',\n",
       "       'country_exposure', 'division_exposure', 'segment', 'length', 'host',\n",
       "       'age', 'sex', 'nextstrain_clade', 'pangolin_lineage', 'gisaid_clade',\n",
       "       'originating_lab', 'submitting_lab', 'authors', 'url', 'title',\n",
       "       'paper_url', 'date_submitted', 'purpose_of_sequencing', 'type',\n",
       "       'seq_len', 'del_positions', 'change_length_nt', 'relative_coords',\n",
       "       'absolute_coords', 'del_seq', 'prev_5nts', 'next_5nts', 'country_id',\n",
       "       'division_id'],\n",
       "      dtype='object')"
      ]
     },
     "execution_count": 10,
     "metadata": {},
     "output_type": "execute_result"
    }
   ],
   "source": [
    "muts.columns"
   ]
  },
  {
   "cell_type": "code",
   "execution_count": 11,
   "id": "indie-environment",
   "metadata": {},
   "outputs": [],
   "source": [
    "def compute_acc_nt_pos(x, gene2pos):\n",
    "    s = gene2pos.get(x['gene'], 0)\n",
    "    return s + x['pos']\n",
    "muts['nt_map_coords'] = muts[['gene', 'pos']].apply(compute_acc_nt_pos, \n",
    "                            args=(bd.GENE2NTCOORDS,), \n",
    "                            axis=1)"
   ]
  },
  {
   "cell_type": "code",
   "execution_count": 12,
   "id": "round-fields",
   "metadata": {},
   "outputs": [],
   "source": [
    "def compute_acc_aa_pos(x, gene2pos):\n",
    "    s = gene2pos.get(x['gene'], 0)\n",
    "    return s + x['codon_num']\n",
    "muts['aa_map_coords'] = muts[['gene', 'codon_num']].apply(compute_acc_aa_pos, \n",
    "                            args=(bd.GENE2AACOORDS,), \n",
    "                            axis=1)"
   ]
  },
  {
   "cell_type": "code",
   "execution_count": 13,
   "id": "applied-vampire",
   "metadata": {},
   "outputs": [],
   "source": [
    "muts['date_modified'] = date"
   ]
  },
  {
   "cell_type": "code",
   "execution_count": 14,
   "id": "sexual-trade",
   "metadata": {},
   "outputs": [
    {
     "data": {
      "text/plain": [
       "Index(['idx', 'replacements', 'pos', 'gene', 'codon_num', 'ref_codon',\n",
       "       'alt_codon', 'ref_aa', 'alt_aa', 'mutation', 'strain', 'virus',\n",
       "       'gisaid_epi_isl', 'genbank_accession', 'date_collected', 'region',\n",
       "       'country', 'division', 'location', 'region_exposure',\n",
       "       'country_exposure', 'division_exposure', 'segment', 'length', 'host',\n",
       "       'age', 'sex', 'nextstrain_clade', 'pangolin_lineage', 'gisaid_clade',\n",
       "       'originating_lab', 'submitting_lab', 'authors', 'url', 'title',\n",
       "       'paper_url', 'date_submitted', 'purpose_of_sequencing', 'type',\n",
       "       'seq_len', 'del_positions', 'change_length_nt', 'relative_coords',\n",
       "       'absolute_coords', 'del_seq', 'prev_5nts', 'next_5nts', 'country_id',\n",
       "       'division_id', 'nt_map_coords', 'aa_map_coords', 'date_modified'],\n",
       "      dtype='object')"
      ]
     },
     "execution_count": 14,
     "metadata": {},
     "output_type": "execute_result"
    }
   ],
   "source": [
    "muts.columns"
   ]
  },
  {
   "cell_type": "code",
   "execution_count": 15,
   "id": "offensive-store",
   "metadata": {},
   "outputs": [],
   "source": [
    "muts['is_synonymous'] = False\n",
    "muts.loc[muts['ref_aa']==muts['alt_aa'], 'is_synonymous'] = True"
   ]
  },
  {
   "cell_type": "code",
   "execution_count": 16,
   "id": "regulated-glenn",
   "metadata": {},
   "outputs": [],
   "source": [
    "meta_info = ['strain', 'date_modified',\n",
    "        'date_collected','date_submitted',\n",
    "        'country_id', 'country', \n",
    "        'division_id', 'division', 'location', \n",
    "        'submitting_lab', 'originating_lab',\n",
    "        'authors', 'pangolin_lineage', \n",
    "        'gisaid_clade', 'nextstrain_clade',\n",
    "        'gisaid_epi_isl', 'genbank_accession',\n",
    "        'purpose_of_sequencing']\n",
    "\n",
    "muts_info = ['type', 'mutation', 'gene', \n",
    "             'ref_codon', 'pos', 'alt_codon', \n",
    "             'is_synonymous', \n",
    "             'ref_aa', 'codon_num', 'alt_aa', \n",
    "             'absolute_coords', \n",
    "             'change_length_nt', \n",
    "             'nt_map_coords', 'aa_map_coords']"
   ]
  },
  {
   "cell_type": "code",
   "execution_count": 17,
   "id": "operating-australia",
   "metadata": {},
   "outputs": [],
   "source": [
    "muts.loc[muts['location']=='unk', 'location'] = 'NA'\n",
    "muts.loc[muts['purpose_of_sequencing']=='?', 'purpose_of_sequencing'] = 'NA'\n",
    "muts.loc[muts['genbank_accession']=='?', 'genbank_accession'] = 'NA'"
   ]
  },
  {
   "cell_type": "code",
   "execution_count": 18,
   "id": "close-buying",
   "metadata": {},
   "outputs": [],
   "source": [
    "muts.fillna('NA', inplace=True)"
   ]
  },
  {
   "cell_type": "code",
   "execution_count": 19,
   "id": "moderate-thumb",
   "metadata": {},
   "outputs": [],
   "source": [
    "sample_ids = muts[['strain']].drop_duplicates().sample(10)['strain'].unique()\n",
    "test = muts[muts['strain'].isin(sample_ids)]"
   ]
  },
  {
   "cell_type": "code",
   "execution_count": 20,
   "id": "wrapped-final",
   "metadata": {},
   "outputs": [],
   "source": [
    "# test['genbank_accession']"
   ]
  },
  {
   "cell_type": "code",
   "execution_count": 21,
   "id": "large-penalty",
   "metadata": {},
   "outputs": [],
   "source": [
    "# test"
   ]
  },
  {
   "cell_type": "code",
   "execution_count": 23,
   "id": "progressive-oracle",
   "metadata": {},
   "outputs": [
    {
     "name": "stdout",
     "output_type": "stream",
     "text": [
      "Execution time: 674.5737869739532 seconds\n"
     ]
    }
   ],
   "source": [
    "start = time.time()\n",
    "(muts.groupby(meta_info, as_index=True)\n",
    "             .apply(lambda x: x[muts_info].to_dict('records'))\n",
    "             .reset_index()\n",
    "             .rename(columns={0:'mutations'})\n",
    "             .to_json('test_data/data_model_2021-01-26.json.gz', \n",
    "                      orient='records',\n",
    "                      compression='gzip'))\n",
    "end = time.time()\n",
    "print(f'Execution time: {end - start} seconds')"
   ]
  },
  {
   "cell_type": "code",
   "execution_count": null,
   "id": "stuck-companion",
   "metadata": {},
   "outputs": [],
   "source": []
  },
  {
   "cell_type": "code",
   "execution_count": null,
   "id": "frequent-orchestra",
   "metadata": {},
   "outputs": [],
   "source": []
  },
  {
   "cell_type": "code",
   "execution_count": null,
   "id": "serious-surgeon",
   "metadata": {},
   "outputs": [],
   "source": []
  },
  {
   "cell_type": "code",
   "execution_count": 42,
   "id": "speaking-closer",
   "metadata": {},
   "outputs": [],
   "source": [
    "cois = [141, 142, 143, 144, 145]\n",
    "my_dels = dels[(dels['codon_num'].isin(cois)) & (dels['gene']=='S')][cols]"
   ]
  },
  {
   "cell_type": "code",
   "execution_count": 43,
   "id": "unavailable-ethernet",
   "metadata": {},
   "outputs": [
    {
     "data": {
      "text/plain": [
       "(25872, 8)"
      ]
     },
     "execution_count": 43,
     "metadata": {},
     "output_type": "execute_result"
    }
   ],
   "source": [
    "my_dels.shape"
   ]
  },
  {
   "cell_type": "code",
   "execution_count": 44,
   "id": "consecutive-assault",
   "metadata": {},
   "outputs": [
    {
     "data": {
      "text/html": [
       "<div>\n",
       "<style scoped>\n",
       "    .dataframe tbody tr th:only-of-type {\n",
       "        vertical-align: middle;\n",
       "    }\n",
       "\n",
       "    .dataframe tbody tr th {\n",
       "        vertical-align: top;\n",
       "    }\n",
       "\n",
       "    .dataframe thead th {\n",
       "        text-align: right;\n",
       "    }\n",
       "</style>\n",
       "<table border=\"1\" class=\"dataframe\">\n",
       "  <thead>\n",
       "    <tr style=\"text-align: right;\">\n",
       "      <th></th>\n",
       "      <th></th>\n",
       "      <th>num_samples</th>\n",
       "      <th>first_detected</th>\n",
       "      <th>last_detected</th>\n",
       "    </tr>\n",
       "    <tr>\n",
       "      <th>mutation</th>\n",
       "      <th>country</th>\n",
       "      <th></th>\n",
       "      <th></th>\n",
       "      <th></th>\n",
       "    </tr>\n",
       "  </thead>\n",
       "  <tbody>\n",
       "    <tr>\n",
       "      <th rowspan=\"4\" valign=\"top\">S:DEL144/144.0</th>\n",
       "      <th>United Kingdom</th>\n",
       "      <td>23596</td>\n",
       "      <td>2020</td>\n",
       "      <td>2021-01-15</td>\n",
       "    </tr>\n",
       "    <tr>\n",
       "      <th>Denmark</th>\n",
       "      <td>450</td>\n",
       "      <td>2020-04-20</td>\n",
       "      <td>2021-01-11</td>\n",
       "    </tr>\n",
       "    <tr>\n",
       "      <th>United States of America</th>\n",
       "      <td>275</td>\n",
       "      <td>2020-03-30</td>\n",
       "      <td>2021-01-09</td>\n",
       "    </tr>\n",
       "    <tr>\n",
       "      <th>Spain</th>\n",
       "      <td>116</td>\n",
       "      <td>2020-03-19</td>\n",
       "      <td>2021-01-12</td>\n",
       "    </tr>\n",
       "    <tr>\n",
       "      <th rowspan=\"3\" valign=\"top\">S:DEL143/143.0</th>\n",
       "      <th>United Kingdom</th>\n",
       "      <td>110</td>\n",
       "      <td>2020</td>\n",
       "      <td>2021-01-09</td>\n",
       "    </tr>\n",
       "    <tr>\n",
       "      <th>...</th>\n",
       "      <td>...</td>\n",
       "      <td>...</td>\n",
       "      <td>...</td>\n",
       "    </tr>\n",
       "    <tr>\n",
       "      <th>Switzerland</th>\n",
       "      <td>1</td>\n",
       "      <td>2020-12-30</td>\n",
       "      <td>2020-12-30</td>\n",
       "    </tr>\n",
       "    <tr>\n",
       "      <th rowspan=\"3\" valign=\"top\">S:DEL142/144.0</th>\n",
       "      <th>Peru</th>\n",
       "      <td>1</td>\n",
       "      <td>2020-12-11</td>\n",
       "      <td>2020-12-11</td>\n",
       "    </tr>\n",
       "    <tr>\n",
       "      <th>Denmark</th>\n",
       "      <td>1</td>\n",
       "      <td>2020-12-14</td>\n",
       "      <td>2020-12-14</td>\n",
       "    </tr>\n",
       "    <tr>\n",
       "      <th>Costa Rica</th>\n",
       "      <td>1</td>\n",
       "      <td>2020-11-06</td>\n",
       "      <td>2020-11-06</td>\n",
       "    </tr>\n",
       "    <tr>\n",
       "      <th>S:DEL145/164.0</th>\n",
       "      <th>United Kingdom</th>\n",
       "      <td>1</td>\n",
       "      <td>2020-11-12</td>\n",
       "      <td>2020-11-12</td>\n",
       "    </tr>\n",
       "  </tbody>\n",
       "</table>\n",
       "<p>132 rows × 3 columns</p>\n",
       "</div>"
      ],
      "text/plain": [
       "                                         num_samples first_detected  \\\n",
       "mutation       country                                                \n",
       "S:DEL144/144.0 United Kingdom                  23596           2020   \n",
       "               Denmark                           450     2020-04-20   \n",
       "               United States of America          275     2020-03-30   \n",
       "               Spain                             116     2020-03-19   \n",
       "S:DEL143/143.0 United Kingdom                    110           2020   \n",
       "...                                              ...            ...   \n",
       "               Switzerland                         1     2020-12-30   \n",
       "S:DEL142/144.0 Peru                                1     2020-12-11   \n",
       "               Denmark                             1     2020-12-14   \n",
       "               Costa Rica                          1     2020-11-06   \n",
       "S:DEL145/164.0 United Kingdom                      1     2020-11-12   \n",
       "\n",
       "                                        last_detected  \n",
       "mutation       country                                 \n",
       "S:DEL144/144.0 United Kingdom              2021-01-15  \n",
       "               Denmark                     2021-01-11  \n",
       "               United States of America    2021-01-09  \n",
       "               Spain                       2021-01-12  \n",
       "S:DEL143/143.0 United Kingdom              2021-01-09  \n",
       "...                                               ...  \n",
       "               Switzerland                 2020-12-30  \n",
       "S:DEL142/144.0 Peru                        2020-12-11  \n",
       "               Denmark                     2020-12-14  \n",
       "               Costa Rica                  2020-11-06  \n",
       "S:DEL145/164.0 United Kingdom              2020-11-12  \n",
       "\n",
       "[132 rows x 3 columns]"
      ]
     },
     "execution_count": 44,
     "metadata": {},
     "output_type": "execute_result"
    }
   ],
   "source": [
    "(my_dels.groupby(['mutation', 'country'])\n",
    "        .agg(num_samples=('strain', 'nunique'),\n",
    "             first_detected=('date', 'min'),\n",
    "             last_detected=('date', 'max'))\n",
    "#         .reset_index()\n",
    "        .sort_values('num_samples', ascending=False))"
   ]
  },
  {
   "cell_type": "code",
   "execution_count": 45,
   "id": "prerequisite-microwave",
   "metadata": {},
   "outputs": [
    {
     "data": {
      "text/plain": [
       "S:DEL144/144.0                 25466\n",
       "S:DEL141/144.0                   139\n",
       "S:DEL143/143.0                   114\n",
       "S:DEL144/145.0                    57\n",
       "S:DEL141/143.0                    41\n",
       "S:DEL142/144.0                    17\n",
       "S:DEL142/143.0                     6\n",
       "S:DEL143/145.0                     6\n",
       "S:DEL145/146.0                     5\n",
       "S:DEL145/145.0                     5\n",
       "S:DEL141/141.0                     4\n",
       "S:DEL141/142.0                     3\n",
       "S:DEL143/144.0                     2\n",
       "S:DEL141/145.0                     2\n",
       "S:DEL143/168.33333333333334        1\n",
       "S:DEL141/143.66666666666666        1\n",
       "S:DEL141/142.33333333333334        1\n",
       "S:DEL145/148.0                     1\n",
       "S:DEL145/164.0                     1\n",
       "Name: mutation, dtype: int64"
      ]
     },
     "execution_count": 45,
     "metadata": {},
     "output_type": "execute_result"
    }
   ],
   "source": [
    "my_dels['mutation'].value_counts()"
   ]
  },
  {
   "cell_type": "code",
   "execution_count": 46,
   "id": "interstate-berkeley",
   "metadata": {},
   "outputs": [],
   "source": [
    "my_dels['mutation'] = my_dels['mutation'].apply(lambda x: x.split('.')[0])"
   ]
  },
  {
   "cell_type": "code",
   "execution_count": 47,
   "id": "dramatic-habitat",
   "metadata": {},
   "outputs": [
    {
     "data": {
      "application/vnd.plotly.v1+json": {
       "config": {
        "plotlyServerURL": "https://plot.ly"
       },
       "data": [
        {
         "orientation": "h",
         "text": [
          0.9843073593073594,
          0.005372603586889301,
          0.004406307977736549,
          0.0022031539888682744,
          0.0016233766233766235,
          0.0006570810142238713,
          0.00023191094619666049,
          0.00023191094619666049,
          0.0001932591218305504,
          0.0001932591218305504,
          0.00015460729746444033,
          0.00015460729746444033,
          7.730364873222017e-05,
          7.730364873222017e-05,
          3.865182436611008e-05,
          3.865182436611008e-05,
          3.865182436611008e-05
         ],
         "textposition": "outside",
         "texttemplate": "%{text:.2p}",
         "type": "bar",
         "x": [
          25466,
          139,
          114,
          57,
          42,
          17,
          6,
          6,
          5,
          5,
          4,
          4,
          2,
          2,
          1,
          1,
          1
         ],
         "y": [
          "S:DEL144/144",
          "S:DEL141/144",
          "S:DEL143/143",
          "S:DEL144/145",
          "S:DEL141/143",
          "S:DEL142/144",
          "S:DEL143/145",
          "S:DEL142/143",
          "S:DEL145/146",
          "S:DEL145/145",
          "S:DEL141/141",
          "S:DEL141/142",
          "S:DEL143/144",
          "S:DEL141/145",
          "S:DEL143/168",
          "S:DEL145/148",
          "S:DEL145/164"
         ]
        }
       ],
       "layout": {
        "margin": {
         "r": 0
        },
        "showlegend": false,
        "template": {
         "data": {
          "bar": [
           {
            "error_x": {
             "color": "#2a3f5f"
            },
            "error_y": {
             "color": "#2a3f5f"
            },
            "marker": {
             "line": {
              "color": "white",
              "width": 0.5
             }
            },
            "type": "bar"
           }
          ],
          "barpolar": [
           {
            "marker": {
             "line": {
              "color": "white",
              "width": 0.5
             }
            },
            "type": "barpolar"
           }
          ],
          "carpet": [
           {
            "aaxis": {
             "endlinecolor": "#2a3f5f",
             "gridcolor": "#C8D4E3",
             "linecolor": "#C8D4E3",
             "minorgridcolor": "#C8D4E3",
             "startlinecolor": "#2a3f5f"
            },
            "baxis": {
             "endlinecolor": "#2a3f5f",
             "gridcolor": "#C8D4E3",
             "linecolor": "#C8D4E3",
             "minorgridcolor": "#C8D4E3",
             "startlinecolor": "#2a3f5f"
            },
            "type": "carpet"
           }
          ],
          "choropleth": [
           {
            "colorbar": {
             "outlinewidth": 0,
             "ticks": ""
            },
            "type": "choropleth"
           }
          ],
          "contour": [
           {
            "colorbar": {
             "outlinewidth": 0,
             "ticks": ""
            },
            "colorscale": [
             [
              0,
              "#0d0887"
             ],
             [
              0.1111111111111111,
              "#46039f"
             ],
             [
              0.2222222222222222,
              "#7201a8"
             ],
             [
              0.3333333333333333,
              "#9c179e"
             ],
             [
              0.4444444444444444,
              "#bd3786"
             ],
             [
              0.5555555555555556,
              "#d8576b"
             ],
             [
              0.6666666666666666,
              "#ed7953"
             ],
             [
              0.7777777777777778,
              "#fb9f3a"
             ],
             [
              0.8888888888888888,
              "#fdca26"
             ],
             [
              1,
              "#f0f921"
             ]
            ],
            "type": "contour"
           }
          ],
          "contourcarpet": [
           {
            "colorbar": {
             "outlinewidth": 0,
             "ticks": ""
            },
            "type": "contourcarpet"
           }
          ],
          "heatmap": [
           {
            "colorbar": {
             "outlinewidth": 0,
             "ticks": ""
            },
            "colorscale": [
             [
              0,
              "#0d0887"
             ],
             [
              0.1111111111111111,
              "#46039f"
             ],
             [
              0.2222222222222222,
              "#7201a8"
             ],
             [
              0.3333333333333333,
              "#9c179e"
             ],
             [
              0.4444444444444444,
              "#bd3786"
             ],
             [
              0.5555555555555556,
              "#d8576b"
             ],
             [
              0.6666666666666666,
              "#ed7953"
             ],
             [
              0.7777777777777778,
              "#fb9f3a"
             ],
             [
              0.8888888888888888,
              "#fdca26"
             ],
             [
              1,
              "#f0f921"
             ]
            ],
            "type": "heatmap"
           }
          ],
          "heatmapgl": [
           {
            "colorbar": {
             "outlinewidth": 0,
             "ticks": ""
            },
            "colorscale": [
             [
              0,
              "#0d0887"
             ],
             [
              0.1111111111111111,
              "#46039f"
             ],
             [
              0.2222222222222222,
              "#7201a8"
             ],
             [
              0.3333333333333333,
              "#9c179e"
             ],
             [
              0.4444444444444444,
              "#bd3786"
             ],
             [
              0.5555555555555556,
              "#d8576b"
             ],
             [
              0.6666666666666666,
              "#ed7953"
             ],
             [
              0.7777777777777778,
              "#fb9f3a"
             ],
             [
              0.8888888888888888,
              "#fdca26"
             ],
             [
              1,
              "#f0f921"
             ]
            ],
            "type": "heatmapgl"
           }
          ],
          "histogram": [
           {
            "marker": {
             "colorbar": {
              "outlinewidth": 0,
              "ticks": ""
             }
            },
            "type": "histogram"
           }
          ],
          "histogram2d": [
           {
            "colorbar": {
             "outlinewidth": 0,
             "ticks": ""
            },
            "colorscale": [
             [
              0,
              "#0d0887"
             ],
             [
              0.1111111111111111,
              "#46039f"
             ],
             [
              0.2222222222222222,
              "#7201a8"
             ],
             [
              0.3333333333333333,
              "#9c179e"
             ],
             [
              0.4444444444444444,
              "#bd3786"
             ],
             [
              0.5555555555555556,
              "#d8576b"
             ],
             [
              0.6666666666666666,
              "#ed7953"
             ],
             [
              0.7777777777777778,
              "#fb9f3a"
             ],
             [
              0.8888888888888888,
              "#fdca26"
             ],
             [
              1,
              "#f0f921"
             ]
            ],
            "type": "histogram2d"
           }
          ],
          "histogram2dcontour": [
           {
            "colorbar": {
             "outlinewidth": 0,
             "ticks": ""
            },
            "colorscale": [
             [
              0,
              "#0d0887"
             ],
             [
              0.1111111111111111,
              "#46039f"
             ],
             [
              0.2222222222222222,
              "#7201a8"
             ],
             [
              0.3333333333333333,
              "#9c179e"
             ],
             [
              0.4444444444444444,
              "#bd3786"
             ],
             [
              0.5555555555555556,
              "#d8576b"
             ],
             [
              0.6666666666666666,
              "#ed7953"
             ],
             [
              0.7777777777777778,
              "#fb9f3a"
             ],
             [
              0.8888888888888888,
              "#fdca26"
             ],
             [
              1,
              "#f0f921"
             ]
            ],
            "type": "histogram2dcontour"
           }
          ],
          "mesh3d": [
           {
            "colorbar": {
             "outlinewidth": 0,
             "ticks": ""
            },
            "type": "mesh3d"
           }
          ],
          "parcoords": [
           {
            "line": {
             "colorbar": {
              "outlinewidth": 0,
              "ticks": ""
             }
            },
            "type": "parcoords"
           }
          ],
          "pie": [
           {
            "automargin": true,
            "type": "pie"
           }
          ],
          "scatter": [
           {
            "marker": {
             "colorbar": {
              "outlinewidth": 0,
              "ticks": ""
             }
            },
            "type": "scatter"
           }
          ],
          "scatter3d": [
           {
            "line": {
             "colorbar": {
              "outlinewidth": 0,
              "ticks": ""
             }
            },
            "marker": {
             "colorbar": {
              "outlinewidth": 0,
              "ticks": ""
             }
            },
            "type": "scatter3d"
           }
          ],
          "scattercarpet": [
           {
            "marker": {
             "colorbar": {
              "outlinewidth": 0,
              "ticks": ""
             }
            },
            "type": "scattercarpet"
           }
          ],
          "scattergeo": [
           {
            "marker": {
             "colorbar": {
              "outlinewidth": 0,
              "ticks": ""
             }
            },
            "type": "scattergeo"
           }
          ],
          "scattergl": [
           {
            "marker": {
             "colorbar": {
              "outlinewidth": 0,
              "ticks": ""
             }
            },
            "type": "scattergl"
           }
          ],
          "scattermapbox": [
           {
            "marker": {
             "colorbar": {
              "outlinewidth": 0,
              "ticks": ""
             }
            },
            "type": "scattermapbox"
           }
          ],
          "scatterpolar": [
           {
            "marker": {
             "colorbar": {
              "outlinewidth": 0,
              "ticks": ""
             }
            },
            "type": "scatterpolar"
           }
          ],
          "scatterpolargl": [
           {
            "marker": {
             "colorbar": {
              "outlinewidth": 0,
              "ticks": ""
             }
            },
            "type": "scatterpolargl"
           }
          ],
          "scatterternary": [
           {
            "marker": {
             "colorbar": {
              "outlinewidth": 0,
              "ticks": ""
             }
            },
            "type": "scatterternary"
           }
          ],
          "surface": [
           {
            "colorbar": {
             "outlinewidth": 0,
             "ticks": ""
            },
            "colorscale": [
             [
              0,
              "#0d0887"
             ],
             [
              0.1111111111111111,
              "#46039f"
             ],
             [
              0.2222222222222222,
              "#7201a8"
             ],
             [
              0.3333333333333333,
              "#9c179e"
             ],
             [
              0.4444444444444444,
              "#bd3786"
             ],
             [
              0.5555555555555556,
              "#d8576b"
             ],
             [
              0.6666666666666666,
              "#ed7953"
             ],
             [
              0.7777777777777778,
              "#fb9f3a"
             ],
             [
              0.8888888888888888,
              "#fdca26"
             ],
             [
              1,
              "#f0f921"
             ]
            ],
            "type": "surface"
           }
          ],
          "table": [
           {
            "cells": {
             "fill": {
              "color": "#EBF0F8"
             },
             "line": {
              "color": "white"
             }
            },
            "header": {
             "fill": {
              "color": "#C8D4E3"
             },
             "line": {
              "color": "white"
             }
            },
            "type": "table"
           }
          ]
         },
         "layout": {
          "annotationdefaults": {
           "arrowcolor": "#2a3f5f",
           "arrowhead": 0,
           "arrowwidth": 1
          },
          "autotypenumbers": "strict",
          "coloraxis": {
           "colorbar": {
            "outlinewidth": 0,
            "ticks": ""
           }
          },
          "colorscale": {
           "diverging": [
            [
             0,
             "#8e0152"
            ],
            [
             0.1,
             "#c51b7d"
            ],
            [
             0.2,
             "#de77ae"
            ],
            [
             0.3,
             "#f1b6da"
            ],
            [
             0.4,
             "#fde0ef"
            ],
            [
             0.5,
             "#f7f7f7"
            ],
            [
             0.6,
             "#e6f5d0"
            ],
            [
             0.7,
             "#b8e186"
            ],
            [
             0.8,
             "#7fbc41"
            ],
            [
             0.9,
             "#4d9221"
            ],
            [
             1,
             "#276419"
            ]
           ],
           "sequential": [
            [
             0,
             "#0d0887"
            ],
            [
             0.1111111111111111,
             "#46039f"
            ],
            [
             0.2222222222222222,
             "#7201a8"
            ],
            [
             0.3333333333333333,
             "#9c179e"
            ],
            [
             0.4444444444444444,
             "#bd3786"
            ],
            [
             0.5555555555555556,
             "#d8576b"
            ],
            [
             0.6666666666666666,
             "#ed7953"
            ],
            [
             0.7777777777777778,
             "#fb9f3a"
            ],
            [
             0.8888888888888888,
             "#fdca26"
            ],
            [
             1,
             "#f0f921"
            ]
           ],
           "sequentialminus": [
            [
             0,
             "#0d0887"
            ],
            [
             0.1111111111111111,
             "#46039f"
            ],
            [
             0.2222222222222222,
             "#7201a8"
            ],
            [
             0.3333333333333333,
             "#9c179e"
            ],
            [
             0.4444444444444444,
             "#bd3786"
            ],
            [
             0.5555555555555556,
             "#d8576b"
            ],
            [
             0.6666666666666666,
             "#ed7953"
            ],
            [
             0.7777777777777778,
             "#fb9f3a"
            ],
            [
             0.8888888888888888,
             "#fdca26"
            ],
            [
             1,
             "#f0f921"
            ]
           ]
          },
          "colorway": [
           "#636efa",
           "#EF553B",
           "#00cc96",
           "#ab63fa",
           "#FFA15A",
           "#19d3f3",
           "#FF6692",
           "#B6E880",
           "#FF97FF",
           "#FECB52"
          ],
          "font": {
           "color": "#2a3f5f"
          },
          "geo": {
           "bgcolor": "white",
           "lakecolor": "white",
           "landcolor": "white",
           "showlakes": true,
           "showland": true,
           "subunitcolor": "#C8D4E3"
          },
          "hoverlabel": {
           "align": "left"
          },
          "hovermode": "closest",
          "mapbox": {
           "style": "light"
          },
          "paper_bgcolor": "white",
          "plot_bgcolor": "white",
          "polar": {
           "angularaxis": {
            "gridcolor": "#EBF0F8",
            "linecolor": "#EBF0F8",
            "ticks": ""
           },
           "bgcolor": "white",
           "radialaxis": {
            "gridcolor": "#EBF0F8",
            "linecolor": "#EBF0F8",
            "ticks": ""
           }
          },
          "scene": {
           "xaxis": {
            "backgroundcolor": "white",
            "gridcolor": "#DFE8F3",
            "gridwidth": 2,
            "linecolor": "#EBF0F8",
            "showbackground": true,
            "ticks": "",
            "zerolinecolor": "#EBF0F8"
           },
           "yaxis": {
            "backgroundcolor": "white",
            "gridcolor": "#DFE8F3",
            "gridwidth": 2,
            "linecolor": "#EBF0F8",
            "showbackground": true,
            "ticks": "",
            "zerolinecolor": "#EBF0F8"
           },
           "zaxis": {
            "backgroundcolor": "white",
            "gridcolor": "#DFE8F3",
            "gridwidth": 2,
            "linecolor": "#EBF0F8",
            "showbackground": true,
            "ticks": "",
            "zerolinecolor": "#EBF0F8"
           }
          },
          "shapedefaults": {
           "line": {
            "color": "#2a3f5f"
           }
          },
          "ternary": {
           "aaxis": {
            "gridcolor": "#DFE8F3",
            "linecolor": "#A2B1C6",
            "ticks": ""
           },
           "baxis": {
            "gridcolor": "#DFE8F3",
            "linecolor": "#A2B1C6",
            "ticks": ""
           },
           "bgcolor": "white",
           "caxis": {
            "gridcolor": "#DFE8F3",
            "linecolor": "#A2B1C6",
            "ticks": ""
           }
          },
          "title": {
           "x": 0.05
          },
          "xaxis": {
           "automargin": true,
           "gridcolor": "#EBF0F8",
           "linecolor": "#EBF0F8",
           "ticks": "",
           "title": {
            "standoff": 15
           },
           "zerolinecolor": "#EBF0F8",
           "zerolinewidth": 2
          },
          "yaxis": {
           "automargin": true,
           "gridcolor": "#EBF0F8",
           "linecolor": "#EBF0F8",
           "ticks": "",
           "title": {
            "standoff": 15
           },
           "zerolinecolor": "#EBF0F8",
           "zerolinewidth": 2
          }
         }
        },
        "title": {
         "text": "[Undesignated]"
        },
        "xaxis": {
         "title": {
          "text": "Number of Sequences"
         }
        },
        "yaxis": {
         "title": {
          "text": "Deletion"
         }
        }
       }
      },
      "text/html": [
       "<div>                            <div id=\"5cae3ce8-ce84-44f0-9c91-4a95ad8164c4\" class=\"plotly-graph-div\" style=\"height:525px; width:100%;\"></div>            <script type=\"text/javascript\">                require([\"plotly\"], function(Plotly) {                    window.PLOTLYENV=window.PLOTLYENV || {};                                    if (document.getElementById(\"5cae3ce8-ce84-44f0-9c91-4a95ad8164c4\")) {                    Plotly.newPlot(                        \"5cae3ce8-ce84-44f0-9c91-4a95ad8164c4\",                        [{\"orientation\": \"h\", \"text\": [0.9843073593073594, 0.005372603586889301, 0.004406307977736549, 0.0022031539888682744, 0.0016233766233766235, 0.0006570810142238713, 0.00023191094619666049, 0.00023191094619666049, 0.0001932591218305504, 0.0001932591218305504, 0.00015460729746444033, 0.00015460729746444033, 7.730364873222017e-05, 7.730364873222017e-05, 3.865182436611008e-05, 3.865182436611008e-05, 3.865182436611008e-05], \"textposition\": \"outside\", \"texttemplate\": \"%{text:.2p}\", \"type\": \"bar\", \"x\": [25466, 139, 114, 57, 42, 17, 6, 6, 5, 5, 4, 4, 2, 2, 1, 1, 1], \"y\": [\"S:DEL144/144\", \"S:DEL141/144\", \"S:DEL143/143\", \"S:DEL144/145\", \"S:DEL141/143\", \"S:DEL142/144\", \"S:DEL143/145\", \"S:DEL142/143\", \"S:DEL145/146\", \"S:DEL145/145\", \"S:DEL141/141\", \"S:DEL141/142\", \"S:DEL143/144\", \"S:DEL141/145\", \"S:DEL143/168\", \"S:DEL145/148\", \"S:DEL145/164\"]}],                        {\"margin\": {\"r\": 0}, \"showlegend\": false, \"template\": {\"data\": {\"bar\": [{\"error_x\": {\"color\": \"#2a3f5f\"}, \"error_y\": {\"color\": \"#2a3f5f\"}, \"marker\": {\"line\": {\"color\": \"white\", \"width\": 0.5}}, \"type\": \"bar\"}], \"barpolar\": [{\"marker\": {\"line\": {\"color\": \"white\", \"width\": 0.5}}, \"type\": \"barpolar\"}], \"carpet\": [{\"aaxis\": {\"endlinecolor\": \"#2a3f5f\", \"gridcolor\": \"#C8D4E3\", \"linecolor\": \"#C8D4E3\", \"minorgridcolor\": \"#C8D4E3\", \"startlinecolor\": \"#2a3f5f\"}, \"baxis\": {\"endlinecolor\": \"#2a3f5f\", \"gridcolor\": \"#C8D4E3\", \"linecolor\": \"#C8D4E3\", \"minorgridcolor\": \"#C8D4E3\", \"startlinecolor\": \"#2a3f5f\"}, \"type\": \"carpet\"}], \"choropleth\": [{\"colorbar\": {\"outlinewidth\": 0, \"ticks\": \"\"}, \"type\": \"choropleth\"}], \"contour\": [{\"colorbar\": {\"outlinewidth\": 0, \"ticks\": \"\"}, \"colorscale\": [[0.0, \"#0d0887\"], [0.1111111111111111, \"#46039f\"], [0.2222222222222222, \"#7201a8\"], [0.3333333333333333, \"#9c179e\"], [0.4444444444444444, \"#bd3786\"], [0.5555555555555556, \"#d8576b\"], [0.6666666666666666, \"#ed7953\"], [0.7777777777777778, \"#fb9f3a\"], [0.8888888888888888, \"#fdca26\"], [1.0, \"#f0f921\"]], \"type\": \"contour\"}], \"contourcarpet\": [{\"colorbar\": {\"outlinewidth\": 0, \"ticks\": \"\"}, \"type\": \"contourcarpet\"}], \"heatmap\": [{\"colorbar\": {\"outlinewidth\": 0, \"ticks\": \"\"}, \"colorscale\": [[0.0, \"#0d0887\"], [0.1111111111111111, \"#46039f\"], [0.2222222222222222, \"#7201a8\"], [0.3333333333333333, \"#9c179e\"], [0.4444444444444444, \"#bd3786\"], [0.5555555555555556, \"#d8576b\"], [0.6666666666666666, \"#ed7953\"], [0.7777777777777778, \"#fb9f3a\"], [0.8888888888888888, \"#fdca26\"], [1.0, \"#f0f921\"]], \"type\": \"heatmap\"}], \"heatmapgl\": [{\"colorbar\": {\"outlinewidth\": 0, \"ticks\": \"\"}, \"colorscale\": [[0.0, \"#0d0887\"], [0.1111111111111111, \"#46039f\"], [0.2222222222222222, \"#7201a8\"], [0.3333333333333333, \"#9c179e\"], [0.4444444444444444, \"#bd3786\"], [0.5555555555555556, \"#d8576b\"], [0.6666666666666666, \"#ed7953\"], [0.7777777777777778, \"#fb9f3a\"], [0.8888888888888888, \"#fdca26\"], [1.0, \"#f0f921\"]], \"type\": \"heatmapgl\"}], \"histogram\": [{\"marker\": {\"colorbar\": {\"outlinewidth\": 0, \"ticks\": \"\"}}, \"type\": \"histogram\"}], \"histogram2d\": [{\"colorbar\": {\"outlinewidth\": 0, \"ticks\": \"\"}, \"colorscale\": [[0.0, \"#0d0887\"], [0.1111111111111111, \"#46039f\"], [0.2222222222222222, \"#7201a8\"], [0.3333333333333333, \"#9c179e\"], [0.4444444444444444, \"#bd3786\"], [0.5555555555555556, \"#d8576b\"], [0.6666666666666666, \"#ed7953\"], [0.7777777777777778, \"#fb9f3a\"], [0.8888888888888888, \"#fdca26\"], [1.0, \"#f0f921\"]], \"type\": \"histogram2d\"}], \"histogram2dcontour\": [{\"colorbar\": {\"outlinewidth\": 0, \"ticks\": \"\"}, \"colorscale\": [[0.0, \"#0d0887\"], [0.1111111111111111, \"#46039f\"], [0.2222222222222222, \"#7201a8\"], [0.3333333333333333, \"#9c179e\"], [0.4444444444444444, \"#bd3786\"], [0.5555555555555556, \"#d8576b\"], [0.6666666666666666, \"#ed7953\"], [0.7777777777777778, \"#fb9f3a\"], [0.8888888888888888, \"#fdca26\"], [1.0, \"#f0f921\"]], \"type\": \"histogram2dcontour\"}], \"mesh3d\": [{\"colorbar\": {\"outlinewidth\": 0, \"ticks\": \"\"}, \"type\": \"mesh3d\"}], \"parcoords\": [{\"line\": {\"colorbar\": {\"outlinewidth\": 0, \"ticks\": \"\"}}, \"type\": \"parcoords\"}], \"pie\": [{\"automargin\": true, \"type\": \"pie\"}], \"scatter\": [{\"marker\": {\"colorbar\": {\"outlinewidth\": 0, \"ticks\": \"\"}}, \"type\": \"scatter\"}], \"scatter3d\": [{\"line\": {\"colorbar\": {\"outlinewidth\": 0, \"ticks\": \"\"}}, \"marker\": {\"colorbar\": {\"outlinewidth\": 0, \"ticks\": \"\"}}, \"type\": \"scatter3d\"}], \"scattercarpet\": [{\"marker\": {\"colorbar\": {\"outlinewidth\": 0, \"ticks\": \"\"}}, \"type\": \"scattercarpet\"}], \"scattergeo\": [{\"marker\": {\"colorbar\": {\"outlinewidth\": 0, \"ticks\": \"\"}}, \"type\": \"scattergeo\"}], \"scattergl\": [{\"marker\": {\"colorbar\": {\"outlinewidth\": 0, \"ticks\": \"\"}}, \"type\": \"scattergl\"}], \"scattermapbox\": [{\"marker\": {\"colorbar\": {\"outlinewidth\": 0, \"ticks\": \"\"}}, \"type\": \"scattermapbox\"}], \"scatterpolar\": [{\"marker\": {\"colorbar\": {\"outlinewidth\": 0, \"ticks\": \"\"}}, \"type\": \"scatterpolar\"}], \"scatterpolargl\": [{\"marker\": {\"colorbar\": {\"outlinewidth\": 0, \"ticks\": \"\"}}, \"type\": \"scatterpolargl\"}], \"scatterternary\": [{\"marker\": {\"colorbar\": {\"outlinewidth\": 0, \"ticks\": \"\"}}, \"type\": \"scatterternary\"}], \"surface\": [{\"colorbar\": {\"outlinewidth\": 0, \"ticks\": \"\"}, \"colorscale\": [[0.0, \"#0d0887\"], [0.1111111111111111, \"#46039f\"], [0.2222222222222222, \"#7201a8\"], [0.3333333333333333, \"#9c179e\"], [0.4444444444444444, \"#bd3786\"], [0.5555555555555556, \"#d8576b\"], [0.6666666666666666, \"#ed7953\"], [0.7777777777777778, \"#fb9f3a\"], [0.8888888888888888, \"#fdca26\"], [1.0, \"#f0f921\"]], \"type\": \"surface\"}], \"table\": [{\"cells\": {\"fill\": {\"color\": \"#EBF0F8\"}, \"line\": {\"color\": \"white\"}}, \"header\": {\"fill\": {\"color\": \"#C8D4E3\"}, \"line\": {\"color\": \"white\"}}, \"type\": \"table\"}]}, \"layout\": {\"annotationdefaults\": {\"arrowcolor\": \"#2a3f5f\", \"arrowhead\": 0, \"arrowwidth\": 1}, \"autotypenumbers\": \"strict\", \"coloraxis\": {\"colorbar\": {\"outlinewidth\": 0, \"ticks\": \"\"}}, \"colorscale\": {\"diverging\": [[0, \"#8e0152\"], [0.1, \"#c51b7d\"], [0.2, \"#de77ae\"], [0.3, \"#f1b6da\"], [0.4, \"#fde0ef\"], [0.5, \"#f7f7f7\"], [0.6, \"#e6f5d0\"], [0.7, \"#b8e186\"], [0.8, \"#7fbc41\"], [0.9, \"#4d9221\"], [1, \"#276419\"]], \"sequential\": [[0.0, \"#0d0887\"], [0.1111111111111111, \"#46039f\"], [0.2222222222222222, \"#7201a8\"], [0.3333333333333333, \"#9c179e\"], [0.4444444444444444, \"#bd3786\"], [0.5555555555555556, \"#d8576b\"], [0.6666666666666666, \"#ed7953\"], [0.7777777777777778, \"#fb9f3a\"], [0.8888888888888888, \"#fdca26\"], [1.0, \"#f0f921\"]], \"sequentialminus\": [[0.0, \"#0d0887\"], [0.1111111111111111, \"#46039f\"], [0.2222222222222222, \"#7201a8\"], [0.3333333333333333, \"#9c179e\"], [0.4444444444444444, \"#bd3786\"], [0.5555555555555556, \"#d8576b\"], [0.6666666666666666, \"#ed7953\"], [0.7777777777777778, \"#fb9f3a\"], [0.8888888888888888, \"#fdca26\"], [1.0, \"#f0f921\"]]}, \"colorway\": [\"#636efa\", \"#EF553B\", \"#00cc96\", \"#ab63fa\", \"#FFA15A\", \"#19d3f3\", \"#FF6692\", \"#B6E880\", \"#FF97FF\", \"#FECB52\"], \"font\": {\"color\": \"#2a3f5f\"}, \"geo\": {\"bgcolor\": \"white\", \"lakecolor\": \"white\", \"landcolor\": \"white\", \"showlakes\": true, \"showland\": true, \"subunitcolor\": \"#C8D4E3\"}, \"hoverlabel\": {\"align\": \"left\"}, \"hovermode\": \"closest\", \"mapbox\": {\"style\": \"light\"}, \"paper_bgcolor\": \"white\", \"plot_bgcolor\": \"white\", \"polar\": {\"angularaxis\": {\"gridcolor\": \"#EBF0F8\", \"linecolor\": \"#EBF0F8\", \"ticks\": \"\"}, \"bgcolor\": \"white\", \"radialaxis\": {\"gridcolor\": \"#EBF0F8\", \"linecolor\": \"#EBF0F8\", \"ticks\": \"\"}}, \"scene\": {\"xaxis\": {\"backgroundcolor\": \"white\", \"gridcolor\": \"#DFE8F3\", \"gridwidth\": 2, \"linecolor\": \"#EBF0F8\", \"showbackground\": true, \"ticks\": \"\", \"zerolinecolor\": \"#EBF0F8\"}, \"yaxis\": {\"backgroundcolor\": \"white\", \"gridcolor\": \"#DFE8F3\", \"gridwidth\": 2, \"linecolor\": \"#EBF0F8\", \"showbackground\": true, \"ticks\": \"\", \"zerolinecolor\": \"#EBF0F8\"}, \"zaxis\": {\"backgroundcolor\": \"white\", \"gridcolor\": \"#DFE8F3\", \"gridwidth\": 2, \"linecolor\": \"#EBF0F8\", \"showbackground\": true, \"ticks\": \"\", \"zerolinecolor\": \"#EBF0F8\"}}, \"shapedefaults\": {\"line\": {\"color\": \"#2a3f5f\"}}, \"ternary\": {\"aaxis\": {\"gridcolor\": \"#DFE8F3\", \"linecolor\": \"#A2B1C6\", \"ticks\": \"\"}, \"baxis\": {\"gridcolor\": \"#DFE8F3\", \"linecolor\": \"#A2B1C6\", \"ticks\": \"\"}, \"bgcolor\": \"white\", \"caxis\": {\"gridcolor\": \"#DFE8F3\", \"linecolor\": \"#A2B1C6\", \"ticks\": \"\"}}, \"title\": {\"x\": 0.05}, \"xaxis\": {\"automargin\": true, \"gridcolor\": \"#EBF0F8\", \"linecolor\": \"#EBF0F8\", \"ticks\": \"\", \"title\": {\"standoff\": 15}, \"zerolinecolor\": \"#EBF0F8\", \"zerolinewidth\": 2}, \"yaxis\": {\"automargin\": true, \"gridcolor\": \"#EBF0F8\", \"linecolor\": \"#EBF0F8\", \"ticks\": \"\", \"title\": {\"standoff\": 15}, \"zerolinecolor\": \"#EBF0F8\", \"zerolinewidth\": 2}}}, \"title\": {\"text\": \"[Undesignated]\"}, \"xaxis\": {\"title\": {\"text\": \"Number of Sequences\"}}, \"yaxis\": {\"title\": {\"text\": \"Deletion\"}}},                        {\"responsive\": true}                    ).then(function(){\n",
       "                            \n",
       "var gd = document.getElementById('5cae3ce8-ce84-44f0-9c91-4a95ad8164c4');\n",
       "var x = new MutationObserver(function (mutations, observer) {{\n",
       "        var display = window.getComputedStyle(gd).display;\n",
       "        if (!display || display === 'none') {{\n",
       "            console.log([gd, 'removed!']);\n",
       "            Plotly.purge(gd);\n",
       "            observer.disconnect();\n",
       "        }}\n",
       "}});\n",
       "\n",
       "// Listen for the removal of the full notebook cells\n",
       "var notebookContainer = gd.closest('#notebook-container');\n",
       "if (notebookContainer) {{\n",
       "    x.observe(notebookContainer, {childList: true});\n",
       "}}\n",
       "\n",
       "// Listen for the clearing of the current output cell\n",
       "var outputEl = gd.closest('.output');\n",
       "if (outputEl) {{\n",
       "    x.observe(outputEl, {childList: true});\n",
       "}}\n",
       "\n",
       "                        })                };                });            </script>        </div>"
      ]
     },
     "metadata": {},
     "output_type": "display_data"
    }
   ],
   "source": [
    "counts = (my_dels['mutation']\n",
    "                  .value_counts()\n",
    "                  .to_frame()\n",
    "                  .reset_index()\n",
    "                  .rename(columns={'index': 'deletion', 'mutation': 'num_samples'}))\n",
    "counts['pct_samples'] = counts['num_samples'] / counts['num_samples'].sum()\n",
    "fig = go.Figure(go.Bar(\n",
    "        y=counts['deletion'], x=counts['num_samples'], orientation='h',\n",
    "        text=counts['pct_samples'],\n",
    "        textposition='outside'\n",
    "    ))\n",
    "#     fig.for_each_xaxis(lambda axis: axis.title.update(font=dict(color = 'blue', size=8)))\n",
    "fig.update_traces(texttemplate='%{text:.2p}')\n",
    "fig.update_yaxes(title_text=\"Deletion\")\n",
    "fig.update_xaxes(title_text=\"Number of Sequences\")\n",
    "fig.update_layout(title=f\"[Undesignated]\", \n",
    "                  template='plotly_white', showlegend=False,\n",
    "                  margin={\"r\":0})\n",
    "fig.write_html('s14x_deletion_histogram.html')\n",
    "fig.show()"
   ]
  },
  {
   "cell_type": "code",
   "execution_count": 49,
   "id": "polish-mitchell",
   "metadata": {},
   "outputs": [
    {
     "data": {
      "text/html": [
       "<div>\n",
       "<style scoped>\n",
       "    .dataframe tbody tr th:only-of-type {\n",
       "        vertical-align: middle;\n",
       "    }\n",
       "\n",
       "    .dataframe tbody tr th {\n",
       "        vertical-align: top;\n",
       "    }\n",
       "\n",
       "    .dataframe thead th {\n",
       "        text-align: right;\n",
       "    }\n",
       "</style>\n",
       "<table border=\"1\" class=\"dataframe\">\n",
       "  <thead>\n",
       "    <tr style=\"text-align: right;\">\n",
       "      <th></th>\n",
       "      <th></th>\n",
       "      <th></th>\n",
       "      <th>num_samples</th>\n",
       "      <th>first_detected</th>\n",
       "      <th>last_detected</th>\n",
       "    </tr>\n",
       "    <tr>\n",
       "      <th>country</th>\n",
       "      <th>division</th>\n",
       "      <th>location</th>\n",
       "      <th></th>\n",
       "      <th></th>\n",
       "      <th></th>\n",
       "    </tr>\n",
       "  </thead>\n",
       "  <tbody>\n",
       "    <tr>\n",
       "      <th rowspan=\"4\" valign=\"top\">United States of America</th>\n",
       "      <th rowspan=\"4\" valign=\"top\">California</th>\n",
       "      <th>Los Angeles County</th>\n",
       "      <td>2</td>\n",
       "      <td>2020-11-02</td>\n",
       "      <td>2020-12-17</td>\n",
       "    </tr>\n",
       "    <tr>\n",
       "      <th>San Francisco County</th>\n",
       "      <td>2</td>\n",
       "      <td>2020-03-27</td>\n",
       "      <td>2020-04-28</td>\n",
       "    </tr>\n",
       "    <tr>\n",
       "      <th>San Diego</th>\n",
       "      <td>1</td>\n",
       "      <td>2020-08-18</td>\n",
       "      <td>2020-08-18</td>\n",
       "    </tr>\n",
       "    <tr>\n",
       "      <th>San Diego County</th>\n",
       "      <td>1</td>\n",
       "      <td>2020-03-25</td>\n",
       "      <td>2020-03-25</td>\n",
       "    </tr>\n",
       "  </tbody>\n",
       "</table>\n",
       "</div>"
      ],
      "text/plain": [
       "                                                          num_samples  \\\n",
       "country                  division   location                            \n",
       "United States of America California Los Angeles County              2   \n",
       "                                    San Francisco County            2   \n",
       "                                    San Diego                       1   \n",
       "                                    San Diego County                1   \n",
       "\n",
       "                                                         first_detected  \\\n",
       "country                  division   location                              \n",
       "United States of America California Los Angeles County       2020-11-02   \n",
       "                                    San Francisco County     2020-03-27   \n",
       "                                    San Diego                2020-08-18   \n",
       "                                    San Diego County         2020-03-25   \n",
       "\n",
       "                                                         last_detected  \n",
       "country                  division   location                            \n",
       "United States of America California Los Angeles County      2020-12-17  \n",
       "                                    San Francisco County    2020-04-28  \n",
       "                                    San Diego               2020-08-18  \n",
       "                                    San Diego County        2020-03-25  "
      ]
     },
     "execution_count": 49,
     "metadata": {},
     "output_type": "execute_result"
    }
   ],
   "source": [
    "(my_dels.loc[(my_dels['mutation']=='S:DEL141/144') \n",
    "             & (my_dels['country'].str.contains('America'))\n",
    "             & (my_dels['division']=='California')]\n",
    "        .groupby(['country', 'division', 'location'])\n",
    "        .agg(num_samples=('strain', 'nunique'),\n",
    "             first_detected=('date', 'min'),\n",
    "             last_detected=('date', 'max'))\n",
    "#         .reset_index()\n",
    "        .sort_values('num_samples', ascending=False))"
   ]
  },
  {
   "cell_type": "code",
   "execution_count": null,
   "id": "rapid-dispute",
   "metadata": {},
   "outputs": [],
   "source": []
  },
  {
   "cell_type": "code",
   "execution_count": null,
   "id": "scientific-symposium",
   "metadata": {},
   "outputs": [],
   "source": []
  },
  {
   "cell_type": "code",
   "execution_count": null,
   "id": "reduced-consumer",
   "metadata": {},
   "outputs": [],
   "source": []
  },
  {
   "cell_type": "code",
   "execution_count": null,
   "id": "forty-aside",
   "metadata": {},
   "outputs": [],
   "source": []
  },
  {
   "cell_type": "code",
   "execution_count": null,
   "id": "negative-funeral",
   "metadata": {},
   "outputs": [],
   "source": []
  },
  {
   "cell_type": "code",
   "execution_count": null,
   "id": "suspended-northwest",
   "metadata": {},
   "outputs": [],
   "source": []
  },
  {
   "cell_type": "code",
   "execution_count": null,
   "id": "offshore-reducing",
   "metadata": {},
   "outputs": [],
   "source": []
  },
  {
   "cell_type": "code",
   "execution_count": 31,
   "id": "interpreted-board",
   "metadata": {},
   "outputs": [
    {
     "data": {
      "text/plain": [
       "252571     NaN\n",
       "252572     NaN\n",
       "252573     NaN\n",
       "252574     NaN\n",
       "252575     NaN\n",
       "          ... \n",
       "5645297    NaN\n",
       "5645298    NaN\n",
       "5645299    NaN\n",
       "5645300    NaN\n",
       "5645301    NaN\n",
       "Name: absolute_coords, Length: 124, dtype: object"
      ]
     },
     "execution_count": 31,
     "metadata": {},
     "output_type": "execute_result"
    }
   ],
   "source": [
    "test['absolute_coords']"
   ]
  },
  {
   "cell_type": "code",
   "execution_count": 32,
   "id": "broadband-boards",
   "metadata": {},
   "outputs": [
    {
     "name": "stderr",
     "output_type": "stream",
     "text": [
      "/home/al/anaconda3/envs/bjorn/lib/python3.8/site-packages/pandas/core/indexing.py:1719: SettingWithCopyWarning: \n",
      "A value is trying to be set on a copy of a slice from a DataFrame.\n",
      "Try using .loc[row_indexer,col_indexer] = value instead\n",
      "\n",
      "See the caveats in the documentation: https://pandas.pydata.org/pandas-docs/stable/user_guide/indexing.html#returning-a-view-versus-a-copy\n",
      "  self._setitem_single_column(loc, value, pi)\n"
     ]
    },
    {
     "data": {
      "text/plain": [
       "252571     NaN\n",
       "252572     NaN\n",
       "252573     NaN\n",
       "252574     NaN\n",
       "252575     NaN\n",
       "          ... \n",
       "5645297    NaN\n",
       "5645298    NaN\n",
       "5645299    NaN\n",
       "5645300    NaN\n",
       "5645301    NaN\n",
       "Name: location, Length: 84, dtype: object"
      ]
     },
     "execution_count": 32,
     "metadata": {},
     "output_type": "execute_result"
    }
   ],
   "source": [
    "test.loc[test['location']=='NA', 'location'] = np.nan\n",
    "test.loc[test['location'].isna(), 'location']"
   ]
  },
  {
   "cell_type": "code",
   "execution_count": 27,
   "id": "electric-mobility",
   "metadata": {},
   "outputs": [
    {
     "data": {
      "text/html": [
       "<div>\n",
       "<style scoped>\n",
       "    .dataframe tbody tr th:only-of-type {\n",
       "        vertical-align: middle;\n",
       "    }\n",
       "\n",
       "    .dataframe tbody tr th {\n",
       "        vertical-align: top;\n",
       "    }\n",
       "\n",
       "    .dataframe thead th {\n",
       "        text-align: right;\n",
       "    }\n",
       "</style>\n",
       "<table border=\"1\" class=\"dataframe\">\n",
       "  <thead>\n",
       "    <tr style=\"text-align: right;\">\n",
       "      <th></th>\n",
       "      <th>strain</th>\n",
       "      <th>date_modified</th>\n",
       "      <th>date_collected</th>\n",
       "      <th>date_submitted</th>\n",
       "      <th>country</th>\n",
       "      <th>division</th>\n",
       "      <th>location</th>\n",
       "      <th>submitting_lab</th>\n",
       "      <th>originating_lab</th>\n",
       "      <th>authors</th>\n",
       "      <th>pangolin_lineage</th>\n",
       "      <th>gisaid_clade</th>\n",
       "      <th>nextstrain_clade</th>\n",
       "      <th>gisaid_epi_isl</th>\n",
       "      <th>genbank_accession</th>\n",
       "      <th>purpose_of_sequencing</th>\n",
       "    </tr>\n",
       "  </thead>\n",
       "  <tbody>\n",
       "    <tr>\n",
       "      <th>22187</th>\n",
       "      <td>USA/WA-UW129/2020</td>\n",
       "      <td>2021-01-22</td>\n",
       "      <td>2020-03-12</td>\n",
       "      <td>2020-03-23</td>\n",
       "      <td>United States of America</td>\n",
       "      <td>Washington</td>\n",
       "      <td>NaN</td>\n",
       "      <td>UW Virology Lab</td>\n",
       "      <td>UW Virology Lab</td>\n",
       "      <td>Pavitra Roychoudhury et al</td>\n",
       "      <td>A.1</td>\n",
       "      <td>S</td>\n",
       "      <td>19B</td>\n",
       "      <td>EPI_ISL_416667</td>\n",
       "      <td>?</td>\n",
       "      <td>NaN</td>\n",
       "    </tr>\n",
       "    <tr>\n",
       "      <th>22188</th>\n",
       "      <td>USA/WA-UW129/2020</td>\n",
       "      <td>2021-01-22</td>\n",
       "      <td>2020-03-12</td>\n",
       "      <td>2020-03-23</td>\n",
       "      <td>United States of America</td>\n",
       "      <td>Washington</td>\n",
       "      <td>NaN</td>\n",
       "      <td>UW Virology Lab</td>\n",
       "      <td>UW Virology Lab</td>\n",
       "      <td>Pavitra Roychoudhury et al</td>\n",
       "      <td>A.1</td>\n",
       "      <td>S</td>\n",
       "      <td>19B</td>\n",
       "      <td>EPI_ISL_416667</td>\n",
       "      <td>?</td>\n",
       "      <td>NaN</td>\n",
       "    </tr>\n",
       "    <tr>\n",
       "      <th>22189</th>\n",
       "      <td>USA/WA-UW129/2020</td>\n",
       "      <td>2021-01-22</td>\n",
       "      <td>2020-03-12</td>\n",
       "      <td>2020-03-23</td>\n",
       "      <td>United States of America</td>\n",
       "      <td>Washington</td>\n",
       "      <td>NaN</td>\n",
       "      <td>UW Virology Lab</td>\n",
       "      <td>UW Virology Lab</td>\n",
       "      <td>Pavitra Roychoudhury et al</td>\n",
       "      <td>A.1</td>\n",
       "      <td>S</td>\n",
       "      <td>19B</td>\n",
       "      <td>EPI_ISL_416667</td>\n",
       "      <td>?</td>\n",
       "      <td>NaN</td>\n",
       "    </tr>\n",
       "    <tr>\n",
       "      <th>22190</th>\n",
       "      <td>USA/WA-UW129/2020</td>\n",
       "      <td>2021-01-22</td>\n",
       "      <td>2020-03-12</td>\n",
       "      <td>2020-03-23</td>\n",
       "      <td>United States of America</td>\n",
       "      <td>Washington</td>\n",
       "      <td>NaN</td>\n",
       "      <td>UW Virology Lab</td>\n",
       "      <td>UW Virology Lab</td>\n",
       "      <td>Pavitra Roychoudhury et al</td>\n",
       "      <td>A.1</td>\n",
       "      <td>S</td>\n",
       "      <td>19B</td>\n",
       "      <td>EPI_ISL_416667</td>\n",
       "      <td>?</td>\n",
       "      <td>NaN</td>\n",
       "    </tr>\n",
       "    <tr>\n",
       "      <th>22191</th>\n",
       "      <td>USA/WA-UW129/2020</td>\n",
       "      <td>2021-01-22</td>\n",
       "      <td>2020-03-12</td>\n",
       "      <td>2020-03-23</td>\n",
       "      <td>United States of America</td>\n",
       "      <td>Washington</td>\n",
       "      <td>NaN</td>\n",
       "      <td>UW Virology Lab</td>\n",
       "      <td>UW Virology Lab</td>\n",
       "      <td>Pavitra Roychoudhury et al</td>\n",
       "      <td>A.1</td>\n",
       "      <td>S</td>\n",
       "      <td>19B</td>\n",
       "      <td>EPI_ISL_416667</td>\n",
       "      <td>?</td>\n",
       "      <td>NaN</td>\n",
       "    </tr>\n",
       "    <tr>\n",
       "      <th>...</th>\n",
       "      <td>...</td>\n",
       "      <td>...</td>\n",
       "      <td>...</td>\n",
       "      <td>...</td>\n",
       "      <td>...</td>\n",
       "      <td>...</td>\n",
       "      <td>...</td>\n",
       "      <td>...</td>\n",
       "      <td>...</td>\n",
       "      <td>...</td>\n",
       "      <td>...</td>\n",
       "      <td>...</td>\n",
       "      <td>...</td>\n",
       "      <td>...</td>\n",
       "      <td>...</td>\n",
       "      <td>...</td>\n",
       "    </tr>\n",
       "    <tr>\n",
       "      <th>4619022</th>\n",
       "      <td>Luxembourg/LNS9352817/2020</td>\n",
       "      <td>2021-01-22</td>\n",
       "      <td>2020-11-29</td>\n",
       "      <td>2021-01-06</td>\n",
       "      <td>Luxembourg</td>\n",
       "      <td>Luxembourg</td>\n",
       "      <td>NaN</td>\n",
       "      <td>Laboratoire national de santé, Microbiology, M...</td>\n",
       "      <td>Laboratoire national de santé, Microbiology, V...</td>\n",
       "      <td>Anke Wienecke-Baldacchino et al</td>\n",
       "      <td>B.1.160</td>\n",
       "      <td>GH</td>\n",
       "      <td>20A.EU2</td>\n",
       "      <td>EPI_ISL_770918</td>\n",
       "      <td>?</td>\n",
       "      <td>NaN</td>\n",
       "    </tr>\n",
       "    <tr>\n",
       "      <th>4619023</th>\n",
       "      <td>Luxembourg/LNS9352817/2020</td>\n",
       "      <td>2021-01-22</td>\n",
       "      <td>2020-11-29</td>\n",
       "      <td>2021-01-06</td>\n",
       "      <td>Luxembourg</td>\n",
       "      <td>Luxembourg</td>\n",
       "      <td>NaN</td>\n",
       "      <td>Laboratoire national de santé, Microbiology, M...</td>\n",
       "      <td>Laboratoire national de santé, Microbiology, V...</td>\n",
       "      <td>Anke Wienecke-Baldacchino et al</td>\n",
       "      <td>B.1.160</td>\n",
       "      <td>GH</td>\n",
       "      <td>20A.EU2</td>\n",
       "      <td>EPI_ISL_770918</td>\n",
       "      <td>?</td>\n",
       "      <td>NaN</td>\n",
       "    </tr>\n",
       "    <tr>\n",
       "      <th>4619024</th>\n",
       "      <td>Luxembourg/LNS9352817/2020</td>\n",
       "      <td>2021-01-22</td>\n",
       "      <td>2020-11-29</td>\n",
       "      <td>2021-01-06</td>\n",
       "      <td>Luxembourg</td>\n",
       "      <td>Luxembourg</td>\n",
       "      <td>NaN</td>\n",
       "      <td>Laboratoire national de santé, Microbiology, M...</td>\n",
       "      <td>Laboratoire national de santé, Microbiology, V...</td>\n",
       "      <td>Anke Wienecke-Baldacchino et al</td>\n",
       "      <td>B.1.160</td>\n",
       "      <td>GH</td>\n",
       "      <td>20A.EU2</td>\n",
       "      <td>EPI_ISL_770918</td>\n",
       "      <td>?</td>\n",
       "      <td>NaN</td>\n",
       "    </tr>\n",
       "    <tr>\n",
       "      <th>6710</th>\n",
       "      <td>SouthAfrica/R12686-20/2020</td>\n",
       "      <td>2021-01-22</td>\n",
       "      <td>2020-06-16</td>\n",
       "      <td>2020-08-01</td>\n",
       "      <td>South Africa</td>\n",
       "      <td>North-West</td>\n",
       "      <td>NaN</td>\n",
       "      <td>National Institute for Communicable Diseases o...</td>\n",
       "      <td>National Institute for Communicable Diseases o...</td>\n",
       "      <td>Allam M et al</td>\n",
       "      <td>C.1</td>\n",
       "      <td>GR</td>\n",
       "      <td>20D</td>\n",
       "      <td>EPI_ISL_504227</td>\n",
       "      <td>?</td>\n",
       "      <td>NaN</td>\n",
       "    </tr>\n",
       "    <tr>\n",
       "      <th>41802</th>\n",
       "      <td>Luxembourg/LNS6880781/2020</td>\n",
       "      <td>2021-01-22</td>\n",
       "      <td>2020-11-25</td>\n",
       "      <td>2020-12-29</td>\n",
       "      <td>Luxembourg</td>\n",
       "      <td>Luxembourg</td>\n",
       "      <td>NaN</td>\n",
       "      <td>Laboratoire national de santé, Microbiology, M...</td>\n",
       "      <td>Laboratoire national de santé, Microbiology, V...</td>\n",
       "      <td>Anke Wienecke-Baldacchino et al</td>\n",
       "      <td>B.1.160</td>\n",
       "      <td>GH</td>\n",
       "      <td>20A.EU2</td>\n",
       "      <td>EPI_ISL_744477</td>\n",
       "      <td>?</td>\n",
       "      <td>NaN</td>\n",
       "    </tr>\n",
       "  </tbody>\n",
       "</table>\n",
       "<p>126 rows × 16 columns</p>\n",
       "</div>"
      ],
      "text/plain": [
       "                             strain date_modified date_collected  \\\n",
       "22187             USA/WA-UW129/2020    2021-01-22     2020-03-12   \n",
       "22188             USA/WA-UW129/2020    2021-01-22     2020-03-12   \n",
       "22189             USA/WA-UW129/2020    2021-01-22     2020-03-12   \n",
       "22190             USA/WA-UW129/2020    2021-01-22     2020-03-12   \n",
       "22191             USA/WA-UW129/2020    2021-01-22     2020-03-12   \n",
       "...                             ...           ...            ...   \n",
       "4619022  Luxembourg/LNS9352817/2020    2021-01-22     2020-11-29   \n",
       "4619023  Luxembourg/LNS9352817/2020    2021-01-22     2020-11-29   \n",
       "4619024  Luxembourg/LNS9352817/2020    2021-01-22     2020-11-29   \n",
       "6710     SouthAfrica/R12686-20/2020    2021-01-22     2020-06-16   \n",
       "41802    Luxembourg/LNS6880781/2020    2021-01-22     2020-11-25   \n",
       "\n",
       "        date_submitted                   country    division location  \\\n",
       "22187       2020-03-23  United States of America  Washington      NaN   \n",
       "22188       2020-03-23  United States of America  Washington      NaN   \n",
       "22189       2020-03-23  United States of America  Washington      NaN   \n",
       "22190       2020-03-23  United States of America  Washington      NaN   \n",
       "22191       2020-03-23  United States of America  Washington      NaN   \n",
       "...                ...                       ...         ...      ...   \n",
       "4619022     2021-01-06                Luxembourg  Luxembourg      NaN   \n",
       "4619023     2021-01-06                Luxembourg  Luxembourg      NaN   \n",
       "4619024     2021-01-06                Luxembourg  Luxembourg      NaN   \n",
       "6710        2020-08-01              South Africa  North-West      NaN   \n",
       "41802       2020-12-29                Luxembourg  Luxembourg      NaN   \n",
       "\n",
       "                                            submitting_lab  \\\n",
       "22187                                      UW Virology Lab   \n",
       "22188                                      UW Virology Lab   \n",
       "22189                                      UW Virology Lab   \n",
       "22190                                      UW Virology Lab   \n",
       "22191                                      UW Virology Lab   \n",
       "...                                                    ...   \n",
       "4619022  Laboratoire national de santé, Microbiology, M...   \n",
       "4619023  Laboratoire national de santé, Microbiology, M...   \n",
       "4619024  Laboratoire national de santé, Microbiology, M...   \n",
       "6710     National Institute for Communicable Diseases o...   \n",
       "41802    Laboratoire national de santé, Microbiology, M...   \n",
       "\n",
       "                                           originating_lab  \\\n",
       "22187                                      UW Virology Lab   \n",
       "22188                                      UW Virology Lab   \n",
       "22189                                      UW Virology Lab   \n",
       "22190                                      UW Virology Lab   \n",
       "22191                                      UW Virology Lab   \n",
       "...                                                    ...   \n",
       "4619022  Laboratoire national de santé, Microbiology, V...   \n",
       "4619023  Laboratoire national de santé, Microbiology, V...   \n",
       "4619024  Laboratoire national de santé, Microbiology, V...   \n",
       "6710     National Institute for Communicable Diseases o...   \n",
       "41802    Laboratoire national de santé, Microbiology, V...   \n",
       "\n",
       "                                 authors pangolin_lineage gisaid_clade  \\\n",
       "22187         Pavitra Roychoudhury et al              A.1            S   \n",
       "22188         Pavitra Roychoudhury et al              A.1            S   \n",
       "22189         Pavitra Roychoudhury et al              A.1            S   \n",
       "22190         Pavitra Roychoudhury et al              A.1            S   \n",
       "22191         Pavitra Roychoudhury et al              A.1            S   \n",
       "...                                  ...              ...          ...   \n",
       "4619022  Anke Wienecke-Baldacchino et al          B.1.160           GH   \n",
       "4619023  Anke Wienecke-Baldacchino et al          B.1.160           GH   \n",
       "4619024  Anke Wienecke-Baldacchino et al          B.1.160           GH   \n",
       "6710                       Allam M et al              C.1           GR   \n",
       "41802    Anke Wienecke-Baldacchino et al          B.1.160           GH   \n",
       "\n",
       "        nextstrain_clade  gisaid_epi_isl genbank_accession  \\\n",
       "22187                19B  EPI_ISL_416667                 ?   \n",
       "22188                19B  EPI_ISL_416667                 ?   \n",
       "22189                19B  EPI_ISL_416667                 ?   \n",
       "22190                19B  EPI_ISL_416667                 ?   \n",
       "22191                19B  EPI_ISL_416667                 ?   \n",
       "...                  ...             ...               ...   \n",
       "4619022          20A.EU2  EPI_ISL_770918                 ?   \n",
       "4619023          20A.EU2  EPI_ISL_770918                 ?   \n",
       "4619024          20A.EU2  EPI_ISL_770918                 ?   \n",
       "6710                 20D  EPI_ISL_504227                 ?   \n",
       "41802            20A.EU2  EPI_ISL_744477                 ?   \n",
       "\n",
       "        purpose_of_sequencing  \n",
       "22187                     NaN  \n",
       "22188                     NaN  \n",
       "22189                     NaN  \n",
       "22190                     NaN  \n",
       "22191                     NaN  \n",
       "...                       ...  \n",
       "4619022                   NaN  \n",
       "4619023                   NaN  \n",
       "4619024                   NaN  \n",
       "6710                      NaN  \n",
       "41802                     NaN  \n",
       "\n",
       "[126 rows x 16 columns]"
      ]
     },
     "execution_count": 27,
     "metadata": {},
     "output_type": "execute_result"
    }
   ],
   "source": [
    "test[meta_info]"
   ]
  },
  {
   "cell_type": "code",
   "execution_count": null,
   "id": "exclusive-comfort",
   "metadata": {},
   "outputs": [],
   "source": []
  }
 ],
 "metadata": {
  "kernelspec": {
   "display_name": "Python 3",
   "language": "python",
   "name": "python3"
  },
  "language_info": {
   "codemirror_mode": {
    "name": "ipython",
    "version": 3
   },
   "file_extension": ".py",
   "mimetype": "text/x-python",
   "name": "python",
   "nbconvert_exporter": "python",
   "pygments_lexer": "ipython3",
   "version": "3.8.5"
  }
 },
 "nbformat": 4,
 "nbformat_minor": 5
}
