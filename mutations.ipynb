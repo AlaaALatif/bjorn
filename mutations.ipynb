{
 "cells": [
  {
   "cell_type": "markdown",
   "metadata": {},
   "source": [
    "## TODO\n",
    "* `gb_accession` and `gisaid_accession` are not found for new sequences, how do we concat to `metadata.csv` without them?\n",
    "* metadata format for NCBI\n",
    "* support tools for manual sanity checks"
   ]
  },
  {
   "cell_type": "code",
   "execution_count": 2,
   "metadata": {},
   "outputs": [],
   "source": [
    "from bjorn import *\n",
    "from bjorn_support import *\n",
    "from onion_trees import *\n",
    "import gffutils\n",
    "import math\n",
    "from mutations import *"
   ]
  },
  {
   "cell_type": "code",
   "execution_count": 9,
   "metadata": {},
   "outputs": [],
   "source": [
    "\n",
    "meta_fp = \"/home/al/analysis/mutations/S501Y/metadata_2020-12-20_12-24.tsv\"\n",
    "out_dir = \"/home/al/analysis/mutations/S501Y/\"\n",
    "ref_fp = \"/home/al/data/test_inputs/NC045512.fasta\"\n",
    "patient_zero = 'NC_045512.2'"
   ]
  },
  {
   "cell_type": "code",
   "execution_count": 4,
   "metadata": {},
   "outputs": [
    {
     "name": "stderr",
     "output_type": "stream",
     "text": [
      "/home/al/anaconda3/lib/python3.8/site-packages/IPython/core/interactiveshell.py:3145: DtypeWarning: Columns (8) have mixed types.Specify dtype option on import or set low_memory=False.\n",
      "  has_raised = await self.run_ast_nodes(code_ast.body, cell_name,\n"
     ]
    },
    {
     "data": {
      "text/plain": [
       "Index(['strain', 'virus', 'gisaid_epi_isl', 'genbank_accession', 'date',\n",
       "       'region', 'country', 'division', 'location', 'region_exposure',\n",
       "       'country_exposure', 'division_exposure', 'segment', 'length', 'host',\n",
       "       'age', 'sex', 'Nextstrain_clade', 'pangolin_lineage', 'GISAID_clade',\n",
       "       'originating_lab', 'submitting_lab', 'authors', 'url', 'title',\n",
       "       'paper_url', 'date_submitted'],\n",
       "      dtype='object')"
      ]
     },
     "execution_count": 4,
     "metadata": {},
     "output_type": "execute_result"
    }
   ],
   "source": [
    "input_fasta = \"/home/al/analysis/mutations/S501Y/msa_reference.fa\"\n",
    "## keep only seqs contained in meta_file and save to fasta file\n",
    "## concat with internal SD file\n",
    "## generate MSA\n",
    "meta = pd.read_csv(meta_fp, sep='\\t')\n",
    "meta.columns"
   ]
  },
  {
   "cell_type": "code",
   "execution_count": 5,
   "metadata": {},
   "outputs": [],
   "source": [
    "# consensus_data = SeqIO.to_dict(SeqIO.parse(seqs_fp, \"fasta\"))"
   ]
  },
  {
   "cell_type": "code",
   "execution_count": 6,
   "metadata": {},
   "outputs": [
    {
     "data": {
      "text/plain": [
       "273267"
      ]
     },
     "execution_count": 6,
     "metadata": {},
     "output_type": "execute_result"
    }
   ],
   "source": [
    "strains = meta['strain'].unique().tolist()\n",
    "len(strains)"
   ]
  },
  {
   "cell_type": "code",
   "execution_count": 7,
   "metadata": {},
   "outputs": [
    {
     "name": "stdout",
     "output_type": "stream",
     "text": [
      "Loading Alignment file at: /home/al/analysis/mutations/S501Y/msa_reference.fa\n"
     ]
    }
   ],
   "source": [
    "print(f\"Loading Alignment file at: {input_fasta}\")\n",
    "cns = AlignIO.read(input_fasta, 'fasta')"
   ]
  },
  {
   "cell_type": "code",
   "execution_count": 10,
   "metadata": {},
   "outputs": [
    {
     "name": "stdout",
     "output_type": "stream",
     "text": [
      "Initial cleaning...\n"
     ]
    }
   ],
   "source": [
    "print(f\"Initial cleaning...\")\n",
    "seqs, ref_seq = process_cns_seqs(cns, patient_zero,\n",
    "                                 start_pos=0, end_pos=30000)"
   ]
  },
  {
   "cell_type": "code",
   "execution_count": 11,
   "metadata": {},
   "outputs": [
    {
     "name": "stdout",
     "output_type": "stream",
     "text": [
      "Creating a dataframe...\n"
     ]
    }
   ],
   "source": [
    "print(f\"Creating a dataframe...\")\n",
    "seqsdf = (pd.DataFrame(index=seqs.keys(), \n",
    "                       data=seqs.values(), \n",
    "                       columns=['sequence'])\n",
    "            .reset_index()\n",
    "            .rename(columns={'index': 'idx'}))"
   ]
  },
  {
   "cell_type": "code",
   "execution_count": null,
   "metadata": {},
   "outputs": [],
   "source": [
    "def find_replacements(x, ref):\n",
    "    return [f'{i}:{n}' for i, n in enumerate(x)\n",
    "            if n!=ref[i] and n!='-' and n!='n']"
   ]
  },
  {
   "cell_type": "code",
   "execution_count": 13,
   "metadata": {},
   "outputs": [
    {
     "name": "stdout",
     "output_type": "stream",
     "text": [
      "Identifying mutations...\n"
     ]
    }
   ],
   "source": [
    "print(f\"Identifying mutations...\")\n",
    "# for each sample, identify list of substitutions (position:alt)\n",
    "seqsdf['replacements'] = seqsdf['sequence'].apply(find_replacements, args=(ref_seq,))"
   ]
  },
  {
   "cell_type": "code",
   "execution_count": 14,
   "metadata": {},
   "outputs": [],
   "source": [
    "# wide-to-long data manipulation\n",
    "seqsdf = seqsdf.explode('replacements')"
   ]
  },
  {
   "cell_type": "code",
   "execution_count": 15,
   "metadata": {},
   "outputs": [
    {
     "data": {
      "text/html": [
       "<div>\n",
       "<style scoped>\n",
       "    .dataframe tbody tr th:only-of-type {\n",
       "        vertical-align: middle;\n",
       "    }\n",
       "\n",
       "    .dataframe tbody tr th {\n",
       "        vertical-align: top;\n",
       "    }\n",
       "\n",
       "    .dataframe thead th {\n",
       "        text-align: right;\n",
       "    }\n",
       "</style>\n",
       "<table border=\"1\" class=\"dataframe\">\n",
       "  <thead>\n",
       "    <tr style=\"text-align: right;\">\n",
       "      <th></th>\n",
       "      <th>idx</th>\n",
       "      <th>sequence</th>\n",
       "      <th>replacements</th>\n",
       "    </tr>\n",
       "  </thead>\n",
       "  <tbody>\n",
       "    <tr>\n",
       "      <th>0</th>\n",
       "      <td>NC_045512.2</td>\n",
       "      <td>attaaaggtttataccttcccaggtaacaaaccaaccaactttcga...</td>\n",
       "      <td>NaN</td>\n",
       "    </tr>\n",
       "    <tr>\n",
       "      <th>1</th>\n",
       "      <td>Wuhan/IVDC-HB-01/2019</td>\n",
       "      <td>attaaaggtttataccttcccaggtaacaaaccaaccaactttcga...</td>\n",
       "      <td>NaN</td>\n",
       "    </tr>\n",
       "    <tr>\n",
       "      <th>2</th>\n",
       "      <td>Wuhan/IVDC-HB-04/2020</td>\n",
       "      <td>attaaaggtttataccttcccaggtaacaaaccaaccaactttcga...</td>\n",
       "      <td>27492:t</td>\n",
       "    </tr>\n",
       "    <tr>\n",
       "      <th>2</th>\n",
       "      <td>Wuhan/IVDC-HB-04/2020</td>\n",
       "      <td>attaaaggtttataccttcccaggtaacaaaccaaccaactttcga...</td>\n",
       "      <td>28252:t</td>\n",
       "    </tr>\n",
       "    <tr>\n",
       "      <th>3</th>\n",
       "      <td>Wuhan/IVDC-HB-05/2019</td>\n",
       "      <td>attaaaggtttataccttcccaggtaacaaaccaaccaactttcga...</td>\n",
       "      <td>20669:a</td>\n",
       "    </tr>\n",
       "    <tr>\n",
       "      <th>...</th>\n",
       "      <td>...</td>\n",
       "      <td>...</td>\n",
       "      <td>...</td>\n",
       "    </tr>\n",
       "    <tr>\n",
       "      <th>273267</th>\n",
       "      <td>Canada/ON-SLB3080/2020</td>\n",
       "      <td>----------------------------------------------...</td>\n",
       "      <td>18376:t</td>\n",
       "    </tr>\n",
       "    <tr>\n",
       "      <th>273267</th>\n",
       "      <td>Canada/ON-SLB3080/2020</td>\n",
       "      <td>----------------------------------------------...</td>\n",
       "      <td>23402:g</td>\n",
       "    </tr>\n",
       "    <tr>\n",
       "      <th>273267</th>\n",
       "      <td>Canada/ON-SLB3080/2020</td>\n",
       "      <td>----------------------------------------------...</td>\n",
       "      <td>23592:t</td>\n",
       "    </tr>\n",
       "    <tr>\n",
       "      <th>273267</th>\n",
       "      <td>Canada/ON-SLB3080/2020</td>\n",
       "      <td>----------------------------------------------...</td>\n",
       "      <td>25562:t</td>\n",
       "    </tr>\n",
       "    <tr>\n",
       "      <th>273267</th>\n",
       "      <td>Canada/ON-SLB3080/2020</td>\n",
       "      <td>----------------------------------------------...</td>\n",
       "      <td>28840:g</td>\n",
       "    </tr>\n",
       "  </tbody>\n",
       "</table>\n",
       "<p>3835808 rows × 3 columns</p>\n",
       "</div>"
      ],
      "text/plain": [
       "                           idx  \\\n",
       "0                  NC_045512.2   \n",
       "1        Wuhan/IVDC-HB-01/2019   \n",
       "2        Wuhan/IVDC-HB-04/2020   \n",
       "2        Wuhan/IVDC-HB-04/2020   \n",
       "3        Wuhan/IVDC-HB-05/2019   \n",
       "...                        ...   \n",
       "273267  Canada/ON-SLB3080/2020   \n",
       "273267  Canada/ON-SLB3080/2020   \n",
       "273267  Canada/ON-SLB3080/2020   \n",
       "273267  Canada/ON-SLB3080/2020   \n",
       "273267  Canada/ON-SLB3080/2020   \n",
       "\n",
       "                                                 sequence replacements  \n",
       "0       attaaaggtttataccttcccaggtaacaaaccaaccaactttcga...          NaN  \n",
       "1       attaaaggtttataccttcccaggtaacaaaccaaccaactttcga...          NaN  \n",
       "2       attaaaggtttataccttcccaggtaacaaaccaaccaactttcga...      27492:t  \n",
       "2       attaaaggtttataccttcccaggtaacaaaccaaccaactttcga...      28252:t  \n",
       "3       attaaaggtttataccttcccaggtaacaaaccaaccaactttcga...      20669:a  \n",
       "...                                                   ...          ...  \n",
       "273267  ----------------------------------------------...      18376:t  \n",
       "273267  ----------------------------------------------...      23402:g  \n",
       "273267  ----------------------------------------------...      23592:t  \n",
       "273267  ----------------------------------------------...      25562:t  \n",
       "273267  ----------------------------------------------...      28840:g  \n",
       "\n",
       "[3835808 rows x 3 columns]"
      ]
     },
     "execution_count": 15,
     "metadata": {},
     "output_type": "execute_result"
    }
   ],
   "source": [
    "seqsdf"
   ]
  },
  {
   "cell_type": "code",
   "execution_count": 16,
   "metadata": {},
   "outputs": [],
   "source": [
    "seqsdf['pos'] = -1\n",
    "# populate position column\n",
    "seqsdf.loc[~seqsdf['replacements'].isna(), 'pos'] = (seqsdf.loc[~seqsdf['replacements'].isna(), 'replacements']\n",
    "   .apply(lambda x: int(x.split(':')[0])))"
   ]
  },
  {
   "cell_type": "code",
   "execution_count": 17,
   "metadata": {},
   "outputs": [
    {
     "name": "stdout",
     "output_type": "stream",
     "text": [
      "Mapping Genes to mutations...\n"
     ]
    },
    {
     "name": "stderr",
     "output_type": "stream",
     "text": [
      "<ipython-input-17-c4eb67506533>:5: SettingWithCopyWarning: \n",
      "A value is trying to be set on a copy of a slice from a DataFrame.\n",
      "Try using .loc[row_indexer,col_indexer] = value instead\n",
      "\n",
      "See the caveats in the documentation: https://pandas.pydata.org/pandas-docs/stable/user_guide/indexing.html#returning-a-view-versus-a-copy\n",
      "  seqsdf['gene'] = seqsdf['pos'].apply(map_gene_to_pos)\n"
     ]
    }
   ],
   "source": [
    "\n",
    "# filter out non-substitutions\n",
    "seqsdf = seqsdf.loc[seqsdf['pos']!=-1]\n",
    "print(f\"Mapping Genes to mutations...\")\n",
    "# identify gene of each substitution\n",
    "seqsdf['gene'] = seqsdf['pos'].apply(map_gene_to_pos)\n",
    "seqsdf = seqsdf.loc[~seqsdf['gene'].isna()]"
   ]
  },
  {
   "cell_type": "code",
   "execution_count": 18,
   "metadata": {},
   "outputs": [
    {
     "data": {
      "text/html": [
       "<div>\n",
       "<style scoped>\n",
       "    .dataframe tbody tr th:only-of-type {\n",
       "        vertical-align: middle;\n",
       "    }\n",
       "\n",
       "    .dataframe tbody tr th {\n",
       "        vertical-align: top;\n",
       "    }\n",
       "\n",
       "    .dataframe thead th {\n",
       "        text-align: right;\n",
       "    }\n",
       "</style>\n",
       "<table border=\"1\" class=\"dataframe\">\n",
       "  <thead>\n",
       "    <tr style=\"text-align: right;\">\n",
       "      <th></th>\n",
       "      <th>idx</th>\n",
       "      <th>sequence</th>\n",
       "      <th>replacements</th>\n",
       "      <th>pos</th>\n",
       "      <th>gene</th>\n",
       "    </tr>\n",
       "  </thead>\n",
       "  <tbody>\n",
       "    <tr>\n",
       "      <th>2</th>\n",
       "      <td>Wuhan/IVDC-HB-04/2020</td>\n",
       "      <td>attaaaggtttataccttcccaggtaacaaaccaaccaactttcga...</td>\n",
       "      <td>27492:t</td>\n",
       "      <td>27492</td>\n",
       "      <td>ORF7a</td>\n",
       "    </tr>\n",
       "    <tr>\n",
       "      <th>2</th>\n",
       "      <td>Wuhan/IVDC-HB-04/2020</td>\n",
       "      <td>attaaaggtttataccttcccaggtaacaaaccaaccaactttcga...</td>\n",
       "      <td>28252:t</td>\n",
       "      <td>28252</td>\n",
       "      <td>ORF8</td>\n",
       "    </tr>\n",
       "    <tr>\n",
       "      <th>3</th>\n",
       "      <td>Wuhan/IVDC-HB-05/2019</td>\n",
       "      <td>attaaaggtttataccttcccaggtaacaaaccaaccaactttcga...</td>\n",
       "      <td>20669:a</td>\n",
       "      <td>20669</td>\n",
       "      <td>ORF1ab</td>\n",
       "    </tr>\n",
       "    <tr>\n",
       "      <th>3</th>\n",
       "      <td>Wuhan/IVDC-HB-05/2019</td>\n",
       "      <td>attaaaggtttataccttcccaggtaacaaaccaaccaactttcga...</td>\n",
       "      <td>20678:a</td>\n",
       "      <td>20678</td>\n",
       "      <td>ORF1ab</td>\n",
       "    </tr>\n",
       "    <tr>\n",
       "      <th>4</th>\n",
       "      <td>Wuhan/IPBCAMS-WH-01/2019</td>\n",
       "      <td>attaaaggtttataccttcccaggtaacaaaccaaccaactttcga...</td>\n",
       "      <td>3777:g</td>\n",
       "      <td>3777</td>\n",
       "      <td>ORF1ab</td>\n",
       "    </tr>\n",
       "    <tr>\n",
       "      <th>...</th>\n",
       "      <td>...</td>\n",
       "      <td>...</td>\n",
       "      <td>...</td>\n",
       "      <td>...</td>\n",
       "      <td>...</td>\n",
       "    </tr>\n",
       "    <tr>\n",
       "      <th>273267</th>\n",
       "      <td>Canada/ON-SLB3080/2020</td>\n",
       "      <td>----------------------------------------------...</td>\n",
       "      <td>18376:t</td>\n",
       "      <td>18376</td>\n",
       "      <td>ORF1ab</td>\n",
       "    </tr>\n",
       "    <tr>\n",
       "      <th>273267</th>\n",
       "      <td>Canada/ON-SLB3080/2020</td>\n",
       "      <td>----------------------------------------------...</td>\n",
       "      <td>23402:g</td>\n",
       "      <td>23402</td>\n",
       "      <td>S</td>\n",
       "    </tr>\n",
       "    <tr>\n",
       "      <th>273267</th>\n",
       "      <td>Canada/ON-SLB3080/2020</td>\n",
       "      <td>----------------------------------------------...</td>\n",
       "      <td>23592:t</td>\n",
       "      <td>23592</td>\n",
       "      <td>S</td>\n",
       "    </tr>\n",
       "    <tr>\n",
       "      <th>273267</th>\n",
       "      <td>Canada/ON-SLB3080/2020</td>\n",
       "      <td>----------------------------------------------...</td>\n",
       "      <td>25562:t</td>\n",
       "      <td>25562</td>\n",
       "      <td>ORF3a</td>\n",
       "    </tr>\n",
       "    <tr>\n",
       "      <th>273267</th>\n",
       "      <td>Canada/ON-SLB3080/2020</td>\n",
       "      <td>----------------------------------------------...</td>\n",
       "      <td>28840:g</td>\n",
       "      <td>28840</td>\n",
       "      <td>N</td>\n",
       "    </tr>\n",
       "  </tbody>\n",
       "</table>\n",
       "<p>3835457 rows × 5 columns</p>\n",
       "</div>"
      ],
      "text/plain": [
       "                             idx  \\\n",
       "2          Wuhan/IVDC-HB-04/2020   \n",
       "2          Wuhan/IVDC-HB-04/2020   \n",
       "3          Wuhan/IVDC-HB-05/2019   \n",
       "3          Wuhan/IVDC-HB-05/2019   \n",
       "4       Wuhan/IPBCAMS-WH-01/2019   \n",
       "...                          ...   \n",
       "273267    Canada/ON-SLB3080/2020   \n",
       "273267    Canada/ON-SLB3080/2020   \n",
       "273267    Canada/ON-SLB3080/2020   \n",
       "273267    Canada/ON-SLB3080/2020   \n",
       "273267    Canada/ON-SLB3080/2020   \n",
       "\n",
       "                                                 sequence replacements    pos  \\\n",
       "2       attaaaggtttataccttcccaggtaacaaaccaaccaactttcga...      27492:t  27492   \n",
       "2       attaaaggtttataccttcccaggtaacaaaccaaccaactttcga...      28252:t  28252   \n",
       "3       attaaaggtttataccttcccaggtaacaaaccaaccaactttcga...      20669:a  20669   \n",
       "3       attaaaggtttataccttcccaggtaacaaaccaaccaactttcga...      20678:a  20678   \n",
       "4       attaaaggtttataccttcccaggtaacaaaccaaccaactttcga...       3777:g   3777   \n",
       "...                                                   ...          ...    ...   \n",
       "273267  ----------------------------------------------...      18376:t  18376   \n",
       "273267  ----------------------------------------------...      23402:g  23402   \n",
       "273267  ----------------------------------------------...      23592:t  23592   \n",
       "273267  ----------------------------------------------...      25562:t  25562   \n",
       "273267  ----------------------------------------------...      28840:g  28840   \n",
       "\n",
       "          gene  \n",
       "2        ORF7a  \n",
       "2         ORF8  \n",
       "3       ORF1ab  \n",
       "3       ORF1ab  \n",
       "4       ORF1ab  \n",
       "...        ...  \n",
       "273267  ORF1ab  \n",
       "273267       S  \n",
       "273267       S  \n",
       "273267   ORF3a  \n",
       "273267       N  \n",
       "\n",
       "[3835457 rows x 5 columns]"
      ]
     },
     "execution_count": 18,
     "metadata": {},
     "output_type": "execute_result"
    }
   ],
   "source": [
    "seqsdf"
   ]
  },
  {
   "cell_type": "code",
   "execution_count": 22,
   "metadata": {},
   "outputs": [
    {
     "name": "stdout",
     "output_type": "stream",
     "text": [
      "Compute codon numbers...\n"
     ]
    }
   ],
   "source": [
    "# filter our substitutions in non-gene positions\n",
    "seqsdf = seqsdf.loc[seqsdf['gene']!='nan']\n",
    "print(f\"Compute codon numbers...\")\n",
    "\n",
    "# compute codon number of each substitution\n",
    "seqsdf['codon_num'] = seqsdf.apply(compute_codon_num, args=(GENE2POS,), axis=1)\n"
   ]
  },
  {
   "cell_type": "code",
   "execution_count": 23,
   "metadata": {},
   "outputs": [
    {
     "name": "stdout",
     "output_type": "stream",
     "text": [
      "Fetch reference codon...\n"
     ]
    }
   ],
   "source": [
    "\n",
    "print(f\"Fetch reference codon...\")\n",
    "# fetch the reference codon for each substitution\n",
    "seqsdf['ref_codon'] = seqsdf.apply(get_ref_codon, args=(ref_seq, GENE2POS), axis=1)"
   ]
  },
  {
   "cell_type": "code",
   "execution_count": 24,
   "metadata": {},
   "outputs": [
    {
     "name": "stdout",
     "output_type": "stream",
     "text": [
      "Fetch alternative codon...\n"
     ]
    }
   ],
   "source": [
    "\n",
    "print(f\"Fetch alternative codon...\")\n",
    "# fetch the alternative codon for each substitution\n",
    "seqsdf['alt_codon'] = seqsdf.apply(get_alt_codon, args=(GENE2POS,), axis=1)"
   ]
  },
  {
   "cell_type": "code",
   "execution_count": 25,
   "metadata": {},
   "outputs": [
    {
     "name": "stdout",
     "output_type": "stream",
     "text": [
      "Map amino acids...\n"
     ]
    }
   ],
   "source": [
    "print(f\"Map amino acids...\")\n",
    "# fetch the reference and alternative amino acids\n",
    "seqsdf['ref_aa'] = seqsdf['ref_codon'].apply(get_aa)\n",
    "seqsdf['alt_aa'] = seqsdf['alt_codon'].apply(get_aa)\n",
    "\n",
    "\n",
    "# filter out substitutions with non-amino acid alternates (bad consensus calls)\n",
    "seqsdf = seqsdf.loc[seqsdf['alt_aa']!='nan']"
   ]
  },
  {
   "cell_type": "code",
   "execution_count": 28,
   "metadata": {},
   "outputs": [
    {
     "data": {
      "text/html": [
       "<div>\n",
       "<style scoped>\n",
       "    .dataframe tbody tr th:only-of-type {\n",
       "        vertical-align: middle;\n",
       "    }\n",
       "\n",
       "    .dataframe tbody tr th {\n",
       "        vertical-align: top;\n",
       "    }\n",
       "\n",
       "    .dataframe thead th {\n",
       "        text-align: right;\n",
       "    }\n",
       "</style>\n",
       "<table border=\"1\" class=\"dataframe\">\n",
       "  <thead>\n",
       "    <tr style=\"text-align: right;\">\n",
       "      <th></th>\n",
       "      <th>idx</th>\n",
       "      <th>sequence</th>\n",
       "      <th>replacements</th>\n",
       "      <th>pos</th>\n",
       "      <th>gene</th>\n",
       "      <th>codon_num</th>\n",
       "      <th>ref_codon</th>\n",
       "      <th>alt_codon</th>\n",
       "      <th>ref_aa</th>\n",
       "      <th>alt_aa</th>\n",
       "    </tr>\n",
       "  </thead>\n",
       "  <tbody>\n",
       "    <tr>\n",
       "      <th>2</th>\n",
       "      <td>Wuhan/IVDC-HB-04/2020</td>\n",
       "      <td>attaaaggtttataccttcccaggtaacaaaccaaccaactttcga...</td>\n",
       "      <td>27492:t</td>\n",
       "      <td>27492</td>\n",
       "      <td>ORF7a</td>\n",
       "      <td>34</td>\n",
       "      <td>CCT</td>\n",
       "      <td>TCT</td>\n",
       "      <td>P</td>\n",
       "      <td>S</td>\n",
       "    </tr>\n",
       "    <tr>\n",
       "      <th>2</th>\n",
       "      <td>Wuhan/IVDC-HB-04/2020</td>\n",
       "      <td>attaaaggtttataccttcccaggtaacaaaccaaccaactttcga...</td>\n",
       "      <td>28252:t</td>\n",
       "      <td>28252</td>\n",
       "      <td>ORF8</td>\n",
       "      <td>120</td>\n",
       "      <td>TTC</td>\n",
       "      <td>TTT</td>\n",
       "      <td>F</td>\n",
       "      <td>F</td>\n",
       "    </tr>\n",
       "    <tr>\n",
       "      <th>3</th>\n",
       "      <td>Wuhan/IVDC-HB-05/2019</td>\n",
       "      <td>attaaaggtttataccttcccaggtaacaaaccaaccaactttcga...</td>\n",
       "      <td>20669:a</td>\n",
       "      <td>20669</td>\n",
       "      <td>ORF1ab</td>\n",
       "      <td>6802</td>\n",
       "      <td>CGT</td>\n",
       "      <td>CAT</td>\n",
       "      <td>R</td>\n",
       "      <td>H</td>\n",
       "    </tr>\n",
       "    <tr>\n",
       "      <th>3</th>\n",
       "      <td>Wuhan/IVDC-HB-05/2019</td>\n",
       "      <td>attaaaggtttataccttcccaggtaacaaaccaaccaactttcga...</td>\n",
       "      <td>20678:a</td>\n",
       "      <td>20678</td>\n",
       "      <td>ORF1ab</td>\n",
       "      <td>6805</td>\n",
       "      <td>CGG</td>\n",
       "      <td>CAG</td>\n",
       "      <td>R</td>\n",
       "      <td>Q</td>\n",
       "    </tr>\n",
       "    <tr>\n",
       "      <th>4</th>\n",
       "      <td>Wuhan/IPBCAMS-WH-01/2019</td>\n",
       "      <td>attaaaggtttataccttcccaggtaacaaaccaaccaactttcga...</td>\n",
       "      <td>3777:g</td>\n",
       "      <td>3777</td>\n",
       "      <td>ORF1ab</td>\n",
       "      <td>1171</td>\n",
       "      <td>ACA</td>\n",
       "      <td>ACG</td>\n",
       "      <td>T</td>\n",
       "      <td>T</td>\n",
       "    </tr>\n",
       "    <tr>\n",
       "      <th>...</th>\n",
       "      <td>...</td>\n",
       "      <td>...</td>\n",
       "      <td>...</td>\n",
       "      <td>...</td>\n",
       "      <td>...</td>\n",
       "      <td>...</td>\n",
       "      <td>...</td>\n",
       "      <td>...</td>\n",
       "      <td>...</td>\n",
       "      <td>...</td>\n",
       "    </tr>\n",
       "    <tr>\n",
       "      <th>273267</th>\n",
       "      <td>Canada/ON-SLB3080/2020</td>\n",
       "      <td>----------------------------------------------...</td>\n",
       "      <td>18376:t</td>\n",
       "      <td>18376</td>\n",
       "      <td>ORF1ab</td>\n",
       "      <td>6038</td>\n",
       "      <td>CAG</td>\n",
       "      <td>TAG</td>\n",
       "      <td>Q</td>\n",
       "      <td>_</td>\n",
       "    </tr>\n",
       "    <tr>\n",
       "      <th>273267</th>\n",
       "      <td>Canada/ON-SLB3080/2020</td>\n",
       "      <td>----------------------------------------------...</td>\n",
       "      <td>23402:g</td>\n",
       "      <td>23402</td>\n",
       "      <td>S</td>\n",
       "      <td>614</td>\n",
       "      <td>GAT</td>\n",
       "      <td>GGT</td>\n",
       "      <td>D</td>\n",
       "      <td>G</td>\n",
       "    </tr>\n",
       "    <tr>\n",
       "      <th>273267</th>\n",
       "      <td>Canada/ON-SLB3080/2020</td>\n",
       "      <td>----------------------------------------------...</td>\n",
       "      <td>23592:t</td>\n",
       "      <td>23592</td>\n",
       "      <td>S</td>\n",
       "      <td>677</td>\n",
       "      <td>CAG</td>\n",
       "      <td>CAT</td>\n",
       "      <td>Q</td>\n",
       "      <td>H</td>\n",
       "    </tr>\n",
       "    <tr>\n",
       "      <th>273267</th>\n",
       "      <td>Canada/ON-SLB3080/2020</td>\n",
       "      <td>----------------------------------------------...</td>\n",
       "      <td>25562:t</td>\n",
       "      <td>25562</td>\n",
       "      <td>ORF3a</td>\n",
       "      <td>57</td>\n",
       "      <td>CAG</td>\n",
       "      <td>CAT</td>\n",
       "      <td>Q</td>\n",
       "      <td>H</td>\n",
       "    </tr>\n",
       "    <tr>\n",
       "      <th>273267</th>\n",
       "      <td>Canada/ON-SLB3080/2020</td>\n",
       "      <td>----------------------------------------------...</td>\n",
       "      <td>28840:g</td>\n",
       "      <td>28840</td>\n",
       "      <td>N</td>\n",
       "      <td>190</td>\n",
       "      <td>AGT</td>\n",
       "      <td>GGT</td>\n",
       "      <td>S</td>\n",
       "      <td>G</td>\n",
       "    </tr>\n",
       "  </tbody>\n",
       "</table>\n",
       "<p>3633999 rows × 10 columns</p>\n",
       "</div>"
      ],
      "text/plain": [
       "                             idx  \\\n",
       "2          Wuhan/IVDC-HB-04/2020   \n",
       "2          Wuhan/IVDC-HB-04/2020   \n",
       "3          Wuhan/IVDC-HB-05/2019   \n",
       "3          Wuhan/IVDC-HB-05/2019   \n",
       "4       Wuhan/IPBCAMS-WH-01/2019   \n",
       "...                          ...   \n",
       "273267    Canada/ON-SLB3080/2020   \n",
       "273267    Canada/ON-SLB3080/2020   \n",
       "273267    Canada/ON-SLB3080/2020   \n",
       "273267    Canada/ON-SLB3080/2020   \n",
       "273267    Canada/ON-SLB3080/2020   \n",
       "\n",
       "                                                 sequence replacements    pos  \\\n",
       "2       attaaaggtttataccttcccaggtaacaaaccaaccaactttcga...      27492:t  27492   \n",
       "2       attaaaggtttataccttcccaggtaacaaaccaaccaactttcga...      28252:t  28252   \n",
       "3       attaaaggtttataccttcccaggtaacaaaccaaccaactttcga...      20669:a  20669   \n",
       "3       attaaaggtttataccttcccaggtaacaaaccaaccaactttcga...      20678:a  20678   \n",
       "4       attaaaggtttataccttcccaggtaacaaaccaaccaactttcga...       3777:g   3777   \n",
       "...                                                   ...          ...    ...   \n",
       "273267  ----------------------------------------------...      18376:t  18376   \n",
       "273267  ----------------------------------------------...      23402:g  23402   \n",
       "273267  ----------------------------------------------...      23592:t  23592   \n",
       "273267  ----------------------------------------------...      25562:t  25562   \n",
       "273267  ----------------------------------------------...      28840:g  28840   \n",
       "\n",
       "          gene  codon_num ref_codon alt_codon ref_aa alt_aa  \n",
       "2        ORF7a         34       CCT       TCT      P      S  \n",
       "2         ORF8        120       TTC       TTT      F      F  \n",
       "3       ORF1ab       6802       CGT       CAT      R      H  \n",
       "3       ORF1ab       6805       CGG       CAG      R      Q  \n",
       "4       ORF1ab       1171       ACA       ACG      T      T  \n",
       "...        ...        ...       ...       ...    ...    ...  \n",
       "273267  ORF1ab       6038       CAG       TAG      Q      _  \n",
       "273267       S        614       GAT       GGT      D      G  \n",
       "273267       S        677       CAG       CAT      Q      H  \n",
       "273267   ORF3a         57       CAG       CAT      Q      H  \n",
       "273267       N        190       AGT       GGT      S      G  \n",
       "\n",
       "[3633999 rows x 10 columns]"
      ]
     },
     "execution_count": 28,
     "metadata": {},
     "output_type": "execute_result"
    }
   ],
   "source": [
    "seqsdf"
   ]
  },
  {
   "cell_type": "code",
   "execution_count": 31,
   "metadata": {},
   "outputs": [
    {
     "data": {
      "text/plain": [
       "Index(['strain', 'virus', 'gisaid_epi_isl', 'genbank_accession', 'date',\n",
       "       'region', 'country', 'division', 'location', 'region_exposure',\n",
       "       'country_exposure', 'division_exposure', 'segment', 'length', 'host',\n",
       "       'age', 'sex', 'Nextstrain_clade', 'pangolin_lineage', 'GISAID_clade',\n",
       "       'originating_lab', 'submitting_lab', 'authors', 'url', 'title',\n",
       "       'paper_url', 'date_submitted'],\n",
       "      dtype='object')"
      ]
     },
     "execution_count": 31,
     "metadata": {},
     "output_type": "execute_result"
    }
   ],
   "source": [
    "meta.columns"
   ]
  },
  {
   "cell_type": "code",
   "execution_count": 33,
   "metadata": {},
   "outputs": [
    {
     "data": {
      "text/plain": [
       "0            Algeria/G0638_2264/2020\n",
       "1            Algeria/G0640_2265/2020\n",
       "2            Algeria/G0860_2262/2020\n",
       "3                Andorra/202552/2020\n",
       "4                   Anhui/SZ005/2020\n",
       "                     ...            \n",
       "273262    tiger/USA/NY-2-040420/2020\n",
       "273263    tiger/USA/NY-3-040420/2020\n",
       "273264    tiger/USA/NY-4-040420/2020\n",
       "273265          tiger/USA/NY-P3/2020\n",
       "273266          tiger/USA/NY-P4/2020\n",
       "Name: strain, Length: 273267, dtype: object"
      ]
     },
     "execution_count": 33,
     "metadata": {},
     "output_type": "execute_result"
    }
   ],
   "source": [
    "meta['strain']"
   ]
  },
  {
   "cell_type": "code",
   "execution_count": 32,
   "metadata": {},
   "outputs": [
    {
     "data": {
      "text/html": [
       "<div>\n",
       "<style scoped>\n",
       "    .dataframe tbody tr th:only-of-type {\n",
       "        vertical-align: middle;\n",
       "    }\n",
       "\n",
       "    .dataframe tbody tr th {\n",
       "        vertical-align: top;\n",
       "    }\n",
       "\n",
       "    .dataframe thead th {\n",
       "        text-align: right;\n",
       "    }\n",
       "</style>\n",
       "<table border=\"1\" class=\"dataframe\">\n",
       "  <thead>\n",
       "    <tr style=\"text-align: right;\">\n",
       "      <th></th>\n",
       "      <th>idx</th>\n",
       "      <th>sequence</th>\n",
       "      <th>replacements</th>\n",
       "      <th>pos</th>\n",
       "      <th>gene</th>\n",
       "      <th>codon_num</th>\n",
       "      <th>ref_codon</th>\n",
       "      <th>alt_codon</th>\n",
       "      <th>ref_aa</th>\n",
       "      <th>alt_aa</th>\n",
       "    </tr>\n",
       "  </thead>\n",
       "  <tbody>\n",
       "    <tr>\n",
       "      <th>2</th>\n",
       "      <td>Wuhan/IVDC-HB-04/2020</td>\n",
       "      <td>attaaaggtttataccttcccaggtaacaaaccaaccaactttcga...</td>\n",
       "      <td>27492:t</td>\n",
       "      <td>27492</td>\n",
       "      <td>ORF7a</td>\n",
       "      <td>34</td>\n",
       "      <td>CCT</td>\n",
       "      <td>TCT</td>\n",
       "      <td>P</td>\n",
       "      <td>S</td>\n",
       "    </tr>\n",
       "    <tr>\n",
       "      <th>2</th>\n",
       "      <td>Wuhan/IVDC-HB-04/2020</td>\n",
       "      <td>attaaaggtttataccttcccaggtaacaaaccaaccaactttcga...</td>\n",
       "      <td>28252:t</td>\n",
       "      <td>28252</td>\n",
       "      <td>ORF8</td>\n",
       "      <td>120</td>\n",
       "      <td>TTC</td>\n",
       "      <td>TTT</td>\n",
       "      <td>F</td>\n",
       "      <td>F</td>\n",
       "    </tr>\n",
       "    <tr>\n",
       "      <th>3</th>\n",
       "      <td>Wuhan/IVDC-HB-05/2019</td>\n",
       "      <td>attaaaggtttataccttcccaggtaacaaaccaaccaactttcga...</td>\n",
       "      <td>20669:a</td>\n",
       "      <td>20669</td>\n",
       "      <td>ORF1ab</td>\n",
       "      <td>6802</td>\n",
       "      <td>CGT</td>\n",
       "      <td>CAT</td>\n",
       "      <td>R</td>\n",
       "      <td>H</td>\n",
       "    </tr>\n",
       "    <tr>\n",
       "      <th>3</th>\n",
       "      <td>Wuhan/IVDC-HB-05/2019</td>\n",
       "      <td>attaaaggtttataccttcccaggtaacaaaccaaccaactttcga...</td>\n",
       "      <td>20678:a</td>\n",
       "      <td>20678</td>\n",
       "      <td>ORF1ab</td>\n",
       "      <td>6805</td>\n",
       "      <td>CGG</td>\n",
       "      <td>CAG</td>\n",
       "      <td>R</td>\n",
       "      <td>Q</td>\n",
       "    </tr>\n",
       "    <tr>\n",
       "      <th>4</th>\n",
       "      <td>Wuhan/IPBCAMS-WH-01/2019</td>\n",
       "      <td>attaaaggtttataccttcccaggtaacaaaccaaccaactttcga...</td>\n",
       "      <td>3777:g</td>\n",
       "      <td>3777</td>\n",
       "      <td>ORF1ab</td>\n",
       "      <td>1171</td>\n",
       "      <td>ACA</td>\n",
       "      <td>ACG</td>\n",
       "      <td>T</td>\n",
       "      <td>T</td>\n",
       "    </tr>\n",
       "    <tr>\n",
       "      <th>...</th>\n",
       "      <td>...</td>\n",
       "      <td>...</td>\n",
       "      <td>...</td>\n",
       "      <td>...</td>\n",
       "      <td>...</td>\n",
       "      <td>...</td>\n",
       "      <td>...</td>\n",
       "      <td>...</td>\n",
       "      <td>...</td>\n",
       "      <td>...</td>\n",
       "    </tr>\n",
       "    <tr>\n",
       "      <th>273267</th>\n",
       "      <td>Canada/ON-SLB3080/2020</td>\n",
       "      <td>----------------------------------------------...</td>\n",
       "      <td>18376:t</td>\n",
       "      <td>18376</td>\n",
       "      <td>ORF1ab</td>\n",
       "      <td>6038</td>\n",
       "      <td>CAG</td>\n",
       "      <td>TAG</td>\n",
       "      <td>Q</td>\n",
       "      <td>_</td>\n",
       "    </tr>\n",
       "    <tr>\n",
       "      <th>273267</th>\n",
       "      <td>Canada/ON-SLB3080/2020</td>\n",
       "      <td>----------------------------------------------...</td>\n",
       "      <td>23402:g</td>\n",
       "      <td>23402</td>\n",
       "      <td>S</td>\n",
       "      <td>614</td>\n",
       "      <td>GAT</td>\n",
       "      <td>GGT</td>\n",
       "      <td>D</td>\n",
       "      <td>G</td>\n",
       "    </tr>\n",
       "    <tr>\n",
       "      <th>273267</th>\n",
       "      <td>Canada/ON-SLB3080/2020</td>\n",
       "      <td>----------------------------------------------...</td>\n",
       "      <td>23592:t</td>\n",
       "      <td>23592</td>\n",
       "      <td>S</td>\n",
       "      <td>677</td>\n",
       "      <td>CAG</td>\n",
       "      <td>CAT</td>\n",
       "      <td>Q</td>\n",
       "      <td>H</td>\n",
       "    </tr>\n",
       "    <tr>\n",
       "      <th>273267</th>\n",
       "      <td>Canada/ON-SLB3080/2020</td>\n",
       "      <td>----------------------------------------------...</td>\n",
       "      <td>25562:t</td>\n",
       "      <td>25562</td>\n",
       "      <td>ORF3a</td>\n",
       "      <td>57</td>\n",
       "      <td>CAG</td>\n",
       "      <td>CAT</td>\n",
       "      <td>Q</td>\n",
       "      <td>H</td>\n",
       "    </tr>\n",
       "    <tr>\n",
       "      <th>273267</th>\n",
       "      <td>Canada/ON-SLB3080/2020</td>\n",
       "      <td>----------------------------------------------...</td>\n",
       "      <td>28840:g</td>\n",
       "      <td>28840</td>\n",
       "      <td>N</td>\n",
       "      <td>190</td>\n",
       "      <td>AGT</td>\n",
       "      <td>GGT</td>\n",
       "      <td>S</td>\n",
       "      <td>G</td>\n",
       "    </tr>\n",
       "  </tbody>\n",
       "</table>\n",
       "<p>3633999 rows × 10 columns</p>\n",
       "</div>"
      ],
      "text/plain": [
       "                             idx  \\\n",
       "2          Wuhan/IVDC-HB-04/2020   \n",
       "2          Wuhan/IVDC-HB-04/2020   \n",
       "3          Wuhan/IVDC-HB-05/2019   \n",
       "3          Wuhan/IVDC-HB-05/2019   \n",
       "4       Wuhan/IPBCAMS-WH-01/2019   \n",
       "...                          ...   \n",
       "273267    Canada/ON-SLB3080/2020   \n",
       "273267    Canada/ON-SLB3080/2020   \n",
       "273267    Canada/ON-SLB3080/2020   \n",
       "273267    Canada/ON-SLB3080/2020   \n",
       "273267    Canada/ON-SLB3080/2020   \n",
       "\n",
       "                                                 sequence replacements    pos  \\\n",
       "2       attaaaggtttataccttcccaggtaacaaaccaaccaactttcga...      27492:t  27492   \n",
       "2       attaaaggtttataccttcccaggtaacaaaccaaccaactttcga...      28252:t  28252   \n",
       "3       attaaaggtttataccttcccaggtaacaaaccaaccaactttcga...      20669:a  20669   \n",
       "3       attaaaggtttataccttcccaggtaacaaaccaaccaactttcga...      20678:a  20678   \n",
       "4       attaaaggtttataccttcccaggtaacaaaccaaccaactttcga...       3777:g   3777   \n",
       "...                                                   ...          ...    ...   \n",
       "273267  ----------------------------------------------...      18376:t  18376   \n",
       "273267  ----------------------------------------------...      23402:g  23402   \n",
       "273267  ----------------------------------------------...      23592:t  23592   \n",
       "273267  ----------------------------------------------...      25562:t  25562   \n",
       "273267  ----------------------------------------------...      28840:g  28840   \n",
       "\n",
       "          gene  codon_num ref_codon alt_codon ref_aa alt_aa  \n",
       "2        ORF7a         34       CCT       TCT      P      S  \n",
       "2         ORF8        120       TTC       TTT      F      F  \n",
       "3       ORF1ab       6802       CGT       CAT      R      H  \n",
       "3       ORF1ab       6805       CGG       CAG      R      Q  \n",
       "4       ORF1ab       1171       ACA       ACG      T      T  \n",
       "...        ...        ...       ...       ...    ...    ...  \n",
       "273267  ORF1ab       6038       CAG       TAG      Q      _  \n",
       "273267       S        614       GAT       GGT      D      G  \n",
       "273267       S        677       CAG       CAT      Q      H  \n",
       "273267   ORF3a         57       CAG       CAT      Q      H  \n",
       "273267       N        190       AGT       GGT      S      G  \n",
       "\n",
       "[3633999 rows x 10 columns]"
      ]
     },
     "execution_count": 32,
     "metadata": {},
     "output_type": "execute_result"
    }
   ],
   "source": [
    "seqsdf"
   ]
  },
  {
   "cell_type": "code",
   "execution_count": 34,
   "metadata": {},
   "outputs": [
    {
     "name": "stdout",
     "output_type": "stream",
     "text": [
      "Fuse with metadata...\n"
     ]
    },
    {
     "name": "stderr",
     "output_type": "stream",
     "text": [
      "/home/al/anaconda3/lib/python3.8/site-packages/IPython/core/interactiveshell.py:3145: DtypeWarning: Columns (8) have mixed types.Specify dtype option on import or set low_memory=False.\n",
      "  has_raised = await self.run_ast_nodes(code_ast.body, cell_name,\n"
     ]
    }
   ],
   "source": [
    "print(f\"Fuse with metadata...\")\n",
    "# load and join metadata\n",
    "meta = pd.read_csv(meta_fp, sep='\\t')\n",
    "seqsdf = pd.merge(seqsdf, meta, left_on='idx', right_on='strain')"
   ]
  },
  {
   "cell_type": "code",
   "execution_count": null,
   "metadata": {},
   "outputs": [],
   "source": [
    "# clean and process sample collection dates\n",
    "seqsdf = seqsdf.loc[(seqsdf['collection_date']!='Unknown') \n",
    "               & (seqsdf['collection_date']!='1900-01-00')]\n",
    "seqsdf.loc[seqsdf['collection_date'].str.contains('/'), 'collection_date'] = seqsdf['collection_date'].apply(lambda x: x.split('/')[0])\n",
    "seqsdf['date'] = pd.to_datetime(seqsdf['collection_date'])"
   ]
  },
  {
   "cell_type": "code",
   "execution_count": 37,
   "metadata": {},
   "outputs": [],
   "source": [
    "seqsdf['date'] = pd.to_datetime(seqsdf['date_submitted'])"
   ]
  },
  {
   "cell_type": "code",
   "execution_count": 39,
   "metadata": {},
   "outputs": [
    {
     "data": {
      "text/plain": [
       "Index(['idx', 'sequence', 'replacements', 'pos', 'gene', 'codon_num',\n",
       "       'ref_codon', 'alt_codon', 'ref_aa', 'alt_aa', 'strain', 'virus',\n",
       "       'gisaid_epi_isl', 'genbank_accession', 'date', 'region', 'country',\n",
       "       'division', 'location', 'region_exposure', 'country_exposure',\n",
       "       'division_exposure', 'segment', 'length', 'host', 'age', 'sex',\n",
       "       'Nextstrain_clade', 'pangolin_lineage', 'GISAID_clade',\n",
       "       'originating_lab', 'submitting_lab', 'authors', 'url', 'title',\n",
       "       'paper_url', 'date_submitted'],\n",
       "      dtype='object')"
      ]
     },
     "execution_count": 39,
     "metadata": {},
     "output_type": "execute_result"
    }
   ],
   "source": [
    "seqsdf.columns"
   ]
  },
  {
   "cell_type": "code",
   "execution_count": 52,
   "metadata": {},
   "outputs": [
    {
     "name": "stdout",
     "output_type": "stream",
     "text": [
      "Aggregate final results...\n"
     ]
    }
   ],
   "source": [
    "print(f\"Aggregate final results...\")\n",
    "# aggregate on each substitutions, compute number of samples and other attributes\n",
    "subs = (seqsdf.groupby(['gene', 'pos', 'ref_aa', 'codon_num', 'alt_aa'])\n",
    ".agg(\n",
    " num_samples=('idx', 'nunique'),\n",
    " first_detected=('date', 'min'),\n",
    " last_detected=('date', 'max'),\n",
    " num_locations=('location', 'nunique'),\n",
    " locations=('location', 'unique'),\n",
    " num_countries=('country', 'nunique'),\n",
    " countries=('country', 'unique'),\n",
    "#  location_counts=('location', loc_counts)\n",
    ")\n",
    ".reset_index())\n",
    "# 1-based nucleotide position coordinate system\n",
    "subs['pos'] = subs['pos'] + 1"
   ]
  },
  {
   "cell_type": "code",
   "execution_count": 53,
   "metadata": {},
   "outputs": [
    {
     "data": {
      "text/html": [
       "<div>\n",
       "<style scoped>\n",
       "    .dataframe tbody tr th:only-of-type {\n",
       "        vertical-align: middle;\n",
       "    }\n",
       "\n",
       "    .dataframe tbody tr th {\n",
       "        vertical-align: top;\n",
       "    }\n",
       "\n",
       "    .dataframe thead th {\n",
       "        text-align: right;\n",
       "    }\n",
       "</style>\n",
       "<table border=\"1\" class=\"dataframe\">\n",
       "  <thead>\n",
       "    <tr style=\"text-align: right;\">\n",
       "      <th></th>\n",
       "      <th>gene</th>\n",
       "      <th>pos</th>\n",
       "      <th>ref_aa</th>\n",
       "      <th>codon_num</th>\n",
       "      <th>alt_aa</th>\n",
       "      <th>num_samples</th>\n",
       "      <th>first_detected</th>\n",
       "      <th>last_detected</th>\n",
       "      <th>num_locations</th>\n",
       "      <th>locations</th>\n",
       "      <th>num_countries</th>\n",
       "      <th>countries</th>\n",
       "    </tr>\n",
       "  </thead>\n",
       "  <tbody>\n",
       "    <tr>\n",
       "      <th>42231</th>\n",
       "      <td>S</td>\n",
       "      <td>23403</td>\n",
       "      <td>D</td>\n",
       "      <td>614</td>\n",
       "      <td>G</td>\n",
       "      <td>249395</td>\n",
       "      <td>2020-01-31</td>\n",
       "      <td>2020-12-19</td>\n",
       "      <td>2158</td>\n",
       "      <td>[Starnberg, nan, São Paulo, Wuhan, Milan, Berl...</td>\n",
       "      <td>129</td>\n",
       "      <td>[Germany, Brazil, Finland, Mexico, Italy, Chin...</td>\n",
       "    </tr>\n",
       "    <tr>\n",
       "      <th>10332</th>\n",
       "      <td>ORF1ab</td>\n",
       "      <td>3037</td>\n",
       "      <td>F</td>\n",
       "      <td>924</td>\n",
       "      <td>F</td>\n",
       "      <td>248474</td>\n",
       "      <td>2020-01-24</td>\n",
       "      <td>2020-12-19</td>\n",
       "      <td>2149</td>\n",
       "      <td>[Pu'Er, Starnberg, nan, São Paulo, Xishuangban...</td>\n",
       "      <td>129</td>\n",
       "      <td>[China, Germany, Brazil, Finland, Mexico, Ital...</td>\n",
       "    </tr>\n",
       "    <tr>\n",
       "      <th>25627</th>\n",
       "      <td>ORF1ab</td>\n",
       "      <td>14408</td>\n",
       "      <td>L</td>\n",
       "      <td>4715</td>\n",
       "      <td>L</td>\n",
       "      <td>248394</td>\n",
       "      <td>2020-02-28</td>\n",
       "      <td>2020-12-19</td>\n",
       "      <td>2142</td>\n",
       "      <td>[nan, São Paulo, Milan, Berlicum, Blaricum, De...</td>\n",
       "      <td>128</td>\n",
       "      <td>[Germany, Brazil, Finland, Mexico, Italy, Swit...</td>\n",
       "    </tr>\n",
       "    <tr>\n",
       "      <th>2249</th>\n",
       "      <td>5UTR</td>\n",
       "      <td>241</td>\n",
       "      <td>R</td>\n",
       "      <td>81</td>\n",
       "      <td>C</td>\n",
       "      <td>242249</td>\n",
       "      <td>2020-01-31</td>\n",
       "      <td>2020-12-19</td>\n",
       "      <td>2133</td>\n",
       "      <td>[Starnberg, nan, São Paulo, Milan, Berlicum, B...</td>\n",
       "      <td>128</td>\n",
       "      <td>[Germany, China, Brazil, Finland, Mexico, Ital...</td>\n",
       "    </tr>\n",
       "    <tr>\n",
       "      <th>4335</th>\n",
       "      <td>N</td>\n",
       "      <td>28881</td>\n",
       "      <td>R</td>\n",
       "      <td>203</td>\n",
       "      <td>K</td>\n",
       "      <td>98146</td>\n",
       "      <td>2020-02-28</td>\n",
       "      <td>2020-12-19</td>\n",
       "      <td>1013</td>\n",
       "      <td>[nan, Berlicum, Delft, Diemen, Eindhoven, Helm...</td>\n",
       "      <td>104</td>\n",
       "      <td>[Germany, Mexico, Switzerland, United Kingdom,...</td>\n",
       "    </tr>\n",
       "    <tr>\n",
       "      <th>...</th>\n",
       "      <td>...</td>\n",
       "      <td>...</td>\n",
       "      <td>...</td>\n",
       "      <td>...</td>\n",
       "      <td>...</td>\n",
       "      <td>...</td>\n",
       "      <td>...</td>\n",
       "      <td>...</td>\n",
       "      <td>...</td>\n",
       "      <td>...</td>\n",
       "      <td>...</td>\n",
       "      <td>...</td>\n",
       "    </tr>\n",
       "    <tr>\n",
       "      <th>33595</th>\n",
       "      <td>ORF1ab</td>\n",
       "      <td>20733</td>\n",
       "      <td>V</td>\n",
       "      <td>6823</td>\n",
       "      <td>G</td>\n",
       "      <td>1</td>\n",
       "      <td>2020-05-02</td>\n",
       "      <td>2020-05-02</td>\n",
       "      <td>0</td>\n",
       "      <td>[nan]</td>\n",
       "      <td>1</td>\n",
       "      <td>[South Africa]</td>\n",
       "    </tr>\n",
       "    <tr>\n",
       "      <th>25096</th>\n",
       "      <td>ORF1ab</td>\n",
       "      <td>13999</td>\n",
       "      <td>C</td>\n",
       "      <td>4578</td>\n",
       "      <td>S</td>\n",
       "      <td>1</td>\n",
       "      <td>2020-06-29</td>\n",
       "      <td>2020-06-29</td>\n",
       "      <td>0</td>\n",
       "      <td>[nan]</td>\n",
       "      <td>1</td>\n",
       "      <td>[India]</td>\n",
       "    </tr>\n",
       "    <tr>\n",
       "      <th>33597</th>\n",
       "      <td>ORF1ab</td>\n",
       "      <td>20735</td>\n",
       "      <td>T</td>\n",
       "      <td>6824</td>\n",
       "      <td>A</td>\n",
       "      <td>1</td>\n",
       "      <td>2020-09-16</td>\n",
       "      <td>2020-09-16</td>\n",
       "      <td>0</td>\n",
       "      <td>[nan]</td>\n",
       "      <td>1</td>\n",
       "      <td>[Singapore]</td>\n",
       "    </tr>\n",
       "    <tr>\n",
       "      <th>9132</th>\n",
       "      <td>ORF1ab</td>\n",
       "      <td>2344</td>\n",
       "      <td>I</td>\n",
       "      <td>693</td>\n",
       "      <td>I</td>\n",
       "      <td>1</td>\n",
       "      <td>2020-08-30</td>\n",
       "      <td>2020-08-30</td>\n",
       "      <td>0</td>\n",
       "      <td>[nan]</td>\n",
       "      <td>1</td>\n",
       "      <td>[Dominican Republic]</td>\n",
       "    </tr>\n",
       "    <tr>\n",
       "      <th>22435</th>\n",
       "      <td>ORF1ab</td>\n",
       "      <td>11682</td>\n",
       "      <td>L</td>\n",
       "      <td>3806</td>\n",
       "      <td>_</td>\n",
       "      <td>1</td>\n",
       "      <td>2020-10-13</td>\n",
       "      <td>2020-10-13</td>\n",
       "      <td>0</td>\n",
       "      <td>[nan]</td>\n",
       "      <td>1</td>\n",
       "      <td>[India]</td>\n",
       "    </tr>\n",
       "  </tbody>\n",
       "</table>\n",
       "<p>44871 rows × 12 columns</p>\n",
       "</div>"
      ],
      "text/plain": [
       "         gene    pos ref_aa  codon_num alt_aa  num_samples first_detected  \\\n",
       "42231       S  23403      D        614      G       249395     2020-01-31   \n",
       "10332  ORF1ab   3037      F        924      F       248474     2020-01-24   \n",
       "25627  ORF1ab  14408      L       4715      L       248394     2020-02-28   \n",
       "2249     5UTR    241      R         81      C       242249     2020-01-31   \n",
       "4335        N  28881      R        203      K        98146     2020-02-28   \n",
       "...       ...    ...    ...        ...    ...          ...            ...   \n",
       "33595  ORF1ab  20733      V       6823      G            1     2020-05-02   \n",
       "25096  ORF1ab  13999      C       4578      S            1     2020-06-29   \n",
       "33597  ORF1ab  20735      T       6824      A            1     2020-09-16   \n",
       "9132   ORF1ab   2344      I        693      I            1     2020-08-30   \n",
       "22435  ORF1ab  11682      L       3806      _            1     2020-10-13   \n",
       "\n",
       "      last_detected  num_locations  \\\n",
       "42231    2020-12-19           2158   \n",
       "10332    2020-12-19           2149   \n",
       "25627    2020-12-19           2142   \n",
       "2249     2020-12-19           2133   \n",
       "4335     2020-12-19           1013   \n",
       "...             ...            ...   \n",
       "33595    2020-05-02              0   \n",
       "25096    2020-06-29              0   \n",
       "33597    2020-09-16              0   \n",
       "9132     2020-08-30              0   \n",
       "22435    2020-10-13              0   \n",
       "\n",
       "                                               locations  num_countries  \\\n",
       "42231  [Starnberg, nan, São Paulo, Wuhan, Milan, Berl...            129   \n",
       "10332  [Pu'Er, Starnberg, nan, São Paulo, Xishuangban...            129   \n",
       "25627  [nan, São Paulo, Milan, Berlicum, Blaricum, De...            128   \n",
       "2249   [Starnberg, nan, São Paulo, Milan, Berlicum, B...            128   \n",
       "4335   [nan, Berlicum, Delft, Diemen, Eindhoven, Helm...            104   \n",
       "...                                                  ...            ...   \n",
       "33595                                              [nan]              1   \n",
       "25096                                              [nan]              1   \n",
       "33597                                              [nan]              1   \n",
       "9132                                               [nan]              1   \n",
       "22435                                              [nan]              1   \n",
       "\n",
       "                                               countries  \n",
       "42231  [Germany, Brazil, Finland, Mexico, Italy, Chin...  \n",
       "10332  [China, Germany, Brazil, Finland, Mexico, Ital...  \n",
       "25627  [Germany, Brazil, Finland, Mexico, Italy, Swit...  \n",
       "2249   [Germany, China, Brazil, Finland, Mexico, Ital...  \n",
       "4335   [Germany, Mexico, Switzerland, United Kingdom,...  \n",
       "...                                                  ...  \n",
       "33595                                     [South Africa]  \n",
       "25096                                            [India]  \n",
       "33597                                        [Singapore]  \n",
       "9132                                [Dominican Republic]  \n",
       "22435                                            [India]  \n",
       "\n",
       "[44871 rows x 12 columns]"
      ]
     },
     "execution_count": 53,
     "metadata": {},
     "output_type": "execute_result"
    }
   ],
   "source": [
    "subs.sort_values('num_samples', ascending=False)"
   ]
  },
  {
   "cell_type": "code",
   "execution_count": 54,
   "metadata": {},
   "outputs": [
    {
     "data": {
      "text/html": [
       "<div>\n",
       "<style scoped>\n",
       "    .dataframe tbody tr th:only-of-type {\n",
       "        vertical-align: middle;\n",
       "    }\n",
       "\n",
       "    .dataframe tbody tr th {\n",
       "        vertical-align: top;\n",
       "    }\n",
       "\n",
       "    .dataframe thead th {\n",
       "        text-align: right;\n",
       "    }\n",
       "</style>\n",
       "<table border=\"1\" class=\"dataframe\">\n",
       "  <thead>\n",
       "    <tr style=\"text-align: right;\">\n",
       "      <th></th>\n",
       "      <th>gene</th>\n",
       "      <th>pos</th>\n",
       "      <th>ref_aa</th>\n",
       "      <th>codon_num</th>\n",
       "      <th>alt_aa</th>\n",
       "      <th>num_samples</th>\n",
       "      <th>first_detected</th>\n",
       "      <th>last_detected</th>\n",
       "      <th>num_locations</th>\n",
       "      <th>locations</th>\n",
       "      <th>num_countries</th>\n",
       "      <th>countries</th>\n",
       "    </tr>\n",
       "  </thead>\n",
       "  <tbody>\n",
       "    <tr>\n",
       "      <th>41777</th>\n",
       "      <td>S</td>\n",
       "      <td>23063</td>\n",
       "      <td>N</td>\n",
       "      <td>501</td>\n",
       "      <td>D</td>\n",
       "      <td>1</td>\n",
       "      <td>2020-01-24</td>\n",
       "      <td>2020-01-24</td>\n",
       "      <td>1</td>\n",
       "      <td>[Pu'Er]</td>\n",
       "      <td>1</td>\n",
       "      <td>[China]</td>\n",
       "    </tr>\n",
       "    <tr>\n",
       "      <th>41778</th>\n",
       "      <td>S</td>\n",
       "      <td>23063</td>\n",
       "      <td>N</td>\n",
       "      <td>501</td>\n",
       "      <td>H</td>\n",
       "      <td>1</td>\n",
       "      <td>2020-06-23</td>\n",
       "      <td>2020-06-23</td>\n",
       "      <td>0</td>\n",
       "      <td>[nan]</td>\n",
       "      <td>1</td>\n",
       "      <td>[United Kingdom]</td>\n",
       "    </tr>\n",
       "    <tr>\n",
       "      <th>41779</th>\n",
       "      <td>S</td>\n",
       "      <td>23063</td>\n",
       "      <td>N</td>\n",
       "      <td>501</td>\n",
       "      <td>V</td>\n",
       "      <td>1</td>\n",
       "      <td>2020-03-02</td>\n",
       "      <td>2020-03-02</td>\n",
       "      <td>1</td>\n",
       "      <td>[Xishuangbanna]</td>\n",
       "      <td>1</td>\n",
       "      <td>[China]</td>\n",
       "    </tr>\n",
       "    <tr>\n",
       "      <th>41780</th>\n",
       "      <td>S</td>\n",
       "      <td>23063</td>\n",
       "      <td>N</td>\n",
       "      <td>501</td>\n",
       "      <td>Y</td>\n",
       "      <td>2419</td>\n",
       "      <td>2020-06-01</td>\n",
       "      <td>2020-12-19</td>\n",
       "      <td>20</td>\n",
       "      <td>[Queens, nan, Recife, Yamhill County, Winnebag...</td>\n",
       "      <td>6</td>\n",
       "      <td>[USA, Australia, Brazil, United Kingdom, Denma...</td>\n",
       "    </tr>\n",
       "    <tr>\n",
       "      <th>41781</th>\n",
       "      <td>S</td>\n",
       "      <td>23064</td>\n",
       "      <td>N</td>\n",
       "      <td>501</td>\n",
       "      <td>S</td>\n",
       "      <td>8</td>\n",
       "      <td>2020-06-11</td>\n",
       "      <td>2020-11-18</td>\n",
       "      <td>1</td>\n",
       "      <td>[nan, Rock County]</td>\n",
       "      <td>3</td>\n",
       "      <td>[United Kingdom, USA, Australia]</td>\n",
       "    </tr>\n",
       "    <tr>\n",
       "      <th>41782</th>\n",
       "      <td>S</td>\n",
       "      <td>23064</td>\n",
       "      <td>N</td>\n",
       "      <td>501</td>\n",
       "      <td>T</td>\n",
       "      <td>54</td>\n",
       "      <td>2020-02-17</td>\n",
       "      <td>2020-12-18</td>\n",
       "      <td>6</td>\n",
       "      <td>[nan, iLembe, Taylor County WI, New York City,...</td>\n",
       "      <td>11</td>\n",
       "      <td>[China, Netherlands, Germany, South Africa, It...</td>\n",
       "    </tr>\n",
       "    <tr>\n",
       "      <th>41783</th>\n",
       "      <td>S</td>\n",
       "      <td>23064</td>\n",
       "      <td>N</td>\n",
       "      <td>501</td>\n",
       "      <td>V</td>\n",
       "      <td>1</td>\n",
       "      <td>2020-03-02</td>\n",
       "      <td>2020-03-02</td>\n",
       "      <td>1</td>\n",
       "      <td>[Xishuangbanna]</td>\n",
       "      <td>1</td>\n",
       "      <td>[China]</td>\n",
       "    </tr>\n",
       "    <tr>\n",
       "      <th>41784</th>\n",
       "      <td>S</td>\n",
       "      <td>23065</td>\n",
       "      <td>N</td>\n",
       "      <td>501</td>\n",
       "      <td>N</td>\n",
       "      <td>5</td>\n",
       "      <td>2020-07-14</td>\n",
       "      <td>2020-11-06</td>\n",
       "      <td>0</td>\n",
       "      <td>[nan]</td>\n",
       "      <td>2</td>\n",
       "      <td>[United Kingdom, Australia]</td>\n",
       "    </tr>\n",
       "    <tr>\n",
       "      <th>41785</th>\n",
       "      <td>S</td>\n",
       "      <td>23065</td>\n",
       "      <td>N</td>\n",
       "      <td>501</td>\n",
       "      <td>T</td>\n",
       "      <td>5</td>\n",
       "      <td>2020-02-17</td>\n",
       "      <td>2020-02-17</td>\n",
       "      <td>0</td>\n",
       "      <td>[nan]</td>\n",
       "      <td>1</td>\n",
       "      <td>[China]</td>\n",
       "    </tr>\n",
       "    <tr>\n",
       "      <th>41786</th>\n",
       "      <td>S</td>\n",
       "      <td>23065</td>\n",
       "      <td>N</td>\n",
       "      <td>501</td>\n",
       "      <td>V</td>\n",
       "      <td>1</td>\n",
       "      <td>2020-03-02</td>\n",
       "      <td>2020-03-02</td>\n",
       "      <td>1</td>\n",
       "      <td>[Xishuangbanna]</td>\n",
       "      <td>1</td>\n",
       "      <td>[China]</td>\n",
       "    </tr>\n",
       "  </tbody>\n",
       "</table>\n",
       "</div>"
      ],
      "text/plain": [
       "      gene    pos ref_aa  codon_num alt_aa  num_samples first_detected  \\\n",
       "41777    S  23063      N        501      D            1     2020-01-24   \n",
       "41778    S  23063      N        501      H            1     2020-06-23   \n",
       "41779    S  23063      N        501      V            1     2020-03-02   \n",
       "41780    S  23063      N        501      Y         2419     2020-06-01   \n",
       "41781    S  23064      N        501      S            8     2020-06-11   \n",
       "41782    S  23064      N        501      T           54     2020-02-17   \n",
       "41783    S  23064      N        501      V            1     2020-03-02   \n",
       "41784    S  23065      N        501      N            5     2020-07-14   \n",
       "41785    S  23065      N        501      T            5     2020-02-17   \n",
       "41786    S  23065      N        501      V            1     2020-03-02   \n",
       "\n",
       "      last_detected  num_locations  \\\n",
       "41777    2020-01-24              1   \n",
       "41778    2020-06-23              0   \n",
       "41779    2020-03-02              1   \n",
       "41780    2020-12-19             20   \n",
       "41781    2020-11-18              1   \n",
       "41782    2020-12-18              6   \n",
       "41783    2020-03-02              1   \n",
       "41784    2020-11-06              0   \n",
       "41785    2020-02-17              0   \n",
       "41786    2020-03-02              1   \n",
       "\n",
       "                                               locations  num_countries  \\\n",
       "41777                                            [Pu'Er]              1   \n",
       "41778                                              [nan]              1   \n",
       "41779                                    [Xishuangbanna]              1   \n",
       "41780  [Queens, nan, Recife, Yamhill County, Winnebag...              6   \n",
       "41781                                 [nan, Rock County]              3   \n",
       "41782  [nan, iLembe, Taylor County WI, New York City,...             11   \n",
       "41783                                    [Xishuangbanna]              1   \n",
       "41784                                              [nan]              2   \n",
       "41785                                              [nan]              1   \n",
       "41786                                    [Xishuangbanna]              1   \n",
       "\n",
       "                                               countries  \n",
       "41777                                            [China]  \n",
       "41778                                   [United Kingdom]  \n",
       "41779                                            [China]  \n",
       "41780  [USA, Australia, Brazil, United Kingdom, Denma...  \n",
       "41781                   [United Kingdom, USA, Australia]  \n",
       "41782  [China, Netherlands, Germany, South Africa, It...  \n",
       "41783                                            [China]  \n",
       "41784                        [United Kingdom, Australia]  \n",
       "41785                                            [China]  \n",
       "41786                                            [China]  "
      ]
     },
     "execution_count": 54,
     "metadata": {},
     "output_type": "execute_result"
    }
   ],
   "source": [
    "subs.loc[(subs['gene']=='S')&(subs['codon_num']==501)]"
   ]
  },
  {
   "cell_type": "code",
   "execution_count": 55,
   "metadata": {},
   "outputs": [
    {
     "data": {
      "text/plain": [
       "array([array(['USA', 'Australia', 'Brazil', 'United Kingdom', 'Denmark',\n",
       "       'South Africa'], dtype=object)], dtype=object)"
      ]
     },
     "execution_count": 55,
     "metadata": {},
     "output_type": "execute_result"
    }
   ],
   "source": [
    "subs.loc[(subs['gene']=='S')&(subs['codon_num']==501)&(subs['alt_aa']=='Y'), 'countries'].values"
   ]
  },
  {
   "cell_type": "code",
   "execution_count": 7,
   "metadata": {},
   "outputs": [
    {
     "ename": "KeyboardInterrupt",
     "evalue": "",
     "output_type": "error",
     "traceback": [
      "\u001b[0;31m---------------------------------------------------------------------------\u001b[0m",
      "\u001b[0;31mKeyboardInterrupt\u001b[0m                         Traceback (most recent call last)",
      "\u001b[0;32m<ipython-input-7-e8050b116bda>\u001b[0m in \u001b[0;36m<module>\u001b[0;34m\u001b[0m\n\u001b[0;32m----> 1\u001b[0;31m \u001b[0midentify_replacements\u001b[0m\u001b[0;34m(\u001b[0m\u001b[0mseqs_fp\u001b[0m\u001b[0;34m,\u001b[0m \u001b[0mmeta_fp\u001b[0m\u001b[0;34m)\u001b[0m\u001b[0;34m\u001b[0m\u001b[0;34m\u001b[0m\u001b[0m\n\u001b[0m",
      "\u001b[0;32m~/code/bjorn/mutations.py\u001b[0m in \u001b[0;36midentify_replacements\u001b[0;34m(input_fasta, meta_fp, patient_zero, gene2pos)\u001b[0m\n\u001b[1;32m     41\u001b[0m                 .rename(columns={'index': 'idx'}))\n\u001b[1;32m     42\u001b[0m     \u001b[0;31m# for each sample, identify list of substitutions (position:alt)\u001b[0m\u001b[0;34m\u001b[0m\u001b[0;34m\u001b[0m\u001b[0;34m\u001b[0m\u001b[0m\n\u001b[0;32m---> 43\u001b[0;31m     \u001b[0mseqsdf\u001b[0m\u001b[0;34m[\u001b[0m\u001b[0;34m'replacements'\u001b[0m\u001b[0;34m]\u001b[0m \u001b[0;34m=\u001b[0m \u001b[0mseqsdf\u001b[0m\u001b[0;34m[\u001b[0m\u001b[0;34m'sequence'\u001b[0m\u001b[0;34m]\u001b[0m\u001b[0;34m.\u001b[0m\u001b[0mapply\u001b[0m\u001b[0;34m(\u001b[0m\u001b[0mfind_replacements\u001b[0m\u001b[0;34m,\u001b[0m \u001b[0margs\u001b[0m\u001b[0;34m=\u001b[0m\u001b[0;34m(\u001b[0m\u001b[0mref_seq\u001b[0m\u001b[0;34m,\u001b[0m\u001b[0;34m)\u001b[0m\u001b[0;34m)\u001b[0m\u001b[0;34m\u001b[0m\u001b[0;34m\u001b[0m\u001b[0m\n\u001b[0m\u001b[1;32m     44\u001b[0m     \u001b[0;31m# wide-to-long data manipulation\u001b[0m\u001b[0;34m\u001b[0m\u001b[0;34m\u001b[0m\u001b[0;34m\u001b[0m\u001b[0m\n\u001b[1;32m     45\u001b[0m     \u001b[0mseqsdf\u001b[0m \u001b[0;34m=\u001b[0m \u001b[0mseqsdf\u001b[0m\u001b[0;34m.\u001b[0m\u001b[0mexplode\u001b[0m\u001b[0;34m(\u001b[0m\u001b[0;34m'replacements'\u001b[0m\u001b[0;34m)\u001b[0m\u001b[0;34m\u001b[0m\u001b[0;34m\u001b[0m\u001b[0m\n",
      "\u001b[0;32m~/anaconda3/lib/python3.8/site-packages/pandas/core/series.py\u001b[0m in \u001b[0;36mapply\u001b[0;34m(self, func, convert_dtype, args, **kwds)\u001b[0m\n\u001b[1;32m   4198\u001b[0m             \u001b[0;32melse\u001b[0m\u001b[0;34m:\u001b[0m\u001b[0;34m\u001b[0m\u001b[0;34m\u001b[0m\u001b[0m\n\u001b[1;32m   4199\u001b[0m                 \u001b[0mvalues\u001b[0m \u001b[0;34m=\u001b[0m \u001b[0mself\u001b[0m\u001b[0;34m.\u001b[0m\u001b[0mastype\u001b[0m\u001b[0;34m(\u001b[0m\u001b[0mobject\u001b[0m\u001b[0;34m)\u001b[0m\u001b[0;34m.\u001b[0m\u001b[0m_values\u001b[0m\u001b[0;34m\u001b[0m\u001b[0;34m\u001b[0m\u001b[0m\n\u001b[0;32m-> 4200\u001b[0;31m                 \u001b[0mmapped\u001b[0m \u001b[0;34m=\u001b[0m \u001b[0mlib\u001b[0m\u001b[0;34m.\u001b[0m\u001b[0mmap_infer\u001b[0m\u001b[0;34m(\u001b[0m\u001b[0mvalues\u001b[0m\u001b[0;34m,\u001b[0m \u001b[0mf\u001b[0m\u001b[0;34m,\u001b[0m \u001b[0mconvert\u001b[0m\u001b[0;34m=\u001b[0m\u001b[0mconvert_dtype\u001b[0m\u001b[0;34m)\u001b[0m\u001b[0;34m\u001b[0m\u001b[0;34m\u001b[0m\u001b[0m\n\u001b[0m\u001b[1;32m   4201\u001b[0m \u001b[0;34m\u001b[0m\u001b[0m\n\u001b[1;32m   4202\u001b[0m         \u001b[0;32mif\u001b[0m \u001b[0mlen\u001b[0m\u001b[0;34m(\u001b[0m\u001b[0mmapped\u001b[0m\u001b[0;34m)\u001b[0m \u001b[0;32mand\u001b[0m \u001b[0misinstance\u001b[0m\u001b[0;34m(\u001b[0m\u001b[0mmapped\u001b[0m\u001b[0;34m[\u001b[0m\u001b[0;36m0\u001b[0m\u001b[0;34m]\u001b[0m\u001b[0;34m,\u001b[0m \u001b[0mSeries\u001b[0m\u001b[0;34m)\u001b[0m\u001b[0;34m:\u001b[0m\u001b[0;34m\u001b[0m\u001b[0;34m\u001b[0m\u001b[0m\n",
      "\u001b[0;32mpandas/_libs/lib.pyx\u001b[0m in \u001b[0;36mpandas._libs.lib.map_infer\u001b[0;34m()\u001b[0m\n",
      "\u001b[0;32m~/anaconda3/lib/python3.8/site-packages/pandas/core/series.py\u001b[0m in \u001b[0;36mf\u001b[0;34m(x)\u001b[0m\n\u001b[1;32m   4183\u001b[0m \u001b[0;34m\u001b[0m\u001b[0m\n\u001b[1;32m   4184\u001b[0m             \u001b[0;32mdef\u001b[0m \u001b[0mf\u001b[0m\u001b[0;34m(\u001b[0m\u001b[0mx\u001b[0m\u001b[0;34m)\u001b[0m\u001b[0;34m:\u001b[0m\u001b[0;34m\u001b[0m\u001b[0;34m\u001b[0m\u001b[0m\n\u001b[0;32m-> 4185\u001b[0;31m                 \u001b[0;32mreturn\u001b[0m \u001b[0mfunc\u001b[0m\u001b[0;34m(\u001b[0m\u001b[0mx\u001b[0m\u001b[0;34m,\u001b[0m \u001b[0;34m*\u001b[0m\u001b[0margs\u001b[0m\u001b[0;34m,\u001b[0m \u001b[0;34m**\u001b[0m\u001b[0mkwds\u001b[0m\u001b[0;34m)\u001b[0m\u001b[0;34m\u001b[0m\u001b[0;34m\u001b[0m\u001b[0m\n\u001b[0m\u001b[1;32m   4186\u001b[0m \u001b[0;34m\u001b[0m\u001b[0m\n\u001b[1;32m   4187\u001b[0m         \u001b[0;32melse\u001b[0m\u001b[0;34m:\u001b[0m\u001b[0;34m\u001b[0m\u001b[0;34m\u001b[0m\u001b[0m\n",
      "\u001b[0;32m~/code/bjorn/mutations.py\u001b[0m in \u001b[0;36mfind_replacements\u001b[0;34m(x, ref)\u001b[0m\n\u001b[1;32m     92\u001b[0m \u001b[0;34m\u001b[0m\u001b[0m\n\u001b[1;32m     93\u001b[0m \u001b[0;32mdef\u001b[0m \u001b[0mfind_replacements\u001b[0m\u001b[0;34m(\u001b[0m\u001b[0mx\u001b[0m\u001b[0;34m,\u001b[0m \u001b[0mref\u001b[0m\u001b[0;34m)\u001b[0m\u001b[0;34m:\u001b[0m\u001b[0;34m\u001b[0m\u001b[0;34m\u001b[0m\u001b[0m\n\u001b[0;32m---> 94\u001b[0;31m     return [f'{i}:{n}' for i, n in enumerate(x) \n\u001b[0m\u001b[1;32m     95\u001b[0m             if n!=ref[i] and n!='-' and n!='n']\n\u001b[1;32m     96\u001b[0m \u001b[0;34m\u001b[0m\u001b[0m\n",
      "\u001b[0;32m~/code/bjorn/mutations.py\u001b[0m in \u001b[0;36m<listcomp>\u001b[0;34m(.0)\u001b[0m\n\u001b[1;32m     92\u001b[0m \u001b[0;34m\u001b[0m\u001b[0m\n\u001b[1;32m     93\u001b[0m \u001b[0;32mdef\u001b[0m \u001b[0mfind_replacements\u001b[0m\u001b[0;34m(\u001b[0m\u001b[0mx\u001b[0m\u001b[0;34m,\u001b[0m \u001b[0mref\u001b[0m\u001b[0;34m)\u001b[0m\u001b[0;34m:\u001b[0m\u001b[0;34m\u001b[0m\u001b[0;34m\u001b[0m\u001b[0m\n\u001b[0;32m---> 94\u001b[0;31m     return [f'{i}:{n}' for i, n in enumerate(x) \n\u001b[0m\u001b[1;32m     95\u001b[0m             if n!=ref[i] and n!='-' and n!='n']\n\u001b[1;32m     96\u001b[0m \u001b[0;34m\u001b[0m\u001b[0m\n",
      "\u001b[0;31mKeyboardInterrupt\u001b[0m: "
     ]
    }
   ],
   "source": [
    "identify_replacements(seqs_fp, meta_fp)"
   ]
  },
  {
   "cell_type": "code",
   "execution_count": null,
   "metadata": {},
   "outputs": [],
   "source": []
  },
  {
   "cell_type": "code",
   "execution_count": null,
   "metadata": {},
   "outputs": [],
   "source": []
  },
  {
   "cell_type": "code",
   "execution_count": null,
   "metadata": {},
   "outputs": [],
   "source": []
  },
  {
   "cell_type": "code",
   "execution_count": null,
   "metadata": {},
   "outputs": [],
   "source": []
  },
  {
   "cell_type": "code",
   "execution_count": null,
   "metadata": {},
   "outputs": [],
   "source": [
    "align_fasta_reference(seqs_fp, num_cpus=25, ref_fp=ref_fp)"
   ]
  },
  {
   "cell_type": "markdown",
   "metadata": {},
   "source": [
    "## CNS Mutations Report"
   ]
  },
  {
   "cell_type": "code",
   "execution_count": 6,
   "metadata": {},
   "outputs": [],
   "source": [
    "analysis_folder = Path('/home/al/code/HCoV-19-Genomics/consensus_sequences/')\n",
    "meta_fp = Path('/home/al/code/HCoV-19-Genomics/metadata.csv')\n",
    "ref_path = Path('/home/gk/code/hCoV19/db/NC045512.fasta')\n",
    "patient_zero = 'NC_045512.2'\n",
    "in_fp = '/home/al/analysis/mutations/S501Y/msa_aligned.fa'"
   ]
  },
  {
   "cell_type": "code",
   "execution_count": 3,
   "metadata": {},
   "outputs": [],
   "source": [
    "subs = identify_replacements(in_fp, meta_fp)"
   ]
  },
  {
   "cell_type": "code",
   "execution_count": 4,
   "metadata": {},
   "outputs": [
    {
     "data": {
      "text/html": [
       "<div>\n",
       "<style scoped>\n",
       "    .dataframe tbody tr th:only-of-type {\n",
       "        vertical-align: middle;\n",
       "    }\n",
       "\n",
       "    .dataframe tbody tr th {\n",
       "        vertical-align: top;\n",
       "    }\n",
       "\n",
       "    .dataframe thead th {\n",
       "        text-align: right;\n",
       "    }\n",
       "</style>\n",
       "<table border=\"1\" class=\"dataframe\">\n",
       "  <thead>\n",
       "    <tr style=\"text-align: right;\">\n",
       "      <th></th>\n",
       "      <th>gene</th>\n",
       "      <th>pos</th>\n",
       "      <th>ref_aa</th>\n",
       "      <th>codon_num</th>\n",
       "      <th>alt_aa</th>\n",
       "      <th>num_samples</th>\n",
       "      <th>first_detected</th>\n",
       "      <th>last_detected</th>\n",
       "      <th>locations</th>\n",
       "      <th>location_counts</th>\n",
       "      <th>samples</th>\n",
       "    </tr>\n",
       "  </thead>\n",
       "  <tbody>\n",
       "    <tr>\n",
       "      <th>0</th>\n",
       "      <td>3UTR</td>\n",
       "      <td>29679</td>\n",
       "      <td>S</td>\n",
       "      <td>2</td>\n",
       "      <td>F</td>\n",
       "      <td>2</td>\n",
       "      <td>2020-07-14</td>\n",
       "      <td>2020-10-07</td>\n",
       "      <td>USA/California/San Diego</td>\n",
       "      <td>2</td>\n",
       "      <td>[SEARCH-3119-SAN, SEARCH-4245-SAN]</td>\n",
       "    </tr>\n",
       "    <tr>\n",
       "      <th>1</th>\n",
       "      <td>3UTR</td>\n",
       "      <td>29681</td>\n",
       "      <td>L</td>\n",
       "      <td>3</td>\n",
       "      <td>L</td>\n",
       "      <td>2</td>\n",
       "      <td>2020-07-11</td>\n",
       "      <td>2020-07-21</td>\n",
       "      <td>[USA/California/Los Angeles, USA/California/Sa...</td>\n",
       "      <td>[1, 1]</td>\n",
       "      <td>[SEARCH-2600-SAN, SEARCH-2692-LAX]</td>\n",
       "    </tr>\n",
       "    <tr>\n",
       "      <th>2</th>\n",
       "      <td>3UTR</td>\n",
       "      <td>29688</td>\n",
       "      <td>S</td>\n",
       "      <td>5</td>\n",
       "      <td>I</td>\n",
       "      <td>4</td>\n",
       "      <td>2020-03-25</td>\n",
       "      <td>2020-10-26</td>\n",
       "      <td>USA/California/San Diego</td>\n",
       "      <td>4</td>\n",
       "      <td>[SEARCH-0113-SAN, SEARCH-2855-SAN, SEARCH-3609...</td>\n",
       "    </tr>\n",
       "    <tr>\n",
       "      <th>3</th>\n",
       "      <td>3UTR</td>\n",
       "      <td>29690</td>\n",
       "      <td>V</td>\n",
       "      <td>6</td>\n",
       "      <td>L</td>\n",
       "      <td>1</td>\n",
       "      <td>2020-08-13</td>\n",
       "      <td>2020-08-13</td>\n",
       "      <td>USA/California/San Diego</td>\n",
       "      <td>1</td>\n",
       "      <td>[SEARCH-4455-SAN]</td>\n",
       "    </tr>\n",
       "    <tr>\n",
       "      <th>4</th>\n",
       "      <td>3UTR</td>\n",
       "      <td>29692</td>\n",
       "      <td>V</td>\n",
       "      <td>6</td>\n",
       "      <td>V</td>\n",
       "      <td>1</td>\n",
       "      <td>2020-10-03</td>\n",
       "      <td>2020-10-03</td>\n",
       "      <td>Jordan/Amman</td>\n",
       "      <td>1</td>\n",
       "      <td>[SEARCH-4034-JOR]</td>\n",
       "    </tr>\n",
       "  </tbody>\n",
       "</table>\n",
       "</div>"
      ],
      "text/plain": [
       "   gene    pos ref_aa  codon_num alt_aa  num_samples first_detected  \\\n",
       "0  3UTR  29679      S          2      F            2     2020-07-14   \n",
       "1  3UTR  29681      L          3      L            2     2020-07-11   \n",
       "2  3UTR  29688      S          5      I            4     2020-03-25   \n",
       "3  3UTR  29690      V          6      L            1     2020-08-13   \n",
       "4  3UTR  29692      V          6      V            1     2020-10-03   \n",
       "\n",
       "  last_detected                                          locations  \\\n",
       "0    2020-10-07                           USA/California/San Diego   \n",
       "1    2020-07-21  [USA/California/Los Angeles, USA/California/Sa...   \n",
       "2    2020-10-26                           USA/California/San Diego   \n",
       "3    2020-08-13                           USA/California/San Diego   \n",
       "4    2020-10-03                                       Jordan/Amman   \n",
       "\n",
       "  location_counts                                            samples  \n",
       "0               2                 [SEARCH-3119-SAN, SEARCH-4245-SAN]  \n",
       "1          [1, 1]                 [SEARCH-2600-SAN, SEARCH-2692-LAX]  \n",
       "2               4  [SEARCH-0113-SAN, SEARCH-2855-SAN, SEARCH-3609...  \n",
       "3               1                                  [SEARCH-4455-SAN]  \n",
       "4               1                                  [SEARCH-4034-JOR]  "
      ]
     },
     "execution_count": 4,
     "metadata": {},
     "output_type": "execute_result"
    }
   ],
   "source": [
    "subs.head()"
   ]
  },
  {
   "cell_type": "code",
   "execution_count": 5,
   "metadata": {},
   "outputs": [
    {
     "data": {
      "text/html": [
       "<div>\n",
       "<style scoped>\n",
       "    .dataframe tbody tr th:only-of-type {\n",
       "        vertical-align: middle;\n",
       "    }\n",
       "\n",
       "    .dataframe tbody tr th {\n",
       "        vertical-align: top;\n",
       "    }\n",
       "\n",
       "    .dataframe thead th {\n",
       "        text-align: right;\n",
       "    }\n",
       "</style>\n",
       "<table border=\"1\" class=\"dataframe\">\n",
       "  <thead>\n",
       "    <tr style=\"text-align: right;\">\n",
       "      <th></th>\n",
       "      <th>type</th>\n",
       "      <th>gene</th>\n",
       "      <th>absolute_coords</th>\n",
       "      <th>del_len</th>\n",
       "      <th>pos</th>\n",
       "      <th>ref_aa</th>\n",
       "      <th>codon_num</th>\n",
       "      <th>num_samples</th>\n",
       "      <th>first_detected</th>\n",
       "      <th>last_detected</th>\n",
       "      <th>locations</th>\n",
       "      <th>location_counts</th>\n",
       "      <th>samples</th>\n",
       "      <th>ref_codon</th>\n",
       "      <th>prev_5nts</th>\n",
       "      <th>next_5nts</th>\n",
       "    </tr>\n",
       "  </thead>\n",
       "  <tbody>\n",
       "    <tr>\n",
       "      <th>30</th>\n",
       "      <td>deletion</td>\n",
       "      <td>ORF7a</td>\n",
       "      <td>27538:27572</td>\n",
       "      <td>35</td>\n",
       "      <td>27538</td>\n",
       "      <td>L</td>\n",
       "      <td>49</td>\n",
       "      <td>1</td>\n",
       "      <td>2020-04-28</td>\n",
       "      <td>2020-04-28</td>\n",
       "      <td>MEX/Baja California/Tijuana</td>\n",
       "      <td>1</td>\n",
       "      <td>[hCoV-19/MEX/SEARCH-1480-TIJ/2020]</td>\n",
       "      <td>CTA</td>\n",
       "      <td>tcctc</td>\n",
       "      <td>actca</td>\n",
       "    </tr>\n",
       "    <tr>\n",
       "      <th>27</th>\n",
       "      <td>deletion</td>\n",
       "      <td>ORF6</td>\n",
       "      <td>27264:27290</td>\n",
       "      <td>27</td>\n",
       "      <td>27264</td>\n",
       "      <td>F</td>\n",
       "      <td>22</td>\n",
       "      <td>1</td>\n",
       "      <td>2020-07-28</td>\n",
       "      <td>2020-07-28</td>\n",
       "      <td>USA/California/San Diego</td>\n",
       "      <td>1</td>\n",
       "      <td>[hCoV-19/USA/SEARCH-3236-SAN/2020]</td>\n",
       "      <td>TTT</td>\n",
       "      <td>ggact</td>\n",
       "      <td>tacat</td>\n",
       "    </tr>\n",
       "    <tr>\n",
       "      <th>28</th>\n",
       "      <td>deletion</td>\n",
       "      <td>ORF6</td>\n",
       "      <td>27266:27293</td>\n",
       "      <td>28</td>\n",
       "      <td>27266</td>\n",
       "      <td>F</td>\n",
       "      <td>22</td>\n",
       "      <td>1</td>\n",
       "      <td>2020-04-23</td>\n",
       "      <td>2020-04-23</td>\n",
       "      <td>USA/California/San Diego</td>\n",
       "      <td>1</td>\n",
       "      <td>[hCoV-19/USA/SEARCH-1921-SAN/2020]</td>\n",
       "      <td>TTT</td>\n",
       "      <td>acttt</td>\n",
       "      <td>atcat</td>\n",
       "    </tr>\n",
       "    <tr>\n",
       "      <th>29</th>\n",
       "      <td>deletion</td>\n",
       "      <td>ORF7a</td>\n",
       "      <td>27498:27531</td>\n",
       "      <td>34</td>\n",
       "      <td>27498</td>\n",
       "      <td>S</td>\n",
       "      <td>36</td>\n",
       "      <td>1</td>\n",
       "      <td>2020-05-12</td>\n",
       "      <td>2020-05-12</td>\n",
       "      <td>USA/California/Imperial</td>\n",
       "      <td>1</td>\n",
       "      <td>[hCoV-19/USA/SEARCH-0573-IPL/2020]</td>\n",
       "      <td>TCT</td>\n",
       "      <td>cttgc</td>\n",
       "      <td>atcct</td>\n",
       "    </tr>\n",
       "    <tr>\n",
       "      <th>59</th>\n",
       "      <td>deletion</td>\n",
       "      <td>ORF1ab</td>\n",
       "      <td>6656:6679</td>\n",
       "      <td>24</td>\n",
       "      <td>6656</td>\n",
       "      <td>N</td>\n",
       "      <td>2131</td>\n",
       "      <td>1</td>\n",
       "      <td>2020-06-13</td>\n",
       "      <td>2020-06-13</td>\n",
       "      <td>USA/California/San Diego</td>\n",
       "      <td>1</td>\n",
       "      <td>[hCoV-19/USA/SEARCH-3559-SAN/2020]</td>\n",
       "      <td>AAT</td>\n",
       "      <td>tgtta</td>\n",
       "      <td>ctaat</td>\n",
       "    </tr>\n",
       "    <tr>\n",
       "      <th>...</th>\n",
       "      <td>...</td>\n",
       "      <td>...</td>\n",
       "      <td>...</td>\n",
       "      <td>...</td>\n",
       "      <td>...</td>\n",
       "      <td>...</td>\n",
       "      <td>...</td>\n",
       "      <td>...</td>\n",
       "      <td>...</td>\n",
       "      <td>...</td>\n",
       "      <td>...</td>\n",
       "      <td>...</td>\n",
       "      <td>...</td>\n",
       "      <td>...</td>\n",
       "      <td>...</td>\n",
       "      <td>...</td>\n",
       "    </tr>\n",
       "    <tr>\n",
       "      <th>24</th>\n",
       "      <td>deletion</td>\n",
       "      <td>ORF3a</td>\n",
       "      <td>26158:26161</td>\n",
       "      <td>4</td>\n",
       "      <td>26158</td>\n",
       "      <td>V</td>\n",
       "      <td>256</td>\n",
       "      <td>9</td>\n",
       "      <td>2020-07-17</td>\n",
       "      <td>2020-09-14</td>\n",
       "      <td>USA/California/San Diego</td>\n",
       "      <td>9</td>\n",
       "      <td>[hCoV-19/USA/SEARCH-2907-SAN/2020, hCoV-19/USA...</td>\n",
       "      <td>GTT</td>\n",
       "      <td>agttg</td>\n",
       "      <td>tccag</td>\n",
       "    </tr>\n",
       "    <tr>\n",
       "      <th>16</th>\n",
       "      <td>deletion</td>\n",
       "      <td>ORF1ab</td>\n",
       "      <td>516:518</td>\n",
       "      <td>3</td>\n",
       "      <td>516</td>\n",
       "      <td>V</td>\n",
       "      <td>84</td>\n",
       "      <td>10</td>\n",
       "      <td>2020-07-22</td>\n",
       "      <td>2020-08-01</td>\n",
       "      <td>USA/California/San Diego</td>\n",
       "      <td>10</td>\n",
       "      <td>[hCoV-19/USA/SEARCH-4342-SAN/2020, hCoV-19/USA...</td>\n",
       "      <td>GTT</td>\n",
       "      <td>catgt</td>\n",
       "      <td>ggttg</td>\n",
       "    </tr>\n",
       "    <tr>\n",
       "      <th>56</th>\n",
       "      <td>deletion</td>\n",
       "      <td>ORF1ab</td>\n",
       "      <td>686:694</td>\n",
       "      <td>9</td>\n",
       "      <td>686</td>\n",
       "      <td>K</td>\n",
       "      <td>141</td>\n",
       "      <td>17</td>\n",
       "      <td>2020-03-31</td>\n",
       "      <td>2020-10-03</td>\n",
       "      <td>[Jordan/Amman, USA/California/San Diego, USA/L...</td>\n",
       "      <td>[2, 13, 2]</td>\n",
       "      <td>[hCoV-19/USA/SEARCH-0264-NBG/2020, hCoV-19/USA...</td>\n",
       "      <td>AAG</td>\n",
       "      <td>tctaa</td>\n",
       "      <td>actta</td>\n",
       "    </tr>\n",
       "    <tr>\n",
       "      <th>51</th>\n",
       "      <td>deletion</td>\n",
       "      <td>N</td>\n",
       "      <td>28890:28901</td>\n",
       "      <td>12</td>\n",
       "      <td>28890</td>\n",
       "      <td>S</td>\n",
       "      <td>206</td>\n",
       "      <td>23</td>\n",
       "      <td>2020-06-16</td>\n",
       "      <td>2020-08-06</td>\n",
       "      <td>USA/California/San Diego</td>\n",
       "      <td>23</td>\n",
       "      <td>[hCoV-19/USA/SEARCH-2285-SAN/2020, hCoV-19/USA...</td>\n",
       "      <td>TCT</td>\n",
       "      <td>acttc</td>\n",
       "      <td>ggctg</td>\n",
       "    </tr>\n",
       "    <tr>\n",
       "      <th>46</th>\n",
       "      <td>deletion</td>\n",
       "      <td>ORF8</td>\n",
       "      <td>28090:28092</td>\n",
       "      <td>3</td>\n",
       "      <td>28090</td>\n",
       "      <td>G</td>\n",
       "      <td>66</td>\n",
       "      <td>27</td>\n",
       "      <td>2020-09-30</td>\n",
       "      <td>2020-10-03</td>\n",
       "      <td>Jordan/Amman</td>\n",
       "      <td>27</td>\n",
       "      <td>[hCoV-19/JOR/SEARCH-3903-JOR/2020, hCoV-19/JOR...</td>\n",
       "      <td>GGT</td>\n",
       "      <td>gctgg</td>\n",
       "      <td>taaat</td>\n",
       "    </tr>\n",
       "  </tbody>\n",
       "</table>\n",
       "<p>61 rows × 16 columns</p>\n",
       "</div>"
      ],
      "text/plain": [
       "        type    gene absolute_coords  del_len    pos ref_aa  codon_num  \\\n",
       "30  deletion   ORF7a     27538:27572       35  27538      L         49   \n",
       "27  deletion    ORF6     27264:27290       27  27264      F         22   \n",
       "28  deletion    ORF6     27266:27293       28  27266      F         22   \n",
       "29  deletion   ORF7a     27498:27531       34  27498      S         36   \n",
       "59  deletion  ORF1ab       6656:6679       24   6656      N       2131   \n",
       "..       ...     ...             ...      ...    ...    ...        ...   \n",
       "24  deletion   ORF3a     26158:26161        4  26158      V        256   \n",
       "16  deletion  ORF1ab         516:518        3    516      V         84   \n",
       "56  deletion  ORF1ab         686:694        9    686      K        141   \n",
       "51  deletion       N     28890:28901       12  28890      S        206   \n",
       "46  deletion    ORF8     28090:28092        3  28090      G         66   \n",
       "\n",
       "    num_samples first_detected last_detected  \\\n",
       "30            1     2020-04-28    2020-04-28   \n",
       "27            1     2020-07-28    2020-07-28   \n",
       "28            1     2020-04-23    2020-04-23   \n",
       "29            1     2020-05-12    2020-05-12   \n",
       "59            1     2020-06-13    2020-06-13   \n",
       "..          ...            ...           ...   \n",
       "24            9     2020-07-17    2020-09-14   \n",
       "16           10     2020-07-22    2020-08-01   \n",
       "56           17     2020-03-31    2020-10-03   \n",
       "51           23     2020-06-16    2020-08-06   \n",
       "46           27     2020-09-30    2020-10-03   \n",
       "\n",
       "                                            locations location_counts  \\\n",
       "30                        MEX/Baja California/Tijuana               1   \n",
       "27                           USA/California/San Diego               1   \n",
       "28                           USA/California/San Diego               1   \n",
       "29                            USA/California/Imperial               1   \n",
       "59                           USA/California/San Diego               1   \n",
       "..                                                ...             ...   \n",
       "24                           USA/California/San Diego               9   \n",
       "16                           USA/California/San Diego              10   \n",
       "56  [Jordan/Amman, USA/California/San Diego, USA/L...      [2, 13, 2]   \n",
       "51                           USA/California/San Diego              23   \n",
       "46                                       Jordan/Amman              27   \n",
       "\n",
       "                                              samples ref_codon prev_5nts  \\\n",
       "30                 [hCoV-19/MEX/SEARCH-1480-TIJ/2020]       CTA     tcctc   \n",
       "27                 [hCoV-19/USA/SEARCH-3236-SAN/2020]       TTT     ggact   \n",
       "28                 [hCoV-19/USA/SEARCH-1921-SAN/2020]       TTT     acttt   \n",
       "29                 [hCoV-19/USA/SEARCH-0573-IPL/2020]       TCT     cttgc   \n",
       "59                 [hCoV-19/USA/SEARCH-3559-SAN/2020]       AAT     tgtta   \n",
       "..                                                ...       ...       ...   \n",
       "24  [hCoV-19/USA/SEARCH-2907-SAN/2020, hCoV-19/USA...       GTT     agttg   \n",
       "16  [hCoV-19/USA/SEARCH-4342-SAN/2020, hCoV-19/USA...       GTT     catgt   \n",
       "56  [hCoV-19/USA/SEARCH-0264-NBG/2020, hCoV-19/USA...       AAG     tctaa   \n",
       "51  [hCoV-19/USA/SEARCH-2285-SAN/2020, hCoV-19/USA...       TCT     acttc   \n",
       "46  [hCoV-19/JOR/SEARCH-3903-JOR/2020, hCoV-19/JOR...       GGT     gctgg   \n",
       "\n",
       "   next_5nts  \n",
       "30     actca  \n",
       "27     tacat  \n",
       "28     atcat  \n",
       "29     atcct  \n",
       "59     ctaat  \n",
       "..       ...  \n",
       "24     tccag  \n",
       "16     ggttg  \n",
       "56     actta  \n",
       "51     ggctg  \n",
       "46     taaat  \n",
       "\n",
       "[61 rows x 16 columns]"
      ]
     },
     "execution_count": 5,
     "metadata": {},
     "output_type": "execute_result"
    }
   ],
   "source": [
    "dels = identify_deletions(in_fp, meta_fp, patient_zero)\n",
    "dels"
   ]
  },
  {
   "cell_type": "code",
   "execution_count": 3,
   "metadata": {},
   "outputs": [
    {
     "ename": "NameError",
     "evalue": "name 'dels' is not defined",
     "output_type": "error",
     "traceback": [
      "\u001b[0;31m---------------------------------------------------------------------------\u001b[0m",
      "\u001b[0;31mNameError\u001b[0m                                 Traceback (most recent call last)",
      "\u001b[0;32m<ipython-input-3-c4aae0949dc6>\u001b[0m in \u001b[0;36m<module>\u001b[0;34m\u001b[0m\n\u001b[0;32m----> 1\u001b[0;31m \u001b[0mdels\u001b[0m\u001b[0;34m[\u001b[0m\u001b[0mdels\u001b[0m\u001b[0;34m[\u001b[0m\u001b[0;34m'gene'\u001b[0m\u001b[0;34m]\u001b[0m\u001b[0;34m==\u001b[0m\u001b[0;34m'S'\u001b[0m\u001b[0;34m]\u001b[0m\u001b[0;34m.\u001b[0m\u001b[0msort_values\u001b[0m\u001b[0;34m(\u001b[0m\u001b[0;34m'num_samples'\u001b[0m\u001b[0;34m,\u001b[0m \u001b[0mascending\u001b[0m\u001b[0;34m=\u001b[0m\u001b[0;32mFalse\u001b[0m\u001b[0;34m)\u001b[0m\u001b[0;31m#.to_csv('S_deletions_consensus.csv', index=False)\u001b[0m\u001b[0;34m\u001b[0m\u001b[0;34m\u001b[0m\u001b[0m\n\u001b[0m",
      "\u001b[0;31mNameError\u001b[0m: name 'dels' is not defined"
     ]
    }
   ],
   "source": [
    "dels[dels['gene']=='S'].sort_values('num_samples', ascending=False)#.to_csv('S_deletions_consensus.csv', index=False)"
   ]
  },
  {
   "cell_type": "code",
   "execution_count": 4,
   "metadata": {},
   "outputs": [],
   "source": [
    "identify_insertions(in_fp, patient_zero).to_csv('test.csv', index=False)"
   ]
  },
  {
   "cell_type": "markdown",
   "metadata": {},
   "source": [
    "## dev "
   ]
  },
  {
   "cell_type": "code",
   "execution_count": 10,
   "metadata": {},
   "outputs": [],
   "source": [
    "GENE2POS = {\n",
    "            '5UTR': {'start': 0, 'end': 265},\n",
    "            'ORF1ab': {'start': 265, 'end': 21555},\n",
    "            'S': {'start': 21562, 'end': 25384},\n",
    "            'ORF3a': {'start': 25392, 'end': 26220},\n",
    "            'E': {'start': 26244, 'end': 26472},\n",
    "            'M': {'start': 26522, 'end': 27191},\n",
    "            'ORF6': {'start': 27201, 'end': 27387},\n",
    "            'ORF7a': {'start': 27393, 'end': 27759},\n",
    "            'ORF7b': {'start': 27755, 'end': 27887},\n",
    "            'ORF8': {'start': 27893, 'end': 28259},\n",
    "            'N': {'start': 28273, 'end': 29533},\n",
    "            'ORF10': {'start': 29557, 'end': 29674},\n",
    "            '3UTR': {'start': 29674, 'end': 29902}\n",
    "           }"
   ]
  },
  {
   "cell_type": "code",
   "execution_count": 11,
   "metadata": {},
   "outputs": [],
   "source": [
    "in_dir = '/home/al/analysis/mutations/fa/'\n",
    "out_dir = '/home/al/analysis/mutations/msa/'"
   ]
  },
  {
   "cell_type": "code",
   "execution_count": 14,
   "metadata": {},
   "outputs": [],
   "source": [
    "!rm -r /home/al/analysis/mutations\n",
    "!mkdir /home/al/analysis/mutations\n",
    "!mkdir /home/al/analysis/mutations/fa"
   ]
  },
  {
   "cell_type": "code",
   "execution_count": 15,
   "metadata": {},
   "outputs": [],
   "source": [
    "for filename in analysis_folder.listdir():\n",
    "    if (filename.endswith('fa') or filename.endswith('fasta')):\n",
    "        copy(filename, '/home/al/analysis/mutations/fa/')\n",
    "#         print(filename)"
   ]
  },
  {
   "cell_type": "code",
   "execution_count": 179,
   "metadata": {},
   "outputs": [
    {
     "data": {
      "text/plain": [
       "'/home/al/analysis/mutations/fa/NC045512.fasta'"
      ]
     },
     "execution_count": 179,
     "metadata": {},
     "output_type": "execute_result"
    }
   ],
   "source": [
    "copy(ref_path, in_dir)"
   ]
  },
  {
   "cell_type": "code",
   "execution_count": 180,
   "metadata": {},
   "outputs": [
    {
     "data": {
      "text/plain": [
       "'/home/al/analysis/mutations/msa.fa'"
      ]
     },
     "execution_count": 180,
     "metadata": {},
     "output_type": "execute_result"
    }
   ],
   "source": [
    "in_dir = '/home/al/analysis/mutations/fa/'\n",
    "out_dir = '/home/al/analysis/mutations/msa'\n",
    "concat_fasta(in_dir, out_dir)"
   ]
  },
  {
   "cell_type": "code",
   "execution_count": 17,
   "metadata": {},
   "outputs": [
    {
     "data": {
      "text/plain": [
       "'/home/al/analysis/mutations/msa_aligned.fa'"
      ]
     },
     "execution_count": 17,
     "metadata": {},
     "output_type": "execute_result"
    }
   ],
   "source": [
    "align_fasta_reference('/home/al/analysis/mutations/msa.fa',  num_cpus=12, ref_fp=ref_path)"
   ]
  },
  {
   "cell_type": "code",
   "execution_count": 14,
   "metadata": {},
   "outputs": [],
   "source": [
    "cns = AlignIO.read('/home/al/analysis/mutations/msa_aligned.fa', 'fasta')"
   ]
  },
  {
   "cell_type": "code",
   "execution_count": 15,
   "metadata": {},
   "outputs": [],
   "source": [
    "ref_seq = get_seq(cns, patient_zero)"
   ]
  },
  {
   "cell_type": "code",
   "execution_count": 16,
   "metadata": {},
   "outputs": [
    {
     "data": {
      "text/plain": [
       "29903"
      ]
     },
     "execution_count": 16,
     "metadata": {},
     "output_type": "execute_result"
    }
   ],
   "source": [
    "len(ref_seq)"
   ]
  },
  {
   "cell_type": "code",
   "execution_count": 17,
   "metadata": {},
   "outputs": [],
   "source": [
    "seqs = get_seqs(cns, 0, 30000)"
   ]
  },
  {
   "cell_type": "code",
   "execution_count": 18,
   "metadata": {},
   "outputs": [],
   "source": [
    "seqsdf = (pd.DataFrame(index=seqs.keys(), data=seqs.values(), columns=['sequence'])\n",
    "                .reset_index().rename(columns={'index': 'idx'}))"
   ]
  },
  {
   "cell_type": "code",
   "execution_count": 19,
   "metadata": {},
   "outputs": [],
   "source": [
    "# seqsdf"
   ]
  },
  {
   "cell_type": "code",
   "execution_count": 20,
   "metadata": {},
   "outputs": [],
   "source": [
    "def find_replacements(x, ref):\n",
    "    return [f'{i}:{n}' for i, n in enumerate(x) \n",
    "            if n!=ref[i] and n!='-' and n!='n']"
   ]
  },
  {
   "cell_type": "code",
   "execution_count": 21,
   "metadata": {},
   "outputs": [],
   "source": [
    "seqsdf['replacements'] = seqsdf['sequence'].apply(find_replacements, args=(ref_seq,))"
   ]
  },
  {
   "cell_type": "code",
   "execution_count": 22,
   "metadata": {},
   "outputs": [],
   "source": [
    "seqsdf = seqsdf.explode('replacements')\n",
    "seqsdf['pos'] = -1\n",
    "seqsdf.loc[~seqsdf['replacements'].isna(), 'pos'] = seqsdf.loc[~seqsdf['replacements'].isna(), 'replacements'].apply(lambda x: int(x.split(':')[0]))\n",
    "seqsdf = seqsdf.loc[seqsdf['pos']!=-1]"
   ]
  },
  {
   "cell_type": "code",
   "execution_count": 23,
   "metadata": {},
   "outputs": [],
   "source": [
    "def compute_codon_num(x, gene2pos: dict):\n",
    "    pos = x['pos']\n",
    "    ref_pos = gene2pos[x['gene']]['start']\n",
    "    return math.ceil((pos - ref_pos + 1) / 3)"
   ]
  },
  {
   "cell_type": "code",
   "execution_count": 24,
   "metadata": {},
   "outputs": [],
   "source": [
    "seqsdf['gene'] = seqsdf['pos'].apply(map_gene_to_pos)\n",
    "seqsdf = seqsdf.loc[~seqsdf['gene'].isna()]\n",
    "seqsdf = seqsdf.loc[seqsdf['gene']!='nan']\n",
    "seqsdf['codon_num'] = seqsdf.apply(compute_codon_num, args=(GENE2POS,), axis=1)"
   ]
  },
  {
   "cell_type": "code",
   "execution_count": 25,
   "metadata": {},
   "outputs": [],
   "source": [
    "def get_ref_codon(x, ref_seq, gene2pos: dict):\n",
    "    ref_pos = gene2pos[x['gene']]['start']\n",
    "    codon_start = ref_pos + ((x['codon_num'] - 1) * 3)\n",
    "    return ref_seq[codon_start: codon_start+3].upper()\n",
    "seqsdf['ref_codon'] = seqsdf.apply(get_ref_codon, args=(ref_seq, GENE2POS), axis=1)"
   ]
  },
  {
   "cell_type": "code",
   "execution_count": 26,
   "metadata": {},
   "outputs": [],
   "source": [
    "def get_alt_codon(x, gene2pos: dict):\n",
    "    ref_pos = gene2pos[x['gene']]['start']\n",
    "    codon_start = ref_pos + ((x['codon_num'] - 1) * 3)\n",
    "    return x['sequence'][codon_start: codon_start+3].upper()\n",
    "seqsdf['alt_codon'] = seqsdf.apply(get_alt_codon, args=(GENE2POS,), axis=1)"
   ]
  },
  {
   "cell_type": "code",
   "execution_count": 27,
   "metadata": {},
   "outputs": [],
   "source": [
    "def get_aa(codon: str):\n",
    "    CODON2AA = { \n",
    "        'ATA':'I', 'ATC':'I', 'ATT':'I', 'ATG':'M', \n",
    "        'ACA':'T', 'ACC':'T', 'ACG':'T', 'ACT':'T', \n",
    "        'AAC':'N', 'AAT':'N', 'AAA':'K', 'AAG':'K', \n",
    "        'AGC':'S', 'AGT':'S', 'AGA':'R', 'AGG':'R',                  \n",
    "        'CTA':'L', 'CTC':'L', 'CTG':'L', 'CTT':'L', \n",
    "        'CCA':'P', 'CCC':'P', 'CCG':'P', 'CCT':'P', \n",
    "        'CAC':'H', 'CAT':'H', 'CAA':'Q', 'CAG':'Q', \n",
    "        'CGA':'R', 'CGC':'R', 'CGG':'R', 'CGT':'R', \n",
    "        'GTA':'V', 'GTC':'V', 'GTG':'V', 'GTT':'V', \n",
    "        'GCA':'A', 'GCC':'A', 'GCG':'A', 'GCT':'A', \n",
    "        'GAC':'D', 'GAT':'D', 'GAA':'E', 'GAG':'E', \n",
    "        'GGA':'G', 'GGC':'G', 'GGG':'G', 'GGT':'G', \n",
    "        'TCA':'S', 'TCC':'S', 'TCG':'S', 'TCT':'S', \n",
    "        'TTC':'F', 'TTT':'F', 'TTA':'L', 'TTG':'L', \n",
    "        'TAC':'Y', 'TAT':'Y', 'TAA':'_', 'TAG':'_', \n",
    "        'TGC':'C', 'TGT':'C', 'TGA':'_', 'TGG':'W', \n",
    "    } \n",
    "    return CODON2AA.get(codon, 'nan')\n",
    "seqsdf['ref_aa'] = seqsdf['ref_codon'].apply(get_aa)\n",
    "seqsdf['alt_aa'] = seqsdf['alt_codon'].apply(get_aa)\n",
    "seqsdf = seqsdf.loc[seqsdf['alt_aa']!='nan']"
   ]
  },
  {
   "cell_type": "code",
   "execution_count": 28,
   "metadata": {},
   "outputs": [
    {
     "data": {
      "text/plain": [
       "Index(['idx', 'sequence', 'replacements', 'pos', 'gene', 'codon_num',\n",
       "       'ref_codon', 'alt_codon', 'ref_aa', 'alt_aa'],\n",
       "      dtype='object')"
      ]
     },
     "execution_count": 28,
     "metadata": {},
     "output_type": "execute_result"
    }
   ],
   "source": [
    "seqsdf.columns"
   ]
  },
  {
   "cell_type": "code",
   "execution_count": 29,
   "metadata": {},
   "outputs": [
    {
     "name": "stdout",
     "output_type": "stream",
     "text": [
      "(2765,)\n",
      "(2765,)\n"
     ]
    }
   ],
   "source": [
    "meta = pd.read_csv(meta_fp)\n",
    "print(seqsdf['idx'].unique().shape)\n",
    "seqsdf = pd.merge(seqsdf, meta, left_on='idx', right_on='fasta_hdr')\n",
    "print(seqsdf['idx'].unique().shape)"
   ]
  },
  {
   "cell_type": "code",
   "execution_count": 30,
   "metadata": {},
   "outputs": [],
   "source": [
    "seqsdf = seqsdf.loc[(seqsdf['collection_date']!='Unknown') \n",
    "                   & (seqsdf['collection_date']!='1900-01-00')]\n",
    "seqsdf.loc[seqsdf['collection_date'].str.contains('/'), 'collection_date'] = seqsdf['collection_date'].apply(lambda x: x.split('/')[0])\n",
    "seqsdf['date'] = pd.to_datetime(seqsdf['collection_date'])"
   ]
  },
  {
   "cell_type": "code",
   "execution_count": 31,
   "metadata": {},
   "outputs": [
    {
     "data": {
      "text/plain": [
       "Timestamp('2020-03-04 00:00:00')"
      ]
     },
     "execution_count": 31,
     "metadata": {},
     "output_type": "execute_result"
    }
   ],
   "source": [
    "seqsdf['date'].min()"
   ]
  },
  {
   "cell_type": "code",
   "execution_count": 32,
   "metadata": {},
   "outputs": [],
   "source": [
    "# (seqsdf.groupby(['gene', 'ref_aa', 'codon_num', 'alt_aa'])\n",
    "# .agg(\n",
    "#      num_samples=('ID', 'nunique')))"
   ]
  },
  {
   "cell_type": "code",
   "execution_count": 35,
   "metadata": {},
   "outputs": [],
   "source": [
    "def uniq_locs(x):\n",
    "    return np.unique(x)\n",
    "def loc_counts(x):\n",
    "    _, counts = np.unique(x, return_counts=True)\n",
    "    return counts"
   ]
  },
  {
   "cell_type": "code",
   "execution_count": 37,
   "metadata": {},
   "outputs": [],
   "source": [
    "subs = (seqsdf.groupby(['gene', 'pos', 'ref_aa', 'codon_num', 'alt_aa'])\n",
    ".agg(\n",
    "     num_samples=('ID', 'nunique'),\n",
    "     first_detected=('date', 'min'),\n",
    "     last_detected=('date', 'max'),\n",
    "     locations=('location', uniq_locs),\n",
    "     location_counts=('location', loc_counts),\n",
    "     samples=('ID', 'unique')\n",
    "    )\n",
    ".reset_index())\n",
    "subs['pos'] = subs['pos'] + 1"
   ]
  },
  {
   "cell_type": "code",
   "execution_count": 175,
   "metadata": {},
   "outputs": [],
   "source": [
    "(subs[subs['gene']=='S'].sort_values('num_samples', ascending=False)\n",
    " .to_csv('S_mutations_consensus.csv', index=False))"
   ]
  },
  {
   "cell_type": "markdown",
   "metadata": {},
   "source": [
    "## Consolidate metadata ID and fasta headers"
   ]
  },
  {
   "cell_type": "code",
   "execution_count": 134,
   "metadata": {},
   "outputs": [],
   "source": [
    "def fix_header(x):\n",
    "    if 'Consensus' in x:\n",
    "        return x.split('_')[1]\n",
    "    else:\n",
    "        return x.split('/')[2]\n",
    "seqsdf['n_ID'] = seqsdf['idx'].apply(fix_header)"
   ]
  },
  {
   "cell_type": "code",
   "execution_count": 135,
   "metadata": {},
   "outputs": [],
   "source": [
    "seqsdf['n_ID'] = seqsdf['n_ID'].str.replace('ALSR', 'SEARCH')"
   ]
  },
  {
   "cell_type": "code",
   "execution_count": 136,
   "metadata": {},
   "outputs": [],
   "source": [
    "meta = pd.read_csv(meta_fp)\n",
    "meta['n_ID'] = meta['ID'].apply(lambda x: '-'.join(x.split('-')[:2]))"
   ]
  },
  {
   "cell_type": "code",
   "execution_count": 137,
   "metadata": {},
   "outputs": [],
   "source": [
    "seqsdf['n_ID'] = seqsdf['n_ID'].apply(lambda x: '-'.join(x.split('-')[:2]))"
   ]
  },
  {
   "cell_type": "code",
   "execution_count": 138,
   "metadata": {},
   "outputs": [],
   "source": [
    "tmp = pd.merge(seqsdf, meta, on='n_ID')"
   ]
  },
  {
   "cell_type": "code",
   "execution_count": 122,
   "metadata": {},
   "outputs": [],
   "source": [
    "# tmp[tmp['ID'].str.contains('2112')]"
   ]
  },
  {
   "cell_type": "code",
   "execution_count": 98,
   "metadata": {},
   "outputs": [],
   "source": [
    "# seqsdf"
   ]
  },
  {
   "cell_type": "code",
   "execution_count": 139,
   "metadata": {},
   "outputs": [
    {
     "data": {
      "text/plain": [
       "{'SEARCH-1668'}"
      ]
     },
     "execution_count": 139,
     "metadata": {},
     "output_type": "execute_result"
    }
   ],
   "source": [
    "set(meta['n_ID'].unique()) - set(tmp['n_ID'].unique())"
   ]
  },
  {
   "cell_type": "code",
   "execution_count": 140,
   "metadata": {},
   "outputs": [
    {
     "data": {
      "text/plain": [
       "(2765,)"
      ]
     },
     "execution_count": 140,
     "metadata": {},
     "output_type": "execute_result"
    }
   ],
   "source": [
    "seqsdf['idx'].unique().shape"
   ]
  },
  {
   "cell_type": "code",
   "execution_count": 141,
   "metadata": {},
   "outputs": [
    {
     "data": {
      "text/plain": [
       "(2766,)"
      ]
     },
     "execution_count": 141,
     "metadata": {},
     "output_type": "execute_result"
    }
   ],
   "source": [
    "meta['ID'].unique().shape"
   ]
  },
  {
   "cell_type": "code",
   "execution_count": 147,
   "metadata": {},
   "outputs": [],
   "source": [
    "s = seqsdf[['n_ID', 'idx']].drop_duplicates()"
   ]
  },
  {
   "cell_type": "code",
   "execution_count": 151,
   "metadata": {},
   "outputs": [],
   "source": [
    "new_meta = pd.merge(meta, s, on='n_ID', how='left')\n",
    "(new_meta.drop(columns=['n_ID'])\n",
    ".rename(columns={'idx': 'fasta_hdr'})\n",
    ".to_csv('metadata.csv', index=False))"
   ]
  },
  {
   "cell_type": "code",
   "execution_count": 152,
   "metadata": {},
   "outputs": [
    {
     "data": {
      "text/plain": [
       "(2766, 11)"
      ]
     },
     "execution_count": 152,
     "metadata": {},
     "output_type": "execute_result"
    }
   ],
   "source": [
    "new_meta.shape "
   ]
  },
  {
   "cell_type": "code",
   "execution_count": 153,
   "metadata": {},
   "outputs": [
    {
     "data": {
      "text/html": [
       "<div>\n",
       "<style scoped>\n",
       "    .dataframe tbody tr th:only-of-type {\n",
       "        vertical-align: middle;\n",
       "    }\n",
       "\n",
       "    .dataframe tbody tr th {\n",
       "        vertical-align: top;\n",
       "    }\n",
       "\n",
       "    .dataframe thead th {\n",
       "        text-align: right;\n",
       "    }\n",
       "</style>\n",
       "<table border=\"1\" class=\"dataframe\">\n",
       "  <thead>\n",
       "    <tr style=\"text-align: right;\">\n",
       "      <th></th>\n",
       "      <th>ID</th>\n",
       "      <th>gb_accession</th>\n",
       "      <th>gisaid_accession</th>\n",
       "      <th>collection_date</th>\n",
       "      <th>location</th>\n",
       "      <th>percent_coverage_cds</th>\n",
       "      <th>avg_depth</th>\n",
       "      <th>authors</th>\n",
       "      <th>originating_lab</th>\n",
       "      <th>n_ID</th>\n",
       "      <th>idx</th>\n",
       "    </tr>\n",
       "  </thead>\n",
       "  <tbody>\n",
       "    <tr>\n",
       "      <th>0</th>\n",
       "      <td>MG0987</td>\n",
       "      <td>MT598172</td>\n",
       "      <td>EPI_ISL_416457</td>\n",
       "      <td>2020-03-18</td>\n",
       "      <td>USA/California/San Diego</td>\n",
       "      <td>99.5954</td>\n",
       "      <td>2465.60</td>\n",
       "      <td>SEARCH Alliance San Diego</td>\n",
       "      <td>Andersen lab at Scripps Research</td>\n",
       "      <td>MG0987</td>\n",
       "      <td>Consensus_MG0987</td>\n",
       "    </tr>\n",
       "    <tr>\n",
       "      <th>1</th>\n",
       "      <td>PC00101P</td>\n",
       "      <td>MT192765</td>\n",
       "      <td>EPI_ISL_414648</td>\n",
       "      <td>2020-03-11</td>\n",
       "      <td>USA/California/San Diego</td>\n",
       "      <td>99.7525</td>\n",
       "      <td>3516.14</td>\n",
       "      <td>SEARCH Alliance San Diego</td>\n",
       "      <td>Andersen lab at Scripps Research</td>\n",
       "      <td>PC00101P</td>\n",
       "      <td>Consensus_PC00101P_threshold_0_quality_20</td>\n",
       "    </tr>\n",
       "    <tr>\n",
       "      <th>2</th>\n",
       "      <td>SEARCH-0007-SAN</td>\n",
       "      <td>MT598171</td>\n",
       "      <td>EPI_ISL_429990</td>\n",
       "      <td>2020-03-21</td>\n",
       "      <td>USA/California/San Diego</td>\n",
       "      <td>100.0000</td>\n",
       "      <td>6215.17</td>\n",
       "      <td>SEARCH Alliance San Diego with Christina Clark...</td>\n",
       "      <td>Rady's Childrens Hospital</td>\n",
       "      <td>SEARCH-0007</td>\n",
       "      <td>Consensus_SEARCH-0007-SAN_L1_threshold_0_quali...</td>\n",
       "    </tr>\n",
       "    <tr>\n",
       "      <th>3</th>\n",
       "      <td>SEARCH-0016-SAN</td>\n",
       "      <td>MT598173</td>\n",
       "      <td>EPI_ISL_430016</td>\n",
       "      <td>2020-03-24</td>\n",
       "      <td>USA/California/San Diego</td>\n",
       "      <td>100.0000</td>\n",
       "      <td>6440.67</td>\n",
       "      <td>SEARCH Alliance San Diego</td>\n",
       "      <td>Andersen lab at Scripps Research</td>\n",
       "      <td>SEARCH-0016</td>\n",
       "      <td>Consensus_SEARCH-0016-SAN_L1_threshold_0_quali...</td>\n",
       "    </tr>\n",
       "    <tr>\n",
       "      <th>4</th>\n",
       "      <td>SEARCH-0017-SAN</td>\n",
       "      <td>MT598174</td>\n",
       "      <td>EPI_ISL_429991</td>\n",
       "      <td>2020-03-24</td>\n",
       "      <td>USA/California/San Diego</td>\n",
       "      <td>100.0000</td>\n",
       "      <td>4947.09</td>\n",
       "      <td>SEARCH Alliance San Diego</td>\n",
       "      <td>Andersen lab at Scripps Research</td>\n",
       "      <td>SEARCH-0017</td>\n",
       "      <td>Consensus_SEARCH-0017-SAN_L1_threshold_0_quali...</td>\n",
       "    </tr>\n",
       "    <tr>\n",
       "      <th>...</th>\n",
       "      <td>...</td>\n",
       "      <td>...</td>\n",
       "      <td>...</td>\n",
       "      <td>...</td>\n",
       "      <td>...</td>\n",
       "      <td>...</td>\n",
       "      <td>...</td>\n",
       "      <td>...</td>\n",
       "      <td>...</td>\n",
       "      <td>...</td>\n",
       "      <td>...</td>\n",
       "    </tr>\n",
       "    <tr>\n",
       "      <th>2761</th>\n",
       "      <td>SEARCH-4685-SAN</td>\n",
       "      <td>NaN</td>\n",
       "      <td>NaN</td>\n",
       "      <td>2020-11-02</td>\n",
       "      <td>USA/California/San Diego</td>\n",
       "      <td>100.0000</td>\n",
       "      <td>4831.37</td>\n",
       "      <td>SEARCH Alliance San Diego with Tracy Basler, J...</td>\n",
       "      <td>San Diego County Public Health Laboratory</td>\n",
       "      <td>SEARCH-4685</td>\n",
       "      <td>hCoV-19/USA/SEARCH-4685-SAN/2020</td>\n",
       "    </tr>\n",
       "    <tr>\n",
       "      <th>2762</th>\n",
       "      <td>SEARCH-4686-SAN</td>\n",
       "      <td>NaN</td>\n",
       "      <td>NaN</td>\n",
       "      <td>2020-11-05</td>\n",
       "      <td>USA/California/San Diego</td>\n",
       "      <td>100.0000</td>\n",
       "      <td>3864.73</td>\n",
       "      <td>SEARCH Alliance San Diego with Tracy Basler, J...</td>\n",
       "      <td>San Diego County Public Health Laboratory</td>\n",
       "      <td>SEARCH-4686</td>\n",
       "      <td>hCoV-19/USA/SEARCH-4686-SAN/2020</td>\n",
       "    </tr>\n",
       "    <tr>\n",
       "      <th>2763</th>\n",
       "      <td>SEARCH-4687-ORA</td>\n",
       "      <td>NaN</td>\n",
       "      <td>NaN</td>\n",
       "      <td>2020-11-02</td>\n",
       "      <td>USA/California/Orange</td>\n",
       "      <td>98.1400</td>\n",
       "      <td>3123.54</td>\n",
       "      <td>SEARCH Alliance San Diego with Tracy Basler, J...</td>\n",
       "      <td>San Diego County Public Health Laboratory</td>\n",
       "      <td>SEARCH-4687</td>\n",
       "      <td>hCoV-19/USA/SEARCH-4687-ORA/2020</td>\n",
       "    </tr>\n",
       "    <tr>\n",
       "      <th>2764</th>\n",
       "      <td>SEARCH-4690-SAN</td>\n",
       "      <td>NaN</td>\n",
       "      <td>NaN</td>\n",
       "      <td>2020-05-28</td>\n",
       "      <td>USA/California/San Diego</td>\n",
       "      <td>98.7283</td>\n",
       "      <td>2625.16</td>\n",
       "      <td>SEARCH Alliance San Diego with Tracy Basler, J...</td>\n",
       "      <td>San Diego County Public Health Laboratory</td>\n",
       "      <td>SEARCH-4690</td>\n",
       "      <td>hCoV-19/USA/SEARCH-4690-SAN/2020</td>\n",
       "    </tr>\n",
       "    <tr>\n",
       "      <th>2765</th>\n",
       "      <td>SEARCH-4691-SAN</td>\n",
       "      <td>NaN</td>\n",
       "      <td>NaN</td>\n",
       "      <td>2020-05-20</td>\n",
       "      <td>USA/California/San Diego</td>\n",
       "      <td>99.1465</td>\n",
       "      <td>2623.45</td>\n",
       "      <td>SEARCH Alliance San Diego with Tracy Basler, J...</td>\n",
       "      <td>San Diego County Public Health Laboratory</td>\n",
       "      <td>SEARCH-4691</td>\n",
       "      <td>hCoV-19/USA/SEARCH-4691-SAN/2020</td>\n",
       "    </tr>\n",
       "  </tbody>\n",
       "</table>\n",
       "<p>2766 rows × 11 columns</p>\n",
       "</div>"
      ],
      "text/plain": [
       "                   ID gb_accession gisaid_accession collection_date  \\\n",
       "0              MG0987     MT598172   EPI_ISL_416457      2020-03-18   \n",
       "1            PC00101P     MT192765   EPI_ISL_414648      2020-03-11   \n",
       "2     SEARCH-0007-SAN     MT598171   EPI_ISL_429990      2020-03-21   \n",
       "3     SEARCH-0016-SAN     MT598173   EPI_ISL_430016      2020-03-24   \n",
       "4     SEARCH-0017-SAN     MT598174   EPI_ISL_429991      2020-03-24   \n",
       "...               ...          ...              ...             ...   \n",
       "2761  SEARCH-4685-SAN          NaN              NaN      2020-11-02   \n",
       "2762  SEARCH-4686-SAN          NaN              NaN      2020-11-05   \n",
       "2763  SEARCH-4687-ORA          NaN              NaN      2020-11-02   \n",
       "2764  SEARCH-4690-SAN          NaN              NaN      2020-05-28   \n",
       "2765  SEARCH-4691-SAN          NaN              NaN      2020-05-20   \n",
       "\n",
       "                      location  percent_coverage_cds  avg_depth  \\\n",
       "0     USA/California/San Diego               99.5954    2465.60   \n",
       "1     USA/California/San Diego               99.7525    3516.14   \n",
       "2     USA/California/San Diego              100.0000    6215.17   \n",
       "3     USA/California/San Diego              100.0000    6440.67   \n",
       "4     USA/California/San Diego              100.0000    4947.09   \n",
       "...                        ...                   ...        ...   \n",
       "2761  USA/California/San Diego              100.0000    4831.37   \n",
       "2762  USA/California/San Diego              100.0000    3864.73   \n",
       "2763     USA/California/Orange               98.1400    3123.54   \n",
       "2764  USA/California/San Diego               98.7283    2625.16   \n",
       "2765  USA/California/San Diego               99.1465    2623.45   \n",
       "\n",
       "                                                authors  \\\n",
       "0                             SEARCH Alliance San Diego   \n",
       "1                             SEARCH Alliance San Diego   \n",
       "2     SEARCH Alliance San Diego with Christina Clark...   \n",
       "3                             SEARCH Alliance San Diego   \n",
       "4                             SEARCH Alliance San Diego   \n",
       "...                                                 ...   \n",
       "2761  SEARCH Alliance San Diego with Tracy Basler, J...   \n",
       "2762  SEARCH Alliance San Diego with Tracy Basler, J...   \n",
       "2763  SEARCH Alliance San Diego with Tracy Basler, J...   \n",
       "2764  SEARCH Alliance San Diego with Tracy Basler, J...   \n",
       "2765  SEARCH Alliance San Diego with Tracy Basler, J...   \n",
       "\n",
       "                                originating_lab         n_ID  \\\n",
       "0              Andersen lab at Scripps Research       MG0987   \n",
       "1              Andersen lab at Scripps Research     PC00101P   \n",
       "2                     Rady's Childrens Hospital  SEARCH-0007   \n",
       "3              Andersen lab at Scripps Research  SEARCH-0016   \n",
       "4              Andersen lab at Scripps Research  SEARCH-0017   \n",
       "...                                         ...          ...   \n",
       "2761  San Diego County Public Health Laboratory  SEARCH-4685   \n",
       "2762  San Diego County Public Health Laboratory  SEARCH-4686   \n",
       "2763  San Diego County Public Health Laboratory  SEARCH-4687   \n",
       "2764  San Diego County Public Health Laboratory  SEARCH-4690   \n",
       "2765  San Diego County Public Health Laboratory  SEARCH-4691   \n",
       "\n",
       "                                                    idx  \n",
       "0                                      Consensus_MG0987  \n",
       "1             Consensus_PC00101P_threshold_0_quality_20  \n",
       "2     Consensus_SEARCH-0007-SAN_L1_threshold_0_quali...  \n",
       "3     Consensus_SEARCH-0016-SAN_L1_threshold_0_quali...  \n",
       "4     Consensus_SEARCH-0017-SAN_L1_threshold_0_quali...  \n",
       "...                                                 ...  \n",
       "2761                   hCoV-19/USA/SEARCH-4685-SAN/2020  \n",
       "2762                   hCoV-19/USA/SEARCH-4686-SAN/2020  \n",
       "2763                   hCoV-19/USA/SEARCH-4687-ORA/2020  \n",
       "2764                   hCoV-19/USA/SEARCH-4690-SAN/2020  \n",
       "2765                   hCoV-19/USA/SEARCH-4691-SAN/2020  \n",
       "\n",
       "[2766 rows x 11 columns]"
      ]
     },
     "execution_count": 153,
     "metadata": {},
     "output_type": "execute_result"
    }
   ],
   "source": [
    "new_meta"
   ]
  },
  {
   "cell_type": "code",
   "execution_count": 81,
   "metadata": {},
   "outputs": [
    {
     "data": {
      "text/plain": [
       "29903"
      ]
     },
     "execution_count": 81,
     "metadata": {},
     "output_type": "execute_result"
    }
   ],
   "source": [
    "len(ref_seq)"
   ]
  }
 ],
 "metadata": {
  "kernelspec": {
   "display_name": "Python 3",
   "language": "python",
   "name": "python3"
  },
  "language_info": {
   "codemirror_mode": {
    "name": "ipython",
    "version": 3
   },
   "file_extension": ".py",
   "mimetype": "text/x-python",
   "name": "python",
   "nbconvert_exporter": "python",
   "pygments_lexer": "ipython3",
   "version": "3.8.3"
  }
 },
 "nbformat": 4,
 "nbformat_minor": 4
}
