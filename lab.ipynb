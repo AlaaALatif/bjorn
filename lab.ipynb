{
 "cells": [
  {
   "cell_type": "markdown",
   "metadata": {},
   "source": [
    "## TODO\n",
    "* `gb_accession` and `gisaid_accession` are not found for new sequences, how do we concat to `metadata.csv` without them?\n",
    "* metadata format for NCBI\n",
    "* support tools for manual sanity checks"
   ]
  },
  {
   "cell_type": "code",
   "execution_count": 1,
   "metadata": {},
   "outputs": [],
   "source": [
    "from bjorn import *\n",
    "from bjorn_support import *\n",
    "import gffutils"
   ]
  },
  {
   "cell_type": "code",
   "execution_count": 2,
   "metadata": {},
   "outputs": [],
   "source": [
    "df = pd.read_csv('json_input.csv').sample(2)\n",
    "df.to_csv('json_input.csv', index=False)"
   ]
  },
  {
   "cell_type": "code",
   "execution_count": 3,
   "metadata": {},
   "outputs": [
    {
     "data": {
      "text/plain": [
       "(100, 46)"
      ]
     },
     "execution_count": 3,
     "metadata": {},
     "output_type": "execute_result"
    }
   ],
   "source": [
    "df.sample(100, replace=True).shape"
   ]
  },
  {
   "cell_type": "markdown",
   "metadata": {},
   "source": [
    "## Sequence Release"
   ]
  },
  {
   "cell_type": "code",
   "execution_count": 4,
   "metadata": {},
   "outputs": [],
   "source": [
    "# df = pd.read_csv(\"/home/al/analysis/2020-12-01_release_2/metadata.csv\")\n",
    "# df.tail()"
   ]
  },
  {
   "cell_type": "code",
   "execution_count": 5,
   "metadata": {},
   "outputs": [
    {
     "name": "stdout",
     "output_type": "stream",
     "text": [
      "#!/bin/bash\n",
      "\n",
      "python3 bjorn.py --not-dry-run --out-dir /home/al/analysis/bjorn_test --sample-sheet /home/al/data/COVID_sequencing_summary-GISAID.csv --cpus 8 --analysis-folder /home/gk/analysis/ --output-metadata /home/al/code/HCoV-19-Genomics/metadata.csv\n"
     ]
    }
   ],
   "source": [
    "!cat run.sh"
   ]
  },
  {
   "cell_type": "code",
   "execution_count": 6,
   "metadata": {},
   "outputs": [],
   "source": [
    "# path to reference sequence (used later for MSA and tree construction)\n",
    "ref_path = Path('/home/gk/code/hCoV19/db/NC045512.fasta')\n",
    "# whether or not to include bam files in the release\n",
    "include_bams = False\n",
    "# path to reference sequence (used later for MSA and tree construction)\n",
    "# this is the directory where results get saved\n",
    "out_dir = Path('/home/al/analysis/bjorn_test')\n",
    "# number of cores to use\n",
    "num_cpus = 4\n",
    "# file path to samples sheet (make sure it is the most recent)\n",
    "sample_sheet_fpath = Path('/home/al/data/COVID_sequencing_summary-GISAID.csv')\n",
    "# path to analysis results\n",
    "analysis_fpath = Path('/home/gk/analysis/')\n",
    "# file path to metadata of samples that have already been released\n",
    "released_samples_fpath = Path('/home/al/code/HCoV-19-Genomics/metadata.csv')\n",
    "# Whether run is dry\n",
    "dry_run = True\n",
    "# COLUMNS TO INCLUDE IN METADATA\n",
    "git_meta_cols = [\"ID\", \"collection_date\", \"location\", \n",
    "                 \"percent_coverage_cds\", \"avg_depth\", \n",
    "                 \"authors\", \"originating_lab\"]\n",
    "gisaid_meta_cols = ['Submitter',\n",
    "                   'FASTA filename', 'Virus name', 'Type', 'Passage details/history',\n",
    "                   'Collection date', 'location', 'Additional location information',\n",
    "                   'Host', 'Additional host information', 'Gender', 'Patient age',\n",
    "                   'Patient status', 'Specimen source', 'Outbreak', 'Last vaccinated',\n",
    "                   'Treatment', 'Sequencing technology', 'Assembly method', 'Coverage',\n",
    "                   'originating_lab', 'Address', 'Sample ID given by the sample provider',\n",
    "                   'Submitting lab', 'Address.1',\n",
    "                   'Sample ID given by the submitting laboratory', 'authors', 'avg_depth']"
   ]
  },
  {
   "cell_type": "code",
   "execution_count": 7,
   "metadata": {},
   "outputs": [
    {
     "name": "stdout",
     "output_type": "stream",
     "text": [
      "\n",
      "Dry run: True.\n",
      "Include BAMS: False.\n",
      "Reading release summary file from /home/al/data/COVID_sequencing_summary-GISAID.csv.\n",
      "Reading repository metadata from /home/al/code/HCoV-19-Genomics/metadata.csv.\n",
      "Searching analysis folder /home/gk/analysis/.\n",
      "\n",
      "Preparing 366 samples for release\n"
     ]
    }
   ],
   "source": [
    "\n",
    "\n",
    "\n",
    "# # Test\n",
    "# out_dir = \"/home/gk/southpark/2020-11-21_release\"\n",
    "# sample_sheet_fpath = \"/home/gk/code/hCoV19/release_summary_csv/2020-11-20_seq_summary.csv\"\n",
    "# analysis_fpath = \"/home/gk/analysis/\"\n",
    "# released_samples_fpath = \"/home/gk/analysis/hcov-19-genomics/metadata.csv\"\n",
    "# dry_run = True\n",
    "\n",
    "print(f\"\"\"\n",
    "Dry run: {dry_run}.\n",
    "Include BAMS: {include_bams}.\n",
    "Reading release summary file from {sample_sheet_fpath}.\n",
    "Reading repository metadata from {released_samples_fpath}.\n",
    "Searching analysis folder {analysis_fpath}.\n",
    "\"\"\"\n",
    ")\n",
    "\n",
    "# Collecting Sequence Data\n",
    "\n",
    "\n",
    "# grab all filepaths for bam data\n",
    "bam_filepaths = glob.glob(f\"{analysis_fpath}/**/merged_aligned_bams/illumina/*.bam\")\n",
    "bam_filepaths = [Path(fp) for fp in bam_filepaths]\n",
    "# consolidate sample ID format\n",
    "bam_ids = get_ids(bam_filepaths)\n",
    "# Turn into dataframe\n",
    "bam_data = list(zip(*[bam_ids, bam_filepaths]))\n",
    "bam_df = pd.DataFrame(data=bam_data, columns=['sample_id', 'PATH'])\n",
    "# grab all paths to consensus sequences\n",
    "consensus_filepaths = glob.glob(f\"{analysis_fpath}/**/consensus_sequences/illumina/*.fa\")\n",
    "consensus_filepaths = [Path(fp) for fp in consensus_filepaths]\n",
    "# consolidate sample ID format\n",
    "consensus_ids = get_ids(consensus_filepaths)\n",
    "# Turn into dataframe\n",
    "consensus_data = list(zip(*[consensus_ids, consensus_filepaths]))\n",
    "consensus_df = pd.DataFrame(data=consensus_data, columns=['sample_id', 'PATH'])\n",
    "# clean up cns and bam (remove duplicate IDs)\n",
    "bam_df.drop_duplicates(subset=['sample_id'], keep='last', inplace=True)\n",
    "consensus_df.drop_duplicates(subset=['sample_id'], keep='last', inplace=True)\n",
    "# include only SEARCH samples\n",
    "consensus_df = consensus_df[(consensus_df['sample_id'].str.contains('SEARCH'))]\n",
    "# merge consensus and bam filepaths for each sample ID\n",
    "analysis_df = pd.merge(consensus_df, bam_df, on='sample_id', how='left')\n",
    "# load sample sheet data (GISAID) - make sure to download most recent one\n",
    "seqsum = pd.read_csv(sample_sheet_fpath)\n",
    "# clean up\n",
    "seqsum = seqsum[(~seqsum['SEARCH SampleID'].isna()) & (seqsum['SEARCH SampleID']!='#REF!')]\n",
    "# consolidate sample ID format\n",
    "seqsum.loc[:, 'sample_id'] = seqsum['SEARCH SampleID'].apply(process_id)\n",
    "seqsum.drop_duplicates(subset=['sample_id'], keep='last', inplace=True)\n",
    "seqsum = seqsum[seqsum['New sequences ready for release'] == 'Yes']\n",
    "num_seqs_to_release = seqsum['sample_id'].unique().shape[0]\n",
    "# JOIN summary sheet with analysis meta data\n",
    "sequence_results = pd.merge(seqsum, analysis_df, on='sample_id', how='inner')\n",
    "# compute number of samples with missing consensus and/or bam files\n",
    "num_seqs_found = sequence_results['sample_id'].unique().shape[0]\n",
    "num_samples_missing_cons = num_seqs_to_release - num_seqs_found\n",
    "num_samples_missing_bams = 'NA'\n",
    "if include_bams:\n",
    "    # exclude any samples that do not have BAM data\n",
    "    num_samples_missing_bams = sequence_results[sequence_results['PATH_y'].isna()].shape[0]\n",
    "    sequence_results = sequence_results[~sequence_results['PATH_y'].isna()]\n",
    "# samples missing consensus or BAM sequence files\n",
    "# ## Make sure to remove any samples that have already been uploaded to github (just an extra safety step)\n",
    "# load metadata.csv from github repo, then clean up\n",
    "meta_df = pd.read_csv(released_samples_fpath)\n",
    "meta_df = meta_df[meta_df['ID'].str.contains('SEARCH')]\n",
    "# consolidate sample ID format\n",
    "meta_df.loc[:, 'sample_id'] = meta_df['ID'].apply(process_id)\n",
    "# get IDs of samples that have already been released\n",
    "released_seqs = meta_df['sample_id'].unique()\n",
    "# filter out released samples from all the samples we got\n",
    "final_result = sequence_results.copy()\n",
    "# final_result = sequence_results[~sequence_results['sample_id'].isin(released_seqs)]\n",
    "print(f\"Preparing {final_result.shape[0]} samples for release\")\n",
    "# Transfer files\n",
    "if not dry_run:\n",
    "    transfer_files(final_result, out_dir, include_bams=include_bams, ncpus=num_cpus)\n",
    "# ## Getting coverage information\n",
    "cov_filepaths = glob.glob(f\"{analysis_fpath}/**/trimmed_bams/illumina/reports/*.tsv\")\n",
    "cov_filepaths = [Path(fp) for fp in cov_filepaths]\n",
    "# read coverage data and clean it up\n",
    "cov_df = pd.concat((pd.read_csv(f, sep='\\t').assign(path=f) for f in cov_filepaths))\n",
    "cov_df.loc[:,'sample_id'] = cov_df['SAMPLE'].apply(process_coverage_sample_ids)\n",
    "cov_df.loc[:,'date'] = cov_df['path'].apply(lambda x: ''.join(x.split('/')[4].split('.')[:3]))\n",
    "cov_df = (cov_df.sort_values('date')\n",
    "                .drop_duplicates(subset=['sample_id'], keep='last'))"
   ]
  },
  {
   "cell_type": "code",
   "execution_count": 8,
   "metadata": {},
   "outputs": [],
   "source": [
    "# ans.columns"
   ]
  },
  {
   "cell_type": "code",
   "execution_count": 9,
   "metadata": {},
   "outputs": [
    {
     "name": "stdout",
     "output_type": "stream",
     "text": [
      "Transfer Complete. All results saved in /home/al/analysis/bjorn_test\n"
     ]
    }
   ],
   "source": [
    "# JOIN results with coverage info\n",
    "ans = (\n",
    "    pd.merge(final_result, cov_df, on='sample_id', how='left')\n",
    "    .assign(\n",
    "        collection_date = lambda x: pd.to_datetime(x[\"Collection date\"]).dt.strftime(\"%Y-%m-%d\")\n",
    "    )\n",
    "    .rename(columns={\n",
    "        \"SEARCH SampleID\": \"ID\",\n",
    "        \"Location\": \"location\",\n",
    "        \"COVERAGE\": \"percent_coverage_cds\",\n",
    "        \"AVG_DEPTH\": \"avg_depth\",\n",
    "        \"Authors\": \"authors\",\n",
    "        \"Originating lab\": \"originating_lab\"\n",
    "    })\n",
    ")\n",
    "num_samples_missing_coverage = ans[ans['percent_coverage_cds'].isna()].shape[0]\n",
    "\n",
    "def create_github_meta(new_meta_df: pd.DataFrame, old_meta_filepath: str, meta_cols: list):\n",
    "    \"\"\"Generate Github metadata with updated information about newly released samples\"\"\"\n",
    "    old_metadata = pd.read_csv(old_meta_filepath)\n",
    "    new_metadata = pd.concat([old_metadata, new_meta_df.loc[:, meta_cols]])\n",
    "    new_metadata.to_csv(out_dir/'metadata.csv', index=False)\n",
    "    return f\"Github metadata saved in {out_dir/'metadata.csv'}\"\n",
    "\n",
    "def create_gisaid_meta(new_meta_df: pd.DataFrame, meta_cols: list):\n",
    "    \"\"\"Generate GISAID metadata for newly released samples\"\"\"\n",
    "    new_meta_df[meta_cols].to_csv(out_dir/'gisaid_metadata.csv', index=False)\n",
    "    return f\"GISAID metadata saved in {out_dir/'gisaid_metadata.csv'}\"\n",
    "\n",
    "create_github_meta(ans, released_samples_fpath, git_meta_cols)\n",
    "create_gisaid_meta(ans, gisaid_meta_cols) \n",
    "low_coverage_samples = ans[ans[\"percent_coverage_cds\"] < 90]\n",
    "# Data logging\n",
    "with open(\"{}/data_release.log\".format(out_dir), 'w') as f:\n",
    "    f.write(f'{num_samples_missing_coverage} samples are missing coverage information\\n')\n",
    "    f.write(f'{low_coverage_samples.shape[0]} samples were found to have coverage below 90%\\n')\n",
    "    f.write(f'{num_samples_missing_cons} samples were ignored because they were missing consensus sequence files\\n')\n",
    "    f.write(f'{num_samples_missing_bams} samples were ignored because they were missing BAM sequence files\\n')\n",
    "print(f\"Transfer Complete. All results saved in {out_dir}\")"
   ]
  },
  {
   "cell_type": "code",
   "execution_count": 10,
   "metadata": {},
   "outputs": [
    {
     "data": {
      "text/plain": [
       "243"
      ]
     },
     "execution_count": 10,
     "metadata": {},
     "output_type": "execute_result"
    }
   ],
   "source": [
    "num_samples_missing_coverage"
   ]
  },
  {
   "cell_type": "code",
   "execution_count": 11,
   "metadata": {},
   "outputs": [
    {
     "data": {
      "text/plain": [
       "Index(['Sample ID', 'ID', 'Ready for release?',\n",
       "       'New sequences ready for release', 'Released?', 'Submitter',\n",
       "       'FASTA filename', 'Virus name', 'Type', 'Passage details/history',\n",
       "       'Collection date', 'location', 'Additional location information',\n",
       "       'Host', 'Additional host information', 'Gender', 'Patient age',\n",
       "       'Patient status', 'Specimen source', 'Outbreak', 'Last vaccinated',\n",
       "       'Treatment', 'Sequencing technology', 'Assembly method', 'Coverage',\n",
       "       'originating_lab', 'Address', 'Sample ID given by the sample provider',\n",
       "       'Submitting lab', 'Address.1',\n",
       "       'Sample ID given by the submitting laboratory', 'authors', 'Comment',\n",
       "       'Comment Icon', 'sample_id', 'PATH_x', 'PATH_y', 'SAMPLE',\n",
       "       'percent_coverage_cds', 'avg_depth', 'MIN', 'MAX', 'ZERO_DEPTH', 'path',\n",
       "       'date', 'collection_date'],\n",
       "      dtype='object')"
      ]
     },
     "execution_count": 11,
     "metadata": {},
     "output_type": "execute_result"
    }
   ],
   "source": [
    "ans.columns"
   ]
  },
  {
   "cell_type": "markdown",
   "metadata": {},
   "source": [
    "## Genbank"
   ]
  },
  {
   "cell_type": "code",
   "execution_count": 12,
   "metadata": {},
   "outputs": [],
   "source": [
    "cons_seqs = Path(out_dir/'fa')"
   ]
  },
  {
   "cell_type": "code",
   "execution_count": 13,
   "metadata": {},
   "outputs": [],
   "source": [
    "msa_dir = out_dir/'msa'\n",
    "if not Path.isdir(msa_dir):\n",
    "    Path.mkdir(msa_dir);"
   ]
  },
  {
   "cell_type": "code",
   "execution_count": 14,
   "metadata": {},
   "outputs": [
    {
     "data": {
      "text/plain": [
       "Path('/home/al/analysis/bjorn_test/fa/NC045512.fasta')"
      ]
     },
     "execution_count": 14,
     "metadata": {},
     "output_type": "execute_result"
    }
   ],
   "source": [
    "cons_seqs = Path(out_dir/'fa')\n",
    "copy(ref_path, cons_seqs)"
   ]
  },
  {
   "cell_type": "code",
   "execution_count": 15,
   "metadata": {},
   "outputs": [
    {
     "data": {
      "text/plain": [
       "Path('bjorn_test')"
      ]
     },
     "execution_count": 15,
     "metadata": {},
     "output_type": "execute_result"
    }
   ],
   "source": [
    "out_dir.basename()"
   ]
  },
  {
   "cell_type": "code",
   "execution_count": 16,
   "metadata": {},
   "outputs": [],
   "source": [
    "# concat_fasta(out_dir, msa_dir/out_dir.basename())"
   ]
  },
  {
   "cell_type": "code",
   "execution_count": 17,
   "metadata": {},
   "outputs": [
    {
     "name": "stdout",
     "output_type": "stream",
     "text": [
      "bjorn_test_aligned.fa  bjorn_test.fa\n"
     ]
    }
   ],
   "source": [
    "!ls {msa_dir}"
   ]
  },
  {
   "cell_type": "code",
   "execution_count": 18,
   "metadata": {},
   "outputs": [],
   "source": [
    "# cns_seqs = SeqIO.parse(msa_dir/out_dir.basename()+'.fa', 'fasta')\n",
    "# cns_seqs = list(cns_seqs)"
   ]
  },
  {
   "cell_type": "code",
   "execution_count": 19,
   "metadata": {},
   "outputs": [],
   "source": [
    "def create_genbank_meta(df: pd.DataFrame, meta_cols: list) -> pd.DataFrame:\n",
    "    genbank_meta = df[meta_cols].copy()\n",
    "    genbank_meta['country'] = genbank_meta['location'].apply(lambda x: x.split('/')[0])\n",
    "    genbank_meta['isolate'] = genbank_meta['Virus name'].str.replace('hCoV-19', 'SARS-CoV-2/human')\n",
    "    genbank_meta['host'] = genbank_meta['Host'].str.replace('Human', 'Homo Sapiens')\n",
    "    genbank_meta.rename(columns={'Virus name': 'Sequence_ID', 'collection_date': 'collection-date',\n",
    "                                 'Specimen source': 'isolation-source'}, inplace=True)\n",
    "    genbank_meta.loc[genbank_meta['country']=='MEX', 'country'] = 'Mexico'\n",
    "    return genbank_meta[['Sequence_ID', 'isolate', 'country', \n",
    "                         'collection-date', 'host', 'isolation-source']]"
   ]
  },
  {
   "cell_type": "code",
   "execution_count": 20,
   "metadata": {},
   "outputs": [],
   "source": [
    "def assemble_genbank_release(cns_seqs: list, df: pd.DataFrame, meta_cols: list):\n",
    "    # create directory for genbank release\n",
    "    genbank_dir = out_dir/'genbank'\n",
    "    if not Path.isdir(genbank_dir):\n",
    "        Path.mkdir(genbank_dir);\n",
    "    authors = {}\n",
    "    # group samples by author\n",
    "    for ctr, (n, grp) in enumerate(df.groupby('authors')):\n",
    "        authors[ctr+1] = n\n",
    "        # generate sample metadata\n",
    "        genbank_meta = create_genbank_meta(grp, meta_cols)\n",
    "        genbank_meta.to_csv(genbank_dir/f'genbank_metadata_{ctr+1}.tsv', sep='\\t', index=False)\n",
    "        # fetch consensus sequences of those samples\n",
    "        recs = [i for i in cns_seqs if i.name in genbank_meta['Sequence_ID'].tolist()]\n",
    "        SeqIO.write(recs, genbank_dir/f'genbank_release_{ctr+1}.fa', 'fasta')\n",
    "    # write mapping of index to author for later reference\n",
    "    (pd.DataFrame.from_dict(authors, orient='index')\n",
    "       .rename(columns={0: 'authors'})\n",
    "       .to_csv(genbank_dir/'authors.tsv', sep='\\t'))\n",
    "    return f\"Genbank data release saved in {genbank_dir}\""
   ]
  },
  {
   "cell_type": "code",
   "execution_count": 21,
   "metadata": {},
   "outputs": [],
   "source": [
    "# genbank_meta_cols = ['Sample ID', 'ID', 'Virus name', 'location', \n",
    "#                         'Specimen source', 'collection_date', 'Host']\n",
    "# assemble_genbank_release(cns_seqs, ans, genbank_meta_cols)"
   ]
  },
  {
   "cell_type": "markdown",
   "metadata": {},
   "source": [
    "## SRA"
   ]
  },
  {
   "cell_type": "code",
   "execution_count": 22,
   "metadata": {},
   "outputs": [],
   "source": [
    "# sra_dir = out_dir/'sra'\n",
    "# if not Path.isdir(sra_dir):\n",
    "#     Path.mkdir(sra_dir);\n",
    "# input(f\"Have you received the BioSample.txt files and placed them inside {sra_dir}? \\n \\\n",
    "# Press Enter to continue...\")"
   ]
  },
  {
   "cell_type": "code",
   "execution_count": 23,
   "metadata": {},
   "outputs": [],
   "source": [
    "def create_sra_meta(df: pd.DataFrame, sra_dir: Path):\n",
    "    biosample_paths = glob.glob(f\"{sra_dir}/*.txt\")\n",
    "    biosample_df = pd.concat((pd.read_csv(f, sep='\\t') for f in biosample_paths))\n",
    "    biosample_df[\"sample_id\"] = biosample_df[\"Sample Name\"].apply(lambda x: \"\".join(x.split(\"-\")[:2]))\n",
    "    bam_files = ans.loc[~ans['PATH_y'].isna()][['sample_id', 'PATH_y']].rename(columns={'PATH_y': 'file_name'})\n",
    "    sra_merged = pd.merge(biosample_df, bam_files, on=\"sample_id\")\n",
    "    sra_merged[[\"Accession\", \"Sample Name\", \"file_name\"]].to_csv(sra_dir/\"sra_metadata.csv\", index=False)\n",
    "    return f\"SRA metadata saved in {sra_dir/'sra_metadata.csv'}\""
   ]
  },
  {
   "cell_type": "code",
   "execution_count": 24,
   "metadata": {},
   "outputs": [],
   "source": [
    "# TEST behavior\n",
    "# cat_cmd = f\"cat {out_dir}/fa/*.fa > {msa_dir/out_dir.basename()}.fa\"\n",
    "# subprocess.check_call(cat_cmd, shell=True)"
   ]
  },
  {
   "cell_type": "markdown",
   "metadata": {},
   "source": [
    "## INDELS"
   ]
  },
  {
   "cell_type": "code",
   "execution_count": 25,
   "metadata": {},
   "outputs": [],
   "source": [
    "# msa_fp = align_fasta(msa_dir/out_dir.basename())"
   ]
  },
  {
   "cell_type": "code",
   "execution_count": 26,
   "metadata": {},
   "outputs": [],
   "source": [
    "msa_fp = msa_dir/'bjorn_test_aligned.fa'"
   ]
  },
  {
   "cell_type": "code",
   "execution_count": 27,
   "metadata": {},
   "outputs": [],
   "source": [
    "from onion_trees import *"
   ]
  },
  {
   "cell_type": "code",
   "execution_count": 28,
   "metadata": {},
   "outputs": [],
   "source": [
    "patient_zero = 'NC_045512.2'"
   ]
  },
  {
   "cell_type": "code",
   "execution_count": 29,
   "metadata": {},
   "outputs": [
    {
     "data": {
      "text/plain": [
       "Bio.Align.MultipleSeqAlignment"
      ]
     },
     "execution_count": 29,
     "metadata": {},
     "output_type": "execute_result"
    }
   ],
   "source": [
    "# read MSA file\n",
    "cns_seqs = AlignIO.read(msa_fp, 'fasta')\n",
    "type(cns_seqs)"
   ]
  },
  {
   "cell_type": "code",
   "execution_count": 30,
   "metadata": {},
   "outputs": [],
   "source": [
    "seqs = get_seqs(cns_seqs)\n",
    "seqsdf = (pd.DataFrame(index=seqs.keys(), data=seqs.values(), columns=['sequence'])\n",
    "            .reset_index().rename(columns={'index': 'idx'}))"
   ]
  },
  {
   "cell_type": "code",
   "execution_count": 31,
   "metadata": {},
   "outputs": [
    {
     "data": {
      "text/plain": [
       "'atccgaacaggccacaaatgagtt'"
      ]
     },
     "execution_count": 31,
     "metadata": {},
     "output_type": "execute_result"
    }
   ],
   "source": [
    "seqsdf.loc[seqsdf['idx'].str.contains('4650'), 'sequence'].values[0][25890:25914]"
   ]
  },
  {
   "cell_type": "code",
   "execution_count": 32,
   "metadata": {},
   "outputs": [
    {
     "data": {
      "text/plain": [
       "'atccg--------------gagtt'"
      ]
     },
     "execution_count": 32,
     "metadata": {},
     "output_type": "execute_result"
    }
   ],
   "source": [
    "seqsdf.loc[seqsdf['idx'].str.contains('NC'), 'sequence'].values[0][25890:25914]"
   ]
  },
  {
   "cell_type": "code",
   "execution_count": 33,
   "metadata": {},
   "outputs": [
    {
     "data": {
      "text/html": [
       "<div>\n",
       "<style scoped>\n",
       "    .dataframe tbody tr th:only-of-type {\n",
       "        vertical-align: middle;\n",
       "    }\n",
       "\n",
       "    .dataframe tbody tr th {\n",
       "        vertical-align: top;\n",
       "    }\n",
       "\n",
       "    .dataframe thead th {\n",
       "        text-align: right;\n",
       "    }\n",
       "</style>\n",
       "<table border=\"1\" class=\"dataframe\">\n",
       "  <thead>\n",
       "    <tr style=\"text-align: right;\">\n",
       "      <th></th>\n",
       "      <th>relative_coords</th>\n",
       "      <th>ins_len</th>\n",
       "      <th>samples</th>\n",
       "      <th>num_samples</th>\n",
       "      <th>type</th>\n",
       "      <th>absolute_coords</th>\n",
       "      <th>prev_5nts</th>\n",
       "      <th>next_5nts</th>\n",
       "      <th>gene</th>\n",
       "    </tr>\n",
       "  </thead>\n",
       "  <tbody>\n",
       "    <tr>\n",
       "      <th>1</th>\n",
       "      <td>25895:25908</td>\n",
       "      <td>14</td>\n",
       "      <td>[hCoV-19/USA/SEARCH-4650-SAN/2020]</td>\n",
       "      <td>1</td>\n",
       "      <td>insertion</td>\n",
       "      <td>26160:26173</td>\n",
       "      <td>atccg</td>\n",
       "      <td>gagtt</td>\n",
       "      <td>ORF3a</td>\n",
       "    </tr>\n",
       "    <tr>\n",
       "      <th>0</th>\n",
       "      <td>10811:10813</td>\n",
       "      <td>3</td>\n",
       "      <td>[hCoV-19/USA/SEARCH-4288-SAN/2020, hCoV-19/USA...</td>\n",
       "      <td>2</td>\n",
       "      <td>insertion</td>\n",
       "      <td>11076:11078</td>\n",
       "      <td>tgttc</td>\n",
       "      <td>ttttt</td>\n",
       "      <td>ORF1ab</td>\n",
       "    </tr>\n",
       "  </tbody>\n",
       "</table>\n",
       "</div>"
      ],
      "text/plain": [
       "  relative_coords  ins_len                                            samples  \\\n",
       "1     25895:25908       14                 [hCoV-19/USA/SEARCH-4650-SAN/2020]   \n",
       "0     10811:10813        3  [hCoV-19/USA/SEARCH-4288-SAN/2020, hCoV-19/USA...   \n",
       "\n",
       "   num_samples       type absolute_coords prev_5nts next_5nts    gene  \n",
       "1            1  insertion     26160:26173     atccg     gagtt   ORF3a  \n",
       "0            2  insertion     11076:11078     tgttc     ttttt  ORF1ab  "
      ]
     },
     "execution_count": 33,
     "metadata": {},
     "output_type": "execute_result"
    }
   ],
   "source": [
    "inserts = identify_insertions(msa_fp, patient_zero)\n",
    "inserts"
   ]
  },
  {
   "cell_type": "code",
   "execution_count": 34,
   "metadata": {},
   "outputs": [
    {
     "data": {
      "text/plain": [
       "'tctta---acaac'"
      ]
     },
     "execution_count": 34,
     "metadata": {},
     "output_type": "execute_result"
    }
   ],
   "source": [
    "seqsdf.loc[seqsdf['idx'].str.contains('4351'), 'sequence'].values[0][1334:1347]"
   ]
  },
  {
   "cell_type": "code",
   "execution_count": 35,
   "metadata": {},
   "outputs": [
    {
     "data": {
      "text/html": [
       "<div>\n",
       "<style scoped>\n",
       "    .dataframe tbody tr th:only-of-type {\n",
       "        vertical-align: middle;\n",
       "    }\n",
       "\n",
       "    .dataframe tbody tr th {\n",
       "        vertical-align: top;\n",
       "    }\n",
       "\n",
       "    .dataframe thead th {\n",
       "        text-align: right;\n",
       "    }\n",
       "</style>\n",
       "<table border=\"1\" class=\"dataframe\">\n",
       "  <thead>\n",
       "    <tr style=\"text-align: right;\">\n",
       "      <th></th>\n",
       "      <th>relative_coords</th>\n",
       "      <th>del_len</th>\n",
       "      <th>samples</th>\n",
       "      <th>num_samples</th>\n",
       "      <th>type</th>\n",
       "      <th>absolute_coords</th>\n",
       "      <th>prev_5nts</th>\n",
       "      <th>next_5nts</th>\n",
       "      <th>gene</th>\n",
       "    </tr>\n",
       "  </thead>\n",
       "  <tbody>\n",
       "    <tr>\n",
       "      <th>0</th>\n",
       "      <td>1339:1341</td>\n",
       "      <td>3</td>\n",
       "      <td>[hCoV-19/USA/SEARCH-4351-SAN/2020]</td>\n",
       "      <td>1</td>\n",
       "      <td>deletion</td>\n",
       "      <td>1604:1606</td>\n",
       "      <td>tctta</td>\n",
       "      <td>acaac</td>\n",
       "      <td>ORF1ab</td>\n",
       "    </tr>\n",
       "    <tr>\n",
       "      <th>2</th>\n",
       "      <td>21716:21727</td>\n",
       "      <td>12</td>\n",
       "      <td>[hCoV-19/USA/SEARCH-4199-SAN/2020]</td>\n",
       "      <td>1</td>\n",
       "      <td>deletion</td>\n",
       "      <td>21981:21992</td>\n",
       "      <td>ccatt</td>\n",
       "      <td>ttacc</td>\n",
       "      <td>S</td>\n",
       "    </tr>\n",
       "    <tr>\n",
       "      <th>3</th>\n",
       "      <td>249:254</td>\n",
       "      <td>6</td>\n",
       "      <td>[hCoV-19/USA/SEARCH-4206-SAN/2020]</td>\n",
       "      <td>1</td>\n",
       "      <td>deletion</td>\n",
       "      <td>514:519</td>\n",
       "      <td>gtcat</td>\n",
       "      <td>gttga</td>\n",
       "      <td>ORF1ab</td>\n",
       "    </tr>\n",
       "    <tr>\n",
       "      <th>5</th>\n",
       "      <td>251:254</td>\n",
       "      <td>4</td>\n",
       "      <td>[hCoV-19/USA/SEARCH-4449-SAN/2020]</td>\n",
       "      <td>1</td>\n",
       "      <td>deletion</td>\n",
       "      <td>516:519</td>\n",
       "      <td>catgt</td>\n",
       "      <td>gttga</td>\n",
       "      <td>ORF1ab</td>\n",
       "    </tr>\n",
       "    <tr>\n",
       "      <th>7</th>\n",
       "      <td>25894:25901</td>\n",
       "      <td>8</td>\n",
       "      <td>[hCoV-19/USA/SEARCH-4264-SAN/2020]</td>\n",
       "      <td>1</td>\n",
       "      <td>deletion</td>\n",
       "      <td>26159:26166</td>\n",
       "      <td>gttgt</td>\n",
       "      <td>taatg</td>\n",
       "      <td>ORF3a</td>\n",
       "    </tr>\n",
       "    <tr>\n",
       "      <th>11</th>\n",
       "      <td>27818:27844</td>\n",
       "      <td>27</td>\n",
       "      <td>[hCoV-19/USA/SEARCH-4298-SAN/2020]</td>\n",
       "      <td>1</td>\n",
       "      <td>deletion</td>\n",
       "      <td>28083:28109</td>\n",
       "      <td>ggatg</td>\n",
       "      <td>acatc</td>\n",
       "      <td>ORF8</td>\n",
       "    </tr>\n",
       "    <tr>\n",
       "      <th>12</th>\n",
       "      <td>27824:27829</td>\n",
       "      <td>6</td>\n",
       "      <td>[hCoV-19/USA/SEARCH-4583-SAN/2020]</td>\n",
       "      <td>1</td>\n",
       "      <td>deletion</td>\n",
       "      <td>28089:28094</td>\n",
       "      <td>ggctg</td>\n",
       "      <td>aatca</td>\n",
       "      <td>ORF8</td>\n",
       "    </tr>\n",
       "    <tr>\n",
       "      <th>13</th>\n",
       "      <td>28615:28632</td>\n",
       "      <td>18</td>\n",
       "      <td>[hCoV-19/USA/SEARCH-4145-SAN/2020]</td>\n",
       "      <td>1</td>\n",
       "      <td>deletion</td>\n",
       "      <td>28880:28897</td>\n",
       "      <td>cagta</td>\n",
       "      <td>gaatg</td>\n",
       "      <td>N</td>\n",
       "    </tr>\n",
       "    <tr>\n",
       "      <th>6</th>\n",
       "      <td>25892:25895</td>\n",
       "      <td>4</td>\n",
       "      <td>[hCoV-19/USA/SEARCH-4355-SAN/2020, hCoV-19/USA...</td>\n",
       "      <td>2</td>\n",
       "      <td>deletion</td>\n",
       "      <td>26157:26160</td>\n",
       "      <td>gagtt</td>\n",
       "      <td>atcca</td>\n",
       "      <td>ORF3a</td>\n",
       "    </tr>\n",
       "    <tr>\n",
       "      <th>8</th>\n",
       "      <td>27421:27444</td>\n",
       "      <td>24</td>\n",
       "      <td>[hCoV-19/USA/SEARCH-4225-SAN/2020, hCoV-19/USA...</td>\n",
       "      <td>2</td>\n",
       "      <td>deletion</td>\n",
       "      <td>27686:27709</td>\n",
       "      <td>tactc</td>\n",
       "      <td>aatag</td>\n",
       "      <td>ORF7a</td>\n",
       "    </tr>\n",
       "    <tr>\n",
       "      <th>9</th>\n",
       "      <td>27484:27491</td>\n",
       "      <td>8</td>\n",
       "      <td>[hCoV-19/USA/SEARCH-4549-SAN/2020, hCoV-19/USA...</td>\n",
       "      <td>2</td>\n",
       "      <td>deletion</td>\n",
       "      <td>27749:27756</td>\n",
       "      <td>agaaa</td>\n",
       "      <td>gattg</td>\n",
       "      <td>ORF7a</td>\n",
       "    </tr>\n",
       "    <tr>\n",
       "      <th>1</th>\n",
       "      <td>21715:21723</td>\n",
       "      <td>9</td>\n",
       "      <td>[hCoV-19/USA/SEARCH-4531-SAN/2020, hCoV-19/USA...</td>\n",
       "      <td>3</td>\n",
       "      <td>deletion</td>\n",
       "      <td>21980:21988</td>\n",
       "      <td>tccat</td>\n",
       "      <td>tttat</td>\n",
       "      <td>S</td>\n",
       "    </tr>\n",
       "    <tr>\n",
       "      <th>14</th>\n",
       "      <td>28624:28635</td>\n",
       "      <td>12</td>\n",
       "      <td>[hCoV-19/USA/SEARCH-4138-SAN/2020, hCoV-19/USA...</td>\n",
       "      <td>3</td>\n",
       "      <td>deletion</td>\n",
       "      <td>28889:28900</td>\n",
       "      <td>aactt</td>\n",
       "      <td>tggct</td>\n",
       "      <td>N</td>\n",
       "    </tr>\n",
       "    <tr>\n",
       "      <th>10</th>\n",
       "      <td>27613:27625</td>\n",
       "      <td>13</td>\n",
       "      <td>[hCoV-19/USA/SEARCH-4415-SAN/2020, hCoV-19/USA...</td>\n",
       "      <td>6</td>\n",
       "      <td>deletion</td>\n",
       "      <td>27878:27890</td>\n",
       "      <td>cttgt</td>\n",
       "      <td>acatg</td>\n",
       "      <td>ORF7b</td>\n",
       "    </tr>\n",
       "    <tr>\n",
       "      <th>4</th>\n",
       "      <td>250:252</td>\n",
       "      <td>3</td>\n",
       "      <td>[hCoV-19/USA/SEARCH-4342-SAN/2020, hCoV-19/USA...</td>\n",
       "      <td>10</td>\n",
       "      <td>deletion</td>\n",
       "      <td>515:517</td>\n",
       "      <td>tcatg</td>\n",
       "      <td>tggtt</td>\n",
       "      <td>ORF1ab</td>\n",
       "    </tr>\n",
       "  </tbody>\n",
       "</table>\n",
       "</div>"
      ],
      "text/plain": [
       "   relative_coords  del_len  \\\n",
       "0        1339:1341        3   \n",
       "2      21716:21727       12   \n",
       "3          249:254        6   \n",
       "5          251:254        4   \n",
       "7      25894:25901        8   \n",
       "11     27818:27844       27   \n",
       "12     27824:27829        6   \n",
       "13     28615:28632       18   \n",
       "6      25892:25895        4   \n",
       "8      27421:27444       24   \n",
       "9      27484:27491        8   \n",
       "1      21715:21723        9   \n",
       "14     28624:28635       12   \n",
       "10     27613:27625       13   \n",
       "4          250:252        3   \n",
       "\n",
       "                                              samples  num_samples      type  \\\n",
       "0                  [hCoV-19/USA/SEARCH-4351-SAN/2020]            1  deletion   \n",
       "2                  [hCoV-19/USA/SEARCH-4199-SAN/2020]            1  deletion   \n",
       "3                  [hCoV-19/USA/SEARCH-4206-SAN/2020]            1  deletion   \n",
       "5                  [hCoV-19/USA/SEARCH-4449-SAN/2020]            1  deletion   \n",
       "7                  [hCoV-19/USA/SEARCH-4264-SAN/2020]            1  deletion   \n",
       "11                 [hCoV-19/USA/SEARCH-4298-SAN/2020]            1  deletion   \n",
       "12                 [hCoV-19/USA/SEARCH-4583-SAN/2020]            1  deletion   \n",
       "13                 [hCoV-19/USA/SEARCH-4145-SAN/2020]            1  deletion   \n",
       "6   [hCoV-19/USA/SEARCH-4355-SAN/2020, hCoV-19/USA...            2  deletion   \n",
       "8   [hCoV-19/USA/SEARCH-4225-SAN/2020, hCoV-19/USA...            2  deletion   \n",
       "9   [hCoV-19/USA/SEARCH-4549-SAN/2020, hCoV-19/USA...            2  deletion   \n",
       "1   [hCoV-19/USA/SEARCH-4531-SAN/2020, hCoV-19/USA...            3  deletion   \n",
       "14  [hCoV-19/USA/SEARCH-4138-SAN/2020, hCoV-19/USA...            3  deletion   \n",
       "10  [hCoV-19/USA/SEARCH-4415-SAN/2020, hCoV-19/USA...            6  deletion   \n",
       "4   [hCoV-19/USA/SEARCH-4342-SAN/2020, hCoV-19/USA...           10  deletion   \n",
       "\n",
       "   absolute_coords prev_5nts next_5nts    gene  \n",
       "0        1604:1606     tctta     acaac  ORF1ab  \n",
       "2      21981:21992     ccatt     ttacc       S  \n",
       "3          514:519     gtcat     gttga  ORF1ab  \n",
       "5          516:519     catgt     gttga  ORF1ab  \n",
       "7      26159:26166     gttgt     taatg   ORF3a  \n",
       "11     28083:28109     ggatg     acatc    ORF8  \n",
       "12     28089:28094     ggctg     aatca    ORF8  \n",
       "13     28880:28897     cagta     gaatg       N  \n",
       "6      26157:26160     gagtt     atcca   ORF3a  \n",
       "8      27686:27709     tactc     aatag   ORF7a  \n",
       "9      27749:27756     agaaa     gattg   ORF7a  \n",
       "1      21980:21988     tccat     tttat       S  \n",
       "14     28889:28900     aactt     tggct       N  \n",
       "10     27878:27890     cttgt     acatg   ORF7b  \n",
       "4          515:517     tcatg     tggtt  ORF1ab  "
      ]
     },
     "execution_count": 35,
     "metadata": {},
     "output_type": "execute_result"
    }
   ],
   "source": [
    "dels = identify_deletions(msa_fp, patient_zero)\n",
    "dels"
   ]
  },
  {
   "cell_type": "code",
   "execution_count": 36,
   "metadata": {},
   "outputs": [],
   "source": [
    "ref_seq = get_seq(cns_seqs, patient_zero)[265:29674]\n",
    "insert_positions = identify_insertion_positions(ref_seq)\n",
    "seqs = get_seqs(cns_seqs)\n",
    "seqsdf = (pd.DataFrame(index=seqs.keys(), data=seqs.values(), columns=['sequence'])\n",
    "            .reset_index().rename(columns={'index': 'idx'}))\n",
    "# seqsdf"
   ]
  },
  {
   "cell_type": "code",
   "execution_count": 25,
   "metadata": {},
   "outputs": [],
   "source": [
    "# seqsdf.iloc[2]['sequence'][10811:]"
   ]
  },
  {
   "cell_type": "code",
   "execution_count": 26,
   "metadata": {},
   "outputs": [],
   "source": [
    "# insert_positions"
   ]
  },
  {
   "cell_type": "code",
   "execution_count": 27,
   "metadata": {},
   "outputs": [],
   "source": [
    "# min_ins_len = 1\n",
    "# def find_insertions(x):\n",
    "#     ins_positions = [m for m in insert_positions if x[m]!='-' and x[m]!='n']\n",
    "#     insertions = [list(insert) for insert in mit.consecutive_groups(ins_positions)]\n",
    "#     return insertions\n",
    "# seqsdf['ins_positions'] = seqsdf['sequence'].apply(find_insertions)\n",
    "# ins_seqs = seqsdf.loc[seqsdf['ins_positions'].str.len() > 0]\n",
    "# ins_seqs = ins_seqs.explode('ins_positions')\n",
    "# ins_seqs['ins_len'] = ins_seqs['ins_positions'].apply(len)\n",
    "# # only consider deletions longer than 2nts\n",
    "# ins_seqs = ins_seqs[ins_seqs['ins_len'] > min_ins_len]\n",
    "# # fetch coordinates of each deletion\n",
    "# ins_seqs['ins_coords'] = ins_seqs['ins_positions'].apply(get_coords)\n",
    "# # group sample by the deletion they share\n",
    "# ins_seqs = (ins_seqs.groupby(['ins_coords', 'ins_len'])\n",
    "#                     .agg(samples=('idx', 'unique'),       # list of sample IDs with the deletion\n",
    "#                          num_samples=('idx', 'nunique'))  # num of samples with the deletion\n",
    "#                     .reset_index()\n",
    "#                     .sort_values('num_samples'))"
   ]
  },
  {
   "cell_type": "code",
   "execution_count": 28,
   "metadata": {},
   "outputs": [
    {
     "data": {
      "text/html": [
       "<div>\n",
       "<style scoped>\n",
       "    .dataframe tbody tr th:only-of-type {\n",
       "        vertical-align: middle;\n",
       "    }\n",
       "\n",
       "    .dataframe tbody tr th {\n",
       "        vertical-align: top;\n",
       "    }\n",
       "\n",
       "    .dataframe thead th {\n",
       "        text-align: right;\n",
       "    }\n",
       "</style>\n",
       "<table border=\"1\" class=\"dataframe\">\n",
       "  <thead>\n",
       "    <tr style=\"text-align: right;\">\n",
       "      <th></th>\n",
       "      <th>ins_coords</th>\n",
       "      <th>ins_len</th>\n",
       "      <th>samples</th>\n",
       "      <th>num_samples</th>\n",
       "    </tr>\n",
       "  </thead>\n",
       "  <tbody>\n",
       "    <tr>\n",
       "      <th>1</th>\n",
       "      <td>25895:25908</td>\n",
       "      <td>14</td>\n",
       "      <td>[hCoV-19/USA/SEARCH-4650-SAN/2020]</td>\n",
       "      <td>1</td>\n",
       "    </tr>\n",
       "    <tr>\n",
       "      <th>0</th>\n",
       "      <td>10811:10813</td>\n",
       "      <td>3</td>\n",
       "      <td>[hCoV-19/USA/SEARCH-4288-SAN/2020, hCoV-19/USA...</td>\n",
       "      <td>2</td>\n",
       "    </tr>\n",
       "  </tbody>\n",
       "</table>\n",
       "</div>"
      ],
      "text/plain": [
       "    ins_coords  ins_len                                            samples  \\\n",
       "1  25895:25908       14                 [hCoV-19/USA/SEARCH-4650-SAN/2020]   \n",
       "0  10811:10813        3  [hCoV-19/USA/SEARCH-4288-SAN/2020, hCoV-19/USA...   \n",
       "\n",
       "   num_samples  \n",
       "1            1  \n",
       "0            2  "
      ]
     },
     "execution_count": 28,
     "metadata": {},
     "output_type": "execute_result"
    }
   ],
   "source": [
    "ins_seqs"
   ]
  },
  {
   "cell_type": "code",
   "execution_count": 22,
   "metadata": {},
   "outputs": [],
   "source": [
    "ref_seq = get_seq(cns_seqs, patient_zero)"
   ]
  },
  {
   "cell_type": "code",
   "execution_count": 67,
   "metadata": {},
   "outputs": [],
   "source": [
    "for rec in cns_seqs:\n",
    "    if rec.id=='hCoV-19/USA/SEARCH-4206-SAN/2020':\n",
    "        seq = rec.seq"
   ]
  },
  {
   "cell_type": "code",
   "execution_count": 69,
   "metadata": {},
   "outputs": [
    {
     "data": {
      "text/plain": [
       "'gtcat------gttgagctgg'"
      ]
     },
     "execution_count": 69,
     "metadata": {},
     "output_type": "execute_result"
    }
   ],
   "source": [
    "seq[509:530]"
   ]
  },
  {
   "cell_type": "code",
   "execution_count": 23,
   "metadata": {},
   "outputs": [],
   "source": [
    "seqs, ref_seq = process_cns_seqs(cns_seqs, patient_zero)"
   ]
  },
  {
   "cell_type": "code",
   "execution_count": null,
   "metadata": {},
   "outputs": [],
   "source": []
  },
  {
   "cell_type": "code",
   "execution_count": 71,
   "metadata": {},
   "outputs": [],
   "source": [
    "# deletions = identify_deletions(msa_fp, patient_zero, min_del_len=1)\n",
    "# deletions['del_coords'] = deletions['del_coords'].apply(adjust_coords)\n",
    "# deletions['prev_5nts'] = deletions['del_coords'].apply(lambda x: ref_seq[int(x.split(':')[0])-5:int(x.split(':')[0])])\n",
    "# deletions['next_5nts'] = deletions['del_coords'].apply(lambda x: ref_seq[int(x.split(':')[1])+1:int(x.split(':')[1])+6])\n",
    "# deletions['gene'] = deletions['del_coords'].apply(lambda x: int(x.split(':')[0])).apply(map_gene_to_pos)\n",
    "# deletions.to_csv(out_dir/'deletions.csv', index=False)"
   ]
  },
  {
   "cell_type": "code",
   "execution_count": 73,
   "metadata": {},
   "outputs": [],
   "source": [
    "# pd.read_csv(out_dir/'deletions.csv')"
   ]
  },
  {
   "cell_type": "code",
   "execution_count": 74,
   "metadata": {},
   "outputs": [
    {
     "name": "stdout",
     "output_type": "stream",
     "text": [
      "bjorn_test_aligned.fa  bjorn_test.fa\n"
     ]
    }
   ],
   "source": [
    "!ls {msa_dir}"
   ]
  },
  {
   "cell_type": "code",
   "execution_count": null,
   "metadata": {},
   "outputs": [],
   "source": []
  },
  {
   "cell_type": "code",
   "execution_count": 75,
   "metadata": {},
   "outputs": [],
   "source": [
    "# TEST behavior\n",
    "# msa_cmd = f\"mafft --auto --thread {num_cpus} {msa_dir/out_dir.basename()}.fa > {msa_dir/out_dir.basename()}_aligned.fa\"\n",
    "# subprocess.check_call(msa_cmd, shell=True)"
   ]
  },
  {
   "cell_type": "code",
   "execution_count": 77,
   "metadata": {},
   "outputs": [],
   "source": [
    "# ans.head()"
   ]
  },
  {
   "cell_type": "code",
   "execution_count": 78,
   "metadata": {},
   "outputs": [],
   "source": [
    "# ans.to_csv('json_input.csv', index=False)"
   ]
  },
  {
   "cell_type": "code",
   "execution_count": null,
   "metadata": {},
   "outputs": [],
   "source": []
  },
  {
   "cell_type": "markdown",
   "metadata": {},
   "source": [
    "## JSON metadata for CViSB portal"
   ]
  },
  {
   "cell_type": "code",
   "execution_count": 79,
   "metadata": {},
   "outputs": [
    {
     "data": {
      "text/plain": [
       "{'includedInDataset': 'sarscov2-virus-seq',\n",
       " 'identifier': 'SEARCH-0289-NBG.fa',\n",
       " 'name': 'SEARCH-0289-NBG.fa',\n",
       " 'contentUrl': 'https://console.cloud.google.com/storage/browser/_details/andersen-lab_hcov-19-genomics/consensus_sequences/SEARCH-0289-NBG.fa',\n",
       " 'additionalType': 'raw data',\n",
       " 'variableMeasured': ['SARS-CoV-2 virus sequence'],\n",
       " 'measurementTechnique': ['Nucleic Acid Sequencing'],\n",
       " 'dateModified': '2020-11-16',\n",
       " 'experimentIDs': ['SEARCH-0289-NBG-sarscov2']}"
      ]
     },
     "execution_count": 79,
     "metadata": {},
     "output_type": "execute_result"
    }
   ],
   "source": [
    "# datadownload.json\n",
    "{\"includedInDataset\": \"sarscov2-virus-seq\", \"identifier\": \"SEARCH-0289-NBG.fa\", \n",
    " \"name\": \"SEARCH-0289-NBG.fa\", \n",
    " \"contentUrl\": \"https://console.cloud.google.com/storage/browser/_details/andersen-lab_hcov-19-genomics/consensus_sequences/SEARCH-0289-NBG.fa\", \n",
    " \"additionalType\": \"raw data\", \"variableMeasured\": [\"SARS-CoV-2 virus sequence\"], \n",
    " \"measurementTechnique\": [\"Nucleic Acid Sequencing\"], \n",
    " \"dateModified\": \"2020-11-16\", \"experimentIDs\": [\"SEARCH-0289-NBG-sarscov2\"]}"
   ]
  },
  {
   "cell_type": "code",
   "execution_count": 80,
   "metadata": {},
   "outputs": [
    {
     "data": {
      "text/plain": [
       "({'patientID': 'SEARCH-0289-NBG',\n",
       "  'dateModified': '2020-11-16',\n",
       "  'cohort': 'COVID-19',\n",
       "  'outcome': 'unknown',\n",
       "  'alternateIdentifier': ['SEARCH-0289-NBG'],\n",
       "  'infectionYear': 2020,\n",
       "  'publisher': {'@type': 'Organization',\n",
       "   'identifier': 'CViSB',\n",
       "   'url': 'https://cvisb.org/',\n",
       "   'name': 'Center for Viral Systems Biology',\n",
       "   'contactPoint': {'@type': 'ContactPoint',\n",
       "    'contactType': 'technical support',\n",
       "    'url': 'https://cvisb.org/',\n",
       "    'email': 'info@cvisb.org'}},\n",
       "  'citation': [{'name': 'Allison Smither, Gilberto Sabino-Santos, Patricia Snarski, Lilia Melnik, Antoinette Bell, Kaylynn Genemaras, Arnaud Drouin, Dahlene Fusco, Robert Garry with SEARCH Alliance San Diego',\n",
       "    '@type': 'Organization'}],\n",
       "  'updatedBy': 'Julia Mullen',\n",
       "  'country': {'@type': 'Country',\n",
       "   'name': 'United States',\n",
       "   'administrativeUnit': 0,\n",
       "   'administrativeType': 'country',\n",
       "   'identifier': 'US',\n",
       "   'url': 'https://www.iso.org/obp/ui/#iso:code:3166:US'},\n",
       "  'presentationDate': '2020-03-31',\n",
       "  'presentationWeek': {'gt': '2020-03-30', 'lt': '2020-04-06'}},)"
      ]
     },
     "execution_count": 80,
     "metadata": {},
     "output_type": "execute_result"
    }
   ],
   "source": [
    "# patient.json\n",
    "{\"patientID\": \"SEARCH-0289-NBG\", \n",
    " \"dateModified\": \"2020-11-16\", \n",
    " \"cohort\": \"COVID-19\", \n",
    " \"outcome\": \"unknown\", \n",
    " \"alternateIdentifier\": [\"SEARCH-0289-NBG\"], \n",
    " \"infectionYear\": 2020, \n",
    " \"publisher\": {\"@type\": \"Organization\", \n",
    "               \"identifier\": \"CViSB\", \n",
    "               \"url\": \"https://cvisb.org/\", \n",
    "               \"name\": \"Center for Viral Systems Biology\", \n",
    "               \"contactPoint\": {\"@type\": \"ContactPoint\", \"contactType\": \"technical support\", \n",
    "                                \"url\": \"https://cvisb.org/\", \"email\": \"info@cvisb.org\"}}, \n",
    " \"citation\": [{\"name\": \"Allison Smither, Gilberto Sabino-Santos, Patricia Snarski, Lilia Melnik, Antoinette Bell, Kaylynn Genemaras, Arnaud Drouin, Dahlene Fusco, Robert Garry with SEARCH Alliance San Diego\", \"@type\": \"Organization\"}],\n",
    " \"updatedBy\": \"Julia Mullen\", \n",
    " \"country\": {\"@type\": \"Country\", \"name\": \"United States\", \"administrativeUnit\": 0, \"administrativeType\": \"country\", \"identifier\": \"US\", \"url\": \"https://www.iso.org/obp/ui/#iso:code:3166:US\"}, \"presentationDate\": \"2020-03-31\", \n",
    " \"presentationWeek\": {\"gt\": \"2020-03-30\", \"lt\": \"2020-04-06\"}},"
   ]
  },
  {
   "cell_type": "code",
   "execution_count": 82,
   "metadata": {},
   "outputs": [],
   "source": [
    "# # experiment.json\n",
    "# {\"experimentID\": \"MG0987-sarscov2\", \n",
    "#  \"privatePatientID\": \"MG0987\", \n",
    "#  \"variableMeasured\": \"SARS-CoV-2 virus sequence\", \n",
    "#  \"measurementTechnique\": \"Nucleic Acid Sequencing\", \n",
    "#  \"includedInDataset\": \"sarscov2-virus-seq\", \n",
    "#  \"dateModified\": \"2020-11-16\", \n",
    "#  \"citation\": [{\"name\": \"SEARCH Alliance San Diego\", \n",
    "#                \"@type\": \"Organization\"}], \n",
    "#  \"data\": [{\"@type\": \"VirusSeqData\", \"virus\": \"SARS-CoV-2\", \n",
    "#            \"virusSegment\": null, \"DNAsequence\": \"NNN\"}]}"
   ]
  },
  {
   "cell_type": "code",
   "execution_count": 83,
   "metadata": {},
   "outputs": [],
   "source": [
    "def to_json_entry(x):\n",
    "    \"\"\"Return experiment metadata in JSON format compatible with CViSB Data Portal\"\"\"\n",
    "    patient_id = x['ID']\n",
    "    date = x['collection_date']\n",
    "    authors = x['authors']\n",
    "    return {\"experimentID\": f\"{patient_id}-sarscov2\", \"privatePatientID\": patient_id, \n",
    "           \"variableMeasured\": \"SARS-CoV-2 virus sequence\", \n",
    "           \"measurementTechnique\": \"Nucleic Acid Sequencing\", \n",
    "           \"includedInDataset\": \"sarscov2-virus-seq\", \n",
    "           \"dateModified\": date, \n",
    "           \"citation\": [{\"name\": authors, \n",
    "                         \"@type\": \"Organization\"}], \"data\": []}\n",
    "\n",
    "# ans.apply(to_json_entry, axis=1).tolist()"
   ]
  },
  {
   "cell_type": "markdown",
   "metadata": {},
   "source": [
    "## Trees"
   ]
  },
  {
   "cell_type": "markdown",
   "metadata": {},
   "source": [
    "## iSNV Analysis"
   ]
  },
  {
   "cell_type": "code",
   "execution_count": 2,
   "metadata": {},
   "outputs": [],
   "source": [
    "cols = ['sample', 'GFF_FEATURE', 'POS', 'REF', 'ALT', 'ALT_FREQ']"
   ]
  },
  {
   "cell_type": "code",
   "execution_count": 5,
   "metadata": {},
   "outputs": [],
   "source": [
    "sample_ids = [4531, 4690, 4691]\n",
    "v_fps = get_variant_filepaths(sample_ids)\n",
    "v_df = get_variant_data(v_fps)[cols]\n",
    "v_df.drop_duplicates(subset=['sample', 'POS', 'ALT'], inplace=True)"
   ]
  },
  {
   "cell_type": "code",
   "execution_count": 6,
   "metadata": {},
   "outputs": [
    {
     "data": {
      "text/plain": [
       "{4531: '/home/gk/analysis/2020.11.25.hCoV19/variants/illumina/SEARCH-4531_L001_L002_L003_L004.tsv',\n",
       " 4690: '/home/gk/analysis/2020.11.25.hCoV19/variants/illumina/SEARCH-4690_L001_L002_L003_L004.tsv',\n",
       " 4691: '/home/gk/analysis/2020.11.25.hCoV19/variants/illumina/SEARCH-4691_L001_L002_L003_L004.tsv'}"
      ]
     },
     "execution_count": 6,
     "metadata": {},
     "output_type": "execute_result"
    }
   ],
   "source": [
    "v_fps"
   ]
  },
  {
   "cell_type": "code",
   "execution_count": 7,
   "metadata": {},
   "outputs": [
    {
     "data": {
      "text/html": [
       "<div>\n",
       "<style scoped>\n",
       "    .dataframe tbody tr th:only-of-type {\n",
       "        vertical-align: middle;\n",
       "    }\n",
       "\n",
       "    .dataframe tbody tr th {\n",
       "        vertical-align: top;\n",
       "    }\n",
       "\n",
       "    .dataframe thead th {\n",
       "        text-align: right;\n",
       "    }\n",
       "</style>\n",
       "<table border=\"1\" class=\"dataframe\">\n",
       "  <thead>\n",
       "    <tr style=\"text-align: right;\">\n",
       "      <th></th>\n",
       "      <th>sample</th>\n",
       "      <th>GFF_FEATURE</th>\n",
       "      <th>POS</th>\n",
       "      <th>REF</th>\n",
       "      <th>ALT</th>\n",
       "      <th>ALT_FREQ</th>\n",
       "    </tr>\n",
       "  </thead>\n",
       "  <tbody>\n",
       "    <tr>\n",
       "      <th>9</th>\n",
       "      <td>4531</td>\n",
       "      <td>cds-YP_009724389.1</td>\n",
       "      <td>12369</td>\n",
       "      <td>C</td>\n",
       "      <td>T</td>\n",
       "      <td>1.000000</td>\n",
       "    </tr>\n",
       "    <tr>\n",
       "      <th>27</th>\n",
       "      <td>4690</td>\n",
       "      <td>cds-YP_009724389.1</td>\n",
       "      <td>12369</td>\n",
       "      <td>C</td>\n",
       "      <td>T</td>\n",
       "      <td>0.976622</td>\n",
       "    </tr>\n",
       "  </tbody>\n",
       "</table>\n",
       "</div>"
      ],
      "text/plain": [
       "    sample         GFF_FEATURE    POS REF ALT  ALT_FREQ\n",
       "9     4531  cds-YP_009724389.1  12369   C   T  1.000000\n",
       "27    4690  cds-YP_009724389.1  12369   C   T  0.976622"
      ]
     },
     "execution_count": 7,
     "metadata": {},
     "output_type": "execute_result"
    }
   ],
   "source": [
    "v_df[v_df['POS']==12369]"
   ]
  },
  {
   "cell_type": "code",
   "execution_count": 8,
   "metadata": {},
   "outputs": [
    {
     "data": {
      "text/html": [
       "<div>\n",
       "<style scoped>\n",
       "    .dataframe tbody tr th:only-of-type {\n",
       "        vertical-align: middle;\n",
       "    }\n",
       "\n",
       "    .dataframe tbody tr th {\n",
       "        vertical-align: top;\n",
       "    }\n",
       "\n",
       "    .dataframe thead th {\n",
       "        text-align: right;\n",
       "    }\n",
       "</style>\n",
       "<table border=\"1\" class=\"dataframe\">\n",
       "  <thead>\n",
       "    <tr style=\"text-align: right;\">\n",
       "      <th></th>\n",
       "      <th>sample</th>\n",
       "      <th>POS</th>\n",
       "      <th>REF</th>\n",
       "      <th>ALT</th>\n",
       "      <th>ALT_FREQ</th>\n",
       "    </tr>\n",
       "  </thead>\n",
       "  <tbody>\n",
       "    <tr>\n",
       "      <th>9</th>\n",
       "      <td>4531</td>\n",
       "      <td>12369</td>\n",
       "      <td>C</td>\n",
       "      <td>T</td>\n",
       "      <td>1.000000</td>\n",
       "    </tr>\n",
       "    <tr>\n",
       "      <th>27</th>\n",
       "      <td>4690</td>\n",
       "      <td>12369</td>\n",
       "      <td>C</td>\n",
       "      <td>T</td>\n",
       "      <td>0.976622</td>\n",
       "    </tr>\n",
       "  </tbody>\n",
       "</table>\n",
       "</div>"
      ],
      "text/plain": [
       "    sample    POS REF ALT  ALT_FREQ\n",
       "9     4531  12369   C   T  1.000000\n",
       "27    4690  12369   C   T  0.976622"
      ]
     },
     "execution_count": 8,
     "metadata": {},
     "output_type": "execute_result"
    }
   ],
   "source": [
    "v_df.loc[(v_df['REF']=='C')&(v_df['ALT']=='T')&(v_df['POS'] > 12300)&(v_df['POS'] < 12400)][['sample', 'POS', 'REF', 'ALT', 'ALT_FREQ']]"
   ]
  },
  {
   "cell_type": "code",
   "execution_count": 7,
   "metadata": {},
   "outputs": [],
   "source": [
    "ans = v_df.loc[(v_df.duplicated(subset=['POS'], keep=False))][['sample', 'POS', 'REF', 'ALT', 'ALT_FREQ']].sort_values('POS')\n"
   ]
  },
  {
   "cell_type": "code",
   "execution_count": 8,
   "metadata": {},
   "outputs": [
    {
     "data": {
      "text/html": [
       "<div>\n",
       "<style scoped>\n",
       "    .dataframe tbody tr th:only-of-type {\n",
       "        vertical-align: middle;\n",
       "    }\n",
       "\n",
       "    .dataframe tbody tr th {\n",
       "        vertical-align: top;\n",
       "    }\n",
       "\n",
       "    .dataframe thead th {\n",
       "        text-align: right;\n",
       "    }\n",
       "</style>\n",
       "<table border=\"1\" class=\"dataframe\">\n",
       "  <thead>\n",
       "    <tr style=\"text-align: right;\">\n",
       "      <th></th>\n",
       "      <th>num_minor_vars</th>\n",
       "    </tr>\n",
       "    <tr>\n",
       "      <th>sample</th>\n",
       "      <th></th>\n",
       "    </tr>\n",
       "  </thead>\n",
       "  <tbody>\n",
       "    <tr>\n",
       "      <th>4531</th>\n",
       "      <td>6</td>\n",
       "    </tr>\n",
       "    <tr>\n",
       "      <th>4690</th>\n",
       "      <td>33</td>\n",
       "    </tr>\n",
       "    <tr>\n",
       "      <th>4691</th>\n",
       "      <td>14</td>\n",
       "    </tr>\n",
       "  </tbody>\n",
       "</table>\n",
       "</div>"
      ],
      "text/plain": [
       "        num_minor_vars\n",
       "sample                \n",
       "4531                 6\n",
       "4690                33\n",
       "4691                14"
      ]
     },
     "execution_count": 8,
     "metadata": {},
     "output_type": "execute_result"
    }
   ],
   "source": [
    "v_df['var'] = v_df['POS'].astype(str) + ':' + v_df['ALT']\n",
    "v_df[v_df['ALT_FREQ'] < 0.5].groupby('sample').agg(num_minor_vars=('var', 'nunique'))"
   ]
  },
  {
   "cell_type": "code",
   "execution_count": 9,
   "metadata": {},
   "outputs": [
    {
     "data": {
      "text/html": [
       "<div>\n",
       "<style scoped>\n",
       "    .dataframe tbody tr th:only-of-type {\n",
       "        vertical-align: middle;\n",
       "    }\n",
       "\n",
       "    .dataframe tbody tr th {\n",
       "        vertical-align: top;\n",
       "    }\n",
       "\n",
       "    .dataframe thead th {\n",
       "        text-align: right;\n",
       "    }\n",
       "</style>\n",
       "<table border=\"1\" class=\"dataframe\">\n",
       "  <thead>\n",
       "    <tr style=\"text-align: right;\">\n",
       "      <th></th>\n",
       "      <th>sample</th>\n",
       "      <th>GFF_FEATURE</th>\n",
       "      <th>POS</th>\n",
       "      <th>REF</th>\n",
       "      <th>ALT</th>\n",
       "      <th>ALT_FREQ</th>\n",
       "    </tr>\n",
       "  </thead>\n",
       "  <tbody>\n",
       "    <tr>\n",
       "      <th>5</th>\n",
       "      <td>4531</td>\n",
       "      <td>NaN</td>\n",
       "      <td>1601</td>\n",
       "      <td>C</td>\n",
       "      <td>-TTA</td>\n",
       "      <td>0.045389</td>\n",
       "    </tr>\n",
       "    <tr>\n",
       "      <th>8</th>\n",
       "      <td>4531</td>\n",
       "      <td>NaN</td>\n",
       "      <td>6696</td>\n",
       "      <td>C</td>\n",
       "      <td>+T</td>\n",
       "      <td>0.041880</td>\n",
       "    </tr>\n",
       "    <tr>\n",
       "      <th>11</th>\n",
       "      <td>4531</td>\n",
       "      <td>cds-YP_009724389.1</td>\n",
       "      <td>13940</td>\n",
       "      <td>A</td>\n",
       "      <td>G</td>\n",
       "      <td>0.057012</td>\n",
       "    </tr>\n",
       "    <tr>\n",
       "      <th>19</th>\n",
       "      <td>4531</td>\n",
       "      <td>cds-YP_009724390.1</td>\n",
       "      <td>22165</td>\n",
       "      <td>T</td>\n",
       "      <td>C</td>\n",
       "      <td>0.030303</td>\n",
       "    </tr>\n",
       "    <tr>\n",
       "      <th>22</th>\n",
       "      <td>4531</td>\n",
       "      <td>NaN</td>\n",
       "      <td>22583</td>\n",
       "      <td>G</td>\n",
       "      <td>+T</td>\n",
       "      <td>0.092683</td>\n",
       "    </tr>\n",
       "    <tr>\n",
       "      <th>27</th>\n",
       "      <td>4531</td>\n",
       "      <td>cds-YP_009724390.1</td>\n",
       "      <td>24072</td>\n",
       "      <td>A</td>\n",
       "      <td>G</td>\n",
       "      <td>0.039066</td>\n",
       "    </tr>\n",
       "  </tbody>\n",
       "</table>\n",
       "</div>"
      ],
      "text/plain": [
       "    sample         GFF_FEATURE    POS REF   ALT  ALT_FREQ\n",
       "5     4531                 NaN   1601   C  -TTA  0.045389\n",
       "8     4531                 NaN   6696   C    +T  0.041880\n",
       "11    4531  cds-YP_009724389.1  13940   A     G  0.057012\n",
       "19    4531  cds-YP_009724390.1  22165   T     C  0.030303\n",
       "22    4531                 NaN  22583   G    +T  0.092683\n",
       "27    4531  cds-YP_009724390.1  24072   A     G  0.039066"
      ]
     },
     "execution_count": 9,
     "metadata": {},
     "output_type": "execute_result"
    }
   ],
   "source": [
    "v_df.loc[(v_df['sample']==4531)&(v_df['ALT_FREQ']<0.5)][cols]"
   ]
  },
  {
   "cell_type": "code",
   "execution_count": 10,
   "metadata": {
    "scrolled": true
   },
   "outputs": [
    {
     "data": {
      "text/html": [
       "<div>\n",
       "<style scoped>\n",
       "    .dataframe tbody tr th:only-of-type {\n",
       "        vertical-align: middle;\n",
       "    }\n",
       "\n",
       "    .dataframe tbody tr th {\n",
       "        vertical-align: top;\n",
       "    }\n",
       "\n",
       "    .dataframe thead th {\n",
       "        text-align: right;\n",
       "    }\n",
       "</style>\n",
       "<table border=\"1\" class=\"dataframe\">\n",
       "  <thead>\n",
       "    <tr style=\"text-align: right;\">\n",
       "      <th></th>\n",
       "      <th>sample</th>\n",
       "      <th>GFF_FEATURE</th>\n",
       "      <th>POS</th>\n",
       "      <th>REF</th>\n",
       "      <th>ALT</th>\n",
       "      <th>ALT_FREQ</th>\n",
       "    </tr>\n",
       "  </thead>\n",
       "  <tbody>\n",
       "    <tr>\n",
       "      <th>58</th>\n",
       "      <td>4690</td>\n",
       "      <td>cds-YP_009724397.2</td>\n",
       "      <td>29348</td>\n",
       "      <td>G</td>\n",
       "      <td>T</td>\n",
       "      <td>0.522132</td>\n",
       "    </tr>\n",
       "  </tbody>\n",
       "</table>\n",
       "</div>"
      ],
      "text/plain": [
       "    sample         GFF_FEATURE    POS REF ALT  ALT_FREQ\n",
       "58    4690  cds-YP_009724397.2  29348   G   T  0.522132"
      ]
     },
     "execution_count": 10,
     "metadata": {},
     "output_type": "execute_result"
    }
   ],
   "source": [
    "v_df.loc[v_df['POS']==29348][cols]"
   ]
  },
  {
   "cell_type": "code",
   "execution_count": 11,
   "metadata": {
    "scrolled": true
   },
   "outputs": [
    {
     "data": {
      "text/html": [
       "<div>\n",
       "<style scoped>\n",
       "    .dataframe tbody tr th:only-of-type {\n",
       "        vertical-align: middle;\n",
       "    }\n",
       "\n",
       "    .dataframe tbody tr th {\n",
       "        vertical-align: top;\n",
       "    }\n",
       "\n",
       "    .dataframe thead th {\n",
       "        text-align: right;\n",
       "    }\n",
       "</style>\n",
       "<table border=\"1\" class=\"dataframe\">\n",
       "  <thead>\n",
       "    <tr style=\"text-align: right;\">\n",
       "      <th></th>\n",
       "      <th>sample</th>\n",
       "      <th>GFF_FEATURE</th>\n",
       "      <th>POS</th>\n",
       "      <th>REF</th>\n",
       "      <th>ALT</th>\n",
       "      <th>ALT_FREQ</th>\n",
       "    </tr>\n",
       "  </thead>\n",
       "  <tbody>\n",
       "    <tr>\n",
       "      <th>21</th>\n",
       "      <td>4531</td>\n",
       "      <td>cds-YP_009724390.1</td>\n",
       "      <td>22343</td>\n",
       "      <td>G</td>\n",
       "      <td>T</td>\n",
       "      <td>1.000000</td>\n",
       "    </tr>\n",
       "    <tr>\n",
       "      <th>28</th>\n",
       "      <td>4531</td>\n",
       "      <td>cds-YP_009724391.1</td>\n",
       "      <td>25563</td>\n",
       "      <td>G</td>\n",
       "      <td>T</td>\n",
       "      <td>1.000000</td>\n",
       "    </tr>\n",
       "    <tr>\n",
       "      <th>29</th>\n",
       "      <td>4531</td>\n",
       "      <td>cds-YP_009724397.2</td>\n",
       "      <td>28899</td>\n",
       "      <td>G</td>\n",
       "      <td>T</td>\n",
       "      <td>0.999853</td>\n",
       "    </tr>\n",
       "    <tr>\n",
       "      <th>15</th>\n",
       "      <td>4690</td>\n",
       "      <td>cds-YP_009724389.1</td>\n",
       "      <td>4806</td>\n",
       "      <td>G</td>\n",
       "      <td>T</td>\n",
       "      <td>0.047414</td>\n",
       "    </tr>\n",
       "    <tr>\n",
       "      <th>50</th>\n",
       "      <td>4690</td>\n",
       "      <td>cds-YP_009724391.1</td>\n",
       "      <td>25563</td>\n",
       "      <td>G</td>\n",
       "      <td>T</td>\n",
       "      <td>1.000000</td>\n",
       "    </tr>\n",
       "    <tr>\n",
       "      <th>58</th>\n",
       "      <td>4690</td>\n",
       "      <td>cds-YP_009724397.2</td>\n",
       "      <td>29348</td>\n",
       "      <td>G</td>\n",
       "      <td>T</td>\n",
       "      <td>0.522132</td>\n",
       "    </tr>\n",
       "    <tr>\n",
       "      <th>9</th>\n",
       "      <td>4691</td>\n",
       "      <td>cds-YP_009724389.1</td>\n",
       "      <td>7805</td>\n",
       "      <td>G</td>\n",
       "      <td>T</td>\n",
       "      <td>0.032258</td>\n",
       "    </tr>\n",
       "    <tr>\n",
       "      <th>22</th>\n",
       "      <td>4691</td>\n",
       "      <td>cds-YP_009724390.1</td>\n",
       "      <td>22775</td>\n",
       "      <td>G</td>\n",
       "      <td>T</td>\n",
       "      <td>0.032258</td>\n",
       "    </tr>\n",
       "    <tr>\n",
       "      <th>26</th>\n",
       "      <td>4691</td>\n",
       "      <td>cds-YP_009724391.1</td>\n",
       "      <td>25563</td>\n",
       "      <td>G</td>\n",
       "      <td>T</td>\n",
       "      <td>1.000000</td>\n",
       "    </tr>\n",
       "  </tbody>\n",
       "</table>\n",
       "</div>"
      ],
      "text/plain": [
       "    sample         GFF_FEATURE    POS REF ALT  ALT_FREQ\n",
       "21    4531  cds-YP_009724390.1  22343   G   T  1.000000\n",
       "28    4531  cds-YP_009724391.1  25563   G   T  1.000000\n",
       "29    4531  cds-YP_009724397.2  28899   G   T  0.999853\n",
       "15    4690  cds-YP_009724389.1   4806   G   T  0.047414\n",
       "50    4690  cds-YP_009724391.1  25563   G   T  1.000000\n",
       "58    4690  cds-YP_009724397.2  29348   G   T  0.522132\n",
       "9     4691  cds-YP_009724389.1   7805   G   T  0.032258\n",
       "22    4691  cds-YP_009724390.1  22775   G   T  0.032258\n",
       "26    4691  cds-YP_009724391.1  25563   G   T  1.000000"
      ]
     },
     "execution_count": 11,
     "metadata": {},
     "output_type": "execute_result"
    }
   ],
   "source": [
    "v_df[(v_df['REF']=='G')&(v_df['ALT']=='T')][cols]"
   ]
  },
  {
   "cell_type": "code",
   "execution_count": 12,
   "metadata": {},
   "outputs": [],
   "source": [
    "ans.to_excel('common_variants.xlsx', index=False)"
   ]
  },
  {
   "cell_type": "code",
   "execution_count": 18,
   "metadata": {},
   "outputs": [
    {
     "name": "stdout",
     "output_type": "stream",
     "text": [
      "(140796, 40)\n"
     ]
    },
    {
     "data": {
      "text/html": [
       "<div>\n",
       "<style scoped>\n",
       "    .dataframe tbody tr th:only-of-type {\n",
       "        vertical-align: middle;\n",
       "    }\n",
       "\n",
       "    .dataframe tbody tr th {\n",
       "        vertical-align: top;\n",
       "    }\n",
       "\n",
       "    .dataframe thead th {\n",
       "        text-align: right;\n",
       "    }\n",
       "</style>\n",
       "<table border=\"1\" class=\"dataframe\">\n",
       "  <thead>\n",
       "    <tr style=\"text-align: right;\">\n",
       "      <th></th>\n",
       "      <th>REGION</th>\n",
       "      <th>POS</th>\n",
       "      <th>REF</th>\n",
       "      <th>ALT</th>\n",
       "      <th>REF_DP</th>\n",
       "      <th>REF_RV</th>\n",
       "      <th>REF_QUAL</th>\n",
       "      <th>ALT_DP</th>\n",
       "      <th>ALT_RV</th>\n",
       "      <th>ALT_QUAL</th>\n",
       "      <th>...</th>\n",
       "      <th>REF_RV_54idSEARCH0513SAN_L001_L002_L003_L004.tsv</th>\n",
       "      <th>REF_QUAL_54idSEARCH0513SAN_L001_L002_L003_L004.tsv</th>\n",
       "      <th>ALT_DP_54idSEARCH0513SAN_L001_L002_L003_L004.tsv</th>\n",
       "      <th>ALT_RV_54idSEARCH0513SAN_L001_L002_L003_L004.tsv</th>\n",
       "      <th>ALT_QUAL_54idSEARCH0513SAN_L001_L002_L003_L004.tsv</th>\n",
       "      <th>ALT_FREQ_54idSEARCH0513SAN_L001_L002_L003_L004.tsv</th>\n",
       "      <th>TOTAL_DP_54idSEARCH0513SAN_L001_L002_L003_L004.tsv</th>\n",
       "      <th>PVAL_54idSEARCH0513SAN_L001_L002_L003_L004.tsv</th>\n",
       "      <th>PASS_54idSEARCH0513SAN_L001_L002_L003_L004.tsv</th>\n",
       "      <th>Unnamed: 29</th>\n",
       "    </tr>\n",
       "  </thead>\n",
       "  <tbody>\n",
       "    <tr>\n",
       "      <th>0</th>\n",
       "      <td>NC_045512.2</td>\n",
       "      <td>241</td>\n",
       "      <td>C</td>\n",
       "      <td>T</td>\n",
       "      <td>1.0</td>\n",
       "      <td>0.0</td>\n",
       "      <td>72.0</td>\n",
       "      <td>3314.0</td>\n",
       "      <td>769.0</td>\n",
       "      <td>52.0</td>\n",
       "      <td>...</td>\n",
       "      <td>NaN</td>\n",
       "      <td>NaN</td>\n",
       "      <td>NaN</td>\n",
       "      <td>NaN</td>\n",
       "      <td>NaN</td>\n",
       "      <td>NaN</td>\n",
       "      <td>NaN</td>\n",
       "      <td>NaN</td>\n",
       "      <td>NaN</td>\n",
       "      <td>NaN</td>\n",
       "    </tr>\n",
       "    <tr>\n",
       "      <th>1</th>\n",
       "      <td>NC_045512.2</td>\n",
       "      <td>1884</td>\n",
       "      <td>C</td>\n",
       "      <td>T</td>\n",
       "      <td>1541.0</td>\n",
       "      <td>1085.0</td>\n",
       "      <td>39.0</td>\n",
       "      <td>66.0</td>\n",
       "      <td>35.0</td>\n",
       "      <td>38.0</td>\n",
       "      <td>...</td>\n",
       "      <td>NaN</td>\n",
       "      <td>NaN</td>\n",
       "      <td>NaN</td>\n",
       "      <td>NaN</td>\n",
       "      <td>NaN</td>\n",
       "      <td>NaN</td>\n",
       "      <td>NaN</td>\n",
       "      <td>NaN</td>\n",
       "      <td>NaN</td>\n",
       "      <td>NaN</td>\n",
       "    </tr>\n",
       "    <tr>\n",
       "      <th>2</th>\n",
       "      <td>NC_045512.2</td>\n",
       "      <td>1884</td>\n",
       "      <td>C</td>\n",
       "      <td>T</td>\n",
       "      <td>1541.0</td>\n",
       "      <td>1085.0</td>\n",
       "      <td>39.0</td>\n",
       "      <td>66.0</td>\n",
       "      <td>35.0</td>\n",
       "      <td>38.0</td>\n",
       "      <td>...</td>\n",
       "      <td>NaN</td>\n",
       "      <td>NaN</td>\n",
       "      <td>NaN</td>\n",
       "      <td>NaN</td>\n",
       "      <td>NaN</td>\n",
       "      <td>NaN</td>\n",
       "      <td>NaN</td>\n",
       "      <td>NaN</td>\n",
       "      <td>NaN</td>\n",
       "      <td>NaN</td>\n",
       "    </tr>\n",
       "    <tr>\n",
       "      <th>3</th>\n",
       "      <td>NC_045512.2</td>\n",
       "      <td>2455</td>\n",
       "      <td>C</td>\n",
       "      <td>T</td>\n",
       "      <td>0.0</td>\n",
       "      <td>0.0</td>\n",
       "      <td>0.0</td>\n",
       "      <td>371.0</td>\n",
       "      <td>227.0</td>\n",
       "      <td>47.0</td>\n",
       "      <td>...</td>\n",
       "      <td>NaN</td>\n",
       "      <td>NaN</td>\n",
       "      <td>NaN</td>\n",
       "      <td>NaN</td>\n",
       "      <td>NaN</td>\n",
       "      <td>NaN</td>\n",
       "      <td>NaN</td>\n",
       "      <td>NaN</td>\n",
       "      <td>NaN</td>\n",
       "      <td>NaN</td>\n",
       "    </tr>\n",
       "    <tr>\n",
       "      <th>4</th>\n",
       "      <td>NC_045512.2</td>\n",
       "      <td>2455</td>\n",
       "      <td>C</td>\n",
       "      <td>T</td>\n",
       "      <td>0.0</td>\n",
       "      <td>0.0</td>\n",
       "      <td>0.0</td>\n",
       "      <td>371.0</td>\n",
       "      <td>227.0</td>\n",
       "      <td>47.0</td>\n",
       "      <td>...</td>\n",
       "      <td>NaN</td>\n",
       "      <td>NaN</td>\n",
       "      <td>NaN</td>\n",
       "      <td>NaN</td>\n",
       "      <td>NaN</td>\n",
       "      <td>NaN</td>\n",
       "      <td>NaN</td>\n",
       "      <td>NaN</td>\n",
       "      <td>NaN</td>\n",
       "      <td>NaN</td>\n",
       "    </tr>\n",
       "  </tbody>\n",
       "</table>\n",
       "<p>5 rows × 40 columns</p>\n",
       "</div>"
      ],
      "text/plain": [
       "        REGION   POS REF ALT  REF_DP  REF_RV  REF_QUAL  ALT_DP  ALT_RV  \\\n",
       "0  NC_045512.2   241   C   T     1.0     0.0      72.0  3314.0   769.0   \n",
       "1  NC_045512.2  1884   C   T  1541.0  1085.0      39.0    66.0    35.0   \n",
       "2  NC_045512.2  1884   C   T  1541.0  1085.0      39.0    66.0    35.0   \n",
       "3  NC_045512.2  2455   C   T     0.0     0.0       0.0   371.0   227.0   \n",
       "4  NC_045512.2  2455   C   T     0.0     0.0       0.0   371.0   227.0   \n",
       "\n",
       "   ALT_QUAL  ...  REF_RV_54idSEARCH0513SAN_L001_L002_L003_L004.tsv  \\\n",
       "0      52.0  ...                                               NaN   \n",
       "1      38.0  ...                                               NaN   \n",
       "2      38.0  ...                                               NaN   \n",
       "3      47.0  ...                                               NaN   \n",
       "4      47.0  ...                                               NaN   \n",
       "\n",
       "   REF_QUAL_54idSEARCH0513SAN_L001_L002_L003_L004.tsv  \\\n",
       "0                                                NaN    \n",
       "1                                                NaN    \n",
       "2                                                NaN    \n",
       "3                                                NaN    \n",
       "4                                                NaN    \n",
       "\n",
       "   ALT_DP_54idSEARCH0513SAN_L001_L002_L003_L004.tsv  \\\n",
       "0                                               NaN   \n",
       "1                                               NaN   \n",
       "2                                               NaN   \n",
       "3                                               NaN   \n",
       "4                                               NaN   \n",
       "\n",
       "  ALT_RV_54idSEARCH0513SAN_L001_L002_L003_L004.tsv  \\\n",
       "0                                              NaN   \n",
       "1                                              NaN   \n",
       "2                                              NaN   \n",
       "3                                              NaN   \n",
       "4                                              NaN   \n",
       "\n",
       "  ALT_QUAL_54idSEARCH0513SAN_L001_L002_L003_L004.tsv  \\\n",
       "0                                                NaN   \n",
       "1                                                NaN   \n",
       "2                                                NaN   \n",
       "3                                                NaN   \n",
       "4                                                NaN   \n",
       "\n",
       "  ALT_FREQ_54idSEARCH0513SAN_L001_L002_L003_L004.tsv  \\\n",
       "0                                                NaN   \n",
       "1                                                NaN   \n",
       "2                                                NaN   \n",
       "3                                                NaN   \n",
       "4                                                NaN   \n",
       "\n",
       "  TOTAL_DP_54idSEARCH0513SAN_L001_L002_L003_L004.tsv  \\\n",
       "0                                                NaN   \n",
       "1                                                NaN   \n",
       "2                                                NaN   \n",
       "3                                                NaN   \n",
       "4                                                NaN   \n",
       "\n",
       "  PVAL_54idSEARCH0513SAN_L001_L002_L003_L004.tsv  \\\n",
       "0                                            NaN   \n",
       "1                                            NaN   \n",
       "2                                            NaN   \n",
       "3                                            NaN   \n",
       "4                                            NaN   \n",
       "\n",
       "  PASS_54idSEARCH0513SAN_L001_L002_L003_L004.tsv  Unnamed: 29  \n",
       "0                                            NaN          NaN  \n",
       "1                                            NaN          NaN  \n",
       "2                                            NaN          NaN  \n",
       "3                                            NaN          NaN  \n",
       "4                                            NaN          NaN  \n",
       "\n",
       "[5 rows x 40 columns]"
      ]
     },
     "execution_count": 18,
     "metadata": {},
     "output_type": "execute_result"
    }
   ],
   "source": [
    "var_fps = glob.glob(f\"/home/gk/analysis/**/variants/illumina/*.tsv\")\n",
    "var_df = (pd.concat((pd.read_csv(f, sep='\\t') for f in var_fps)))\n",
    "print(var_df.shape)\n",
    "var_df.head()"
   ]
  },
  {
   "cell_type": "code",
   "execution_count": 19,
   "metadata": {},
   "outputs": [
    {
     "data": {
      "text/plain": [
       "{'cds-YP_009724389.1': 'ORF1ab',\n",
       " 'cds-YP_009725295.1': 'ORF1ab',\n",
       " 'cds-YP_009724390.1': 'S',\n",
       " 'cds-YP_009724396.1': 'ORF8',\n",
       " 'cds-YP_009724397.2': 'N',\n",
       " 'cds-YP_009724395.1': 'ORF7a',\n",
       " 'cds-YP_009724391.1': 'ORF3a',\n",
       " 'cds-YP_009724393.1': 'M',\n",
       " 'cds-YP_009724394.1': 'ORF6',\n",
       " 'cds-YP_009725255.1': 'ORF10',\n",
       " 'cds-YP_009725318.1': 'ORF7b',\n",
       " 'cds-YP_009724392.1': 'E'}"
      ]
     },
     "execution_count": 19,
     "metadata": {},
     "output_type": "execute_result"
    }
   ],
   "source": [
    "gff_filepath = '/home/al/data/hcov19/gff/NC_045512.2.gff3'\n",
    "fn = gffutils.example_filename(gff_filepath)\n",
    "db = gffutils.create_db(fn, dbfn='test.db', merge_strategy='merge', force=True)\n",
    "all_gffs = var_df['GFF_FEATURE'].dropna().unique()\n",
    "gff2gene = {}\n",
    "for gff in all_gffs:\n",
    "    if gff:\n",
    "        gff2gene[gff] = db[gff]['gene'][0]\n",
    "gff2gene"
   ]
  },
  {
   "cell_type": "code",
   "execution_count": 20,
   "metadata": {},
   "outputs": [],
   "source": [
    "var_df['gene'] = var_df['GFF_FEATURE'].apply(lambda x: gff2gene.get(x, 'nan'))"
   ]
  },
  {
   "cell_type": "code",
   "execution_count": 84,
   "metadata": {},
   "outputs": [],
   "source": [
    "# var_df.drop(columns=['GFF_FEATURE'], inplace=True)\n",
    "# try:\n",
    "#     var_df['gene'] = var_df['GFF_FEATURE'].apply(lambda x: gff2gene.get(x, 'nan'))\n",
    "# except:\n",
    "#     raise KeyError('GFF_FEATURE column not found in the input dataframe.')"
   ]
  },
  {
   "cell_type": "code",
   "execution_count": 85,
   "metadata": {},
   "outputs": [],
   "source": [
    "# var_df.loc[var_df['gene']=='nan']"
   ]
  },
  {
   "cell_type": "code",
   "execution_count": 86,
   "metadata": {},
   "outputs": [],
   "source": [
    "# var_df.loc[var_df['gene']=='nan', 'gene'] = var_df.loc[var_df['gene']=='nan', 'POS'].apply(map_gene_to_pos)\n",
    "# var_df.loc[var_df['gene']=='nan']"
   ]
  },
  {
   "cell_type": "code",
   "execution_count": 16,
   "metadata": {},
   "outputs": [],
   "source": [
    "def map_gene_to_pos(x):\n",
    "    pos = x\n",
    "    if pos >= 269 and pos <= 21555:\n",
    "        return 'ORF1ab'\n",
    "    elif pos >= 21564 and pos <= 25382:\n",
    "        return 'S'\n",
    "    elif pos >= 25410 and pos <= 26214:\n",
    "        return 'ORF3a'\n",
    "    elif pos >= 26247 and pos <= 26471:\n",
    "        return 'E'\n",
    "    elif pos >= 26523 and pos <= 27187:\n",
    "        return 'M'\n",
    "    elif pos >= 27203 and pos <= 27382:\n",
    "        return 'ORF6'\n",
    "    elif pos >= 27398 and pos <= 27754:\n",
    "        return 'ORF7a'\n",
    "    elif pos >= 27757 and pos <= 27887:\n",
    "        return 'ORF7b'\n",
    "    elif pos >= 27896 and pos <= 28257:\n",
    "        return 'ORF8'\n",
    "    elif pos >= 28289 and pos <= 29528:\n",
    "        return 'N'\n",
    "    elif pos >= 29564 and pos <= 29670:\n",
    "        return 'ORF10'\n",
    "    return 'nan'\n",
    "# v_df = v_df.apply(map_gene_to_pos, axis=1)"
   ]
  },
  {
   "cell_type": "code",
   "execution_count": 57,
   "metadata": {},
   "outputs": [],
   "source": [
    "import matplotlib.pyplot as plt\n",
    "import matplotlib.colors as mcolors"
   ]
  },
  {
   "cell_type": "code",
   "execution_count": 76,
   "metadata": {},
   "outputs": [
    {
     "data": {
      "text/plain": [
       "10"
      ]
     },
     "execution_count": 76,
     "metadata": {},
     "output_type": "execute_result"
    }
   ],
   "source": [
    "colors = list(mcolors.TABLEAU_COLORS.keys())\n",
    "len(colors)"
   ]
  },
  {
   "cell_type": "code",
   "execution_count": 77,
   "metadata": {},
   "outputs": [],
   "source": [
    "colors = colors + ['black']"
   ]
  },
  {
   "cell_type": "code",
   "execution_count": 78,
   "metadata": {},
   "outputs": [
    {
     "data": {
      "text/plain": [
       "['tab:blue',\n",
       " 'tab:orange',\n",
       " 'tab:green',\n",
       " 'tab:red',\n",
       " 'tab:purple',\n",
       " 'tab:brown',\n",
       " 'tab:pink',\n",
       " 'tab:gray',\n",
       " 'tab:olive',\n",
       " 'tab:cyan',\n",
       " 'black']"
      ]
     },
     "execution_count": 78,
     "metadata": {},
     "output_type": "execute_result"
    }
   ],
   "source": [
    "colors"
   ]
  },
  {
   "cell_type": "code",
   "execution_count": 79,
   "metadata": {},
   "outputs": [
    {
     "data": {
      "text/plain": [
       "array(['nan', 'ORF1ab', 'S', 'ORF3a', 'N', 'M', 'ORF7b', 'E'],\n",
       "      dtype=object)"
      ]
     },
     "execution_count": 79,
     "metadata": {},
     "output_type": "execute_result"
    }
   ],
   "source": [
    "v_df['gene'].unique()"
   ]
  },
  {
   "cell_type": "code",
   "execution_count": 80,
   "metadata": {},
   "outputs": [],
   "source": [
    "genes = ['ORF1ab', 'S', 'ORF3a', 'E', 'M', 'ORF6', 'ORF7a',\n",
    "         'ORF7b', 'ORF8', 'N', 'ORF10']"
   ]
  },
  {
   "cell_type": "code",
   "execution_count": 81,
   "metadata": {},
   "outputs": [],
   "source": [
    "gene2color = {}\n",
    "for i, g in enumerate(genes):\n",
    "    gene2color[g] = colors[i]"
   ]
  },
  {
   "cell_type": "code",
   "execution_count": 82,
   "metadata": {},
   "outputs": [
    {
     "data": {
      "text/html": [
       "<div>\n",
       "<style scoped>\n",
       "    .dataframe tbody tr th:only-of-type {\n",
       "        vertical-align: middle;\n",
       "    }\n",
       "\n",
       "    .dataframe tbody tr th {\n",
       "        vertical-align: top;\n",
       "    }\n",
       "\n",
       "    .dataframe thead th {\n",
       "        text-align: right;\n",
       "    }\n",
       "</style>\n",
       "<table border=\"1\" class=\"dataframe\">\n",
       "  <thead>\n",
       "    <tr style=\"text-align: right;\">\n",
       "      <th></th>\n",
       "      <th>sample</th>\n",
       "      <th>GFF_FEATURE</th>\n",
       "      <th>POS</th>\n",
       "      <th>REF</th>\n",
       "      <th>ALT</th>\n",
       "      <th>ALT_FREQ</th>\n",
       "      <th>var</th>\n",
       "      <th>gene</th>\n",
       "      <th>color</th>\n",
       "    </tr>\n",
       "  </thead>\n",
       "  <tbody>\n",
       "    <tr>\n",
       "      <th>0</th>\n",
       "      <td>4531</td>\n",
       "      <td>NaN</td>\n",
       "      <td>241</td>\n",
       "      <td>C</td>\n",
       "      <td>T</td>\n",
       "      <td>1.000000</td>\n",
       "      <td>241:T</td>\n",
       "      <td>nan</td>\n",
       "      <td>tab:white</td>\n",
       "    </tr>\n",
       "    <tr>\n",
       "      <th>1</th>\n",
       "      <td>4531</td>\n",
       "      <td>cds-YP_009724389.1</td>\n",
       "      <td>1059</td>\n",
       "      <td>C</td>\n",
       "      <td>T</td>\n",
       "      <td>1.000000</td>\n",
       "      <td>1059:T</td>\n",
       "      <td>ORF1ab</td>\n",
       "      <td>tab:blue</td>\n",
       "    </tr>\n",
       "    <tr>\n",
       "      <th>3</th>\n",
       "      <td>4531</td>\n",
       "      <td>cds-YP_009724389.1</td>\n",
       "      <td>1102</td>\n",
       "      <td>C</td>\n",
       "      <td>T</td>\n",
       "      <td>1.000000</td>\n",
       "      <td>1102:T</td>\n",
       "      <td>ORF1ab</td>\n",
       "      <td>tab:blue</td>\n",
       "    </tr>\n",
       "    <tr>\n",
       "      <th>5</th>\n",
       "      <td>4531</td>\n",
       "      <td>NaN</td>\n",
       "      <td>1601</td>\n",
       "      <td>C</td>\n",
       "      <td>-TTA</td>\n",
       "      <td>0.045389</td>\n",
       "      <td>1601:-TTA</td>\n",
       "      <td>ORF1ab</td>\n",
       "      <td>tab:blue</td>\n",
       "    </tr>\n",
       "    <tr>\n",
       "      <th>6</th>\n",
       "      <td>4531</td>\n",
       "      <td>cds-YP_009724389.1</td>\n",
       "      <td>3037</td>\n",
       "      <td>C</td>\n",
       "      <td>T</td>\n",
       "      <td>1.000000</td>\n",
       "      <td>3037:T</td>\n",
       "      <td>ORF1ab</td>\n",
       "      <td>tab:blue</td>\n",
       "    </tr>\n",
       "    <tr>\n",
       "      <th>...</th>\n",
       "      <td>...</td>\n",
       "      <td>...</td>\n",
       "      <td>...</td>\n",
       "      <td>...</td>\n",
       "      <td>...</td>\n",
       "      <td>...</td>\n",
       "      <td>...</td>\n",
       "      <td>...</td>\n",
       "      <td>...</td>\n",
       "    </tr>\n",
       "    <tr>\n",
       "      <th>25</th>\n",
       "      <td>4691</td>\n",
       "      <td>cds-YP_009724390.1</td>\n",
       "      <td>23403</td>\n",
       "      <td>A</td>\n",
       "      <td>G</td>\n",
       "      <td>0.999815</td>\n",
       "      <td>23403:G</td>\n",
       "      <td>S</td>\n",
       "      <td>tab:orange</td>\n",
       "    </tr>\n",
       "    <tr>\n",
       "      <th>26</th>\n",
       "      <td>4691</td>\n",
       "      <td>cds-YP_009724391.1</td>\n",
       "      <td>25563</td>\n",
       "      <td>G</td>\n",
       "      <td>T</td>\n",
       "      <td>1.000000</td>\n",
       "      <td>25563:T</td>\n",
       "      <td>ORF3a</td>\n",
       "      <td>tab:green</td>\n",
       "    </tr>\n",
       "    <tr>\n",
       "      <th>27</th>\n",
       "      <td>4691</td>\n",
       "      <td>cds-YP_009724392.1</td>\n",
       "      <td>26300</td>\n",
       "      <td>T</td>\n",
       "      <td>C</td>\n",
       "      <td>0.083333</td>\n",
       "      <td>26300:C</td>\n",
       "      <td>E</td>\n",
       "      <td>tab:red</td>\n",
       "    </tr>\n",
       "    <tr>\n",
       "      <th>28</th>\n",
       "      <td>4691</td>\n",
       "      <td>NaN</td>\n",
       "      <td>28969</td>\n",
       "      <td>C</td>\n",
       "      <td>-A</td>\n",
       "      <td>0.034876</td>\n",
       "      <td>28969:-A</td>\n",
       "      <td>N</td>\n",
       "      <td>tab:cyan</td>\n",
       "    </tr>\n",
       "    <tr>\n",
       "      <th>29</th>\n",
       "      <td>4691</td>\n",
       "      <td>NaN</td>\n",
       "      <td>29844</td>\n",
       "      <td>A</td>\n",
       "      <td>+T</td>\n",
       "      <td>0.032520</td>\n",
       "      <td>29844:+T</td>\n",
       "      <td>nan</td>\n",
       "      <td>tab:white</td>\n",
       "    </tr>\n",
       "  </tbody>\n",
       "</table>\n",
       "<p>100 rows × 9 columns</p>\n",
       "</div>"
      ],
      "text/plain": [
       "    sample         GFF_FEATURE    POS REF   ALT  ALT_FREQ        var    gene  \\\n",
       "0     4531                 NaN    241   C     T  1.000000      241:T     nan   \n",
       "1     4531  cds-YP_009724389.1   1059   C     T  1.000000     1059:T  ORF1ab   \n",
       "3     4531  cds-YP_009724389.1   1102   C     T  1.000000     1102:T  ORF1ab   \n",
       "5     4531                 NaN   1601   C  -TTA  0.045389  1601:-TTA  ORF1ab   \n",
       "6     4531  cds-YP_009724389.1   3037   C     T  1.000000     3037:T  ORF1ab   \n",
       "..     ...                 ...    ...  ..   ...       ...        ...     ...   \n",
       "25    4691  cds-YP_009724390.1  23403   A     G  0.999815    23403:G       S   \n",
       "26    4691  cds-YP_009724391.1  25563   G     T  1.000000    25563:T   ORF3a   \n",
       "27    4691  cds-YP_009724392.1  26300   T     C  0.083333    26300:C       E   \n",
       "28    4691                 NaN  28969   C    -A  0.034876   28969:-A       N   \n",
       "29    4691                 NaN  29844   A    +T  0.032520   29844:+T     nan   \n",
       "\n",
       "         color  \n",
       "0    tab:white  \n",
       "1     tab:blue  \n",
       "3     tab:blue  \n",
       "5     tab:blue  \n",
       "6     tab:blue  \n",
       "..         ...  \n",
       "25  tab:orange  \n",
       "26   tab:green  \n",
       "27     tab:red  \n",
       "28    tab:cyan  \n",
       "29   tab:white  \n",
       "\n",
       "[100 rows x 9 columns]"
      ]
     },
     "execution_count": 82,
     "metadata": {},
     "output_type": "execute_result"
    }
   ],
   "source": [
    "v_df['color'] = v_df['gene'].apply(lambda x: gene2color.get(x, 'tab:white'))\n",
    "v_df"
   ]
  },
  {
   "cell_type": "code",
   "execution_count": 83,
   "metadata": {},
   "outputs": [
    {
     "data": {
      "text/plain": [
       "{'ORF1ab': 'tab:blue',\n",
       " 'S': 'tab:orange',\n",
       " 'ORF3a': 'tab:green',\n",
       " 'E': 'tab:red',\n",
       " 'M': 'tab:purple',\n",
       " 'ORF6': 'tab:brown',\n",
       " 'ORF7a': 'tab:pink',\n",
       " 'ORF7b': 'tab:gray',\n",
       " 'ORF8': 'tab:olive',\n",
       " 'N': 'tab:cyan',\n",
       " 'ORF10': 'black'}"
      ]
     },
     "execution_count": 83,
     "metadata": {},
     "output_type": "execute_result"
    }
   ],
   "source": [
    "gene2color"
   ]
  },
  {
   "cell_type": "code",
   "execution_count": 84,
   "metadata": {},
   "outputs": [
    {
     "data": {
      "text/plain": [
       "[<matplotlib.lines.Line2D at 0x7f0e8bab3b50>,\n",
       " <matplotlib.lines.Line2D at 0x7f0e8bab3610>,\n",
       " <matplotlib.lines.Line2D at 0x7f0e8bab3ca0>,\n",
       " <matplotlib.lines.Line2D at 0x7f0e8bab37f0>,\n",
       " <matplotlib.lines.Line2D at 0x7f0e8bab3520>,\n",
       " <matplotlib.lines.Line2D at 0x7f0e8bab34f0>,\n",
       " <matplotlib.lines.Line2D at 0x7f0e8bab3430>,\n",
       " <matplotlib.lines.Line2D at 0x7f0e8bab3460>,\n",
       " <matplotlib.lines.Line2D at 0x7f0e8bab3eb0>,\n",
       " <matplotlib.lines.Line2D at 0x7f0e8bab3580>,\n",
       " <matplotlib.lines.Line2D at 0x7f0e8baaaac0>]"
      ]
     },
     "execution_count": 84,
     "metadata": {},
     "output_type": "execute_result"
    }
   ],
   "source": [
    "def get_color_legends(del2color: dict) -> list:\n",
    "    legend_elements = [Line2D([0], [0], marker='o', color=x, label=y,\n",
    "                       markerfacecolor=x, markersize=15) for y, x in del2color.items()]\n",
    "    return legend_elements\n",
    "legend = get_color_legends(gene2color)\n",
    "legend"
   ]
  },
  {
   "cell_type": "code",
   "execution_count": 85,
   "metadata": {},
   "outputs": [],
   "source": [
    "plt.rcParams[\"figure.figsize\"] = (15,15)"
   ]
  },
  {
   "cell_type": "code",
   "execution_count": 89,
   "metadata": {},
   "outputs": [
    {
     "data": {
      "text/plain": [
       "[[3545.0, 0.030302999999999997],\n",
       " [6696.0, 0.035313],\n",
       " [7735.0, 0.0740741],\n",
       " [7805.0, 0.0322581],\n",
       " [7930.0, 0.043478300000000004],\n",
       " [7953.0, 0.0625],\n",
       " [11074.0, 0.034832199999999994],\n",
       " [22000.0, 0.04],\n",
       " [22120.0, 0.04],\n",
       " [22775.0, 0.0322581],\n",
       " [22776.0, 0.0322581],\n",
       " [26300.0, 0.08333330000000001],\n",
       " [28969.0, 0.034876300000000006]]"
      ]
     },
     "execution_count": 89,
     "metadata": {},
     "output_type": "execute_result"
    }
   ],
   "source": [
    "s[['POS', 'ALT_FREQ']].values.tolist()"
   ]
  },
  {
   "cell_type": "code",
   "execution_count": 93,
   "metadata": {},
   "outputs": [
    {
     "data": {
      "text/plain": [
       "<Figure size 1080x1080 with 0 Axes>"
      ]
     },
     "metadata": {},
     "output_type": "display_data"
    }
   ],
   "source": [
    "import seaborn as sns\n",
    "samples = v_df['sample'].unique()\n",
    "for s_id in samples:\n",
    "    s = v_df.loc[(v_df['sample']==s_id)&(v_df['ALT_FREQ']<0.5)&(v_df['gene']!='nan')]\n",
    "    # I load the seaborn library only to benefit the nice looking feature\n",
    "    plt.vlines(x=s['POS'], ymin=0, ymax=s['ALT_FREQ'], color=s['color'], alpha=0.4)\n",
    "    plt.scatter(s['POS'], s['ALT_FREQ'], color=s['color'], s=50, alpha=1)\n",
    "    for x in s[['POS', 'ALT_FREQ']].values.tolist():\n",
    "        plt.text(x[0], x[1]+0.001, f\"{int(x[0])}\", ha='center')\n",
    "    plt.legend(handles=legend, loc='upper right')\n",
    "    plt.xlabel('POS')\n",
    "    plt.ylabel('ALT_FREQ')\n",
    "    plt.title(f'Minor Variants of Sample {s_id}')\n",
    "    plt.savefig(f'{s_id}_minor_variants.png')\n",
    "    plt.clf()"
   ]
  },
  {
   "cell_type": "code",
   "execution_count": 97,
   "metadata": {},
   "outputs": [],
   "source": [
    "v_df[v_df['ALT_FREQ']<0.5].sort_values('POS').to_excel('minor_variants.xlsx', index=False)"
   ]
  },
  {
   "cell_type": "code",
   "execution_count": 30,
   "metadata": {},
   "outputs": [
    {
     "data": {
      "image/png": "[encoded data removed]",
      "text/plain": [
       "<Figure size 432x288 with 1 Axes>"
      ]
     },
     "metadata": {
      "needs_background": "light"
     },
     "output_type": "display_data"
    }
   ],
   "source": [
    "my_range=range(1,len(s.index)+1)\n",
    " \n",
    "# Make the plot\n",
    "plt.stem(s['POS'], s['ALT_FREQ'], label=s['gene'])\n",
    "plt.show()\n"
   ]
  },
  {
   "cell_type": "code",
   "execution_count": null,
   "metadata": {},
   "outputs": [],
   "source": []
  }
 ],
 "metadata": {
  "kernelspec": {
   "display_name": "Python 3",
   "language": "python",
   "name": "python3"
  },
  "language_info": {
   "codemirror_mode": {
    "name": "ipython",
    "version": 3
   },
   "file_extension": ".py",
   "mimetype": "text/x-python",
   "name": "python",
   "nbconvert_exporter": "python",
   "pygments_lexer": "ipython3",
   "version": "3.8.3"
  }
 },
 "nbformat": 4,
 "nbformat_minor": 4
}
