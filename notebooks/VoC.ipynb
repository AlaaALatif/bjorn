{
 "cells": [
  {
   "cell_type": "code",
   "execution_count": 1,
   "metadata": {},
   "outputs": [],
   "source": [
    "import sys\n",
    "import pandas as pd\n",
    "import os\n",
    "from path import Path\n",
    "import plotly\n",
    "import plotly.express as px\n",
    "import plotly.graph_objects as go\n",
    "from plotly.subplots import make_subplots\n",
    "from urllib.request import urlopen\n",
    "import json\n",
    "import statsmodels as sm\n",
    "from statsmodels.formula.api import ols\n",
    "from Bio import Seq, SeqIO, AlignIO, Phylo, Align\n",
    "from jinja2 import Environment, FileSystemLoader  # html template engine\n",
    "import cv2\n",
    "import numpy as np\n",
    "import skimage as sk\n",
    "import matplotlib.pylab as plt\n",
    "import datetime as dt"
   ]
  },
  {
   "cell_type": "code",
   "execution_count": 2,
   "metadata": {},
   "outputs": [],
   "source": [
    "sys.path.append('../')"
   ]
  },
  {
   "cell_type": "code",
   "execution_count": 3,
   "metadata": {},
   "outputs": [],
   "source": [
    "import bjorn_support as bs\n",
    "import onion_trees as ot\n",
    "import mutations as bm\n",
    "import visualize as bv\n",
    "import reports as br"
   ]
  },
  {
   "cell_type": "markdown",
   "metadata": {},
   "source": [
    "# Data Priming"
   ]
  },
  {
   "cell_type": "code",
   "execution_count": 4,
   "metadata": {},
   "outputs": [],
   "source": [
    "msa_fp = '/home/al/analysis/gisaid/sequences_2021-01-15_12-46_aligned.fasta'\n",
    "meta_fp = '/home/al/analysis/gisaid/metadata_2021-01-15_14-55.tsv.gz'\n",
    "date = msa_fp.split('_')[1]"
   ]
  },
  {
   "cell_type": "code",
   "execution_count": 5,
   "metadata": {},
   "outputs": [
    {
     "name": "stdout",
     "output_type": "stream",
     "text": [
      "2021-01-15\n",
      "/home/al/analysis/gisaid/sequences_2021-01-15_12-46_aligned.fasta\n",
      "/home/al/analysis/gisaid/metadata_2021-01-15_14-55.tsv.gz\n"
     ]
    }
   ],
   "source": [
    "print(date)\n",
    "print(msa_fp)\n",
    "print(meta_fp)"
   ]
  },
  {
   "cell_type": "code",
   "execution_count": 6,
   "metadata": {},
   "outputs": [],
   "source": [
    "# subs, _ = bm.identify_replacements_per_sample(msa_fp, meta_fp,  \n",
    "#                                            bm.GENE2POS, data_src='gisaid', \n",
    "#                                            test=True)\n",
    "# subs.loc[dels['country']=='USA', 'country'] = 'United States of America'"
   ]
  },
  {
   "cell_type": "code",
   "execution_count": 7,
   "metadata": {},
   "outputs": [],
   "source": [
    "# subs_fp = f'/home/al/analysis/gisaid/subs_long_{date}.csv.gz'\n",
    "# subs.to_csv(subs_fp, index=False, compression='gzip')"
   ]
  },
  {
   "cell_type": "code",
   "execution_count": 8,
   "metadata": {},
   "outputs": [
    {
     "name": "stdout",
     "output_type": "stream",
     "text": [
      "Loading Alignment file at: /home/al/analysis/gisaid/sequences_2021-01-15_12-46_aligned.fasta\n",
      "Initial cleaning...\n",
      "Identifying deletions...\n",
      "Mapping Genes to mutations...\n",
      "Computing codon numbers...\n",
      "Fetching reference codon...\n",
      "Mapping amino acids...\n",
      "Naming deletions\n",
      "Fuse with metadata...\n"
     ]
    },
    {
     "name": "stderr",
     "output_type": "stream",
     "text": [
      "/home/al/anaconda3/lib/python3.8/site-packages/IPython/core/interactiveshell.py:3338: DtypeWarning: Columns (8) have mixed types.Specify dtype option on import or set low_memory=False.\n",
      "  if (await self.run_code(code, result,  async_=asy)):\n"
     ]
    }
   ],
   "source": [
    "dels, _ = bm.identify_deletions_per_sample(msa_fp, meta_fp,  \n",
    "                                           bm.GENE2POS, data_src='gisaid', \n",
    "                                           min_del_len=3, test=True)\n",
    "dels.loc[dels['country']=='USA', 'country'] = 'United States of America'"
   ]
  },
  {
   "cell_type": "code",
   "execution_count": 9,
   "metadata": {},
   "outputs": [],
   "source": [
    "dels_fp = f'/home/al/analysis/gisaid/dels_long_{date}.csv.gz'\n",
    "dels.to_csv(dels_fp, index=False, compression='gzip')"
   ]
  },
  {
   "cell_type": "markdown",
   "metadata": {},
   "source": [
    "# Analysis Report Generation"
   ]
  },
  {
   "cell_type": "code",
   "execution_count": 13,
   "metadata": {},
   "outputs": [],
   "source": [
    "# feature = 'mutations'\n",
    "# values = ['S:S13I', 'S:W152C', 'S:L452R']\n",
    "feature = 'mutation'\n",
    "# S:Q677H, M:A85S, N:D377Y,\n",
    "values = ['S:Q677H', 'M:A85S', 'N:D377Y']#, 'S:W152C', 'S:L452R'] # 'ORF1ab:I4205V', \n",
    "input_params = {\n",
    "    'vocs': ['B.1.1.7', 'B.1.1.70'],\n",
    "    'strain': 'OHVUI1',\n",
    "    'date': '01/18/2021',\n",
    "    'msa_fp': Path('/home/al/analysis/gisaid/sequences_2021-01-15_12-46_aligned.fasta'),\n",
    "    'meta_fp' : Path('/home/al/code/HCoV-19-Genomics/metadata.csv'),\n",
    "    'tree_fp' : Path('/home/al/analysis/alab_mutations_01-01-2021/alab/seqs_aligned.fa.treefile'),\n",
    "    'subs_fp' : '/home/al/analysis/alab_mutations_01-01-2021/alab_substitutions_long_01-01-2021.csv',\n",
    "    'countries_fp' : '/home/al/data/geojsons/countries.geo.json',\n",
    "    'states_fp' : \"/home/al/data/geojsons/us-states.json\",\n",
    "    'counties_fp' : '/home/al/data/geojsons/us-counties.json',\n",
    "    'patient_zero' : 'NC_045512.2',\n",
    "    'gisaid_data_fp' : '/home/al/analysis/gisaid/subs_long_2021-01-15_14-55v2.csv.gz',\n",
    "    'gisaid_meta_fp': '/home/al/analysis/gisaid/metadata_2021-01-15_14-55.tsv.gz',\n",
    "    'b117_meta' : '/home/al/analysis/b117/nextstrain_groups_neherlab_ncov_S.N501_metadata.tsv',\n",
    "    'b117_tree': 'test_data/b117_seqs_aligned.fasta.treefile',\n",
    "    'sample_sz': 150,\n",
    "    'sampling_img_fp' : \"/home/al/analysis/b117/figs/sars-cov-2_EM_v3.png\"\n",
    "}"
   ]
  },
  {
   "cell_type": "code",
   "execution_count": 14,
   "metadata": {
    "scrolled": true
   },
   "outputs": [],
   "source": [
    "results = br.generate_voc_data(feature, values, input_params)"
   ]
  },
  {
   "cell_type": "code",
   "execution_count": 15,
   "metadata": {},
   "outputs": [],
   "source": [
    "html = br.generate_voc_html(feature, values, results, template_name='mut.html')\n",
    "# br.save_html(html, f'test_data/orf1ab_i4205v_report.html')\n",
    "br.save_html(html, f'test_data/ohvui1_report.html')"
   ]
  },
  {
   "cell_type": "code",
   "execution_count": 20,
   "metadata": {},
   "outputs": [],
   "source": [
    "# feature = 'mutations'\n",
    "# values = ['S:S13I', 'S:W152C', 'S:L452R']\n",
    "feature = 'mutation'\n",
    "# S:Q677H, M:A85S, N:D377Y,\n",
    "values = ['S:S13I', 'S:W152C', 'S:L452R']#, 'S:W152C', 'S:L452R'] # 'ORF1ab:I4205V', \n",
    "input_params = {\n",
    "    'vocs': ['B.1.1.7', 'B.1.1.70'],\n",
    "    'strain': 'CAVUI1S',\n",
    "    'date': '01/16/2021',\n",
    "    'msa_fp': Path('/home/al/analysis/gisaid/sequences_2021-01-15_12-46_aligned.fasta'),\n",
    "    'meta_fp' : Path('/home/al/code/HCoV-19-Genomics/metadata.csv'),\n",
    "    'tree_fp' : Path('/home/al/analysis/alab_mutations_01-01-2021/alab/seqs_aligned.fa.treefile'),\n",
    "    'subs_fp' : '/home/al/analysis/alab_mutations_01-01-2021/alab_substitutions_long_01-01-2021.csv',\n",
    "    'countries_fp' : '/home/al/data/geojsons/countries.geo.json',\n",
    "    'states_fp' : \"/home/al/data/geojsons/us-states.json\",\n",
    "    'counties_fp' : '/home/al/data/geojsons/us-counties.json',\n",
    "    'patient_zero' : 'NC_045512.2',\n",
    "    'gisaid_data_fp' : '/home/al/analysis/gisaid/subs_long_2021-01-15_14-55v2.csv.gz',\n",
    "    'gisaid_meta_fp': '/home/al/analysis/gisaid/metadata_2021-01-15_14-55.tsv.gz',\n",
    "    'b117_meta' : '/home/al/analysis/b117/nextstrain_groups_neherlab_ncov_S.N501_metadata.tsv',\n",
    "    'b117_tree': 'test_data/b117_seqs_aligned.fasta.treefile',\n",
    "    'sample_sz': 150,\n",
    "    'sampling_img_fp' : \"/home/al/analysis/b117/figs/sars-cov-2_EM_v3.png\"\n",
    "}"
   ]
  },
  {
   "cell_type": "code",
   "execution_count": 21,
   "metadata": {
    "scrolled": true
   },
   "outputs": [],
   "source": [
    "results = br.generate_voc_data(feature, values, input_params)"
   ]
  },
  {
   "cell_type": "code",
   "execution_count": 22,
   "metadata": {},
   "outputs": [],
   "source": [
    "html = br.generate_voc_html(feature, values, results, template_name='mut.html')\n",
    "# br.save_html(html, f'test_data/orf1ab_i4205v_report.html')\n",
    "br.save_html(html, f'test_data/cavui1s_report.html')"
   ]
  },
  {
   "cell_type": "code",
   "execution_count": 19,
   "metadata": {},
   "outputs": [],
   "source": [
    "runs = {'orf1a_i4205v': 'ORF1a:I4205V', 'orf1b_d1183y': 'ORF1b:D1183Y', \n",
    "        's_s13i': 'S:S13I', 's_w152c': 'S:W152C', 's_l452r': 'S:L452R'}\n",
    "for name, mut in runs.items():\n",
    "    input_params['strain'] = mut\n",
    "    results = br.generate_voc_data(feature, [mut], input_params)\n",
    "    html = br.generate_voc_html(feature, [mut], results, template_name='mut.html')\n",
    "    br.save_html(html, f'test_data/{name}_report.html')"
   ]
  },
  {
   "cell_type": "code",
   "execution_count": 17,
   "metadata": {},
   "outputs": [],
   "source": [
    "gisaid = pd.read_csv(input_params['gisaid_data_fp'], compression='gzip')"
   ]
  },
  {
   "cell_type": "code",
   "execution_count": 16,
   "metadata": {},
   "outputs": [],
   "source": [
    "# res = (gisaid.groupby(['date', 'country', 'division', \n",
    "#                                         'purpose_of_sequencing',\n",
    "#                                         'location', 'pangolin_lineage', 'strain'])\n",
    "#                        .agg(mutations=('mutation', 'unique')).reset_index())\n",
    "# res['is_vui'] = res['mutations'].apply(bv.is_vui, args=(set(values),))"
   ]
  },
  {
   "cell_type": "code",
   "execution_count": 12,
   "metadata": {},
   "outputs": [],
   "source": [
    "\n",
    "def get_mutations(data: pd.DataFrame, lineage: str='B.1.1.7'):\n",
    "    mutations = set(data[data['pangolin_lineage']==lineage]['mutation'].unique().tolist())\n",
    "    return mutations"
   ]
  }
 ],
 "metadata": {
  "kernelspec": {
   "display_name": "covid",
   "language": "python",
   "name": "covid"
  },
  "language_info": {
   "codemirror_mode": {
    "name": "ipython",
    "version": 3
   },
   "file_extension": ".py",
   "mimetype": "text/x-python",
   "name": "python",
   "nbconvert_exporter": "python",
   "pygments_lexer": "ipython3",
   "version": "3.8.3"
  }
 },
 "nbformat": 4,
 "nbformat_minor": 4
}
