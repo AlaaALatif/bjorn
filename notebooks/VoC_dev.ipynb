{
 "cells": [
  {
   "cell_type": "markdown",
   "metadata": {},
   "source": [
    "## TODO:\n",
    "* add `total_samples` as hover data to all the map plots [done]\n",
    "* annotate `first_detected` on each time-prevalence plot\n",
    "* color points based on sampling type (random, biased, or both)\n",
    "* county-level spatial prevalence [done]\n",
    "* add your shpiel about random sequencing and its importance\n",
    "* add your shpiel about A-labs ongoing sequencing programme\n",
    "* conclude with admitting that you know nothing, Jon Snow\n",
    "* call to action:\n",
    "    * more COVID-19 genomic surveillance across the U.S. (i.e. increasing the sampling rate)\n",
    "    * ensuring correct and complete metadata entry during submissions to public databases (e.g. GISAID)\n",
    "        * specifically indicating whether the sample was randomly sequenced or not (i.e. the submitter should specify the generative process that led to each observation)\n",
    "        * explicitly specifying the sample collection date and location (at the county level if you're in the US please, thank you!)\n",
    "* Closing Statements\n",
    "    * As the virus continues to evolve, so do we - the larger scientific community - continuosly strive to develop tools and methodologies to monitor these evolutionary changes and to better understand their effects on us. "
   ]
  },
  {
   "cell_type": "code",
   "execution_count": 1,
   "metadata": {},
   "outputs": [],
   "source": [
    "import pandas as pd\n",
    "import os\n",
    "from path import Path\n",
    "import plotly\n",
    "import plotly.express as px\n",
    "import plotly.graph_objects as go\n",
    "import onion_trees as bv\n",
    "from urllib.request import urlopen\n",
    "import json\n",
    "import statsmodels as sm\n",
    "from statsmodels.formula.api import ols\n",
    "import mutations as bm\n",
    "from Bio import Seq, SeqIO, AlignIO, Phylo, Align\n",
    "from jinja2 import Environment, FileSystemLoader  # html template engine\n",
    "import cv2\n",
    "import numpy as np\n",
    "import skimage as sk\n",
    "import matplotlib.pylab as plt"
   ]
  },
  {
   "cell_type": "code",
   "execution_count": 2,
   "metadata": {},
   "outputs": [],
   "source": [
    "import reports as br"
   ]
  },
  {
   "cell_type": "code",
   "execution_count": 3,
   "metadata": {},
   "outputs": [],
   "source": [
    "fp = '/home/al/analysis/gisaid/subs_long_2021-01-15_14-55.csv.gz'\n",
    "df = pd.read_csv(fp, compression='gzip')"
   ]
  },
  {
   "cell_type": "code",
   "execution_count": 4,
   "metadata": {},
   "outputs": [],
   "source": [
    "df = df[(df['mutation']=='S:L452R') & (df['location'].str.contains('San Diego'))]"
   ]
  },
  {
   "cell_type": "code",
   "execution_count": 5,
   "metadata": {},
   "outputs": [
    {
     "data": {
      "text/plain": [
       "(23,)"
      ]
     },
     "execution_count": 5,
     "metadata": {},
     "output_type": "execute_result"
    }
   ],
   "source": [
    "df['strain'].unique().shape"
   ]
  },
  {
   "cell_type": "code",
   "execution_count": 6,
   "metadata": {},
   "outputs": [
    {
     "data": {
      "text/plain": [
       "'2020-09-28'"
      ]
     },
     "execution_count": 6,
     "metadata": {},
     "output_type": "execute_result"
    }
   ],
   "source": [
    "df['date'].min()"
   ]
  },
  {
   "cell_type": "code",
   "execution_count": 7,
   "metadata": {},
   "outputs": [
    {
     "data": {
      "text/plain": [
       "'2020-12-17'"
      ]
     },
     "execution_count": 7,
     "metadata": {},
     "output_type": "execute_result"
    }
   ],
   "source": [
    "df['date'].max()"
   ]
  },
  {
   "cell_type": "code",
   "execution_count": 8,
   "metadata": {},
   "outputs": [
    {
     "data": {
      "text/plain": [
       "B.1        15\n",
       "B.1.324     2\n",
       "B.1.354     2\n",
       "B.1.361     1\n",
       "B.1.288     1\n",
       "B.1.5       1\n",
       "B.1.370     1\n",
       "Name: pangolin_lineage, dtype: int64"
      ]
     },
     "execution_count": 8,
     "metadata": {},
     "output_type": "execute_result"
    }
   ],
   "source": [
    "df['pangolin_lineage'].value_counts()"
   ]
  },
  {
   "cell_type": "code",
   "execution_count": 10,
   "metadata": {},
   "outputs": [
    {
     "data": {
      "text/plain": [
       "20C    23\n",
       "Name: Nextstrain_clade, dtype: int64"
      ]
     },
     "execution_count": 10,
     "metadata": {},
     "output_type": "execute_result"
    }
   ],
   "source": [
    "df['Nextstrain_clade'].value_counts()"
   ]
  },
  {
   "cell_type": "code",
   "execution_count": null,
   "metadata": {},
   "outputs": [],
   "source": [
    "vnum='v9'\n",
    "feature = 'pangolin_lineage'\n",
    "values = ['B.1.1.7']\n",
    "input_params = {\n",
    "    'meta_fp' : Path('/home/al/code/HCoV-19-Genomics/metadata.csv'),\n",
    "    'tree_fp' : Path('/home/al/analysis/alab_mutations_01-01-2021/alab/seqs_aligned.fa.treefile'),\n",
    "    'subs_fp' : '/home/al/analysis/alab_mutations_01-01-2021/alab_substitutions_long_01-01-2021.csv',\n",
    "    'countries_fp' : '/home/al/data/geojsons/countries.geo.json',\n",
    "    'states_fp' : \"/home/al/data/geojsons/us-states.json\",\n",
    "    'counties_fp' : '/home/al/data/geojsons/us-counties.json',\n",
    "    'patient_zero' : 'NC_045512.2',\n",
    "    'gisaid_data_fp' : 'test.csv',\n",
    "    'b117_meta' : Path('/home/al/analysis/b117/nextstrain_groups_neherlab_ncov_S.N501_metadata.tsv'),\n",
    "    'sample_sz': 1000,\n",
    "    'sampling_img_fp' : \"/home/al/analysis/b117/figs/sars-cov-2_EM_v3.png\"\n",
    "}"
   ]
  },
  {
   "cell_type": "code",
   "execution_count": null,
   "metadata": {},
   "outputs": [],
   "source": [
    "# df = pd.read_csv('/home/al/analysis/gisaid/metadata_2021-01-01_08-12.tsv', sep='\\t')\n",
    "# df.columns"
   ]
  },
  {
   "cell_type": "code",
   "execution_count": null,
   "metadata": {},
   "outputs": [],
   "source": [
    "# gisaid = pd.read_csv(input_params['gisaid_data_fp'], compression='gzip')\n",
    "# gisaid.loc[gisaid['pangolin_lineage']=='B.1.1.7'].columns"
   ]
  },
  {
   "cell_type": "code",
   "execution_count": null,
   "metadata": {},
   "outputs": [],
   "source": [
    "# gisaid.loc[gisaid['pangolin_lineage']=='B.1.1.7', 'Additional ']"
   ]
  },
  {
   "cell_type": "code",
   "execution_count": null,
   "metadata": {
    "scrolled": true
   },
   "outputs": [],
   "source": [
    "results = br.generate_voc_data(feature, values, input_params)"
   ]
  },
  {
   "cell_type": "code",
   "execution_count": null,
   "metadata": {},
   "outputs": [],
   "source": [
    "vnum=10\n",
    "html = br.generate_voc_html(feature, values, results)\n",
    "br.save_html(html, f'test_data/voc_test_b117{vnum}.html')"
   ]
  },
  {
   "cell_type": "code",
   "execution_count": null,
   "metadata": {},
   "outputs": [],
   "source": []
  },
  {
   "cell_type": "code",
   "execution_count": null,
   "metadata": {},
   "outputs": [],
   "source": []
  },
  {
   "cell_type": "code",
   "execution_count": null,
   "metadata": {},
   "outputs": [],
   "source": []
  },
  {
   "cell_type": "code",
   "execution_count": null,
   "metadata": {},
   "outputs": [],
   "source": []
  },
  {
   "cell_type": "code",
   "execution_count": null,
   "metadata": {},
   "outputs": [],
   "source": []
  },
  {
   "cell_type": "code",
   "execution_count": null,
   "metadata": {},
   "outputs": [],
   "source": [
    "data = pd.read_csv(input_params['gisaid_data_fp'], compression='gzip')"
   ]
  },
  {
   "cell_type": "code",
   "execution_count": null,
   "metadata": {},
   "outputs": [],
   "source": [
    "(data[(data['pangolin_lineage']=='B.1.1.7') & (data['ref_aa']!=data['alt_aa']) & (data['codon_num']==501)]\n",
    " .drop_duplicates(subset=['gene', 'codon_num', 'alt_aa']))"
   ]
  },
  {
   "cell_type": "code",
   "execution_count": null,
   "metadata": {},
   "outputs": [],
   "source": [
    "# results['county_map'].show()"
   ]
  },
  {
   "cell_type": "code",
   "execution_count": null,
   "metadata": {},
   "outputs": [],
   "source": []
  },
  {
   "cell_type": "code",
   "execution_count": null,
   "metadata": {},
   "outputs": [],
   "source": []
  },
  {
   "cell_type": "code",
   "execution_count": null,
   "metadata": {},
   "outputs": [],
   "source": [
    "data = pd.read_csv(input_params['gisaid_data_fp'], compression='gzip')"
   ]
  },
  {
   "cell_type": "code",
   "execution_count": null,
   "metadata": {},
   "outputs": [],
   "source": [
    "def world_time(gisaid_data, feature, values):\n",
    "    results = (gisaid_data.loc[(gisaid_data[feature].isin(values))]\n",
    "                          .drop_duplicates(subset=['date', 'strain']))\n",
    "    b117_world_time = (results.groupby('date')\n",
    "                              .agg(num_samples=('strain', 'nunique'),\n",
    "                                   country_counts=('country', \n",
    "                                                    lambda x: np.unique(x, \n",
    "                                                                        return_counts=True)),\n",
    "                                   divisions=('division', 'unique'),\n",
    "                                   locations=('location', 'unique'))\n",
    "                              .reset_index())\n",
    "    b117_world_time['countries'] = b117_world_time['country_counts'].apply(lambda x: list(x[0]))\n",
    "    b117_world_time['country_counts'] = b117_world_time['country_counts'].apply(lambda x: list(x[1]))\n",
    "    b117_world_time['date'] = pd.to_datetime(b117_world_time['date'], \n",
    "                                             errors='coerce')\n",
    "    b117_world_time['cum_num_samples'] = b117_world_time['num_samples'].cumsum()\n",
    "    first_detected = b117_world_time['date'].min()\n",
    "    first_countries = b117_world_time.loc[b117_world_time['date']==first_detected, 'countries']\n",
    "    fig = go.Figure(data=go.Scatter(y=b117_world_time['cum_num_samples'], \n",
    "                                    x=b117_world_time['date'], \n",
    "                                    name='B.1.1.7 samples', mode='markers+lines', \n",
    "                                    line_color='rgba(220,20,60,.6)',\n",
    "                                    text=b117_world_time[['num_samples', 'countries', 'country_counts',\n",
    "                                                          'divisions', 'locations', \n",
    "                                                          'date']],\n",
    "                                    hovertemplate=\"<b>Number of cases: %{text[0]}</b><br>\" +\n",
    "                                                  \"<b>Country(s) Reported: %{text[1]}</b><br>\" +\n",
    "                                                  \"<b>Cases Per Country: %{text[2]}</b><br>\" +\n",
    "                                                  \"<b>State(s) Reported: %{text[3]}</b><br>\" +\n",
    "                                                  \"<b>County(s) Reported: %{text[4]}</b><br>\" +\n",
    "                                                  \"<b>Date: %{text[5]}</b><br>\"))\n",
    "    fig.add_annotation(x=first_detected, \n",
    "                       y=b117_world_time.loc[b117_world_time['date']==first_detected, 'cum_num_samples'].values[0],\n",
    "            text=f\"On Earth, B117 1st detected in <br> {', '.join(first_countries.values[0])} <br> on <br> {first_detected}\",\n",
    "            showarrow=True,\n",
    "            arrowhead=1, yshift=10, arrowsize=2, ay=-250, ax=100)\n",
    "    fig.update_layout(yaxis_title='Global umulative number of cases over time', \n",
    "                      xaxis_title='Collection Date',\n",
    "                      template='plotly_white', autosize=True)#, height=850,\n",
    "    return fig\n",
    "\n",
    "\n",
    "def us_time(gisaid_data, feature, values, country='United States of America'):\n",
    "    results = (gisaid_data.loc[(gisaid_data[feature].isin(values)) & \n",
    "                             (gisaid_data['country']==country)]\n",
    "                          .drop_duplicates(subset=['date', 'strain']))\n",
    "    b117_us_time = (results.groupby('date')\n",
    "                           .agg(\n",
    "                                num_samples=('strain', 'nunique'),\n",
    "                                state_counts=('division', \n",
    "                                              lambda x: np.unique(x, \n",
    "                                                                  return_counts=True))\n",
    "                                )\n",
    "                           .reset_index())\n",
    "    b117_us_time['states'] = b117_us_time['state_counts'].apply(lambda x: list(x[0]))\n",
    "    b117_us_time['state_counts'] = b117_us_time['state_counts'].apply(lambda x: list(x[1]))\n",
    "    b117_us_time['date'] = pd.to_datetime(b117_us_time['date'], \n",
    "                                             errors='coerce')\n",
    "    b117_us_time['cum_num_samples'] = b117_us_time['num_samples'].cumsum()\n",
    "    first_detected = b117_us_time['date'].min()\n",
    "    first_states = b117_us_time.loc[b117_us_time['date']==first_detected, 'states']\n",
    "    fig = go.Figure(data=go.Scatter(y=b117_us_time['cum_num_samples'], \n",
    "                                    x=b117_us_time['date'], \n",
    "                                    name='B.1.1.7 samples', mode='markers+lines', \n",
    "                                    line_color='rgba(220,20,60,.6)',\n",
    "                                    text=b117_us_time[['num_samples', 'states', \n",
    "                                                       'state_counts', 'date']],\n",
    "                                    hovertemplate=\"<b>Number of cases: %{text[0]}</b><br>\" +\n",
    "                                                  \"<b>State(s) Reported: %{text[1]}</b><br>\" +\n",
    "                                                  \"<b>Cases per State: %{text[2]}</b><br>\" +\n",
    "                                                  \"<b>Date: %{text[3]}</b><br>\"))\n",
    "    fig.add_annotation(x=first_detected, \n",
    "                       y=b117_us_time.loc[b117_us_time['date']==first_detected, 'cum_num_samples'].values[0],\n",
    "            text=f\"In US, B117 1st detected in <br> {', '.join(first_states.values[0])} <br> on <br> {first_detected}\",\n",
    "            showarrow=True,\n",
    "            arrowhead=1, yshift=10, arrowsize=2, ay=-250)\n",
    "    fig.update_layout(yaxis_title=f'National cumulative number of cases over time in {country}', \n",
    "                      xaxis_title='Collection Date',\n",
    "                      template='plotly_white', autosize=True)#, height=850,\n",
    "    return fig\n",
    "\n",
    "fig = world_time(data, feature, values)\n",
    "fig.show()"
   ]
  },
  {
   "cell_type": "markdown",
   "metadata": {},
   "source": [
    "## County-level Strain Prevalence"
   ]
  },
  {
   "cell_type": "code",
   "execution_count": null,
   "metadata": {},
   "outputs": [],
   "source": [
    "with open(input_params['counties_fp']) as response:\n",
    "    counties = json.load(response)\n",
    "    \n",
    "with open(input_params['states_fp']) as response:\n",
    "    states = json.load(response)"
   ]
  },
  {
   "cell_type": "code",
   "execution_count": null,
   "metadata": {},
   "outputs": [],
   "source": [
    "state_map = {x['id']: state2abbrev[x['properties']['name']] for x in states['features']}"
   ]
  },
  {
   "cell_type": "code",
   "execution_count": null,
   "metadata": {},
   "outputs": [],
   "source": [
    "counties_map = {x['properties']['NAME']+'-'+state_map[x['properties']['STATE']]: x['id'] for x in counties['features']}"
   ]
  },
  {
   "cell_type": "code",
   "execution_count": null,
   "metadata": {},
   "outputs": [],
   "source": [
    "for c in counties_map:\n",
    "    if 'New Haven' in c:\n",
    "        print(c)"
   ]
  },
  {
   "cell_type": "code",
   "execution_count": null,
   "metadata": {},
   "outputs": [],
   "source": [
    "gisaid_data = pd.read_csv(input_params['gisaid_data_fp'], compression='gzip')\n",
    "us = gisaid_data[gisaid_data['country']=='United States of America']\n",
    "# us = us[us['location']!='unk']"
   ]
  },
  {
   "cell_type": "code",
   "execution_count": null,
   "metadata": {},
   "outputs": [],
   "source": [
    "us[us['pangolin_lineage']=='B.1.1.7'].drop_duplicates(subset=['strain'])['location'].value_counts()"
   ]
  },
  {
   "cell_type": "code",
   "execution_count": null,
   "metadata": {},
   "outputs": [],
   "source": [
    "corrections = {\n",
    "    'Parish': 'County',\n",
    "    'Manhattan': 'New York',\n",
    "    'Brooklyn': 'Kings',\n",
    "    'Staton Island': 'Richmond',\n",
    "    'New Orleans': 'Orleans',\n",
    "    'Pittsburgh': 'Alleghany',\n",
    "    'Boston': 'Suffolk',\n",
    "    'East Haven': 'New Haven',\n",
    "    \n",
    "}"
   ]
  },
  {
   "cell_type": "code",
   "execution_count": null,
   "metadata": {},
   "outputs": [],
   "source": [
    "# total number of US samples\n",
    "us['strain'].unique().shape"
   ]
  },
  {
   "cell_type": "code",
   "execution_count": null,
   "metadata": {},
   "outputs": [],
   "source": [
    "# number of US samples with \"County\" in the location\n",
    "us.loc[us.location.str.contains('County'), 'strain'].unique().shape"
   ]
  },
  {
   "cell_type": "code",
   "execution_count": null,
   "metadata": {},
   "outputs": [],
   "source": [
    "us.loc[(us.location.str.contains('Parish')), 'strain'].unique().shape"
   ]
  },
  {
   "cell_type": "code",
   "execution_count": null,
   "metadata": {},
   "outputs": [],
   "source": [
    "for key, val in corrections.items():\n",
    "    us['location'] = us['location'].str.replace(key, val)"
   ]
  },
  {
   "cell_type": "code",
   "execution_count": null,
   "metadata": {},
   "outputs": [],
   "source": [
    "def check_state(x):\n",
    "    if x[-2:].isupper():\n",
    "        x = x[:-3]\n",
    "    return x"
   ]
  },
  {
   "cell_type": "code",
   "execution_count": null,
   "metadata": {},
   "outputs": [],
   "source": [
    "us['location'] = us['location'].str.replace(' County', '')\n",
    "us['location'] = us['location'].apply(check_state)"
   ]
  },
  {
   "cell_type": "code",
   "execution_count": null,
   "metadata": {},
   "outputs": [],
   "source": [
    "us['county'] = us['location'] + '-' + us['division'].apply(lambda x: state2abbrev.get(x, 'unk'))"
   ]
  },
  {
   "cell_type": "code",
   "execution_count": null,
   "metadata": {},
   "outputs": [],
   "source": [
    "# number of US samples without county-level information\n",
    "us[us['county'].str.contains('unk')].drop_duplicates(subset=['strain'])['strain'].unique().shape"
   ]
  },
  {
   "cell_type": "code",
   "execution_count": null,
   "metadata": {},
   "outputs": [],
   "source": [
    "# number of US samples with county-level information\n",
    "us[~us['county'].str.contains('unk')].drop_duplicates(subset=['strain'])['strain'].unique().shape"
   ]
  },
  {
   "cell_type": "code",
   "execution_count": null,
   "metadata": {},
   "outputs": [],
   "source": [
    "# us.drop_duplicates(subset=['strain'])['county'].value_counts()"
   ]
  },
  {
   "cell_type": "code",
   "execution_count": null,
   "metadata": {},
   "outputs": [],
   "source": [
    "us[us['pangolin_lineage']=='B.1.1.7'].drop_duplicates(subset=['strain'])['location'].value_counts()"
   ]
  },
  {
   "cell_type": "code",
   "execution_count": null,
   "metadata": {},
   "outputs": [],
   "source": [
    "state2abbrev = {\n",
    "    'Alabama': 'AL',\n",
    "    'Alaska': 'AK',\n",
    "    'American Samoa': 'AS',\n",
    "    'Arizona': 'AZ',\n",
    "    'Arkansas': 'AR',\n",
    "    'California': 'CA',\n",
    "    'Colorado': 'CO',\n",
    "    'Connecticut': 'CT',\n",
    "    'Delaware': 'DE',\n",
    "    'District of Columbia': 'DC',\n",
    "    'Florida': 'FL',\n",
    "    'Georgia': 'GA',\n",
    "    'Guam': 'GU',\n",
    "    'Hawaii': 'HI',\n",
    "    'Idaho': 'ID',\n",
    "    'Illinois': 'IL',\n",
    "    'Indiana': 'IN',\n",
    "    'Iowa': 'IA',\n",
    "    'Kansas': 'KS',\n",
    "    'Kentucky': 'KY',\n",
    "    'Louisiana': 'LA',\n",
    "    'Maine': 'ME',\n",
    "    'Maryland': 'MD',\n",
    "    'Massachusetts': 'MA',\n",
    "    'Michigan': 'MI',\n",
    "    'Minnesota': 'MN',\n",
    "    'Mississippi': 'MS',\n",
    "    'Missouri': 'MO',\n",
    "    'Montana': 'MT',\n",
    "    'Nebraska': 'NE',\n",
    "    'Nevada': 'NV',\n",
    "    'New Hampshire': 'NH',\n",
    "    'New Jersey': 'NJ',\n",
    "    'New Mexico': 'NM',\n",
    "    'New York': 'NY',\n",
    "    'North Carolina': 'NC',\n",
    "    'North Dakota': 'ND',\n",
    "    'Northern Mariana Islands':'MP',\n",
    "    'Ohio': 'OH',\n",
    "    'Oklahoma': 'OK',\n",
    "    'Oregon': 'OR',\n",
    "    'Pennsylvania': 'PA',\n",
    "    'Puerto Rico': 'PR',\n",
    "    'Rhode Island': 'RI',\n",
    "    'South Carolina': 'SC',\n",
    "    'South Dakota': 'SD',\n",
    "    'Tennessee': 'TN',\n",
    "    'Texas': 'TX',\n",
    "    'Utah': 'UT',\n",
    "    'Vermont': 'VT',\n",
    "    'Virgin Islands': 'VI',\n",
    "    'Virginia': 'VA',\n",
    "    'Washington': 'WA',\n",
    "    'West Virginia': 'WV',\n",
    "    'Wisconsin': 'WI',\n",
    "    'Wyoming': 'WY'\n",
    "}"
   ]
  },
  {
   "cell_type": "code",
   "execution_count": null,
   "metadata": {},
   "outputs": [],
   "source": [
    "from PIL import Image\n",
    "import base64\n",
    "from io import BytesIO\n",
    "img = io.imread(input_params['sampling_img_fp'])\n",
    "pil_img = Image.fromarray(img) # PIL image object\n",
    "prefix = \"data:image/png;base64,\"\n",
    "with BytesIO() as stream:\n",
    "    pil_img.save(stream, format=\"png\")\n",
    "    base64_string = prefix + base64.b64encode(stream.getvalue()).decode(\"utf-8\")\n",
    "fig = go.Figure(go.Image(source=base64_string))\n",
    "fig.update_layout(margin=dict(l=0, r=0, b=0, t=0),\n",
    "                  coloraxis_showscale=False, template='plotly_white', autosize=True)\n",
    "fig.update_xaxes(showticklabels=False).update_yaxes(showticklabels=False)\n",
    "fig.show()"
   ]
  },
  {
   "cell_type": "code",
   "execution_count": null,
   "metadata": {},
   "outputs": [],
   "source": [
    "from skimage import io\n",
    "img = io.imread(input_params['sampling_img_fp'])\n",
    "fig = px.imshow(img)\n",
    "fig.update_layout(width=400, height=100, margin=dict(l=0, r=0, b=0, t=0),\n",
    "                  coloraxis_showscale=False, template='plotly_white', autosize=False)\n",
    "fig.update_xaxes(showticklabels=False).update_yaxes(showticklabels=False)\n",
    "fig.show()\n",
    "# fig.show(config={'doubleClick': 'reset'})"
   ]
  },
  {
   "cell_type": "code",
   "execution_count": null,
   "metadata": {},
   "outputs": [],
   "source": [
    "t = plotly.offline.plot(fig, include_plotlyjs=False, output_type='div')"
   ]
  },
  {
   "cell_type": "code",
   "execution_count": null,
   "metadata": {},
   "outputs": [],
   "source": [
    "# cns = SeqIO.parse(gisaid_msa_fp, 'fasta')\n",
    "# seq_lens = {}\n",
    "# for rec in cns:\n",
    "#     length = len(rec.seq)\n",
    "#     if length != 29903:\n",
    "#         print(rec.id)\n",
    "# seq_lens"
   ]
  },
  {
   "cell_type": "code",
   "execution_count": null,
   "metadata": {},
   "outputs": [],
   "source": [
    "# output_file = Path('/home/al/analysis/alab_mutations_07-01-2021/sequences_2021-01-06_08-17_cleaned.fasta')\n",
    "# seqs = SeqIO.parse(gisaid_seqs, 'fasta')\n",
    "# records = [rec for rec in seqs if rec.id!='England/CAMC-B07F7A/2020']\n",
    "# SeqIO.write(records, output_file, 'fasta')"
   ]
  },
  {
   "cell_type": "code",
   "execution_count": null,
   "metadata": {},
   "outputs": [],
   "source": [
    "patient_zero = 'hCoV-19/Wuhan/WIV04/2019'\n",
    "gisaid_seqs = Path('/home/al/analysis/alab_mutations_07-01-2021/sequences_2021-01-06_08-17.fasta')\n",
    "gisaid_meta = Path('/home/al/analysis/alab_mutations_07-01-2021/metadata_2021-01-06_18-26.tsv')\n",
    "gisaid_msa_fp = Path('/home/al/analysis/alab_mutations_07-01-2021/sequences_2021-01-06_08-17_aligned.fasta')\n",
    "print(\"Identifying substitution-based mutations - long...\")\n",
    "# gisaid_subs_long, _ = bm.identify_replacements_per_sample(gisaid_msa_fp, \n",
    "#                                                           gisaid_meta, \\\n",
    "#                                                           bm.GENE2POS, \n",
    "#                                                           data_src='gisaid',\n",
    "# #                                                           patient_zero=patient_zero\n",
    "#                                                          )"
   ]
  },
  {
   "cell_type": "code",
   "execution_count": null,
   "metadata": {},
   "outputs": [],
   "source": [
    "# gisaid_subs_long.drop(columns=['sequence'], inplace=True)"
   ]
  },
  {
   "cell_type": "code",
   "execution_count": null,
   "metadata": {},
   "outputs": [],
   "source": [
    "# meta = pd.read_csv(gisaid_meta, sep='\\t')\n",
    "# # filter out improper collection dates\n",
    "# meta['tmp'] = meta['date'].str.split('-')\n",
    "# meta = meta[meta['tmp'].str.len()>=2]\n",
    "# seqsdf = pd.merge(gisaid_subs_long, meta, left_on='idx', right_on='strain')\n",
    "# seqsdf['date'] = pd.to_datetime(seqsdf['date'], errors='coerce')\n",
    "# seqsdf['month'] = seqsdf['date'].dt.month\n",
    "# seqsdf.loc[seqsdf['location'].isna(), 'location'] = 'unk'\n",
    "# seqsdf = seqsdf[seqsdf['host']=='Human']"
   ]
  },
  {
   "cell_type": "markdown",
   "metadata": {},
   "source": [
    "## B117 Prevalence: Global-level Across Time"
   ]
  },
  {
   "cell_type": "code",
   "execution_count": null,
   "metadata": {},
   "outputs": [],
   "source": [
    "b117_world_time = (gisaid_data[gisaid_data['pangolin_lineage']=='B.1.1.7']\n",
    " .groupby('date')\n",
    " .agg(num_samples=('strain', 'nunique'))\n",
    " .reset_index())"
   ]
  },
  {
   "cell_type": "code",
   "execution_count": null,
   "metadata": {},
   "outputs": [],
   "source": [
    "b117_world_time['date'] = pd.to_datetime(b117_world_time['date'], errors='coerce')"
   ]
  },
  {
   "cell_type": "code",
   "execution_count": null,
   "metadata": {},
   "outputs": [],
   "source": [
    "b117_world_time.loc[b117_world_time['date'].dt.month==1, 'num_samples'] = 0\n",
    "b117_world_time['cum_num_samples'] = b117_world_time['num_samples'].cumsum()"
   ]
  },
  {
   "cell_type": "code",
   "execution_count": null,
   "metadata": {},
   "outputs": [],
   "source": [
    "b117_world_time"
   ]
  },
  {
   "cell_type": "code",
   "execution_count": null,
   "metadata": {
    "scrolled": false
   },
   "outputs": [],
   "source": [
    "fig = go.Figure(data=go.Scatter(y=b117_world_time['cum_num_samples'], x=b117_world_time['date'], \n",
    "                                name='B.1.1.7 samples', mode='markers+lines', line_color='rgba(220,20,60,.6)'))\n",
    "fig.update_layout(yaxis_title='Global umulative number of cases over time', xaxis_title='Collection Date',\n",
    "                  template='plotly_white', autosize=True)#, height=850,\n",
    "fig.show()"
   ]
  },
  {
   "cell_type": "markdown",
   "metadata": {},
   "source": [
    "## B117 Prevalence: National-level Across Time"
   ]
  },
  {
   "cell_type": "code",
   "execution_count": null,
   "metadata": {},
   "outputs": [],
   "source": [
    "b117_us_time = (gisaid_data[(gisaid_data['pangolin_lineage']=='B.1.1.7') & (gisaid_data['country']=='United States of America')]\n",
    " .groupby('date')\n",
    " .agg(num_samples=('strain', 'nunique'))\n",
    " .reset_index())"
   ]
  },
  {
   "cell_type": "code",
   "execution_count": null,
   "metadata": {},
   "outputs": [],
   "source": [
    "b117_us_time['date'] = pd.to_datetime(b117_us_time['date'], errors='coerce')"
   ]
  },
  {
   "cell_type": "code",
   "execution_count": null,
   "metadata": {},
   "outputs": [],
   "source": [
    "b117_us_time.loc[b117_us_time['date'].dt.month==1, 'num_samples'] = 0\n",
    "b117_us_time['cum_num_samples'] = b117_us_time['num_samples'].cumsum()"
   ]
  },
  {
   "cell_type": "code",
   "execution_count": null,
   "metadata": {},
   "outputs": [],
   "source": [
    "b117_us_time"
   ]
  },
  {
   "cell_type": "code",
   "execution_count": null,
   "metadata": {
    "scrolled": false
   },
   "outputs": [],
   "source": [
    "fig = go.Figure(data=go.Scatter(y=b117_us_time['cum_num_samples'], x=b117_us_time['date'], \n",
    "                                name='B.1.1.7 samples', mode='markers+lines', line_color='rgba(220,20,60,.6)'))\n",
    "fig.update_layout(yaxis_title='National cumulative number of cases over time', xaxis_title='Collection Date',\n",
    "                  template='plotly_white', autosize=True)#, height=850,\n",
    "fig.show()"
   ]
  },
  {
   "cell_type": "markdown",
   "metadata": {},
   "source": [
    "## B117 Prevalence: State-level Across Time"
   ]
  },
  {
   "cell_type": "code",
   "execution_count": null,
   "metadata": {},
   "outputs": [],
   "source": [
    "b117_ca_time = (gisaid_data[(gisaid_data['pangolin_lineage']=='B.1.1.7') & (gisaid_data['division']=='California')]\n",
    " .groupby('date')\n",
    " .agg(num_samples=('strain', 'nunique'))\n",
    " .reset_index())"
   ]
  },
  {
   "cell_type": "code",
   "execution_count": null,
   "metadata": {},
   "outputs": [],
   "source": [
    "b117_ca_time['date'] = pd.to_datetime(b117_ca_time['date'], errors='coerce')"
   ]
  },
  {
   "cell_type": "code",
   "execution_count": null,
   "metadata": {},
   "outputs": [],
   "source": [
    "b117_ca_time.loc[b117_ca_time['date'].dt.month==1, 'num_samples'] = 0\n",
    "b117_ca_time['cum_num_samples'] = b117_ca_time['num_samples'].cumsum()"
   ]
  },
  {
   "cell_type": "code",
   "execution_count": null,
   "metadata": {},
   "outputs": [],
   "source": [
    "b117_ca_time"
   ]
  },
  {
   "cell_type": "code",
   "execution_count": null,
   "metadata": {},
   "outputs": [],
   "source": [
    "fig = go.Figure(data=go.Scatter(y=b117_ca_time['cum_num_samples'], x=b117_ca_time['date'], \n",
    "                                name='B.1.1.7 samples', mode='markers+lines', line_color='rgba(220,20,60,.6)'))\n",
    "fig.update_layout(yaxis_title='State cumulative number of cases over time', xaxis_title='Collection Date',\n",
    "                  template='plotly_white', autosize=True)#, height=850,\n",
    "fig.show()"
   ]
  },
  {
   "cell_type": "markdown",
   "metadata": {},
   "source": [
    "## B117: Genomic Evolution"
   ]
  },
  {
   "cell_type": "code",
   "execution_count": null,
   "metadata": {},
   "outputs": [],
   "source": [
    "croft_meta = pd.read_csv('/home/al/analysis/b117/nextstrain_groups_neherlab_ncov_S.N501_metadata.tsv', sep='\\t')\n",
    "croft_meta.columns"
   ]
  },
  {
   "cell_type": "code",
   "execution_count": null,
   "metadata": {},
   "outputs": [],
   "source": [
    "gisaid_data['date'] = pd.to_datetime(gisaid_data['date'])"
   ]
  },
  {
   "cell_type": "code",
   "execution_count": null,
   "metadata": {},
   "outputs": [],
   "source": [
    "sample_sz = 200\n",
    "croft_meta = croft_meta[croft_meta['Country']!='USA']\n",
    "b117_meta = croft_meta[croft_meta['Pangolin Lineage']=='B.1.1.7'].sample(sample_sz)\n",
    "outgrp_meta = croft_meta[croft_meta['Pangolin Lineage']!='B.1.1.7'].sample(sample_sz)"
   ]
  },
  {
   "cell_type": "code",
   "execution_count": null,
   "metadata": {},
   "outputs": [],
   "source": [
    "us_b117 = gisaid_data[(gisaid_data['country']=='United States of America')\n",
    "                      & (gisaid_data['pangolin_lineage']=='B.1.1.7')]\n",
    "us_b117['strain'].unique()"
   ]
  },
  {
   "cell_type": "code",
   "execution_count": null,
   "metadata": {},
   "outputs": [],
   "source": [
    "b117_data = gisaid_data[(gisaid_data['strain'].isin(b117_meta['Strain'].unique()))\n",
    "                       |(gisaid_data['strain'].isin(outgrp_meta['Strain'].unique()))\n",
    "                       |(gisaid_data['strain'].isin(us_b117['strain'].unique()))]"
   ]
  },
  {
   "cell_type": "code",
   "execution_count": null,
   "metadata": {},
   "outputs": [],
   "source": [
    "b117_data.loc[b117_data['strain'].isin(outgrp_meta['Strain']), 'strain'].unique().shape"
   ]
  },
  {
   "cell_type": "code",
   "execution_count": null,
   "metadata": {},
   "outputs": [],
   "source": [
    "b117_data['nonsyn'] = False\n",
    "b117_data.loc[b117_data['ref_aa']!=b117_data['alt_aa'], \n",
    "              'nonsyn'] = True\n",
    "b117_data['S_nonsyn'] = False\n",
    "b117_data.loc[(b117_data['gene']=='S') &\n",
    "              (b117_data['ref_aa']!=b117_data['alt_aa']), \n",
    "              'S_nonsyn'] = True\n",
    "dists_df = (b117_data.groupby(['strain', 'date'])\n",
    "            .agg(num_nonsyn_muts=('nonsyn', 'sum'), \n",
    "                 num_S_nonsyn_muts=('S_nonsyn', 'sum'))\n",
    "            .reset_index())\n",
    "dists_df['group'] = 'outgroup'\n",
    "dists_df.loc[dists_df['strain'].isin(b117_meta['Strain'].unique()), 'group'] = 'B.1.1.7 (non-US)'\n",
    "dists_df.loc[dists_df['strain'].isin(us_b117['strain'].unique()), 'group'] = 'B.1.1.7 (US)'\n",
    "dists_df['date'] = pd.to_datetime(dists_df['date'], errors='coerce')\n",
    "dists_df['month'] = dists_df['date'].dt.month\n",
    "dists_df['doy'] = dists_df['date'].dt.dayofyear\n",
    "dists_df = dists_df.loc[~dists_df['doy'].isna()]"
   ]
  },
  {
   "cell_type": "code",
   "execution_count": null,
   "metadata": {},
   "outputs": [],
   "source": [
    "df = dists_df.copy()"
   ]
  },
  {
   "cell_type": "code",
   "execution_count": null,
   "metadata": {},
   "outputs": [],
   "source": [
    "df[df['group']=='B.1.1.7 (non-US)']['date'].min()"
   ]
  },
  {
   "cell_type": "code",
   "execution_count": null,
   "metadata": {},
   "outputs": [],
   "source": [
    "outgrp_model = ols('num_nonsyn_muts ~ doy', data=df[df['group']=='outgroup']).fit()\n",
    "b117_model = ols('num_nonsyn_muts ~ doy', data=df[df['group']!='outgroup']).fit()"
   ]
  },
  {
   "cell_type": "code",
   "execution_count": null,
   "metadata": {},
   "outputs": [],
   "source": [
    "b117_preds.dtypes"
   ]
  },
  {
   "cell_type": "code",
   "execution_count": null,
   "metadata": {},
   "outputs": [],
   "source": [
    "b117_preds = df[df['group']!='outgroup']\n",
    "b117_preds['predictions'] = b117_model.predict(b117_preds['doy'])\n",
    "\n",
    "outgrp_preds = df[df['group']=='outgroup']\n",
    "outgrp_preds['predictions'] = outgrp_model.predict(outgrp_preds['doy'])"
   ]
  },
  {
   "cell_type": "code",
   "execution_count": null,
   "metadata": {},
   "outputs": [],
   "source": [
    "fig = go.Figure(data=go.Scatter(y=df[df['group']=='B.1.1.7 (US)']['num_nonsyn_muts'], x=df[df['group']=='B.1.1.7 (US)']['date'], \n",
    "                                name='B.1.1.7 (US)', mode='markers', marker_color='rgba(220,20,60,.6)'))\n",
    "fig.add_trace(go.Scatter(y=df[df['group']=='B.1.1.7 (non-US)']['num_nonsyn_muts'], x=df[df['group']=='B.1.1.7 (non-US)']['date'],\n",
    "                         mode='markers', marker_color='rgba(30,144,255,.6)', name='B.1.1.7 (non-US)'\n",
    "             ))\n",
    "fig.add_trace(go.Scatter(y=b117_preds['predictions'], x=b117_preds['date'], name='OLS (B.1.1.7)', \n",
    "                         mode='lines', line_color='rgba(30,144,255,.6)'))\n",
    "fig.add_trace(go.Scatter(y=df[df['group']=='outgroup']['num_nonsyn_muts'], x=df[df['group']=='outgroup']['date'],\n",
    "                         mode='markers', marker_color='rgba(0,0,0,.6)', name='outgroup'\n",
    "             ))\n",
    "fig.add_trace(go.Scatter(y=outgrp_preds['predictions'], x=outgrp_preds['date'], name='OLS (outgroup)', \n",
    "                         mode='lines', line_color='rgba(0,0,0,1.)'))\n",
    "fig.update_layout(yaxis_title='Amino Acid Changes (root-to-tip)', xaxis_title='Collection Date',\n",
    "                  template='plotly_white', autosize=True)#, height=850,\n",
    "fig.show()"
   ]
  },
  {
   "cell_type": "code",
   "execution_count": null,
   "metadata": {},
   "outputs": [],
   "source": [
    "# gisaid_data['date'].value_counts()"
   ]
  },
  {
   "cell_type": "code",
   "execution_count": null,
   "metadata": {},
   "outputs": [],
   "source": [
    "# gisaid_data.drop(columns=['gisaid_epi_isl'], inplace=True)"
   ]
  },
  {
   "cell_type": "code",
   "execution_count": null,
   "metadata": {},
   "outputs": [],
   "source": [
    "# gisaid_data.to_csv('test.csv', index=False, compression='gzip')"
   ]
  },
  {
   "cell_type": "code",
   "execution_count": null,
   "metadata": {},
   "outputs": [],
   "source": [
    "gisaid_data[gisaid_data['pangolin_lineage']=='B.1.1.7']['country'].unique()"
   ]
  },
  {
   "cell_type": "code",
   "execution_count": null,
   "metadata": {},
   "outputs": [],
   "source": [
    "\"open-street-map\""
   ]
  },
  {
   "cell_type": "markdown",
   "metadata": {},
   "source": [
    "## COVID-19 Sampling Rates"
   ]
  },
  {
   "cell_type": "code",
   "execution_count": null,
   "metadata": {},
   "outputs": [],
   "source": [
    "us['strain'].unique().shape"
   ]
  },
  {
   "cell_type": "code",
   "execution_count": null,
   "metadata": {},
   "outputs": [],
   "source": [
    "58864/21259997"
   ]
  },
  {
   "cell_type": "code",
   "execution_count": null,
   "metadata": {},
   "outputs": [],
   "source": [
    "us.loc[us['division']=='California', 'strain'].unique().shape"
   ]
  },
  {
   "cell_type": "code",
   "execution_count": null,
   "metadata": {},
   "outputs": [],
   "source": [
    "8876/2574314"
   ]
  },
  {
   "cell_type": "code",
   "execution_count": null,
   "metadata": {},
   "outputs": [],
   "source": [
    "us.loc[us['location'].str.contains('Diego'), 'strain'].unique().shape"
   ]
  },
  {
   "cell_type": "code",
   "execution_count": null,
   "metadata": {},
   "outputs": [],
   "source": [
    "2321/180512"
   ]
  },
  {
   "cell_type": "code",
   "execution_count": null,
   "metadata": {},
   "outputs": [],
   "source": [
    "img_fp = \"/home/al/analysis/b117/figs/sars-cov-2_EM_v2.jpg\"\n",
    "img = cv2.imread(img_fp)\n",
    "img = img.astype(np.uint8)\n",
    "\n",
    "alpha = 0.05\n",
    "us = 0.0027687680294592705\n",
    "ca = 0.0034479088409572413\n",
    "sd = 0.01285787094486793\n",
    "\n",
    "var = 1-us\n",
    "us_img = sk.util.random_noise(img, mode='s&p', amount=(1-(us/alpha)))\n",
    "ca_img = sk.util.random_noise(img, mode='s&p', amount=(1-(ca/alpha)))\n",
    "sd_img = sk.util.random_noise(img, mode='s&p', amount=(1-(sd/alpha)))\n",
    "# Set size for visualizations\n",
    "fs = 22\n",
    "fig_size = plt.rcParams[\"figure.figsize\"]  # Get current size\n",
    "fig_size[0] = 30\n",
    "fig_size[1] = 20\n",
    "plt.rcParams[\"figure.figsize\"] = fig_size\n",
    "f, axarr = plt.subplots(1,4, sharey=True) # create visualizations\n",
    "axarr[0].text(2.5, -0.2, 'COVID-19 sequencing rates', rotation=0, fontsize=fs,\n",
    "            verticalalignment='center', horizontalalignment='right', \n",
    "            transform=axarr[0].transAxes)\n",
    "axarr[0].imshow(np.squeeze(us_img), cmap=plt.cm.gray) # visualize image tensor\n",
    "axarr[0].set_title(\"United States of America\", fontsize=fs)\n",
    "axarr[0].set_xlabel(f\"{us*100:.2f}%\", fontsize=fs)\n",
    "axarr[0].set_yticks([])\n",
    "axarr[0].set_xticks([])\n",
    "axarr[1].imshow(np.squeeze(ca_img), cmap=plt.cm.gray) # visualize original image file\n",
    "axarr[1].set_title(\"California\", fontsize=fs)\n",
    "axarr[1].set_xlabel(f\"{ca*100:.2f}%\", fontsize=fs)\n",
    "axarr[1].set_yticks([])\n",
    "axarr[1].set_xticks([])\n",
    "axarr[2].imshow(np.squeeze(sd_img), cmap=plt.cm.gray) # visualize image tensor\n",
    "axarr[2].set_title(\"San Diego\", fontsize=fs)\n",
    "axarr[2].set_xlabel(f\"{sd*100:.2f}%\", fontsize=fs)\n",
    "axarr[2].set_yticks([])\n",
    "axarr[2].set_xticks([])\n",
    "axarr[3].imshow(np.squeeze(img), cmap=plt.cm.gray) # visualize image tensor\n",
    "axarr[3].set_title(\"Ideal\", fontsize=fs)\n",
    "axarr[3].set_xlabel(f\"{alpha*100:.2f}%\", fontsize=fs)\n",
    "axarr[3].set_yticks([])\n",
    "axarr[3].set_xticks([])\n",
    "plt.subplots_adjust(wspace=0.05, hspace=0)\n",
    "plt.savefig(\"/home/al/analysis/b117/figs/national_covid_sequencing.png\", dpi=350)\n",
    "plt.show() # show visualization"
   ]
  },
  {
   "cell_type": "code",
   "execution_count": null,
   "metadata": {},
   "outputs": [],
   "source": [
    "def generate_html(feature, values, first_detected, world_map, state_map, genetic_distance_plot,\n",
    "                  aa_distance_plot, s_aa_distance_plot):\n",
    "    # express plots in html and JS\n",
    "    world_map = plotly.offline.plot(world_map, include_plotlyjs=False, output_type='div')\n",
    "    state_map = plotly.offline.plot(state_map, include_plotlyjs=False, output_type='div')\n",
    "#     county_map = plotly.offline.plot(county_map, include_plotlyjs=False, output_type='div')\n",
    "    genetic_distance_plot = plotly.offline.plot(genetic_distance_plot, include_plotlyjs=False, output_type='div')\n",
    "    aa_distance_plot = plotly.offline.plot(aa_distance_plot, include_plotlyjs=False, output_type='div')\n",
    "    s_aa_distance_plot = plotly.offline.plot(s_aa_distance_plot, include_plotlyjs=False, output_type='div')\n",
    "    # generate output messages\n",
    "    #TODO: expt_name, first_detected\n",
    "    # dir containing our template\n",
    "    file_loader = FileSystemLoader('templates')\n",
    "    # load the environment\n",
    "    env = Environment(loader=file_loader)\n",
    "    # load the template\n",
    "    template = env.get_template('voc.html')\n",
    "    # render data in our template format\n",
    "    html_output = template.render(feature=feature, values=values,\n",
    "                                  world_map=world_map, state_map=state_map, \n",
    "                                  genetic_distance_plot=genetic_distance_plot, \n",
    "                                  aa_distance_plot=aa_distance_plot, s_aa_distance_plot=s_aa_distance_plot,\n",
    "                                  first_detected=first_detected)\n",
    "    return html_output\n",
    "\n",
    "\n",
    "def save_html(html_output: str, filename: str):\n",
    "    with open(filename, 'w') as f:\n",
    "        f.write(html_output)"
   ]
  },
  {
   "cell_type": "code",
   "execution_count": null,
   "metadata": {},
   "outputs": [],
   "source": [
    "def generate_data(feature, values, gisaid_data, tree_fp, subs_fp,\n",
    "                  meta_fp, states_fp, patient_zero):\n",
    "    genetic_distance_plot = genetic_distance(tree_fp, meta_fp, patient_zero)\n",
    "    aa_distance_plot = aa_distance(subs_fp, meta_fp)\n",
    "    s_aa_distance_plot = s_aa_distance(subs_fp, meta_fp)\n",
    "    state_map, _, _ = map_by_state(gisaid_data, feature, values, states_fp)\n",
    "    world_map, _, _ = map_by_country(gisaid_data, feature, values)\n",
    "    r = gisaid.loc[gisaid[feature].isin(values)]\n",
    "    date = r['date_submitted'].min()\n",
    "    state = r[r['date_submitted']==date]['division'].unique()\n",
    "    cntry = r[r['date_submitted']==date]['country'].unique()\n",
    "    first_detected = f\"The {values} {feature} was first detected on {date} in {state}, {cntry}\"\n",
    "    return first_detected, genetic_distance_plot, aa_distance_plot, s_aa_distance_plot, world_map, state_map"
   ]
  },
  {
   "cell_type": "code",
   "execution_count": null,
   "metadata": {},
   "outputs": [],
   "source": [
    "alab_subs.columns"
   ]
  },
  {
   "cell_type": "code",
   "execution_count": null,
   "metadata": {},
   "outputs": [],
   "source": [
    "alab_subs = pd.read_csv('/home/al/analysis/alab_mutations_01-01-2021/alab_substitutions_long_01-01-2021.csv')"
   ]
  },
  {
   "cell_type": "code",
   "execution_count": null,
   "metadata": {},
   "outputs": [],
   "source": [
    "alab_subs['nonsyn'] = False\n",
    "alab_subs.loc[alab_subs['ref_aa']!=alab_subs['alt_aa'], 'nonsyn'] = True\n",
    "alab_subs['S_nonsyn'] = False\n",
    "alab_subs.loc[(alab_subs['gene']=='S') & (alab_subs['ref_aa']!=alab_subs['alt_aa']), 'S_nonsyn'] = True"
   ]
  },
  {
   "cell_type": "code",
   "execution_count": null,
   "metadata": {},
   "outputs": [],
   "source": [
    "alab_subs.groupby('idx').agg(num_nonsyn_muts=('nonsyn', 'sum'), num_S_nonsyn_muts=('S_nonsyn', 'sum')).reset_index()"
   ]
  },
  {
   "cell_type": "code",
   "execution_count": null,
   "metadata": {},
   "outputs": [],
   "source": [
    "def aa_distance(subs_fp, meta_fp, alpha=0.05):\n",
    "    alab_subs = pd.read_csv(subs_fp)\n",
    "    alab_subs['nonsyn'] = False\n",
    "    alab_subs.loc[alab_subs['ref_aa']!=alab_subs['alt_aa'], 'nonsyn'] = True\n",
    "    alab_subs['S_nonsyn'] = False\n",
    "    alab_subs.loc[(alab_subs['gene']=='S') & (alab_subs['ref_aa']!=alab_subs['alt_aa']), 'S_nonsyn'] = True\n",
    "    dists_df = (alab_subs.groupby('fasta_hdr')\n",
    "                .agg(num_nonsyn_muts=('nonsyn', 'sum'), num_S_nonsyn_muts=('S_nonsyn', 'sum'))\n",
    "                .reset_index())\n",
    "    meta = pd.read_csv(meta_fp)\n",
    "    sd_meta = meta[meta['location'].str.contains('San Diego')]\n",
    "    df = pd.merge(dists_df, sd_meta, on='fasta_hdr')\n",
    "    df['date'] = pd.to_datetime(df['collection_date'], errors='coerce')\n",
    "    df['month'] = df['date'].dt.month\n",
    "    df['doy'] = df['date'].dt.dayofyear\n",
    "    df = df.loc[~df['doy'].isna()]\n",
    "    model = ols('num_nonsyn_muts ~ doy', data=df).fit()\n",
    "    df['predict'] = model.predict(df['doy'])\n",
    "    df['p'] = model.outlier_test(method='fdr_bh')['fdr_bh(p)']\n",
    "    df['outlier'] = False\n",
    "    df.loc[df['p']<alpha, 'outlier'] = True\n",
    "    fig = go.Figure(data=go.Scatter(y=df[df['outlier']==False]['num_nonsyn_muts'], x=df[df['outlier']==False]['doy'], \n",
    "                                name='samples', mode='markers', marker_color='rgba(30,144,255,.6)'))\n",
    "    fig.add_trace(go.Scatter(y=df[df['outlier']==True]['num_nonsyn_muts'], x=df[df['outlier']==True]['doy'],\n",
    "                             mode='markers', marker_color='rgba(220,20,60,.6)', name='SoIs',\n",
    "                 text=df[df['outlier']==True][['ID', 'date']],\n",
    "                 hovertemplate = \n",
    "                 \"<b>%{text[0]}</b><br>\" +\n",
    "                 \"<b>%{text[1]}</b><br>\"))\n",
    "    fig.add_trace(go.Scatter(y=df['predict'], x=df['doy'], name='OLS', mode='lines', line_color='rgba(0,0,0,1.)'))\n",
    "    fig.update_layout(yaxis_title='Amino Acid Changes (root-to-tip)', xaxis_title='Collection Date',\n",
    "                      template='plotly_white', autosize=True)#, height=850, width=800)\n",
    "    return fig"
   ]
  },
  {
   "cell_type": "code",
   "execution_count": null,
   "metadata": {},
   "outputs": [],
   "source": [
    "meta_fp"
   ]
  },
  {
   "cell_type": "code",
   "execution_count": null,
   "metadata": {},
   "outputs": [],
   "source": [
    "# fig = aa_distance(subs_fp, meta_fp)\n",
    "# fig.show()"
   ]
  },
  {
   "cell_type": "code",
   "execution_count": null,
   "metadata": {},
   "outputs": [],
   "source": [
    "def s_aa_distance(subs_fp, meta_fp, alpha=0.05):\n",
    "    alab_subs = pd.read_csv(subs_fp)\n",
    "    alab_subs['nonsyn'] = False\n",
    "    alab_subs.loc[alab_subs['ref_aa']!=alab_subs['alt_aa'], 'nonsyn'] = True\n",
    "    alab_subs['S_nonsyn'] = False\n",
    "    alab_subs.loc[(alab_subs['gene']=='S') & (alab_subs['ref_aa']!=alab_subs['alt_aa']), 'S_nonsyn'] = True\n",
    "    dists_df = (alab_subs.groupby('fasta_hdr')\n",
    "                .agg(num_nonsyn_muts=('nonsyn', 'sum'), num_S_nonsyn_muts=('S_nonsyn', 'sum'))\n",
    "                .reset_index())\n",
    "    meta = pd.read_csv(meta_fp)\n",
    "    sd_meta = meta[meta['location'].str.contains('San Diego')]\n",
    "    df = pd.merge(dists_df, sd_meta, on='fasta_hdr')\n",
    "    df['date'] = pd.to_datetime(df['collection_date'], errors='coerce')\n",
    "    df['month'] = df['date'].dt.month\n",
    "    df['doy'] = df['date'].dt.dayofyear\n",
    "    df = df.loc[~df['doy'].isna()]\n",
    "    model = ols('num_S_nonsyn_muts ~ doy', data=df).fit()\n",
    "    df['predict'] = model.predict(df['doy'])\n",
    "    df['p'] = model.outlier_test(method='fdr_bh')['fdr_bh(p)']\n",
    "    df['outlier'] = False\n",
    "    df.loc[df['p']<alpha, 'outlier'] = True\n",
    "    fig = go.Figure(data=go.Scatter(y=df[df['outlier']==False]['num_S_nonsyn_muts'], x=df[df['outlier']==False]['doy'], \n",
    "                                name='samples', mode='markers', marker_color='rgba(30,144,255,.6)'))\n",
    "    fig.add_trace(go.Scatter(y=df[df['outlier']==True]['num_S_nonsyn_muts'], x=df[df['outlier']==True]['doy'],\n",
    "                             mode='markers', marker_color='rgba(220,20,60,.6)', name='SoIs',\n",
    "                 text=df[df['outlier']==True][['ID', 'date']],\n",
    "                 hovertemplate = \n",
    "                 \"<b>%{text[0]}</b><br>\" +\n",
    "                 \"<b>%{text[1]}</b><br>\"))\n",
    "    fig.add_trace(go.Scatter(y=df['predict'], x=df['doy'], name='OLS', mode='lines', line_color='rgba(0,0,0,1.)'))\n",
    "    fig.update_layout(yaxis_title='Amino Acid Changes in the S protein(root-to-tip)', xaxis_title='Collection Date',\n",
    "                      template='plotly_white', autosize=True)#, height=850, width=800)\n",
    "    return fig\n",
    "\n",
    "# fig = s_aa_distance(subs_fp, meta_fp)\n",
    "# fig.show()"
   ]
  },
  {
   "cell_type": "code",
   "execution_count": null,
   "metadata": {},
   "outputs": [],
   "source": [
    "def genetic_distance(tree_fp, meta_fp, patient_zero, alpha=0.05):\n",
    "    tree = bv.load_tree(tree_fp, patient_zero)\n",
    "    dists = {n.name: tree.distance(n.name, patient_zero) for n in tree.get_terminals()}\n",
    "    dists_df = (pd.DataFrame(index=dists.keys(), data=dists.values(), \n",
    "                      columns=['genetic_distance'])\n",
    "         .reset_index()\n",
    "         .rename(columns={'index': 'fasta_hdr'}))\n",
    "    meta = pd.read_csv(meta_fp)\n",
    "    sd_meta = meta[meta['location'].str.contains('San Diego')]\n",
    "    df = pd.merge(dists_df, sd_meta, on='fasta_hdr')\n",
    "    df['date'] = pd.to_datetime(df['collection_date'], errors='coerce')\n",
    "    df['month'] = df['date'].dt.month\n",
    "    df['doy'] = df['date'].dt.dayofyear\n",
    "    df = df.loc[~df['doy'].isna()]\n",
    "    model = ols('genetic_distance ~ doy', data=df).fit()\n",
    "    df['predict'] = model.predict(df['doy'])\n",
    "    df['p'] = model.outlier_test(method='fdr_bh')['fdr_bh(p)']\n",
    "    df['outlier'] = False\n",
    "    df.loc[df['p']<alpha, 'outlier'] = True\n",
    "    fig = go.Figure(data=go.Scatter(y=df[df['outlier']==False]['genetic_distance'], x=df[df['outlier']==False]['doy'], \n",
    "                                name='samples', mode='markers', marker_color='rgba(30,144,255,.6)'))\n",
    "    fig.add_trace(go.Scatter(y=df[df['outlier']==True]['genetic_distance'], x=df[df['outlier']==True]['doy'],\n",
    "                             mode='markers', marker_color='rgba(220,20,60,.6)', name='SoIs',\n",
    "                 text=df[df['outlier']==True][['ID', 'date']],\n",
    "                 hovertemplate = \n",
    "                 \"<b>%{text[0]}</b><br>\" +\n",
    "                 \"<b>%{text[1]}</b><br>\"))\n",
    "    fig.add_trace(go.Scatter(y=df['predict'], x=df['doy'], name='OLS', mode='lines', line_color='rgba(0,0,0,1.)'))\n",
    "    fig.update_layout(yaxis_title='Genetic Distance (root-to-tip)', xaxis_title='Collection Date',\n",
    "                      template='plotly_white', autosize=True)#, height=850, width=800)\n",
    "    return fig"
   ]
  },
  {
   "cell_type": "code",
   "execution_count": null,
   "metadata": {},
   "outputs": [],
   "source": [
    "def map_by_state(data: pd.DataFrame, feature: str, values: list, states_fp: str):\n",
    "    with open(states_fp) as f:\n",
    "        states = json.load(f)\n",
    "    state_map = {x['properties']['name']: x['id'] for x in states['features']}\n",
    "    results = data.loc[(data[feature].isin(values)) & (data['country']=='United States of America')]\n",
    "    results_by_state = results.groupby('division').agg(num_samples=('idx', 'nunique')).reset_index()\n",
    "    results_by_state['id'] = results_by_state['division'].apply(lambda x: state_map.get(x, 'unk'))\n",
    "#     fig = px.choropleth(results_by_state, geojson=states, scope=\"usa\",\n",
    "#                                locations='id', color='num_samples',# locationmode='USA-states',\n",
    "#                                color_continuous_scale=\"bluered\",\n",
    "#                                range_color=(0, results_by_state['num_samples'].max()),\n",
    "# #                                labels={'num_samples': f'Number of samples with {values}: ', 'division': 'loc:'},\n",
    "#                                hover_data=['division', 'num_samples']\n",
    "#                               )\n",
    "    fig = px.choropleth_mapbox(results_by_state, geojson=states, \n",
    "                               locations='id', color='num_samples',\n",
    "                               color_continuous_scale=\"bluered\", center={\"lat\": 37.0902, \"lon\": -95.7129},\n",
    "                               range_color=(0, results_by_state['num_samples'].max()),\n",
    "                               mapbox_style=\"carto-positron\", zoom=3,\n",
    "                               opacity=0.5,\n",
    "                               hover_data=['division', 'num_samples']\n",
    "                               #labels={'num_samples':f'Number of samples with {values}', 'division': f'location:'}\n",
    "                              )\n",
    "    fig.update_layout(margin={\"r\":0,\"t\":0,\"l\":0,\"b\":0})\n",
    "    return fig, state_map, results_by_state\n",
    "# states_fp = \"/home/al/code/MappingAPI/data/geojson/us-states.json\"\n",
    "# fig, mapp, df = map_by_state(gisaid, 'mutation', ['S:501Y'], states_fp)\n",
    "# fig.show()"
   ]
  },
  {
   "cell_type": "code",
   "execution_count": null,
   "metadata": {},
   "outputs": [],
   "source": [
    "def map_by_country(data: pd.DataFrame, feature: str, values: list):\n",
    "    with urlopen('https://raw.githubusercontent.com/johan/world.geo.json/master/countries.geo.json') as response:\n",
    "        countries = json.load(response)\n",
    "    for c in countries['features']:\n",
    "        if c['id']=='USA':\n",
    "            assert c['properties']['name'] == 'United States of America'\n",
    "    country_map = {x['properties']['name']: x['id'] for x in countries['features']}\n",
    "    results = data.loc[data[feature].isin(values)]\n",
    "    results_by_cntry = results.groupby('country').agg(num_samples=('idx', 'nunique')).reset_index()\n",
    "    results_by_cntry['id'] = results_by_cntry['country'].apply(lambda x: country_map.get(x, 'unk'))\n",
    "    fig = px.choropleth_mapbox(results_by_cntry, geojson=countries, \n",
    "                               locations='id', color='num_samples',\n",
    "                               color_continuous_scale=\"bluered\",\n",
    "                               range_color=(0, results_by_cntry['num_samples'].max()),\n",
    "                               mapbox_style=\"carto-positron\", zoom=1,\n",
    "                               opacity=0.5,\n",
    "                               labels={'num_samples':f'Number of samples with {values}', 'id': f'location:'}\n",
    "                              )\n",
    "    fig.update_layout(margin={\"r\":0,\"t\":0,\"l\":0,\"b\":0})\n",
    "    return fig, country_map, results_by_cntry\n",
    "\n",
    "# fig, mapp, df = map_by_country(gisaid, 'mutation', ['S:501Y'])\n",
    "# fig.show()"
   ]
  },
  {
   "cell_type": "code",
   "execution_count": null,
   "metadata": {},
   "outputs": [],
   "source": [
    "meta_fp = Path('/home/al/code/HCoV-19-Genomics/metadata.csv')\n",
    "tree_fp = Path('/home/al/analysis/alab_mutations_01-01-2021/alab/seqs_aligned.fa.treefile')\n",
    "patient_zero = 'NC_045512.2'\n",
    "tree = bv.load_tree(tree_fp, patient_zero)"
   ]
  },
  {
   "cell_type": "code",
   "execution_count": null,
   "metadata": {},
   "outputs": [],
   "source": [
    "dists = {n.name: tree.distance(n.name, patient_zero) for n in tree.get_terminals()}"
   ]
  },
  {
   "cell_type": "code",
   "execution_count": null,
   "metadata": {},
   "outputs": [],
   "source": [
    "dists_df = (pd.DataFrame(index=dists.keys(), data=dists.values(), \n",
    "                      columns=['genetic_distance'])\n",
    "         .reset_index()\n",
    "         .rename(columns={'index': 'fasta_hdr'}))\n",
    "dists_df.head()"
   ]
  },
  {
   "cell_type": "code",
   "execution_count": null,
   "metadata": {},
   "outputs": [],
   "source": [
    "meta = pd.read_csv(meta_fp)\n",
    "meta.head()"
   ]
  },
  {
   "cell_type": "code",
   "execution_count": null,
   "metadata": {},
   "outputs": [],
   "source": [
    "print(meta.shape)\n",
    "sd_meta = meta[meta['location'].str.contains('San Diego')]\n",
    "print(sd_meta.shape)"
   ]
  },
  {
   "cell_type": "code",
   "execution_count": null,
   "metadata": {},
   "outputs": [],
   "source": [
    "print(dists_df.shape)\n",
    "df = pd.merge(dists_df, sd_meta, on='fasta_hdr')\n",
    "print(df.shape)"
   ]
  },
  {
   "cell_type": "code",
   "execution_count": null,
   "metadata": {},
   "outputs": [],
   "source": [
    "df['date'] = pd.to_datetime(df['collection_date'], errors='coerce')"
   ]
  },
  {
   "cell_type": "code",
   "execution_count": null,
   "metadata": {},
   "outputs": [],
   "source": [
    "df['month'] = df['date'].dt.month"
   ]
  },
  {
   "cell_type": "code",
   "execution_count": null,
   "metadata": {},
   "outputs": [],
   "source": [
    "# df"
   ]
  },
  {
   "cell_type": "code",
   "execution_count": null,
   "metadata": {},
   "outputs": [],
   "source": [
    "df['doy'] = df['date'].dt.dayofyear"
   ]
  },
  {
   "cell_type": "code",
   "execution_count": null,
   "metadata": {},
   "outputs": [],
   "source": [
    "df = df.loc[~df['doy'].isna()]"
   ]
  },
  {
   "cell_type": "code",
   "execution_count": null,
   "metadata": {},
   "outputs": [],
   "source": [
    "model = ols('genetic_distance ~ doy', data=df).fit()"
   ]
  },
  {
   "cell_type": "code",
   "execution_count": null,
   "metadata": {},
   "outputs": [],
   "source": [
    "df['predict'] = model.predict(df['doy'])"
   ]
  },
  {
   "cell_type": "code",
   "execution_count": null,
   "metadata": {},
   "outputs": [],
   "source": [
    "alpha = 0.05"
   ]
  },
  {
   "cell_type": "code",
   "execution_count": null,
   "metadata": {},
   "outputs": [],
   "source": [
    "df['p'] = model.outlier_test(method='fdr_bh')['fdr_bh(p)']\n",
    "df['outlier'] = False\n",
    "df.loc[df['p']<alpha, 'outlier'] = True"
   ]
  },
  {
   "cell_type": "code",
   "execution_count": null,
   "metadata": {},
   "outputs": [],
   "source": [
    "# fig = go.Figure(data=go.Scatter(y=df[df['outlier']==False]['genetic_distance'], x=df[df['outlier']==False]['doy'], \n",
    "#                                 name='samples', mode='markers', marker_color='rgba(30,144,255,.6)'))\n",
    "# fig.add_trace(go.Scatter(y=df[df['outlier']==True]['genetic_distance'], x=df[df['outlier']==True]['doy'],\n",
    "#                          mode='markers', marker_color='rgba(220,20,60,.6)', name='SoIs',\n",
    "#              text=df[df['outlier']==True][['ID', 'date']],\n",
    "#              hovertemplate = \n",
    "#              \"<b>%{text[0]}</b><br>\" +\n",
    "#              \"<b>%{text[1]}</b><br>\"))\n",
    "# fig.add_trace(go.Scatter(y=df['predict'], x=df['doy'], name='OLS', mode='lines', line_color='rgba(0,0,0,1.)'))\n",
    "# fig.update_layout(yaxis_title='Genetic Distance (root-to-tip)', xaxis_title='Collection Date',\n",
    "#                   template='plotly_white', autosize=True)#, height=850, width=800)\n",
    "# fig.show()"
   ]
  },
  {
   "cell_type": "markdown",
   "metadata": {},
   "source": [
    "Samples are designated as Sample of Interest (SoI) based on the Benjamini-Hochberg outlier test at a 5% significance level. "
   ]
  },
  {
   "cell_type": "code",
   "execution_count": null,
   "metadata": {},
   "outputs": [],
   "source": [
    "# fig = go.Figure(go.Box(y=df['genetic_distance'], x=df['month'], text=df[['ID', 'date']],\n",
    "#             hovertemplate = \n",
    "#             \"<b>%{text[0]}</b><br>\" +\n",
    "#             \"<b>%{text[1]}</b><br>\"))\n",
    "# fig.update_layout(yaxis_title='Genetic Distance', xaxis_title='Collection Month',\n",
    "#                   template='plotly_white', autosize=False, height=850, width=800)\n",
    "# fig.show()"
   ]
  },
  {
   "cell_type": "markdown",
   "metadata": {},
   "source": [
    "# Strain Prevalence Maps"
   ]
  },
  {
   "cell_type": "markdown",
   "metadata": {},
   "source": [
    "## Country Level"
   ]
  },
  {
   "cell_type": "code",
   "execution_count": null,
   "metadata": {},
   "outputs": [],
   "source": [
    "with urlopen('https://raw.githubusercontent.com/johan/world.geo.json/master/countries.geo.json') as response:\n",
    "    countries = json.load(response)\n",
    "for c in countries['features']:\n",
    "    if c['id']=='USA':\n",
    "        assert c['properties']['name'] == 'United States of America'"
   ]
  },
  {
   "cell_type": "code",
   "execution_count": null,
   "metadata": {},
   "outputs": [],
   "source": [
    "gisaid_seqs = Path('/home/al/analysis/gisaid/sequences_2021-01-01_08-20.fasta')\n",
    "gisaid_meta = Path('/home/al/analysis/gisaid/metadata_2021-01-01_08-12.tsv')\n",
    "gisaid_msa_fp = Path(gisaid_seqs.split('.')[0] + '_aligned.fa')\n",
    "print(\"Identifying substitution-based mutations - long...\")\n",
    "gisaid_subs_long, _ = bm.identify_replacements_per_sample(gisaid_msa_fp, gisaid_meta, bm.GENE2POS, data_src='gisaid')"
   ]
  },
  {
   "cell_type": "code",
   "execution_count": null,
   "metadata": {},
   "outputs": [],
   "source": [
    "# gisaid = pd.read_csv('/home/al/analysis/alab_mutations_01-01-2021/gisaid_substitutions_long_01-01-2021.csv')"
   ]
  },
  {
   "cell_type": "code",
   "execution_count": null,
   "metadata": {},
   "outputs": [],
   "source": [
    "gisaid = gisaid_subs_long\n",
    "gisaid['mutation'] = gisaid['gene'] + ':' + gisaid['codon_num'].astype(str) + gisaid['alt_aa']\n",
    "gisaid.loc[gisaid['country']=='USA', 'country'] = 'United States of America'"
   ]
  },
  {
   "cell_type": "code",
   "execution_count": null,
   "metadata": {},
   "outputs": [],
   "source": [
    "country_map = {x['properties']['name']: x['id'] for x in countries['features']}"
   ]
  },
  {
   "cell_type": "code",
   "execution_count": null,
   "metadata": {},
   "outputs": [],
   "source": [
    "gisaid.loc[gisaid['pangolin_lineage']=='B.1.1.7'].drop_duplicates(subset=['idx'])['country'].value_counts()"
   ]
  },
  {
   "cell_type": "code",
   "execution_count": null,
   "metadata": {},
   "outputs": [],
   "source": [
    "gisaid['id'] = gisaid['country'].apply(lambda x: country_map.get(x, 'unk'))\n",
    "gisaid['id'].unique()"
   ]
  },
  {
   "cell_type": "code",
   "execution_count": null,
   "metadata": {},
   "outputs": [],
   "source": [
    "# gisaid.loc[(gisaid['pangolin_lineage']=='B.1.1.7') & (gisaid['country']=='Jordan')]"
   ]
  },
  {
   "cell_type": "code",
   "execution_count": null,
   "metadata": {},
   "outputs": [],
   "source": [
    "def map_by_country(data: pd.DataFrame, feature: str, values: list, countries_geojson):\n",
    "    country_map = {x['properties']['name']: x['id'] for x in countries['features']}\n",
    "    results = data.loc[data[feature].isin(values)]\n",
    "    results_by_cntry = results.groupby('country').agg(num_samples=('idx', 'nunique')).reset_index()\n",
    "    results_by_cntry['id'] = results_by_cntry['country'].apply(lambda x: country_map.get(x, 'unk'))\n",
    "    fig = px.choropleth_mapbox(results_by_cntry, geojson=countries_geojson, \n",
    "                               locations='id', color='num_samples',\n",
    "                               color_continuous_scale=\"bluered\",\n",
    "                               range_color=(0, results_by_cntry['num_samples'].max()),\n",
    "                               mapbox_style=\"carto-positron\", zoom=1,\n",
    "                               opacity=0.5,\n",
    "                               labels={'num_samples':f'Number of samples with {values}', 'id': f'location:'}\n",
    "                              )\n",
    "    fig.update_layout(margin={\"r\":0,\"t\":0,\"l\":0,\"b\":0})\n",
    "    return fig, country_map, results_by_cntry\n",
    "\n",
    "# fig, mapp, df = map_by_country(gisaid, 'mutation', ['S:501Y'], countries)\n",
    "# fig.show()"
   ]
  },
  {
   "cell_type": "code",
   "execution_count": null,
   "metadata": {},
   "outputs": [],
   "source": [
    "with open(states_fp) as f:\n",
    "    states = json.load(f)"
   ]
  },
  {
   "cell_type": "code",
   "execution_count": null,
   "metadata": {},
   "outputs": [],
   "source": [
    "# states['features'][0]\n",
    "# states"
   ]
  },
  {
   "cell_type": "code",
   "execution_count": null,
   "metadata": {},
   "outputs": [],
   "source": [
    "state_map = {x['properties']['name']: x['id'] for x in states['features']}"
   ]
  },
  {
   "cell_type": "code",
   "execution_count": null,
   "metadata": {},
   "outputs": [],
   "source": [
    "# state_map"
   ]
  },
  {
   "cell_type": "code",
   "execution_count": null,
   "metadata": {},
   "outputs": [],
   "source": [
    "# gisaid['division']"
   ]
  },
  {
   "cell_type": "code",
   "execution_count": null,
   "metadata": {},
   "outputs": [],
   "source": [
    "gisaid['id'] = gisaid['division'].apply(lambda x: state_map.get(x, 'unk'))\n",
    "gisaid['id'].unique()"
   ]
  },
  {
   "cell_type": "code",
   "execution_count": null,
   "metadata": {},
   "outputs": [],
   "source": [
    "results = gisaid.loc[gisaid['mutation']=='S:501Y']\n",
    "results_by_state = results.groupby('division').agg(num_samples=('idx', 'nunique')).reset_index()\n",
    "results_by_state['division'].apply(lambda x: state_map.get(x, 'unk'))"
   ]
  },
  {
   "cell_type": "code",
   "execution_count": null,
   "metadata": {},
   "outputs": [],
   "source": [
    "df"
   ]
  },
  {
   "cell_type": "code",
   "execution_count": null,
   "metadata": {},
   "outputs": [],
   "source": [
    "def map_by_state(data: pd.DataFrame, feature: str, values: list, states_fp: str):\n",
    "    with open(states_fp) as f:\n",
    "        states = json.load(f)\n",
    "    state_map = {x['properties']['name']: x['id'] for x in states['features']}\n",
    "    results = data.loc[(data[feature].isin(values)) & (data['country']=='United States of America')]\n",
    "    results_by_state = results.groupby('division').agg(num_samples=('idx', 'nunique')).reset_index()\n",
    "    results_by_state['id'] = results_by_state['division'].apply(lambda x: state_map.get(x, 'unk'))\n",
    "    fig = px.choropleth(results_by_state, geojson=states, scope=\"usa\",\n",
    "                               locations='id', color='num_samples',\n",
    "                               color_continuous_scale=\"bluered\",\n",
    "                               range_color=(0, results_by_state['num_samples'].max()),\n",
    "                               labels={'num_samples': f'Number of samples with {values}: ', 'division': 'loc:'}\n",
    "                              )\n",
    "    fig.update_layout(margin={\"r\":0,\"t\":0,\"l\":0,\"b\":0})\n",
    "    return fig, state_map, results_by_state\n",
    "# states_fp = \"/home/al/code/MappingAPI/data/geojson/us-states.json\"\n",
    "# fig, mapp, df = map_by_state(gisaid, 'mutation', ['S:501Y'], states_fp)\n",
    "# fig.show()"
   ]
  },
  {
   "cell_type": "markdown",
   "metadata": {},
   "source": [
    "# Report Generation"
   ]
  },
  {
   "cell_type": "code",
   "execution_count": null,
   "metadata": {},
   "outputs": [],
   "source": [
    "def generate_html(world_map, state_map, county_map, genetic_distance_plot):\n",
    "    # express plots in html and JS\n",
    "    world_map = plotly.offline.plot(world_map, include_plotlyjs=False, output_type='div')\n",
    "    state_map = plotly.offline.plot(state_map, include_plotlyjs=False, output_type='div')\n",
    "    county_map = plotly.offline.plot(county_map, include_plotlyjs=False, output_type='div')\n",
    "    genetic_distance_plot = plotly.offline.plot(genetic_distance_plot, include_plotlyjs=False, output_type='div')\n",
    "    # generate output messages\n",
    "    #TODO: expt_name, first_detected\n",
    "    # dir containing our template\n",
    "    file_loader = FileSystemLoader('templates')\n",
    "    # load the environment\n",
    "    env = Environment(loader=file_loader)\n",
    "    # load the template\n",
    "    template = env.get_template('voc.html')\n",
    "    # render data in our template format\n",
    "    html_output = template.render(world_map=world_map, state_map=state_map, \n",
    "                                  county_map=county_map, genetic_distance_plot=genetic_distance_plot,\n",
    "                                 first_detected=first_detected, expt_name=expt_name)\n",
    "    return html_output\n",
    "\n",
    "\n",
    "def save_html(html_output: str, filename: str):\n",
    "    with open(filename, 'w') as f:\n",
    "        f.write(html_output)"
   ]
  },
  {
   "cell_type": "code",
   "execution_count": null,
   "metadata": {},
   "outputs": [],
   "source": []
  },
  {
   "cell_type": "code",
   "execution_count": null,
   "metadata": {},
   "outputs": [],
   "source": []
  },
  {
   "cell_type": "code",
   "execution_count": null,
   "metadata": {},
   "outputs": [],
   "source": []
  },
  {
   "cell_type": "code",
   "execution_count": null,
   "metadata": {},
   "outputs": [],
   "source": [
    "df = pd.read_csv()"
   ]
  },
  {
   "cell_type": "code",
   "execution_count": null,
   "metadata": {},
   "outputs": [],
   "source": [
    "out_dir = Path('/home/al/analysis/mutations/gisaid')"
   ]
  },
  {
   "cell_type": "code",
   "execution_count": null,
   "metadata": {},
   "outputs": [],
   "source": [
    "gisaid = pd.read_csv(out_dir/'gisaid_replacements_19-12-2020.csv')"
   ]
  },
  {
   "cell_type": "code",
   "execution_count": null,
   "metadata": {},
   "outputs": [],
   "source": [
    "# gisaid['mutation'] = gisaid['gene'] + ':' + gisaid['codon_num'].astype(str) + gisaid['alt_aa']\n",
    "gisaid.loc[gisaid['country']=='USA', 'country'] = 'United States of America'"
   ]
  },
  {
   "cell_type": "code",
   "execution_count": null,
   "metadata": {},
   "outputs": [],
   "source": [
    "# gisaid.to_csv(out_dir/'gisaid_replacements_19-12-2020.csv', index=False)"
   ]
  },
  {
   "cell_type": "code",
   "execution_count": null,
   "metadata": {},
   "outputs": [],
   "source": [
    "# gisaid['country'].unique()"
   ]
  },
  {
   "cell_type": "code",
   "execution_count": null,
   "metadata": {},
   "outputs": [],
   "source": [
    "## Analyzing A-lab's submission rates across the U.S.\n",
    "us = gisaid[gisaid['country']=='USA'].copy()\n",
    "us.loc[:, 'date'] = pd.to_datetime(us['date'])\n",
    "us.loc[:, 'month'] = us['date'].dt.month\n",
    "us.drop_duplicates(subset=['idx'], inplace=True)\n",
    "us.loc[:, 'is_andersen'] = False\n",
    "us.loc[us['submitting_lab'].str.contains('Andersen'), 'is_andersen'] = True\n",
    "ans = (us.groupby(['submitting_lab'])\n",
    " .agg(num_samples=('idx', 'nunique'))\n",
    " .reset_index()\n",
    " .sort_values(['num_samples'], ascending=[False])\n",
    " .reset_index())\n",
    "# ans[ans['month']==11]\n",
    "ans.iloc[:10]"
   ]
  },
  {
   "cell_type": "code",
   "execution_count": null,
   "metadata": {},
   "outputs": [],
   "source": [
    "uk_seqs = uk.groupby(['date', 'idx']).agg(num_nonsyn_mutations=('is_nonsyn_mutation', 'sum'),\n",
    "                                num_S_nonsyn_mutations=('is_S_nonsyn_mutation', 'sum')).reset_index()\n",
    "uk_seqs.loc[:, 's501y'] = False\n",
    "uk_seqs.loc[uk_seqs['idx'].isin(mutant_samples), 's501y'] = True"
   ]
  },
  {
   "cell_type": "code",
   "execution_count": null,
   "metadata": {},
   "outputs": [],
   "source": [
    "s501y_filter = (gisaid['gene']=='S') & (gisaid['codon_num']==501) & (gisaid['alt_aa']=='Y')\n",
    "gisaid.loc[(s501y_filter), 'country'].value_counts()"
   ]
  },
  {
   "cell_type": "code",
   "execution_count": null,
   "metadata": {},
   "outputs": [],
   "source": [
    "b117_samples = gisaid.loc[(gisaid['pangolin_lineage']=='B.1.1.7'), 'country'].unique()\n",
    "b117_samples"
   ]
  },
  {
   "cell_type": "code",
   "execution_count": null,
   "metadata": {},
   "outputs": [],
   "source": [
    "uk = gisaid[gisaid['country']=='United Kingdom']"
   ]
  },
  {
   "cell_type": "code",
   "execution_count": null,
   "metadata": {},
   "outputs": [],
   "source": [
    "# s501y_filter = (uk['gene']=='S') & (uk['codon_num']==501) & (uk['alt_aa']=='Y')\n",
    "s501y_filter = (uk['pangolin_lineage']=='B.1.1.7')\n",
    "uk.loc[s501y_filter]['date'].min()"
   ]
  },
  {
   "cell_type": "code",
   "execution_count": null,
   "metadata": {},
   "outputs": [],
   "source": [
    "# filtering out UK samples AFTER S501Y was first detected\n",
    "uk = uk.loc[uk['date'] > uk.loc[s501y_filter]['date'].min()]"
   ]
  },
  {
   "cell_type": "code",
   "execution_count": null,
   "metadata": {},
   "outputs": [],
   "source": [
    "# uk.columns"
   ]
  },
  {
   "cell_type": "code",
   "execution_count": null,
   "metadata": {},
   "outputs": [],
   "source": [
    "uk['date'].min()"
   ]
  },
  {
   "cell_type": "code",
   "execution_count": null,
   "metadata": {},
   "outputs": [],
   "source": [
    "all_samples = uk['idx'].unique()\n",
    "len(all_samples)"
   ]
  },
  {
   "cell_type": "code",
   "execution_count": null,
   "metadata": {},
   "outputs": [],
   "source": [
    "mutant_samples = uk.loc[s501y_filter, 'idx'].unique()\n",
    "len(mutant_samples)"
   ]
  },
  {
   "cell_type": "code",
   "execution_count": null,
   "metadata": {},
   "outputs": [],
   "source": [
    "# common = set(mutant_samples) & set(b117_samples)\n",
    "# len(common)"
   ]
  },
  {
   "cell_type": "code",
   "execution_count": null,
   "metadata": {},
   "outputs": [],
   "source": [
    "uk.loc[:, 's501y'] = False\n",
    "uk.loc[s501y_filter, 's501y'] = True"
   ]
  },
  {
   "cell_type": "code",
   "execution_count": null,
   "metadata": {},
   "outputs": [],
   "source": [
    "uk.loc[:, 'is_nonsyn_mutation'] = False\n",
    "uk.loc[uk['alt_aa']!=uk['ref_aa'], 'is_nonsyn_mutation'] = True\n",
    "uk.loc[:, 'is_S_nonsyn_mutation'] = False\n",
    "uk.loc[(uk['alt_aa']!=uk['ref_aa']) & (uk['gene']=='S'), 'is_S_nonsyn_mutation'] = True"
   ]
  },
  {
   "cell_type": "code",
   "execution_count": null,
   "metadata": {},
   "outputs": [],
   "source": [
    "uk['date'] = pd.to_datetime(uk['date'])"
   ]
  },
  {
   "cell_type": "code",
   "execution_count": null,
   "metadata": {},
   "outputs": [],
   "source": [
    "uk[['is_nonsyn_mutation', 'is_S_nonsyn_mutation']].sum() / len(all_samples)"
   ]
  },
  {
   "cell_type": "code",
   "execution_count": null,
   "metadata": {},
   "outputs": [],
   "source": [
    "uk_seqs = uk.groupby(['date', 'idx']).agg(num_nonsyn_mutations=('is_nonsyn_mutation', 'sum'),\n",
    "                                num_S_nonsyn_mutations=('is_S_nonsyn_mutation', 'sum')).reset_index()\n",
    "uk_seqs.loc[:, 's501y'] = False\n",
    "uk_seqs.loc[uk_seqs['idx'].isin(mutant_samples), 's501y'] = True"
   ]
  },
  {
   "cell_type": "code",
   "execution_count": null,
   "metadata": {},
   "outputs": [],
   "source": [
    "uk_seqs.loc[:, 'year'] = uk_seqs['date'].dt.year\n",
    "uk_seqs.loc[:, 'month'] = uk_seqs['date'].dt.month\n",
    "uk_seqs.loc[:, 'week'] = uk_seqs['date'].dt.isocalendar().week\n",
    "mnthly_cnts = uk_seqs.groupby(['year', 'month', 'week']).agg(total_samples=('idx', 'nunique'), \n",
    "                                                             mutated_samples=('s501y', 'sum'))\n",
    "mnthly_cnts['mutation_freq'] = mnthly_cnts['mutated_samples'] / mnthly_cnts['total_samples']\n",
    "mnthly_cnts"
   ]
  },
  {
   "cell_type": "code",
   "execution_count": null,
   "metadata": {},
   "outputs": [],
   "source": [
    "x = uk_seqs[uk_seqs['s501y']==True].sample(1000)\n",
    "y = uk_seqs[uk_seqs['s501y']==False].sample(1000)\n",
    "sample_data = pd.concat([x, y])"
   ]
  },
  {
   "cell_type": "code",
   "execution_count": null,
   "metadata": {},
   "outputs": [],
   "source": [
    "sample_data.groupby('s501y').agg({'num_nonsyn_mutations': ['mean', 'median'], 'num_S_nonsyn_mutations': ['mean', 'median']})"
   ]
  },
  {
   "cell_type": "code",
   "execution_count": null,
   "metadata": {},
   "outputs": [],
   "source": [
    "# box plots of non-synonymous mutations"
   ]
  },
  {
   "cell_type": "code",
   "execution_count": null,
   "metadata": {},
   "outputs": [],
   "source": [
    "fig = go.Figure(go.Box(y=sample_data['num_nonsyn_mutations'], x=sample_data['s501y'], boxpoints=False))\n",
    "fig.update_layout(yaxis_title='Non-synonymous Mutations', xaxis_title='B1117 Lineage',\n",
    "                  template='plotly_white', autosize=False, height=850, width=800)\n",
    "# fig.show()"
   ]
  },
  {
   "cell_type": "code",
   "execution_count": null,
   "metadata": {},
   "outputs": [],
   "source": [
    "fig = go.Figure(go.Box(y=sample_data['num_S_nonsyn_mutations'], x=sample_data['s501y'], boxpoints=False))\n",
    "fig.update_layout(yaxis_title='S Mutations', xaxis_title='B1117 Lineage',\n",
    "                  template='plotly_white', autosize=False, height=850, width=800)\n",
    "# fig.show()"
   ]
  },
  {
   "cell_type": "code",
   "execution_count": null,
   "metadata": {},
   "outputs": [],
   "source": [
    "# world plot of variant prevalence"
   ]
  },
  {
   "cell_type": "markdown",
   "metadata": {},
   "source": [
    "## County Level"
   ]
  },
  {
   "cell_type": "code",
   "execution_count": null,
   "metadata": {},
   "outputs": [],
   "source": [
    "from urllib.request import urlopen\n",
    "import json\n",
    "\n",
    "with urlopen('https://raw.githubusercontent.com/plotly/datasets/master/geojson-counties-fips.json') as response:\n",
    "    counties = json.load(response)"
   ]
  },
  {
   "cell_type": "code",
   "execution_count": null,
   "metadata": {},
   "outputs": [],
   "source": [
    "county_map = {x['properties']['NAME']+x['properties']['STATE']: x['id'] for x in counties['features']}"
   ]
  },
  {
   "cell_type": "code",
   "execution_count": null,
   "metadata": {},
   "outputs": [],
   "source": [
    "for c in county_map:\n",
    "    if 'Orange' in c:\n",
    "        print(c)\n",
    "        print(county_map[c])"
   ]
  },
  {
   "cell_type": "code",
   "execution_count": null,
   "metadata": {},
   "outputs": [],
   "source": [
    "us.loc[us['location']=='unk', 'idx'].unique().shape"
   ]
  },
  {
   "cell_type": "code",
   "execution_count": null,
   "metadata": {},
   "outputs": [],
   "source": [
    "us"
   ]
  },
  {
   "cell_type": "code",
   "execution_count": null,
   "metadata": {},
   "outputs": [],
   "source": [
    "us['county_code'] = us['location'].apply(lambda x: county_map.get(x, -1))\n",
    "us.loc[us['county_code']==-1, 'idx'].unique().shape"
   ]
  },
  {
   "cell_type": "code",
   "execution_count": null,
   "metadata": {},
   "outputs": [],
   "source": [
    "us['idx'].unique().shape"
   ]
  },
  {
   "cell_type": "code",
   "execution_count": null,
   "metadata": {},
   "outputs": [],
   "source": [
    "# sorted(us['location'].unique())"
   ]
  },
  {
   "cell_type": "code",
   "execution_count": null,
   "metadata": {},
   "outputs": [],
   "source": [
    "df = pd.read_csv(\"https://raw.githubusercontent.com/plotly/datasets/master/fips-unemp-16.csv\",\n",
    "                   dtype={\"fips\": str})\n",
    "df"
   ]
  },
  {
   "cell_type": "code",
   "execution_count": null,
   "metadata": {},
   "outputs": [],
   "source": []
  }
 ],
 "metadata": {
  "kernelspec": {
   "display_name": "covid",
   "language": "python",
   "name": "covid"
  },
  "language_info": {
   "codemirror_mode": {
    "name": "ipython",
    "version": 3
   },
   "file_extension": ".py",
   "mimetype": "text/x-python",
   "name": "python",
   "nbconvert_exporter": "python",
   "pygments_lexer": "ipython3",
   "version": "3.8.3"
  }
 },
 "nbformat": 4,
 "nbformat_minor": 4
}
