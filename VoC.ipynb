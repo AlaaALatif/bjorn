{
 "cells": [
  {
   "cell_type": "code",
   "execution_count": 1,
   "metadata": {},
   "outputs": [],
   "source": [
    "import pandas as pd\n",
    "import os\n",
    "from path import Path\n",
    "import plotly\n",
    "import plotly.express as px\n",
    "import plotly.graph_objects as go\n",
    "import onion_trees as bv\n",
    "from urllib.request import urlopen\n",
    "import json\n",
    "import statsmodels as sm\n",
    "from statsmodels.formula.api import ols\n",
    "import mutations as bm\n",
    "from Bio import Seq, SeqIO, AlignIO, Phylo, Align\n",
    "from jinja2 import Environment, FileSystemLoader  # html template engine"
   ]
  },
  {
   "cell_type": "code",
   "execution_count": 2,
   "metadata": {},
   "outputs": [],
   "source": [
    "import reports as br"
   ]
  },
  {
   "cell_type": "code",
   "execution_count": 3,
   "metadata": {},
   "outputs": [],
   "source": [
    "# cns = SeqIO.parse(gisaid_msa_fp, 'fasta')\n",
    "# seq_lens = {}\n",
    "# for rec in cns:\n",
    "#     length = len(rec.seq)\n",
    "#     if length != 29903:\n",
    "#         print(rec.id)\n",
    "# seq_lens"
   ]
  },
  {
   "cell_type": "code",
   "execution_count": 4,
   "metadata": {},
   "outputs": [],
   "source": [
    "# output_file = Path('/home/al/analysis/alab_mutations_07-01-2021/sequences_2021-01-06_08-17_cleaned.fasta')\n",
    "# seqs = SeqIO.parse(gisaid_seqs, 'fasta')\n",
    "# records = [rec for rec in seqs if rec.id!='England/CAMC-B07F7A/2020']\n",
    "# SeqIO.write(records, output_file, 'fasta')"
   ]
  },
  {
   "cell_type": "code",
   "execution_count": null,
   "metadata": {},
   "outputs": [
    {
     "name": "stdout",
     "output_type": "stream",
     "text": [
      "Identifying substitution-based mutations - long...\n",
      "Loading Alignment file at: /home/al/analysis/alab_mutations_07-01-2021/msa_0106/msa_0106.fasta\n",
      "Initial cleaning...\n"
     ]
    }
   ],
   "source": [
    "patient_zero = 'hCoV-19/Wuhan/WIV04/2019'\n",
    "gisaid_seqs = Path('/home/al/analysis/alab_mutations_07-01-2021/sequences_2021-01-06_08-17.fasta')\n",
    "gisaid_meta = Path('/home/al/analysis/alab_mutations_07-01-2021/metadata_2021-01-06_18-26.tsv')\n",
    "gisaid_msa_fp = Path('/home/al/analysis/alab_mutations_07-01-2021/msa_0106/msa_0106.fasta')\n",
    "print(\"Identifying substitution-based mutations - long...\")\n",
    "gisaid_subs_long, _ = bm.identify_replacements_per_sample(gisaid_msa_fp, \n",
    "                                                          gisaid_meta, \\\n",
    "                                                          bm.GENE2POS, \n",
    "                                                          data_src='gisaid',\n",
    "                                                          patient_zero=patient_zero)"
   ]
  },
  {
   "cell_type": "code",
   "execution_count": 7,
   "metadata": {},
   "outputs": [
    {
     "ename": "NameError",
     "evalue": "name 'gisaid_subs_long' is not defined",
     "output_type": "error",
     "traceback": [
      "\u001b[0;31m---------------------------------------------------------------------------\u001b[0m",
      "\u001b[0;31mNameError\u001b[0m                                 Traceback (most recent call last)",
      "\u001b[0;32m<ipython-input-7-bb0bf506d575>\u001b[0m in \u001b[0;36m<module>\u001b[0;34m\u001b[0m\n\u001b[0;32m----> 1\u001b[0;31m \u001b[0mgisaid_subs_long\u001b[0m\u001b[0;34m.\u001b[0m\u001b[0mshape\u001b[0m\u001b[0;34m\u001b[0m\u001b[0;34m\u001b[0m\u001b[0m\n\u001b[0m",
      "\u001b[0;31mNameError\u001b[0m: name 'gisaid_subs_long' is not defined"
     ]
    }
   ],
   "source": [
    "gisaid_subs_long.shape"
   ]
  },
  {
   "cell_type": "code",
   "execution_count": null,
   "metadata": {},
   "outputs": [],
   "source": [
    "len(_)"
   ]
  },
  {
   "cell_type": "code",
   "execution_count": 6,
   "metadata": {},
   "outputs": [],
   "source": [
    "# for rec in cns:\n",
    "#     if 'hCoV-19/Wuhan/WIV04/2019' in rec.id:\n",
    "#         print(rec.id)"
   ]
  },
  {
   "cell_type": "code",
   "execution_count": 23,
   "metadata": {},
   "outputs": [
    {
     "name": "stderr",
     "output_type": "stream",
     "text": [
      "/home/al/anaconda3/envs/covid/lib/python3.8/site-packages/IPython/core/interactiveshell.py:3071: DtypeWarning:\n",
      "\n",
      "Columns (8) have mixed types.Specify dtype option on import or set low_memory=False.\n",
      "\n"
     ]
    },
    {
     "data": {
      "text/plain": [
       "Index(['strain', 'virus', 'gisaid_epi_isl', 'genbank_accession', 'date',\n",
       "       'region', 'country', 'division', 'location', 'region_exposure',\n",
       "       'country_exposure', 'division_exposure', 'segment', 'length', 'host',\n",
       "       'age', 'sex', 'Nextstrain_clade', 'pangolin_lineage', 'GISAID_clade',\n",
       "       'originating_lab', 'submitting_lab', 'authors', 'url', 'title',\n",
       "       'paper_url', 'date_submitted'],\n",
       "      dtype='object')"
      ]
     },
     "execution_count": 23,
     "metadata": {},
     "output_type": "execute_result"
    }
   ],
   "source": [
    "meta = pd.read_csv(gisaid_meta, sep='\\t')\n",
    "meta.columns"
   ]
  },
  {
   "cell_type": "code",
   "execution_count": 27,
   "metadata": {},
   "outputs": [
    {
     "data": {
      "text/plain": [
       "(322744,)"
      ]
     },
     "execution_count": 27,
     "metadata": {},
     "output_type": "execute_result"
    }
   ],
   "source": [
    "meta['strain'].unique().shape"
   ]
  },
  {
   "cell_type": "code",
   "execution_count": 33,
   "metadata": {},
   "outputs": [
    {
     "data": {
      "text/plain": [
       "(7435,)"
      ]
     },
     "execution_count": 33,
     "metadata": {},
     "output_type": "execute_result"
    }
   ],
   "source": [
    "meta.loc[(meta['pangolin_lineage']=='B.1.1.7'), 'strain'].unique().shape"
   ]
  },
  {
   "cell_type": "code",
   "execution_count": 32,
   "metadata": {},
   "outputs": [
    {
     "data": {
      "text/plain": [
       "(7360,)"
      ]
     },
     "execution_count": 32,
     "metadata": {},
     "output_type": "execute_result"
    }
   ],
   "source": [
    "meta.loc[(meta['tmp'].str.len()>=2) & (meta['pangolin_lineage']=='B.1.1.7'), 'strain'].unique().shape"
   ]
  },
  {
   "cell_type": "code",
   "execution_count": 34,
   "metadata": {},
   "outputs": [
    {
     "data": {
      "text/plain": [
       "(7347,)"
      ]
     },
     "execution_count": 34,
     "metadata": {},
     "output_type": "execute_result"
    }
   ],
   "source": [
    "meta.loc[(meta['tmp'].str.len()==3) & (meta['pangolin_lineage']=='B.1.1.7'), 'strain'].unique().shape"
   ]
  },
  {
   "cell_type": "code",
   "execution_count": 37,
   "metadata": {},
   "outputs": [
    {
     "data": {
      "text/plain": [
       "(202162,)"
      ]
     },
     "execution_count": 37,
     "metadata": {},
     "output_type": "execute_result"
    }
   ],
   "source": [
    "gisaid_subs_long['strain'].unique().shape"
   ]
  },
  {
   "cell_type": "code",
   "execution_count": 28,
   "metadata": {},
   "outputs": [
    {
     "data": {
      "text/plain": [
       "(319385,)"
      ]
     },
     "execution_count": 28,
     "metadata": {},
     "output_type": "execute_result"
    }
   ],
   "source": [
    "meta['tmp'] = meta['date'].str.split('-')\n",
    "meta[(meta['tmp'].str.len()>=2)]['strain'].unique().shape"
   ]
  },
  {
   "cell_type": "code",
   "execution_count": 20,
   "metadata": {},
   "outputs": [
    {
     "data": {
      "text/plain": [
       "(202162,)"
      ]
     },
     "execution_count": 20,
     "metadata": {},
     "output_type": "execute_result"
    }
   ],
   "source": [
    "gisaid_data['idx'].unique().shape"
   ]
  },
  {
   "cell_type": "code",
   "execution_count": 20,
   "metadata": {},
   "outputs": [],
   "source": [
    "# gisaid_data['pangolin_lineage'].unique()"
   ]
  },
  {
   "cell_type": "code",
   "execution_count": 7,
   "metadata": {},
   "outputs": [],
   "source": [
    "feature = 'pangolin_lineage'\n",
    "values = ['B.1.1.7']\n",
    "meta_fp = Path('/home/al/code/HCoV-19-Genomics/metadata.csv')\n",
    "tree_fp = Path('/home/al/analysis/alab_mutations_01-01-2021/alab/seqs_aligned.fa.treefile')\n",
    "subs_fp = '/home/al/analysis/alab_mutations_01-01-2021/alab_substitutions_long_01-01-2021.csv'\n",
    "country_fp = '/home/al/data/geojsons/countries.geo.json'\n",
    "states_fp = \"/home/al/data/geojsons/us-states.json\"\n",
    "patient_zero = 'NC_045512.2'\n",
    "gisaid_data = gisaid_subs_long[gisaid_subs_long['host']=='Human']"
   ]
  },
  {
   "cell_type": "code",
   "execution_count": 8,
   "metadata": {},
   "outputs": [
    {
     "name": "stderr",
     "output_type": "stream",
     "text": [
      "/home/al/anaconda3/envs/covid/lib/python3.8/site-packages/IPython/core/interactiveshell.py:3343: DtypeWarning:\n",
      "\n",
      "Columns (11) have mixed types.Specify dtype option on import or set low_memory=False.\n",
      "\n"
     ]
    }
   ],
   "source": [
    "fd, gdp, aadp, saadp, wmap, smap = br.generate_voc_data(feature, values, gisaid_data, tree_fp, \n",
    "                                                        subs_fp, meta_fp, states_fp, \n",
    "                                                        patient_zero)"
   ]
  },
  {
   "cell_type": "code",
   "execution_count": 13,
   "metadata": {},
   "outputs": [],
   "source": [
    "html = generate_voc_html(feature, values, fd, wmap, smap, gdp, aadp, saadp)\n",
    "br.save_html(html, 'voc_test6_b117.html')"
   ]
  },
  {
   "cell_type": "code",
   "execution_count": 180,
   "metadata": {},
   "outputs": [
    {
     "data": {
      "text/plain": [
       "Timestamp('2020-01-01 00:00:00')"
      ]
     },
     "execution_count": 180,
     "metadata": {},
     "output_type": "execute_result"
    }
   ],
   "source": [
    "gisaid[gisaid['pangolin_lineage']=='B.1.1.7']['date'].min()"
   ]
  },
  {
   "cell_type": "code",
   "execution_count": 165,
   "metadata": {},
   "outputs": [],
   "source": [
    "def generate_html(feature, values, first_detected, world_map, state_map, genetic_distance_plot,\n",
    "                  aa_distance_plot, s_aa_distance_plot):\n",
    "    # express plots in html and JS\n",
    "    world_map = plotly.offline.plot(world_map, include_plotlyjs=False, output_type='div')\n",
    "    state_map = plotly.offline.plot(state_map, include_plotlyjs=False, output_type='div')\n",
    "#     county_map = plotly.offline.plot(county_map, include_plotlyjs=False, output_type='div')\n",
    "    genetic_distance_plot = plotly.offline.plot(genetic_distance_plot, include_plotlyjs=False, output_type='div')\n",
    "    aa_distance_plot = plotly.offline.plot(aa_distance_plot, include_plotlyjs=False, output_type='div')\n",
    "    s_aa_distance_plot = plotly.offline.plot(s_aa_distance_plot, include_plotlyjs=False, output_type='div')\n",
    "    # generate output messages\n",
    "    #TODO: expt_name, first_detected\n",
    "    # dir containing our template\n",
    "    file_loader = FileSystemLoader('templates')\n",
    "    # load the environment\n",
    "    env = Environment(loader=file_loader)\n",
    "    # load the template\n",
    "    template = env.get_template('voc.html')\n",
    "    # render data in our template format\n",
    "    html_output = template.render(feature=feature, values=values,\n",
    "                                  world_map=world_map, state_map=state_map, \n",
    "                                  genetic_distance_plot=genetic_distance_plot, \n",
    "                                  aa_distance_plot=aa_distance_plot, s_aa_distance_plot=s_aa_distance_plot,\n",
    "                                  first_detected=first_detected)\n",
    "    return html_output\n",
    "\n",
    "\n",
    "def save_html(html_output: str, filename: str):\n",
    "    with open(filename, 'w') as f:\n",
    "        f.write(html_output)"
   ]
  },
  {
   "cell_type": "code",
   "execution_count": 166,
   "metadata": {},
   "outputs": [],
   "source": [
    "def generate_data(feature, values, gisaid_data, tree_fp, subs_fp,\n",
    "                  meta_fp, states_fp, patient_zero):\n",
    "    genetic_distance_plot = genetic_distance(tree_fp, meta_fp, patient_zero)\n",
    "    aa_distance_plot = aa_distance(subs_fp, meta_fp)\n",
    "    s_aa_distance_plot = s_aa_distance(subs_fp, meta_fp)\n",
    "    state_map, _, _ = map_by_state(gisaid_data, feature, values, states_fp)\n",
    "    world_map, _, _ = map_by_country(gisaid_data, feature, values)\n",
    "    r = gisaid.loc[gisaid[feature].isin(values)]\n",
    "    date = r['date_submitted'].min()\n",
    "    state = r[r['date_submitted']==date]['division'].unique()\n",
    "    cntry = r[r['date_submitted']==date]['country'].unique()\n",
    "    first_detected = f\"The {values} {feature} was first detected on {date} in {state}, {cntry}\"\n",
    "    return first_detected, genetic_distance_plot, aa_distance_plot, s_aa_distance_plot, world_map, state_map"
   ]
  },
  {
   "cell_type": "code",
   "execution_count": 137,
   "metadata": {},
   "outputs": [
    {
     "data": {
      "text/plain": [
       "Index(['idx', 'sequence', 'replacements', 'pos', 'gene', 'codon_num',\n",
       "       'ref_codon', 'alt_codon', 'ref_aa', 'alt_aa', 'ID', 'gb_accession',\n",
       "       'gisaid_accession', 'collection_date', 'location',\n",
       "       'percent_coverage_cds', 'avg_depth', 'authors', 'originating_lab',\n",
       "       'fasta_hdr', 'date', 'nonsyn', 'S_nonsyn'],\n",
       "      dtype='object')"
      ]
     },
     "execution_count": 137,
     "metadata": {},
     "output_type": "execute_result"
    }
   ],
   "source": [
    "alab_subs.columns"
   ]
  },
  {
   "cell_type": "code",
   "execution_count": null,
   "metadata": {},
   "outputs": [],
   "source": [
    "alab_subs = pd.read_csv('/home/al/analysis/alab_mutations_01-01-2021/alab_substitutions_long_01-01-2021.csv')"
   ]
  },
  {
   "cell_type": "code",
   "execution_count": 141,
   "metadata": {},
   "outputs": [],
   "source": [
    "alab_subs['nonsyn'] = False\n",
    "alab_subs.loc[alab_subs['ref_aa']!=alab_subs['alt_aa'], 'nonsyn'] = True\n",
    "alab_subs['S_nonsyn'] = False\n",
    "alab_subs.loc[(alab_subs['gene']=='S') & (alab_subs['ref_aa']!=alab_subs['alt_aa']), 'S_nonsyn'] = True"
   ]
  },
  {
   "cell_type": "code",
   "execution_count": 143,
   "metadata": {},
   "outputs": [
    {
     "data": {
      "text/html": [
       "<div>\n",
       "<style scoped>\n",
       "    .dataframe tbody tr th:only-of-type {\n",
       "        vertical-align: middle;\n",
       "    }\n",
       "\n",
       "    .dataframe tbody tr th {\n",
       "        vertical-align: top;\n",
       "    }\n",
       "\n",
       "    .dataframe thead th {\n",
       "        text-align: right;\n",
       "    }\n",
       "</style>\n",
       "<table border=\"1\" class=\"dataframe\">\n",
       "  <thead>\n",
       "    <tr style=\"text-align: right;\">\n",
       "      <th></th>\n",
       "      <th>idx</th>\n",
       "      <th>num_nonsyn_muts</th>\n",
       "      <th>num_S_nonsyn_muts</th>\n",
       "    </tr>\n",
       "  </thead>\n",
       "  <tbody>\n",
       "    <tr>\n",
       "      <th>0</th>\n",
       "      <td>Consensus_MG0987</td>\n",
       "      <td>4.0</td>\n",
       "      <td>1.0</td>\n",
       "    </tr>\n",
       "    <tr>\n",
       "      <th>1</th>\n",
       "      <td>Consensus_PC00101P_threshold_0_quality_20</td>\n",
       "      <td>2.0</td>\n",
       "      <td>1.0</td>\n",
       "    </tr>\n",
       "    <tr>\n",
       "      <th>2</th>\n",
       "      <td>Consensus_SEARCH-0007-SAN_L1_threshold_0_quali...</td>\n",
       "      <td>6.0</td>\n",
       "      <td>1.0</td>\n",
       "    </tr>\n",
       "    <tr>\n",
       "      <th>3</th>\n",
       "      <td>Consensus_SEARCH-0016-SAN_L1_threshold_0_quali...</td>\n",
       "      <td>2.0</td>\n",
       "      <td>0.0</td>\n",
       "    </tr>\n",
       "    <tr>\n",
       "      <th>4</th>\n",
       "      <td>Consensus_SEARCH-0017-SAN_L1_threshold_0_quali...</td>\n",
       "      <td>6.0</td>\n",
       "      <td>1.0</td>\n",
       "    </tr>\n",
       "    <tr>\n",
       "      <th>...</th>\n",
       "      <td>...</td>\n",
       "      <td>...</td>\n",
       "      <td>...</td>\n",
       "    </tr>\n",
       "    <tr>\n",
       "      <th>3437</th>\n",
       "      <td>hCoV-19/USA/SEARCH-5566-SAN/2020</td>\n",
       "      <td>13.0</td>\n",
       "      <td>1.0</td>\n",
       "    </tr>\n",
       "    <tr>\n",
       "      <th>3438</th>\n",
       "      <td>hCoV-19/USA/SEARCH-5567-SAN/2020</td>\n",
       "      <td>12.0</td>\n",
       "      <td>2.0</td>\n",
       "    </tr>\n",
       "    <tr>\n",
       "      <th>3439</th>\n",
       "      <td>hCoV-19/USA/SEARCH-5570-SAN/2020</td>\n",
       "      <td>14.0</td>\n",
       "      <td>1.0</td>\n",
       "    </tr>\n",
       "    <tr>\n",
       "      <th>3440</th>\n",
       "      <td>hCoV-19/USA/SEARCH-5573-SAN/2020</td>\n",
       "      <td>10.0</td>\n",
       "      <td>3.0</td>\n",
       "    </tr>\n",
       "    <tr>\n",
       "      <th>3441</th>\n",
       "      <td>hCoV-19/USA/SEARCH-5574-SAN/2020</td>\n",
       "      <td>28.0</td>\n",
       "      <td>7.0</td>\n",
       "    </tr>\n",
       "  </tbody>\n",
       "</table>\n",
       "<p>3442 rows × 3 columns</p>\n",
       "</div>"
      ],
      "text/plain": [
       "                                                    idx  num_nonsyn_muts  \\\n",
       "0                                      Consensus_MG0987              4.0   \n",
       "1             Consensus_PC00101P_threshold_0_quality_20              2.0   \n",
       "2     Consensus_SEARCH-0007-SAN_L1_threshold_0_quali...              6.0   \n",
       "3     Consensus_SEARCH-0016-SAN_L1_threshold_0_quali...              2.0   \n",
       "4     Consensus_SEARCH-0017-SAN_L1_threshold_0_quali...              6.0   \n",
       "...                                                 ...              ...   \n",
       "3437                   hCoV-19/USA/SEARCH-5566-SAN/2020             13.0   \n",
       "3438                   hCoV-19/USA/SEARCH-5567-SAN/2020             12.0   \n",
       "3439                   hCoV-19/USA/SEARCH-5570-SAN/2020             14.0   \n",
       "3440                   hCoV-19/USA/SEARCH-5573-SAN/2020             10.0   \n",
       "3441                   hCoV-19/USA/SEARCH-5574-SAN/2020             28.0   \n",
       "\n",
       "      num_S_nonsyn_muts  \n",
       "0                   1.0  \n",
       "1                   1.0  \n",
       "2                   1.0  \n",
       "3                   0.0  \n",
       "4                   1.0  \n",
       "...                 ...  \n",
       "3437                1.0  \n",
       "3438                2.0  \n",
       "3439                1.0  \n",
       "3440                3.0  \n",
       "3441                7.0  \n",
       "\n",
       "[3442 rows x 3 columns]"
      ]
     },
     "execution_count": 143,
     "metadata": {},
     "output_type": "execute_result"
    }
   ],
   "source": [
    "alab_subs.groupby('idx').agg(num_nonsyn_muts=('nonsyn', 'sum'), num_S_nonsyn_muts=('S_nonsyn', 'sum')).reset_index()"
   ]
  },
  {
   "cell_type": "code",
   "execution_count": 153,
   "metadata": {},
   "outputs": [],
   "source": [
    "def aa_distance(subs_fp, meta_fp, alpha=0.05):\n",
    "    alab_subs = pd.read_csv(subs_fp)\n",
    "    alab_subs['nonsyn'] = False\n",
    "    alab_subs.loc[alab_subs['ref_aa']!=alab_subs['alt_aa'], 'nonsyn'] = True\n",
    "    alab_subs['S_nonsyn'] = False\n",
    "    alab_subs.loc[(alab_subs['gene']=='S') & (alab_subs['ref_aa']!=alab_subs['alt_aa']), 'S_nonsyn'] = True\n",
    "    dists_df = (alab_subs.groupby('fasta_hdr')\n",
    "                .agg(num_nonsyn_muts=('nonsyn', 'sum'), num_S_nonsyn_muts=('S_nonsyn', 'sum'))\n",
    "                .reset_index())\n",
    "    meta = pd.read_csv(meta_fp)\n",
    "    sd_meta = meta[meta['location'].str.contains('San Diego')]\n",
    "    df = pd.merge(dists_df, sd_meta, on='fasta_hdr')\n",
    "    df['date'] = pd.to_datetime(df['collection_date'], errors='coerce')\n",
    "    df['month'] = df['date'].dt.month\n",
    "    df['doy'] = df['date'].dt.dayofyear\n",
    "    df = df.loc[~df['doy'].isna()]\n",
    "    model = ols('num_nonsyn_muts ~ doy', data=df).fit()\n",
    "    df['predict'] = model.predict(df['doy'])\n",
    "    df['p'] = model.outlier_test(method='fdr_bh')['fdr_bh(p)']\n",
    "    df['outlier'] = False\n",
    "    df.loc[df['p']<alpha, 'outlier'] = True\n",
    "    fig = go.Figure(data=go.Scatter(y=df[df['outlier']==False]['num_nonsyn_muts'], x=df[df['outlier']==False]['doy'], \n",
    "                                name='samples', mode='markers', marker_color='rgba(30,144,255,.6)'))\n",
    "    fig.add_trace(go.Scatter(y=df[df['outlier']==True]['num_nonsyn_muts'], x=df[df['outlier']==True]['doy'],\n",
    "                             mode='markers', marker_color='rgba(220,20,60,.6)', name='SoIs',\n",
    "                 text=df[df['outlier']==True][['ID', 'date']],\n",
    "                 hovertemplate = \n",
    "                 \"<b>%{text[0]}</b><br>\" +\n",
    "                 \"<b>%{text[1]}</b><br>\"))\n",
    "    fig.add_trace(go.Scatter(y=df['predict'], x=df['doy'], name='OLS', mode='lines', line_color='rgba(0,0,0,1.)'))\n",
    "    fig.update_layout(yaxis_title='Amino Acid Changes (root-to-tip)', xaxis_title='Collection Date',\n",
    "                      template='plotly_white', autosize=True)#, height=850, width=800)\n",
    "    return fig"
   ]
  },
  {
   "cell_type": "code",
   "execution_count": 149,
   "metadata": {},
   "outputs": [
    {
     "data": {
      "text/plain": [
       "Path('/home/al/code/HCoV-19-Genomics/metadata.csv')"
      ]
     },
     "execution_count": 149,
     "metadata": {},
     "output_type": "execute_result"
    }
   ],
   "source": [
    "meta_fp"
   ]
  },
  {
   "cell_type": "code",
   "execution_count": 21,
   "metadata": {},
   "outputs": [],
   "source": [
    "# fig = aa_distance(subs_fp, meta_fp)\n",
    "# fig.show()"
   ]
  },
  {
   "cell_type": "code",
   "execution_count": 22,
   "metadata": {},
   "outputs": [],
   "source": [
    "def s_aa_distance(subs_fp, meta_fp, alpha=0.05):\n",
    "    alab_subs = pd.read_csv(subs_fp)\n",
    "    alab_subs['nonsyn'] = False\n",
    "    alab_subs.loc[alab_subs['ref_aa']!=alab_subs['alt_aa'], 'nonsyn'] = True\n",
    "    alab_subs['S_nonsyn'] = False\n",
    "    alab_subs.loc[(alab_subs['gene']=='S') & (alab_subs['ref_aa']!=alab_subs['alt_aa']), 'S_nonsyn'] = True\n",
    "    dists_df = (alab_subs.groupby('fasta_hdr')\n",
    "                .agg(num_nonsyn_muts=('nonsyn', 'sum'), num_S_nonsyn_muts=('S_nonsyn', 'sum'))\n",
    "                .reset_index())\n",
    "    meta = pd.read_csv(meta_fp)\n",
    "    sd_meta = meta[meta['location'].str.contains('San Diego')]\n",
    "    df = pd.merge(dists_df, sd_meta, on='fasta_hdr')\n",
    "    df['date'] = pd.to_datetime(df['collection_date'], errors='coerce')\n",
    "    df['month'] = df['date'].dt.month\n",
    "    df['doy'] = df['date'].dt.dayofyear\n",
    "    df = df.loc[~df['doy'].isna()]\n",
    "    model = ols('num_S_nonsyn_muts ~ doy', data=df).fit()\n",
    "    df['predict'] = model.predict(df['doy'])\n",
    "    df['p'] = model.outlier_test(method='fdr_bh')['fdr_bh(p)']\n",
    "    df['outlier'] = False\n",
    "    df.loc[df['p']<alpha, 'outlier'] = True\n",
    "    fig = go.Figure(data=go.Scatter(y=df[df['outlier']==False]['num_S_nonsyn_muts'], x=df[df['outlier']==False]['doy'], \n",
    "                                name='samples', mode='markers', marker_color='rgba(30,144,255,.6)'))\n",
    "    fig.add_trace(go.Scatter(y=df[df['outlier']==True]['num_S_nonsyn_muts'], x=df[df['outlier']==True]['doy'],\n",
    "                             mode='markers', marker_color='rgba(220,20,60,.6)', name='SoIs',\n",
    "                 text=df[df['outlier']==True][['ID', 'date']],\n",
    "                 hovertemplate = \n",
    "                 \"<b>%{text[0]}</b><br>\" +\n",
    "                 \"<b>%{text[1]}</b><br>\"))\n",
    "    fig.add_trace(go.Scatter(y=df['predict'], x=df['doy'], name='OLS', mode='lines', line_color='rgba(0,0,0,1.)'))\n",
    "    fig.update_layout(yaxis_title='Amino Acid Changes in the S protein(root-to-tip)', xaxis_title='Collection Date',\n",
    "                      template='plotly_white', autosize=True)#, height=850, width=800)\n",
    "    return fig\n",
    "\n",
    "# fig = s_aa_distance(subs_fp, meta_fp)\n",
    "# fig.show()"
   ]
  },
  {
   "cell_type": "code",
   "execution_count": 39,
   "metadata": {},
   "outputs": [],
   "source": [
    "def genetic_distance(tree_fp, meta_fp, patient_zero, alpha=0.05):\n",
    "    tree = bv.load_tree(tree_fp, patient_zero)\n",
    "    dists = {n.name: tree.distance(n.name, patient_zero) for n in tree.get_terminals()}\n",
    "    dists_df = (pd.DataFrame(index=dists.keys(), data=dists.values(), \n",
    "                      columns=['genetic_distance'])\n",
    "         .reset_index()\n",
    "         .rename(columns={'index': 'fasta_hdr'}))\n",
    "    meta = pd.read_csv(meta_fp)\n",
    "    sd_meta = meta[meta['location'].str.contains('San Diego')]\n",
    "    df = pd.merge(dists_df, sd_meta, on='fasta_hdr')\n",
    "    df['date'] = pd.to_datetime(df['collection_date'], errors='coerce')\n",
    "    df['month'] = df['date'].dt.month\n",
    "    df['doy'] = df['date'].dt.dayofyear\n",
    "    df = df.loc[~df['doy'].isna()]\n",
    "    model = ols('genetic_distance ~ doy', data=df).fit()\n",
    "    df['predict'] = model.predict(df['doy'])\n",
    "    df['p'] = model.outlier_test(method='fdr_bh')['fdr_bh(p)']\n",
    "    df['outlier'] = False\n",
    "    df.loc[df['p']<alpha, 'outlier'] = True\n",
    "    fig = go.Figure(data=go.Scatter(y=df[df['outlier']==False]['genetic_distance'], x=df[df['outlier']==False]['doy'], \n",
    "                                name='samples', mode='markers', marker_color='rgba(30,144,255,.6)'))\n",
    "    fig.add_trace(go.Scatter(y=df[df['outlier']==True]['genetic_distance'], x=df[df['outlier']==True]['doy'],\n",
    "                             mode='markers', marker_color='rgba(220,20,60,.6)', name='SoIs',\n",
    "                 text=df[df['outlier']==True][['ID', 'date']],\n",
    "                 hovertemplate = \n",
    "                 \"<b>%{text[0]}</b><br>\" +\n",
    "                 \"<b>%{text[1]}</b><br>\"))\n",
    "    fig.add_trace(go.Scatter(y=df['predict'], x=df['doy'], name='OLS', mode='lines', line_color='rgba(0,0,0,1.)'))\n",
    "    fig.update_layout(yaxis_title='Genetic Distance (root-to-tip)', xaxis_title='Collection Date',\n",
    "                      template='plotly_white', autosize=True)#, height=850, width=800)\n",
    "    return fig"
   ]
  },
  {
   "cell_type": "code",
   "execution_count": 23,
   "metadata": {},
   "outputs": [],
   "source": [
    "def map_by_state(data: pd.DataFrame, feature: str, values: list, states_fp: str):\n",
    "    with open(states_fp) as f:\n",
    "        states = json.load(f)\n",
    "    state_map = {x['properties']['name']: x['id'] for x in states['features']}\n",
    "    results = data.loc[(data[feature].isin(values)) & (data['country']=='United States of America')]\n",
    "    results_by_state = results.groupby('division').agg(num_samples=('idx', 'nunique')).reset_index()\n",
    "    results_by_state['id'] = results_by_state['division'].apply(lambda x: state_map.get(x, 'unk'))\n",
    "#     fig = px.choropleth(results_by_state, geojson=states, scope=\"usa\",\n",
    "#                                locations='id', color='num_samples',# locationmode='USA-states',\n",
    "#                                color_continuous_scale=\"bluered\",\n",
    "#                                range_color=(0, results_by_state['num_samples'].max()),\n",
    "# #                                labels={'num_samples': f'Number of samples with {values}: ', 'division': 'loc:'},\n",
    "#                                hover_data=['division', 'num_samples']\n",
    "#                               )\n",
    "    fig = px.choropleth_mapbox(results_by_state, geojson=states, \n",
    "                               locations='id', color='num_samples',\n",
    "                               color_continuous_scale=\"bluered\", center={\"lat\": 37.0902, \"lon\": -95.7129},\n",
    "                               range_color=(0, results_by_state['num_samples'].max()),\n",
    "                               mapbox_style=\"carto-positron\", zoom=3,\n",
    "                               opacity=0.5,\n",
    "                               hover_data=['division', 'num_samples']\n",
    "                               #labels={'num_samples':f'Number of samples with {values}', 'division': f'location:'}\n",
    "                              )\n",
    "    fig.update_layout(margin={\"r\":0,\"t\":0,\"l\":0,\"b\":0})\n",
    "    return fig, state_map, results_by_state\n",
    "# states_fp = \"/home/al/code/MappingAPI/data/geojson/us-states.json\"\n",
    "# fig, mapp, df = map_by_state(gisaid, 'mutation', ['S:501Y'], states_fp)\n",
    "# fig.show()"
   ]
  },
  {
   "cell_type": "code",
   "execution_count": 24,
   "metadata": {},
   "outputs": [],
   "source": [
    "def map_by_country(data: pd.DataFrame, feature: str, values: list):\n",
    "    with urlopen('https://raw.githubusercontent.com/johan/world.geo.json/master/countries.geo.json') as response:\n",
    "        countries = json.load(response)\n",
    "    for c in countries['features']:\n",
    "        if c['id']=='USA':\n",
    "            assert c['properties']['name'] == 'United States of America'\n",
    "    country_map = {x['properties']['name']: x['id'] for x in countries['features']}\n",
    "    results = data.loc[data[feature].isin(values)]\n",
    "    results_by_cntry = results.groupby('country').agg(num_samples=('idx', 'nunique')).reset_index()\n",
    "    results_by_cntry['id'] = results_by_cntry['country'].apply(lambda x: country_map.get(x, 'unk'))\n",
    "    fig = px.choropleth_mapbox(results_by_cntry, geojson=countries, \n",
    "                               locations='id', color='num_samples',\n",
    "                               color_continuous_scale=\"bluered\",\n",
    "                               range_color=(0, results_by_cntry['num_samples'].max()),\n",
    "                               mapbox_style=\"carto-positron\", zoom=1,\n",
    "                               opacity=0.5,\n",
    "                               labels={'num_samples':f'Number of samples with {values}', 'id': f'location:'}\n",
    "                              )\n",
    "    fig.update_layout(margin={\"r\":0,\"t\":0,\"l\":0,\"b\":0})\n",
    "    return fig, country_map, results_by_cntry\n",
    "\n",
    "# fig, mapp, df = map_by_country(gisaid, 'mutation', ['S:501Y'])\n",
    "# fig.show()"
   ]
  },
  {
   "cell_type": "code",
   "execution_count": 2,
   "metadata": {},
   "outputs": [],
   "source": [
    "meta_fp = Path('/home/al/code/HCoV-19-Genomics/metadata.csv')\n",
    "tree_fp = Path('/home/al/analysis/alab_mutations_01-01-2021/alab/seqs_aligned.fa.treefile')\n",
    "patient_zero = 'NC_045512.2'\n",
    "tree = bv.load_tree(tree_fp, patient_zero)"
   ]
  },
  {
   "cell_type": "code",
   "execution_count": 3,
   "metadata": {},
   "outputs": [],
   "source": [
    "dists = {n.name: tree.distance(n.name, patient_zero) for n in tree.get_terminals()}"
   ]
  },
  {
   "cell_type": "code",
   "execution_count": 4,
   "metadata": {},
   "outputs": [
    {
     "data": {
      "text/html": [
       "<div>\n",
       "<style scoped>\n",
       "    .dataframe tbody tr th:only-of-type {\n",
       "        vertical-align: middle;\n",
       "    }\n",
       "\n",
       "    .dataframe tbody tr th {\n",
       "        vertical-align: top;\n",
       "    }\n",
       "\n",
       "    .dataframe thead th {\n",
       "        text-align: right;\n",
       "    }\n",
       "</style>\n",
       "<table border=\"1\" class=\"dataframe\">\n",
       "  <thead>\n",
       "    <tr style=\"text-align: right;\">\n",
       "      <th></th>\n",
       "      <th>fasta_hdr</th>\n",
       "      <th>genetic_distance</th>\n",
       "    </tr>\n",
       "  </thead>\n",
       "  <tbody>\n",
       "    <tr>\n",
       "      <th>0</th>\n",
       "      <td>Consensus_MG0987</td>\n",
       "      <td>0.000204</td>\n",
       "    </tr>\n",
       "    <tr>\n",
       "      <th>1</th>\n",
       "      <td>Consensus_SEARCH-0007-SAN_L1_threshold_0_quali...</td>\n",
       "      <td>0.000335</td>\n",
       "    </tr>\n",
       "    <tr>\n",
       "      <th>2</th>\n",
       "      <td>hCoV-19/USA/SEARCH-0438-SAN/2020</td>\n",
       "      <td>0.000303</td>\n",
       "    </tr>\n",
       "    <tr>\n",
       "      <th>3</th>\n",
       "      <td>hCoV-19/USA/ALSR-1460/2020</td>\n",
       "      <td>0.000236</td>\n",
       "    </tr>\n",
       "    <tr>\n",
       "      <th>4</th>\n",
       "      <td>Consensus_SEARCH-0032-JOR_L1_L2_L3_L4_threshol...</td>\n",
       "      <td>0.000404</td>\n",
       "    </tr>\n",
       "  </tbody>\n",
       "</table>\n",
       "</div>"
      ],
      "text/plain": [
       "                                           fasta_hdr  genetic_distance\n",
       "0                                   Consensus_MG0987          0.000204\n",
       "1  Consensus_SEARCH-0007-SAN_L1_threshold_0_quali...          0.000335\n",
       "2                   hCoV-19/USA/SEARCH-0438-SAN/2020          0.000303\n",
       "3                         hCoV-19/USA/ALSR-1460/2020          0.000236\n",
       "4  Consensus_SEARCH-0032-JOR_L1_L2_L3_L4_threshol...          0.000404"
      ]
     },
     "execution_count": 4,
     "metadata": {},
     "output_type": "execute_result"
    }
   ],
   "source": [
    "dists_df = (pd.DataFrame(index=dists.keys(), data=dists.values(), \n",
    "                      columns=['genetic_distance'])\n",
    "         .reset_index()\n",
    "         .rename(columns={'index': 'fasta_hdr'}))\n",
    "dists_df.head()"
   ]
  },
  {
   "cell_type": "code",
   "execution_count": 5,
   "metadata": {},
   "outputs": [
    {
     "data": {
      "text/html": [
       "<div>\n",
       "<style scoped>\n",
       "    .dataframe tbody tr th:only-of-type {\n",
       "        vertical-align: middle;\n",
       "    }\n",
       "\n",
       "    .dataframe tbody tr th {\n",
       "        vertical-align: top;\n",
       "    }\n",
       "\n",
       "    .dataframe thead th {\n",
       "        text-align: right;\n",
       "    }\n",
       "</style>\n",
       "<table border=\"1\" class=\"dataframe\">\n",
       "  <thead>\n",
       "    <tr style=\"text-align: right;\">\n",
       "      <th></th>\n",
       "      <th>ID</th>\n",
       "      <th>gb_accession</th>\n",
       "      <th>gisaid_accession</th>\n",
       "      <th>collection_date</th>\n",
       "      <th>location</th>\n",
       "      <th>percent_coverage_cds</th>\n",
       "      <th>avg_depth</th>\n",
       "      <th>authors</th>\n",
       "      <th>originating_lab</th>\n",
       "      <th>fasta_hdr</th>\n",
       "    </tr>\n",
       "  </thead>\n",
       "  <tbody>\n",
       "    <tr>\n",
       "      <th>0</th>\n",
       "      <td>MG0987</td>\n",
       "      <td>MT598172</td>\n",
       "      <td>EPI_ISL_416457</td>\n",
       "      <td>2020-03-18</td>\n",
       "      <td>USA/California/San Diego</td>\n",
       "      <td>99.5954</td>\n",
       "      <td>2465.60</td>\n",
       "      <td>SEARCH Alliance San Diego</td>\n",
       "      <td>Andersen lab at Scripps Research</td>\n",
       "      <td>Consensus_MG0987</td>\n",
       "    </tr>\n",
       "    <tr>\n",
       "      <th>1</th>\n",
       "      <td>PC00101P</td>\n",
       "      <td>MT192765</td>\n",
       "      <td>EPI_ISL_414648</td>\n",
       "      <td>2020-03-11</td>\n",
       "      <td>USA/California/San Diego</td>\n",
       "      <td>99.7525</td>\n",
       "      <td>3516.14</td>\n",
       "      <td>SEARCH Alliance San Diego</td>\n",
       "      <td>Andersen lab at Scripps Research</td>\n",
       "      <td>Consensus_PC00101P_threshold_0_quality_20</td>\n",
       "    </tr>\n",
       "    <tr>\n",
       "      <th>2</th>\n",
       "      <td>SEARCH-0007-SAN</td>\n",
       "      <td>MT598171</td>\n",
       "      <td>EPI_ISL_429990</td>\n",
       "      <td>2020-03-21</td>\n",
       "      <td>USA/California/San Diego</td>\n",
       "      <td>100.0000</td>\n",
       "      <td>6215.17</td>\n",
       "      <td>SEARCH Alliance San Diego with Christina Clark...</td>\n",
       "      <td>Rady's Childrens Hospital</td>\n",
       "      <td>Consensus_SEARCH-0007-SAN_L1_threshold_0_quali...</td>\n",
       "    </tr>\n",
       "    <tr>\n",
       "      <th>3</th>\n",
       "      <td>SEARCH-0016-SAN</td>\n",
       "      <td>MT598173</td>\n",
       "      <td>EPI_ISL_430016</td>\n",
       "      <td>2020-03-24</td>\n",
       "      <td>USA/California/San Diego</td>\n",
       "      <td>100.0000</td>\n",
       "      <td>6440.67</td>\n",
       "      <td>SEARCH Alliance San Diego</td>\n",
       "      <td>Andersen lab at Scripps Research</td>\n",
       "      <td>Consensus_SEARCH-0016-SAN_L1_threshold_0_quali...</td>\n",
       "    </tr>\n",
       "    <tr>\n",
       "      <th>4</th>\n",
       "      <td>SEARCH-0017-SAN</td>\n",
       "      <td>MT598174</td>\n",
       "      <td>EPI_ISL_429991</td>\n",
       "      <td>2020-03-24</td>\n",
       "      <td>USA/California/San Diego</td>\n",
       "      <td>100.0000</td>\n",
       "      <td>4947.09</td>\n",
       "      <td>SEARCH Alliance San Diego</td>\n",
       "      <td>Andersen lab at Scripps Research</td>\n",
       "      <td>Consensus_SEARCH-0017-SAN_L1_threshold_0_quali...</td>\n",
       "    </tr>\n",
       "  </tbody>\n",
       "</table>\n",
       "</div>"
      ],
      "text/plain": [
       "                ID gb_accession gisaid_accession collection_date  \\\n",
       "0           MG0987     MT598172   EPI_ISL_416457      2020-03-18   \n",
       "1         PC00101P     MT192765   EPI_ISL_414648      2020-03-11   \n",
       "2  SEARCH-0007-SAN     MT598171   EPI_ISL_429990      2020-03-21   \n",
       "3  SEARCH-0016-SAN     MT598173   EPI_ISL_430016      2020-03-24   \n",
       "4  SEARCH-0017-SAN     MT598174   EPI_ISL_429991      2020-03-24   \n",
       "\n",
       "                   location  percent_coverage_cds  avg_depth  \\\n",
       "0  USA/California/San Diego               99.5954    2465.60   \n",
       "1  USA/California/San Diego               99.7525    3516.14   \n",
       "2  USA/California/San Diego              100.0000    6215.17   \n",
       "3  USA/California/San Diego              100.0000    6440.67   \n",
       "4  USA/California/San Diego              100.0000    4947.09   \n",
       "\n",
       "                                             authors  \\\n",
       "0                          SEARCH Alliance San Diego   \n",
       "1                          SEARCH Alliance San Diego   \n",
       "2  SEARCH Alliance San Diego with Christina Clark...   \n",
       "3                          SEARCH Alliance San Diego   \n",
       "4                          SEARCH Alliance San Diego   \n",
       "\n",
       "                    originating_lab  \\\n",
       "0  Andersen lab at Scripps Research   \n",
       "1  Andersen lab at Scripps Research   \n",
       "2         Rady's Childrens Hospital   \n",
       "3  Andersen lab at Scripps Research   \n",
       "4  Andersen lab at Scripps Research   \n",
       "\n",
       "                                           fasta_hdr  \n",
       "0                                   Consensus_MG0987  \n",
       "1          Consensus_PC00101P_threshold_0_quality_20  \n",
       "2  Consensus_SEARCH-0007-SAN_L1_threshold_0_quali...  \n",
       "3  Consensus_SEARCH-0016-SAN_L1_threshold_0_quali...  \n",
       "4  Consensus_SEARCH-0017-SAN_L1_threshold_0_quali...  "
      ]
     },
     "execution_count": 5,
     "metadata": {},
     "output_type": "execute_result"
    }
   ],
   "source": [
    "meta = pd.read_csv(meta_fp)\n",
    "meta.head()"
   ]
  },
  {
   "cell_type": "code",
   "execution_count": 6,
   "metadata": {},
   "outputs": [
    {
     "name": "stdout",
     "output_type": "stream",
     "text": [
      "(3447, 10)\n",
      "(2399, 10)\n"
     ]
    }
   ],
   "source": [
    "print(meta.shape)\n",
    "sd_meta = meta[meta['location'].str.contains('San Diego')]\n",
    "print(sd_meta.shape)"
   ]
  },
  {
   "cell_type": "code",
   "execution_count": 7,
   "metadata": {},
   "outputs": [
    {
     "name": "stdout",
     "output_type": "stream",
     "text": [
      "(3448, 2)\n",
      "(2398, 11)\n"
     ]
    }
   ],
   "source": [
    "print(dists_df.shape)\n",
    "df = pd.merge(dists_df, sd_meta, on='fasta_hdr')\n",
    "print(df.shape)"
   ]
  },
  {
   "cell_type": "code",
   "execution_count": 8,
   "metadata": {},
   "outputs": [],
   "source": [
    "df['date'] = pd.to_datetime(df['collection_date'], errors='coerce')"
   ]
  },
  {
   "cell_type": "code",
   "execution_count": 9,
   "metadata": {},
   "outputs": [],
   "source": [
    "df['month'] = df['date'].dt.month"
   ]
  },
  {
   "cell_type": "code",
   "execution_count": 10,
   "metadata": {},
   "outputs": [],
   "source": [
    "# df"
   ]
  },
  {
   "cell_type": "code",
   "execution_count": 11,
   "metadata": {},
   "outputs": [],
   "source": [
    "df['doy'] = df['date'].dt.dayofyear"
   ]
  },
  {
   "cell_type": "code",
   "execution_count": 12,
   "metadata": {},
   "outputs": [],
   "source": [
    "df = df.loc[~df['doy'].isna()]"
   ]
  },
  {
   "cell_type": "code",
   "execution_count": 13,
   "metadata": {},
   "outputs": [],
   "source": [
    "model = ols('genetic_distance ~ doy', data=df).fit()"
   ]
  },
  {
   "cell_type": "code",
   "execution_count": 14,
   "metadata": {},
   "outputs": [],
   "source": [
    "df['predict'] = model.predict(df['doy'])"
   ]
  },
  {
   "cell_type": "code",
   "execution_count": 15,
   "metadata": {},
   "outputs": [],
   "source": [
    "alpha = 0.05"
   ]
  },
  {
   "cell_type": "code",
   "execution_count": 16,
   "metadata": {},
   "outputs": [],
   "source": [
    "df['p'] = model.outlier_test(method='fdr_bh')['fdr_bh(p)']\n",
    "df['outlier'] = False\n",
    "df.loc[df['p']<alpha, 'outlier'] = True"
   ]
  },
  {
   "cell_type": "code",
   "execution_count": 25,
   "metadata": {},
   "outputs": [],
   "source": [
    "# fig = go.Figure(data=go.Scatter(y=df[df['outlier']==False]['genetic_distance'], x=df[df['outlier']==False]['doy'], \n",
    "#                                 name='samples', mode='markers', marker_color='rgba(30,144,255,.6)'))\n",
    "# fig.add_trace(go.Scatter(y=df[df['outlier']==True]['genetic_distance'], x=df[df['outlier']==True]['doy'],\n",
    "#                          mode='markers', marker_color='rgba(220,20,60,.6)', name='SoIs',\n",
    "#              text=df[df['outlier']==True][['ID', 'date']],\n",
    "#              hovertemplate = \n",
    "#              \"<b>%{text[0]}</b><br>\" +\n",
    "#              \"<b>%{text[1]}</b><br>\"))\n",
    "# fig.add_trace(go.Scatter(y=df['predict'], x=df['doy'], name='OLS', mode='lines', line_color='rgba(0,0,0,1.)'))\n",
    "# fig.update_layout(yaxis_title='Genetic Distance (root-to-tip)', xaxis_title='Collection Date',\n",
    "#                   template='plotly_white', autosize=True)#, height=850, width=800)\n",
    "# fig.show()"
   ]
  },
  {
   "cell_type": "markdown",
   "metadata": {},
   "source": [
    "Samples are designated as Sample of Interest (SoI) based on the Benjamini-Hochberg outlier test at a 5% significance level. "
   ]
  },
  {
   "cell_type": "code",
   "execution_count": 26,
   "metadata": {},
   "outputs": [],
   "source": [
    "# fig = go.Figure(go.Box(y=df['genetic_distance'], x=df['month'], text=df[['ID', 'date']],\n",
    "#             hovertemplate = \n",
    "#             \"<b>%{text[0]}</b><br>\" +\n",
    "#             \"<b>%{text[1]}</b><br>\"))\n",
    "# fig.update_layout(yaxis_title='Genetic Distance', xaxis_title='Collection Month',\n",
    "#                   template='plotly_white', autosize=False, height=850, width=800)\n",
    "# fig.show()"
   ]
  },
  {
   "cell_type": "markdown",
   "metadata": {},
   "source": [
    "# Strain Prevalence Maps"
   ]
  },
  {
   "cell_type": "markdown",
   "metadata": {},
   "source": [
    "## Country Level"
   ]
  },
  {
   "cell_type": "code",
   "execution_count": 19,
   "metadata": {},
   "outputs": [],
   "source": [
    "with urlopen('https://raw.githubusercontent.com/johan/world.geo.json/master/countries.geo.json') as response:\n",
    "    countries = json.load(response)\n",
    "for c in countries['features']:\n",
    "    if c['id']=='USA':\n",
    "        assert c['properties']['name'] == 'United States of America'"
   ]
  },
  {
   "cell_type": "code",
   "execution_count": 21,
   "metadata": {},
   "outputs": [
    {
     "name": "stdout",
     "output_type": "stream",
     "text": [
      "Identifying substitution-based mutations - long...\n",
      "Loading Alignment file at: /home/al/analysis/gisaid/sequences_2021-01-01_08-20_aligned.fa\n",
      "Initial cleaning...\n",
      "Identifying mutations...\n",
      "Mapping Genes to mutations...\n",
      "Compute codon numbers...\n",
      "Fetch reference codon...\n",
      "Fetch alternative codon...\n",
      "Map amino acids...\n",
      "Fuse with metadata...\n"
     ]
    },
    {
     "name": "stderr",
     "output_type": "stream",
     "text": [
      "/home/al/anaconda3/envs/covid/lib/python3.8/site-packages/IPython/core/interactiveshell.py:3263: DtypeWarning:\n",
      "\n",
      "Columns (8) have mixed types.Specify dtype option on import or set low_memory=False.\n",
      "\n"
     ]
    }
   ],
   "source": [
    "gisaid_seqs = Path('/home/al/analysis/gisaid/sequences_2021-01-01_08-20.fasta')\n",
    "gisaid_meta = Path('/home/al/analysis/gisaid/metadata_2021-01-01_08-12.tsv')\n",
    "gisaid_msa_fp = Path(gisaid_seqs.split('.')[0] + '_aligned.fa')\n",
    "print(\"Identifying substitution-based mutations - long...\")\n",
    "gisaid_subs_long, _ = bm.identify_replacements_per_sample(gisaid_msa_fp, gisaid_meta, bm.GENE2POS, data_src='gisaid')"
   ]
  },
  {
   "cell_type": "code",
   "execution_count": 22,
   "metadata": {},
   "outputs": [],
   "source": [
    "# gisaid = pd.read_csv('/home/al/analysis/alab_mutations_01-01-2021/gisaid_substitutions_long_01-01-2021.csv')"
   ]
  },
  {
   "cell_type": "code",
   "execution_count": 27,
   "metadata": {},
   "outputs": [],
   "source": [
    "gisaid = gisaid_subs_long\n",
    "gisaid['mutation'] = gisaid['gene'] + ':' + gisaid['codon_num'].astype(str) + gisaid['alt_aa']\n",
    "gisaid.loc[gisaid['country']=='USA', 'country'] = 'United States of America'"
   ]
  },
  {
   "cell_type": "code",
   "execution_count": 28,
   "metadata": {},
   "outputs": [],
   "source": [
    "country_map = {x['properties']['name']: x['id'] for x in countries['features']}"
   ]
  },
  {
   "cell_type": "code",
   "execution_count": 29,
   "metadata": {},
   "outputs": [
    {
     "data": {
      "text/plain": [
       "United Kingdom              4607\n",
       "Denmark                       33\n",
       "Portugal                      20\n",
       "Italy                         17\n",
       "Netherlands                    8\n",
       "Ireland                        7\n",
       "Singapore                      6\n",
       "Japan                          6\n",
       "Australia                      5\n",
       "Canada                         5\n",
       "Israel                         4\n",
       "India                          3\n",
       "South Korea                    3\n",
       "Brazil                         2\n",
       "Hong Kong                      2\n",
       "Finland                        2\n",
       "Germany                        2\n",
       "France                         2\n",
       "United States of America       2\n",
       "Norway                         2\n",
       "Switzerland                    1\n",
       "Spain                          1\n",
       "Sweden                         1\n",
       "Name: country, dtype: int64"
      ]
     },
     "execution_count": 29,
     "metadata": {},
     "output_type": "execute_result"
    }
   ],
   "source": [
    "gisaid.loc[gisaid['pangolin_lineage']=='B.1.1.7'].drop_duplicates(subset=['idx'])['country'].value_counts()"
   ]
  },
  {
   "cell_type": "code",
   "execution_count": 30,
   "metadata": {},
   "outputs": [
    {
     "data": {
      "text/plain": [
       "array(['CHN', 'USA', 'TWN', 'FRA', 'AUS', 'DEU', 'unk', 'GBR', 'JPN',\n",
       "       'KOR', 'BEL', 'VNM', 'NPL', 'ITA', 'KHM', 'SWE', 'BRA', 'CAN',\n",
       "       'FIN', 'MEX', 'CHE', 'NZL', 'IND', 'NGA', 'NLD', 'LUX', 'PRT',\n",
       "       'CZE', 'ESP', 'CHL', 'IRL', 'COD', 'PAN', 'GEO', 'DNK', 'RUS',\n",
       "       'PER', 'HUN', 'SAU', 'KWT', 'POL', 'LTU', 'MYS', 'ZAF', 'TUR',\n",
       "       'PAK', 'ISL', 'ECU', 'NOR', 'SVK', 'COL', 'SEN', 'DZA', 'GRC',\n",
       "       'ISR', 'AUT', 'LVA', 'BLR', 'EST', 'SVN', 'ARG', 'GHA', 'THA',\n",
       "       'IRN', 'URY', 'LKA', 'GMB', 'UKR', 'HRV', 'JOR', 'PHL', 'EGY',\n",
       "       'CRI', 'MMR', 'KAZ', 'ARE', 'IDN', 'BRN', 'BGD', 'ROU', 'LBN',\n",
       "       'JAM', 'UGA', 'MAR', 'OMN', 'KEN', 'TUN', 'BIH', 'CYP', 'MNG',\n",
       "       'VEN', 'BEN', 'BGR', 'MLI', 'MDG', 'GTM', 'BLZ', 'ZMB', 'SLE',\n",
       "       'CMR', 'CUB', 'MNE', 'MDA', 'SUR', 'DOM', 'GAB', 'CS-KM', 'BWA',\n",
       "       'MLT', 'COG', 'IRQ', 'RWA', 'MOZ', 'ZWE', 'GNQ', 'BFA', 'SLV',\n",
       "       'ARM', 'PNG'], dtype=object)"
      ]
     },
     "execution_count": 30,
     "metadata": {},
     "output_type": "execute_result"
    }
   ],
   "source": [
    "gisaid['id'] = gisaid['country'].apply(lambda x: country_map.get(x, 'unk'))\n",
    "gisaid['id'].unique()"
   ]
  },
  {
   "cell_type": "code",
   "execution_count": 31,
   "metadata": {},
   "outputs": [],
   "source": [
    "# gisaid.loc[(gisaid['pangolin_lineage']=='B.1.1.7') & (gisaid['country']=='Jordan')]"
   ]
  },
  {
   "cell_type": "code",
   "execution_count": 27,
   "metadata": {},
   "outputs": [],
   "source": [
    "def map_by_country(data: pd.DataFrame, feature: str, values: list, countries_geojson):\n",
    "    country_map = {x['properties']['name']: x['id'] for x in countries['features']}\n",
    "    results = data.loc[data[feature].isin(values)]\n",
    "    results_by_cntry = results.groupby('country').agg(num_samples=('idx', 'nunique')).reset_index()\n",
    "    results_by_cntry['id'] = results_by_cntry['country'].apply(lambda x: country_map.get(x, 'unk'))\n",
    "    fig = px.choropleth_mapbox(results_by_cntry, geojson=countries_geojson, \n",
    "                               locations='id', color='num_samples',\n",
    "                               color_continuous_scale=\"bluered\",\n",
    "                               range_color=(0, results_by_cntry['num_samples'].max()),\n",
    "                               mapbox_style=\"carto-positron\", zoom=1,\n",
    "                               opacity=0.5,\n",
    "                               labels={'num_samples':f'Number of samples with {values}', 'id': f'location:'}\n",
    "                              )\n",
    "    fig.update_layout(margin={\"r\":0,\"t\":0,\"l\":0,\"b\":0})\n",
    "    return fig, country_map, results_by_cntry\n",
    "\n",
    "# fig, mapp, df = map_by_country(gisaid, 'mutation', ['S:501Y'], countries)\n",
    "# fig.show()"
   ]
  },
  {
   "cell_type": "code",
   "execution_count": 27,
   "metadata": {},
   "outputs": [],
   "source": [
    "with open(states_fp) as f:\n",
    "    states = json.load(f)"
   ]
  },
  {
   "cell_type": "code",
   "execution_count": 28,
   "metadata": {},
   "outputs": [],
   "source": [
    "# states['features'][0]\n",
    "# states"
   ]
  },
  {
   "cell_type": "code",
   "execution_count": 29,
   "metadata": {},
   "outputs": [],
   "source": [
    "state_map = {x['properties']['name']: x['id'] for x in states['features']}"
   ]
  },
  {
   "cell_type": "code",
   "execution_count": 30,
   "metadata": {},
   "outputs": [],
   "source": [
    "# state_map"
   ]
  },
  {
   "cell_type": "code",
   "execution_count": 31,
   "metadata": {},
   "outputs": [],
   "source": [
    "# gisaid['division']"
   ]
  },
  {
   "cell_type": "code",
   "execution_count": 32,
   "metadata": {},
   "outputs": [
    {
     "data": {
      "text/plain": [
       "array(['unk', '53', '06', '04', '55', '25', '17', '48', '36', '27', '49',\n",
       "       '09', '41', '51', '44', '13', '12', '02', '33', '56', '18', '34',\n",
       "       '39', '19', '16', '37', '45', '20', '22', '24', '29', '31', '32',\n",
       "       '42', '26', '08', '15', '72', '30', '50', '01', '05', '35', '47',\n",
       "       '21', '40', '28', '46', '23', '54', '10'], dtype=object)"
      ]
     },
     "execution_count": 32,
     "metadata": {},
     "output_type": "execute_result"
    }
   ],
   "source": [
    "gisaid['id'] = gisaid['division'].apply(lambda x: state_map.get(x, 'unk'))\n",
    "gisaid['id'].unique()"
   ]
  },
  {
   "cell_type": "code",
   "execution_count": 33,
   "metadata": {},
   "outputs": [
    {
     "data": {
      "text/plain": [
       "0     unk\n",
       "1     unk\n",
       "2     unk\n",
       "3     unk\n",
       "4      17\n",
       "5     unk\n",
       "6      25\n",
       "7     unk\n",
       "8      36\n",
       "9     unk\n",
       "10     41\n",
       "11    unk\n",
       "12    unk\n",
       "13    unk\n",
       "14    unk\n",
       "15    unk\n",
       "Name: division, dtype: object"
      ]
     },
     "execution_count": 33,
     "metadata": {},
     "output_type": "execute_result"
    }
   ],
   "source": [
    "results = gisaid.loc[gisaid['mutation']=='S:501Y']\n",
    "results_by_state = results.groupby('division').agg(num_samples=('idx', 'nunique')).reset_index()\n",
    "results_by_state['division'].apply(lambda x: state_map.get(x, 'unk'))"
   ]
  },
  {
   "cell_type": "code",
   "execution_count": 38,
   "metadata": {},
   "outputs": [
    {
     "data": {
      "text/html": [
       "<div>\n",
       "<style scoped>\n",
       "    .dataframe tbody tr th:only-of-type {\n",
       "        vertical-align: middle;\n",
       "    }\n",
       "\n",
       "    .dataframe tbody tr th {\n",
       "        vertical-align: top;\n",
       "    }\n",
       "\n",
       "    .dataframe thead th {\n",
       "        text-align: right;\n",
       "    }\n",
       "</style>\n",
       "<table border=\"1\" class=\"dataframe\">\n",
       "  <thead>\n",
       "    <tr style=\"text-align: right;\">\n",
       "      <th></th>\n",
       "      <th>division</th>\n",
       "      <th>num_samples</th>\n",
       "      <th>id</th>\n",
       "    </tr>\n",
       "  </thead>\n",
       "  <tbody>\n",
       "    <tr>\n",
       "      <th>0</th>\n",
       "      <td>Illinois</td>\n",
       "      <td>1</td>\n",
       "      <td>17</td>\n",
       "    </tr>\n",
       "    <tr>\n",
       "      <th>1</th>\n",
       "      <td>Massachusetts</td>\n",
       "      <td>5</td>\n",
       "      <td>25</td>\n",
       "    </tr>\n",
       "    <tr>\n",
       "      <th>2</th>\n",
       "      <td>New York</td>\n",
       "      <td>1</td>\n",
       "      <td>36</td>\n",
       "    </tr>\n",
       "    <tr>\n",
       "      <th>3</th>\n",
       "      <td>Oregon</td>\n",
       "      <td>1</td>\n",
       "      <td>41</td>\n",
       "    </tr>\n",
       "  </tbody>\n",
       "</table>\n",
       "</div>"
      ],
      "text/plain": [
       "        division  num_samples  id\n",
       "0       Illinois            1  17\n",
       "1  Massachusetts            5  25\n",
       "2       New York            1  36\n",
       "3         Oregon            1  41"
      ]
     },
     "execution_count": 38,
     "metadata": {},
     "output_type": "execute_result"
    }
   ],
   "source": [
    "df"
   ]
  },
  {
   "cell_type": "code",
   "execution_count": 28,
   "metadata": {},
   "outputs": [],
   "source": [
    "def map_by_state(data: pd.DataFrame, feature: str, values: list, states_fp: str):\n",
    "    with open(states_fp) as f:\n",
    "        states = json.load(f)\n",
    "    state_map = {x['properties']['name']: x['id'] for x in states['features']}\n",
    "    results = data.loc[(data[feature].isin(values)) & (data['country']=='United States of America')]\n",
    "    results_by_state = results.groupby('division').agg(num_samples=('idx', 'nunique')).reset_index()\n",
    "    results_by_state['id'] = results_by_state['division'].apply(lambda x: state_map.get(x, 'unk'))\n",
    "    fig = px.choropleth(results_by_state, geojson=states, scope=\"usa\",\n",
    "                               locations='id', color='num_samples',\n",
    "                               color_continuous_scale=\"bluered\",\n",
    "                               range_color=(0, results_by_state['num_samples'].max()),\n",
    "                               labels={'num_samples': f'Number of samples with {values}: ', 'division': 'loc:'}\n",
    "                              )\n",
    "    fig.update_layout(margin={\"r\":0,\"t\":0,\"l\":0,\"b\":0})\n",
    "    return fig, state_map, results_by_state\n",
    "# states_fp = \"/home/al/code/MappingAPI/data/geojson/us-states.json\"\n",
    "# fig, mapp, df = map_by_state(gisaid, 'mutation', ['S:501Y'], states_fp)\n",
    "# fig.show()"
   ]
  },
  {
   "cell_type": "markdown",
   "metadata": {},
   "source": [
    "# Report Generation"
   ]
  },
  {
   "cell_type": "code",
   "execution_count": null,
   "metadata": {},
   "outputs": [],
   "source": [
    "def generate_html(world_map, state_map, county_map, genetic_distance_plot):\n",
    "    # express plots in html and JS\n",
    "    world_map = plotly.offline.plot(world_map, include_plotlyjs=False, output_type='div')\n",
    "    state_map = plotly.offline.plot(state_map, include_plotlyjs=False, output_type='div')\n",
    "    county_map = plotly.offline.plot(county_map, include_plotlyjs=False, output_type='div')\n",
    "    genetic_distance_plot = plotly.offline.plot(genetic_distance_plot, include_plotlyjs=False, output_type='div')\n",
    "    # generate output messages\n",
    "    #TODO: expt_name, first_detected\n",
    "    # dir containing our template\n",
    "    file_loader = FileSystemLoader('templates')\n",
    "    # load the environment\n",
    "    env = Environment(loader=file_loader)\n",
    "    # load the template\n",
    "    template = env.get_template('voc.html')\n",
    "    # render data in our template format\n",
    "    html_output = template.render(world_map=world_map, state_map=state_map, \n",
    "                                  county_map=county_map, genetic_distance_plot=genetic_distance_plot,\n",
    "                                 first_detected=first_detected, expt_name=expt_name)\n",
    "    return html_output\n",
    "\n",
    "\n",
    "def save_html(html_output: str, filename: str):\n",
    "    with open(filename, 'w') as f:\n",
    "        f.write(html_output)"
   ]
  },
  {
   "cell_type": "code",
   "execution_count": null,
   "metadata": {},
   "outputs": [],
   "source": []
  },
  {
   "cell_type": "code",
   "execution_count": null,
   "metadata": {},
   "outputs": [],
   "source": []
  },
  {
   "cell_type": "code",
   "execution_count": null,
   "metadata": {},
   "outputs": [],
   "source": []
  },
  {
   "cell_type": "code",
   "execution_count": null,
   "metadata": {},
   "outputs": [],
   "source": [
    "df = pd.read_csv()"
   ]
  },
  {
   "cell_type": "code",
   "execution_count": 4,
   "metadata": {},
   "outputs": [],
   "source": [
    "out_dir = Path('/home/al/analysis/mutations/gisaid')"
   ]
  },
  {
   "cell_type": "code",
   "execution_count": 316,
   "metadata": {},
   "outputs": [],
   "source": [
    "gisaid = pd.read_csv(out_dir/'gisaid_replacements_19-12-2020.csv')"
   ]
  },
  {
   "cell_type": "code",
   "execution_count": 317,
   "metadata": {},
   "outputs": [],
   "source": [
    "# gisaid['mutation'] = gisaid['gene'] + ':' + gisaid['codon_num'].astype(str) + gisaid['alt_aa']\n",
    "gisaid.loc[gisaid['country']=='USA', 'country'] = 'United States of America'"
   ]
  },
  {
   "cell_type": "code",
   "execution_count": 304,
   "metadata": {},
   "outputs": [],
   "source": [
    "# gisaid.to_csv(out_dir/'gisaid_replacements_19-12-2020.csv', index=False)"
   ]
  },
  {
   "cell_type": "code",
   "execution_count": 324,
   "metadata": {},
   "outputs": [],
   "source": [
    "# gisaid['country'].unique()"
   ]
  },
  {
   "cell_type": "code",
   "execution_count": 206,
   "metadata": {},
   "outputs": [
    {
     "data": {
      "text/html": [
       "<div>\n",
       "<style scoped>\n",
       "    .dataframe tbody tr th:only-of-type {\n",
       "        vertical-align: middle;\n",
       "    }\n",
       "\n",
       "    .dataframe tbody tr th {\n",
       "        vertical-align: top;\n",
       "    }\n",
       "\n",
       "    .dataframe thead th {\n",
       "        text-align: right;\n",
       "    }\n",
       "</style>\n",
       "<table border=\"1\" class=\"dataframe\">\n",
       "  <thead>\n",
       "    <tr style=\"text-align: right;\">\n",
       "      <th></th>\n",
       "      <th>index</th>\n",
       "      <th>submitting_lab</th>\n",
       "      <th>num_samples</th>\n",
       "    </tr>\n",
       "  </thead>\n",
       "  <tbody>\n",
       "    <tr>\n",
       "      <th>0</th>\n",
       "      <td>48</td>\n",
       "      <td>Houston Methodist Hospital</td>\n",
       "      <td>5069</td>\n",
       "    </tr>\n",
       "    <tr>\n",
       "      <th>1</th>\n",
       "      <td>137</td>\n",
       "      <td>Utah Public Health Laboratory</td>\n",
       "      <td>2977</td>\n",
       "    </tr>\n",
       "    <tr>\n",
       "      <th>2</th>\n",
       "      <td>115</td>\n",
       "      <td>Seattle Flu Study</td>\n",
       "      <td>2869</td>\n",
       "    </tr>\n",
       "    <tr>\n",
       "      <th>3</th>\n",
       "      <td>16</td>\n",
       "      <td>Chan-Zuckerberg Biohub</td>\n",
       "      <td>2810</td>\n",
       "    </tr>\n",
       "    <tr>\n",
       "      <th>4</th>\n",
       "      <td>111</td>\n",
       "      <td>Quest Diagnostics</td>\n",
       "      <td>2708</td>\n",
       "    </tr>\n",
       "    <tr>\n",
       "      <th>5</th>\n",
       "      <td>126</td>\n",
       "      <td>UW Virology Lab</td>\n",
       "      <td>2645</td>\n",
       "    </tr>\n",
       "    <tr>\n",
       "      <th>6</th>\n",
       "      <td>81</td>\n",
       "      <td>Michigan Department of Health and Human Servic...</td>\n",
       "      <td>2520</td>\n",
       "    </tr>\n",
       "    <tr>\n",
       "      <th>7</th>\n",
       "      <td>119</td>\n",
       "      <td>TGen North</td>\n",
       "      <td>2511</td>\n",
       "    </tr>\n",
       "    <tr>\n",
       "      <th>8</th>\n",
       "      <td>4</td>\n",
       "      <td>Andersen lab at Scripps Research</td>\n",
       "      <td>2307</td>\n",
       "    </tr>\n",
       "    <tr>\n",
       "      <th>9</th>\n",
       "      <td>136</td>\n",
       "      <td>University of Wisconsin-Madison AIDS Vaccine R...</td>\n",
       "      <td>2226</td>\n",
       "    </tr>\n",
       "  </tbody>\n",
       "</table>\n",
       "</div>"
      ],
      "text/plain": [
       "   index                                     submitting_lab  num_samples\n",
       "0     48                         Houston Methodist Hospital         5069\n",
       "1    137                      Utah Public Health Laboratory         2977\n",
       "2    115                                  Seattle Flu Study         2869\n",
       "3     16                             Chan-Zuckerberg Biohub         2810\n",
       "4    111                                  Quest Diagnostics         2708\n",
       "5    126                                    UW Virology Lab         2645\n",
       "6     81  Michigan Department of Health and Human Servic...         2520\n",
       "7    119                                         TGen North         2511\n",
       "8      4                   Andersen lab at Scripps Research         2307\n",
       "9    136  University of Wisconsin-Madison AIDS Vaccine R...         2226"
      ]
     },
     "execution_count": 206,
     "metadata": {},
     "output_type": "execute_result"
    }
   ],
   "source": [
    "## Analyzing A-lab's submission rates across the U.S.\n",
    "us = gisaid[gisaid['country']=='USA'].copy()\n",
    "us.loc[:, 'date'] = pd.to_datetime(us['date'])\n",
    "us.loc[:, 'month'] = us['date'].dt.month\n",
    "us.drop_duplicates(subset=['idx'], inplace=True)\n",
    "us.loc[:, 'is_andersen'] = False\n",
    "us.loc[us['submitting_lab'].str.contains('Andersen'), 'is_andersen'] = True\n",
    "ans = (us.groupby(['submitting_lab'])\n",
    " .agg(num_samples=('idx', 'nunique'))\n",
    " .reset_index()\n",
    " .sort_values(['num_samples'], ascending=[False])\n",
    " .reset_index())\n",
    "# ans[ans['month']==11]\n",
    "ans.iloc[:10]"
   ]
  },
  {
   "cell_type": "code",
   "execution_count": null,
   "metadata": {},
   "outputs": [],
   "source": [
    "uk_seqs = uk.groupby(['date', 'idx']).agg(num_nonsyn_mutations=('is_nonsyn_mutation', 'sum'),\n",
    "                                num_S_nonsyn_mutations=('is_S_nonsyn_mutation', 'sum')).reset_index()\n",
    "uk_seqs.loc[:, 's501y'] = False\n",
    "uk_seqs.loc[uk_seqs['idx'].isin(mutant_samples), 's501y'] = True"
   ]
  },
  {
   "cell_type": "code",
   "execution_count": 158,
   "metadata": {},
   "outputs": [
    {
     "data": {
      "text/plain": [
       "United Kingdom    2160\n",
       "South Africa       201\n",
       "Australia           39\n",
       "Denmark             10\n",
       "USA                  8\n",
       "Brazil               1\n",
       "Name: country, dtype: int64"
      ]
     },
     "execution_count": 158,
     "metadata": {},
     "output_type": "execute_result"
    }
   ],
   "source": [
    "s501y_filter = (gisaid['gene']=='S') & (gisaid['codon_num']==501) & (gisaid['alt_aa']=='Y')\n",
    "gisaid.loc[(s501y_filter), 'country'].value_counts()"
   ]
  },
  {
   "cell_type": "code",
   "execution_count": 156,
   "metadata": {},
   "outputs": [
    {
     "data": {
      "text/plain": [
       "array(['United Kingdom', 'Iceland', 'France', 'Czech Republic',\n",
       "       'United Arab Emirates', 'Australia', 'New Zealand', 'Jordan',\n",
       "       'Denmark'], dtype=object)"
      ]
     },
     "execution_count": 156,
     "metadata": {},
     "output_type": "execute_result"
    }
   ],
   "source": [
    "b117_samples = gisaid.loc[(gisaid['pangolin_lineage']=='B.1.1.7'), 'country'].unique()\n",
    "b117_samples"
   ]
  },
  {
   "cell_type": "code",
   "execution_count": 115,
   "metadata": {},
   "outputs": [],
   "source": [
    "uk = gisaid[gisaid['country']=='United Kingdom']"
   ]
  },
  {
   "cell_type": "code",
   "execution_count": 125,
   "metadata": {},
   "outputs": [
    {
     "data": {
      "text/plain": [
       "'2020-10-05'"
      ]
     },
     "execution_count": 125,
     "metadata": {},
     "output_type": "execute_result"
    }
   ],
   "source": [
    "# s501y_filter = (uk['gene']=='S') & (uk['codon_num']==501) & (uk['alt_aa']=='Y')\n",
    "s501y_filter = (uk['pangolin_lineage']=='B.1.1.7')\n",
    "uk.loc[s501y_filter]['date'].min()"
   ]
  },
  {
   "cell_type": "code",
   "execution_count": 126,
   "metadata": {},
   "outputs": [],
   "source": [
    "# filtering out UK samples AFTER S501Y was first detected\n",
    "uk = uk.loc[uk['date'] > uk.loc[s501y_filter]['date'].min()]"
   ]
  },
  {
   "cell_type": "code",
   "execution_count": 127,
   "metadata": {},
   "outputs": [],
   "source": [
    "# uk.columns"
   ]
  },
  {
   "cell_type": "code",
   "execution_count": 153,
   "metadata": {},
   "outputs": [
    {
     "data": {
      "text/plain": [
       "Timestamp('2020-10-07 00:00:00')"
      ]
     },
     "execution_count": 153,
     "metadata": {},
     "output_type": "execute_result"
    }
   ],
   "source": [
    "uk['date'].min()"
   ]
  },
  {
   "cell_type": "code",
   "execution_count": 129,
   "metadata": {},
   "outputs": [
    {
     "data": {
      "text/plain": [
       "67582"
      ]
     },
     "execution_count": 129,
     "metadata": {},
     "output_type": "execute_result"
    }
   ],
   "source": [
    "all_samples = uk['idx'].unique()\n",
    "len(all_samples)"
   ]
  },
  {
   "cell_type": "code",
   "execution_count": 130,
   "metadata": {},
   "outputs": [
    {
     "data": {
      "text/plain": [
       "1753"
      ]
     },
     "execution_count": 130,
     "metadata": {},
     "output_type": "execute_result"
    }
   ],
   "source": [
    "mutant_samples = uk.loc[s501y_filter, 'idx'].unique()\n",
    "len(mutant_samples)"
   ]
  },
  {
   "cell_type": "code",
   "execution_count": 131,
   "metadata": {},
   "outputs": [],
   "source": [
    "# common = set(mutant_samples) & set(b117_samples)\n",
    "# len(common)"
   ]
  },
  {
   "cell_type": "code",
   "execution_count": 133,
   "metadata": {},
   "outputs": [],
   "source": [
    "uk.loc[:, 's501y'] = False\n",
    "uk.loc[s501y_filter, 's501y'] = True"
   ]
  },
  {
   "cell_type": "code",
   "execution_count": 134,
   "metadata": {},
   "outputs": [],
   "source": [
    "uk.loc[:, 'is_nonsyn_mutation'] = False\n",
    "uk.loc[uk['alt_aa']!=uk['ref_aa'], 'is_nonsyn_mutation'] = True\n",
    "uk.loc[:, 'is_S_nonsyn_mutation'] = False\n",
    "uk.loc[(uk['alt_aa']!=uk['ref_aa']) & (uk['gene']=='S'), 'is_S_nonsyn_mutation'] = True"
   ]
  },
  {
   "cell_type": "code",
   "execution_count": 136,
   "metadata": {},
   "outputs": [
    {
     "name": "stderr",
     "output_type": "stream",
     "text": [
      "<ipython-input-136-9ebf2725a3c6>:1: SettingWithCopyWarning: \n",
      "A value is trying to be set on a copy of a slice from a DataFrame.\n",
      "Try using .loc[row_indexer,col_indexer] = value instead\n",
      "\n",
      "See the caveats in the documentation: https://pandas.pydata.org/pandas-docs/stable/user_guide/indexing.html#returning-a-view-versus-a-copy\n",
      "  uk['date'] = pd.to_datetime(uk['date'])\n"
     ]
    }
   ],
   "source": [
    "uk['date'] = pd.to_datetime(uk['date'])"
   ]
  },
  {
   "cell_type": "code",
   "execution_count": 151,
   "metadata": {},
   "outputs": [
    {
     "data": {
      "text/plain": [
       "is_nonsyn_mutation      10.325974\n",
       "is_S_nonsyn_mutation     2.629310\n",
       "dtype: float64"
      ]
     },
     "execution_count": 151,
     "metadata": {},
     "output_type": "execute_result"
    }
   ],
   "source": [
    "uk[['is_nonsyn_mutation', 'is_S_nonsyn_mutation']].sum() / len(all_samples)"
   ]
  },
  {
   "cell_type": "code",
   "execution_count": 149,
   "metadata": {},
   "outputs": [],
   "source": [
    "uk_seqs = uk.groupby(['date', 'idx']).agg(num_nonsyn_mutations=('is_nonsyn_mutation', 'sum'),\n",
    "                                num_S_nonsyn_mutations=('is_S_nonsyn_mutation', 'sum')).reset_index()\n",
    "uk_seqs.loc[:, 's501y'] = False\n",
    "uk_seqs.loc[uk_seqs['idx'].isin(mutant_samples), 's501y'] = True"
   ]
  },
  {
   "cell_type": "code",
   "execution_count": 150,
   "metadata": {},
   "outputs": [
    {
     "data": {
      "text/html": [
       "<div>\n",
       "<style scoped>\n",
       "    .dataframe tbody tr th:only-of-type {\n",
       "        vertical-align: middle;\n",
       "    }\n",
       "\n",
       "    .dataframe tbody tr th {\n",
       "        vertical-align: top;\n",
       "    }\n",
       "\n",
       "    .dataframe thead th {\n",
       "        text-align: right;\n",
       "    }\n",
       "</style>\n",
       "<table border=\"1\" class=\"dataframe\">\n",
       "  <thead>\n",
       "    <tr style=\"text-align: right;\">\n",
       "      <th></th>\n",
       "      <th></th>\n",
       "      <th></th>\n",
       "      <th>total_samples</th>\n",
       "      <th>mutated_samples</th>\n",
       "      <th>mutation_freq</th>\n",
       "    </tr>\n",
       "    <tr>\n",
       "      <th>year</th>\n",
       "      <th>month</th>\n",
       "      <th>week</th>\n",
       "      <th></th>\n",
       "      <th></th>\n",
       "      <th></th>\n",
       "    </tr>\n",
       "  </thead>\n",
       "  <tbody>\n",
       "    <tr>\n",
       "      <th rowspan=\"12\" valign=\"top\">2020</th>\n",
       "      <th rowspan=\"4\" valign=\"top\">10</th>\n",
       "      <th>41</th>\n",
       "      <td>760</td>\n",
       "      <td>0</td>\n",
       "      <td>0.000000</td>\n",
       "    </tr>\n",
       "    <tr>\n",
       "      <th>42</th>\n",
       "      <td>2643</td>\n",
       "      <td>0</td>\n",
       "      <td>0.000000</td>\n",
       "    </tr>\n",
       "    <tr>\n",
       "      <th>43</th>\n",
       "      <td>6290</td>\n",
       "      <td>1</td>\n",
       "      <td>0.000159</td>\n",
       "    </tr>\n",
       "    <tr>\n",
       "      <th>44</th>\n",
       "      <td>6892</td>\n",
       "      <td>3</td>\n",
       "      <td>0.000435</td>\n",
       "    </tr>\n",
       "    <tr>\n",
       "      <th rowspan=\"5\" valign=\"top\">11</th>\n",
       "      <th>45</th>\n",
       "      <td>9493</td>\n",
       "      <td>6</td>\n",
       "      <td>0.000632</td>\n",
       "    </tr>\n",
       "    <tr>\n",
       "      <th>46</th>\n",
       "      <td>5970</td>\n",
       "      <td>10</td>\n",
       "      <td>0.001675</td>\n",
       "    </tr>\n",
       "    <tr>\n",
       "      <th>47</th>\n",
       "      <td>7690</td>\n",
       "      <td>82</td>\n",
       "      <td>0.010663</td>\n",
       "    </tr>\n",
       "    <tr>\n",
       "      <th>48</th>\n",
       "      <td>8867</td>\n",
       "      <td>212</td>\n",
       "      <td>0.023909</td>\n",
       "    </tr>\n",
       "    <tr>\n",
       "      <th>49</th>\n",
       "      <td>4418</td>\n",
       "      <td>96</td>\n",
       "      <td>0.021729</td>\n",
       "    </tr>\n",
       "    <tr>\n",
       "      <th rowspan=\"3\" valign=\"top\">12</th>\n",
       "      <th>49</th>\n",
       "      <td>4341</td>\n",
       "      <td>358</td>\n",
       "      <td>0.082469</td>\n",
       "    </tr>\n",
       "    <tr>\n",
       "      <th>50</th>\n",
       "      <td>3264</td>\n",
       "      <td>146</td>\n",
       "      <td>0.044730</td>\n",
       "    </tr>\n",
       "    <tr>\n",
       "      <th>51</th>\n",
       "      <td>6954</td>\n",
       "      <td>839</td>\n",
       "      <td>0.120650</td>\n",
       "    </tr>\n",
       "  </tbody>\n",
       "</table>\n",
       "</div>"
      ],
      "text/plain": [
       "                 total_samples  mutated_samples  mutation_freq\n",
       "year month week                                               \n",
       "2020 10    41              760                0       0.000000\n",
       "           42             2643                0       0.000000\n",
       "           43             6290                1       0.000159\n",
       "           44             6892                3       0.000435\n",
       "     11    45             9493                6       0.000632\n",
       "           46             5970               10       0.001675\n",
       "           47             7690               82       0.010663\n",
       "           48             8867              212       0.023909\n",
       "           49             4418               96       0.021729\n",
       "     12    49             4341              358       0.082469\n",
       "           50             3264              146       0.044730\n",
       "           51             6954              839       0.120650"
      ]
     },
     "execution_count": 150,
     "metadata": {},
     "output_type": "execute_result"
    }
   ],
   "source": [
    "uk_seqs.loc[:, 'year'] = uk_seqs['date'].dt.year\n",
    "uk_seqs.loc[:, 'month'] = uk_seqs['date'].dt.month\n",
    "uk_seqs.loc[:, 'week'] = uk_seqs['date'].dt.isocalendar().week\n",
    "mnthly_cnts = uk_seqs.groupby(['year', 'month', 'week']).agg(total_samples=('idx', 'nunique'), \n",
    "                                                             mutated_samples=('s501y', 'sum'))\n",
    "mnthly_cnts['mutation_freq'] = mnthly_cnts['mutated_samples'] / mnthly_cnts['total_samples']\n",
    "mnthly_cnts"
   ]
  },
  {
   "cell_type": "code",
   "execution_count": 223,
   "metadata": {},
   "outputs": [],
   "source": [
    "x = uk_seqs[uk_seqs['s501y']==True].sample(1000)\n",
    "y = uk_seqs[uk_seqs['s501y']==False].sample(1000)\n",
    "sample_data = pd.concat([x, y])"
   ]
  },
  {
   "cell_type": "code",
   "execution_count": 224,
   "metadata": {},
   "outputs": [
    {
     "data": {
      "text/html": [
       "<div>\n",
       "<style scoped>\n",
       "    .dataframe tbody tr th:only-of-type {\n",
       "        vertical-align: middle;\n",
       "    }\n",
       "\n",
       "    .dataframe tbody tr th {\n",
       "        vertical-align: top;\n",
       "    }\n",
       "\n",
       "    .dataframe thead tr th {\n",
       "        text-align: left;\n",
       "    }\n",
       "\n",
       "    .dataframe thead tr:last-of-type th {\n",
       "        text-align: right;\n",
       "    }\n",
       "</style>\n",
       "<table border=\"1\" class=\"dataframe\">\n",
       "  <thead>\n",
       "    <tr>\n",
       "      <th></th>\n",
       "      <th colspan=\"2\" halign=\"left\">num_nonsyn_mutations</th>\n",
       "      <th colspan=\"2\" halign=\"left\">num_S_nonsyn_mutations</th>\n",
       "    </tr>\n",
       "    <tr>\n",
       "      <th></th>\n",
       "      <th>mean</th>\n",
       "      <th>median</th>\n",
       "      <th>mean</th>\n",
       "      <th>median</th>\n",
       "    </tr>\n",
       "    <tr>\n",
       "      <th>s501y</th>\n",
       "      <th></th>\n",
       "      <th></th>\n",
       "      <th></th>\n",
       "      <th></th>\n",
       "    </tr>\n",
       "  </thead>\n",
       "  <tbody>\n",
       "    <tr>\n",
       "      <th>False</th>\n",
       "      <td>9.998</td>\n",
       "      <td>9</td>\n",
       "      <td>2.473</td>\n",
       "      <td>2</td>\n",
       "    </tr>\n",
       "    <tr>\n",
       "      <th>True</th>\n",
       "      <td>25.917</td>\n",
       "      <td>26</td>\n",
       "      <td>7.115</td>\n",
       "      <td>7</td>\n",
       "    </tr>\n",
       "  </tbody>\n",
       "</table>\n",
       "</div>"
      ],
      "text/plain": [
       "      num_nonsyn_mutations        num_S_nonsyn_mutations       \n",
       "                      mean median                   mean median\n",
       "s501y                                                          \n",
       "False                9.998      9                  2.473      2\n",
       "True                25.917     26                  7.115      7"
      ]
     },
     "execution_count": 224,
     "metadata": {},
     "output_type": "execute_result"
    }
   ],
   "source": [
    "sample_data.groupby('s501y').agg({'num_nonsyn_mutations': ['mean', 'median'], 'num_S_nonsyn_mutations': ['mean', 'median']})"
   ]
  },
  {
   "cell_type": "code",
   "execution_count": 225,
   "metadata": {},
   "outputs": [],
   "source": [
    "# box plots of non-synonymous mutations"
   ]
  },
  {
   "cell_type": "code",
   "execution_count": 4,
   "metadata": {},
   "outputs": [
    {
     "ename": "NameError",
     "evalue": "name 'sample_data' is not defined",
     "output_type": "error",
     "traceback": [
      "\u001b[0;31m---------------------------------------------------------------------------\u001b[0m",
      "\u001b[0;31mNameError\u001b[0m                                 Traceback (most recent call last)",
      "\u001b[0;32m<ipython-input-4-05f672b776be>\u001b[0m in \u001b[0;36m<module>\u001b[0;34m\u001b[0m\n\u001b[0;32m----> 1\u001b[0;31m \u001b[0mfig\u001b[0m \u001b[0;34m=\u001b[0m \u001b[0mgo\u001b[0m\u001b[0;34m.\u001b[0m\u001b[0mFigure\u001b[0m\u001b[0;34m(\u001b[0m\u001b[0mgo\u001b[0m\u001b[0;34m.\u001b[0m\u001b[0mBox\u001b[0m\u001b[0;34m(\u001b[0m\u001b[0my\u001b[0m\u001b[0;34m=\u001b[0m\u001b[0msample_data\u001b[0m\u001b[0;34m[\u001b[0m\u001b[0;34m'num_nonsyn_mutations'\u001b[0m\u001b[0;34m]\u001b[0m\u001b[0;34m,\u001b[0m \u001b[0mx\u001b[0m\u001b[0;34m=\u001b[0m\u001b[0msample_data\u001b[0m\u001b[0;34m[\u001b[0m\u001b[0;34m's501y'\u001b[0m\u001b[0;34m]\u001b[0m\u001b[0;34m,\u001b[0m \u001b[0mboxpoints\u001b[0m\u001b[0;34m=\u001b[0m\u001b[0;32mFalse\u001b[0m\u001b[0;34m)\u001b[0m\u001b[0;34m)\u001b[0m\u001b[0;34m\u001b[0m\u001b[0;34m\u001b[0m\u001b[0m\n\u001b[0m\u001b[1;32m      2\u001b[0m fig.update_layout(yaxis_title='Non-synonymous Mutations', xaxis_title='B1117 Lineage',\n\u001b[1;32m      3\u001b[0m                   template='plotly_white', autosize=False, height=850, width=800)\n\u001b[1;32m      4\u001b[0m \u001b[0;31m# fig.show()\u001b[0m\u001b[0;34m\u001b[0m\u001b[0;34m\u001b[0m\u001b[0;34m\u001b[0m\u001b[0m\n",
      "\u001b[0;31mNameError\u001b[0m: name 'sample_data' is not defined"
     ]
    }
   ],
   "source": [
    "fig = go.Figure(go.Box(y=sample_data['num_nonsyn_mutations'], x=sample_data['s501y'], boxpoints=False))\n",
    "fig.update_layout(yaxis_title='Non-synonymous Mutations', xaxis_title='B1117 Lineage',\n",
    "                  template='plotly_white', autosize=False, height=850, width=800)\n",
    "# fig.show()"
   ]
  },
  {
   "cell_type": "code",
   "execution_count": null,
   "metadata": {},
   "outputs": [],
   "source": [
    "fig = go.Figure(go.Box(y=sample_data['num_S_nonsyn_mutations'], x=sample_data['s501y'], boxpoints=False))\n",
    "fig.update_layout(yaxis_title='S Mutations', xaxis_title='B1117 Lineage',\n",
    "                  template='plotly_white', autosize=False, height=850, width=800)\n",
    "# fig.show()"
   ]
  },
  {
   "cell_type": "code",
   "execution_count": null,
   "metadata": {},
   "outputs": [],
   "source": [
    "# world plot of variant prevalence"
   ]
  },
  {
   "cell_type": "markdown",
   "metadata": {},
   "source": [
    "## County Level"
   ]
  },
  {
   "cell_type": "code",
   "execution_count": 230,
   "metadata": {},
   "outputs": [],
   "source": [
    "from urllib.request import urlopen\n",
    "import json\n",
    "\n",
    "with urlopen('https://raw.githubusercontent.com/plotly/datasets/master/geojson-counties-fips.json') as response:\n",
    "    counties = json.load(response)"
   ]
  },
  {
   "cell_type": "code",
   "execution_count": 268,
   "metadata": {},
   "outputs": [],
   "source": [
    "county_map = {x['properties']['NAME']+x['properties']['STATE']: x['id'] for x in counties['features']}"
   ]
  },
  {
   "cell_type": "code",
   "execution_count": 269,
   "metadata": {},
   "outputs": [
    {
     "name": "stdout",
     "output_type": "stream",
     "text": [
      "Orange12\n",
      "12095\n",
      "Orangeburg45\n",
      "45075\n",
      "Orange06\n",
      "06059\n",
      "Orange18\n",
      "18117\n",
      "Orange48\n",
      "48361\n",
      "Orange36\n",
      "36071\n",
      "Orange37\n",
      "37135\n",
      "Orange51\n",
      "51137\n",
      "Orange50\n",
      "50017\n"
     ]
    }
   ],
   "source": [
    "for c in county_map:\n",
    "    if 'Orange' in c:\n",
    "        print(c)\n",
    "        print(county_map[c])"
   ]
  },
  {
   "cell_type": "code",
   "execution_count": 328,
   "metadata": {},
   "outputs": [
    {
     "data": {
      "text/plain": [
       "(25407,)"
      ]
     },
     "execution_count": 328,
     "metadata": {},
     "output_type": "execute_result"
    }
   ],
   "source": [
    "us.loc[us['location']=='unk', 'idx'].unique().shape"
   ]
  },
  {
   "cell_type": "code",
   "execution_count": 261,
   "metadata": {},
   "outputs": [
    {
     "data": {
      "text/plain": [
       "Index(['idx', 'replacements', 'pos', 'gene', 'codon_num', 'ref_codon',\n",
       "       'alt_codon', 'ref_aa', 'alt_aa', 'strain', 'virus', 'gisaid_epi_isl',\n",
       "       'genbank_accession', 'date', 'region', 'country', 'division',\n",
       "       'location', 'region_exposure', 'country_exposure', 'division_exposure',\n",
       "       'segment', 'length', 'host', 'age', 'sex', 'Nextstrain_clade',\n",
       "       'pangolin_lineage', 'GISAID_clade', 'originating_lab', 'submitting_lab',\n",
       "       'authors', 'url', 'title', 'paper_url', 'date_submitted', 'month',\n",
       "       'is_andersen', 'county_code'],\n",
       "      dtype='object')"
      ]
     },
     "execution_count": 261,
     "metadata": {},
     "output_type": "execute_result"
    }
   ],
   "source": [
    "us"
   ]
  },
  {
   "cell_type": "code",
   "execution_count": 249,
   "metadata": {},
   "outputs": [
    {
     "data": {
      "text/plain": [
       "(38074,)"
      ]
     },
     "execution_count": 249,
     "metadata": {},
     "output_type": "execute_result"
    }
   ],
   "source": [
    "us['county_code'] = us['location'].apply(lambda x: county_map.get(x, -1))\n",
    "us.loc[us['county_code']==-1, 'idx'].unique().shape"
   ]
  },
  {
   "cell_type": "code",
   "execution_count": 250,
   "metadata": {},
   "outputs": [
    {
     "data": {
      "text/plain": [
       "(50868,)"
      ]
     },
     "execution_count": 250,
     "metadata": {},
     "output_type": "execute_result"
    }
   ],
   "source": [
    "us['idx'].unique().shape"
   ]
  },
  {
   "cell_type": "code",
   "execution_count": 270,
   "metadata": {},
   "outputs": [
    {
     "data": {
      "text/plain": [
       "['Adams County WA',\n",
       " 'Adams County WI',\n",
       " 'Alachua County',\n",
       " 'Alameda County',\n",
       " 'Albany County',\n",
       " 'Allamakee County',\n",
       " 'Allegheny County',\n",
       " 'Anchorage',\n",
       " 'Angelina County',\n",
       " 'Ashland County',\n",
       " 'Asotin County',\n",
       " 'Assumption Parish',\n",
       " 'Atascosa County',\n",
       " 'Atlanta',\n",
       " 'Avoyelles Parish',\n",
       " 'Bailey County',\n",
       " 'Bandera County',\n",
       " 'Barron County',\n",
       " 'Bee County',\n",
       " 'Benton County',\n",
       " 'Bergen County',\n",
       " 'Berkeley County',\n",
       " 'Bethany',\n",
       " 'Bexar County',\n",
       " 'Bienville Parish',\n",
       " 'Bloomfield',\n",
       " 'Boone County',\n",
       " 'Bossier Parish',\n",
       " 'Boston',\n",
       " 'Bowie County',\n",
       " 'Branford',\n",
       " 'Brazos County',\n",
       " 'Brewster County',\n",
       " 'Bronx',\n",
       " 'Brooklyn',\n",
       " 'Brooklyn WI',\n",
       " 'Broome County',\n",
       " 'Brown County TX',\n",
       " 'Brown County WI',\n",
       " 'Buchanan County',\n",
       " 'Buffalo County',\n",
       " 'Burleson County',\n",
       " 'Burlington County',\n",
       " 'Caddo Parish',\n",
       " 'Calhoun County',\n",
       " 'Camden County',\n",
       " 'Cameron County',\n",
       " 'Campbellsport',\n",
       " 'Cass County',\n",
       " 'Cattaraugus County',\n",
       " 'Cayuga County',\n",
       " 'Chautauqua County',\n",
       " 'Chelan County',\n",
       " 'Chemung County',\n",
       " 'Chenango County',\n",
       " 'Chicago',\n",
       " 'Chippewa County WI',\n",
       " 'Clackamas County',\n",
       " 'Claiborne Parish',\n",
       " 'Clark County NV',\n",
       " 'Clark County WA',\n",
       " 'Clayton County',\n",
       " 'Clinton County',\n",
       " 'Cobb',\n",
       " 'Colorado Springs',\n",
       " 'Columbia County NY',\n",
       " 'Columbia County OR',\n",
       " 'Columbia County WI',\n",
       " 'Columbia SC',\n",
       " 'Columbus OH',\n",
       " 'Columbus WI',\n",
       " 'Comal County',\n",
       " 'Comanche County',\n",
       " 'Contra Costa County',\n",
       " 'Cook County',\n",
       " 'Coos County',\n",
       " 'Cortland County',\n",
       " 'Cowlitz County',\n",
       " 'Crawford County',\n",
       " 'Crosby County',\n",
       " 'Cuyahoga County',\n",
       " 'Dakota County',\n",
       " 'Dallas County',\n",
       " 'Dane County',\n",
       " 'DeSoto Parish',\n",
       " 'Deaf Smith County',\n",
       " 'Delaware County',\n",
       " 'Denton County',\n",
       " 'Denver County',\n",
       " 'District of Columbia County',\n",
       " 'Dodge County',\n",
       " 'Door County',\n",
       " 'Douglas County OR',\n",
       " 'Douglas County WA',\n",
       " 'Dubuque County',\n",
       " 'Dutchess County',\n",
       " 'East Baton Rouge Parish',\n",
       " 'East Carroll Parish',\n",
       " 'East Feliciana Parish',\n",
       " 'East Haven',\n",
       " 'East Orange',\n",
       " 'Eau Claire County',\n",
       " 'Ector County',\n",
       " 'El Paso County',\n",
       " 'Erie County',\n",
       " 'Essex County NJ',\n",
       " 'Essex County NY',\n",
       " 'Fair Haven',\n",
       " 'Fairbanks',\n",
       " 'Fairfield County CT',\n",
       " 'Fairfield County SC',\n",
       " 'Fayette County',\n",
       " 'Fillmore County',\n",
       " 'Fond Du Lac County',\n",
       " 'Franklin County NY',\n",
       " 'Franklin County WA',\n",
       " 'Fresno County',\n",
       " 'Fulton County',\n",
       " 'Gales Ferry',\n",
       " 'Galveston County',\n",
       " 'Gasconade County',\n",
       " 'Georgetown County',\n",
       " 'Gonzales County',\n",
       " 'Grand Princess Cruise Ship',\n",
       " 'Grant County WA',\n",
       " 'Grant County WI',\n",
       " 'Grant Parish',\n",
       " 'Gray County',\n",
       " 'Grays Harbor County',\n",
       " 'Greater Houston Area',\n",
       " 'Green County',\n",
       " 'Greene County',\n",
       " 'Gregg County',\n",
       " 'Grimes County',\n",
       " 'Guttenberg',\n",
       " 'Hamden',\n",
       " 'Hamilton County',\n",
       " 'Harris County',\n",
       " 'Hartford County',\n",
       " 'Hays County',\n",
       " 'Herkimer County',\n",
       " 'Hidalgo County',\n",
       " 'Hood River County',\n",
       " 'Horry County',\n",
       " 'Houston County',\n",
       " 'Howard County',\n",
       " 'Hudson County',\n",
       " 'Humboldt County',\n",
       " 'Hunt County',\n",
       " 'Iberville Parish',\n",
       " 'Imperial County',\n",
       " 'Interior Alaska',\n",
       " 'Iowa County WI',\n",
       " 'Jackson County IA',\n",
       " 'Jackson County IL',\n",
       " 'Jackson County OR',\n",
       " 'Jackson County WI',\n",
       " 'Jefferson County NY',\n",
       " 'Jefferson County TX',\n",
       " 'Jefferson County WA',\n",
       " 'Jefferson County WI',\n",
       " 'Jefferson Parish',\n",
       " 'Jersey City',\n",
       " 'Jim Wells County',\n",
       " 'Jo Daviess County',\n",
       " 'Johnson County',\n",
       " 'Juneau County',\n",
       " 'Kanawha',\n",
       " 'Kane County',\n",
       " 'Kaufman County',\n",
       " 'Kenosha County',\n",
       " 'Kent County',\n",
       " 'King County',\n",
       " 'Kings County',\n",
       " 'Kittitas County',\n",
       " 'Klamath County',\n",
       " 'Klickitat County',\n",
       " 'La Crosse County',\n",
       " 'Lafayette County',\n",
       " 'Lake County CA',\n",
       " 'Lake County IL',\n",
       " 'Lamar County',\n",
       " 'Lancaster County',\n",
       " 'Lane County OR',\n",
       " 'Lavaca County',\n",
       " 'Lewis County',\n",
       " 'Limestone County',\n",
       " 'Lincoln County',\n",
       " 'Lincoln Parish',\n",
       " 'Linn County',\n",
       " 'Live Oak County',\n",
       " 'Livingston Parish',\n",
       " 'Llano County',\n",
       " 'Los Angeles County',\n",
       " 'Madera County',\n",
       " 'Madison CT',\n",
       " 'Madison County ID',\n",
       " 'Madison County NY',\n",
       " 'Madison Parish',\n",
       " 'Manhattan',\n",
       " 'Manitowoc County',\n",
       " 'Marathon County',\n",
       " 'Maricopa County',\n",
       " 'Marin County',\n",
       " 'Marion County IN',\n",
       " 'Marion County OR',\n",
       " 'Marquette County',\n",
       " 'Mason County',\n",
       " 'Matanuska-Susitna Valley',\n",
       " 'McCulloch County',\n",
       " 'Mclennan County',\n",
       " 'Merced County',\n",
       " 'Mercer Island',\n",
       " 'Meriden',\n",
       " 'Miami Gardens',\n",
       " 'Miami-Dade County',\n",
       " 'Middlesex County',\n",
       " 'Milwaukee County',\n",
       " 'Minnehaha County',\n",
       " 'Monroe County NY',\n",
       " 'Monroe County WI',\n",
       " 'Montague County',\n",
       " 'Monterey County CA',\n",
       " 'Montgomery County NY',\n",
       " 'Montgomery County PA',\n",
       " 'Montgomery County TX',\n",
       " 'Morehouse Parish',\n",
       " 'Morris County NJ',\n",
       " 'Morris County TX',\n",
       " 'Multnomah County',\n",
       " 'Nacogdoches County',\n",
       " 'Nassau County',\n",
       " 'Natchitoches Parish',\n",
       " 'New Castle County',\n",
       " 'New Haven County',\n",
       " 'New Jersey',\n",
       " 'New Orleans',\n",
       " 'New Rochelle',\n",
       " 'New York City',\n",
       " 'New York County',\n",
       " 'Newtown',\n",
       " 'Niagara County',\n",
       " 'Norfolk County',\n",
       " 'North Haven',\n",
       " 'Northford',\n",
       " 'Nueces County',\n",
       " 'Ochiltree County',\n",
       " 'Oconto County',\n",
       " 'Ogle County',\n",
       " 'Ogle County IL',\n",
       " 'Oldham County',\n",
       " 'Oneida County',\n",
       " 'Onondaga County',\n",
       " 'Ontario County',\n",
       " 'Orange County CA',\n",
       " 'Orange County FL',\n",
       " 'Orange County NY',\n",
       " 'Oregon WI',\n",
       " 'Orleans County',\n",
       " 'Oswego County',\n",
       " 'Otsego County',\n",
       " 'Ouachita Parish',\n",
       " 'Outagamie County',\n",
       " 'Ozaukee County',\n",
       " 'Palm Beach County',\n",
       " 'Panola County',\n",
       " 'Parker County',\n",
       " 'Passaic County',\n",
       " 'Paterson',\n",
       " 'Pepin County',\n",
       " 'Pierce County WA',\n",
       " 'Pierce County WI',\n",
       " 'Pittsburgh',\n",
       " 'Polk County TX',\n",
       " 'Polk County WI',\n",
       " 'Ponce',\n",
       " 'Port Washington',\n",
       " 'Portage County',\n",
       " \"Prince George'S County\",\n",
       " 'Putnam County',\n",
       " 'Queens',\n",
       " 'Racine County',\n",
       " 'Rapides Parish',\n",
       " 'Ravalli County',\n",
       " 'Red River County',\n",
       " 'Red River Parish',\n",
       " 'Rensselaer County',\n",
       " 'Richland County SC',\n",
       " 'Richland County WI',\n",
       " 'Richland Parish',\n",
       " 'Richmond County',\n",
       " 'Riverside',\n",
       " 'Riverside County',\n",
       " 'Rock County',\n",
       " 'Rockland County',\n",
       " 'Rusk County',\n",
       " 'Sabine Parish',\n",
       " 'Sacramento County',\n",
       " 'Saint Louis County',\n",
       " 'San Bernardino County',\n",
       " 'San Diego',\n",
       " 'San Diego County',\n",
       " 'San Francisco',\n",
       " 'San Francisco County',\n",
       " 'San Joaquin County',\n",
       " 'San Juan County',\n",
       " 'San Luis Obispo County',\n",
       " 'San Mateo County',\n",
       " 'San Patricio County',\n",
       " 'Santa Barbara County',\n",
       " 'Santa Clara County',\n",
       " 'Saratoga County',\n",
       " 'Sauk County',\n",
       " 'Sawyer County',\n",
       " 'Schenectady County',\n",
       " 'Schoharie County',\n",
       " 'Secaucus',\n",
       " 'Seneca County',\n",
       " 'Seymour',\n",
       " 'Shawano County',\n",
       " 'Sheboygan County',\n",
       " 'Sherman County',\n",
       " 'Skagit County',\n",
       " 'Smith County',\n",
       " 'Snohomish County',\n",
       " 'Solano County',\n",
       " 'Sonoma County',\n",
       " 'South Milwaukee',\n",
       " 'Southeast Alaska',\n",
       " 'Spokane County',\n",
       " 'St Bernard Parish',\n",
       " 'St Tammany Parish',\n",
       " 'St. Lawrence County',\n",
       " 'St. Louis MO',\n",
       " 'Staten Island',\n",
       " 'Stearns County',\n",
       " 'Stephenson County',\n",
       " 'Steuben County',\n",
       " 'Suffolk County',\n",
       " 'Sullivan County',\n",
       " 'Sussex County',\n",
       " 'Sutter County',\n",
       " 'Taylor County TX',\n",
       " 'Taylor County WI',\n",
       " 'Tensas Parish',\n",
       " 'Thiensville',\n",
       " 'Thurston County',\n",
       " 'Tioga County',\n",
       " 'Titus County',\n",
       " 'Tolland County',\n",
       " 'Tompkins County',\n",
       " 'Travis County',\n",
       " 'Trempealeau County',\n",
       " 'Trenton',\n",
       " 'Trumbull',\n",
       " 'Tulare County',\n",
       " 'Tuolumne County',\n",
       " 'Ulster County',\n",
       " 'Umatilla County',\n",
       " 'Union Parish',\n",
       " 'Upshur County',\n",
       " 'Val Verde County',\n",
       " 'Van Zandt County',\n",
       " 'Ventura County',\n",
       " 'Vernon County',\n",
       " 'Verona WI',\n",
       " 'Victoria County',\n",
       " 'Wabasha County',\n",
       " 'Walla Walla County',\n",
       " 'Waller County',\n",
       " 'Wallingford',\n",
       " 'Walton County',\n",
       " 'Walworth County',\n",
       " 'Wanakena',\n",
       " 'Warren County',\n",
       " 'Wasco County',\n",
       " 'Washington County NY',\n",
       " 'Washington County OR',\n",
       " 'Washington County TX',\n",
       " 'Washington County WI',\n",
       " 'Waukesha County',\n",
       " 'Waupaca County',\n",
       " 'Waushara County',\n",
       " 'Wayne County',\n",
       " 'Webb County',\n",
       " 'Webster Parish',\n",
       " 'West Haven',\n",
       " 'Westchester County',\n",
       " 'Wharton County',\n",
       " 'Whatcom County',\n",
       " 'Wheeler County',\n",
       " 'Whitefish Bay',\n",
       " 'Wichita County',\n",
       " 'Williamsburg County',\n",
       " 'Williamson County',\n",
       " 'Wilson County',\n",
       " 'Winnebago County IL',\n",
       " 'Winnebago County WI',\n",
       " 'Winneshiek County',\n",
       " 'Winona County',\n",
       " 'Wood County',\n",
       " 'Woodbridge',\n",
       " 'Wyoming County',\n",
       " 'Yakima County',\n",
       " 'Yamhill County',\n",
       " 'Yolo County',\n",
       " 'Yuma',\n",
       " 'unk']"
      ]
     },
     "execution_count": 270,
     "metadata": {},
     "output_type": "execute_result"
    }
   ],
   "source": [
    "sorted(us['location'].unique())"
   ]
  },
  {
   "cell_type": "code",
   "execution_count": 229,
   "metadata": {},
   "outputs": [
    {
     "data": {
      "text/html": [
       "<div>\n",
       "<style scoped>\n",
       "    .dataframe tbody tr th:only-of-type {\n",
       "        vertical-align: middle;\n",
       "    }\n",
       "\n",
       "    .dataframe tbody tr th {\n",
       "        vertical-align: top;\n",
       "    }\n",
       "\n",
       "    .dataframe thead th {\n",
       "        text-align: right;\n",
       "    }\n",
       "</style>\n",
       "<table border=\"1\" class=\"dataframe\">\n",
       "  <thead>\n",
       "    <tr style=\"text-align: right;\">\n",
       "      <th></th>\n",
       "      <th>fips</th>\n",
       "      <th>unemp</th>\n",
       "    </tr>\n",
       "  </thead>\n",
       "  <tbody>\n",
       "    <tr>\n",
       "      <th>0</th>\n",
       "      <td>01001</td>\n",
       "      <td>5.3</td>\n",
       "    </tr>\n",
       "    <tr>\n",
       "      <th>1</th>\n",
       "      <td>01003</td>\n",
       "      <td>5.4</td>\n",
       "    </tr>\n",
       "    <tr>\n",
       "      <th>2</th>\n",
       "      <td>01005</td>\n",
       "      <td>8.6</td>\n",
       "    </tr>\n",
       "    <tr>\n",
       "      <th>3</th>\n",
       "      <td>01007</td>\n",
       "      <td>6.6</td>\n",
       "    </tr>\n",
       "    <tr>\n",
       "      <th>4</th>\n",
       "      <td>01009</td>\n",
       "      <td>5.5</td>\n",
       "    </tr>\n",
       "    <tr>\n",
       "      <th>...</th>\n",
       "      <td>...</td>\n",
       "      <td>...</td>\n",
       "    </tr>\n",
       "    <tr>\n",
       "      <th>3214</th>\n",
       "      <td>72145</td>\n",
       "      <td>13.9</td>\n",
       "    </tr>\n",
       "    <tr>\n",
       "      <th>3215</th>\n",
       "      <td>72147</td>\n",
       "      <td>10.6</td>\n",
       "    </tr>\n",
       "    <tr>\n",
       "      <th>3216</th>\n",
       "      <td>72149</td>\n",
       "      <td>20.2</td>\n",
       "    </tr>\n",
       "    <tr>\n",
       "      <th>3217</th>\n",
       "      <td>72151</td>\n",
       "      <td>16.9</td>\n",
       "    </tr>\n",
       "    <tr>\n",
       "      <th>3218</th>\n",
       "      <td>72153</td>\n",
       "      <td>18.8</td>\n",
       "    </tr>\n",
       "  </tbody>\n",
       "</table>\n",
       "<p>3219 rows × 2 columns</p>\n",
       "</div>"
      ],
      "text/plain": [
       "       fips  unemp\n",
       "0     01001    5.3\n",
       "1     01003    5.4\n",
       "2     01005    8.6\n",
       "3     01007    6.6\n",
       "4     01009    5.5\n",
       "...     ...    ...\n",
       "3214  72145   13.9\n",
       "3215  72147   10.6\n",
       "3216  72149   20.2\n",
       "3217  72151   16.9\n",
       "3218  72153   18.8\n",
       "\n",
       "[3219 rows x 2 columns]"
      ]
     },
     "execution_count": 229,
     "metadata": {},
     "output_type": "execute_result"
    }
   ],
   "source": [
    "df = pd.read_csv(\"https://raw.githubusercontent.com/plotly/datasets/master/fips-unemp-16.csv\",\n",
    "                   dtype={\"fips\": str})\n",
    "df"
   ]
  },
  {
   "cell_type": "code",
   "execution_count": null,
   "metadata": {},
   "outputs": [],
   "source": []
  }
 ],
 "metadata": {
  "kernelspec": {
   "display_name": "covid",
   "language": "python",
   "name": "covid"
  },
  "language_info": {
   "codemirror_mode": {
    "name": "ipython",
    "version": 3
   },
   "file_extension": ".py",
   "mimetype": "text/x-python",
   "name": "python",
   "nbconvert_exporter": "python",
   "pygments_lexer": "ipython3",
   "version": "3.8.3"
  }
 },
 "nbformat": 4,
 "nbformat_minor": 4
}
