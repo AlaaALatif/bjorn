{
 "cells": [
  {
   "cell_type": "markdown",
   "metadata": {},
   "source": [
    "## Internal Mutations Report\n",
    "This notebook contains developmental code for analyzing mutations in SARS-CoV-2 samples released by Andersen Lab. "
   ]
  },
  {
   "cell_type": "code",
   "execution_count": 2,
   "metadata": {},
   "outputs": [],
   "source": [
    "import pandas as pd\n",
    "from path import Path\n",
    "from mutations import *\n",
    "from onion_trees import *\n",
    "from bjorn_support import *\n",
    "from shutil import copy\n"
   ]
  },
  {
   "cell_type": "code",
   "execution_count": 3,
   "metadata": {},
   "outputs": [
    {
     "data": {
      "text/html": [
       "<div>\n",
       "<style scoped>\n",
       "    .dataframe tbody tr th:only-of-type {\n",
       "        vertical-align: middle;\n",
       "    }\n",
       "\n",
       "    .dataframe tbody tr th {\n",
       "        vertical-align: top;\n",
       "    }\n",
       "\n",
       "    .dataframe thead th {\n",
       "        text-align: right;\n",
       "    }\n",
       "</style>\n",
       "<table border=\"1\" class=\"dataframe\">\n",
       "  <thead>\n",
       "    <tr style=\"text-align: right;\">\n",
       "      <th></th>\n",
       "      <th>gene</th>\n",
       "      <th>ref_codon</th>\n",
       "      <th>alt_codon</th>\n",
       "      <th>pos</th>\n",
       "      <th>ref_aa</th>\n",
       "      <th>codon_num</th>\n",
       "      <th>alt_aa</th>\n",
       "      <th>num_samples</th>\n",
       "      <th>first_detected</th>\n",
       "      <th>last_detected</th>\n",
       "      <th>...</th>\n",
       "      <th>gisaid_last_detected</th>\n",
       "      <th>gisaid_num_locations</th>\n",
       "      <th>gisaid_locations</th>\n",
       "      <th>gisaid_location_counts</th>\n",
       "      <th>gisaid_num_states</th>\n",
       "      <th>gisaid_states</th>\n",
       "      <th>gisaid_state_counts</th>\n",
       "      <th>gisaid_num_countries</th>\n",
       "      <th>gisaid_countries</th>\n",
       "      <th>gisaid_country_counts</th>\n",
       "    </tr>\n",
       "  </thead>\n",
       "  <tbody>\n",
       "    <tr>\n",
       "      <th>0</th>\n",
       "      <td>S</td>\n",
       "      <td>GAT</td>\n",
       "      <td>GGT</td>\n",
       "      <td>23403</td>\n",
       "      <td>D</td>\n",
       "      <td>614</td>\n",
       "      <td>G</td>\n",
       "      <td>3384</td>\n",
       "      <td>2020-03-04</td>\n",
       "      <td>2020-12-29</td>\n",
       "      <td>...</td>\n",
       "      <td>2020-12-31</td>\n",
       "      <td>2507.0</td>\n",
       "      <td>[\"'s-Gravenwezel\", 'A Coruna', 'Aarschot', 'Aa...</td>\n",
       "      <td>[1, 15, 3, 1, 7, 2, 8, 1, 1, 10, 1, 1, 1, 2, 1...</td>\n",
       "      <td>1043.0</td>\n",
       "      <td>['Aalst', 'Aargau', 'Abruzzo', 'Abu Dhabi', 'A...</td>\n",
       "      <td>[5, 278, 107, 831, 17, 1, 2, 1, 1, 29, 11, 50,...</td>\n",
       "      <td>129.0</td>\n",
       "      <td>['Algeria', 'Andorra', 'Argentina', 'Armenia',...</td>\n",
       "      <td>[3, 1, 50, 1, 9, 15065, 692, 126, 507, 8, 2770...</td>\n",
       "    </tr>\n",
       "    <tr>\n",
       "      <th>1</th>\n",
       "      <td>ORF1ab</td>\n",
       "      <td>CTA</td>\n",
       "      <td>TTA</td>\n",
       "      <td>14408</td>\n",
       "      <td>L</td>\n",
       "      <td>4715</td>\n",
       "      <td>L</td>\n",
       "      <td>3384</td>\n",
       "      <td>2020-03-04</td>\n",
       "      <td>2020-12-29</td>\n",
       "      <td>...</td>\n",
       "      <td>2020-12-31</td>\n",
       "      <td>2489.0</td>\n",
       "      <td>[\"'s-Gravenwezel\", 'A Coruna', 'Aarschot', 'Aa...</td>\n",
       "      <td>[1, 15, 3, 1, 6, 2, 8, 1, 10, 1, 1, 1, 2, 12, ...</td>\n",
       "      <td>1028.0</td>\n",
       "      <td>['Aalst', 'Aargau', 'Abruzzo', 'Abu Dhabi', 'A...</td>\n",
       "      <td>[5, 278, 85, 805, 17, 1, 2, 1, 1, 29, 11, 50, ...</td>\n",
       "      <td>128.0</td>\n",
       "      <td>['Algeria', 'Andorra', 'Argentina', 'Armenia',...</td>\n",
       "      <td>[3, 1, 48, 1, 9, 15027, 688, 81, 486, 8, 2769,...</td>\n",
       "    </tr>\n",
       "    <tr>\n",
       "      <th>2</th>\n",
       "      <td>ORF1ab</td>\n",
       "      <td>TTC</td>\n",
       "      <td>TTT</td>\n",
       "      <td>3037</td>\n",
       "      <td>F</td>\n",
       "      <td>924</td>\n",
       "      <td>F</td>\n",
       "      <td>3375</td>\n",
       "      <td>2020-03-04</td>\n",
       "      <td>2020-12-29</td>\n",
       "      <td>...</td>\n",
       "      <td>2020-12-31</td>\n",
       "      <td>2494.0</td>\n",
       "      <td>[\"'s-Gravenwezel\", 'A Coruna', 'Aarschot', 'Aa...</td>\n",
       "      <td>[1, 15, 3, 1, 7, 2, 8, 1, 10, 1, 1, 1, 2, 12, ...</td>\n",
       "      <td>1030.0</td>\n",
       "      <td>['Aalst', 'Aargau', 'Abruzzo', 'Abu Dhabi', 'A...</td>\n",
       "      <td>[5, 267, 107, 774, 17, 1, 2, 1, 1, 29, 11, 50,...</td>\n",
       "      <td>129.0</td>\n",
       "      <td>['Algeria', 'Andorra', 'Argentina', 'Armenia',...</td>\n",
       "      <td>[3, 1, 50, 1, 9, 15053, 679, 124, 485, 6, 2770...</td>\n",
       "    </tr>\n",
       "    <tr>\n",
       "      <th>3</th>\n",
       "      <td>5UTR</td>\n",
       "      <td>CGT</td>\n",
       "      <td>TGT</td>\n",
       "      <td>241</td>\n",
       "      <td>R</td>\n",
       "      <td>81</td>\n",
       "      <td>C</td>\n",
       "      <td>3348</td>\n",
       "      <td>2020-03-04</td>\n",
       "      <td>2020-12-29</td>\n",
       "      <td>...</td>\n",
       "      <td>2020-12-31</td>\n",
       "      <td>2475.0</td>\n",
       "      <td>[\"'s-Gravenwezel\", 'A Coruna', 'Aarschot', 'Aa...</td>\n",
       "      <td>[1, 15, 3, 1, 7, 2, 8, 1, 10, 1, 1, 1, 2, 10, ...</td>\n",
       "      <td>1024.0</td>\n",
       "      <td>['Aalst', 'Aargau', 'Abruzzo', 'Abu Dhabi', 'A...</td>\n",
       "      <td>[5, 275, 104, 835, 17, 1, 2, 1, 29, 1, 11, 50,...</td>\n",
       "      <td>128.0</td>\n",
       "      <td>['Algeria', 'Argentina', 'Armenia', 'Aruba', '...</td>\n",
       "      <td>[3, 50, 1, 9, 13414, 688, 124, 501, 8, 2764, 4...</td>\n",
       "    </tr>\n",
       "    <tr>\n",
       "      <th>4</th>\n",
       "      <td>N</td>\n",
       "      <td>TCA</td>\n",
       "      <td>TTA</td>\n",
       "      <td>28854</td>\n",
       "      <td>S</td>\n",
       "      <td>194</td>\n",
       "      <td>L</td>\n",
       "      <td>1654</td>\n",
       "      <td>2020-03-23</td>\n",
       "      <td>2020-12-17</td>\n",
       "      <td>...</td>\n",
       "      <td>2020-12-31</td>\n",
       "      <td>323.0</td>\n",
       "      <td>['Ahmedabad', 'Alachua County', 'Alameda Count...</td>\n",
       "      <td>[120, 5, 163, 13, 4, 20, 1, 1, 3, 1, 1, 1, 1, ...</td>\n",
       "      <td>300.0</td>\n",
       "      <td>['Aargau', 'Abu Dhabi', 'Agder', 'Aguascalient...</td>\n",
       "      <td>[13, 13, 10, 4, 1, 3, 7, 52, 1, 4, 4, 1, 4, 2,...</td>\n",
       "      <td>68.0</td>\n",
       "      <td>['Aruba', 'Australia', 'Austria', 'Bahrain', '...</td>\n",
       "      <td>[4, 125, 1, 3, 33, 3, 36, 271, 2, 17, 7, 3, 1,...</td>\n",
       "    </tr>\n",
       "  </tbody>\n",
       "</table>\n",
       "<p>5 rows × 25 columns</p>\n",
       "</div>"
      ],
      "text/plain": [
       "     gene ref_codon alt_codon    pos ref_aa  codon_num alt_aa  num_samples  \\\n",
       "0       S       GAT       GGT  23403      D        614      G         3384   \n",
       "1  ORF1ab       CTA       TTA  14408      L       4715      L         3384   \n",
       "2  ORF1ab       TTC       TTT   3037      F        924      F         3375   \n",
       "3    5UTR       CGT       TGT    241      R         81      C         3348   \n",
       "4       N       TCA       TTA  28854      S        194      L         1654   \n",
       "\n",
       "  first_detected last_detected  ...  gisaid_last_detected  \\\n",
       "0     2020-03-04    2020-12-29  ...            2020-12-31   \n",
       "1     2020-03-04    2020-12-29  ...            2020-12-31   \n",
       "2     2020-03-04    2020-12-29  ...            2020-12-31   \n",
       "3     2020-03-04    2020-12-29  ...            2020-12-31   \n",
       "4     2020-03-23    2020-12-17  ...            2020-12-31   \n",
       "\n",
       "  gisaid_num_locations                                   gisaid_locations  \\\n",
       "0               2507.0  [\"'s-Gravenwezel\", 'A Coruna', 'Aarschot', 'Aa...   \n",
       "1               2489.0  [\"'s-Gravenwezel\", 'A Coruna', 'Aarschot', 'Aa...   \n",
       "2               2494.0  [\"'s-Gravenwezel\", 'A Coruna', 'Aarschot', 'Aa...   \n",
       "3               2475.0  [\"'s-Gravenwezel\", 'A Coruna', 'Aarschot', 'Aa...   \n",
       "4                323.0  ['Ahmedabad', 'Alachua County', 'Alameda Count...   \n",
       "\n",
       "                              gisaid_location_counts gisaid_num_states  \\\n",
       "0  [1, 15, 3, 1, 7, 2, 8, 1, 1, 10, 1, 1, 1, 2, 1...            1043.0   \n",
       "1  [1, 15, 3, 1, 6, 2, 8, 1, 10, 1, 1, 1, 2, 12, ...            1028.0   \n",
       "2  [1, 15, 3, 1, 7, 2, 8, 1, 10, 1, 1, 1, 2, 12, ...            1030.0   \n",
       "3  [1, 15, 3, 1, 7, 2, 8, 1, 10, 1, 1, 1, 2, 10, ...            1024.0   \n",
       "4  [120, 5, 163, 13, 4, 20, 1, 1, 3, 1, 1, 1, 1, ...             300.0   \n",
       "\n",
       "                                       gisaid_states  \\\n",
       "0  ['Aalst', 'Aargau', 'Abruzzo', 'Abu Dhabi', 'A...   \n",
       "1  ['Aalst', 'Aargau', 'Abruzzo', 'Abu Dhabi', 'A...   \n",
       "2  ['Aalst', 'Aargau', 'Abruzzo', 'Abu Dhabi', 'A...   \n",
       "3  ['Aalst', 'Aargau', 'Abruzzo', 'Abu Dhabi', 'A...   \n",
       "4  ['Aargau', 'Abu Dhabi', 'Agder', 'Aguascalient...   \n",
       "\n",
       "                                 gisaid_state_counts gisaid_num_countries  \\\n",
       "0  [5, 278, 107, 831, 17, 1, 2, 1, 1, 29, 11, 50,...                129.0   \n",
       "1  [5, 278, 85, 805, 17, 1, 2, 1, 1, 29, 11, 50, ...                128.0   \n",
       "2  [5, 267, 107, 774, 17, 1, 2, 1, 1, 29, 11, 50,...                129.0   \n",
       "3  [5, 275, 104, 835, 17, 1, 2, 1, 29, 1, 11, 50,...                128.0   \n",
       "4  [13, 13, 10, 4, 1, 3, 7, 52, 1, 4, 4, 1, 4, 2,...                 68.0   \n",
       "\n",
       "                                    gisaid_countries  \\\n",
       "0  ['Algeria', 'Andorra', 'Argentina', 'Armenia',...   \n",
       "1  ['Algeria', 'Andorra', 'Argentina', 'Armenia',...   \n",
       "2  ['Algeria', 'Andorra', 'Argentina', 'Armenia',...   \n",
       "3  ['Algeria', 'Argentina', 'Armenia', 'Aruba', '...   \n",
       "4  ['Aruba', 'Australia', 'Austria', 'Bahrain', '...   \n",
       "\n",
       "                               gisaid_country_counts  \n",
       "0  [3, 1, 50, 1, 9, 15065, 692, 126, 507, 8, 2770...  \n",
       "1  [3, 1, 48, 1, 9, 15027, 688, 81, 486, 8, 2769,...  \n",
       "2  [3, 1, 50, 1, 9, 15053, 679, 124, 485, 6, 2770...  \n",
       "3  [3, 50, 1, 9, 13414, 688, 124, 501, 8, 2764, 4...  \n",
       "4  [4, 125, 1, 3, 33, 3, 36, 271, 2, 17, 7, 3, 1,...  \n",
       "\n",
       "[5 rows x 25 columns]"
      ]
     },
     "execution_count": 3,
     "metadata": {},
     "output_type": "execute_result"
    }
   ],
   "source": [
    "df = pd.read_csv('/home/al/code/HCoV-19-Genomics/variants/substitutions_01-01-2021.csv')\n",
    "df.head()"
   ]
  },
  {
   "cell_type": "code",
   "execution_count": 5,
   "metadata": {},
   "outputs": [
    {
     "data": {
      "text/plain": [
       "\"['MG0987' 'PC00101P' 'SEARCH-0007-SAN' ... 'SEARCH-5570-SAN'\\n 'SEARCH-5573-SAN' 'SEARCH-5574-SAN']\""
      ]
     },
     "execution_count": 5,
     "metadata": {},
     "output_type": "execute_result"
    }
   ],
   "source": [
    "df['samples']"
   ]
  },
  {
   "cell_type": "code",
   "execution_count": 89,
   "metadata": {},
   "outputs": [],
   "source": [
    "msa_fp = Path('/home/al/analysis/mutations/S501Y/msa_reference.fa')"
   ]
  },
  {
   "cell_type": "code",
   "execution_count": 90,
   "metadata": {},
   "outputs": [],
   "source": [
    "patient_zero = 'NC_045512.2'"
   ]
  },
  {
   "cell_type": "code",
   "execution_count": 3,
   "metadata": {},
   "outputs": [
    {
     "data": {
      "text/plain": [
       "'/home/al/analysis/mutations/alab_git/b117/b117_seqs_aligned.fa'"
      ]
     },
     "execution_count": 3,
     "metadata": {},
     "output_type": "execute_result"
    }
   ],
   "source": [
    "fa_fp = Path('/home/al/analysis/mutations/alab_git/b117/b117_seqs.fasta')\n",
    "ref_fp = '/home/al/data/test_inputs/NC045512.fasta'\n",
    "\n",
    "align_fasta_reference(fa_fp, num_cpus=20, ref_fp=ref_fp)"
   ]
  },
  {
   "cell_type": "code",
   "execution_count": 91,
   "metadata": {},
   "outputs": [],
   "source": [
    "cns = AlignIO.read(msa_fp, 'fasta')\n"
   ]
  },
  {
   "cell_type": "code",
   "execution_count": 94,
   "metadata": {},
   "outputs": [
    {
     "data": {
      "text/plain": [
       "Index(['strain', 'virus', 'gisaid_epi_isl', 'genbank_accession', 'date',\n",
       "       'region', 'country', 'division', 'location', 'region_exposure',\n",
       "       'country_exposure', 'division_exposure', 'segment', 'length', 'host',\n",
       "       'age', 'sex', 'Nextstrain_clade', 'pangolin_lineage', 'GISAID_clade',\n",
       "       'originating_lab', 'submitting_lab', 'authors', 'url', 'title',\n",
       "       'paper_url', 'date_submitted'],\n",
       "      dtype='object')"
      ]
     },
     "execution_count": 94,
     "metadata": {},
     "output_type": "execute_result"
    }
   ],
   "source": [
    "meta.columns"
   ]
  },
  {
   "cell_type": "code",
   "execution_count": 100,
   "metadata": {},
   "outputs": [
    {
     "data": {
      "text/plain": [
       "6891"
      ]
     },
     "execution_count": 100,
     "metadata": {},
     "output_type": "execute_result"
    }
   ],
   "source": [
    "meta = pd.read_csv('/home/al/analysis/mutations/alab_git/nextstrain_groups_neherlab_ncov_S.N501_metadata.tsv', sep='\\t')\n",
    "strains = meta['Strain'].unique().tolist()\n",
    "len(strains)"
   ]
  },
  {
   "cell_type": "code",
   "execution_count": 108,
   "metadata": {},
   "outputs": [],
   "source": [
    "subs = pd.read_csv(\"/home/al/analysis/mutations/gisaid/gisaid_replacements_19-12-2020.csv\")\n",
    "subs = subs[subs['idx'].isin(strains)]"
   ]
  },
  {
   "cell_type": "code",
   "execution_count": 109,
   "metadata": {},
   "outputs": [
    {
     "data": {
      "text/plain": [
       "Index(['idx', 'replacements', 'pos', 'gene', 'codon_num', 'ref_codon',\n",
       "       'alt_codon', 'ref_aa', 'alt_aa', 'strain', 'virus', 'gisaid_epi_isl',\n",
       "       'genbank_accession', 'date', 'region', 'country', 'division',\n",
       "       'location', 'region_exposure', 'country_exposure', 'division_exposure',\n",
       "       'segment', 'length', 'host', 'age', 'sex', 'Nextstrain_clade',\n",
       "       'pangolin_lineage', 'GISAID_clade', 'originating_lab', 'submitting_lab',\n",
       "       'authors', 'url', 'title', 'paper_url', 'date_submitted', 'month',\n",
       "       'mutation'],\n",
       "      dtype='object')"
      ]
     },
     "execution_count": 109,
     "metadata": {},
     "output_type": "execute_result"
    }
   ],
   "source": [
    "subs.columns"
   ]
  },
  {
   "cell_type": "code",
   "execution_count": 111,
   "metadata": {},
   "outputs": [],
   "source": [
    "# aggregate on each substitutions, compute number of samples and other attributes\n",
    "subs = (subs.groupby(['gene', 'ref_codon', 'alt_codon', 'pos', 'ref_aa', \n",
    "                        'codon_num', 'alt_aa'])\n",
    ".agg(\n",
    " num_samples=('idx', 'nunique'),\n",
    " first_detected=('date', 'min'),\n",
    " last_detected=('date', 'max'),\n",
    "#      locations=('location', uniq_locs),\n",
    " location_counts=('location', \n",
    "                  lambda x: np.unique(x, return_counts=True)),\n",
    " samples=('idx', 'unique')\n",
    ")\n",
    ".reset_index())\n",
    "subs['locations'] = subs['location_counts'].apply(lambda x: list(x[0]))\n",
    "subs['location_counts'] = subs['location_counts'].apply(lambda x: list(x[1]))"
   ]
  },
  {
   "cell_type": "code",
   "execution_count": 114,
   "metadata": {},
   "outputs": [],
   "source": [
    "positions = [26729, 28856, 1058, 17614, 15095, 17596, 26059, 24022]"
   ]
  },
  {
   "cell_type": "code",
   "execution_count": 115,
   "metadata": {},
   "outputs": [
    {
     "data": {
      "text/html": [
       "<div>\n",
       "<style scoped>\n",
       "    .dataframe tbody tr th:only-of-type {\n",
       "        vertical-align: middle;\n",
       "    }\n",
       "\n",
       "    .dataframe tbody tr th {\n",
       "        vertical-align: top;\n",
       "    }\n",
       "\n",
       "    .dataframe thead th {\n",
       "        text-align: right;\n",
       "    }\n",
       "</style>\n",
       "<table border=\"1\" class=\"dataframe\">\n",
       "  <thead>\n",
       "    <tr style=\"text-align: right;\">\n",
       "      <th></th>\n",
       "      <th>gene</th>\n",
       "      <th>ref_codon</th>\n",
       "      <th>alt_codon</th>\n",
       "      <th>pos</th>\n",
       "      <th>ref_aa</th>\n",
       "      <th>codon_num</th>\n",
       "      <th>alt_aa</th>\n",
       "      <th>num_samples</th>\n",
       "      <th>first_detected</th>\n",
       "      <th>last_detected</th>\n",
       "      <th>location_counts</th>\n",
       "      <th>samples</th>\n",
       "      <th>locations</th>\n",
       "    </tr>\n",
       "  </thead>\n",
       "  <tbody>\n",
       "    <tr>\n",
       "      <th>293</th>\n",
       "      <td>M</td>\n",
       "      <td>GTT</td>\n",
       "      <td>CTT</td>\n",
       "      <td>26729</td>\n",
       "      <td>V</td>\n",
       "      <td>70</td>\n",
       "      <td>L</td>\n",
       "      <td>16</td>\n",
       "      <td>2020-11-25</td>\n",
       "      <td>2020-12-17</td>\n",
       "      <td>[16]</td>\n",
       "      <td>[England/ALDP-B5B4D2/2020, England/MILK-B55793...</td>\n",
       "      <td>[unk]</td>\n",
       "    </tr>\n",
       "    <tr>\n",
       "      <th>294</th>\n",
       "      <td>M</td>\n",
       "      <td>GTT</td>\n",
       "      <td>TTT</td>\n",
       "      <td>26729</td>\n",
       "      <td>V</td>\n",
       "      <td>70</td>\n",
       "      <td>F</td>\n",
       "      <td>2</td>\n",
       "      <td>2020-08-26</td>\n",
       "      <td>2020-12-09</td>\n",
       "      <td>[1, 1]</td>\n",
       "      <td>[mink/Netherlands/NB-EMC-22-1/2020, USA/NY-NYC...</td>\n",
       "      <td>[New York City, unk]</td>\n",
       "    </tr>\n",
       "    <tr>\n",
       "      <th>740</th>\n",
       "      <td>ORF1ab</td>\n",
       "      <td>ACC</td>\n",
       "      <td>ATC</td>\n",
       "      <td>1058</td>\n",
       "      <td>T</td>\n",
       "      <td>265</td>\n",
       "      <td>I</td>\n",
       "      <td>378</td>\n",
       "      <td>2020-03-27</td>\n",
       "      <td>2020-12-19</td>\n",
       "      <td>[16, 1, 2, 1, 3, 4, 1, 59, 3, 1, 1, 1, 3, 1, 3...</td>\n",
       "      <td>[Iceland/84/2020, Iceland/219/2020, Senegal/00...</td>\n",
       "      <td>[Bitou, Brisbane, Brooklyn, Cali, Chris Hani, ...</td>\n",
       "    </tr>\n",
       "    <tr>\n",
       "      <th>866</th>\n",
       "      <td>ORF1ab</td>\n",
       "      <td>AGC</td>\n",
       "      <td>GGC</td>\n",
       "      <td>17614</td>\n",
       "      <td>S</td>\n",
       "      <td>5784</td>\n",
       "      <td>G</td>\n",
       "      <td>926</td>\n",
       "      <td>2020-10-27</td>\n",
       "      <td>2020-12-19</td>\n",
       "      <td>[2, 924]</td>\n",
       "      <td>[England/CAMC-A58BA4/2020, England/MILK-A06237...</td>\n",
       "      <td>[Sydney, unk]</td>\n",
       "    </tr>\n",
       "    <tr>\n",
       "      <th>910</th>\n",
       "      <td>ORF1ab</td>\n",
       "      <td>ATA</td>\n",
       "      <td>ACA</td>\n",
       "      <td>15095</td>\n",
       "      <td>I</td>\n",
       "      <td>4944</td>\n",
       "      <td>T</td>\n",
       "      <td>25</td>\n",
       "      <td>2020-11-20</td>\n",
       "      <td>2020-12-17</td>\n",
       "      <td>[25]</td>\n",
       "      <td>[England/CAMC-B215A5/2020, England/CAMC-B21587...</td>\n",
       "      <td>[unk]</td>\n",
       "    </tr>\n",
       "    <tr>\n",
       "      <th>2182</th>\n",
       "      <td>ORF3a</td>\n",
       "      <td>ACT</td>\n",
       "      <td>ATT</td>\n",
       "      <td>26059</td>\n",
       "      <td>T</td>\n",
       "      <td>223</td>\n",
       "      <td>I</td>\n",
       "      <td>19</td>\n",
       "      <td>2020-10-27</td>\n",
       "      <td>2020-12-19</td>\n",
       "      <td>[14, 1, 4]</td>\n",
       "      <td>[USA/MI-UM-10036367756/2020, USA/MI-UM-1003641...</td>\n",
       "      <td>[Cape Town, Sydney, unk]</td>\n",
       "    </tr>\n",
       "  </tbody>\n",
       "</table>\n",
       "</div>"
      ],
      "text/plain": [
       "        gene ref_codon alt_codon    pos ref_aa  codon_num alt_aa  num_samples  \\\n",
       "293        M       GTT       CTT  26729      V         70      L           16   \n",
       "294        M       GTT       TTT  26729      V         70      F            2   \n",
       "740   ORF1ab       ACC       ATC   1058      T        265      I          378   \n",
       "866   ORF1ab       AGC       GGC  17614      S       5784      G          926   \n",
       "910   ORF1ab       ATA       ACA  15095      I       4944      T           25   \n",
       "2182   ORF3a       ACT       ATT  26059      T        223      I           19   \n",
       "\n",
       "     first_detected last_detected  \\\n",
       "293      2020-11-25    2020-12-17   \n",
       "294      2020-08-26    2020-12-09   \n",
       "740      2020-03-27    2020-12-19   \n",
       "866      2020-10-27    2020-12-19   \n",
       "910      2020-11-20    2020-12-17   \n",
       "2182     2020-10-27    2020-12-19   \n",
       "\n",
       "                                        location_counts  \\\n",
       "293                                                [16]   \n",
       "294                                              [1, 1]   \n",
       "740   [16, 1, 2, 1, 3, 4, 1, 59, 3, 1, 1, 1, 3, 1, 3...   \n",
       "866                                            [2, 924]   \n",
       "910                                                [25]   \n",
       "2182                                         [14, 1, 4]   \n",
       "\n",
       "                                                samples  \\\n",
       "293   [England/ALDP-B5B4D2/2020, England/MILK-B55793...   \n",
       "294   [mink/Netherlands/NB-EMC-22-1/2020, USA/NY-NYC...   \n",
       "740   [Iceland/84/2020, Iceland/219/2020, Senegal/00...   \n",
       "866   [England/CAMC-A58BA4/2020, England/MILK-A06237...   \n",
       "910   [England/CAMC-B215A5/2020, England/CAMC-B21587...   \n",
       "2182  [USA/MI-UM-10036367756/2020, USA/MI-UM-1003641...   \n",
       "\n",
       "                                              locations  \n",
       "293                                               [unk]  \n",
       "294                                [New York City, unk]  \n",
       "740   [Bitou, Brisbane, Brooklyn, Cali, Chris Hani, ...  \n",
       "866                                       [Sydney, unk]  \n",
       "910                                               [unk]  \n",
       "2182                           [Cape Town, Sydney, unk]  "
      ]
     },
     "execution_count": 115,
     "metadata": {},
     "output_type": "execute_result"
    }
   ],
   "source": [
    "subs.loc[subs['pos'].isin(positions)]"
   ]
  },
  {
   "cell_type": "code",
   "execution_count": null,
   "metadata": {},
   "outputs": [],
   "source": [
    "for rec in cns:\n",
    "    if rec.name in "
   ]
  },
  {
   "cell_type": "code",
   "execution_count": 86,
   "metadata": {},
   "outputs": [
    {
     "ename": "ValueError",
     "evalue": "No records found in handle",
     "output_type": "error",
     "traceback": [
      "\u001b[0;31m---------------------------------------------------------------------------\u001b[0m",
      "\u001b[0;31mValueError\u001b[0m                                Traceback (most recent call last)",
      "\u001b[0;32m<ipython-input-86-9d5d76230196>\u001b[0m in \u001b[0;36m<module>\u001b[0;34m\u001b[0m\n\u001b[0;32m----> 1\u001b[0;31m \u001b[0mcns\u001b[0m \u001b[0;34m=\u001b[0m \u001b[0mAlignIO\u001b[0m\u001b[0;34m.\u001b[0m\u001b[0mread\u001b[0m\u001b[0;34m(\u001b[0m\u001b[0mmsa_fp\u001b[0m\u001b[0;34m,\u001b[0m \u001b[0;34m'fasta'\u001b[0m\u001b[0;34m)\u001b[0m\u001b[0;34m\u001b[0m\u001b[0;34m\u001b[0m\u001b[0m\n\u001b[0m\u001b[1;32m      2\u001b[0m \u001b[0mprint\u001b[0m\u001b[0;34m(\u001b[0m\u001b[0;34mf\"Initial cleaning...\"\u001b[0m\u001b[0;34m)\u001b[0m\u001b[0;34m\u001b[0m\u001b[0;34m\u001b[0m\u001b[0m\n\u001b[1;32m      3\u001b[0m seqs, ref_seq = process_cns_seqs(cns, patient_zero,\n\u001b[1;32m      4\u001b[0m                                  start_pos=0, end_pos=30000)\n",
      "\u001b[0;32m~/anaconda3/lib/python3.8/site-packages/Bio/AlignIO/__init__.py\u001b[0m in \u001b[0;36mread\u001b[0;34m(handle, format, seq_count, alphabet)\u001b[0m\n\u001b[1;32m    449\u001b[0m         \u001b[0mfirst\u001b[0m \u001b[0;34m=\u001b[0m \u001b[0;32mNone\u001b[0m\u001b[0;34m\u001b[0m\u001b[0;34m\u001b[0m\u001b[0m\n\u001b[1;32m    450\u001b[0m     \u001b[0;32mif\u001b[0m \u001b[0mfirst\u001b[0m \u001b[0;32mis\u001b[0m \u001b[0;32mNone\u001b[0m\u001b[0;34m:\u001b[0m\u001b[0;34m\u001b[0m\u001b[0;34m\u001b[0m\u001b[0m\n\u001b[0;32m--> 451\u001b[0;31m         \u001b[0;32mraise\u001b[0m \u001b[0mValueError\u001b[0m\u001b[0;34m(\u001b[0m\u001b[0;34m\"No records found in handle\"\u001b[0m\u001b[0;34m)\u001b[0m\u001b[0;34m\u001b[0m\u001b[0;34m\u001b[0m\u001b[0m\n\u001b[0m\u001b[1;32m    452\u001b[0m     \u001b[0;32mtry\u001b[0m\u001b[0;34m:\u001b[0m\u001b[0;34m\u001b[0m\u001b[0;34m\u001b[0m\u001b[0m\n\u001b[1;32m    453\u001b[0m         \u001b[0msecond\u001b[0m \u001b[0;34m=\u001b[0m \u001b[0mnext\u001b[0m\u001b[0;34m(\u001b[0m\u001b[0miterator\u001b[0m\u001b[0;34m)\u001b[0m\u001b[0;34m\u001b[0m\u001b[0;34m\u001b[0m\u001b[0m\n",
      "\u001b[0;31mValueError\u001b[0m: No records found in handle"
     ]
    }
   ],
   "source": [
    "print(f\"Initial cleaning...\")\n",
    "seqs, ref_seq = process_cns_seqs(cns, patient_zero,\n",
    "                                 start_pos=0, end_pos=30000)"
   ]
  },
  {
   "cell_type": "code",
   "execution_count": 47,
   "metadata": {},
   "outputs": [
    {
     "name": "stdout",
     "output_type": "stream",
     "text": [
      "Identifying mutations...\n",
      "Mapping Genes to mutations...\n",
      "Compute codon numbers...\n",
      "Fetch reference codon...\n",
      "Fetch alternative codon...\n",
      "Map amino acids...\n",
      "Fuse with metadata...\n"
     ]
    }
   ],
   "source": [
    "seqsdf = identify_replacements_per_sample(seqs, None, ref_seq, GENE2POS)"
   ]
  },
  {
   "cell_type": "code",
   "execution_count": 48,
   "metadata": {},
   "outputs": [
    {
     "data": {
      "text/plain": [
       "Index(['idx', 'sequence', 'replacements', 'pos', 'gene', 'codon_num',\n",
       "       'ref_codon', 'alt_codon', 'ref_aa', 'alt_aa'],\n",
       "      dtype='object')"
      ]
     },
     "execution_count": 48,
     "metadata": {},
     "output_type": "execute_result"
    }
   ],
   "source": [
    "seqsdf.columns"
   ]
  },
  {
   "cell_type": "code",
   "execution_count": 49,
   "metadata": {},
   "outputs": [],
   "source": [
    "subs = (seqsdf.groupby(['gene', 'ref_codon', 'alt_codon', 'pos', 'ref_aa', \n",
    "                            'codon_num', 'alt_aa'])\n",
    "    .agg(\n",
    "     num_samples=('idx', 'nunique'),\n",
    "#      first_detected=('date', 'min'),\n",
    "#      last_detected=('date', 'max'),\n",
    "#      locations=('location', uniq_locs),\n",
    "#      location_counts=('location', \n",
    "#                       lambda x: np.unique(x, return_counts=True)),\n",
    "     samples=('idx', 'unique')\n",
    "    )\n",
    "    .reset_index())"
   ]
  },
  {
   "cell_type": "code",
   "execution_count": 51,
   "metadata": {},
   "outputs": [],
   "source": [
    "subs.to_csv('b117_usa_substitutions.csv', index=False)"
   ]
  },
  {
   "cell_type": "code",
   "execution_count": 70,
   "metadata": {},
   "outputs": [],
   "source": [
    "# dels\n",
    "start_pos = 265\n",
    "end_pos =29674\n",
    "gene2pos = GENE2POS"
   ]
  },
  {
   "cell_type": "code",
   "execution_count": 71,
   "metadata": {},
   "outputs": [],
   "source": [
    "seqs, ref_seq = process_cns_seqs(cns, patient_zero, start_pos, end_pos)\n",
    "dels = identify_deletions_per_sample(seqs, None, 1)\n"
   ]
  },
  {
   "cell_type": "code",
   "execution_count": 72,
   "metadata": {},
   "outputs": [],
   "source": [
    "del_seqs = (dels.groupby(['relative_coords', 'del_len'])\n",
    "                    .agg(samples=('idx', 'unique'),\n",
    "                         num_samples=('idx', 'nunique'))\n",
    "#                          first_detected=('date', 'min'),\n",
    "#                          last_detected=('date', 'max'),\n",
    "#                              locations=('location', uniq_locs),\n",
    "#                          location_counts=('location', \n",
    "#                                           lambda x: np.unique(x, return_counts=True)))\n",
    "                    .reset_index()\n",
    "                    .sort_values('num_samples'))\n",
    "# del_seqs['locations'] = del_seqs['location_counts'].apply(lambda x: list(x[0]))\n",
    "# del_seqs['location_counts'] = del_seqs['location_counts'].apply(lambda x: list(x[1]))\n",
    "del_seqs['type'] = 'deletion'\n",
    "# adjust coordinates to account for the nts trimmed from beginning e.g. 265nts\n",
    "del_seqs['absolute_coords'] = del_seqs['relative_coords'].apply(adjust_coords, args=(start_pos+1,))\n",
    "del_seqs['pos'] = del_seqs['absolute_coords'].apply(lambda x: int(x.split(':')[0]))\n",
    "# approximate the gene where each deletion was identified\n",
    "del_seqs['gene'] = del_seqs['pos'].apply(map_gene_to_pos)\n",
    "del_seqs = del_seqs.loc[~del_seqs['gene'].isna()]\n",
    "# filter our substitutions in non-gene positions\n",
    "del_seqs = del_seqs.loc[del_seqs['gene']!='nan']\n",
    "# compute codon number of each substitution\n",
    "del_seqs['codon_num'] = del_seqs.apply(compute_codon_num, args=(gene2pos,), axis=1)\n",
    "# fetch the reference codon for each substitution\n",
    "del_seqs['ref_codon'] = del_seqs.apply(get_ref_codon, args=(ref_seq, gene2pos), axis=1)\n",
    "# fetch the reference and alternative amino acids\n",
    "del_seqs['ref_aa'] = del_seqs['ref_codon'].apply(get_aa)\n",
    "# record the 5 nts before each deletion (based on reference seq)\n",
    "del_seqs['prev_5nts'] = del_seqs['absolute_coords'].apply(lambda x: ref_seq[int(x.split(':')[0])-5:int(x.split(':')[0])])\n",
    "# record the 5 nts after each deletion (based on reference seq)\n",
    "del_seqs['next_5nts'] = del_seqs['absolute_coords'].apply(lambda x: ref_seq[int(x.split(':')[1])+1:int(x.split(':')[1])+6])\n",
    "del_seqs[['type', 'gene', 'absolute_coords', 'del_len', 'pos', \n",
    "                 'ref_aa', 'codon_num', 'num_samples','samples',\n",
    "                 'ref_codon', 'prev_5nts', 'next_5nts'\n",
    "                 ]].to_csv('b117_usa_deletions.csv', index=False)"
   ]
  },
  {
   "cell_type": "code",
   "execution_count": 34,
   "metadata": {},
   "outputs": [],
   "source": [
    "in_dir = Path('/home/al/code/HCoV-19-Genomics/consensus_sequences/')\n",
    "out_dir = Path('/home/al/analysis/mutations/alab_git/cns_seqs')\n",
    "ref_fp = '/home/al/data/test_inputs/NC045512.fasta'\n",
    "# fa_fp = concat_fasta(in_dir, out_dir)"
   ]
  },
  {
   "cell_type": "code",
   "execution_count": 35,
   "metadata": {},
   "outputs": [],
   "source": [
    "# align_fasta_reference(fa_fp, num_cpus=25, ref_fp=ref_fp)"
   ]
  },
  {
   "cell_type": "code",
   "execution_count": 36,
   "metadata": {},
   "outputs": [
    {
     "data": {
      "text/plain": [
       "Path('/home/al/code/HCoV-19-Genomics/consensus_sequences/SEARCH-0247-SAN.fa')"
      ]
     },
     "execution_count": 36,
     "metadata": {},
     "output_type": "execute_result"
    }
   ],
   "source": [
    "in_dir.listdir()[0]"
   ]
  },
  {
   "cell_type": "code",
   "execution_count": 37,
   "metadata": {},
   "outputs": [],
   "source": [
    "for filename in in_dir.listdir():\n",
    "    if ((filename.endswith('fa') or filename.endswith('fasta')) and ('JOR' not in filename)):\n",
    "        copy(filename, '/home/al/analysis/mutations/alab_git/b117/fa')"
   ]
  },
  {
   "cell_type": "code",
   "execution_count": 25,
   "metadata": {},
   "outputs": [],
   "source": [
    "meta = pd.read_csv('/home/al/analysis/mutations/alab_git/nextstrain_groups_neherlab_ncov_S.N501_metadata.tsv', sep='\\t')"
   ]
  },
  {
   "cell_type": "code",
   "execution_count": 26,
   "metadata": {},
   "outputs": [
    {
     "data": {
      "text/plain": [
       "6891"
      ]
     },
     "execution_count": 26,
     "metadata": {},
     "output_type": "execute_result"
    }
   ],
   "source": [
    "strains = meta['Strain'].unique().tolist()\n",
    "len(strains)"
   ]
  },
  {
   "cell_type": "code",
   "execution_count": 28,
   "metadata": {},
   "outputs": [],
   "source": [
    "gisaid_seqs = Path('/home/al/analysis/mutations/gisaid/data/sequences_2020-12-29_08-08.fasta')\n",
    "seqs_data = SeqIO.to_dict(SeqIO.parse(gisaid_seqs, \"fasta\"))"
   ]
  },
  {
   "cell_type": "code",
   "execution_count": 29,
   "metadata": {},
   "outputs": [
    {
     "data": {
      "text/plain": [
       "295507"
      ]
     },
     "execution_count": 29,
     "metadata": {},
     "output_type": "execute_result"
    }
   ],
   "source": [
    "len(seqs_data.keys())"
   ]
  },
  {
   "cell_type": "code",
   "execution_count": 33,
   "metadata": {},
   "outputs": [
    {
     "data": {
      "text/plain": [
       "6891"
      ]
     },
     "execution_count": 33,
     "metadata": {},
     "output_type": "execute_result"
    }
   ],
   "source": [
    "my_seqs = {}\n",
    "for name in seqs_data.keys():\n",
    "    if name in strains:\n",
    "        my_seqs[name] = seqs_data[name]\n",
    "len(my_seqs)"
   ]
  },
  {
   "cell_type": "code",
   "execution_count": 41,
   "metadata": {},
   "outputs": [],
   "source": [
    "out_dir = Path('/home/al/analysis/mutations/alab_git/b117')"
   ]
  },
  {
   "cell_type": "code",
   "execution_count": 39,
   "metadata": {},
   "outputs": [],
   "source": [
    "with open(out_dir/'b117_seqs.fa', 'w') as handle:\n",
    "    SeqIO.write(my_seqs.values(), handle, 'fasta')"
   ]
  },
  {
   "cell_type": "code",
   "execution_count": 40,
   "metadata": {},
   "outputs": [
    {
     "data": {
      "text/plain": [
       "'/home/al/analysis/mutations/alab_git/b117/alab_usa.fa'"
      ]
     },
     "execution_count": 40,
     "metadata": {},
     "output_type": "execute_result"
    }
   ],
   "source": [
    "concat_fasta('/home/al/analysis/mutations/alab_git/b117/fa', \n",
    "            '/home/al/analysis/mutations/alab_git/b117/alab_usa')"
   ]
  },
  {
   "cell_type": "code",
   "execution_count": null,
   "metadata": {},
   "outputs": [],
   "source": [
    "fasta_filepath = out_dir/'b117_seqs.fa'\n",
    "align_fasta_reference(fasta_filepath, ref_fp=)"
   ]
  },
  {
   "cell_type": "code",
   "execution_count": null,
   "metadata": {},
   "outputs": [],
   "source": [
    "consensus_data = SeqIO.to_dict(SeqIO.parse(aligned_seqs, \"fasta\"))"
   ]
  },
  {
   "cell_type": "code",
   "execution_count": 43,
   "metadata": {},
   "outputs": [],
   "source": [
    "fa_fp = Path('/home/al/analysis/mutations/alab_git/b117/b117_usa.fasta')\n",
    "msa_fp = align_fasta_reference(fa_fp, ref_fp='/home/al/data/test_inputs/NC045512.fasta')"
   ]
  },
  {
   "cell_type": "code",
   "execution_count": null,
   "metadata": {},
   "outputs": [],
   "source": [
    "msa_fp = "
   ]
  },
  {
   "cell_type": "code",
   "execution_count": 44,
   "metadata": {},
   "outputs": [],
   "source": [
    "patient_zero = 'NC_045512.2'"
   ]
  },
  {
   "cell_type": "code",
   "execution_count": 45,
   "metadata": {},
   "outputs": [
    {
     "name": "stdout",
     "output_type": "stream",
     "text": [
      "Initial cleaning...\n"
     ]
    }
   ],
   "source": [
    "cns = AlignIO.read(msa_fp, 'fasta')\n",
    "print(f\"Initial cleaning...\")\n",
    "seqs, ref_seq = process_cns_seqs(cns, patient_zero,\n",
    "                                 start_pos=0, end_pos=30000)"
   ]
  },
  {
   "cell_type": "code",
   "execution_count": null,
   "metadata": {},
   "outputs": [],
   "source": []
  },
  {
   "cell_type": "code",
   "execution_count": 47,
   "metadata": {},
   "outputs": [
    {
     "name": "stdout",
     "output_type": "stream",
     "text": [
      "Identifying mutations...\n",
      "Mapping Genes to mutations...\n",
      "Compute codon numbers...\n",
      "Fetch reference codon...\n",
      "Fetch alternative codon...\n",
      "Map amino acids...\n",
      "Fuse with metadata...\n"
     ]
    }
   ],
   "source": [
    "seqsdf = identify_replacements_per_sample(seqs, None, ref_seq, GENE2POS)"
   ]
  },
  {
   "cell_type": "code",
   "execution_count": 48,
   "metadata": {},
   "outputs": [
    {
     "data": {
      "text/plain": [
       "Index(['idx', 'sequence', 'replacements', 'pos', 'gene', 'codon_num',\n",
       "       'ref_codon', 'alt_codon', 'ref_aa', 'alt_aa'],\n",
       "      dtype='object')"
      ]
     },
     "execution_count": 48,
     "metadata": {},
     "output_type": "execute_result"
    }
   ],
   "source": [
    "seqsdf.columns"
   ]
  },
  {
   "cell_type": "code",
   "execution_count": 49,
   "metadata": {},
   "outputs": [],
   "source": [
    "subs = (seqsdf.groupby(['gene', 'ref_codon', 'alt_codon', 'pos', 'ref_aa', \n",
    "                            'codon_num', 'alt_aa'])\n",
    "    .agg(\n",
    "     num_samples=('idx', 'nunique'),\n",
    "#      first_detected=('date', 'min'),\n",
    "#      last_detected=('date', 'max'),\n",
    "#      locations=('location', uniq_locs),\n",
    "#      location_counts=('location', \n",
    "#                       lambda x: np.unique(x, return_counts=True)),\n",
    "     samples=('idx', 'unique')\n",
    "    )\n",
    "    .reset_index())"
   ]
  },
  {
   "cell_type": "code",
   "execution_count": 51,
   "metadata": {},
   "outputs": [],
   "source": [
    "subs.to_csv('b117_usa_substitutions.csv', index=False)"
   ]
  },
  {
   "cell_type": "code",
   "execution_count": 70,
   "metadata": {},
   "outputs": [],
   "source": [
    "# dels\n",
    "start_pos = 265\n",
    "end_pos =29674\n",
    "gene2pos = GENE2POS"
   ]
  },
  {
   "cell_type": "code",
   "execution_count": 71,
   "metadata": {},
   "outputs": [],
   "source": [
    "seqs, ref_seq = process_cns_seqs(cns, patient_zero, start_pos, end_pos)\n",
    "dels = identify_deletions_per_sample(seqs, None, 1)\n"
   ]
  },
  {
   "cell_type": "code",
   "execution_count": 72,
   "metadata": {},
   "outputs": [],
   "source": [
    "del_seqs = (dels.groupby(['relative_coords', 'del_len'])\n",
    "                    .agg(samples=('idx', 'unique'),\n",
    "                         num_samples=('idx', 'nunique'))\n",
    "#                          first_detected=('date', 'min'),\n",
    "#                          last_detected=('date', 'max'),\n",
    "#                              locations=('location', uniq_locs),\n",
    "#                          location_counts=('location', \n",
    "#                                           lambda x: np.unique(x, return_counts=True)))\n",
    "                    .reset_index()\n",
    "                    .sort_values('num_samples'))\n",
    "# del_seqs['locations'] = del_seqs['location_counts'].apply(lambda x: list(x[0]))\n",
    "# del_seqs['location_counts'] = del_seqs['location_counts'].apply(lambda x: list(x[1]))\n",
    "del_seqs['type'] = 'deletion'\n",
    "# adjust coordinates to account for the nts trimmed from beginning e.g. 265nts\n",
    "del_seqs['absolute_coords'] = del_seqs['relative_coords'].apply(adjust_coords, args=(start_pos+1,))\n",
    "del_seqs['pos'] = del_seqs['absolute_coords'].apply(lambda x: int(x.split(':')[0]))\n",
    "# approximate the gene where each deletion was identified\n",
    "del_seqs['gene'] = del_seqs['pos'].apply(map_gene_to_pos)\n",
    "del_seqs = del_seqs.loc[~del_seqs['gene'].isna()]\n",
    "# filter our substitutions in non-gene positions\n",
    "del_seqs = del_seqs.loc[del_seqs['gene']!='nan']\n",
    "# compute codon number of each substitution\n",
    "del_seqs['codon_num'] = del_seqs.apply(compute_codon_num, args=(gene2pos,), axis=1)\n",
    "# fetch the reference codon for each substitution\n",
    "del_seqs['ref_codon'] = del_seqs.apply(get_ref_codon, args=(ref_seq, gene2pos), axis=1)\n",
    "# fetch the reference and alternative amino acids\n",
    "del_seqs['ref_aa'] = del_seqs['ref_codon'].apply(get_aa)\n",
    "# record the 5 nts before each deletion (based on reference seq)\n",
    "del_seqs['prev_5nts'] = del_seqs['absolute_coords'].apply(lambda x: ref_seq[int(x.split(':')[0])-5:int(x.split(':')[0])])\n",
    "# record the 5 nts after each deletion (based on reference seq)\n",
    "del_seqs['next_5nts'] = del_seqs['absolute_coords'].apply(lambda x: ref_seq[int(x.split(':')[1])+1:int(x.split(':')[1])+6])\n",
    "del_seqs[['type', 'gene', 'absolute_coords', 'del_len', 'pos', \n",
    "                 'ref_aa', 'codon_num', 'num_samples','samples',\n",
    "                 'ref_codon', 'prev_5nts', 'next_5nts'\n",
    "                 ]].to_csv('b117_usa_deletions.csv', index=False)"
   ]
  },
  {
   "cell_type": "code",
   "execution_count": 74,
   "metadata": {},
   "outputs": [],
   "source": [
    "del_seqs[['type', 'gene', 'absolute_coords', 'del_len', 'pos', \n",
    "                 'ref_aa', 'codon_num', 'num_samples','samples',\n",
    "                 'ref_codon', 'prev_5nts', 'next_5nts'\n",
    "                 ]].to_csv('b117_usa_deletions.csv', index=False)"
   ]
  },
  {
   "cell_type": "code",
   "execution_count": 62,
   "metadata": {},
   "outputs": [
    {
     "data": {
      "text/html": [
       "<div>\n",
       "<style scoped>\n",
       "    .dataframe tbody tr th:only-of-type {\n",
       "        vertical-align: middle;\n",
       "    }\n",
       "\n",
       "    .dataframe tbody tr th {\n",
       "        vertical-align: top;\n",
       "    }\n",
       "\n",
       "    .dataframe thead th {\n",
       "        text-align: right;\n",
       "    }\n",
       "</style>\n",
       "<table border=\"1\" class=\"dataframe\">\n",
       "  <thead>\n",
       "    <tr style=\"text-align: right;\">\n",
       "      <th></th>\n",
       "      <th>idx</th>\n",
       "      <th>sequence</th>\n",
       "      <th>seq_len</th>\n",
       "      <th>del_positions</th>\n",
       "      <th>del_len</th>\n",
       "      <th>relative_coords</th>\n",
       "    </tr>\n",
       "  </thead>\n",
       "  <tbody>\n",
       "    <tr>\n",
       "      <th>1</th>\n",
       "      <td>hCoV-19/USA/SEARCH-5574-SAN/2020</td>\n",
       "      <td>nnnnnnnnnnnnnnnnnnnnnnnnnnnnnnnnnnnnnnnnnnnnnn...</td>\n",
       "      <td>29903</td>\n",
       "      <td>[11287, 11288, 11289, 11290, 11291, 11292, 112...</td>\n",
       "      <td>9</td>\n",
       "      <td>11287:11295</td>\n",
       "    </tr>\n",
       "    <tr>\n",
       "      <th>1</th>\n",
       "      <td>hCoV-19/USA/SEARCH-5574-SAN/2020</td>\n",
       "      <td>nnnnnnnnnnnnnnnnnnnnnnnnnnnnnnnnnnnnnnnnnnnnnn...</td>\n",
       "      <td>29903</td>\n",
       "      <td>[21764, 21765, 21766, 21767, 21768, 21769]</td>\n",
       "      <td>6</td>\n",
       "      <td>21764:21769</td>\n",
       "    </tr>\n",
       "    <tr>\n",
       "      <th>1</th>\n",
       "      <td>hCoV-19/USA/SEARCH-5574-SAN/2020</td>\n",
       "      <td>nnnnnnnnnnnnnnnnnnnnnnnnnnnnnnnnnnnnnnnnnnnnnn...</td>\n",
       "      <td>29903</td>\n",
       "      <td>[21990, 21991, 21992]</td>\n",
       "      <td>3</td>\n",
       "      <td>21990:21992</td>\n",
       "    </tr>\n",
       "    <tr>\n",
       "      <th>1</th>\n",
       "      <td>hCoV-19/USA/SEARCH-5574-SAN/2020</td>\n",
       "      <td>nnnnnnnnnnnnnnnnnnnnnnnnnnnnnnnnnnnnnnnnnnnnnn...</td>\n",
       "      <td>29903</td>\n",
       "      <td>[28270]</td>\n",
       "      <td>1</td>\n",
       "      <td>28270:28270</td>\n",
       "    </tr>\n",
       "    <tr>\n",
       "      <th>2</th>\n",
       "      <td>MW422256.1</td>\n",
       "      <td>------------------------------accaaccaactttcga...</td>\n",
       "      <td>29903</td>\n",
       "      <td>[0, 1, 2, 3, 4, 5, 6, 7, 8, 9, 10, 11, 12, 13,...</td>\n",
       "      <td>30</td>\n",
       "      <td>0:29</td>\n",
       "    </tr>\n",
       "    <tr>\n",
       "      <th>2</th>\n",
       "      <td>MW422256.1</td>\n",
       "      <td>------------------------------accaaccaactttcga...</td>\n",
       "      <td>29903</td>\n",
       "      <td>[11287, 11288, 11289, 11290, 11291, 11292, 112...</td>\n",
       "      <td>9</td>\n",
       "      <td>11287:11295</td>\n",
       "    </tr>\n",
       "    <tr>\n",
       "      <th>2</th>\n",
       "      <td>MW422256.1</td>\n",
       "      <td>------------------------------accaaccaactttcga...</td>\n",
       "      <td>29903</td>\n",
       "      <td>[21764, 21765, 21766, 21767, 21768, 21769]</td>\n",
       "      <td>6</td>\n",
       "      <td>21764:21769</td>\n",
       "    </tr>\n",
       "    <tr>\n",
       "      <th>2</th>\n",
       "      <td>MW422256.1</td>\n",
       "      <td>------------------------------accaaccaactttcga...</td>\n",
       "      <td>29903</td>\n",
       "      <td>[21990, 21991, 21992]</td>\n",
       "      <td>3</td>\n",
       "      <td>21990:21992</td>\n",
       "    </tr>\n",
       "    <tr>\n",
       "      <th>2</th>\n",
       "      <td>MW422256.1</td>\n",
       "      <td>------------------------------accaaccaactttcga...</td>\n",
       "      <td>29903</td>\n",
       "      <td>[28270]</td>\n",
       "      <td>1</td>\n",
       "      <td>28270:28270</td>\n",
       "    </tr>\n",
       "    <tr>\n",
       "      <th>2</th>\n",
       "      <td>MW422256.1</td>\n",
       "      <td>------------------------------accaaccaactttcga...</td>\n",
       "      <td>29903</td>\n",
       "      <td>[29866, 29867, 29868, 29869, 29870, 29871, 298...</td>\n",
       "      <td>37</td>\n",
       "      <td>29866:29902</td>\n",
       "    </tr>\n",
       "  </tbody>\n",
       "</table>\n",
       "</div>"
      ],
      "text/plain": [
       "                                idx  \\\n",
       "1  hCoV-19/USA/SEARCH-5574-SAN/2020   \n",
       "1  hCoV-19/USA/SEARCH-5574-SAN/2020   \n",
       "1  hCoV-19/USA/SEARCH-5574-SAN/2020   \n",
       "1  hCoV-19/USA/SEARCH-5574-SAN/2020   \n",
       "2                        MW422256.1   \n",
       "2                        MW422256.1   \n",
       "2                        MW422256.1   \n",
       "2                        MW422256.1   \n",
       "2                        MW422256.1   \n",
       "2                        MW422256.1   \n",
       "\n",
       "                                            sequence  seq_len  \\\n",
       "1  nnnnnnnnnnnnnnnnnnnnnnnnnnnnnnnnnnnnnnnnnnnnnn...    29903   \n",
       "1  nnnnnnnnnnnnnnnnnnnnnnnnnnnnnnnnnnnnnnnnnnnnnn...    29903   \n",
       "1  nnnnnnnnnnnnnnnnnnnnnnnnnnnnnnnnnnnnnnnnnnnnnn...    29903   \n",
       "1  nnnnnnnnnnnnnnnnnnnnnnnnnnnnnnnnnnnnnnnnnnnnnn...    29903   \n",
       "2  ------------------------------accaaccaactttcga...    29903   \n",
       "2  ------------------------------accaaccaactttcga...    29903   \n",
       "2  ------------------------------accaaccaactttcga...    29903   \n",
       "2  ------------------------------accaaccaactttcga...    29903   \n",
       "2  ------------------------------accaaccaactttcga...    29903   \n",
       "2  ------------------------------accaaccaactttcga...    29903   \n",
       "\n",
       "                                       del_positions  del_len relative_coords  \n",
       "1  [11287, 11288, 11289, 11290, 11291, 11292, 112...        9     11287:11295  \n",
       "1         [21764, 21765, 21766, 21767, 21768, 21769]        6     21764:21769  \n",
       "1                              [21990, 21991, 21992]        3     21990:21992  \n",
       "1                                            [28270]        1     28270:28270  \n",
       "2  [0, 1, 2, 3, 4, 5, 6, 7, 8, 9, 10, 11, 12, 13,...       30            0:29  \n",
       "2  [11287, 11288, 11289, 11290, 11291, 11292, 112...        9     11287:11295  \n",
       "2         [21764, 21765, 21766, 21767, 21768, 21769]        6     21764:21769  \n",
       "2                              [21990, 21991, 21992]        3     21990:21992  \n",
       "2                                            [28270]        1     28270:28270  \n",
       "2  [29866, 29867, 29868, 29869, 29870, 29871, 298...       37     29866:29902  "
      ]
     },
     "execution_count": 62,
     "metadata": {},
     "output_type": "execute_result"
    }
   ],
   "source": [
    "del"
   ]
  },
  {
   "cell_type": "code",
   "execution_count": 14,
   "metadata": {},
   "outputs": [
    {
     "data": {
      "text/html": [
       "<div>\n",
       "<style scoped>\n",
       "    .dataframe tbody tr th:only-of-type {\n",
       "        vertical-align: middle;\n",
       "    }\n",
       "\n",
       "    .dataframe tbody tr th {\n",
       "        vertical-align: top;\n",
       "    }\n",
       "\n",
       "    .dataframe thead th {\n",
       "        text-align: right;\n",
       "    }\n",
       "</style>\n",
       "<table border=\"1\" class=\"dataframe\">\n",
       "  <thead>\n",
       "    <tr style=\"text-align: right;\">\n",
       "      <th></th>\n",
       "      <th>idx</th>\n",
       "      <th>sequence</th>\n",
       "      <th>seq_len</th>\n",
       "      <th>del_positions</th>\n",
       "      <th>del_len</th>\n",
       "      <th>relative_coords</th>\n",
       "    </tr>\n",
       "  </thead>\n",
       "  <tbody>\n",
       "    <tr>\n",
       "      <th>1</th>\n",
       "      <td>hCoV-19/USA/SEARCH-5574-SAN/2020</td>\n",
       "      <td>nnnnnnnnnnnnnnnnnnnnnnnnnnnnnnnnnnnnnnnnnnnnnn...</td>\n",
       "      <td>29903</td>\n",
       "      <td>[11287, 11288, 11289, 11290, 11291, 11292, 112...</td>\n",
       "      <td>9</td>\n",
       "      <td>11287:11295</td>\n",
       "    </tr>\n",
       "    <tr>\n",
       "      <th>1</th>\n",
       "      <td>hCoV-19/USA/SEARCH-5574-SAN/2020</td>\n",
       "      <td>nnnnnnnnnnnnnnnnnnnnnnnnnnnnnnnnnnnnnnnnnnnnnn...</td>\n",
       "      <td>29903</td>\n",
       "      <td>[21764, 21765, 21766, 21767, 21768, 21769]</td>\n",
       "      <td>6</td>\n",
       "      <td>21764:21769</td>\n",
       "    </tr>\n",
       "    <tr>\n",
       "      <th>1</th>\n",
       "      <td>hCoV-19/USA/SEARCH-5574-SAN/2020</td>\n",
       "      <td>nnnnnnnnnnnnnnnnnnnnnnnnnnnnnnnnnnnnnnnnnnnnnn...</td>\n",
       "      <td>29903</td>\n",
       "      <td>[21990, 21991, 21992]</td>\n",
       "      <td>3</td>\n",
       "      <td>21990:21992</td>\n",
       "    </tr>\n",
       "    <tr>\n",
       "      <th>1</th>\n",
       "      <td>hCoV-19/USA/SEARCH-5574-SAN/2020</td>\n",
       "      <td>nnnnnnnnnnnnnnnnnnnnnnnnnnnnnnnnnnnnnnnnnnnnnn...</td>\n",
       "      <td>29903</td>\n",
       "      <td>[28270]</td>\n",
       "      <td>1</td>\n",
       "      <td>28270:28270</td>\n",
       "    </tr>\n",
       "  </tbody>\n",
       "</table>\n",
       "</div>"
      ],
      "text/plain": [
       "                                idx  \\\n",
       "1  hCoV-19/USA/SEARCH-5574-SAN/2020   \n",
       "1  hCoV-19/USA/SEARCH-5574-SAN/2020   \n",
       "1  hCoV-19/USA/SEARCH-5574-SAN/2020   \n",
       "1  hCoV-19/USA/SEARCH-5574-SAN/2020   \n",
       "\n",
       "                                            sequence  seq_len  \\\n",
       "1  nnnnnnnnnnnnnnnnnnnnnnnnnnnnnnnnnnnnnnnnnnnnnn...    29903   \n",
       "1  nnnnnnnnnnnnnnnnnnnnnnnnnnnnnnnnnnnnnnnnnnnnnn...    29903   \n",
       "1  nnnnnnnnnnnnnnnnnnnnnnnnnnnnnnnnnnnnnnnnnnnnnn...    29903   \n",
       "1  nnnnnnnnnnnnnnnnnnnnnnnnnnnnnnnnnnnnnnnnnnnnnn...    29903   \n",
       "\n",
       "                                       del_positions  del_len relative_coords  \n",
       "1  [11287, 11288, 11289, 11290, 11291, 11292, 112...        9     11287:11295  \n",
       "1         [21764, 21765, 21766, 21767, 21768, 21769]        6     21764:21769  \n",
       "1                              [21990, 21991, 21992]        3     21990:21992  \n",
       "1                                            [28270]        1     28270:28270  "
      ]
     },
     "execution_count": 14,
     "metadata": {},
     "output_type": "execute_result"
    }
   ],
   "source": [
    "dels = identify_deletions_per_sample(seqs, None, 1)\n",
    "dels"
   ]
  },
  {
   "cell_type": "code",
   "execution_count": 10,
   "metadata": {},
   "outputs": [],
   "source": [
    "seqsdf['pos'] = seqsdf['pos'] + 1"
   ]
  },
  {
   "cell_type": "code",
   "execution_count": 11,
   "metadata": {},
   "outputs": [
    {
     "data": {
      "text/html": [
       "<div>\n",
       "<style scoped>\n",
       "    .dataframe tbody tr th:only-of-type {\n",
       "        vertical-align: middle;\n",
       "    }\n",
       "\n",
       "    .dataframe tbody tr th {\n",
       "        vertical-align: top;\n",
       "    }\n",
       "\n",
       "    .dataframe thead th {\n",
       "        text-align: right;\n",
       "    }\n",
       "</style>\n",
       "<table border=\"1\" class=\"dataframe\">\n",
       "  <thead>\n",
       "    <tr style=\"text-align: right;\">\n",
       "      <th></th>\n",
       "      <th>idx</th>\n",
       "      <th>sequence</th>\n",
       "      <th>replacements</th>\n",
       "      <th>pos</th>\n",
       "      <th>gene</th>\n",
       "      <th>codon_num</th>\n",
       "      <th>ref_codon</th>\n",
       "      <th>alt_codon</th>\n",
       "      <th>ref_aa</th>\n",
       "      <th>alt_aa</th>\n",
       "    </tr>\n",
       "  </thead>\n",
       "  <tbody>\n",
       "    <tr>\n",
       "      <th>1</th>\n",
       "      <td>hCoV-19/USA/SEARCH-5574-SAN/2020</td>\n",
       "      <td>nnnnnnnnnnnnnnnnnnnnnnnnnnnnnnnnnnnnnnnnnnnnnn...</td>\n",
       "      <td>3266:t</td>\n",
       "      <td>3267</td>\n",
       "      <td>ORF1ab</td>\n",
       "      <td>1001</td>\n",
       "      <td>ACT</td>\n",
       "      <td>ATT</td>\n",
       "      <td>T</td>\n",
       "      <td>I</td>\n",
       "    </tr>\n",
       "    <tr>\n",
       "      <th>1</th>\n",
       "      <td>hCoV-19/USA/SEARCH-5574-SAN/2020</td>\n",
       "      <td>nnnnnnnnnnnnnnnnnnnnnnnnnnnnnnnnnnnnnnnnnnnnnn...</td>\n",
       "      <td>5387:a</td>\n",
       "      <td>5388</td>\n",
       "      <td>ORF1ab</td>\n",
       "      <td>1708</td>\n",
       "      <td>GCT</td>\n",
       "      <td>GAT</td>\n",
       "      <td>A</td>\n",
       "      <td>D</td>\n",
       "    </tr>\n",
       "    <tr>\n",
       "      <th>1</th>\n",
       "      <td>hCoV-19/USA/SEARCH-5574-SAN/2020</td>\n",
       "      <td>nnnnnnnnnnnnnnnnnnnnnnnnnnnnnnnnnnnnnnnnnnnnnn...</td>\n",
       "      <td>6953:c</td>\n",
       "      <td>6954</td>\n",
       "      <td>ORF1ab</td>\n",
       "      <td>2230</td>\n",
       "      <td>ATA</td>\n",
       "      <td>ACA</td>\n",
       "      <td>I</td>\n",
       "      <td>T</td>\n",
       "    </tr>\n",
       "    <tr>\n",
       "      <th>1</th>\n",
       "      <td>hCoV-19/USA/SEARCH-5574-SAN/2020</td>\n",
       "      <td>nnnnnnnnnnnnnnnnnnnnnnnnnnnnnnnnnnnnnnnnnnnnnn...</td>\n",
       "      <td>23062:t</td>\n",
       "      <td>23063</td>\n",
       "      <td>S</td>\n",
       "      <td>501</td>\n",
       "      <td>AAT</td>\n",
       "      <td>TAT</td>\n",
       "      <td>N</td>\n",
       "      <td>Y</td>\n",
       "    </tr>\n",
       "    <tr>\n",
       "      <th>1</th>\n",
       "      <td>hCoV-19/USA/SEARCH-5574-SAN/2020</td>\n",
       "      <td>nnnnnnnnnnnnnnnnnnnnnnnnnnnnnnnnnnnnnnnnnnnnnn...</td>\n",
       "      <td>23270:a</td>\n",
       "      <td>23271</td>\n",
       "      <td>S</td>\n",
       "      <td>570</td>\n",
       "      <td>GCT</td>\n",
       "      <td>GAT</td>\n",
       "      <td>A</td>\n",
       "      <td>D</td>\n",
       "    </tr>\n",
       "    <tr>\n",
       "      <th>1</th>\n",
       "      <td>hCoV-19/USA/SEARCH-5574-SAN/2020</td>\n",
       "      <td>nnnnnnnnnnnnnnnnnnnnnnnnnnnnnnnnnnnnnnnnnnnnnn...</td>\n",
       "      <td>23603:a</td>\n",
       "      <td>23604</td>\n",
       "      <td>S</td>\n",
       "      <td>681</td>\n",
       "      <td>CCT</td>\n",
       "      <td>CAT</td>\n",
       "      <td>P</td>\n",
       "      <td>H</td>\n",
       "    </tr>\n",
       "    <tr>\n",
       "      <th>1</th>\n",
       "      <td>hCoV-19/USA/SEARCH-5574-SAN/2020</td>\n",
       "      <td>nnnnnnnnnnnnnnnnnnnnnnnnnnnnnnnnnnnnnnnnnnnnnn...</td>\n",
       "      <td>23708:t</td>\n",
       "      <td>23709</td>\n",
       "      <td>S</td>\n",
       "      <td>716</td>\n",
       "      <td>ACA</td>\n",
       "      <td>ATA</td>\n",
       "      <td>T</td>\n",
       "      <td>I</td>\n",
       "    </tr>\n",
       "    <tr>\n",
       "      <th>1</th>\n",
       "      <td>hCoV-19/USA/SEARCH-5574-SAN/2020</td>\n",
       "      <td>nnnnnnnnnnnnnnnnnnnnnnnnnnnnnnnnnnnnnnnnnnnnnn...</td>\n",
       "      <td>24505:g</td>\n",
       "      <td>24506</td>\n",
       "      <td>S</td>\n",
       "      <td>982</td>\n",
       "      <td>TCA</td>\n",
       "      <td>GCA</td>\n",
       "      <td>S</td>\n",
       "      <td>A</td>\n",
       "    </tr>\n",
       "    <tr>\n",
       "      <th>1</th>\n",
       "      <td>hCoV-19/USA/SEARCH-5574-SAN/2020</td>\n",
       "      <td>nnnnnnnnnnnnnnnnnnnnnnnnnnnnnnnnnnnnnnnnnnnnnn...</td>\n",
       "      <td>24913:c</td>\n",
       "      <td>24914</td>\n",
       "      <td>S</td>\n",
       "      <td>1118</td>\n",
       "      <td>GAC</td>\n",
       "      <td>CAC</td>\n",
       "      <td>D</td>\n",
       "      <td>H</td>\n",
       "    </tr>\n",
       "    <tr>\n",
       "      <th>1</th>\n",
       "      <td>hCoV-19/USA/SEARCH-5574-SAN/2020</td>\n",
       "      <td>nnnnnnnnnnnnnnnnnnnnnnnnnnnnnnnnnnnnnnnnnnnnnn...</td>\n",
       "      <td>27971:t</td>\n",
       "      <td>27972</td>\n",
       "      <td>ORF8</td>\n",
       "      <td>27</td>\n",
       "      <td>CAA</td>\n",
       "      <td>TAA</td>\n",
       "      <td>Q</td>\n",
       "      <td>_</td>\n",
       "    </tr>\n",
       "    <tr>\n",
       "      <th>1</th>\n",
       "      <td>hCoV-19/USA/SEARCH-5574-SAN/2020</td>\n",
       "      <td>nnnnnnnnnnnnnnnnnnnnnnnnnnnnnnnnnnnnnnnnnnnnnn...</td>\n",
       "      <td>28047:t</td>\n",
       "      <td>28048</td>\n",
       "      <td>ORF8</td>\n",
       "      <td>52</td>\n",
       "      <td>AGA</td>\n",
       "      <td>ATA</td>\n",
       "      <td>R</td>\n",
       "      <td>I</td>\n",
       "    </tr>\n",
       "    <tr>\n",
       "      <th>1</th>\n",
       "      <td>hCoV-19/USA/SEARCH-5574-SAN/2020</td>\n",
       "      <td>nnnnnnnnnnnnnnnnnnnnnnnnnnnnnnnnnnnnnnnnnnnnnn...</td>\n",
       "      <td>28110:g</td>\n",
       "      <td>28111</td>\n",
       "      <td>ORF8</td>\n",
       "      <td>73</td>\n",
       "      <td>TAC</td>\n",
       "      <td>TGC</td>\n",
       "      <td>Y</td>\n",
       "      <td>C</td>\n",
       "    </tr>\n",
       "    <tr>\n",
       "      <th>1</th>\n",
       "      <td>hCoV-19/USA/SEARCH-5574-SAN/2020</td>\n",
       "      <td>nnnnnnnnnnnnnnnnnnnnnnnnnnnnnnnnnnnnnnnnnnnnnn...</td>\n",
       "      <td>28279:c</td>\n",
       "      <td>28280</td>\n",
       "      <td>N</td>\n",
       "      <td>3</td>\n",
       "      <td>GAT</td>\n",
       "      <td>CTA</td>\n",
       "      <td>D</td>\n",
       "      <td>L</td>\n",
       "    </tr>\n",
       "    <tr>\n",
       "      <th>1</th>\n",
       "      <td>hCoV-19/USA/SEARCH-5574-SAN/2020</td>\n",
       "      <td>nnnnnnnnnnnnnnnnnnnnnnnnnnnnnnnnnnnnnnnnnnnnnn...</td>\n",
       "      <td>28976:t</td>\n",
       "      <td>28977</td>\n",
       "      <td>N</td>\n",
       "      <td>235</td>\n",
       "      <td>TCT</td>\n",
       "      <td>TTT</td>\n",
       "      <td>S</td>\n",
       "      <td>F</td>\n",
       "    </tr>\n",
       "  </tbody>\n",
       "</table>\n",
       "</div>"
      ],
      "text/plain": [
       "                                idx  \\\n",
       "1  hCoV-19/USA/SEARCH-5574-SAN/2020   \n",
       "1  hCoV-19/USA/SEARCH-5574-SAN/2020   \n",
       "1  hCoV-19/USA/SEARCH-5574-SAN/2020   \n",
       "1  hCoV-19/USA/SEARCH-5574-SAN/2020   \n",
       "1  hCoV-19/USA/SEARCH-5574-SAN/2020   \n",
       "1  hCoV-19/USA/SEARCH-5574-SAN/2020   \n",
       "1  hCoV-19/USA/SEARCH-5574-SAN/2020   \n",
       "1  hCoV-19/USA/SEARCH-5574-SAN/2020   \n",
       "1  hCoV-19/USA/SEARCH-5574-SAN/2020   \n",
       "1  hCoV-19/USA/SEARCH-5574-SAN/2020   \n",
       "1  hCoV-19/USA/SEARCH-5574-SAN/2020   \n",
       "1  hCoV-19/USA/SEARCH-5574-SAN/2020   \n",
       "1  hCoV-19/USA/SEARCH-5574-SAN/2020   \n",
       "1  hCoV-19/USA/SEARCH-5574-SAN/2020   \n",
       "\n",
       "                                            sequence replacements    pos  \\\n",
       "1  nnnnnnnnnnnnnnnnnnnnnnnnnnnnnnnnnnnnnnnnnnnnnn...       3266:t   3267   \n",
       "1  nnnnnnnnnnnnnnnnnnnnnnnnnnnnnnnnnnnnnnnnnnnnnn...       5387:a   5388   \n",
       "1  nnnnnnnnnnnnnnnnnnnnnnnnnnnnnnnnnnnnnnnnnnnnnn...       6953:c   6954   \n",
       "1  nnnnnnnnnnnnnnnnnnnnnnnnnnnnnnnnnnnnnnnnnnnnnn...      23062:t  23063   \n",
       "1  nnnnnnnnnnnnnnnnnnnnnnnnnnnnnnnnnnnnnnnnnnnnnn...      23270:a  23271   \n",
       "1  nnnnnnnnnnnnnnnnnnnnnnnnnnnnnnnnnnnnnnnnnnnnnn...      23603:a  23604   \n",
       "1  nnnnnnnnnnnnnnnnnnnnnnnnnnnnnnnnnnnnnnnnnnnnnn...      23708:t  23709   \n",
       "1  nnnnnnnnnnnnnnnnnnnnnnnnnnnnnnnnnnnnnnnnnnnnnn...      24505:g  24506   \n",
       "1  nnnnnnnnnnnnnnnnnnnnnnnnnnnnnnnnnnnnnnnnnnnnnn...      24913:c  24914   \n",
       "1  nnnnnnnnnnnnnnnnnnnnnnnnnnnnnnnnnnnnnnnnnnnnnn...      27971:t  27972   \n",
       "1  nnnnnnnnnnnnnnnnnnnnnnnnnnnnnnnnnnnnnnnnnnnnnn...      28047:t  28048   \n",
       "1  nnnnnnnnnnnnnnnnnnnnnnnnnnnnnnnnnnnnnnnnnnnnnn...      28110:g  28111   \n",
       "1  nnnnnnnnnnnnnnnnnnnnnnnnnnnnnnnnnnnnnnnnnnnnnn...      28279:c  28280   \n",
       "1  nnnnnnnnnnnnnnnnnnnnnnnnnnnnnnnnnnnnnnnnnnnnnn...      28976:t  28977   \n",
       "\n",
       "     gene  codon_num ref_codon alt_codon ref_aa alt_aa  \n",
       "1  ORF1ab       1001       ACT       ATT      T      I  \n",
       "1  ORF1ab       1708       GCT       GAT      A      D  \n",
       "1  ORF1ab       2230       ATA       ACA      I      T  \n",
       "1       S        501       AAT       TAT      N      Y  \n",
       "1       S        570       GCT       GAT      A      D  \n",
       "1       S        681       CCT       CAT      P      H  \n",
       "1       S        716       ACA       ATA      T      I  \n",
       "1       S        982       TCA       GCA      S      A  \n",
       "1       S       1118       GAC       CAC      D      H  \n",
       "1    ORF8         27       CAA       TAA      Q      _  \n",
       "1    ORF8         52       AGA       ATA      R      I  \n",
       "1    ORF8         73       TAC       TGC      Y      C  \n",
       "1       N          3       GAT       CTA      D      L  \n",
       "1       N        235       TCT       TTT      S      F  "
      ]
     },
     "execution_count": 11,
     "metadata": {},
     "output_type": "execute_result"
    }
   ],
   "source": [
    "positions = [3267, 5388, 6954, 11288, 23063, 23271, 23604, 23709, 24506, 24914,\n",
    "             27972, 28048, 28111, 28280, 28977]\n",
    "seqsdf[seqsdf['pos'].isin(positions)]"
   ]
  },
  {
   "cell_type": "code",
   "execution_count": 5,
   "metadata": {},
   "outputs": [],
   "source": [
    "in_dir = Path('/home/al/code/HCoV-19-Genomics/consensus_sequences/')\n",
    "out_dir = Path('/home/al/analysis/mutations/alab_git')\n",
    "meta_fp = Path('/home/al/code/HCoV-19-Genomics/metadata.csv')\n",
    "msa_fp = '/home/al/analysis/mutations/alab_git/cns_seqs_aligned.fa'"
   ]
  },
  {
   "cell_type": "code",
   "execution_count": 6,
   "metadata": {},
   "outputs": [],
   "source": [
    "patient_zero = 'NC_045512.2'"
   ]
  },
  {
   "cell_type": "code",
   "execution_count": 8,
   "metadata": {},
   "outputs": [
    {
     "name": "stdout",
     "output_type": "stream",
     "text": [
      "Identifying mutations...\n",
      "Mapping Genes to mutations...\n",
      "Compute codon numbers...\n",
      "Fetch reference codon...\n",
      "Fetch alternative codon...\n",
      "Map amino acids...\n",
      "Fuse with metadata...\n"
     ]
    }
   ],
   "source": [
    "cns = AlignIO.read(msa_fp, 'fasta')\n",
    "seqs, ref_seq = process_cns_seqs(cns, patient_zero,\n",
    "                                 start_pos=0, end_pos=30000)\n",
    "seqs_df = identify_replacements_per_sample(seqs,\n",
    "                                           meta_fp, \n",
    "                                           ref_seq,\n",
    "                                           GENE2POS)"
   ]
  },
  {
   "cell_type": "code",
   "execution_count": 13,
   "metadata": {},
   "outputs": [
    {
     "data": {
      "text/plain": [
       "(Timestamp('2020-09-12 00:00:00'), Timestamp('2020-11-07 00:00:00'))"
      ]
     },
     "execution_count": 13,
     "metadata": {},
     "output_type": "execute_result"
    }
   ],
   "source": [
    "q957l = seqs_df.loc[(seqs_df['gene']=='S') & (seqs_df['codon_num']==957) & (seqs_df['alt_aa']=='L')]\n",
    "\n",
    "q957l.date.min(), q957l.date.max()"
   ]
  },
  {
   "cell_type": "code",
   "execution_count": 16,
   "metadata": {},
   "outputs": [
    {
     "data": {
      "text/plain": [
       "array(['USA/California/San Diego', 'Jordan/Amman', 'Jordan/Irbid',\n",
       "       'USA/Louisiana/New Orleans', 'USA/California/Imperial',\n",
       "       'USA/California/Cruise_Ship_2', 'USA/California/Cruise_Ship_1',\n",
       "       'MEX/Baja California/Tijuana', 'Jordan/Mafraq',\n",
       "       'USA/California/Los Angeles', 'USA/California/Riverside',\n",
       "       'USA/California/Santa Barbara ',\n",
       "       'MEX/Sonora/San Luis Río Colorado', 'MEX/Baja California/Mexicali',\n",
       "       'USA/Arizona/Yuma', 'USA/California/San Bernadino',\n",
       "       'USA/West Virginia/Kanawha', 'USA/California/Orange',\n",
       "       'MEX/Baja California/Ensenada', 'MEX/Baja California/Rosarito',\n",
       "       'USA/California/Kern', 'Jordan/Zarqa', 'Jordan/Aqaba'],\n",
       "      dtype=object)"
      ]
     },
     "execution_count": 16,
     "metadata": {},
     "output_type": "execute_result"
    }
   ],
   "source": [
    "seqs_df['location'].unique()"
   ]
  },
  {
   "cell_type": "code",
   "execution_count": 42,
   "metadata": {},
   "outputs": [
    {
     "name": "stdout",
     "output_type": "stream",
     "text": [
      "(490,)\n"
     ]
    }
   ],
   "source": [
    "jor_seqs = seqs_df[seqs_df['location'].str.contains('Jordan')]\n",
    "print(jor_seqs['idx'].unique().shape)"
   ]
  },
  {
   "cell_type": "code",
   "execution_count": 43,
   "metadata": {},
   "outputs": [
    {
     "name": "stderr",
     "output_type": "stream",
     "text": [
      "<ipython-input-43-9d1870c5602d>:2: SettingWithCopyWarning: \n",
      "A value is trying to be set on a copy of a slice from a DataFrame.\n",
      "Try using .loc[row_indexer,col_indexer] = value instead\n",
      "\n",
      "See the caveats in the documentation: https://pandas.pydata.org/pandas-docs/stable/user_guide/indexing.html#returning-a-view-versus-a-copy\n",
      "  jor_seqs['q957l'] = False\n",
      "/home/al/anaconda3/lib/python3.8/site-packages/pandas/core/indexing.py:1765: SettingWithCopyWarning: \n",
      "A value is trying to be set on a copy of a slice from a DataFrame.\n",
      "Try using .loc[row_indexer,col_indexer] = value instead\n",
      "\n",
      "See the caveats in the documentation: https://pandas.pydata.org/pandas-docs/stable/user_guide/indexing.html#returning-a-view-versus-a-copy\n",
      "  isetter(loc, value)\n"
     ]
    },
    {
     "data": {
      "text/plain": [
       "False    8046\n",
       "True      388\n",
       "Name: q957l, dtype: int64"
      ]
     },
     "execution_count": 43,
     "metadata": {},
     "output_type": "execute_result"
    }
   ],
   "source": [
    "mutation_filter = (jor_seqs['gene']=='S') & (jor_seqs['codon_num']==957) & (jor_seqs['alt_aa']=='L')\n",
    "jor_seqs['q957l'] = False\n",
    "jor_seqs.loc[mutation_filter, 'q957l'] = True\n",
    "jor_seqs['q957l'].value_counts()"
   ]
  },
  {
   "cell_type": "markdown",
   "metadata": {},
   "source": [
    "**Out of the 8046 total substitution-based mutations, 388 were Q957L among our Jordanian samples that have been released so far.**"
   ]
  },
  {
   "cell_type": "code",
   "execution_count": 44,
   "metadata": {},
   "outputs": [
    {
     "data": {
      "text/plain": [
       "(Timestamp('2020-03-16 00:00:00'), Timestamp('2020-11-07 00:00:00'))"
      ]
     },
     "execution_count": 44,
     "metadata": {},
     "output_type": "execute_result"
    }
   ],
   "source": [
    "jor_seqs['date'].min(), jor_seqs['date'].max()"
   ]
  },
  {
   "cell_type": "code",
   "execution_count": 45,
   "metadata": {},
   "outputs": [
    {
     "data": {
      "text/plain": [
       "(Timestamp('2020-09-12 00:00:00'), Timestamp('2020-11-07 00:00:00'))"
      ]
     },
     "execution_count": 45,
     "metadata": {},
     "output_type": "execute_result"
    }
   ],
   "source": [
    "jor_seqs[jor_seqs['q957l']]['date'].min(), jor_seqs[jor_seqs['q957l']]['date'].max()"
   ]
  },
  {
   "cell_type": "code",
   "execution_count": 50,
   "metadata": {},
   "outputs": [
    {
     "data": {
      "text/plain": [
       "31       Consensus_SEARCH-0032-JOR_L1_L2_L3_L4_threshol...\n",
       "32       Consensus_SEARCH-0032-JOR_L1_L2_L3_L4_threshol...\n",
       "33       Consensus_SEARCH-0032-JOR_L1_L2_L3_L4_threshol...\n",
       "34       Consensus_SEARCH-0032-JOR_L1_L2_L3_L4_threshol...\n",
       "35       Consensus_SEARCH-0032-JOR_L1_L2_L3_L4_threshol...\n",
       "                               ...                        \n",
       "39761                     hCoV-19/JOR/SEARCH-5327-JOR/2020\n",
       "39762                     hCoV-19/JOR/SEARCH-5327-JOR/2020\n",
       "39763                     hCoV-19/JOR/SEARCH-5327-JOR/2020\n",
       "39764                     hCoV-19/JOR/SEARCH-5327-JOR/2020\n",
       "39765                     hCoV-19/JOR/SEARCH-5327-JOR/2020\n",
       "Name: idx, Length: 8434, dtype: object"
      ]
     },
     "execution_count": 50,
     "metadata": {},
     "output_type": "execute_result"
    }
   ],
   "source": [
    "jor_seqs['idx']"
   ]
  },
  {
   "cell_type": "code",
   "execution_count": 46,
   "metadata": {},
   "outputs": [
    {
     "data": {
      "text/plain": [
       "Index(['idx', 'sequence', 'replacements', 'pos', 'gene', 'codon_num',\n",
       "       'ref_codon', 'alt_codon', 'ref_aa', 'alt_aa', 'ID', 'gb_accession',\n",
       "       'gisaid_accession', 'collection_date', 'location',\n",
       "       'percent_coverage_cds', 'avg_depth', 'authors', 'originating_lab',\n",
       "       'fasta_hdr', 'date', 'q957l'],\n",
       "      dtype='object')"
      ]
     },
     "execution_count": 46,
     "metadata": {},
     "output_type": "execute_result"
    }
   ],
   "source": [
    "jor_seqs.columns"
   ]
  },
  {
   "cell_type": "code",
   "execution_count": 70,
   "metadata": {},
   "outputs": [
    {
     "data": {
      "text/plain": [
       "490"
      ]
     },
     "execution_count": 70,
     "metadata": {},
     "output_type": "execute_result"
    }
   ],
   "source": [
    "all_samples = jor_seqs['idx'].unique()\n",
    "len(all_samples)"
   ]
  },
  {
   "cell_type": "code",
   "execution_count": 71,
   "metadata": {},
   "outputs": [
    {
     "data": {
      "text/plain": [
       "388"
      ]
     },
     "execution_count": 71,
     "metadata": {},
     "output_type": "execute_result"
    }
   ],
   "source": [
    "mutant_samples = jor_seqs[jor_seqs['q957l']]['idx'].unique()\n",
    "len(mutant_samples)"
   ]
  },
  {
   "cell_type": "code",
   "execution_count": 73,
   "metadata": {},
   "outputs": [],
   "source": [
    "jor_seqs.loc[:, 'is_nonsyn_mutation'] = False\n",
    "jor_seqs.loc[jor_seqs['alt_aa']!=jor_seqs['ref_aa'], 'is_nonsyn_mutation'] = True\n",
    "jor_seqs.loc[:, 'is_S_nonsyn_mutation'] = False\n",
    "jor_seqs.loc[(jor_seqs['alt_aa']!=jor_seqs['ref_aa']) & (jor_seqs['gene']=='S'), 'is_S_nonsyn_mutation'] = True"
   ]
  },
  {
   "cell_type": "code",
   "execution_count": 103,
   "metadata": {},
   "outputs": [
    {
     "data": {
      "text/html": [
       "<div>\n",
       "<style scoped>\n",
       "    .dataframe tbody tr th:only-of-type {\n",
       "        vertical-align: middle;\n",
       "    }\n",
       "\n",
       "    .dataframe tbody tr th {\n",
       "        vertical-align: top;\n",
       "    }\n",
       "\n",
       "    .dataframe thead th {\n",
       "        text-align: right;\n",
       "    }\n",
       "</style>\n",
       "<table border=\"1\" class=\"dataframe\">\n",
       "  <thead>\n",
       "    <tr style=\"text-align: right;\">\n",
       "      <th></th>\n",
       "      <th>total_samples</th>\n",
       "      <th>mutated_samples</th>\n",
       "      <th>mutation_freq</th>\n",
       "    </tr>\n",
       "    <tr>\n",
       "      <th>month</th>\n",
       "      <th></th>\n",
       "      <th></th>\n",
       "      <th></th>\n",
       "    </tr>\n",
       "  </thead>\n",
       "  <tbody>\n",
       "    <tr>\n",
       "      <th>3</th>\n",
       "      <td>22</td>\n",
       "      <td>0</td>\n",
       "      <td>0.000000</td>\n",
       "    </tr>\n",
       "    <tr>\n",
       "      <th>4</th>\n",
       "      <td>6</td>\n",
       "      <td>0</td>\n",
       "      <td>0.000000</td>\n",
       "    </tr>\n",
       "    <tr>\n",
       "      <th>6</th>\n",
       "      <td>4</td>\n",
       "      <td>0</td>\n",
       "      <td>0.000000</td>\n",
       "    </tr>\n",
       "    <tr>\n",
       "      <th>7</th>\n",
       "      <td>2</td>\n",
       "      <td>0</td>\n",
       "      <td>0.000000</td>\n",
       "    </tr>\n",
       "    <tr>\n",
       "      <th>9</th>\n",
       "      <td>65</td>\n",
       "      <td>56</td>\n",
       "      <td>0.861538</td>\n",
       "    </tr>\n",
       "    <tr>\n",
       "      <th>10</th>\n",
       "      <td>347</td>\n",
       "      <td>300</td>\n",
       "      <td>0.864553</td>\n",
       "    </tr>\n",
       "    <tr>\n",
       "      <th>11</th>\n",
       "      <td>44</td>\n",
       "      <td>32</td>\n",
       "      <td>0.727273</td>\n",
       "    </tr>\n",
       "  </tbody>\n",
       "</table>\n",
       "</div>"
      ],
      "text/plain": [
       "       total_samples  mutated_samples  mutation_freq\n",
       "month                                               \n",
       "3                 22                0       0.000000\n",
       "4                  6                0       0.000000\n",
       "6                  4                0       0.000000\n",
       "7                  2                0       0.000000\n",
       "9                 65               56       0.861538\n",
       "10               347              300       0.864553\n",
       "11                44               32       0.727273"
      ]
     },
     "execution_count": 103,
     "metadata": {},
     "output_type": "execute_result"
    }
   ],
   "source": [
    "mnthly_cnts = jor_seqs.groupby('month').agg(total_samples=('idx', 'nunique'), \n",
    "                                            mutated_samples=('q957l', 'sum'))\n",
    "mnthly_cnts['mutation_freq'] = mnthly_cnts['mutated_samples'] / mnthly_cnts['total_samples']\n",
    "mnthly_cnts"
   ]
  },
  {
   "cell_type": "code",
   "execution_count": 74,
   "metadata": {},
   "outputs": [
    {
     "data": {
      "text/plain": [
       "is_nonsyn_mutation      11.591837\n",
       "is_S_nonsyn_mutation     1.983673\n",
       "dtype: float64"
      ]
     },
     "execution_count": 74,
     "metadata": {},
     "output_type": "execute_result"
    }
   ],
   "source": [
    "jor_seqs[['is_nonsyn_mutation', 'is_S_nonsyn_mutation']].sum() / len(all_samples)"
   ]
  },
  {
   "cell_type": "code",
   "execution_count": 75,
   "metadata": {},
   "outputs": [
    {
     "data": {
      "text/plain": [
       "is_nonsyn_mutation      12.471649\n",
       "is_S_nonsyn_mutation     2.195876\n",
       "dtype: float64"
      ]
     },
     "execution_count": 75,
     "metadata": {},
     "output_type": "execute_result"
    }
   ],
   "source": [
    "jor_seqs[jor_seqs['idx'].isin(mutant_samples)][['is_nonsyn_mutation', 'is_S_nonsyn_mutation']].sum() / len(mutant_samples)"
   ]
  },
  {
   "cell_type": "code",
   "execution_count": 94,
   "metadata": {},
   "outputs": [
    {
     "data": {
      "text/plain": [
       "is_nonsyn_mutation      8.245098\n",
       "is_S_nonsyn_mutation    1.176471\n",
       "dtype: float64"
      ]
     },
     "execution_count": 94,
     "metadata": {},
     "output_type": "execute_result"
    }
   ],
   "source": [
    "jor_seqs[~jor_seqs['idx'].isin(mutant_samples)][['is_nonsyn_mutation', 'is_S_nonsyn_mutation']].sum() / (len(all_samples) - len(mutant_samples))"
   ]
  },
  {
   "cell_type": "code",
   "execution_count": 100,
   "metadata": {},
   "outputs": [
    {
     "name": "stdout",
     "output_type": "stream",
     "text": [
      "All Samples\n",
      "\n",
      "490 total samples from Jordan\n",
      "An average of 11.59 non-synonymous mutations per sample\n",
      "An average of 1.98 non-synonymous mutations in S gene per sample\n",
      "\n",
      "Mutated Samples\n",
      "\n",
      "388 total samples from Jordan with Q957L mutation\n",
      "An average of 12.47 non-synonymous mutations per sample\n",
      "An average of 2.20 non-synonymous mutations in S gene per sample\n",
      "\n",
      "Non-mutated Samples\n",
      "\n",
      "102 total samples from Jordan without Q957L mutation\n",
      "An average of 8.25 non-synonymous mutations per sample\n",
      "An average of 1.18 non-synonymous mutations in S gene per sample\n"
     ]
    }
   ],
   "source": [
    "print(\"All Samples\\n\")\n",
    "\n",
    "print(f\"{len(all_samples)} total samples from Jordan\")\n",
    "print(f\"An average of 11.59 non-synonymous mutations per sample\")\n",
    "print(f\"An average of 1.98 non-synonymous mutations in S gene per sample\\n\")\n",
    "\n",
    "print(\"Mutated Samples\\n\")\n",
    "print(f\"{len(mutant_samples)} total samples from Jordan with Q957L mutation\")\n",
    "print(f\"An average of 12.47 non-synonymous mutations per sample\")\n",
    "print(f\"An average of 2.20 non-synonymous mutations in S gene per sample\\n\")\n",
    "\n",
    "print(\"Non-mutated Samples\\n\")\n",
    "print(f\"{len(all_samples)-len(mutant_samples)} total samples from Jordan without Q957L mutation\")\n",
    "print(f\"An average of 8.25 non-synonymous mutations per sample\")\n",
    "print(f\"An average of 1.18 non-synonymous mutations in S gene per sample\")"
   ]
  },
  {
   "cell_type": "code",
   "execution_count": 86,
   "metadata": {},
   "outputs": [
    {
     "name": "stdout",
     "output_type": "stream",
     "text": [
      "(388, 2)\n"
     ]
    },
    {
     "data": {
      "text/html": [
       "<div>\n",
       "<style scoped>\n",
       "    .dataframe tbody tr th:only-of-type {\n",
       "        vertical-align: middle;\n",
       "    }\n",
       "\n",
       "    .dataframe tbody tr th {\n",
       "        vertical-align: top;\n",
       "    }\n",
       "\n",
       "    .dataframe thead th {\n",
       "        text-align: right;\n",
       "    }\n",
       "</style>\n",
       "<table border=\"1\" class=\"dataframe\">\n",
       "  <thead>\n",
       "    <tr style=\"text-align: right;\">\n",
       "      <th></th>\n",
       "      <th>nonsyn_mutations</th>\n",
       "      <th>s_nonsyn_mutations</th>\n",
       "    </tr>\n",
       "    <tr>\n",
       "      <th>idx</th>\n",
       "      <th></th>\n",
       "      <th></th>\n",
       "    </tr>\n",
       "  </thead>\n",
       "  <tbody>\n",
       "    <tr>\n",
       "      <th>hCoV-19/JOR/SEARCH-3901-JOR/2020</th>\n",
       "      <td>12</td>\n",
       "      <td>2</td>\n",
       "    </tr>\n",
       "    <tr>\n",
       "      <th>hCoV-19/JOR/SEARCH-3903-JOR/2020</th>\n",
       "      <td>12</td>\n",
       "      <td>2</td>\n",
       "    </tr>\n",
       "    <tr>\n",
       "      <th>hCoV-19/JOR/SEARCH-3904-JOR/2020</th>\n",
       "      <td>11</td>\n",
       "      <td>2</td>\n",
       "    </tr>\n",
       "    <tr>\n",
       "      <th>hCoV-19/JOR/SEARCH-3905-JOR/2020</th>\n",
       "      <td>13</td>\n",
       "      <td>2</td>\n",
       "    </tr>\n",
       "    <tr>\n",
       "      <th>hCoV-19/JOR/SEARCH-3906-JOR/2020</th>\n",
       "      <td>11</td>\n",
       "      <td>3</td>\n",
       "    </tr>\n",
       "  </tbody>\n",
       "</table>\n",
       "</div>"
      ],
      "text/plain": [
       "                                  nonsyn_mutations  s_nonsyn_mutations\n",
       "idx                                                                   \n",
       "hCoV-19/JOR/SEARCH-3901-JOR/2020                12                   2\n",
       "hCoV-19/JOR/SEARCH-3903-JOR/2020                12                   2\n",
       "hCoV-19/JOR/SEARCH-3904-JOR/2020                11                   2\n",
       "hCoV-19/JOR/SEARCH-3905-JOR/2020                13                   2\n",
       "hCoV-19/JOR/SEARCH-3906-JOR/2020                11                   3"
      ]
     },
     "execution_count": 86,
     "metadata": {},
     "output_type": "execute_result"
    }
   ],
   "source": [
    "mutants = jor_seqs[(jor_seqs['idx'].isin(mutant_samples))].groupby('idx').agg(nonsyn_mutations=('is_nonsyn_mutation', 'sum'), s_nonsyn_mutations=('is_S_nonsyn_mutation', 'sum'))\n",
    "print(mutants.shape)\n",
    "mutants.head()"
   ]
  },
  {
   "cell_type": "code",
   "execution_count": 87,
   "metadata": {},
   "outputs": [
    {
     "name": "stdout",
     "output_type": "stream",
     "text": [
      "(102, 2)\n"
     ]
    },
    {
     "data": {
      "text/html": [
       "<div>\n",
       "<style scoped>\n",
       "    .dataframe tbody tr th:only-of-type {\n",
       "        vertical-align: middle;\n",
       "    }\n",
       "\n",
       "    .dataframe tbody tr th {\n",
       "        vertical-align: top;\n",
       "    }\n",
       "\n",
       "    .dataframe thead th {\n",
       "        text-align: right;\n",
       "    }\n",
       "</style>\n",
       "<table border=\"1\" class=\"dataframe\">\n",
       "  <thead>\n",
       "    <tr style=\"text-align: right;\">\n",
       "      <th></th>\n",
       "      <th>nonsyn_mutations</th>\n",
       "      <th>s_nonsyn_mutations</th>\n",
       "    </tr>\n",
       "    <tr>\n",
       "      <th>idx</th>\n",
       "      <th></th>\n",
       "      <th></th>\n",
       "    </tr>\n",
       "  </thead>\n",
       "  <tbody>\n",
       "    <tr>\n",
       "      <th>Consensus_SEARCH-0032-JOR_L1_L2_L3_L4_threshold_0_quality_20</th>\n",
       "      <td>8</td>\n",
       "      <td>1</td>\n",
       "    </tr>\n",
       "    <tr>\n",
       "      <th>Consensus_SEARCH-0033-JOR_L1_L2_L3_L4_threshold_0_quality_20</th>\n",
       "      <td>6</td>\n",
       "      <td>2</td>\n",
       "    </tr>\n",
       "    <tr>\n",
       "      <th>Consensus_SEARCH-0034-JOR_L1_L2_L3_L4_threshold_0_quality_20</th>\n",
       "      <td>5</td>\n",
       "      <td>1</td>\n",
       "    </tr>\n",
       "    <tr>\n",
       "      <th>Consensus_SEARCH-0035-JOR_L1_L2_L3_L4_threshold_0_quality_20</th>\n",
       "      <td>7</td>\n",
       "      <td>0</td>\n",
       "    </tr>\n",
       "    <tr>\n",
       "      <th>Consensus_SEARCH-0036-JOR_L1_L2_L3_L4_threshold_0_quality_20</th>\n",
       "      <td>5</td>\n",
       "      <td>1</td>\n",
       "    </tr>\n",
       "  </tbody>\n",
       "</table>\n",
       "</div>"
      ],
      "text/plain": [
       "                                                    nonsyn_mutations  \\\n",
       "idx                                                                    \n",
       "Consensus_SEARCH-0032-JOR_L1_L2_L3_L4_threshold...                 8   \n",
       "Consensus_SEARCH-0033-JOR_L1_L2_L3_L4_threshold...                 6   \n",
       "Consensus_SEARCH-0034-JOR_L1_L2_L3_L4_threshold...                 5   \n",
       "Consensus_SEARCH-0035-JOR_L1_L2_L3_L4_threshold...                 7   \n",
       "Consensus_SEARCH-0036-JOR_L1_L2_L3_L4_threshold...                 5   \n",
       "\n",
       "                                                    s_nonsyn_mutations  \n",
       "idx                                                                     \n",
       "Consensus_SEARCH-0032-JOR_L1_L2_L3_L4_threshold...                   1  \n",
       "Consensus_SEARCH-0033-JOR_L1_L2_L3_L4_threshold...                   2  \n",
       "Consensus_SEARCH-0034-JOR_L1_L2_L3_L4_threshold...                   1  \n",
       "Consensus_SEARCH-0035-JOR_L1_L2_L3_L4_threshold...                   0  \n",
       "Consensus_SEARCH-0036-JOR_L1_L2_L3_L4_threshold...                   1  "
      ]
     },
     "execution_count": 87,
     "metadata": {},
     "output_type": "execute_result"
    }
   ],
   "source": [
    "nonmutants = jor_seqs[(~jor_seqs['idx'].isin(mutant_samples))].groupby('idx').agg(nonsyn_mutations=('is_nonsyn_mutation', 'sum'), s_nonsyn_mutations=('is_S_nonsyn_mutation', 'sum'))\n",
    "print(nonmutants.shape)\n",
    "nonmutants.head()"
   ]
  },
  {
   "cell_type": "code",
   "execution_count": 92,
   "metadata": {},
   "outputs": [
    {
     "data": {
      "text/plain": [
       "Ttest_indResult(statistic=16.776774111466757, pvalue=3.3066564792193805e-50)"
      ]
     },
     "execution_count": 92,
     "metadata": {},
     "output_type": "execute_result"
    }
   ],
   "source": [
    "ttest_ind(mutants['nonsyn_mutations'].values, nonmutants['nonsyn_mutations'].values)"
   ]
  },
  {
   "cell_type": "code",
   "execution_count": 93,
   "metadata": {},
   "outputs": [
    {
     "data": {
      "text/plain": [
       "Ttest_indResult(statistic=18.795936825009285, pvalue=1.0782681771236335e-59)"
      ]
     },
     "execution_count": 93,
     "metadata": {},
     "output_type": "execute_result"
    }
   ],
   "source": [
    "ttest_ind(mutants['s_nonsyn_mutations'].values, nonmutants['s_nonsyn_mutations'].values)"
   ]
  },
  {
   "cell_type": "code",
   "execution_count": 3,
   "metadata": {},
   "outputs": [
    {
     "data": {
      "text/html": [
       "<div>\n",
       "<style scoped>\n",
       "    .dataframe tbody tr th:only-of-type {\n",
       "        vertical-align: middle;\n",
       "    }\n",
       "\n",
       "    .dataframe tbody tr th {\n",
       "        vertical-align: top;\n",
       "    }\n",
       "\n",
       "    .dataframe thead th {\n",
       "        text-align: right;\n",
       "    }\n",
       "</style>\n",
       "<table border=\"1\" class=\"dataframe\">\n",
       "  <thead>\n",
       "    <tr style=\"text-align: right;\">\n",
       "      <th></th>\n",
       "      <th>type</th>\n",
       "      <th>gene</th>\n",
       "      <th>absolute_coords</th>\n",
       "      <th>ins_len</th>\n",
       "      <th>pos</th>\n",
       "      <th>ref_aa</th>\n",
       "      <th>codon_num</th>\n",
       "      <th>num_samples</th>\n",
       "      <th>first_detected</th>\n",
       "      <th>last_detected</th>\n",
       "      <th>locations</th>\n",
       "      <th>location_counts</th>\n",
       "      <th>samples</th>\n",
       "      <th>ref_codon</th>\n",
       "      <th>prev_5nts</th>\n",
       "      <th>next_5nts</th>\n",
       "    </tr>\n",
       "  </thead>\n",
       "  <tbody>\n",
       "    <tr>\n",
       "      <th>0</th>\n",
       "      <td>insertion</td>\n",
       "      <td>ORF1ab</td>\n",
       "      <td>11077:11079</td>\n",
       "      <td>3</td>\n",
       "      <td>11077</td>\n",
       "      <td>Y</td>\n",
       "      <td>3605</td>\n",
       "      <td>1</td>\n",
       "      <td>2020-08-24</td>\n",
       "      <td>2020-08-24</td>\n",
       "      <td>['JOR/Amman']</td>\n",
       "      <td>[1]</td>\n",
       "      <td>['hCoV-19/JOR/SEARCH-5444-JOR/2020']</td>\n",
       "      <td>TAC</td>\n",
       "      <td>tgttc</td>\n",
       "      <td>ttttt</td>\n",
       "    </tr>\n",
       "    <tr>\n",
       "      <th>1</th>\n",
       "      <td>insertion</td>\n",
       "      <td>ORF1ab</td>\n",
       "      <td>17702:17702</td>\n",
       "      <td>1</td>\n",
       "      <td>17702</td>\n",
       "      <td>_</td>\n",
       "      <td>5813</td>\n",
       "      <td>1</td>\n",
       "      <td>2020-08-22</td>\n",
       "      <td>2020-08-22</td>\n",
       "      <td>['JOR/Amman']</td>\n",
       "      <td>[1]</td>\n",
       "      <td>['hCoV-19/JOR/SEARCH-5448-JOR/2020']</td>\n",
       "      <td>TAA</td>\n",
       "      <td>tctgc</td>\n",
       "      <td>aatta</td>\n",
       "    </tr>\n",
       "    <tr>\n",
       "      <th>2</th>\n",
       "      <td>insertion</td>\n",
       "      <td>ORF1ab</td>\n",
       "      <td>1026:1026</td>\n",
       "      <td>1</td>\n",
       "      <td>1026</td>\n",
       "      <td>E</td>\n",
       "      <td>254</td>\n",
       "      <td>1</td>\n",
       "      <td>2020-11-18</td>\n",
       "      <td>2020-11-18</td>\n",
       "      <td>['USA/California/San Diego']</td>\n",
       "      <td>[1]</td>\n",
       "      <td>['hCoV-19/USA/SEARCH-5569-SAN/2020']</td>\n",
       "      <td>GAA</td>\n",
       "      <td>acacc</td>\n",
       "      <td>ttttg</td>\n",
       "    </tr>\n",
       "    <tr>\n",
       "      <th>3</th>\n",
       "      <td>insertion</td>\n",
       "      <td>ORF1ab</td>\n",
       "      <td>8819:8819</td>\n",
       "      <td>1</td>\n",
       "      <td>8819</td>\n",
       "      <td>_</td>\n",
       "      <td>2852</td>\n",
       "      <td>1</td>\n",
       "      <td>2020-09-14</td>\n",
       "      <td>2020-09-14</td>\n",
       "      <td>['JOR/Amman']</td>\n",
       "      <td>[1]</td>\n",
       "      <td>['hCoV-19/JOR/SEARCH-5441-JOR/2020']</td>\n",
       "      <td>TAG</td>\n",
       "      <td>gcttg</td>\n",
       "      <td>cccat</td>\n",
       "    </tr>\n",
       "    <tr>\n",
       "      <th>4</th>\n",
       "      <td>insertion</td>\n",
       "      <td>ORF1ab</td>\n",
       "      <td>6697:6697</td>\n",
       "      <td>1</td>\n",
       "      <td>6697</td>\n",
       "      <td>V</td>\n",
       "      <td>2145</td>\n",
       "      <td>3</td>\n",
       "      <td>2020-08-31</td>\n",
       "      <td>2020-09-12</td>\n",
       "      <td>['JOR/Amman']</td>\n",
       "      <td>[3]</td>\n",
       "      <td>['hCoV-19/JOR/SEARCH-5431-JOR/2020' 'hCoV-19/J...</td>\n",
       "      <td>GTT</td>\n",
       "      <td>aagcc</td>\n",
       "      <td>ttttc</td>\n",
       "    </tr>\n",
       "  </tbody>\n",
       "</table>\n",
       "</div>"
      ],
      "text/plain": [
       "        type    gene absolute_coords  ins_len    pos ref_aa  codon_num  \\\n",
       "0  insertion  ORF1ab     11077:11079        3  11077      Y       3605   \n",
       "1  insertion  ORF1ab     17702:17702        1  17702      _       5813   \n",
       "2  insertion  ORF1ab       1026:1026        1   1026      E        254   \n",
       "3  insertion  ORF1ab       8819:8819        1   8819      _       2852   \n",
       "4  insertion  ORF1ab       6697:6697        1   6697      V       2145   \n",
       "\n",
       "   num_samples first_detected last_detected                     locations  \\\n",
       "0            1     2020-08-24    2020-08-24                 ['JOR/Amman']   \n",
       "1            1     2020-08-22    2020-08-22                 ['JOR/Amman']   \n",
       "2            1     2020-11-18    2020-11-18  ['USA/California/San Diego']   \n",
       "3            1     2020-09-14    2020-09-14                 ['JOR/Amman']   \n",
       "4            3     2020-08-31    2020-09-12                 ['JOR/Amman']   \n",
       "\n",
       "  location_counts                                            samples  \\\n",
       "0             [1]               ['hCoV-19/JOR/SEARCH-5444-JOR/2020']   \n",
       "1             [1]               ['hCoV-19/JOR/SEARCH-5448-JOR/2020']   \n",
       "2             [1]               ['hCoV-19/USA/SEARCH-5569-SAN/2020']   \n",
       "3             [1]               ['hCoV-19/JOR/SEARCH-5441-JOR/2020']   \n",
       "4             [3]  ['hCoV-19/JOR/SEARCH-5431-JOR/2020' 'hCoV-19/J...   \n",
       "\n",
       "  ref_codon prev_5nts next_5nts  \n",
       "0       TAC     tgttc     ttttt  \n",
       "1       TAA     tctgc     aatta  \n",
       "2       GAA     acacc     ttttg  \n",
       "3       TAG     gcttg     cccat  \n",
       "4       GTT     aagcc     ttttc  "
      ]
     },
     "execution_count": 3,
     "metadata": {},
     "output_type": "execute_result"
    }
   ],
   "source": [
    "df = pd.read_csv(\"/home/al/analysis/2020-12-24_release/insertions.csv\")\n",
    "df"
   ]
  },
  {
   "cell_type": "code",
   "execution_count": 47,
   "metadata": {},
   "outputs": [],
   "source": [
    "codons_of_interest = [69, 70, 144, 145, 681, 716, 982, 1118, 501, 570]"
   ]
  },
  {
   "cell_type": "code",
   "execution_count": 52,
   "metadata": {},
   "outputs": [
    {
     "data": {
      "text/plain": [
       "array(['S', 23604, 'P', 681, 'H', 3, '2020-12-04', '2020-12-14', '[3]',\n",
       "       \"['SEARCH-5356-SAN' 'SEARCH-5365-SAN' 'SEARCH-5381-SAN']\",\n",
       "       \"['USA/California/San Diego']\"], dtype=object)"
      ]
     },
     "execution_count": 52,
     "metadata": {},
     "output_type": "execute_result"
    }
   ],
   "source": [
    "df[(df['gene']=='S') & (df['codon_num'].isin(codons_of_interest))].sort_values('num_samples', ascending=False).iloc[0].values"
   ]
  },
  {
   "cell_type": "code",
   "execution_count": null,
   "metadata": {},
   "outputs": [],
   "source": []
  },
  {
   "cell_type": "code",
   "execution_count": 50,
   "metadata": {},
   "outputs": [
    {
     "data": {
      "text/html": [
       "<div>\n",
       "<style scoped>\n",
       "    .dataframe tbody tr th:only-of-type {\n",
       "        vertical-align: middle;\n",
       "    }\n",
       "\n",
       "    .dataframe tbody tr th {\n",
       "        vertical-align: top;\n",
       "    }\n",
       "\n",
       "    .dataframe thead th {\n",
       "        text-align: right;\n",
       "    }\n",
       "</style>\n",
       "<table border=\"1\" class=\"dataframe\">\n",
       "  <thead>\n",
       "    <tr style=\"text-align: right;\">\n",
       "      <th></th>\n",
       "      <th>type</th>\n",
       "      <th>gene</th>\n",
       "      <th>absolute_coords</th>\n",
       "      <th>del_len</th>\n",
       "      <th>pos</th>\n",
       "      <th>ref_aa</th>\n",
       "      <th>codon_num</th>\n",
       "      <th>num_samples</th>\n",
       "      <th>first_detected</th>\n",
       "      <th>last_detected</th>\n",
       "      <th>locations</th>\n",
       "      <th>location_counts</th>\n",
       "      <th>samples</th>\n",
       "      <th>ref_codon</th>\n",
       "      <th>prev_5nts</th>\n",
       "      <th>next_5nts</th>\n",
       "    </tr>\n",
       "  </thead>\n",
       "  <tbody>\n",
       "  </tbody>\n",
       "</table>\n",
       "</div>"
      ],
      "text/plain": [
       "Empty DataFrame\n",
       "Columns: [type, gene, absolute_coords, del_len, pos, ref_aa, codon_num, num_samples, first_detected, last_detected, locations, location_counts, samples, ref_codon, prev_5nts, next_5nts]\n",
       "Index: []"
      ]
     },
     "execution_count": 50,
     "metadata": {},
     "output_type": "execute_result"
    }
   ],
   "source": [
    "dels = pd.read_csv(\"/home/al/analysis/2020-12-24_release/deletions.csv\")\n",
    "dels[(dels['gene']=='S') & (dels['codon_num'].isin(codons_of_interest))].sort_values('num_samples', ascending=False)"
   ]
  },
  {
   "cell_type": "code",
   "execution_count": null,
   "metadata": {},
   "outputs": [],
   "source": []
  },
  {
   "cell_type": "code",
   "execution_count": 54,
   "metadata": {},
   "outputs": [
    {
     "data": {
      "text/html": [
       "<div>\n",
       "<style scoped>\n",
       "    .dataframe tbody tr th:only-of-type {\n",
       "        vertical-align: middle;\n",
       "    }\n",
       "\n",
       "    .dataframe tbody tr th {\n",
       "        vertical-align: top;\n",
       "    }\n",
       "\n",
       "    .dataframe thead th {\n",
       "        text-align: right;\n",
       "    }\n",
       "</style>\n",
       "<table border=\"1\" class=\"dataframe\">\n",
       "  <thead>\n",
       "    <tr style=\"text-align: right;\">\n",
       "      <th></th>\n",
       "      <th>gene</th>\n",
       "      <th>pos</th>\n",
       "      <th>ref_aa</th>\n",
       "      <th>codon_num</th>\n",
       "      <th>alt_aa</th>\n",
       "      <th>num_samples</th>\n",
       "      <th>first_detected</th>\n",
       "      <th>last_detected</th>\n",
       "      <th>location_counts</th>\n",
       "      <th>samples</th>\n",
       "      <th>...</th>\n",
       "      <th>gisaid_last_detected</th>\n",
       "      <th>gisaid_num_locations</th>\n",
       "      <th>gisaid_location_counts</th>\n",
       "      <th>gisaid_num_states</th>\n",
       "      <th>gisaid_state_counts</th>\n",
       "      <th>gisaid_num_countries</th>\n",
       "      <th>gisaid_country_counts</th>\n",
       "      <th>gisaid_locations</th>\n",
       "      <th>gisaid_states</th>\n",
       "      <th>gisaid_countries</th>\n",
       "    </tr>\n",
       "  </thead>\n",
       "  <tbody>\n",
       "    <tr>\n",
       "      <th>250</th>\n",
       "      <td>S</td>\n",
       "      <td>23604</td>\n",
       "      <td>P</td>\n",
       "      <td>681</td>\n",
       "      <td>H</td>\n",
       "      <td>13</td>\n",
       "      <td>2020-07-30</td>\n",
       "      <td>2020-12-03</td>\n",
       "      <td>[13]</td>\n",
       "      <td>['SEARCH-3061-SAN' 'SEARCH-3067-SAN' 'SEARCH-3...</td>\n",
       "      <td>...</td>\n",
       "      <td>2020-12-19</td>\n",
       "      <td>33.0</td>\n",
       "      <td>[5, 4, 1, 1, 3, 1, 1, 1, 1, 1, 1, 30, 1, 2, 2,...</td>\n",
       "      <td>40.0</td>\n",
       "      <td>[8, 4, 5, 2, 66, 5, 1, 1848, 9, 1, 14, 2, 2, 1...</td>\n",
       "      <td>13.0</td>\n",
       "      <td>[4, 41, 1, 50, 5, 11, 3, 3, 2, 6, 4, 182, 1869]</td>\n",
       "      <td>['Alachua County', 'Alameda County', 'Albany C...</td>\n",
       "      <td>['Arizona', 'Auckland', 'Balear Islands', 'Bas...</td>\n",
       "      <td>['Australia', 'Denmark', 'Germany', 'India', '...</td>\n",
       "    </tr>\n",
       "    <tr>\n",
       "      <th>1002</th>\n",
       "      <td>S</td>\n",
       "      <td>24914</td>\n",
       "      <td>D</td>\n",
       "      <td>1118</td>\n",
       "      <td>Y</td>\n",
       "      <td>3</td>\n",
       "      <td>2020-04-26</td>\n",
       "      <td>2020-05-04</td>\n",
       "      <td>[3]</td>\n",
       "      <td>['SEARCH-0237-SAN' 'SEARCH-0532-SAN' 'SEARCH-0...</td>\n",
       "      <td>...</td>\n",
       "      <td>2020-12-18</td>\n",
       "      <td>8.0</td>\n",
       "      <td>[1, 1, 1, 2, 3, 1, 1, 63]</td>\n",
       "      <td>23.0</td>\n",
       "      <td>[1, 1, 2, 3, 1, 13, 3, 1, 1, 1, 2, 2, 1, 2, 1,...</td>\n",
       "      <td>10.0</td>\n",
       "      <td>[2, 1, 35, 1, 1, 1, 2, 13, 1, 16]</td>\n",
       "      <td>['Chicago', 'London', 'Multnomah County', 'New...</td>\n",
       "      <td>['Abu Dhabi', 'Australia', 'Bangkok', 'Califor...</td>\n",
       "      <td>['Australia', 'Bangladesh', 'Denmark', 'Nether...</td>\n",
       "    </tr>\n",
       "    <tr>\n",
       "      <th>1042</th>\n",
       "      <td>S</td>\n",
       "      <td>23709</td>\n",
       "      <td>T</td>\n",
       "      <td>716</td>\n",
       "      <td>I</td>\n",
       "      <td>3</td>\n",
       "      <td>2020-05-16</td>\n",
       "      <td>2020-09-30</td>\n",
       "      <td>[2, 1]</td>\n",
       "      <td>['SEARCH-0681-IPL' 'SEARCH-3916-JOR' 'SEARCH-3...</td>\n",
       "      <td>...</td>\n",
       "      <td>2020-12-19</td>\n",
       "      <td>8.0</td>\n",
       "      <td>[3, 1, 1, 2, 1, 1, 2, 1908]</td>\n",
       "      <td>27.0</td>\n",
       "      <td>[2, 1, 1, 1836, 1, 1, 13, 1, 1, 3, 1, 4, 9, 2,...</td>\n",
       "      <td>11.0</td>\n",
       "      <td>[4, 1, 18, 1, 1, 2, 1, 13, 1, 13, 1864]</td>\n",
       "      <td>['Caddo Parish', 'Gibraltar', 'Greater Houston...</td>\n",
       "      <td>['Amman', 'Arizona', 'California', 'England', ...</td>\n",
       "      <td>['Australia', 'Canada', 'Denmark', 'France', '...</td>\n",
       "    </tr>\n",
       "    <tr>\n",
       "      <th>1048</th>\n",
       "      <td>S</td>\n",
       "      <td>23604</td>\n",
       "      <td>P</td>\n",
       "      <td>681</td>\n",
       "      <td>R</td>\n",
       "      <td>3</td>\n",
       "      <td>2020-12-03</td>\n",
       "      <td>2020-12-03</td>\n",
       "      <td>[3]</td>\n",
       "      <td>['SEARCH-5114-SAN' 'SEARCH-5118-SAN' 'SEARCH-5...</td>\n",
       "      <td>...</td>\n",
       "      <td>2020-12-14</td>\n",
       "      <td>6.0</td>\n",
       "      <td>[1, 2, 3, 1, 1, 20]</td>\n",
       "      <td>11.0</td>\n",
       "      <td>[2, 4, 8, 5, 3, 1, 1, 1, 1, 1, 1]</td>\n",
       "      <td>10.0</td>\n",
       "      <td>[1, 5, 1, 4, 1, 10, 1, 1, 1, 3]</td>\n",
       "      <td>['Baney', 'Counties Manukau', 'Malabo', 'New Y...</td>\n",
       "      <td>['Auckland', 'Bioko Norte', 'Canterbury', 'Dha...</td>\n",
       "      <td>['Australia', 'Bangladesh', 'Denmark', 'Equato...</td>\n",
       "    </tr>\n",
       "    <tr>\n",
       "      <th>2043</th>\n",
       "      <td>S</td>\n",
       "      <td>23064</td>\n",
       "      <td>N</td>\n",
       "      <td>501</td>\n",
       "      <td>I</td>\n",
       "      <td>1</td>\n",
       "      <td>2020-10-05</td>\n",
       "      <td>2020-10-05</td>\n",
       "      <td>[1]</td>\n",
       "      <td>['SEARCH-5210-JOR']</td>\n",
       "      <td>...</td>\n",
       "      <td>NaN</td>\n",
       "      <td>NaN</td>\n",
       "      <td>NaN</td>\n",
       "      <td>NaN</td>\n",
       "      <td>NaN</td>\n",
       "      <td>NaN</td>\n",
       "      <td>NaN</td>\n",
       "      <td>NaN</td>\n",
       "      <td>NaN</td>\n",
       "      <td>NaN</td>\n",
       "    </tr>\n",
       "    <tr>\n",
       "      <th>2614</th>\n",
       "      <td>S</td>\n",
       "      <td>21994</td>\n",
       "      <td>Y</td>\n",
       "      <td>144</td>\n",
       "      <td>Y</td>\n",
       "      <td>1</td>\n",
       "      <td>2020-06-13</td>\n",
       "      <td>2020-06-13</td>\n",
       "      <td>[1]</td>\n",
       "      <td>['SEARCH-3824-IPL']</td>\n",
       "      <td>...</td>\n",
       "      <td>2020-12-17</td>\n",
       "      <td>6.0</td>\n",
       "      <td>[1, 2, 1, 2, 1, 11]</td>\n",
       "      <td>8.0</td>\n",
       "      <td>[1, 3, 1, 2, 1, 8, 1, 1]</td>\n",
       "      <td>6.0</td>\n",
       "      <td>[3, 1, 1, 3, 1, 9]</td>\n",
       "      <td>['Barcelona', 'Brahmanbaria', 'Imperial County...</td>\n",
       "      <td>['Abu Dhabi', 'California', 'Catalunya', 'Chat...</td>\n",
       "      <td>['Bangladesh', 'Spain', 'Sweden', 'USA', 'Unit...</td>\n",
       "    </tr>\n",
       "    <tr>\n",
       "      <th>2615</th>\n",
       "      <td>S</td>\n",
       "      <td>21997</td>\n",
       "      <td>Y</td>\n",
       "      <td>145</td>\n",
       "      <td>Y</td>\n",
       "      <td>1</td>\n",
       "      <td>2020-09-25</td>\n",
       "      <td>2020-09-25</td>\n",
       "      <td>[1]</td>\n",
       "      <td>['SEARCH-4479-SAN']</td>\n",
       "      <td>...</td>\n",
       "      <td>2020-12-18</td>\n",
       "      <td>9.0</td>\n",
       "      <td>[1, 6, 1, 2, 1, 3, 2, 2, 29]</td>\n",
       "      <td>16.0</td>\n",
       "      <td>[1, 3, 3, 1, 13, 2, 2, 1, 1, 2, 2, 1, 3, 3, 2, 7]</td>\n",
       "      <td>12.0</td>\n",
       "      <td>[4, 2, 1, 2, 1, 1, 3, 7, 3, 1, 9, 13]</td>\n",
       "      <td>['Bitou', 'George', 'San Diego', 'Santa Clara ...</td>\n",
       "      <td>['Aargau', 'Basque Country', 'California', 'Eg...</td>\n",
       "      <td>['Australia', 'Denmark', 'Egypt', 'India', 'It...</td>\n",
       "    </tr>\n",
       "    <tr>\n",
       "      <th>2625</th>\n",
       "      <td>S</td>\n",
       "      <td>21772</td>\n",
       "      <td>V</td>\n",
       "      <td>70</td>\n",
       "      <td>V</td>\n",
       "      <td>1</td>\n",
       "      <td>2020-04-22</td>\n",
       "      <td>2020-04-22</td>\n",
       "      <td>[1]</td>\n",
       "      <td>['SEARCH-1700-TIJ']</td>\n",
       "      <td>...</td>\n",
       "      <td>2020-12-18</td>\n",
       "      <td>19.0</td>\n",
       "      <td>[11, 1, 3, 2, 2, 1, 2, 1, 1, 1, 11, 40, 1, 2, ...</td>\n",
       "      <td>37.0</td>\n",
       "      <td>[1, 40, 1, 4, 41, 2, 1, 2, 14, 1, 2, 1, 2, 2, ...</td>\n",
       "      <td>16.0</td>\n",
       "      <td>[4, 1, 32, 1, 1, 2, 1, 1, 39, 1, 3, 8, 1, 2, 8...</td>\n",
       "      <td>['Azovo', 'Brooklyn', 'Ekaterinburg', 'El Paso...</td>\n",
       "      <td>['Baja California', 'California', 'Denmark', '...</td>\n",
       "      <td>['Australia', 'Chile', 'Denmark', 'Gambia', 'H...</td>\n",
       "    </tr>\n",
       "    <tr>\n",
       "      <th>2634</th>\n",
       "      <td>S</td>\n",
       "      <td>21770</td>\n",
       "      <td>V</td>\n",
       "      <td>70</td>\n",
       "      <td>F</td>\n",
       "      <td>1</td>\n",
       "      <td>2020-07-04</td>\n",
       "      <td>2020-07-04</td>\n",
       "      <td>[1]</td>\n",
       "      <td>['SEARCH-2559-TIJ']</td>\n",
       "      <td>...</td>\n",
       "      <td>2020-12-17</td>\n",
       "      <td>14.0</td>\n",
       "      <td>[1, 1, 1, 1, 1, 1, 3, 1, 1, 2, 1, 1, 1, 73]</td>\n",
       "      <td>25.0</td>\n",
       "      <td>[1, 1, 1, 5, 1, 21, 1, 3, 1, 2, 1, 1, 2, 5, 4,...</td>\n",
       "      <td>11.0</td>\n",
       "      <td>[3, 1, 6, 1, 1, 31, 3, 1, 1, 17, 24]</td>\n",
       "      <td>['Caddo Parish', 'Contra Costa County', 'Great...</td>\n",
       "      <td>['Arizona', 'Baja California', 'Cairo', 'Calif...</td>\n",
       "      <td>['Denmark', 'Egypt', 'India', 'Indonesia', 'Me...</td>\n",
       "    </tr>\n",
       "  </tbody>\n",
       "</table>\n",
       "<p>9 rows × 23 columns</p>\n",
       "</div>"
      ],
      "text/plain": [
       "     gene    pos ref_aa  codon_num alt_aa  num_samples first_detected  \\\n",
       "250     S  23604      P        681      H           13     2020-07-30   \n",
       "1002    S  24914      D       1118      Y            3     2020-04-26   \n",
       "1042    S  23709      T        716      I            3     2020-05-16   \n",
       "1048    S  23604      P        681      R            3     2020-12-03   \n",
       "2043    S  23064      N        501      I            1     2020-10-05   \n",
       "2614    S  21994      Y        144      Y            1     2020-06-13   \n",
       "2615    S  21997      Y        145      Y            1     2020-09-25   \n",
       "2625    S  21772      V         70      V            1     2020-04-22   \n",
       "2634    S  21770      V         70      F            1     2020-07-04   \n",
       "\n",
       "     last_detected location_counts  \\\n",
       "250     2020-12-03            [13]   \n",
       "1002    2020-05-04             [3]   \n",
       "1042    2020-09-30          [2, 1]   \n",
       "1048    2020-12-03             [3]   \n",
       "2043    2020-10-05             [1]   \n",
       "2614    2020-06-13             [1]   \n",
       "2615    2020-09-25             [1]   \n",
       "2625    2020-04-22             [1]   \n",
       "2634    2020-07-04             [1]   \n",
       "\n",
       "                                                samples  ...  \\\n",
       "250   ['SEARCH-3061-SAN' 'SEARCH-3067-SAN' 'SEARCH-3...  ...   \n",
       "1002  ['SEARCH-0237-SAN' 'SEARCH-0532-SAN' 'SEARCH-0...  ...   \n",
       "1042  ['SEARCH-0681-IPL' 'SEARCH-3916-JOR' 'SEARCH-3...  ...   \n",
       "1048  ['SEARCH-5114-SAN' 'SEARCH-5118-SAN' 'SEARCH-5...  ...   \n",
       "2043                                ['SEARCH-5210-JOR']  ...   \n",
       "2614                                ['SEARCH-3824-IPL']  ...   \n",
       "2615                                ['SEARCH-4479-SAN']  ...   \n",
       "2625                                ['SEARCH-1700-TIJ']  ...   \n",
       "2634                                ['SEARCH-2559-TIJ']  ...   \n",
       "\n",
       "     gisaid_last_detected  gisaid_num_locations  \\\n",
       "250            2020-12-19                  33.0   \n",
       "1002           2020-12-18                   8.0   \n",
       "1042           2020-12-19                   8.0   \n",
       "1048           2020-12-14                   6.0   \n",
       "2043                  NaN                   NaN   \n",
       "2614           2020-12-17                   6.0   \n",
       "2615           2020-12-18                   9.0   \n",
       "2625           2020-12-18                  19.0   \n",
       "2634           2020-12-17                  14.0   \n",
       "\n",
       "                                 gisaid_location_counts gisaid_num_states  \\\n",
       "250   [5, 4, 1, 1, 3, 1, 1, 1, 1, 1, 1, 30, 1, 2, 2,...              40.0   \n",
       "1002                          [1, 1, 1, 2, 3, 1, 1, 63]              23.0   \n",
       "1042                        [3, 1, 1, 2, 1, 1, 2, 1908]              27.0   \n",
       "1048                                [1, 2, 3, 1, 1, 20]              11.0   \n",
       "2043                                                NaN               NaN   \n",
       "2614                                [1, 2, 1, 2, 1, 11]               8.0   \n",
       "2615                       [1, 6, 1, 2, 1, 3, 2, 2, 29]              16.0   \n",
       "2625  [11, 1, 3, 2, 2, 1, 2, 1, 1, 1, 11, 40, 1, 2, ...              37.0   \n",
       "2634        [1, 1, 1, 1, 1, 1, 3, 1, 1, 2, 1, 1, 1, 73]              25.0   \n",
       "\n",
       "                                    gisaid_state_counts gisaid_num_countries  \\\n",
       "250   [8, 4, 5, 2, 66, 5, 1, 1848, 9, 1, 14, 2, 2, 1...                 13.0   \n",
       "1002  [1, 1, 2, 3, 1, 13, 3, 1, 1, 1, 2, 2, 1, 2, 1,...                 10.0   \n",
       "1042  [2, 1, 1, 1836, 1, 1, 13, 1, 1, 3, 1, 4, 9, 2,...                 11.0   \n",
       "1048                  [2, 4, 8, 5, 3, 1, 1, 1, 1, 1, 1]                 10.0   \n",
       "2043                                                NaN                  NaN   \n",
       "2614                           [1, 3, 1, 2, 1, 8, 1, 1]                  6.0   \n",
       "2615  [1, 3, 3, 1, 13, 2, 2, 1, 1, 2, 2, 1, 3, 3, 2, 7]                 12.0   \n",
       "2625  [1, 40, 1, 4, 41, 2, 1, 2, 14, 1, 2, 1, 2, 2, ...                 16.0   \n",
       "2634  [1, 1, 1, 5, 1, 21, 1, 3, 1, 2, 1, 1, 2, 5, 4,...                 11.0   \n",
       "\n",
       "                                  gisaid_country_counts  \\\n",
       "250     [4, 41, 1, 50, 5, 11, 3, 3, 2, 6, 4, 182, 1869]   \n",
       "1002                  [2, 1, 35, 1, 1, 1, 2, 13, 1, 16]   \n",
       "1042            [4, 1, 18, 1, 1, 2, 1, 13, 1, 13, 1864]   \n",
       "1048                    [1, 5, 1, 4, 1, 10, 1, 1, 1, 3]   \n",
       "2043                                                NaN   \n",
       "2614                                 [3, 1, 1, 3, 1, 9]   \n",
       "2615              [4, 2, 1, 2, 1, 1, 3, 7, 3, 1, 9, 13]   \n",
       "2625  [4, 1, 32, 1, 1, 2, 1, 1, 39, 1, 3, 8, 1, 2, 8...   \n",
       "2634               [3, 1, 6, 1, 1, 31, 3, 1, 1, 17, 24]   \n",
       "\n",
       "                                       gisaid_locations  \\\n",
       "250   ['Alachua County', 'Alameda County', 'Albany C...   \n",
       "1002  ['Chicago', 'London', 'Multnomah County', 'New...   \n",
       "1042  ['Caddo Parish', 'Gibraltar', 'Greater Houston...   \n",
       "1048  ['Baney', 'Counties Manukau', 'Malabo', 'New Y...   \n",
       "2043                                                NaN   \n",
       "2614  ['Barcelona', 'Brahmanbaria', 'Imperial County...   \n",
       "2615  ['Bitou', 'George', 'San Diego', 'Santa Clara ...   \n",
       "2625  ['Azovo', 'Brooklyn', 'Ekaterinburg', 'El Paso...   \n",
       "2634  ['Caddo Parish', 'Contra Costa County', 'Great...   \n",
       "\n",
       "                                          gisaid_states  \\\n",
       "250   ['Arizona', 'Auckland', 'Balear Islands', 'Bas...   \n",
       "1002  ['Abu Dhabi', 'Australia', 'Bangkok', 'Califor...   \n",
       "1042  ['Amman', 'Arizona', 'California', 'England', ...   \n",
       "1048  ['Auckland', 'Bioko Norte', 'Canterbury', 'Dha...   \n",
       "2043                                                NaN   \n",
       "2614  ['Abu Dhabi', 'California', 'Catalunya', 'Chat...   \n",
       "2615  ['Aargau', 'Basque Country', 'California', 'Eg...   \n",
       "2625  ['Baja California', 'California', 'Denmark', '...   \n",
       "2634  ['Arizona', 'Baja California', 'Cairo', 'Calif...   \n",
       "\n",
       "                                       gisaid_countries  \n",
       "250   ['Australia', 'Denmark', 'Germany', 'India', '...  \n",
       "1002  ['Australia', 'Bangladesh', 'Denmark', 'Nether...  \n",
       "1042  ['Australia', 'Canada', 'Denmark', 'France', '...  \n",
       "1048  ['Australia', 'Bangladesh', 'Denmark', 'Equato...  \n",
       "2043                                                NaN  \n",
       "2614  ['Bangladesh', 'Spain', 'Sweden', 'USA', 'Unit...  \n",
       "2615  ['Australia', 'Denmark', 'Egypt', 'India', 'It...  \n",
       "2625  ['Australia', 'Chile', 'Denmark', 'Gambia', 'H...  \n",
       "2634  ['Denmark', 'Egypt', 'India', 'Indonesia', 'Me...  \n",
       "\n",
       "[9 rows x 23 columns]"
      ]
     },
     "execution_count": 54,
     "metadata": {},
     "output_type": "execute_result"
    }
   ],
   "source": [
    "subs = pd.read_csv(\"/home/al/code/HCoV-19-Genomics/variants/substitutions_22-12-2020.csv\")\n",
    "subs[(subs['gene']=='S') & (subs['codon_num'].isin(codons_of_interest))].sort_values('num_samples', ascending=False)"
   ]
  },
  {
   "cell_type": "code",
   "execution_count": 30,
   "metadata": {},
   "outputs": [],
   "source": [
    "codons_of_interest = [501, 957, 67, 68, 69, 417, 484]"
   ]
  },
  {
   "cell_type": "code",
   "execution_count": 35,
   "metadata": {},
   "outputs": [
    {
     "data": {
      "text/html": [
       "<div>\n",
       "<style scoped>\n",
       "    .dataframe tbody tr th:only-of-type {\n",
       "        vertical-align: middle;\n",
       "    }\n",
       "\n",
       "    .dataframe tbody tr th {\n",
       "        vertical-align: top;\n",
       "    }\n",
       "\n",
       "    .dataframe thead th {\n",
       "        text-align: right;\n",
       "    }\n",
       "</style>\n",
       "<table border=\"1\" class=\"dataframe\">\n",
       "  <thead>\n",
       "    <tr style=\"text-align: right;\">\n",
       "      <th></th>\n",
       "      <th>gene</th>\n",
       "      <th>pos</th>\n",
       "      <th>ref_aa</th>\n",
       "      <th>codon_num</th>\n",
       "      <th>alt_aa</th>\n",
       "      <th>num_samples</th>\n",
       "      <th>first_detected</th>\n",
       "      <th>last_detected</th>\n",
       "      <th>location_counts</th>\n",
       "      <th>samples</th>\n",
       "    </tr>\n",
       "  </thead>\n",
       "  <tbody>\n",
       "    <tr>\n",
       "      <th>1012</th>\n",
       "      <td>S</td>\n",
       "      <td>24432</td>\n",
       "      <td>Q</td>\n",
       "      <td>957</td>\n",
       "      <td>L</td>\n",
       "      <td>67</td>\n",
       "      <td>2020-08-13</td>\n",
       "      <td>2020-11-07</td>\n",
       "      <td>(array(['JOR/Amman', 'JOR/Aqaba', 'JOR/Irbid']...</td>\n",
       "      <td>['SEARCH-5399-JOR' 'SEARCH-5400-JOR' 'SEARCH-5...</td>\n",
       "    </tr>\n",
       "    <tr>\n",
       "      <th>919</th>\n",
       "      <td>S</td>\n",
       "      <td>21767</td>\n",
       "      <td>H</td>\n",
       "      <td>69</td>\n",
       "      <td>Y</td>\n",
       "      <td>1</td>\n",
       "      <td>2020-09-03</td>\n",
       "      <td>2020-09-03</td>\n",
       "      <td>(array(['JOR/Amman'], dtype=object), array([1]))</td>\n",
       "      <td>['SEARCH-5468-JOR']</td>\n",
       "    </tr>\n",
       "    <tr>\n",
       "      <th>965</th>\n",
       "      <td>S</td>\n",
       "      <td>23012</td>\n",
       "      <td>E</td>\n",
       "      <td>484</td>\n",
       "      <td>K</td>\n",
       "      <td>1</td>\n",
       "      <td>2020-12-04</td>\n",
       "      <td>2020-12-04</td>\n",
       "      <td>(array(['USA/California/San Diego'], dtype=obj...</td>\n",
       "      <td>['SEARCH-5383-SAN']</td>\n",
       "    </tr>\n",
       "  </tbody>\n",
       "</table>\n",
       "</div>"
      ],
      "text/plain": [
       "     gene    pos ref_aa  codon_num alt_aa  num_samples first_detected  \\\n",
       "1012    S  24432      Q        957      L           67     2020-08-13   \n",
       "919     S  21767      H         69      Y            1     2020-09-03   \n",
       "965     S  23012      E        484      K            1     2020-12-04   \n",
       "\n",
       "     last_detected                                    location_counts  \\\n",
       "1012    2020-11-07  (array(['JOR/Amman', 'JOR/Aqaba', 'JOR/Irbid']...   \n",
       "919     2020-09-03   (array(['JOR/Amman'], dtype=object), array([1]))   \n",
       "965     2020-12-04  (array(['USA/California/San Diego'], dtype=obj...   \n",
       "\n",
       "                                                samples  \n",
       "1012  ['SEARCH-5399-JOR' 'SEARCH-5400-JOR' 'SEARCH-5...  \n",
       "919                                 ['SEARCH-5468-JOR']  \n",
       "965                                 ['SEARCH-5383-SAN']  "
      ]
     },
     "execution_count": 35,
     "metadata": {},
     "output_type": "execute_result"
    }
   ],
   "source": [
    "(df[(df['gene']=='S') & (df['codon_num'].isin(codons_of_interest))]\n",
    " .sort_values('num_samples', ascending=False)\n",
    " .iloc[:99])"
   ]
  },
  {
   "cell_type": "code",
   "execution_count": 36,
   "metadata": {},
   "outputs": [
    {
     "data": {
      "text/html": [
       "<div>\n",
       "<style scoped>\n",
       "    .dataframe tbody tr th:only-of-type {\n",
       "        vertical-align: middle;\n",
       "    }\n",
       "\n",
       "    .dataframe tbody tr th {\n",
       "        vertical-align: top;\n",
       "    }\n",
       "\n",
       "    .dataframe thead th {\n",
       "        text-align: right;\n",
       "    }\n",
       "</style>\n",
       "<table border=\"1\" class=\"dataframe\">\n",
       "  <thead>\n",
       "    <tr style=\"text-align: right;\">\n",
       "      <th></th>\n",
       "      <th>type</th>\n",
       "      <th>gene</th>\n",
       "      <th>absolute_coords</th>\n",
       "      <th>del_len</th>\n",
       "      <th>pos</th>\n",
       "      <th>ref_aa</th>\n",
       "      <th>codon_num</th>\n",
       "      <th>num_samples</th>\n",
       "      <th>first_detected</th>\n",
       "      <th>last_detected</th>\n",
       "      <th>location_counts</th>\n",
       "      <th>samples</th>\n",
       "      <th>ref_codon</th>\n",
       "      <th>prev_5nts</th>\n",
       "      <th>next_5nts</th>\n",
       "    </tr>\n",
       "  </thead>\n",
       "  <tbody>\n",
       "  </tbody>\n",
       "</table>\n",
       "</div>"
      ],
      "text/plain": [
       "Empty DataFrame\n",
       "Columns: [type, gene, absolute_coords, del_len, pos, ref_aa, codon_num, num_samples, first_detected, last_detected, location_counts, samples, ref_codon, prev_5nts, next_5nts]\n",
       "Index: []"
      ]
     },
     "execution_count": 36,
     "metadata": {},
     "output_type": "execute_result"
    }
   ],
   "source": [
    "ddf = pd.read_csv(\"/home/al/analysis/2020-12-24_release/deletions.csv\")\n",
    "(ddf[(ddf['gene']=='S') & (ddf['codon_num'].isin(codons_of_interest))]\n",
    " .sort_values('num_samples', ascending=False)\n",
    " .iloc[:99])"
   ]
  },
  {
   "cell_type": "code",
   "execution_count": null,
   "metadata": {},
   "outputs": [],
   "source": []
  },
  {
   "cell_type": "code",
   "execution_count": null,
   "metadata": {},
   "outputs": [],
   "source": []
  },
  {
   "cell_type": "code",
   "execution_count": 15,
   "metadata": {},
   "outputs": [],
   "source": [
    "df = pd.read_csv(\"/home/al/data/release_summary_csv/release_summary_24_12_2020.csv\")\n",
    "def check_date(x):\n",
    "    if type(x)==str: return True\n",
    "    return False\n",
    "df = df[df['Collection date'].apply(check_date)]"
   ]
  },
  {
   "cell_type": "code",
   "execution_count": null,
   "metadata": {},
   "outputs": [],
   "source": [
    "Path.isfile()"
   ]
  },
  {
   "cell_type": "code",
   "execution_count": 16,
   "metadata": {},
   "outputs": [],
   "source": [
    "# clean and process sample collection dates\n",
    "df = df.loc[(df['Collection date']!='Unknown') \n",
    "               & (df['Collection date']!='1900-01-00')]\n",
    "df.loc[df['Collection date'].str.contains('/'), 'Collection date'] = df['Collection date'].apply(lambda x: x.split('/')[0])\n",
    "df['date'] = pd.to_datetime(df['Collection date'])"
   ]
  },
  {
   "cell_type": "code",
   "execution_count": 21,
   "metadata": {},
   "outputs": [
    {
     "data": {
      "text/plain": [
       "Index(['Sample ID', 'SEARCH SampleID', 'Ready for release?',\n",
       "       'New sequences ready for release', 'Released?', 'Submitter',\n",
       "       'FASTA filename', 'Virus name', 'Type', 'Passage details/history',\n",
       "       'Collection date', 'Location', 'Additional location information',\n",
       "       'Host', 'Additional host information', 'Gender', 'Patient age',\n",
       "       'Patient status', 'Specimen source', 'Outbreak', 'Last vaccinated',\n",
       "       'Treatment', 'Sequencing technology', 'Assembly method', 'Coverage',\n",
       "       'Originating lab', 'Address', 'Sample ID given by the sample provider',\n",
       "       'Submitting lab', 'Address.1',\n",
       "       'Sample ID given by the submitting laboratory', 'Authors', 'Comment',\n",
       "       'Comment Icon', 'date', 'idx'],\n",
       "      dtype='object')"
      ]
     },
     "execution_count": 21,
     "metadata": {},
     "output_type": "execute_result"
    }
   ],
   "source": [
    "df.columns"
   ]
  },
  {
   "cell_type": "code",
   "execution_count": 22,
   "metadata": {},
   "outputs": [],
   "source": [
    "df['idx'] = df['SEARCH SampleID'].apply(lambda x: x.split('-')[1]).astype(int)\n",
    "df.loc[df['idx']>5325, 'New sequences ready for release'] = 'Yes'"
   ]
  },
  {
   "cell_type": "code",
   "execution_count": 23,
   "metadata": {},
   "outputs": [],
   "source": [
    "df.to_csv(\"/home/al/data/release_summary_csv/release_summary_24_12_2020.csv\", index=False)"
   ]
  },
  {
   "cell_type": "code",
   "execution_count": 2,
   "metadata": {},
   "outputs": [],
   "source": [
    "import pandas as pd"
   ]
  },
  {
   "cell_type": "code",
   "execution_count": 11,
   "metadata": {},
   "outputs": [],
   "source": [
    "from bjorn import *\n",
    "from bjorn_support import *\n",
    "from onion_trees import *\n",
    "import gffutils\n",
    "import math\n",
    "from mutations import *\n",
    "import ast"
   ]
  },
  {
   "cell_type": "code",
   "execution_count": 160,
   "metadata": {},
   "outputs": [],
   "source": [
    "subs = pd.read_csv(\"/home/al/analysis/mutations/gisaid/gisaid_replacements_aggregated_19-12-2020.csv\")"
   ]
  },
  {
   "cell_type": "code",
   "execution_count": 161,
   "metadata": {},
   "outputs": [],
   "source": [
    "dels = pd.read_csv(\"/home/al/analysis/mutations/gisaid/gisaid_deletions_aggregated_19-12-2020.csv\")"
   ]
  },
  {
   "cell_type": "code",
   "execution_count": 162,
   "metadata": {},
   "outputs": [],
   "source": [
    "strain_dels = dels[(dels['gene']=='S') & (dels['codon_num'].isin([67, 68, 69]))].drop_duplicates(subset=['absolute_coords']).reset_index(drop=True)"
   ]
  },
  {
   "cell_type": "code",
   "execution_count": 163,
   "metadata": {},
   "outputs": [],
   "source": [
    "strain_subs = subs[(subs['gene']=='S') & (subs['codon_num'].isin([501, 417, 484]))].drop_duplicates(subset=['gene', 'codon_num', 'alt_aa']).reset_index(drop=True)"
   ]
  },
  {
   "cell_type": "code",
   "execution_count": 164,
   "metadata": {},
   "outputs": [
    {
     "data": {
      "text/plain": [
       "((16, 17), (4, 21))"
      ]
     },
     "execution_count": 164,
     "metadata": {},
     "output_type": "execute_result"
    }
   ],
   "source": [
    "strain_subs.shape, strain_dels.shape"
   ]
  },
  {
   "cell_type": "code",
   "execution_count": 165,
   "metadata": {},
   "outputs": [
    {
     "data": {
      "text/plain": [
       "Index(['gene', 'pos', 'ref_aa', 'codon_num', 'alt_aa', 'num_samples',\n",
       "       'first_detected', 'last_detected', 'num_locations', 'location_counts',\n",
       "       'num_divisions', 'division_counts', 'num_countries', 'country_counts',\n",
       "       'locations', 'divisions', 'countries'],\n",
       "      dtype='object')"
      ]
     },
     "execution_count": 165,
     "metadata": {},
     "output_type": "execute_result"
    }
   ],
   "source": [
    "strain_subs.columns"
   ]
  },
  {
   "cell_type": "code",
   "execution_count": 166,
   "metadata": {},
   "outputs": [],
   "source": [
    "def is_in(x, loc):\n",
    "    for i in eval(x):\n",
    "        if loc in i.lower():\n",
    "            return True\n",
    "    return False\n",
    "strain_subs['isin_SD'] = strain_subs['locations'].apply(is_in, args=('san diego',))\n",
    "strain_subs['isin_CA'] = strain_subs['divisions'].apply(is_in, args=('california',))\n",
    "strain_subs['isin_US'] = strain_subs['countries'].apply(is_in, args=('usa',))"
   ]
  },
  {
   "cell_type": "code",
   "execution_count": 167,
   "metadata": {},
   "outputs": [
    {
     "data": {
      "text/plain": [
       "Index(['relative_coords', 'del_len', 'samples', 'num_samples',\n",
       "       'first_detected', 'last_detected', 'location_counts', 'division_counts',\n",
       "       'country_counts', 'type', 'absolute_coords', 'pos', 'gene', 'codon_num',\n",
       "       'ref_codon', 'ref_aa', 'prev_5nts', 'next_5nts', 'locations',\n",
       "       'divisions', 'countries'],\n",
       "      dtype='object')"
      ]
     },
     "execution_count": 167,
     "metadata": {},
     "output_type": "execute_result"
    }
   ],
   "source": [
    "strain_dels.columns"
   ]
  },
  {
   "cell_type": "code",
   "execution_count": 168,
   "metadata": {},
   "outputs": [],
   "source": [
    "strain_dels['isin_SD'] = strain_dels['locations'].apply(is_in, args=('san diego',))\n",
    "strain_dels['isin_CA'] = strain_dels['divisions'].apply(is_in, args=('california',))\n",
    "strain_dels['isin_US'] = strain_dels['countries'].apply(is_in, args=('usa',))"
   ]
  },
  {
   "cell_type": "code",
   "execution_count": 169,
   "metadata": {},
   "outputs": [],
   "source": [
    "strain_dels.to_csv('/home/al/analysis/mutations/S501Y/gisaid_strain_deletions.csv', index=False)\n",
    "strain_subs.to_csv('/home/al/analysis/mutations/S501Y/gisaid_strain_substitutions.csv', index=False)"
   ]
  },
  {
   "cell_type": "code",
   "execution_count": 170,
   "metadata": {},
   "outputs": [
    {
     "data": {
      "text/html": [
       "<div>\n",
       "<style scoped>\n",
       "    .dataframe tbody tr th:only-of-type {\n",
       "        vertical-align: middle;\n",
       "    }\n",
       "\n",
       "    .dataframe tbody tr th {\n",
       "        vertical-align: top;\n",
       "    }\n",
       "\n",
       "    .dataframe thead th {\n",
       "        text-align: right;\n",
       "    }\n",
       "</style>\n",
       "<table border=\"1\" class=\"dataframe\">\n",
       "  <thead>\n",
       "    <tr style=\"text-align: right;\">\n",
       "      <th></th>\n",
       "      <th>gene</th>\n",
       "      <th>pos</th>\n",
       "      <th>ref_aa</th>\n",
       "      <th>codon_num</th>\n",
       "      <th>alt_aa</th>\n",
       "      <th>num_samples</th>\n",
       "      <th>first_detected</th>\n",
       "      <th>last_detected</th>\n",
       "      <th>num_locations</th>\n",
       "      <th>location_counts</th>\n",
       "      <th>num_divisions</th>\n",
       "      <th>division_counts</th>\n",
       "      <th>num_countries</th>\n",
       "      <th>country_counts</th>\n",
       "      <th>locations</th>\n",
       "      <th>divisions</th>\n",
       "      <th>countries</th>\n",
       "      <th>isin_SD</th>\n",
       "      <th>isin_CA</th>\n",
       "      <th>isin_US</th>\n",
       "    </tr>\n",
       "  </thead>\n",
       "  <tbody>\n",
       "    <tr>\n",
       "      <th>0</th>\n",
       "      <td>S</td>\n",
       "      <td>22812</td>\n",
       "      <td>K</td>\n",
       "      <td>417</td>\n",
       "      <td>R</td>\n",
       "      <td>1</td>\n",
       "      <td>2020-06-23</td>\n",
       "      <td>2020-06-23</td>\n",
       "      <td>1</td>\n",
       "      <td>[1]</td>\n",
       "      <td>1</td>\n",
       "      <td>[1]</td>\n",
       "      <td>1</td>\n",
       "      <td>[1]</td>\n",
       "      <td>['unk']</td>\n",
       "      <td>['Israel']</td>\n",
       "      <td>['Israel']</td>\n",
       "      <td>False</td>\n",
       "      <td>False</td>\n",
       "      <td>False</td>\n",
       "    </tr>\n",
       "    <tr>\n",
       "      <th>1</th>\n",
       "      <td>S</td>\n",
       "      <td>22813</td>\n",
       "      <td>K</td>\n",
       "      <td>417</td>\n",
       "      <td>K</td>\n",
       "      <td>45</td>\n",
       "      <td>2020-07-24</td>\n",
       "      <td>2020-12-02</td>\n",
       "      <td>3</td>\n",
       "      <td>[1, 1, 43]</td>\n",
       "      <td>4</td>\n",
       "      <td>[1, 1, 41, 2]</td>\n",
       "      <td>3</td>\n",
       "      <td>[1, 1, 43]</td>\n",
       "      <td>['Asotin County', 'Yakima County', 'unk']</td>\n",
       "      <td>['Japan', 'Nordjylland', 'Utah', 'Washington']</td>\n",
       "      <td>['Denmark', 'Japan', 'USA']</td>\n",
       "      <td>False</td>\n",
       "      <td>False</td>\n",
       "      <td>True</td>\n",
       "    </tr>\n",
       "    <tr>\n",
       "      <th>2</th>\n",
       "      <td>S</td>\n",
       "      <td>22813</td>\n",
       "      <td>K</td>\n",
       "      <td>417</td>\n",
       "      <td>N</td>\n",
       "      <td>215</td>\n",
       "      <td>2020-05-19</td>\n",
       "      <td>2020-12-18</td>\n",
       "      <td>16</td>\n",
       "      <td>[17, 3, 59, 1, 1, 1, 47, 10, 2, 42, 2, 15, 2, ...</td>\n",
       "      <td>8</td>\n",
       "      <td>[2, 60, 2, 12, 1, 1, 1, 136]</td>\n",
       "      <td>4</td>\n",
       "      <td>[2, 1, 208, 4]</td>\n",
       "      <td>['Bitou', 'Chris Hani', 'George', 'Harry Gwala...</td>\n",
       "      <td>['Bavaria', 'Eastern Cape', 'England', 'KwaZul...</td>\n",
       "      <td>['Germany', 'Norway', 'South Africa', 'United ...</td>\n",
       "      <td>False</td>\n",
       "      <td>False</td>\n",
       "      <td>False</td>\n",
       "    </tr>\n",
       "    <tr>\n",
       "      <th>3</th>\n",
       "      <td>S</td>\n",
       "      <td>23012</td>\n",
       "      <td>E</td>\n",
       "      <td>484</td>\n",
       "      <td>K</td>\n",
       "      <td>254</td>\n",
       "      <td>2020-06-06</td>\n",
       "      <td>2020-12-18</td>\n",
       "      <td>25</td>\n",
       "      <td>[16, 1, 1, 3, 59, 1, 1, 1, 46, 10, 2, 40, 1, 2...</td>\n",
       "      <td>28</td>\n",
       "      <td>[6, 1, 1, 2, 1, 1, 57, 1, 8, 1, 1, 1, 14, 2, 1...</td>\n",
       "      <td>13</td>\n",
       "      <td>[1, 6, 3, 1, 1, 2, 2, 209, 3, 2, 2, 13, 9]</td>\n",
       "      <td>['Bitou', 'Caceres', 'Castellon de la Plana', ...</td>\n",
       "      <td>['Bahrain', 'Basel-Land', 'Bouafle', 'Bouaké',...</td>\n",
       "      <td>['Australia', 'Bahrain', \"Côte d'Ivoire\", 'Ecu...</td>\n",
       "      <td>True</td>\n",
       "      <td>True</td>\n",
       "      <td>True</td>\n",
       "    </tr>\n",
       "    <tr>\n",
       "      <th>4</th>\n",
       "      <td>S</td>\n",
       "      <td>23012</td>\n",
       "      <td>E</td>\n",
       "      <td>484</td>\n",
       "      <td>Q</td>\n",
       "      <td>40</td>\n",
       "      <td>2020-05-28</td>\n",
       "      <td>2020-12-14</td>\n",
       "      <td>6</td>\n",
       "      <td>[2, 1, 1, 1, 1, 34]</td>\n",
       "      <td>16</td>\n",
       "      <td>[1, 1, 11, 2, 1, 1, 1, 1, 2, 1, 1, 1, 1, 1, 13...</td>\n",
       "      <td>12</td>\n",
       "      <td>[1, 1, 1, 1, 3, 1, 1, 1, 1, 2, 3, 24]</td>\n",
       "      <td>['Daskroi', 'Greater Houston Area', 'San Diego...</td>\n",
       "      <td>['Bahrain', 'California', 'England', 'Gujarat'...</td>\n",
       "      <td>['Australia', 'Bahrain', 'Belgium', 'Denmark',...</td>\n",
       "      <td>True</td>\n",
       "      <td>True</td>\n",
       "      <td>True</td>\n",
       "    </tr>\n",
       "    <tr>\n",
       "      <th>5</th>\n",
       "      <td>S</td>\n",
       "      <td>23012</td>\n",
       "      <td>E</td>\n",
       "      <td>484</td>\n",
       "      <td>R</td>\n",
       "      <td>3</td>\n",
       "      <td>2020-09-07</td>\n",
       "      <td>2020-12-10</td>\n",
       "      <td>2</td>\n",
       "      <td>[1, 2]</td>\n",
       "      <td>2</td>\n",
       "      <td>[1, 2]</td>\n",
       "      <td>2</td>\n",
       "      <td>[1, 2]</td>\n",
       "      <td>['San Diego', 'unk']</td>\n",
       "      <td>['California', 'England']</td>\n",
       "      <td>['USA', 'United Kingdom']</td>\n",
       "      <td>True</td>\n",
       "      <td>True</td>\n",
       "      <td>True</td>\n",
       "    </tr>\n",
       "    <tr>\n",
       "      <th>6</th>\n",
       "      <td>S</td>\n",
       "      <td>23013</td>\n",
       "      <td>E</td>\n",
       "      <td>484</td>\n",
       "      <td>A</td>\n",
       "      <td>10</td>\n",
       "      <td>2020-05-17</td>\n",
       "      <td>2020-12-12</td>\n",
       "      <td>3</td>\n",
       "      <td>[1, 1, 8]</td>\n",
       "      <td>9</td>\n",
       "      <td>[1, 1, 1, 1, 1, 1, 1, 1, 2]</td>\n",
       "      <td>4</td>\n",
       "      <td>[1, 3, 4, 2]</td>\n",
       "      <td>['Gandia', 'eThekwini', 'unk']</td>\n",
       "      <td>['Arizona', 'Canary Islands', 'Comunitat Valen...</td>\n",
       "      <td>['South Africa', 'Spain', 'USA', 'United Kingd...</td>\n",
       "      <td>False</td>\n",
       "      <td>False</td>\n",
       "      <td>True</td>\n",
       "    </tr>\n",
       "    <tr>\n",
       "      <th>7</th>\n",
       "      <td>S</td>\n",
       "      <td>23013</td>\n",
       "      <td>E</td>\n",
       "      <td>484</td>\n",
       "      <td>G</td>\n",
       "      <td>2</td>\n",
       "      <td>2020-11-24</td>\n",
       "      <td>2020-12-10</td>\n",
       "      <td>2</td>\n",
       "      <td>[1, 1]</td>\n",
       "      <td>2</td>\n",
       "      <td>[1, 1]</td>\n",
       "      <td>2</td>\n",
       "      <td>[1, 1]</td>\n",
       "      <td>['Madrid', 'unk']</td>\n",
       "      <td>['Japan', 'Madrid']</td>\n",
       "      <td>['Japan', 'Spain']</td>\n",
       "      <td>False</td>\n",
       "      <td>False</td>\n",
       "      <td>False</td>\n",
       "    </tr>\n",
       "    <tr>\n",
       "      <th>8</th>\n",
       "      <td>S</td>\n",
       "      <td>23013</td>\n",
       "      <td>E</td>\n",
       "      <td>484</td>\n",
       "      <td>V</td>\n",
       "      <td>1</td>\n",
       "      <td>2020-12-01</td>\n",
       "      <td>2020-12-01</td>\n",
       "      <td>1</td>\n",
       "      <td>[1]</td>\n",
       "      <td>1</td>\n",
       "      <td>[1]</td>\n",
       "      <td>1</td>\n",
       "      <td>[1]</td>\n",
       "      <td>['unk']</td>\n",
       "      <td>['Florida']</td>\n",
       "      <td>['USA']</td>\n",
       "      <td>False</td>\n",
       "      <td>False</td>\n",
       "      <td>True</td>\n",
       "    </tr>\n",
       "    <tr>\n",
       "      <th>9</th>\n",
       "      <td>S</td>\n",
       "      <td>23014</td>\n",
       "      <td>E</td>\n",
       "      <td>484</td>\n",
       "      <td>D</td>\n",
       "      <td>3</td>\n",
       "      <td>2020-06-01</td>\n",
       "      <td>2020-10-02</td>\n",
       "      <td>3</td>\n",
       "      <td>[1, 1, 1]</td>\n",
       "      <td>3</td>\n",
       "      <td>[1, 1, 1]</td>\n",
       "      <td>3</td>\n",
       "      <td>[1, 1, 1]</td>\n",
       "      <td>['Marseille', 'Munich', 'unk']</td>\n",
       "      <td>['Bavaria', \"Provence-Alpes-Côte d'Azur\", 'Tra...</td>\n",
       "      <td>['France', 'Germany', 'Thailand']</td>\n",
       "      <td>False</td>\n",
       "      <td>False</td>\n",
       "      <td>False</td>\n",
       "    </tr>\n",
       "    <tr>\n",
       "      <th>10</th>\n",
       "      <td>S</td>\n",
       "      <td>23014</td>\n",
       "      <td>E</td>\n",
       "      <td>484</td>\n",
       "      <td>E</td>\n",
       "      <td>28</td>\n",
       "      <td>2020-03-31</td>\n",
       "      <td>2020-10-20</td>\n",
       "      <td>1</td>\n",
       "      <td>[28]</td>\n",
       "      <td>3</td>\n",
       "      <td>[26, 1, 1]</td>\n",
       "      <td>3</td>\n",
       "      <td>[1, 1, 26]</td>\n",
       "      <td>['unk']</td>\n",
       "      <td>['England', 'Grand Princess 2nd cruise', 'Well...</td>\n",
       "      <td>['New Zealand', 'USA', 'United Kingdom']</td>\n",
       "      <td>False</td>\n",
       "      <td>False</td>\n",
       "      <td>True</td>\n",
       "    </tr>\n",
       "    <tr>\n",
       "      <th>11</th>\n",
       "      <td>S</td>\n",
       "      <td>23063</td>\n",
       "      <td>N</td>\n",
       "      <td>501</td>\n",
       "      <td>H</td>\n",
       "      <td>1</td>\n",
       "      <td>2020-06-23</td>\n",
       "      <td>2020-06-23</td>\n",
       "      <td>1</td>\n",
       "      <td>[1]</td>\n",
       "      <td>1</td>\n",
       "      <td>[1]</td>\n",
       "      <td>1</td>\n",
       "      <td>[1]</td>\n",
       "      <td>['unk']</td>\n",
       "      <td>['Wales']</td>\n",
       "      <td>['United Kingdom']</td>\n",
       "      <td>False</td>\n",
       "      <td>False</td>\n",
       "      <td>False</td>\n",
       "    </tr>\n",
       "    <tr>\n",
       "      <th>12</th>\n",
       "      <td>S</td>\n",
       "      <td>23063</td>\n",
       "      <td>N</td>\n",
       "      <td>501</td>\n",
       "      <td>Y</td>\n",
       "      <td>2419</td>\n",
       "      <td>2020-06-01</td>\n",
       "      <td>2020-12-19</td>\n",
       "      <td>21</td>\n",
       "      <td>[15, 3, 59, 1, 1, 1, 1, 46, 10, 40, 2, 1, 1, 1...</td>\n",
       "      <td>16</td>\n",
       "      <td>[57, 1782, 1, 7, 1, 11, 5, 2, 1, 3, 1, 1, 14, ...</td>\n",
       "      <td>6</td>\n",
       "      <td>[39, 1, 10, 201, 8, 2160]</td>\n",
       "      <td>['Bitou', 'Chris Hani', 'George', 'Gibraltar',...</td>\n",
       "      <td>['Eastern Cape', 'England', 'Gibraltar', 'Hove...</td>\n",
       "      <td>['Australia', 'Brazil', 'Denmark', 'South Afri...</td>\n",
       "      <td>False</td>\n",
       "      <td>False</td>\n",
       "      <td>True</td>\n",
       "    </tr>\n",
       "    <tr>\n",
       "      <th>13</th>\n",
       "      <td>S</td>\n",
       "      <td>23064</td>\n",
       "      <td>N</td>\n",
       "      <td>501</td>\n",
       "      <td>S</td>\n",
       "      <td>8</td>\n",
       "      <td>2020-06-11</td>\n",
       "      <td>2020-11-18</td>\n",
       "      <td>2</td>\n",
       "      <td>[1, 7]</td>\n",
       "      <td>3</td>\n",
       "      <td>[6, 1, 1]</td>\n",
       "      <td>3</td>\n",
       "      <td>[1, 1, 6]</td>\n",
       "      <td>['Rock County', 'unk']</td>\n",
       "      <td>['England', 'Victoria', 'Wisconsin']</td>\n",
       "      <td>['Australia', 'USA', 'United Kingdom']</td>\n",
       "      <td>False</td>\n",
       "      <td>False</td>\n",
       "      <td>True</td>\n",
       "    </tr>\n",
       "    <tr>\n",
       "      <th>14</th>\n",
       "      <td>S</td>\n",
       "      <td>23064</td>\n",
       "      <td>N</td>\n",
       "      <td>501</td>\n",
       "      <td>T</td>\n",
       "      <td>41</td>\n",
       "      <td>2020-06-28</td>\n",
       "      <td>2020-12-18</td>\n",
       "      <td>7</td>\n",
       "      <td>[1, 10, 3, 3, 1, 1, 22]</td>\n",
       "      <td>15</td>\n",
       "      <td>[1, 3, 2, 1, 1, 5, 2, 4, 12, 1, 1, 3, 1, 1, 3]</td>\n",
       "      <td>9</td>\n",
       "      <td>[4, 1, 4, 4, 1, 1, 1, 22, 3]</td>\n",
       "      <td>['Nassau County', 'New York City', 'Sydney', '...</td>\n",
       "      <td>['Bouafle', 'Bouaké', 'England', 'KwaZulu-Nata...</td>\n",
       "      <td>['Australia', 'Canada', \"Côte d'Ivoire\", 'Denm...</td>\n",
       "      <td>False</td>\n",
       "      <td>False</td>\n",
       "      <td>True</td>\n",
       "    </tr>\n",
       "    <tr>\n",
       "      <th>15</th>\n",
       "      <td>S</td>\n",
       "      <td>23065</td>\n",
       "      <td>N</td>\n",
       "      <td>501</td>\n",
       "      <td>N</td>\n",
       "      <td>5</td>\n",
       "      <td>2020-07-14</td>\n",
       "      <td>2020-11-06</td>\n",
       "      <td>1</td>\n",
       "      <td>[5]</td>\n",
       "      <td>2</td>\n",
       "      <td>[2, 3]</td>\n",
       "      <td>2</td>\n",
       "      <td>[3, 2]</td>\n",
       "      <td>['unk']</td>\n",
       "      <td>['England', 'Western Australia']</td>\n",
       "      <td>['Australia', 'United Kingdom']</td>\n",
       "      <td>False</td>\n",
       "      <td>False</td>\n",
       "      <td>False</td>\n",
       "    </tr>\n",
       "  </tbody>\n",
       "</table>\n",
       "</div>"
      ],
      "text/plain": [
       "   gene    pos ref_aa  codon_num alt_aa  num_samples first_detected  \\\n",
       "0     S  22812      K        417      R            1     2020-06-23   \n",
       "1     S  22813      K        417      K           45     2020-07-24   \n",
       "2     S  22813      K        417      N          215     2020-05-19   \n",
       "3     S  23012      E        484      K          254     2020-06-06   \n",
       "4     S  23012      E        484      Q           40     2020-05-28   \n",
       "5     S  23012      E        484      R            3     2020-09-07   \n",
       "6     S  23013      E        484      A           10     2020-05-17   \n",
       "7     S  23013      E        484      G            2     2020-11-24   \n",
       "8     S  23013      E        484      V            1     2020-12-01   \n",
       "9     S  23014      E        484      D            3     2020-06-01   \n",
       "10    S  23014      E        484      E           28     2020-03-31   \n",
       "11    S  23063      N        501      H            1     2020-06-23   \n",
       "12    S  23063      N        501      Y         2419     2020-06-01   \n",
       "13    S  23064      N        501      S            8     2020-06-11   \n",
       "14    S  23064      N        501      T           41     2020-06-28   \n",
       "15    S  23065      N        501      N            5     2020-07-14   \n",
       "\n",
       "   last_detected  num_locations  \\\n",
       "0     2020-06-23              1   \n",
       "1     2020-12-02              3   \n",
       "2     2020-12-18             16   \n",
       "3     2020-12-18             25   \n",
       "4     2020-12-14              6   \n",
       "5     2020-12-10              2   \n",
       "6     2020-12-12              3   \n",
       "7     2020-12-10              2   \n",
       "8     2020-12-01              1   \n",
       "9     2020-10-02              3   \n",
       "10    2020-10-20              1   \n",
       "11    2020-06-23              1   \n",
       "12    2020-12-19             21   \n",
       "13    2020-11-18              2   \n",
       "14    2020-12-18              7   \n",
       "15    2020-11-06              1   \n",
       "\n",
       "                                      location_counts  num_divisions  \\\n",
       "0                                                 [1]              1   \n",
       "1                                          [1, 1, 43]              4   \n",
       "2   [17, 3, 59, 1, 1, 1, 47, 10, 2, 42, 2, 15, 2, ...              8   \n",
       "3   [16, 1, 1, 3, 59, 1, 1, 1, 46, 10, 2, 40, 1, 2...             28   \n",
       "4                                 [2, 1, 1, 1, 1, 34]             16   \n",
       "5                                              [1, 2]              2   \n",
       "6                                           [1, 1, 8]              9   \n",
       "7                                              [1, 1]              2   \n",
       "8                                                 [1]              1   \n",
       "9                                           [1, 1, 1]              3   \n",
       "10                                               [28]              3   \n",
       "11                                                [1]              1   \n",
       "12  [15, 3, 59, 1, 1, 1, 1, 46, 10, 40, 2, 1, 1, 1...             16   \n",
       "13                                             [1, 7]              3   \n",
       "14                            [1, 10, 3, 3, 1, 1, 22]             15   \n",
       "15                                                [5]              2   \n",
       "\n",
       "                                      division_counts  num_countries  \\\n",
       "0                                                 [1]              1   \n",
       "1                                       [1, 1, 41, 2]              3   \n",
       "2                        [2, 60, 2, 12, 1, 1, 1, 136]              4   \n",
       "3   [6, 1, 1, 2, 1, 1, 57, 1, 8, 1, 1, 1, 14, 2, 1...             13   \n",
       "4   [1, 1, 11, 2, 1, 1, 1, 1, 2, 1, 1, 1, 1, 1, 13...             12   \n",
       "5                                              [1, 2]              2   \n",
       "6                         [1, 1, 1, 1, 1, 1, 1, 1, 2]              4   \n",
       "7                                              [1, 1]              2   \n",
       "8                                                 [1]              1   \n",
       "9                                           [1, 1, 1]              3   \n",
       "10                                         [26, 1, 1]              3   \n",
       "11                                                [1]              1   \n",
       "12  [57, 1782, 1, 7, 1, 11, 5, 2, 1, 3, 1, 1, 14, ...              6   \n",
       "13                                          [6, 1, 1]              3   \n",
       "14     [1, 3, 2, 1, 1, 5, 2, 4, 12, 1, 1, 3, 1, 1, 3]              9   \n",
       "15                                             [2, 3]              2   \n",
       "\n",
       "                                country_counts  \\\n",
       "0                                          [1]   \n",
       "1                                   [1, 1, 43]   \n",
       "2                               [2, 1, 208, 4]   \n",
       "3   [1, 6, 3, 1, 1, 2, 2, 209, 3, 2, 2, 13, 9]   \n",
       "4        [1, 1, 1, 1, 3, 1, 1, 1, 1, 2, 3, 24]   \n",
       "5                                       [1, 2]   \n",
       "6                                 [1, 3, 4, 2]   \n",
       "7                                       [1, 1]   \n",
       "8                                          [1]   \n",
       "9                                    [1, 1, 1]   \n",
       "10                                  [1, 1, 26]   \n",
       "11                                         [1]   \n",
       "12                   [39, 1, 10, 201, 8, 2160]   \n",
       "13                                   [1, 1, 6]   \n",
       "14                [4, 1, 4, 4, 1, 1, 1, 22, 3]   \n",
       "15                                      [3, 2]   \n",
       "\n",
       "                                            locations  \\\n",
       "0                                             ['unk']   \n",
       "1           ['Asotin County', 'Yakima County', 'unk']   \n",
       "2   ['Bitou', 'Chris Hani', 'George', 'Harry Gwala...   \n",
       "3   ['Bitou', 'Caceres', 'Castellon de la Plana', ...   \n",
       "4   ['Daskroi', 'Greater Houston Area', 'San Diego...   \n",
       "5                                ['San Diego', 'unk']   \n",
       "6                      ['Gandia', 'eThekwini', 'unk']   \n",
       "7                                   ['Madrid', 'unk']   \n",
       "8                                             ['unk']   \n",
       "9                      ['Marseille', 'Munich', 'unk']   \n",
       "10                                            ['unk']   \n",
       "11                                            ['unk']   \n",
       "12  ['Bitou', 'Chris Hani', 'George', 'Gibraltar',...   \n",
       "13                             ['Rock County', 'unk']   \n",
       "14  ['Nassau County', 'New York City', 'Sydney', '...   \n",
       "15                                            ['unk']   \n",
       "\n",
       "                                            divisions  \\\n",
       "0                                          ['Israel']   \n",
       "1      ['Japan', 'Nordjylland', 'Utah', 'Washington']   \n",
       "2   ['Bavaria', 'Eastern Cape', 'England', 'KwaZul...   \n",
       "3   ['Bahrain', 'Basel-Land', 'Bouafle', 'Bouaké',...   \n",
       "4   ['Bahrain', 'California', 'England', 'Gujarat'...   \n",
       "5                           ['California', 'England']   \n",
       "6   ['Arizona', 'Canary Islands', 'Comunitat Valen...   \n",
       "7                                 ['Japan', 'Madrid']   \n",
       "8                                         ['Florida']   \n",
       "9   ['Bavaria', \"Provence-Alpes-Côte d'Azur\", 'Tra...   \n",
       "10  ['England', 'Grand Princess 2nd cruise', 'Well...   \n",
       "11                                          ['Wales']   \n",
       "12  ['Eastern Cape', 'England', 'Gibraltar', 'Hove...   \n",
       "13               ['England', 'Victoria', 'Wisconsin']   \n",
       "14  ['Bouafle', 'Bouaké', 'England', 'KwaZulu-Nata...   \n",
       "15                   ['England', 'Western Australia']   \n",
       "\n",
       "                                            countries  isin_SD  isin_CA  \\\n",
       "0                                          ['Israel']    False    False   \n",
       "1                         ['Denmark', 'Japan', 'USA']    False    False   \n",
       "2   ['Germany', 'Norway', 'South Africa', 'United ...    False    False   \n",
       "3   ['Australia', 'Bahrain', \"Côte d'Ivoire\", 'Ecu...     True     True   \n",
       "4   ['Australia', 'Bahrain', 'Belgium', 'Denmark',...     True     True   \n",
       "5                           ['USA', 'United Kingdom']     True     True   \n",
       "6   ['South Africa', 'Spain', 'USA', 'United Kingd...    False    False   \n",
       "7                                  ['Japan', 'Spain']    False    False   \n",
       "8                                             ['USA']    False    False   \n",
       "9                   ['France', 'Germany', 'Thailand']    False    False   \n",
       "10           ['New Zealand', 'USA', 'United Kingdom']    False    False   \n",
       "11                                 ['United Kingdom']    False    False   \n",
       "12  ['Australia', 'Brazil', 'Denmark', 'South Afri...    False    False   \n",
       "13             ['Australia', 'USA', 'United Kingdom']    False    False   \n",
       "14  ['Australia', 'Canada', \"Côte d'Ivoire\", 'Denm...    False    False   \n",
       "15                    ['Australia', 'United Kingdom']    False    False   \n",
       "\n",
       "    isin_US  \n",
       "0     False  \n",
       "1      True  \n",
       "2     False  \n",
       "3      True  \n",
       "4      True  \n",
       "5      True  \n",
       "6      True  \n",
       "7     False  \n",
       "8      True  \n",
       "9     False  \n",
       "10     True  \n",
       "11    False  \n",
       "12     True  \n",
       "13     True  \n",
       "14     True  \n",
       "15    False  "
      ]
     },
     "execution_count": 170,
     "metadata": {},
     "output_type": "execute_result"
    }
   ],
   "source": [
    "strain_subs"
   ]
  },
  {
   "cell_type": "code",
   "execution_count": 3,
   "metadata": {},
   "outputs": [],
   "source": [
    "in_dir = Path('/home/al/code/HCoV-19-Genomics/consensus_sequences/')\n",
    "out_dir = Path('/home/al/analysis/mutations/alab_git')\n",
    "meta_fp = Path('/home/al/code/HCoV-19-Genomics/metadata.csv')"
   ]
  },
  {
   "cell_type": "code",
   "execution_count": 111,
   "metadata": {},
   "outputs": [],
   "source": [
    "fasta_fp = concat_fasta(in_dir, out_dir/'cns_seqs')"
   ]
  },
  {
   "cell_type": "code",
   "execution_count": 112,
   "metadata": {},
   "outputs": [],
   "source": [
    "msa_fp = align_fasta_reference(fasta_fp, num_cpus=20, ref_fp='/home/gk/code/hCoV19/db/NC045512.fasta')"
   ]
  },
  {
   "cell_type": "code",
   "execution_count": 4,
   "metadata": {},
   "outputs": [],
   "source": [
    "msa_fp = '/home/al/analysis/mutations/alab_git/cns_seqs_aligned.fa'"
   ]
  },
  {
   "cell_type": "code",
   "execution_count": 5,
   "metadata": {},
   "outputs": [
    {
     "name": "stdout",
     "output_type": "stream",
     "text": [
      "Loading Alignment file at: /home/al/analysis/mutations/alab_git/cns_seqs_aligned.fa\n",
      "Initial cleaning...\n",
      "Creating a dataframe...\n",
      "Identifying mutations...\n",
      "Mapping Genes to mutations...\n",
      "Compute codon numbers...\n",
      "Fetch reference codon...\n",
      "Fetch alternative codon...\n",
      "Map amino acids...\n",
      "Fuse with metadata...\n"
     ]
    }
   ],
   "source": [
    "subs = identify_replacements(msa_fp, meta_fp)"
   ]
  },
  {
   "cell_type": "code",
   "execution_count": 117,
   "metadata": {},
   "outputs": [
    {
     "data": {
      "text/plain": [
       "(3252,)"
      ]
     },
     "execution_count": 117,
     "metadata": {},
     "output_type": "execute_result"
    }
   ],
   "source": [
    "subs.explode('samples')['samples'].unique().shape"
   ]
  },
  {
   "cell_type": "code",
   "execution_count": 9,
   "metadata": {},
   "outputs": [],
   "source": [
    "subs.sort_values('num_samples', ascending=False).to_csv(out_dir/\"substitutions_22-12-2020_orig.csv\", index=False)"
   ]
  },
  {
   "cell_type": "code",
   "execution_count": 123,
   "metadata": {},
   "outputs": [],
   "source": [
    "dels = identify_deletions(msa_fp, meta_fp, min_del_len=1)"
   ]
  },
  {
   "cell_type": "code",
   "execution_count": 125,
   "metadata": {},
   "outputs": [],
   "source": [
    "dels.sort_values('num_samples', ascending=False).to_csv(out_dir/\"deletions_22-12-2020_orig.csv\", index=False)"
   ]
  },
  {
   "cell_type": "code",
   "execution_count": null,
   "metadata": {},
   "outputs": [],
   "source": [
    "align_fasta_reference(seqs_fp, num_cpus=25, ref_fp=ref_fp)"
   ]
  },
  {
   "cell_type": "markdown",
   "metadata": {},
   "source": [
    "## CNS Mutations Report"
   ]
  },
  {
   "cell_type": "code",
   "execution_count": 6,
   "metadata": {},
   "outputs": [],
   "source": [
    "analysis_folder = Path('/home/al/code/HCoV-19-Genomics/consensus_sequences/')\n",
    "meta_fp = Path('/home/al/code/HCoV-19-Genomics/metadata.csv')\n",
    "ref_path = Path('/home/gk/code/hCoV19/db/NC045512.fasta')\n",
    "patient_zero = 'NC_045512.2'\n",
    "in_fp = '/home/al/analysis/mutations/S501Y/msa_aligned.fa'"
   ]
  },
  {
   "cell_type": "code",
   "execution_count": 3,
   "metadata": {},
   "outputs": [],
   "source": [
    "subs = identify_replacements(in_fp, meta_fp)"
   ]
  },
  {
   "cell_type": "code",
   "execution_count": 4,
   "metadata": {},
   "outputs": [
    {
     "data": {
      "text/html": [
       "<div>\n",
       "<style scoped>\n",
       "    .dataframe tbody tr th:only-of-type {\n",
       "        vertical-align: middle;\n",
       "    }\n",
       "\n",
       "    .dataframe tbody tr th {\n",
       "        vertical-align: top;\n",
       "    }\n",
       "\n",
       "    .dataframe thead th {\n",
       "        text-align: right;\n",
       "    }\n",
       "</style>\n",
       "<table border=\"1\" class=\"dataframe\">\n",
       "  <thead>\n",
       "    <tr style=\"text-align: right;\">\n",
       "      <th></th>\n",
       "      <th>gene</th>\n",
       "      <th>pos</th>\n",
       "      <th>ref_aa</th>\n",
       "      <th>codon_num</th>\n",
       "      <th>alt_aa</th>\n",
       "      <th>num_samples</th>\n",
       "      <th>first_detected</th>\n",
       "      <th>last_detected</th>\n",
       "      <th>locations</th>\n",
       "      <th>location_counts</th>\n",
       "      <th>samples</th>\n",
       "    </tr>\n",
       "  </thead>\n",
       "  <tbody>\n",
       "    <tr>\n",
       "      <th>0</th>\n",
       "      <td>3UTR</td>\n",
       "      <td>29679</td>\n",
       "      <td>S</td>\n",
       "      <td>2</td>\n",
       "      <td>F</td>\n",
       "      <td>2</td>\n",
       "      <td>2020-07-14</td>\n",
       "      <td>2020-10-07</td>\n",
       "      <td>USA/California/San Diego</td>\n",
       "      <td>2</td>\n",
       "      <td>[SEARCH-3119-SAN, SEARCH-4245-SAN]</td>\n",
       "    </tr>\n",
       "    <tr>\n",
       "      <th>1</th>\n",
       "      <td>3UTR</td>\n",
       "      <td>29681</td>\n",
       "      <td>L</td>\n",
       "      <td>3</td>\n",
       "      <td>L</td>\n",
       "      <td>2</td>\n",
       "      <td>2020-07-11</td>\n",
       "      <td>2020-07-21</td>\n",
       "      <td>[USA/California/Los Angeles, USA/California/Sa...</td>\n",
       "      <td>[1, 1]</td>\n",
       "      <td>[SEARCH-2600-SAN, SEARCH-2692-LAX]</td>\n",
       "    </tr>\n",
       "    <tr>\n",
       "      <th>2</th>\n",
       "      <td>3UTR</td>\n",
       "      <td>29688</td>\n",
       "      <td>S</td>\n",
       "      <td>5</td>\n",
       "      <td>I</td>\n",
       "      <td>4</td>\n",
       "      <td>2020-03-25</td>\n",
       "      <td>2020-10-26</td>\n",
       "      <td>USA/California/San Diego</td>\n",
       "      <td>4</td>\n",
       "      <td>[SEARCH-0113-SAN, SEARCH-2855-SAN, SEARCH-3609...</td>\n",
       "    </tr>\n",
       "    <tr>\n",
       "      <th>3</th>\n",
       "      <td>3UTR</td>\n",
       "      <td>29690</td>\n",
       "      <td>V</td>\n",
       "      <td>6</td>\n",
       "      <td>L</td>\n",
       "      <td>1</td>\n",
       "      <td>2020-08-13</td>\n",
       "      <td>2020-08-13</td>\n",
       "      <td>USA/California/San Diego</td>\n",
       "      <td>1</td>\n",
       "      <td>[SEARCH-4455-SAN]</td>\n",
       "    </tr>\n",
       "    <tr>\n",
       "      <th>4</th>\n",
       "      <td>3UTR</td>\n",
       "      <td>29692</td>\n",
       "      <td>V</td>\n",
       "      <td>6</td>\n",
       "      <td>V</td>\n",
       "      <td>1</td>\n",
       "      <td>2020-10-03</td>\n",
       "      <td>2020-10-03</td>\n",
       "      <td>Jordan/Amman</td>\n",
       "      <td>1</td>\n",
       "      <td>[SEARCH-4034-JOR]</td>\n",
       "    </tr>\n",
       "  </tbody>\n",
       "</table>\n",
       "</div>"
      ],
      "text/plain": [
       "   gene    pos ref_aa  codon_num alt_aa  num_samples first_detected  \\\n",
       "0  3UTR  29679      S          2      F            2     2020-07-14   \n",
       "1  3UTR  29681      L          3      L            2     2020-07-11   \n",
       "2  3UTR  29688      S          5      I            4     2020-03-25   \n",
       "3  3UTR  29690      V          6      L            1     2020-08-13   \n",
       "4  3UTR  29692      V          6      V            1     2020-10-03   \n",
       "\n",
       "  last_detected                                          locations  \\\n",
       "0    2020-10-07                           USA/California/San Diego   \n",
       "1    2020-07-21  [USA/California/Los Angeles, USA/California/Sa...   \n",
       "2    2020-10-26                           USA/California/San Diego   \n",
       "3    2020-08-13                           USA/California/San Diego   \n",
       "4    2020-10-03                                       Jordan/Amman   \n",
       "\n",
       "  location_counts                                            samples  \n",
       "0               2                 [SEARCH-3119-SAN, SEARCH-4245-SAN]  \n",
       "1          [1, 1]                 [SEARCH-2600-SAN, SEARCH-2692-LAX]  \n",
       "2               4  [SEARCH-0113-SAN, SEARCH-2855-SAN, SEARCH-3609...  \n",
       "3               1                                  [SEARCH-4455-SAN]  \n",
       "4               1                                  [SEARCH-4034-JOR]  "
      ]
     },
     "execution_count": 4,
     "metadata": {},
     "output_type": "execute_result"
    }
   ],
   "source": [
    "subs.head()"
   ]
  },
  {
   "cell_type": "code",
   "execution_count": 5,
   "metadata": {},
   "outputs": [
    {
     "data": {
      "text/html": [
       "<div>\n",
       "<style scoped>\n",
       "    .dataframe tbody tr th:only-of-type {\n",
       "        vertical-align: middle;\n",
       "    }\n",
       "\n",
       "    .dataframe tbody tr th {\n",
       "        vertical-align: top;\n",
       "    }\n",
       "\n",
       "    .dataframe thead th {\n",
       "        text-align: right;\n",
       "    }\n",
       "</style>\n",
       "<table border=\"1\" class=\"dataframe\">\n",
       "  <thead>\n",
       "    <tr style=\"text-align: right;\">\n",
       "      <th></th>\n",
       "      <th>type</th>\n",
       "      <th>gene</th>\n",
       "      <th>absolute_coords</th>\n",
       "      <th>del_len</th>\n",
       "      <th>pos</th>\n",
       "      <th>ref_aa</th>\n",
       "      <th>codon_num</th>\n",
       "      <th>num_samples</th>\n",
       "      <th>first_detected</th>\n",
       "      <th>last_detected</th>\n",
       "      <th>locations</th>\n",
       "      <th>location_counts</th>\n",
       "      <th>samples</th>\n",
       "      <th>ref_codon</th>\n",
       "      <th>prev_5nts</th>\n",
       "      <th>next_5nts</th>\n",
       "    </tr>\n",
       "  </thead>\n",
       "  <tbody>\n",
       "    <tr>\n",
       "      <th>30</th>\n",
       "      <td>deletion</td>\n",
       "      <td>ORF7a</td>\n",
       "      <td>27538:27572</td>\n",
       "      <td>35</td>\n",
       "      <td>27538</td>\n",
       "      <td>L</td>\n",
       "      <td>49</td>\n",
       "      <td>1</td>\n",
       "      <td>2020-04-28</td>\n",
       "      <td>2020-04-28</td>\n",
       "      <td>MEX/Baja California/Tijuana</td>\n",
       "      <td>1</td>\n",
       "      <td>[hCoV-19/MEX/SEARCH-1480-TIJ/2020]</td>\n",
       "      <td>CTA</td>\n",
       "      <td>tcctc</td>\n",
       "      <td>actca</td>\n",
       "    </tr>\n",
       "    <tr>\n",
       "      <th>27</th>\n",
       "      <td>deletion</td>\n",
       "      <td>ORF6</td>\n",
       "      <td>27264:27290</td>\n",
       "      <td>27</td>\n",
       "      <td>27264</td>\n",
       "      <td>F</td>\n",
       "      <td>22</td>\n",
       "      <td>1</td>\n",
       "      <td>2020-07-28</td>\n",
       "      <td>2020-07-28</td>\n",
       "      <td>USA/California/San Diego</td>\n",
       "      <td>1</td>\n",
       "      <td>[hCoV-19/USA/SEARCH-3236-SAN/2020]</td>\n",
       "      <td>TTT</td>\n",
       "      <td>ggact</td>\n",
       "      <td>tacat</td>\n",
       "    </tr>\n",
       "    <tr>\n",
       "      <th>28</th>\n",
       "      <td>deletion</td>\n",
       "      <td>ORF6</td>\n",
       "      <td>27266:27293</td>\n",
       "      <td>28</td>\n",
       "      <td>27266</td>\n",
       "      <td>F</td>\n",
       "      <td>22</td>\n",
       "      <td>1</td>\n",
       "      <td>2020-04-23</td>\n",
       "      <td>2020-04-23</td>\n",
       "      <td>USA/California/San Diego</td>\n",
       "      <td>1</td>\n",
       "      <td>[hCoV-19/USA/SEARCH-1921-SAN/2020]</td>\n",
       "      <td>TTT</td>\n",
       "      <td>acttt</td>\n",
       "      <td>atcat</td>\n",
       "    </tr>\n",
       "    <tr>\n",
       "      <th>29</th>\n",
       "      <td>deletion</td>\n",
       "      <td>ORF7a</td>\n",
       "      <td>27498:27531</td>\n",
       "      <td>34</td>\n",
       "      <td>27498</td>\n",
       "      <td>S</td>\n",
       "      <td>36</td>\n",
       "      <td>1</td>\n",
       "      <td>2020-05-12</td>\n",
       "      <td>2020-05-12</td>\n",
       "      <td>USA/California/Imperial</td>\n",
       "      <td>1</td>\n",
       "      <td>[hCoV-19/USA/SEARCH-0573-IPL/2020]</td>\n",
       "      <td>TCT</td>\n",
       "      <td>cttgc</td>\n",
       "      <td>atcct</td>\n",
       "    </tr>\n",
       "    <tr>\n",
       "      <th>59</th>\n",
       "      <td>deletion</td>\n",
       "      <td>ORF1ab</td>\n",
       "      <td>6656:6679</td>\n",
       "      <td>24</td>\n",
       "      <td>6656</td>\n",
       "      <td>N</td>\n",
       "      <td>2131</td>\n",
       "      <td>1</td>\n",
       "      <td>2020-06-13</td>\n",
       "      <td>2020-06-13</td>\n",
       "      <td>USA/California/San Diego</td>\n",
       "      <td>1</td>\n",
       "      <td>[hCoV-19/USA/SEARCH-3559-SAN/2020]</td>\n",
       "      <td>AAT</td>\n",
       "      <td>tgtta</td>\n",
       "      <td>ctaat</td>\n",
       "    </tr>\n",
       "    <tr>\n",
       "      <th>...</th>\n",
       "      <td>...</td>\n",
       "      <td>...</td>\n",
       "      <td>...</td>\n",
       "      <td>...</td>\n",
       "      <td>...</td>\n",
       "      <td>...</td>\n",
       "      <td>...</td>\n",
       "      <td>...</td>\n",
       "      <td>...</td>\n",
       "      <td>...</td>\n",
       "      <td>...</td>\n",
       "      <td>...</td>\n",
       "      <td>...</td>\n",
       "      <td>...</td>\n",
       "      <td>...</td>\n",
       "      <td>...</td>\n",
       "    </tr>\n",
       "    <tr>\n",
       "      <th>24</th>\n",
       "      <td>deletion</td>\n",
       "      <td>ORF3a</td>\n",
       "      <td>26158:26161</td>\n",
       "      <td>4</td>\n",
       "      <td>26158</td>\n",
       "      <td>V</td>\n",
       "      <td>256</td>\n",
       "      <td>9</td>\n",
       "      <td>2020-07-17</td>\n",
       "      <td>2020-09-14</td>\n",
       "      <td>USA/California/San Diego</td>\n",
       "      <td>9</td>\n",
       "      <td>[hCoV-19/USA/SEARCH-2907-SAN/2020, hCoV-19/USA...</td>\n",
       "      <td>GTT</td>\n",
       "      <td>agttg</td>\n",
       "      <td>tccag</td>\n",
       "    </tr>\n",
       "    <tr>\n",
       "      <th>16</th>\n",
       "      <td>deletion</td>\n",
       "      <td>ORF1ab</td>\n",
       "      <td>516:518</td>\n",
       "      <td>3</td>\n",
       "      <td>516</td>\n",
       "      <td>V</td>\n",
       "      <td>84</td>\n",
       "      <td>10</td>\n",
       "      <td>2020-07-22</td>\n",
       "      <td>2020-08-01</td>\n",
       "      <td>USA/California/San Diego</td>\n",
       "      <td>10</td>\n",
       "      <td>[hCoV-19/USA/SEARCH-4342-SAN/2020, hCoV-19/USA...</td>\n",
       "      <td>GTT</td>\n",
       "      <td>catgt</td>\n",
       "      <td>ggttg</td>\n",
       "    </tr>\n",
       "    <tr>\n",
       "      <th>56</th>\n",
       "      <td>deletion</td>\n",
       "      <td>ORF1ab</td>\n",
       "      <td>686:694</td>\n",
       "      <td>9</td>\n",
       "      <td>686</td>\n",
       "      <td>K</td>\n",
       "      <td>141</td>\n",
       "      <td>17</td>\n",
       "      <td>2020-03-31</td>\n",
       "      <td>2020-10-03</td>\n",
       "      <td>[Jordan/Amman, USA/California/San Diego, USA/L...</td>\n",
       "      <td>[2, 13, 2]</td>\n",
       "      <td>[hCoV-19/USA/SEARCH-0264-NBG/2020, hCoV-19/USA...</td>\n",
       "      <td>AAG</td>\n",
       "      <td>tctaa</td>\n",
       "      <td>actta</td>\n",
       "    </tr>\n",
       "    <tr>\n",
       "      <th>51</th>\n",
       "      <td>deletion</td>\n",
       "      <td>N</td>\n",
       "      <td>28890:28901</td>\n",
       "      <td>12</td>\n",
       "      <td>28890</td>\n",
       "      <td>S</td>\n",
       "      <td>206</td>\n",
       "      <td>23</td>\n",
       "      <td>2020-06-16</td>\n",
       "      <td>2020-08-06</td>\n",
       "      <td>USA/California/San Diego</td>\n",
       "      <td>23</td>\n",
       "      <td>[hCoV-19/USA/SEARCH-2285-SAN/2020, hCoV-19/USA...</td>\n",
       "      <td>TCT</td>\n",
       "      <td>acttc</td>\n",
       "      <td>ggctg</td>\n",
       "    </tr>\n",
       "    <tr>\n",
       "      <th>46</th>\n",
       "      <td>deletion</td>\n",
       "      <td>ORF8</td>\n",
       "      <td>28090:28092</td>\n",
       "      <td>3</td>\n",
       "      <td>28090</td>\n",
       "      <td>G</td>\n",
       "      <td>66</td>\n",
       "      <td>27</td>\n",
       "      <td>2020-09-30</td>\n",
       "      <td>2020-10-03</td>\n",
       "      <td>Jordan/Amman</td>\n",
       "      <td>27</td>\n",
       "      <td>[hCoV-19/JOR/SEARCH-3903-JOR/2020, hCoV-19/JOR...</td>\n",
       "      <td>GGT</td>\n",
       "      <td>gctgg</td>\n",
       "      <td>taaat</td>\n",
       "    </tr>\n",
       "  </tbody>\n",
       "</table>\n",
       "<p>61 rows × 16 columns</p>\n",
       "</div>"
      ],
      "text/plain": [
       "        type    gene absolute_coords  del_len    pos ref_aa  codon_num  \\\n",
       "30  deletion   ORF7a     27538:27572       35  27538      L         49   \n",
       "27  deletion    ORF6     27264:27290       27  27264      F         22   \n",
       "28  deletion    ORF6     27266:27293       28  27266      F         22   \n",
       "29  deletion   ORF7a     27498:27531       34  27498      S         36   \n",
       "59  deletion  ORF1ab       6656:6679       24   6656      N       2131   \n",
       "..       ...     ...             ...      ...    ...    ...        ...   \n",
       "24  deletion   ORF3a     26158:26161        4  26158      V        256   \n",
       "16  deletion  ORF1ab         516:518        3    516      V         84   \n",
       "56  deletion  ORF1ab         686:694        9    686      K        141   \n",
       "51  deletion       N     28890:28901       12  28890      S        206   \n",
       "46  deletion    ORF8     28090:28092        3  28090      G         66   \n",
       "\n",
       "    num_samples first_detected last_detected  \\\n",
       "30            1     2020-04-28    2020-04-28   \n",
       "27            1     2020-07-28    2020-07-28   \n",
       "28            1     2020-04-23    2020-04-23   \n",
       "29            1     2020-05-12    2020-05-12   \n",
       "59            1     2020-06-13    2020-06-13   \n",
       "..          ...            ...           ...   \n",
       "24            9     2020-07-17    2020-09-14   \n",
       "16           10     2020-07-22    2020-08-01   \n",
       "56           17     2020-03-31    2020-10-03   \n",
       "51           23     2020-06-16    2020-08-06   \n",
       "46           27     2020-09-30    2020-10-03   \n",
       "\n",
       "                                            locations location_counts  \\\n",
       "30                        MEX/Baja California/Tijuana               1   \n",
       "27                           USA/California/San Diego               1   \n",
       "28                           USA/California/San Diego               1   \n",
       "29                            USA/California/Imperial               1   \n",
       "59                           USA/California/San Diego               1   \n",
       "..                                                ...             ...   \n",
       "24                           USA/California/San Diego               9   \n",
       "16                           USA/California/San Diego              10   \n",
       "56  [Jordan/Amman, USA/California/San Diego, USA/L...      [2, 13, 2]   \n",
       "51                           USA/California/San Diego              23   \n",
       "46                                       Jordan/Amman              27   \n",
       "\n",
       "                                              samples ref_codon prev_5nts  \\\n",
       "30                 [hCoV-19/MEX/SEARCH-1480-TIJ/2020]       CTA     tcctc   \n",
       "27                 [hCoV-19/USA/SEARCH-3236-SAN/2020]       TTT     ggact   \n",
       "28                 [hCoV-19/USA/SEARCH-1921-SAN/2020]       TTT     acttt   \n",
       "29                 [hCoV-19/USA/SEARCH-0573-IPL/2020]       TCT     cttgc   \n",
       "59                 [hCoV-19/USA/SEARCH-3559-SAN/2020]       AAT     tgtta   \n",
       "..                                                ...       ...       ...   \n",
       "24  [hCoV-19/USA/SEARCH-2907-SAN/2020, hCoV-19/USA...       GTT     agttg   \n",
       "16  [hCoV-19/USA/SEARCH-4342-SAN/2020, hCoV-19/USA...       GTT     catgt   \n",
       "56  [hCoV-19/USA/SEARCH-0264-NBG/2020, hCoV-19/USA...       AAG     tctaa   \n",
       "51  [hCoV-19/USA/SEARCH-2285-SAN/2020, hCoV-19/USA...       TCT     acttc   \n",
       "46  [hCoV-19/JOR/SEARCH-3903-JOR/2020, hCoV-19/JOR...       GGT     gctgg   \n",
       "\n",
       "   next_5nts  \n",
       "30     actca  \n",
       "27     tacat  \n",
       "28     atcat  \n",
       "29     atcct  \n",
       "59     ctaat  \n",
       "..       ...  \n",
       "24     tccag  \n",
       "16     ggttg  \n",
       "56     actta  \n",
       "51     ggctg  \n",
       "46     taaat  \n",
       "\n",
       "[61 rows x 16 columns]"
      ]
     },
     "execution_count": 5,
     "metadata": {},
     "output_type": "execute_result"
    }
   ],
   "source": [
    "dels = identify_deletions(in_fp, meta_fp, patient_zero)\n",
    "dels"
   ]
  },
  {
   "cell_type": "code",
   "execution_count": 3,
   "metadata": {},
   "outputs": [
    {
     "ename": "NameError",
     "evalue": "name 'dels' is not defined",
     "output_type": "error",
     "traceback": [
      "\u001b[0;31m---------------------------------------------------------------------------\u001b[0m",
      "\u001b[0;31mNameError\u001b[0m                                 Traceback (most recent call last)",
      "\u001b[0;32m<ipython-input-3-c4aae0949dc6>\u001b[0m in \u001b[0;36m<module>\u001b[0;34m\u001b[0m\n\u001b[0;32m----> 1\u001b[0;31m \u001b[0mdels\u001b[0m\u001b[0;34m[\u001b[0m\u001b[0mdels\u001b[0m\u001b[0;34m[\u001b[0m\u001b[0;34m'gene'\u001b[0m\u001b[0;34m]\u001b[0m\u001b[0;34m==\u001b[0m\u001b[0;34m'S'\u001b[0m\u001b[0;34m]\u001b[0m\u001b[0;34m.\u001b[0m\u001b[0msort_values\u001b[0m\u001b[0;34m(\u001b[0m\u001b[0;34m'num_samples'\u001b[0m\u001b[0;34m,\u001b[0m \u001b[0mascending\u001b[0m\u001b[0;34m=\u001b[0m\u001b[0;32mFalse\u001b[0m\u001b[0;34m)\u001b[0m\u001b[0;31m#.to_csv('S_deletions_consensus.csv', index=False)\u001b[0m\u001b[0;34m\u001b[0m\u001b[0;34m\u001b[0m\u001b[0m\n\u001b[0m",
      "\u001b[0;31mNameError\u001b[0m: name 'dels' is not defined"
     ]
    }
   ],
   "source": [
    "dels[dels['gene']=='S'].sort_values('num_samples', ascending=False)#.to_csv('S_deletions_consensus.csv', index=False)"
   ]
  },
  {
   "cell_type": "code",
   "execution_count": 4,
   "metadata": {},
   "outputs": [],
   "source": [
    "identify_insertions(in_fp, patient_zero).to_csv('test.csv', index=False)"
   ]
  },
  {
   "cell_type": "markdown",
   "metadata": {},
   "source": [
    "## dev "
   ]
  },
  {
   "cell_type": "code",
   "execution_count": 10,
   "metadata": {},
   "outputs": [],
   "source": [
    "GENE2POS = {\n",
    "            '5UTR': {'start': 0, 'end': 265},\n",
    "            'ORF1ab': {'start': 265, 'end': 21555},\n",
    "            'S': {'start': 21562, 'end': 25384},\n",
    "            'ORF3a': {'start': 25392, 'end': 26220},\n",
    "            'E': {'start': 26244, 'end': 26472},\n",
    "            'M': {'start': 26522, 'end': 27191},\n",
    "            'ORF6': {'start': 27201, 'end': 27387},\n",
    "            'ORF7a': {'start': 27393, 'end': 27759},\n",
    "            'ORF7b': {'start': 27755, 'end': 27887},\n",
    "            'ORF8': {'start': 27893, 'end': 28259},\n",
    "            'N': {'start': 28273, 'end': 29533},\n",
    "            'ORF10': {'start': 29557, 'end': 29674},\n",
    "            '3UTR': {'start': 29674, 'end': 29902}\n",
    "           }"
   ]
  },
  {
   "cell_type": "code",
   "execution_count": 11,
   "metadata": {},
   "outputs": [],
   "source": [
    "in_dir = '/home/al/analysis/mutations/fa/'\n",
    "out_dir = '/home/al/analysis/mutations/msa/'"
   ]
  },
  {
   "cell_type": "code",
   "execution_count": 14,
   "metadata": {},
   "outputs": [],
   "source": [
    "!rm -r /home/al/analysis/mutations\n",
    "!mkdir /home/al/analysis/mutations\n",
    "!mkdir /home/al/analysis/mutations/fa"
   ]
  },
  {
   "cell_type": "code",
   "execution_count": 15,
   "metadata": {},
   "outputs": [],
   "source": [
    "for filename in analysis_folder.listdir():\n",
    "    if (filename.endswith('fa') or filename.endswith('fasta')):\n",
    "        copy(filename, '/home/al/analysis/mutations/fa/')\n",
    "#         print(filename)"
   ]
  },
  {
   "cell_type": "code",
   "execution_count": 179,
   "metadata": {},
   "outputs": [
    {
     "data": {
      "text/plain": [
       "'/home/al/analysis/mutations/fa/NC045512.fasta'"
      ]
     },
     "execution_count": 179,
     "metadata": {},
     "output_type": "execute_result"
    }
   ],
   "source": [
    "copy(ref_path, in_dir)"
   ]
  },
  {
   "cell_type": "code",
   "execution_count": 180,
   "metadata": {},
   "outputs": [
    {
     "data": {
      "text/plain": [
       "'/home/al/analysis/mutations/msa.fa'"
      ]
     },
     "execution_count": 180,
     "metadata": {},
     "output_type": "execute_result"
    }
   ],
   "source": [
    "in_dir = '/home/al/analysis/mutations/fa/'\n",
    "out_dir = '/home/al/analysis/mutations/msa'\n",
    "concat_fasta(in_dir, out_dir)"
   ]
  },
  {
   "cell_type": "code",
   "execution_count": 17,
   "metadata": {},
   "outputs": [
    {
     "data": {
      "text/plain": [
       "'/home/al/analysis/mutations/msa_aligned.fa'"
      ]
     },
     "execution_count": 17,
     "metadata": {},
     "output_type": "execute_result"
    }
   ],
   "source": [
    "align_fasta_reference('/home/al/analysis/mutations/msa.fa',  num_cpus=12, ref_fp=ref_path)"
   ]
  },
  {
   "cell_type": "code",
   "execution_count": 14,
   "metadata": {},
   "outputs": [],
   "source": [
    "cns = AlignIO.read('/home/al/analysis/mutations/msa_aligned.fa', 'fasta')"
   ]
  },
  {
   "cell_type": "code",
   "execution_count": 15,
   "metadata": {},
   "outputs": [],
   "source": [
    "ref_seq = get_seq(cns, patient_zero)"
   ]
  },
  {
   "cell_type": "code",
   "execution_count": 16,
   "metadata": {},
   "outputs": [
    {
     "data": {
      "text/plain": [
       "29903"
      ]
     },
     "execution_count": 16,
     "metadata": {},
     "output_type": "execute_result"
    }
   ],
   "source": [
    "len(ref_seq)"
   ]
  },
  {
   "cell_type": "code",
   "execution_count": 17,
   "metadata": {},
   "outputs": [],
   "source": [
    "seqs = get_seqs(cns, 0, 30000)"
   ]
  },
  {
   "cell_type": "code",
   "execution_count": 18,
   "metadata": {},
   "outputs": [],
   "source": [
    "seqsdf = (pd.DataFrame(index=seqs.keys(), data=seqs.values(), columns=['sequence'])\n",
    "                .reset_index().rename(columns={'index': 'idx'}))"
   ]
  },
  {
   "cell_type": "code",
   "execution_count": 19,
   "metadata": {},
   "outputs": [],
   "source": [
    "# seqsdf"
   ]
  },
  {
   "cell_type": "code",
   "execution_count": 20,
   "metadata": {},
   "outputs": [],
   "source": [
    "def find_replacements(x, ref):\n",
    "    return [f'{i}:{n}' for i, n in enumerate(x) \n",
    "            if n!=ref[i] and n!='-' and n!='n']"
   ]
  },
  {
   "cell_type": "code",
   "execution_count": 21,
   "metadata": {},
   "outputs": [],
   "source": [
    "seqsdf['replacements'] = seqsdf['sequence'].apply(find_replacements, args=(ref_seq,))"
   ]
  },
  {
   "cell_type": "code",
   "execution_count": 22,
   "metadata": {},
   "outputs": [],
   "source": [
    "seqsdf = seqsdf.explode('replacements')\n",
    "seqsdf['pos'] = -1\n",
    "seqsdf.loc[~seqsdf['replacements'].isna(), 'pos'] = seqsdf.loc[~seqsdf['replacements'].isna(), 'replacements'].apply(lambda x: int(x.split(':')[0]))\n",
    "seqsdf = seqsdf.loc[seqsdf['pos']!=-1]"
   ]
  },
  {
   "cell_type": "code",
   "execution_count": 23,
   "metadata": {},
   "outputs": [],
   "source": [
    "def compute_codon_num(x, gene2pos: dict):\n",
    "    pos = x['pos']\n",
    "    ref_pos = gene2pos[x['gene']]['start']\n",
    "    return math.ceil((pos - ref_pos + 1) / 3)"
   ]
  },
  {
   "cell_type": "code",
   "execution_count": 24,
   "metadata": {},
   "outputs": [],
   "source": [
    "seqsdf['gene'] = seqsdf['pos'].apply(map_gene_to_pos)\n",
    "seqsdf = seqsdf.loc[~seqsdf['gene'].isna()]\n",
    "seqsdf = seqsdf.loc[seqsdf['gene']!='nan']\n",
    "seqsdf['codon_num'] = seqsdf.apply(compute_codon_num, args=(GENE2POS,), axis=1)"
   ]
  },
  {
   "cell_type": "code",
   "execution_count": 25,
   "metadata": {},
   "outputs": [],
   "source": [
    "def get_ref_codon(x, ref_seq, gene2pos: dict):\n",
    "    ref_pos = gene2pos[x['gene']]['start']\n",
    "    codon_start = ref_pos + ((x['codon_num'] - 1) * 3)\n",
    "    return ref_seq[codon_start: codon_start+3].upper()\n",
    "seqsdf['ref_codon'] = seqsdf.apply(get_ref_codon, args=(ref_seq, GENE2POS), axis=1)"
   ]
  },
  {
   "cell_type": "code",
   "execution_count": 26,
   "metadata": {},
   "outputs": [],
   "source": [
    "def get_alt_codon(x, gene2pos: dict):\n",
    "    ref_pos = gene2pos[x['gene']]['start']\n",
    "    codon_start = ref_pos + ((x['codon_num'] - 1) * 3)\n",
    "    return x['sequence'][codon_start: codon_start+3].upper()\n",
    "seqsdf['alt_codon'] = seqsdf.apply(get_alt_codon, args=(GENE2POS,), axis=1)"
   ]
  },
  {
   "cell_type": "code",
   "execution_count": 27,
   "metadata": {},
   "outputs": [],
   "source": [
    "def get_aa(codon: str):\n",
    "    CODON2AA = { \n",
    "        'ATA':'I', 'ATC':'I', 'ATT':'I', 'ATG':'M', \n",
    "        'ACA':'T', 'ACC':'T', 'ACG':'T', 'ACT':'T', \n",
    "        'AAC':'N', 'AAT':'N', 'AAA':'K', 'AAG':'K', \n",
    "        'AGC':'S', 'AGT':'S', 'AGA':'R', 'AGG':'R',                  \n",
    "        'CTA':'L', 'CTC':'L', 'CTG':'L', 'CTT':'L', \n",
    "        'CCA':'P', 'CCC':'P', 'CCG':'P', 'CCT':'P', \n",
    "        'CAC':'H', 'CAT':'H', 'CAA':'Q', 'CAG':'Q', \n",
    "        'CGA':'R', 'CGC':'R', 'CGG':'R', 'CGT':'R', \n",
    "        'GTA':'V', 'GTC':'V', 'GTG':'V', 'GTT':'V', \n",
    "        'GCA':'A', 'GCC':'A', 'GCG':'A', 'GCT':'A', \n",
    "        'GAC':'D', 'GAT':'D', 'GAA':'E', 'GAG':'E', \n",
    "        'GGA':'G', 'GGC':'G', 'GGG':'G', 'GGT':'G', \n",
    "        'TCA':'S', 'TCC':'S', 'TCG':'S', 'TCT':'S', \n",
    "        'TTC':'F', 'TTT':'F', 'TTA':'L', 'TTG':'L', \n",
    "        'TAC':'Y', 'TAT':'Y', 'TAA':'_', 'TAG':'_', \n",
    "        'TGC':'C', 'TGT':'C', 'TGA':'_', 'TGG':'W', \n",
    "    } \n",
    "    return CODON2AA.get(codon, 'nan')\n",
    "seqsdf['ref_aa'] = seqsdf['ref_codon'].apply(get_aa)\n",
    "seqsdf['alt_aa'] = seqsdf['alt_codon'].apply(get_aa)\n",
    "seqsdf = seqsdf.loc[seqsdf['alt_aa']!='nan']"
   ]
  },
  {
   "cell_type": "code",
   "execution_count": 28,
   "metadata": {},
   "outputs": [
    {
     "data": {
      "text/plain": [
       "Index(['idx', 'sequence', 'replacements', 'pos', 'gene', 'codon_num',\n",
       "       'ref_codon', 'alt_codon', 'ref_aa', 'alt_aa'],\n",
       "      dtype='object')"
      ]
     },
     "execution_count": 28,
     "metadata": {},
     "output_type": "execute_result"
    }
   ],
   "source": [
    "seqsdf.columns"
   ]
  },
  {
   "cell_type": "code",
   "execution_count": 29,
   "metadata": {},
   "outputs": [
    {
     "name": "stdout",
     "output_type": "stream",
     "text": [
      "(2765,)\n",
      "(2765,)\n"
     ]
    }
   ],
   "source": [
    "meta = pd.read_csv(meta_fp)\n",
    "print(seqsdf['idx'].unique().shape)\n",
    "seqsdf = pd.merge(seqsdf, meta, left_on='idx', right_on='fasta_hdr')\n",
    "print(seqsdf['idx'].unique().shape)"
   ]
  },
  {
   "cell_type": "code",
   "execution_count": 30,
   "metadata": {},
   "outputs": [],
   "source": [
    "seqsdf = seqsdf.loc[(seqsdf['collection_date']!='Unknown') \n",
    "                   & (seqsdf['collection_date']!='1900-01-00')]\n",
    "seqsdf.loc[seqsdf['collection_date'].str.contains('/'), 'collection_date'] = seqsdf['collection_date'].apply(lambda x: x.split('/')[0])\n",
    "seqsdf['date'] = pd.to_datetime(seqsdf['collection_date'])"
   ]
  },
  {
   "cell_type": "code",
   "execution_count": 31,
   "metadata": {},
   "outputs": [
    {
     "data": {
      "text/plain": [
       "Timestamp('2020-03-04 00:00:00')"
      ]
     },
     "execution_count": 31,
     "metadata": {},
     "output_type": "execute_result"
    }
   ],
   "source": [
    "seqsdf['date'].min()"
   ]
  },
  {
   "cell_type": "code",
   "execution_count": 32,
   "metadata": {},
   "outputs": [],
   "source": [
    "# (seqsdf.groupby(['gene', 'ref_aa', 'codon_num', 'alt_aa'])\n",
    "# .agg(\n",
    "#      num_samples=('ID', 'nunique')))"
   ]
  },
  {
   "cell_type": "code",
   "execution_count": 35,
   "metadata": {},
   "outputs": [],
   "source": [
    "def uniq_locs(x):\n",
    "    return np.unique(x)\n",
    "def loc_counts(x):\n",
    "    _, counts = np.unique(x, return_counts=True)\n",
    "    return counts"
   ]
  },
  {
   "cell_type": "code",
   "execution_count": 37,
   "metadata": {},
   "outputs": [],
   "source": [
    "subs = (seqsdf.groupby(['gene', 'pos', 'ref_aa', 'codon_num', 'alt_aa'])\n",
    ".agg(\n",
    "     num_samples=('ID', 'nunique'),\n",
    "     first_detected=('date', 'min'),\n",
    "     last_detected=('date', 'max'),\n",
    "     locations=('location', uniq_locs),\n",
    "     location_counts=('location', loc_counts),\n",
    "     samples=('ID', 'unique')\n",
    "    )\n",
    ".reset_index())\n",
    "subs['pos'] = subs['pos'] + 1"
   ]
  },
  {
   "cell_type": "code",
   "execution_count": 175,
   "metadata": {},
   "outputs": [],
   "source": [
    "(subs[subs['gene']=='S'].sort_values('num_samples', ascending=False)\n",
    " .to_csv('S_mutations_consensus.csv', index=False))"
   ]
  },
  {
   "cell_type": "markdown",
   "metadata": {},
   "source": [
    "## Consolidate metadata ID and fasta headers"
   ]
  },
  {
   "cell_type": "code",
   "execution_count": 134,
   "metadata": {},
   "outputs": [],
   "source": [
    "def fix_header(x):\n",
    "    if 'Consensus' in x:\n",
    "        return x.split('_')[1]\n",
    "    else:\n",
    "        return x.split('/')[2]\n",
    "seqsdf['n_ID'] = seqsdf['idx'].apply(fix_header)"
   ]
  },
  {
   "cell_type": "code",
   "execution_count": 135,
   "metadata": {},
   "outputs": [],
   "source": [
    "seqsdf['n_ID'] = seqsdf['n_ID'].str.replace('ALSR', 'SEARCH')"
   ]
  },
  {
   "cell_type": "code",
   "execution_count": 136,
   "metadata": {},
   "outputs": [],
   "source": [
    "meta = pd.read_csv(meta_fp)\n",
    "meta['n_ID'] = meta['ID'].apply(lambda x: '-'.join(x.split('-')[:2]))"
   ]
  },
  {
   "cell_type": "code",
   "execution_count": 137,
   "metadata": {},
   "outputs": [],
   "source": [
    "seqsdf['n_ID'] = seqsdf['n_ID'].apply(lambda x: '-'.join(x.split('-')[:2]))"
   ]
  },
  {
   "cell_type": "code",
   "execution_count": 138,
   "metadata": {},
   "outputs": [],
   "source": [
    "tmp = pd.merge(seqsdf, meta, on='n_ID')"
   ]
  },
  {
   "cell_type": "code",
   "execution_count": 122,
   "metadata": {},
   "outputs": [],
   "source": [
    "# tmp[tmp['ID'].str.contains('2112')]"
   ]
  },
  {
   "cell_type": "code",
   "execution_count": 98,
   "metadata": {},
   "outputs": [],
   "source": [
    "# seqsdf"
   ]
  },
  {
   "cell_type": "code",
   "execution_count": 139,
   "metadata": {},
   "outputs": [
    {
     "data": {
      "text/plain": [
       "{'SEARCH-1668'}"
      ]
     },
     "execution_count": 139,
     "metadata": {},
     "output_type": "execute_result"
    }
   ],
   "source": [
    "set(meta['n_ID'].unique()) - set(tmp['n_ID'].unique())"
   ]
  },
  {
   "cell_type": "code",
   "execution_count": 140,
   "metadata": {},
   "outputs": [
    {
     "data": {
      "text/plain": [
       "(2765,)"
      ]
     },
     "execution_count": 140,
     "metadata": {},
     "output_type": "execute_result"
    }
   ],
   "source": [
    "seqsdf['idx'].unique().shape"
   ]
  },
  {
   "cell_type": "code",
   "execution_count": 141,
   "metadata": {},
   "outputs": [
    {
     "data": {
      "text/plain": [
       "(2766,)"
      ]
     },
     "execution_count": 141,
     "metadata": {},
     "output_type": "execute_result"
    }
   ],
   "source": [
    "meta['ID'].unique().shape"
   ]
  },
  {
   "cell_type": "code",
   "execution_count": 147,
   "metadata": {},
   "outputs": [],
   "source": [
    "s = seqsdf[['n_ID', 'idx']].drop_duplicates()"
   ]
  },
  {
   "cell_type": "code",
   "execution_count": 151,
   "metadata": {},
   "outputs": [],
   "source": [
    "new_meta = pd.merge(meta, s, on='n_ID', how='left')\n",
    "(new_meta.drop(columns=['n_ID'])\n",
    ".rename(columns={'idx': 'fasta_hdr'})\n",
    ".to_csv('metadata.csv', index=False))"
   ]
  },
  {
   "cell_type": "code",
   "execution_count": 152,
   "metadata": {},
   "outputs": [
    {
     "data": {
      "text/plain": [
       "(2766, 11)"
      ]
     },
     "execution_count": 152,
     "metadata": {},
     "output_type": "execute_result"
    }
   ],
   "source": [
    "new_meta.shape "
   ]
  },
  {
   "cell_type": "code",
   "execution_count": 153,
   "metadata": {},
   "outputs": [
    {
     "data": {
      "text/html": [
       "<div>\n",
       "<style scoped>\n",
       "    .dataframe tbody tr th:only-of-type {\n",
       "        vertical-align: middle;\n",
       "    }\n",
       "\n",
       "    .dataframe tbody tr th {\n",
       "        vertical-align: top;\n",
       "    }\n",
       "\n",
       "    .dataframe thead th {\n",
       "        text-align: right;\n",
       "    }\n",
       "</style>\n",
       "<table border=\"1\" class=\"dataframe\">\n",
       "  <thead>\n",
       "    <tr style=\"text-align: right;\">\n",
       "      <th></th>\n",
       "      <th>ID</th>\n",
       "      <th>gb_accession</th>\n",
       "      <th>gisaid_accession</th>\n",
       "      <th>collection_date</th>\n",
       "      <th>location</th>\n",
       "      <th>percent_coverage_cds</th>\n",
       "      <th>avg_depth</th>\n",
       "      <th>authors</th>\n",
       "      <th>originating_lab</th>\n",
       "      <th>n_ID</th>\n",
       "      <th>idx</th>\n",
       "    </tr>\n",
       "  </thead>\n",
       "  <tbody>\n",
       "    <tr>\n",
       "      <th>0</th>\n",
       "      <td>MG0987</td>\n",
       "      <td>MT598172</td>\n",
       "      <td>EPI_ISL_416457</td>\n",
       "      <td>2020-03-18</td>\n",
       "      <td>USA/California/San Diego</td>\n",
       "      <td>99.5954</td>\n",
       "      <td>2465.60</td>\n",
       "      <td>SEARCH Alliance San Diego</td>\n",
       "      <td>Andersen lab at Scripps Research</td>\n",
       "      <td>MG0987</td>\n",
       "      <td>Consensus_MG0987</td>\n",
       "    </tr>\n",
       "    <tr>\n",
       "      <th>1</th>\n",
       "      <td>PC00101P</td>\n",
       "      <td>MT192765</td>\n",
       "      <td>EPI_ISL_414648</td>\n",
       "      <td>2020-03-11</td>\n",
       "      <td>USA/California/San Diego</td>\n",
       "      <td>99.7525</td>\n",
       "      <td>3516.14</td>\n",
       "      <td>SEARCH Alliance San Diego</td>\n",
       "      <td>Andersen lab at Scripps Research</td>\n",
       "      <td>PC00101P</td>\n",
       "      <td>Consensus_PC00101P_threshold_0_quality_20</td>\n",
       "    </tr>\n",
       "    <tr>\n",
       "      <th>2</th>\n",
       "      <td>SEARCH-0007-SAN</td>\n",
       "      <td>MT598171</td>\n",
       "      <td>EPI_ISL_429990</td>\n",
       "      <td>2020-03-21</td>\n",
       "      <td>USA/California/San Diego</td>\n",
       "      <td>100.0000</td>\n",
       "      <td>6215.17</td>\n",
       "      <td>SEARCH Alliance San Diego with Christina Clark...</td>\n",
       "      <td>Rady's Childrens Hospital</td>\n",
       "      <td>SEARCH-0007</td>\n",
       "      <td>Consensus_SEARCH-0007-SAN_L1_threshold_0_quali...</td>\n",
       "    </tr>\n",
       "    <tr>\n",
       "      <th>3</th>\n",
       "      <td>SEARCH-0016-SAN</td>\n",
       "      <td>MT598173</td>\n",
       "      <td>EPI_ISL_430016</td>\n",
       "      <td>2020-03-24</td>\n",
       "      <td>USA/California/San Diego</td>\n",
       "      <td>100.0000</td>\n",
       "      <td>6440.67</td>\n",
       "      <td>SEARCH Alliance San Diego</td>\n",
       "      <td>Andersen lab at Scripps Research</td>\n",
       "      <td>SEARCH-0016</td>\n",
       "      <td>Consensus_SEARCH-0016-SAN_L1_threshold_0_quali...</td>\n",
       "    </tr>\n",
       "    <tr>\n",
       "      <th>4</th>\n",
       "      <td>SEARCH-0017-SAN</td>\n",
       "      <td>MT598174</td>\n",
       "      <td>EPI_ISL_429991</td>\n",
       "      <td>2020-03-24</td>\n",
       "      <td>USA/California/San Diego</td>\n",
       "      <td>100.0000</td>\n",
       "      <td>4947.09</td>\n",
       "      <td>SEARCH Alliance San Diego</td>\n",
       "      <td>Andersen lab at Scripps Research</td>\n",
       "      <td>SEARCH-0017</td>\n",
       "      <td>Consensus_SEARCH-0017-SAN_L1_threshold_0_quali...</td>\n",
       "    </tr>\n",
       "    <tr>\n",
       "      <th>...</th>\n",
       "      <td>...</td>\n",
       "      <td>...</td>\n",
       "      <td>...</td>\n",
       "      <td>...</td>\n",
       "      <td>...</td>\n",
       "      <td>...</td>\n",
       "      <td>...</td>\n",
       "      <td>...</td>\n",
       "      <td>...</td>\n",
       "      <td>...</td>\n",
       "      <td>...</td>\n",
       "    </tr>\n",
       "    <tr>\n",
       "      <th>2761</th>\n",
       "      <td>SEARCH-4685-SAN</td>\n",
       "      <td>NaN</td>\n",
       "      <td>NaN</td>\n",
       "      <td>2020-11-02</td>\n",
       "      <td>USA/California/San Diego</td>\n",
       "      <td>100.0000</td>\n",
       "      <td>4831.37</td>\n",
       "      <td>SEARCH Alliance San Diego with Tracy Basler, J...</td>\n",
       "      <td>San Diego County Public Health Laboratory</td>\n",
       "      <td>SEARCH-4685</td>\n",
       "      <td>hCoV-19/USA/SEARCH-4685-SAN/2020</td>\n",
       "    </tr>\n",
       "    <tr>\n",
       "      <th>2762</th>\n",
       "      <td>SEARCH-4686-SAN</td>\n",
       "      <td>NaN</td>\n",
       "      <td>NaN</td>\n",
       "      <td>2020-11-05</td>\n",
       "      <td>USA/California/San Diego</td>\n",
       "      <td>100.0000</td>\n",
       "      <td>3864.73</td>\n",
       "      <td>SEARCH Alliance San Diego with Tracy Basler, J...</td>\n",
       "      <td>San Diego County Public Health Laboratory</td>\n",
       "      <td>SEARCH-4686</td>\n",
       "      <td>hCoV-19/USA/SEARCH-4686-SAN/2020</td>\n",
       "    </tr>\n",
       "    <tr>\n",
       "      <th>2763</th>\n",
       "      <td>SEARCH-4687-ORA</td>\n",
       "      <td>NaN</td>\n",
       "      <td>NaN</td>\n",
       "      <td>2020-11-02</td>\n",
       "      <td>USA/California/Orange</td>\n",
       "      <td>98.1400</td>\n",
       "      <td>3123.54</td>\n",
       "      <td>SEARCH Alliance San Diego with Tracy Basler, J...</td>\n",
       "      <td>San Diego County Public Health Laboratory</td>\n",
       "      <td>SEARCH-4687</td>\n",
       "      <td>hCoV-19/USA/SEARCH-4687-ORA/2020</td>\n",
       "    </tr>\n",
       "    <tr>\n",
       "      <th>2764</th>\n",
       "      <td>SEARCH-4690-SAN</td>\n",
       "      <td>NaN</td>\n",
       "      <td>NaN</td>\n",
       "      <td>2020-05-28</td>\n",
       "      <td>USA/California/San Diego</td>\n",
       "      <td>98.7283</td>\n",
       "      <td>2625.16</td>\n",
       "      <td>SEARCH Alliance San Diego with Tracy Basler, J...</td>\n",
       "      <td>San Diego County Public Health Laboratory</td>\n",
       "      <td>SEARCH-4690</td>\n",
       "      <td>hCoV-19/USA/SEARCH-4690-SAN/2020</td>\n",
       "    </tr>\n",
       "    <tr>\n",
       "      <th>2765</th>\n",
       "      <td>SEARCH-4691-SAN</td>\n",
       "      <td>NaN</td>\n",
       "      <td>NaN</td>\n",
       "      <td>2020-05-20</td>\n",
       "      <td>USA/California/San Diego</td>\n",
       "      <td>99.1465</td>\n",
       "      <td>2623.45</td>\n",
       "      <td>SEARCH Alliance San Diego with Tracy Basler, J...</td>\n",
       "      <td>San Diego County Public Health Laboratory</td>\n",
       "      <td>SEARCH-4691</td>\n",
       "      <td>hCoV-19/USA/SEARCH-4691-SAN/2020</td>\n",
       "    </tr>\n",
       "  </tbody>\n",
       "</table>\n",
       "<p>2766 rows × 11 columns</p>\n",
       "</div>"
      ],
      "text/plain": [
       "                   ID gb_accession gisaid_accession collection_date  \\\n",
       "0              MG0987     MT598172   EPI_ISL_416457      2020-03-18   \n",
       "1            PC00101P     MT192765   EPI_ISL_414648      2020-03-11   \n",
       "2     SEARCH-0007-SAN     MT598171   EPI_ISL_429990      2020-03-21   \n",
       "3     SEARCH-0016-SAN     MT598173   EPI_ISL_430016      2020-03-24   \n",
       "4     SEARCH-0017-SAN     MT598174   EPI_ISL_429991      2020-03-24   \n",
       "...               ...          ...              ...             ...   \n",
       "2761  SEARCH-4685-SAN          NaN              NaN      2020-11-02   \n",
       "2762  SEARCH-4686-SAN          NaN              NaN      2020-11-05   \n",
       "2763  SEARCH-4687-ORA          NaN              NaN      2020-11-02   \n",
       "2764  SEARCH-4690-SAN          NaN              NaN      2020-05-28   \n",
       "2765  SEARCH-4691-SAN          NaN              NaN      2020-05-20   \n",
       "\n",
       "                      location  percent_coverage_cds  avg_depth  \\\n",
       "0     USA/California/San Diego               99.5954    2465.60   \n",
       "1     USA/California/San Diego               99.7525    3516.14   \n",
       "2     USA/California/San Diego              100.0000    6215.17   \n",
       "3     USA/California/San Diego              100.0000    6440.67   \n",
       "4     USA/California/San Diego              100.0000    4947.09   \n",
       "...                        ...                   ...        ...   \n",
       "2761  USA/California/San Diego              100.0000    4831.37   \n",
       "2762  USA/California/San Diego              100.0000    3864.73   \n",
       "2763     USA/California/Orange               98.1400    3123.54   \n",
       "2764  USA/California/San Diego               98.7283    2625.16   \n",
       "2765  USA/California/San Diego               99.1465    2623.45   \n",
       "\n",
       "                                                authors  \\\n",
       "0                             SEARCH Alliance San Diego   \n",
       "1                             SEARCH Alliance San Diego   \n",
       "2     SEARCH Alliance San Diego with Christina Clark...   \n",
       "3                             SEARCH Alliance San Diego   \n",
       "4                             SEARCH Alliance San Diego   \n",
       "...                                                 ...   \n",
       "2761  SEARCH Alliance San Diego with Tracy Basler, J...   \n",
       "2762  SEARCH Alliance San Diego with Tracy Basler, J...   \n",
       "2763  SEARCH Alliance San Diego with Tracy Basler, J...   \n",
       "2764  SEARCH Alliance San Diego with Tracy Basler, J...   \n",
       "2765  SEARCH Alliance San Diego with Tracy Basler, J...   \n",
       "\n",
       "                                originating_lab         n_ID  \\\n",
       "0              Andersen lab at Scripps Research       MG0987   \n",
       "1              Andersen lab at Scripps Research     PC00101P   \n",
       "2                     Rady's Childrens Hospital  SEARCH-0007   \n",
       "3              Andersen lab at Scripps Research  SEARCH-0016   \n",
       "4              Andersen lab at Scripps Research  SEARCH-0017   \n",
       "...                                         ...          ...   \n",
       "2761  San Diego County Public Health Laboratory  SEARCH-4685   \n",
       "2762  San Diego County Public Health Laboratory  SEARCH-4686   \n",
       "2763  San Diego County Public Health Laboratory  SEARCH-4687   \n",
       "2764  San Diego County Public Health Laboratory  SEARCH-4690   \n",
       "2765  San Diego County Public Health Laboratory  SEARCH-4691   \n",
       "\n",
       "                                                    idx  \n",
       "0                                      Consensus_MG0987  \n",
       "1             Consensus_PC00101P_threshold_0_quality_20  \n",
       "2     Consensus_SEARCH-0007-SAN_L1_threshold_0_quali...  \n",
       "3     Consensus_SEARCH-0016-SAN_L1_threshold_0_quali...  \n",
       "4     Consensus_SEARCH-0017-SAN_L1_threshold_0_quali...  \n",
       "...                                                 ...  \n",
       "2761                   hCoV-19/USA/SEARCH-4685-SAN/2020  \n",
       "2762                   hCoV-19/USA/SEARCH-4686-SAN/2020  \n",
       "2763                   hCoV-19/USA/SEARCH-4687-ORA/2020  \n",
       "2764                   hCoV-19/USA/SEARCH-4690-SAN/2020  \n",
       "2765                   hCoV-19/USA/SEARCH-4691-SAN/2020  \n",
       "\n",
       "[2766 rows x 11 columns]"
      ]
     },
     "execution_count": 153,
     "metadata": {},
     "output_type": "execute_result"
    }
   ],
   "source": [
    "new_meta"
   ]
  },
  {
   "cell_type": "code",
   "execution_count": 81,
   "metadata": {},
   "outputs": [
    {
     "data": {
      "text/plain": [
       "29903"
      ]
     },
     "execution_count": 81,
     "metadata": {},
     "output_type": "execute_result"
    }
   ],
   "source": [
    "len(ref_seq)"
   ]
  }
 ],
 "metadata": {
  "kernelspec": {
   "display_name": "Python 3",
   "language": "python",
   "name": "python3"
  },
  "language_info": {
   "codemirror_mode": {
    "name": "ipython",
    "version": 3
   },
   "file_extension": ".py",
   "mimetype": "text/x-python",
   "name": "python",
   "nbconvert_exporter": "python",
   "pygments_lexer": "ipython3",
   "version": "3.8.3"
  }
 },
 "nbformat": 4,
 "nbformat_minor": 4
}
