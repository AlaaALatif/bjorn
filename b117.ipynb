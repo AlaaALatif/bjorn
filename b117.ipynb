{
 "cells": [
  {
   "cell_type": "code",
   "execution_count": 1,
   "metadata": {},
   "outputs": [],
   "source": [
    "import sys\n",
    "import pandas as pd\n",
    "import os\n",
    "from path import Path\n",
    "import plotly\n",
    "import plotly.express as px\n",
    "import plotly.graph_objects as go\n",
    "from plotly.subplots import make_subplots\n",
    "from urllib.request import urlopen\n",
    "import json\n",
    "import statsmodels as sm\n",
    "from statsmodels.formula.api import ols\n",
    "from Bio import Seq, SeqIO, AlignIO, Phylo, Align\n",
    "from jinja2 import Environment, FileSystemLoader  # html template engine\n",
    "# import cv2\n",
    "import numpy as np\n",
    "import skimage as sk\n",
    "import matplotlib.pylab as plt\n",
    "import datetime as dt"
   ]
  },
  {
   "cell_type": "code",
   "execution_count": 2,
   "metadata": {},
   "outputs": [],
   "source": [
    "sys.path.append('../')"
   ]
  },
  {
   "cell_type": "code",
   "execution_count": 3,
   "metadata": {},
   "outputs": [],
   "source": [
    "import bjorn_support as bs\n",
    "import onion_trees as ot\n",
    "import mutations as bm\n",
    "import visualize as bv\n",
    "import reports as br"
   ]
  },
  {
   "cell_type": "code",
   "execution_count": 4,
   "metadata": {},
   "outputs": [],
   "source": [
    "msa_fp = '/home/al/analysis/gisaid/sequences_2021-01-25_08-14_aligned.fasta.gz'\n",
    "meta_fp = '/home/al/analysis/gisaid/metadata_2021-01-25_09-11.tsv.gz'"
   ]
  },
  {
   "cell_type": "code",
   "execution_count": 5,
   "metadata": {},
   "outputs": [],
   "source": [
    "cols = {'Virus name': 'strain', 'Collection date': 'date' , 'Additional host information': 'purpose_of_sequencing',\n",
    "        'Lineage': 'pangolin_lineage', 'Host': 'host'}\n",
    "old_meta_fp = meta_fp\n",
    "meta_fp = '/home/al/analysis/gisaid/metadata_2021-01-26.tsv.gz'\n",
    "xtra_fp = '/home/al/analysis/gisaid/gisaid_hcov-19_2021_01_26_19.tsv'\n",
    "drop_cols = ['Accession ID', 'Location', 'Passage', 'Specimen', 'Sequencing technology',\n",
    "             'Assembly method', 'Comment', 'Comment type']"
   ]
  },
  {
   "cell_type": "code",
   "execution_count": 6,
   "metadata": {},
   "outputs": [],
   "source": [
    "# meta = bs.integrate_gisaid_meta(old_meta_fp, xtra_fp, msa_fp, cols, drop_cols)"
   ]
  },
  {
   "cell_type": "code",
   "execution_count": 7,
   "metadata": {},
   "outputs": [
    {
     "data": {
      "text/plain": [
       "'/home/al/analysis/gisaid/metadata_2021-01-26.tsv.gz'"
      ]
     },
     "execution_count": 7,
     "metadata": {},
     "output_type": "execute_result"
    }
   ],
   "source": [
    "meta_fp"
   ]
  },
  {
   "cell_type": "code",
   "execution_count": 8,
   "metadata": {},
   "outputs": [],
   "source": [
    "# meta.to_csv(meta_fp, sep='\\t', compression='gzip', index=False)"
   ]
  },
  {
   "cell_type": "code",
   "execution_count": 24,
   "metadata": {},
   "outputs": [
    {
     "name": "stderr",
     "output_type": "stream",
     "text": [
      "/home/al/anaconda3/envs/bjorn/lib/python3.8/site-packages/IPython/core/interactiveshell.py:3146: DtypeWarning:\n",
      "\n",
      "Columns (8,28) have mixed types.Specify dtype option on import or set low_memory=False.\n",
      "\n"
     ]
    }
   ],
   "source": [
    "# meta = pd.read_csv(meta_fp, sep='\\t', compression='gzip')\n",
    "# meta.loc[(meta['country'].str.contains('United States'))&(meta['pangolin_lineage']=='B.1.1.7')]"
   ]
  },
  {
   "cell_type": "code",
   "execution_count": 10,
   "metadata": {},
   "outputs": [],
   "source": [
    "# gisaid, _ = bm.identify_replacements_per_sample(msa_fp, meta_fp, bm.GENE2POS, data_src='gisaid', test=False)\n",
    "# gisaid['mutation'] = gisaid['gene'] + ':' + gisaid['ref_aa'] + gisaid['codon_num'].astype(str) + gisaid['alt_aa']\n",
    "# gisaid.loc[gisaid['country']=='USA', 'country'] = 'United States of America'"
   ]
  },
  {
   "cell_type": "code",
   "execution_count": 11,
   "metadata": {},
   "outputs": [],
   "source": [
    "# gisaid_fp = '/home/al/analysis/gisaid/subs_long_2021-01-15_14-55v2.csv.gz'\n",
    "# gisaid.to_csv(gisaid_fp, index=False, compression='gzip')"
   ]
  },
  {
   "cell_type": "code",
   "execution_count": 12,
   "metadata": {},
   "outputs": [],
   "source": [
    "# gisaid[(gisaid['mutation']=='ORF1b:D1183Y')]['strain'].unique().shape"
   ]
  },
  {
   "cell_type": "code",
   "execution_count": 8,
   "metadata": {},
   "outputs": [],
   "source": [
    "# feature = 'mutations'\n",
    "# values = ['S:S13I', 'S:W152C', 'S:L452R']\n",
    "feature = 'pangolin_lineage'\n",
    "# S:Q677H, M:A85S, N:D377Y,\n",
    "values = ['B.1.1.7']#, 'S:W152C', 'S:L452R'] # 'ORF1ab:I4205V', \n",
    "input_params = {\n",
    "    'gisaid_data_fp' : '/home/al/analysis/gisaid/subs_long_2021-01-25.csv.gz',\n",
    "    'gisaid_meta_fp': meta_fp,\n",
    "    'vocs': ['B.1.1.7', 'B.1.1.70'],\n",
    "    'strain': 'B117',\n",
    "    'date': '01/26/2021',\n",
    "    'msa_fp': Path(msa_fp),\n",
    "    'meta_fp' : Path('/home/al/code/HCoV-19-Genomics/metadata.csv'),\n",
    "    'tree_fp' : Path('/home/al/analysis/alab_mutations_01-01-2021/alab/seqs_aligned.fa.treefile'),\n",
    "    'subs_fp' : '/home/al/analysis/alab_mutations_01-01-2021/alab_substitutions_long_01-01-2021.csv',\n",
    "    'countries_fp' : '/home/al/data/geojsons/countries.geo.json',\n",
    "    'states_fp' : \"/home/al/data/geojsons/us-states.json\",\n",
    "    'counties_fp' : '/home/al/data/geojsons/us-counties.json',\n",
    "    'patient_zero' : 'NC_045512.2',\n",
    "    'b117_meta' : '/home/al/analysis/b117/nextstrain_groups_neherlab_ncov_S.N501_metadata.tsv',\n",
    "    'b117_tree': 'test_data/b117_seqs_aligned.fasta.treefile',\n",
    "    'sample_sz': 500,\n",
    "    'sampling_img_fp' : \"/home/al/analysis/b117/figs/sars-cov-2_EM_v3.png\"\n",
    "}"
   ]
  },
  {
   "cell_type": "code",
   "execution_count": 9,
   "metadata": {
    "scrolled": true
   },
   "outputs": [
    {
     "name": "stderr",
     "output_type": "stream",
     "text": [
      "/home/al/anaconda3/envs/bjorn/lib/python3.8/site-packages/IPython/core/interactiveshell.py:3338: DtypeWarning: Columns (8,28) have mixed types.Specify dtype option on import or set low_memory=False.\n",
      "  if (await self.run_code(code, result,  async_=asy)):\n"
     ]
    }
   ],
   "source": [
    "results = br.generate_voc_data(feature, values, input_params)"
   ]
  },
  {
   "cell_type": "code",
   "execution_count": 10,
   "metadata": {},
   "outputs": [],
   "source": [
    "html = br.generate_voc_html(feature, values, results, template_name='voc.html')\n",
    "# br.save_html(html, f'test_data/orf1ab_i4205v_report.html')\n",
    "br.save_html(html, f'test_data/b117_current_report.html')"
   ]
  },
  {
   "cell_type": "code",
   "execution_count": null,
   "metadata": {},
   "outputs": [],
   "source": [
    "plotly.offline.plot()"
   ]
  },
  {
   "cell_type": "code",
   "execution_count": 17,
   "metadata": {},
   "outputs": [],
   "source": [
    "gisaid = pd.read_csv(input_params['gisaid_data_fp'], compression='gzip')"
   ]
  },
  {
   "cell_type": "code",
   "execution_count": 16,
   "metadata": {},
   "outputs": [],
   "source": [
    "# res = (gisaid.groupby(['date', 'country', 'division', \n",
    "#                                         'purpose_of_sequencing',\n",
    "#                                         'location', 'pangolin_lineage', 'strain'])\n",
    "#                        .agg(mutations=('mutation', 'unique')).reset_index())\n",
    "# res['is_vui'] = res['mutations'].apply(bv.is_vui, args=(set(values),))"
   ]
  },
  {
   "cell_type": "code",
   "execution_count": 16,
   "metadata": {},
   "outputs": [],
   "source": [
    "gisaid = pd.read_csv(input_params['gisaid_data_fp'], compression='gzip')"
   ]
  },
  {
   "cell_type": "code",
   "execution_count": null,
   "metadata": {},
   "outputs": [],
   "source": []
  },
  {
   "cell_type": "code",
   "execution_count": null,
   "metadata": {},
   "outputs": [],
   "source": []
  },
  {
   "cell_type": "code",
   "execution_count": 12,
   "metadata": {},
   "outputs": [],
   "source": [
    "\n",
    "def get_mutations(data: pd.DataFrame, lineage: str='B.1.1.7'):\n",
    "    mutations = set(data[data['pangolin_lineage']==lineage]['mutation'].unique().tolist())\n",
    "    return mutations"
   ]
  },
  {
   "cell_type": "code",
   "execution_count": 12,
   "metadata": {},
   "outputs": [
    {
     "name": "stderr",
     "output_type": "stream",
     "text": [
      "/home/al/anaconda3/lib/python3.8/site-packages/IPython/core/interactiveshell.py:3146: DtypeWarning: Columns (38,39,41,42,43,44,45,46) have mixed types.Specify dtype option on import or set low_memory=False.\n",
      "  has_raised = await self.run_ast_nodes(code_ast.body, cell_name,\n"
     ]
    }
   ],
   "source": [
    "# gisaid = pd.read_csv(input_params['gisaid_data_fp'], compression='gzip')\n",
    "# gisaid.drop(columns=['mutation'], inplace=True)\n",
    "# gisaid['mutations'] = gisaid['gene'] + ':' + gisaid['ref_aa'] + gisaid['codon_num'].astype(str) + gisaid['alt_aa']\n",
    "# gisaid.to_csv(input_params['gisaid_data_fp'], compression='gzip')"
   ]
  },
  {
   "cell_type": "code",
   "execution_count": 20,
   "metadata": {},
   "outputs": [
    {
     "data": {
      "text/plain": [
       "(10421,)"
      ]
     },
     "execution_count": 20,
     "metadata": {},
     "output_type": "execute_result"
    }
   ],
   "source": [
    "gisaid[gisaid['pangolin_lineage']=='B.1.1.7']['strain'].unique().shape"
   ]
  },
  {
   "cell_type": "code",
   "execution_count": 21,
   "metadata": {},
   "outputs": [
    {
     "data": {
      "text/plain": [
       "(1340,)"
      ]
     },
     "execution_count": 21,
     "metadata": {},
     "output_type": "execute_result"
    }
   ],
   "source": [
    "gisaid[gisaid['pangolin_lineage']=='B.1.1.70']['strain'].unique().shape"
   ]
  },
  {
   "cell_type": "code",
   "execution_count": 18,
   "metadata": {},
   "outputs": [
    {
     "data": {
      "text/plain": [
       "{'3UTR:A15T',\n",
       " '3UTR:G35G',\n",
       " '3UTR:I4I',\n",
       " '3UTR:Q66K',\n",
       " '3UTR:T32I',\n",
       " '3UTR:V46L',\n",
       " '3UTR:V6L',\n",
       " '3UTR:_31L',\n",
       " '3UTR:_9W',\n",
       " '5UTR:I74I',\n",
       " '5UTR:P73P',\n",
       " '5UTR:R81C',\n",
       " '5UTR:S68L',\n",
       " 'E:F23F',\n",
       " 'E:L65L',\n",
       " 'E:L73F',\n",
       " 'E:S68F',\n",
       " 'E:T30I',\n",
       " 'M:D160D',\n",
       " 'M:D190D',\n",
       " 'M:F112F',\n",
       " 'M:F53F',\n",
       " 'M:G202G',\n",
       " 'M:G78C',\n",
       " 'M:L124L',\n",
       " 'M:L35L',\n",
       " 'M:N203N',\n",
       " 'M:N41N',\n",
       " 'M:S173K',\n",
       " 'M:T172T',\n",
       " 'M:Y196Y',\n",
       " 'M:Y71Y',\n",
       " 'N:A134V',\n",
       " 'N:A156S',\n",
       " 'N:A208S',\n",
       " 'N:A211S',\n",
       " 'N:A252S',\n",
       " 'N:A273S',\n",
       " 'N:A359S',\n",
       " 'N:A35A',\n",
       " 'N:A90S',\n",
       " 'N:D348Y',\n",
       " 'N:D401Y',\n",
       " 'N:D402Y',\n",
       " 'N:D415D',\n",
       " 'N:F110F',\n",
       " 'N:F274F',\n",
       " 'N:F346F',\n",
       " 'N:G204R',\n",
       " 'N:H145H',\n",
       " 'N:I292I',\n",
       " 'N:I337I',\n",
       " 'N:N126N',\n",
       " 'N:N192N',\n",
       " 'N:P142S',\n",
       " 'N:P199S',\n",
       " 'N:P383P',\n",
       " 'N:Q28H',\n",
       " 'N:Q418H',\n",
       " 'N:Q9H',\n",
       " 'N:R195I',\n",
       " 'N:R203K',\n",
       " 'N:R385I',\n",
       " 'N:S194P',\n",
       " 'N:S413I',\n",
       " 'N:T135I',\n",
       " 'N:T16M',\n",
       " 'N:T16T',\n",
       " 'N:T24I',\n",
       " 'N:T282T',\n",
       " 'N:T379I',\n",
       " 'N:T417I',\n",
       " 'N:T54T',\n",
       " 'N:Y298Y',\n",
       " 'N:Y360Y',\n",
       " 'N:Y86Y',\n",
       " 'ORF10:C19C',\n",
       " 'ORF10:Y26Y',\n",
       " 'ORF1ab:A1151V',\n",
       " 'ORF1ab:A1283V',\n",
       " 'ORF1ab:A1298V',\n",
       " 'ORF1ab:A1397V',\n",
       " 'ORF1ab:A1679V',\n",
       " 'ORF1ab:A1923T',\n",
       " 'ORF1ab:A2529V',\n",
       " 'ORF1ab:A2584A',\n",
       " 'ORF1ab:A3143V',\n",
       " 'ORF1ab:A3209V',\n",
       " 'ORF1ab:A3333V',\n",
       " 'ORF1ab:A3456V',\n",
       " 'ORF1ab:A3615V',\n",
       " 'ORF1ab:A3755A',\n",
       " 'ORF1ab:A3939V',\n",
       " 'ORF1ab:A4133A',\n",
       " 'ORF1ab:A486V',\n",
       " 'ORF1ab:A498V',\n",
       " 'ORF1ab:A5062V',\n",
       " 'ORF1ab:A5332V',\n",
       " 'ORF1ab:A599A',\n",
       " 'ORF1ab:A6307A',\n",
       " 'ORF1ab:A6430V',\n",
       " 'ORF1ab:A6788V',\n",
       " 'ORF1ab:A690V',\n",
       " 'ORF1ab:A967V',\n",
       " 'ORF1ab:C5060F',\n",
       " 'ORF1ab:C5557F',\n",
       " 'ORF1ab:C5735C',\n",
       " 'ORF1ab:C6078F',\n",
       " 'ORF1ab:D1273D',\n",
       " 'ORF1ab:D1849D',\n",
       " 'ORF1ab:D223D',\n",
       " 'ORF1ab:D3297D',\n",
       " 'ORF1ab:D3311D',\n",
       " 'ORF1ab:D3450D',\n",
       " 'ORF1ab:D992D',\n",
       " 'ORF1ab:E3310K',\n",
       " 'ORF1ab:E929D',\n",
       " 'ORF1ab:F2334F',\n",
       " 'ORF1ab:F2338F',\n",
       " 'ORF1ab:F266F',\n",
       " 'ORF1ab:F3329F',\n",
       " 'ORF1ab:F3603F',\n",
       " 'ORF1ab:F3604L',\n",
       " 'ORF1ab:F3769F',\n",
       " 'ORF1ab:F924F',\n",
       " 'ORF1ab:G1073G',\n",
       " 'ORF1ab:G137G',\n",
       " 'ORF1ab:G2091G',\n",
       " 'ORF1ab:G3676S',\n",
       " 'ORF1ab:G6018V',\n",
       " 'ORF1ab:G6953V',\n",
       " 'ORF1ab:G728C',\n",
       " 'ORF1ab:H1113Y',\n",
       " 'ORF1ab:H1652H',\n",
       " 'ORF1ab:H165Y',\n",
       " 'ORF1ab:H2092Y',\n",
       " 'ORF1ab:H2125Y',\n",
       " 'ORF1ab:H2799Y',\n",
       " 'ORF1ab:H3426H',\n",
       " 'ORF1ab:H374H',\n",
       " 'ORF1ab:H4533Y',\n",
       " 'ORF1ab:H4918Y',\n",
       " 'ORF1ab:H5362Y',\n",
       " 'ORF1ab:I1203I',\n",
       " 'ORF1ab:I1276T',\n",
       " 'ORF1ab:I3055I',\n",
       " 'ORF1ab:I3257I',\n",
       " 'ORF1ab:I4205I',\n",
       " 'ORF1ab:I473I',\n",
       " 'ORF1ab:I5264T',\n",
       " 'ORF1ab:I5747T',\n",
       " 'ORF1ab:I6923I',\n",
       " 'ORF1ab:I785V',\n",
       " 'ORF1ab:K1230N',\n",
       " 'ORF1ab:K2029N',\n",
       " 'ORF1ab:K3353R',\n",
       " 'ORF1ab:K5925N',\n",
       " 'ORF1ab:K6771N',\n",
       " 'ORF1ab:L1356L',\n",
       " 'ORF1ab:L1438L',\n",
       " 'ORF1ab:L1643L',\n",
       " 'ORF1ab:L16L',\n",
       " 'ORF1ab:L219L',\n",
       " 'ORF1ab:L2211L',\n",
       " 'ORF1ab:L2609L',\n",
       " 'ORF1ab:L2874L',\n",
       " 'ORF1ab:L3198L',\n",
       " 'ORF1ab:L3338F',\n",
       " 'ORF1ab:L3535L',\n",
       " 'ORF1ab:L3606F',\n",
       " 'ORF1ab:L3694F',\n",
       " 'ORF1ab:L3829F',\n",
       " 'ORF1ab:L4418L',\n",
       " 'ORF1ab:L450F',\n",
       " 'ORF1ab:L454L',\n",
       " 'ORF1ab:L4715L',\n",
       " 'ORF1ab:L5315L',\n",
       " 'ORF1ab:L5376F',\n",
       " 'ORF1ab:L5493S',\n",
       " 'ORF1ab:L5727P',\n",
       " 'ORF1ab:L5755L',\n",
       " 'ORF1ab:L5833L',\n",
       " 'ORF1ab:L5844L',\n",
       " 'ORF1ab:L5923F',\n",
       " 'ORF1ab:L5941L',\n",
       " 'ORF1ab:L5956L',\n",
       " 'ORF1ab:L6044L',\n",
       " 'ORF1ab:L6063L',\n",
       " 'ORF1ab:L6128L',\n",
       " 'ORF1ab:L628F',\n",
       " 'ORF1ab:L6461F',\n",
       " 'ORF1ab:L6533L',\n",
       " 'ORF1ab:L730L',\n",
       " 'ORF1ab:L791L',\n",
       " 'ORF1ab:L815L',\n",
       " 'ORF1ab:L960L',\n",
       " 'ORF1ab:M1378I',\n",
       " 'ORF1ab:M2796I',\n",
       " 'ORF1ab:M3752I',\n",
       " 'ORF1ab:N1662S',\n",
       " 'ORF1ab:N188N',\n",
       " 'ORF1ab:N2523N',\n",
       " 'ORF1ab:N3007N',\n",
       " 'ORF1ab:N3414N',\n",
       " 'ORF1ab:N508D',\n",
       " 'ORF1ab:N615N',\n",
       " 'ORF1ab:N810N',\n",
       " 'ORF1ab:P1330P',\n",
       " 'ORF1ab:P1786L',\n",
       " 'ORF1ab:P1862L',\n",
       " 'ORF1ab:P1921S',\n",
       " 'ORF1ab:P2046S',\n",
       " 'ORF1ab:P2376P',\n",
       " 'ORF1ab:P2483S',\n",
       " 'ORF1ab:P309L',\n",
       " 'ORF1ab:P309S',\n",
       " 'ORF1ab:P3371S',\n",
       " 'ORF1ab:P3395P',\n",
       " 'ORF1ab:P3831P',\n",
       " 'ORF1ab:P4389S',\n",
       " 'ORF1ab:P4638S',\n",
       " 'ORF1ab:P4959L',\n",
       " 'ORF1ab:P5232L',\n",
       " 'ORF1ab:P5636L',\n",
       " 'ORF1ab:P6623S',\n",
       " 'ORF1ab:P6860L',\n",
       " 'ORF1ab:P927L',\n",
       " 'ORF1ab:P959S',\n",
       " 'ORF1ab:P971L',\n",
       " 'ORF1ab:P971S',\n",
       " 'ORF1ab:Q3818Q',\n",
       " 'ORF1ab:Q4983R',\n",
       " 'ORF1ab:Q5674_',\n",
       " 'ORF1ab:Q6485_',\n",
       " 'ORF1ab:Q6777_',\n",
       " 'ORF1ab:Q6896_',\n",
       " 'ORF1ab:Q6938_',\n",
       " 'ORF1ab:Q998H',\n",
       " 'ORF1ab:R124C',\n",
       " 'ORF1ab:R3368R',\n",
       " 'ORF1ab:R402R',\n",
       " 'ORF1ab:R4387C',\n",
       " 'ORF1ab:R4786C',\n",
       " 'ORF1ab:R5036C',\n",
       " 'ORF1ab:R5036L',\n",
       " 'ORF1ab:R5371H',\n",
       " 'ORF1ab:R550C',\n",
       " 'ORF1ab:R5805C',\n",
       " 'ORF1ab:R6805Q',\n",
       " 'ORF1ab:R6997P',\n",
       " 'ORF1ab:S1188L',\n",
       " 'ORF1ab:S1587L',\n",
       " 'ORF1ab:S1924S',\n",
       " 'ORF1ab:S2103F',\n",
       " 'ORF1ab:S2242F',\n",
       " 'ORF1ab:S2273F',\n",
       " 'ORF1ab:S2396G',\n",
       " 'ORF1ab:S248S',\n",
       " 'ORF1ab:S2500S',\n",
       " 'ORF1ab:S318L',\n",
       " 'ORF1ab:S3946S',\n",
       " 'ORF1ab:S3950S',\n",
       " 'ORF1ab:S4398S',\n",
       " 'ORF1ab:S4429F',\n",
       " 'ORF1ab:S443S',\n",
       " 'ORF1ab:S4667L',\n",
       " 'ORF1ab:S5092L',\n",
       " 'ORF1ab:S5282S',\n",
       " 'ORF1ab:S5348F',\n",
       " 'ORF1ab:S549S',\n",
       " 'ORF1ab:S5580L',\n",
       " 'ORF1ab:S5680F',\n",
       " 'ORF1ab:S5762L',\n",
       " 'ORF1ab:S5804L',\n",
       " 'ORF1ab:S5834F',\n",
       " 'ORF1ab:S6129I',\n",
       " 'ORF1ab:S6188F',\n",
       " 'ORF1ab:S6251F',\n",
       " 'ORF1ab:S6408F',\n",
       " 'ORF1ab:S6420L',\n",
       " 'ORF1ab:S6573F',\n",
       " 'ORF1ab:S6638F',\n",
       " 'ORF1ab:S6741I',\n",
       " 'ORF1ab:S6958G',\n",
       " 'ORF1ab:S944L',\n",
       " 'ORF1ab:T1000I',\n",
       " 'ORF1ab:T1035I',\n",
       " 'ORF1ab:T1093I',\n",
       " 'ORF1ab:T1426T',\n",
       " 'ORF1ab:T1521I',\n",
       " 'ORF1ab:T1597I',\n",
       " 'ORF1ab:T1637I',\n",
       " 'ORF1ab:T1840I',\n",
       " 'ORF1ab:T2007T',\n",
       " 'ORF1ab:T224I',\n",
       " 'ORF1ab:T2283I',\n",
       " 'ORF1ab:T2300T',\n",
       " 'ORF1ab:T2495I',\n",
       " 'ORF1ab:T2648I',\n",
       " 'ORF1ab:T2825I',\n",
       " 'ORF1ab:T2936T',\n",
       " 'ORF1ab:T2967I',\n",
       " 'ORF1ab:T333T',\n",
       " 'ORF1ab:T350I',\n",
       " 'ORF1ab:T4031I',\n",
       " 'ORF1ab:T4083T',\n",
       " 'ORF1ab:T4087I',\n",
       " 'ORF1ab:T4175I',\n",
       " 'ORF1ab:T4311I',\n",
       " 'ORF1ab:T4354I',\n",
       " 'ORF1ab:T4355I',\n",
       " 'ORF1ab:T4467I',\n",
       " 'ORF1ab:T4652I',\n",
       " 'ORF1ab:T4847I',\n",
       " 'ORF1ab:T4992I',\n",
       " 'ORF1ab:T5020I',\n",
       " 'ORF1ab:T5130I',\n",
       " 'ORF1ab:T5152M',\n",
       " 'ORF1ab:T5355M',\n",
       " 'ORF1ab:T5541I',\n",
       " 'ORF1ab:T554I',\n",
       " 'ORF1ab:T5904T',\n",
       " 'ORF1ab:T5955I',\n",
       " 'ORF1ab:T5996I',\n",
       " 'ORF1ab:T6160M',\n",
       " 'ORF1ab:T6335I',\n",
       " 'ORF1ab:T6466I',\n",
       " 'ORF1ab:T6853I',\n",
       " 'ORF1ab:T6931T',\n",
       " 'ORF1ab:T753I',\n",
       " 'ORF1ab:T882I',\n",
       " 'ORF1ab:V111V',\n",
       " 'ORF1ab:V1143F',\n",
       " 'ORF1ab:V1291F',\n",
       " 'ORF1ab:V186V',\n",
       " 'ORF1ab:V2866M',\n",
       " 'ORF1ab:V2975V',\n",
       " 'ORF1ab:V4361V',\n",
       " 'ORF1ab:V4485V',\n",
       " 'ORF1ab:V4702V',\n",
       " 'ORF1ab:V5166A',\n",
       " 'ORF1ab:V5613V',\n",
       " 'ORF1ab:V6062L',\n",
       " 'ORF1ab:W5819L',\n",
       " 'ORF1ab:W6240L',\n",
       " 'ORF1ab:Y1174Y',\n",
       " 'ORF1ab:Y136Y',\n",
       " 'ORF1ab:Y1868Y',\n",
       " 'ORF1ab:Y2560Y',\n",
       " 'ORF1ab:Y3744Y',\n",
       " 'ORF1ab:Y5715Y',\n",
       " 'ORF1ab:_5147L',\n",
       " 'ORF1ab:_5672L',\n",
       " 'ORF1ab:_6124L',\n",
       " 'ORF1ab:_6404W',\n",
       " 'ORF3a:A33A',\n",
       " 'ORF3a:D27Y',\n",
       " 'ORF3a:F43F',\n",
       " 'ORF3a:G224C',\n",
       " 'ORF3a:K21N',\n",
       " 'ORF3a:L106L',\n",
       " 'ORF3a:L140F',\n",
       " 'ORF3a:L147F',\n",
       " 'ORF3a:L15F',\n",
       " 'ORF3a:L65L',\n",
       " 'ORF3a:L84L',\n",
       " 'ORF3a:P240L',\n",
       " 'ORF3a:P36P',\n",
       " 'ORF3a:P42L',\n",
       " 'ORF3a:Q185H',\n",
       " 'ORF3a:Q57H',\n",
       " 'ORF3a:S166L',\n",
       " 'ORF3a:S177I',\n",
       " 'ORF3a:S60S',\n",
       " 'ORF3a:T151I',\n",
       " 'ORF3a:T175I',\n",
       " 'ORF3a:T229I',\n",
       " 'ORF3a:T32I',\n",
       " 'ORF3a:W131C',\n",
       " 'ORF6:D61D',\n",
       " 'ORF6:I32I',\n",
       " 'ORF6:L16L',\n",
       " 'ORF6:L4L',\n",
       " 'ORF6:P57L',\n",
       " 'ORF6:S41F',\n",
       " 'ORF6:T21I',\n",
       " 'ORF7a:A55S',\n",
       " 'ORF7a:A79A',\n",
       " 'ORF7a:E121_',\n",
       " 'ORF7a:P84S',\n",
       " 'ORF7a:R89I',\n",
       " 'ORF7a:T11T',\n",
       " 'ORF7a:T120I',\n",
       " 'ORF7a:T14I',\n",
       " 'ORF7a:T61I',\n",
       " 'ORF7a:Y40Y',\n",
       " 'ORF7a:Y97Y',\n",
       " 'ORF7b:H42H',\n",
       " 'ORF7b:S31L',\n",
       " 'ORF8:A65S',\n",
       " 'ORF8:A65V',\n",
       " 'ORF8:F120F',\n",
       " 'ORF8:P36L',\n",
       " 'ORF8:P36P',\n",
       " 'ORF8:Q18_',\n",
       " 'ORF8:Q27_',\n",
       " 'ORF8:R115C',\n",
       " 'ORF8:S54L',\n",
       " 'ORF8:V62L',\n",
       " 'ORF8:V62V',\n",
       " 'ORF8:Y42Y',\n",
       " 'S:A1020S',\n",
       " 'S:A1078V',\n",
       " 'S:A262S',\n",
       " 'S:A27S',\n",
       " 'S:A475A',\n",
       " 'S:A647S',\n",
       " 'S:A67V',\n",
       " 'S:A688V',\n",
       " 'S:A871S',\n",
       " 'S:C1235F',\n",
       " 'S:D1259D',\n",
       " 'S:D138H',\n",
       " 'S:D215Y',\n",
       " 'S:D40D',\n",
       " 'S:D614G',\n",
       " 'S:D936D',\n",
       " 'S:E1202Q',\n",
       " 'S:E583D',\n",
       " 'S:F43F',\n",
       " 'S:F543F',\n",
       " 'S:F55F',\n",
       " 'S:G1219V',\n",
       " 'S:G181V',\n",
       " 'S:G413G',\n",
       " 'S:H146H',\n",
       " 'S:H49Y',\n",
       " 'S:H655Y',\n",
       " 'S:I692I',\n",
       " 'S:I726I',\n",
       " 'S:K1045R',\n",
       " 'S:K1205N',\n",
       " 'S:K921K',\n",
       " 'S:L1193L',\n",
       " 'S:L1200L',\n",
       " 'S:L141F',\n",
       " 'S:L276L',\n",
       " 'S:L5F',\n",
       " 'S:L821L',\n",
       " 'S:L877L',\n",
       " 'S:M1229I',\n",
       " 'S:N501Y',\n",
       " 'S:N856N',\n",
       " 'S:N925N',\n",
       " 'S:N99N',\n",
       " 'S:P1162L',\n",
       " 'S:P1162S',\n",
       " 'S:P1263L',\n",
       " 'S:P715P',\n",
       " 'S:Q1201K',\n",
       " 'S:Q677H',\n",
       " 'S:Q677Y',\n",
       " 'S:S221L',\n",
       " 'S:S221S',\n",
       " 'S:S494P',\n",
       " 'S:S640F',\n",
       " 'S:S884F',\n",
       " 'S:T20I',\n",
       " 'S:T20T',\n",
       " 'S:T302T',\n",
       " 'S:T323I',\n",
       " 'S:T385I',\n",
       " 'S:T572I',\n",
       " 'S:T676T',\n",
       " 'S:T778T',\n",
       " 'S:T859I',\n",
       " 'S:T95I',\n",
       " 'S:V308L',\n",
       " 'S:V367F',\n",
       " 'S:V615L',\n",
       " 'S:V620V',\n",
       " 'S:W152L',\n",
       " 'S:Y789Y'}"
      ]
     },
     "execution_count": 18,
     "metadata": {},
     "output_type": "execute_result"
    }
   ],
   "source": [
    "b117 = get_mutations(gisaid, lineage='B.1.1.7')\n",
    "b1170 = get_mutations(gisaid, lineage='B.1.1.70')\n",
    "b117.intersection(b1170)"
   ]
  },
  {
   "cell_type": "code",
   "execution_count": 13,
   "metadata": {},
   "outputs": [
    {
     "name": "stderr",
     "output_type": "stream",
     "text": [
      "/home/al/anaconda3/lib/python3.8/site-packages/IPython/core/interactiveshell.py:3146: DtypeWarning:\n",
      "\n",
      "Columns (37,38,40,41,42,43,44,45) have mixed types.Specify dtype option on import or set low_memory=False.\n",
      "\n"
     ]
    }
   ],
   "source": [
    "# gisaid.columns"
   ]
  },
  {
   "cell_type": "code",
   "execution_count": 13,
   "metadata": {},
   "outputs": [],
   "source": []
  },
  {
   "cell_type": "markdown",
   "metadata": {},
   "source": [
    "'England/205141731/2020', 'Lebanon/LAU-uk4/2020', 'England/204590625/2020', \n",
    "'England/204590575/2020', 'England/NORW-F6D33/2020'"
   ]
  },
  {
   "cell_type": "code",
   "execution_count": 16,
   "metadata": {},
   "outputs": [],
   "source": [
    "g = gisaid.groupby(['pangolin_lineage', 'strain']).agg(mutations=('mutation', 'unique')).reset_index()\n",
    "def check_mutation(x, mutation='S:N501Y'):\n",
    "    if mutation in x:\n",
    "        return True\n",
    "    return False\n",
    "\n",
    "g['501Y'] = g['mutations'].apply(check_mutation)"
   ]
  },
  {
   "cell_type": "code",
   "execution_count": 31,
   "metadata": {},
   "outputs": [],
   "source": [
    "m = \"S:D614G\"\n",
    "g['614G'] = g['mutations'].apply(check_mutation, args=(m,))"
   ]
  },
  {
   "cell_type": "code",
   "execution_count": 32,
   "metadata": {},
   "outputs": [],
   "source": [
    "soi = g.loc[(g['614G']==False) \n",
    "          & (g['pangolin_lineage']=='B.1.1.7'), \n",
    "            'strain'].unique().tolist() + [input_params['patient_zero']]"
   ]
  },
  {
   "cell_type": "code",
   "execution_count": 33,
   "metadata": {},
   "outputs": [
    {
     "data": {
      "text/plain": [
       "['England/CAMC-CFDB18/2020', 'NC_045512.2']"
      ]
     },
     "execution_count": 33,
     "metadata": {},
     "output_type": "execute_result"
    }
   ],
   "source": [
    "soi"
   ]
  },
  {
   "cell_type": "code",
   "execution_count": 26,
   "metadata": {},
   "outputs": [
    {
     "data": {
      "text/plain": [
       "1"
      ]
     },
     "execution_count": 26,
     "metadata": {},
     "output_type": "execute_result"
    }
   ],
   "source": [
    "bs.fetch_seqs(input_params['msa_fp'], 'test_data/b117_wo_N501Y.fasta', soi, is_aligned=True)"
   ]
  },
  {
   "cell_type": "code",
   "execution_count": 185,
   "metadata": {},
   "outputs": [],
   "source": [
    "# gisaid[(gisaid['pangolin_lineage']=='B.1.1.7')]['location'].value_counts()"
   ]
  },
  {
   "cell_type": "code",
   "execution_count": 186,
   "metadata": {},
   "outputs": [],
   "source": [
    "# df"
   ]
  },
  {
   "cell_type": "code",
   "execution_count": 187,
   "metadata": {},
   "outputs": [],
   "source": [
    "results['county_map'] = fig"
   ]
  },
  {
   "cell_type": "code",
   "execution_count": 143,
   "metadata": {},
   "outputs": [
    {
     "data": {
      "text/plain": [
       "(404,)"
      ]
     },
     "execution_count": 143,
     "metadata": {},
     "output_type": "execute_result"
    }
   ],
   "source": [
    "gisaid.loc[(gisaid['codon_num']==452) & (gisaid['gene']=='S') & (gisaid['alt_aa']=='R'), 'strain'].unique().shape"
   ]
  },
  {
   "cell_type": "code",
   "execution_count": 24,
   "metadata": {},
   "outputs": [
    {
     "data": {
      "text/plain": [
       "'2020-03-17'"
      ]
     },
     "execution_count": 24,
     "metadata": {},
     "output_type": "execute_result"
    }
   ],
   "source": [
    "gisaid.loc[(gisaid['codon_num']==452) & (gisaid['gene']=='S') & (gisaid['alt_aa']=='R'), 'date'].min()"
   ]
  },
  {
   "cell_type": "code",
   "execution_count": null,
   "metadata": {},
   "outputs": [],
   "source": [
    "gisaid[gisaid['pangolin_lineage']=='B.1.1.70']"
   ]
  },
  {
   "cell_type": "code",
   "execution_count": 15,
   "metadata": {},
   "outputs": [
    {
     "data": {
      "text/plain": [
       "B.1.1.70     48\n",
       "B.1.351      19\n",
       "B.1.160       1\n",
       "B.1.1.31      1\n",
       "B.1.160.6     1\n",
       "B.1.1.1       1\n",
       "B.1.367       1\n",
       "C.14          1\n",
       "Name: pangolin_lineage, dtype: int64"
      ]
     },
     "execution_count": 15,
     "metadata": {},
     "output_type": "execute_result"
    }
   ],
   "source": [
    "dists.loc[(dists['group']=='outgroup') & (dists['genetic_distance']>0.0008), 'pangolin_lineage'].value_counts()"
   ]
  }
 ],
 "metadata": {
  "kernelspec": {
   "display_name": "Python 3",
   "language": "python",
   "name": "python3"
  },
  "language_info": {
   "codemirror_mode": {
    "name": "ipython",
    "version": 3
   },
   "file_extension": ".py",
   "mimetype": "text/x-python",
   "name": "python",
   "nbconvert_exporter": "python",
   "pygments_lexer": "ipython3",
   "version": "3.8.5"
  }
 },
 "nbformat": 4,
 "nbformat_minor": 4
}
