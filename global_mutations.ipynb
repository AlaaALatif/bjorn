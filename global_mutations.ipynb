{
 "cells": [
  {
   "cell_type": "markdown",
   "metadata": {},
   "source": [
    "## TODO\n",
    "* `gb_accession` and `gisaid_accession` are not found for new sequences, how do we concat to `metadata.csv` without them?\n",
    "* metadata format for NCBI\n",
    "* support tools for manual sanity checks"
   ]
  },
  {
   "cell_type": "code",
   "execution_count": 1,
   "metadata": {},
   "outputs": [],
   "source": [
    "from bjorn import *\n",
    "from bjorn_support import *\n",
    "from onion_trees import *\n",
    "import gffutils\n",
    "import math\n",
    "from mutations import *"
   ]
  },
  {
   "cell_type": "code",
   "execution_count": 46,
   "metadata": {},
   "outputs": [],
   "source": [
    "input_fasta = \"/home/al/analysis/mutations/S501Y/msa_reference.fa\"\n",
    "meta_fp = \"/home/al/analysis/mutations/S501Y/metadata_2020-12-20_12-24.tsv\"\n",
    "out_dir = \"/home/al/analysis/mutations/S501Y/\"\n",
    "ref_fp = \"/home/al/data/test_inputs/NC045512.fasta\"\n",
    "patient_zero = 'NC_045512.2'"
   ]
  },
  {
   "cell_type": "code",
   "execution_count": 47,
   "metadata": {},
   "outputs": [
    {
     "name": "stderr",
     "output_type": "stream",
     "text": [
      "/home/al/anaconda3/lib/python3.8/site-packages/IPython/core/interactiveshell.py:3145: DtypeWarning: Columns (8) have mixed types.Specify dtype option on import or set low_memory=False.\n",
      "  has_raised = await self.run_ast_nodes(code_ast.body, cell_name,\n"
     ]
    },
    {
     "data": {
      "text/plain": [
       "Index(['strain', 'virus', 'gisaid_epi_isl', 'genbank_accession', 'date',\n",
       "       'region', 'country', 'division', 'location', 'region_exposure',\n",
       "       'country_exposure', 'division_exposure', 'segment', 'length', 'host',\n",
       "       'age', 'sex', 'Nextstrain_clade', 'pangolin_lineage', 'GISAID_clade',\n",
       "       'originating_lab', 'submitting_lab', 'authors', 'url', 'title',\n",
       "       'paper_url', 'date_submitted'],\n",
       "      dtype='object')"
      ]
     },
     "execution_count": 47,
     "metadata": {},
     "output_type": "execute_result"
    }
   ],
   "source": [
    "## keep only seqs contained in meta_file and save to fasta file\n",
    "## concat with internal SD file\n",
    "## generate MSA\n",
    "meta = pd.read_csv(meta_fp, sep='\\t')\n",
    "meta.columns"
   ]
  },
  {
   "cell_type": "code",
   "execution_count": 48,
   "metadata": {},
   "outputs": [],
   "source": [
    "# consensus_data = SeqIO.to_dict(SeqIO.parse(seqs_fp, \"fasta\"))"
   ]
  },
  {
   "cell_type": "code",
   "execution_count": 49,
   "metadata": {},
   "outputs": [
    {
     "data": {
      "text/plain": [
       "273267"
      ]
     },
     "execution_count": 49,
     "metadata": {},
     "output_type": "execute_result"
    }
   ],
   "source": [
    "strains = meta['strain'].unique().tolist()\n",
    "len(strains)"
   ]
  },
  {
   "cell_type": "code",
   "execution_count": 50,
   "metadata": {},
   "outputs": [
    {
     "name": "stdout",
     "output_type": "stream",
     "text": [
      "Loading Alignment file at: /home/al/analysis/mutations/S501Y/msa_reference.fa\n"
     ]
    }
   ],
   "source": [
    "print(f\"Loading Alignment file at: {input_fasta}\")\n",
    "cns = AlignIO.read(input_fasta, 'fasta')"
   ]
  },
  {
   "cell_type": "code",
   "execution_count": 51,
   "metadata": {},
   "outputs": [
    {
     "name": "stdout",
     "output_type": "stream",
     "text": [
      "Initial cleaning...\n"
     ]
    }
   ],
   "source": [
    "print(f\"Initial cleaning...\")\n",
    "seqs, ref_seq = process_cns_seqs(cns, patient_zero,\n",
    "                                 start_pos=0, end_pos=30000)"
   ]
  },
  {
   "cell_type": "code",
   "execution_count": 52,
   "metadata": {},
   "outputs": [
    {
     "name": "stdout",
     "output_type": "stream",
     "text": [
      "Creating a dataframe...\n"
     ]
    }
   ],
   "source": [
    "print(f\"Creating a dataframe...\")\n",
    "seqsdf = (pd.DataFrame(index=seqs.keys(), \n",
    "                       data=seqs.values(), \n",
    "                       columns=['sequence'])\n",
    "            .reset_index()\n",
    "            .rename(columns={'index': 'idx'}))"
   ]
  },
  {
   "cell_type": "code",
   "execution_count": 53,
   "metadata": {},
   "outputs": [],
   "source": [
    "def find_replacements(x, ref):\n",
    "    return [f'{i}:{n}' for i, n in enumerate(x)\n",
    "            if n!=ref[i] and n!='-' and n!='n']"
   ]
  },
  {
   "cell_type": "code",
   "execution_count": 54,
   "metadata": {},
   "outputs": [
    {
     "name": "stdout",
     "output_type": "stream",
     "text": [
      "Identifying mutations...\n"
     ]
    }
   ],
   "source": [
    "print(f\"Identifying mutations...\")\n",
    "# for each sample, identify list of substitutions (position:alt)\n",
    "seqsdf['replacements'] = seqsdf['sequence'].apply(find_replacements, args=(ref_seq,))"
   ]
  },
  {
   "cell_type": "code",
   "execution_count": 55,
   "metadata": {},
   "outputs": [],
   "source": [
    "# wide-to-long data manipulation\n",
    "seqsdf = seqsdf.explode('replacements')"
   ]
  },
  {
   "cell_type": "code",
   "execution_count": 56,
   "metadata": {},
   "outputs": [],
   "source": [
    "# seqsdf"
   ]
  },
  {
   "cell_type": "code",
   "execution_count": 57,
   "metadata": {},
   "outputs": [],
   "source": [
    "seqsdf['pos'] = -1\n",
    "# populate position column\n",
    "seqsdf.loc[~seqsdf['replacements'].isna(), 'pos'] = (seqsdf.loc[~seqsdf['replacements'].isna(), 'replacements']\n",
    "   .apply(lambda x: int(x.split(':')[0])))"
   ]
  },
  {
   "cell_type": "code",
   "execution_count": 58,
   "metadata": {},
   "outputs": [
    {
     "name": "stdout",
     "output_type": "stream",
     "text": [
      "Mapping Genes to mutations...\n"
     ]
    }
   ],
   "source": [
    "# filter out non-substitutions\n",
    "seqsdf = seqsdf.loc[seqsdf['pos']!=-1]\n",
    "print(f\"Mapping Genes to mutations...\")\n",
    "# identify gene of each substitution\n",
    "seqsdf['gene'] = seqsdf['pos'].apply(map_gene_to_pos)\n",
    "seqsdf = seqsdf.loc[~seqsdf['gene'].isna()]"
   ]
  },
  {
   "cell_type": "code",
   "execution_count": 59,
   "metadata": {},
   "outputs": [],
   "source": [
    "# seqsdf"
   ]
  },
  {
   "cell_type": "code",
   "execution_count": 60,
   "metadata": {},
   "outputs": [
    {
     "name": "stdout",
     "output_type": "stream",
     "text": [
      "Compute codon numbers...\n"
     ]
    }
   ],
   "source": [
    "# filter our substitutions in non-gene positions\n",
    "seqsdf = seqsdf.loc[seqsdf['gene']!='nan']\n",
    "print(f\"Compute codon numbers...\")\n",
    "\n",
    "# compute codon number of each substitution\n",
    "seqsdf['codon_num'] = seqsdf.apply(compute_codon_num, args=(GENE2POS,), axis=1)\n"
   ]
  },
  {
   "cell_type": "code",
   "execution_count": 61,
   "metadata": {},
   "outputs": [
    {
     "name": "stdout",
     "output_type": "stream",
     "text": [
      "Fetch reference codon...\n"
     ]
    }
   ],
   "source": [
    "\n",
    "print(f\"Fetch reference codon...\")\n",
    "# fetch the reference codon for each substitution\n",
    "seqsdf['ref_codon'] = seqsdf.apply(get_ref_codon, args=(ref_seq, GENE2POS), axis=1)"
   ]
  },
  {
   "cell_type": "code",
   "execution_count": 62,
   "metadata": {},
   "outputs": [
    {
     "name": "stdout",
     "output_type": "stream",
     "text": [
      "Fetch alternative codon...\n"
     ]
    }
   ],
   "source": [
    "\n",
    "print(f\"Fetch alternative codon...\")\n",
    "# fetch the alternative codon for each substitution\n",
    "seqsdf['alt_codon'] = seqsdf.apply(get_alt_codon, args=(GENE2POS,), axis=1)"
   ]
  },
  {
   "cell_type": "code",
   "execution_count": 63,
   "metadata": {},
   "outputs": [
    {
     "name": "stdout",
     "output_type": "stream",
     "text": [
      "Map amino acids...\n"
     ]
    }
   ],
   "source": [
    "print(f\"Map amino acids...\")\n",
    "# fetch the reference and alternative amino acids\n",
    "seqsdf['ref_aa'] = seqsdf['ref_codon'].apply(get_aa)\n",
    "seqsdf['alt_aa'] = seqsdf['alt_codon'].apply(get_aa)\n",
    "\n",
    "\n",
    "# filter out substitutions with non-amino acid alternates (bad consensus calls)\n",
    "seqsdf = seqsdf.loc[seqsdf['alt_aa']!='nan']"
   ]
  },
  {
   "cell_type": "code",
   "execution_count": 64,
   "metadata": {},
   "outputs": [
    {
     "name": "stdout",
     "output_type": "stream",
     "text": [
      "Fuse with metadata...\n"
     ]
    },
    {
     "name": "stderr",
     "output_type": "stream",
     "text": [
      "/home/al/anaconda3/lib/python3.8/site-packages/IPython/core/interactiveshell.py:3145: DtypeWarning: Columns (8) have mixed types.Specify dtype option on import or set low_memory=False.\n",
      "  has_raised = await self.run_ast_nodes(code_ast.body, cell_name,\n"
     ]
    }
   ],
   "source": [
    "print(f\"Fuse with metadata...\")\n",
    "# load and join metadata\n",
    "meta = pd.read_csv(meta_fp, sep='\\t')\n",
    "seqsdf = pd.merge(seqsdf, meta, left_on='idx', right_on='strain')"
   ]
  },
  {
   "cell_type": "code",
   "execution_count": 65,
   "metadata": {},
   "outputs": [],
   "source": [
    "seqsdf['date'] = pd.to_datetime(seqsdf['date_submitted'])"
   ]
  },
  {
   "cell_type": "code",
   "execution_count": 66,
   "metadata": {},
   "outputs": [],
   "source": [
    "seqsdf['month'] = seqsdf['date'].dt.month"
   ]
  },
  {
   "cell_type": "code",
   "execution_count": 67,
   "metadata": {},
   "outputs": [
    {
     "data": {
      "text/plain": [
       "Index(['idx', 'sequence', 'replacements', 'pos', 'gene', 'codon_num',\n",
       "       'ref_codon', 'alt_codon', 'ref_aa', 'alt_aa', 'strain', 'virus',\n",
       "       'gisaid_epi_isl', 'genbank_accession', 'date', 'region', 'country',\n",
       "       'division', 'location', 'region_exposure', 'country_exposure',\n",
       "       'division_exposure', 'segment', 'length', 'host', 'age', 'sex',\n",
       "       'Nextstrain_clade', 'pangolin_lineage', 'GISAID_clade',\n",
       "       'originating_lab', 'submitting_lab', 'authors', 'url', 'title',\n",
       "       'paper_url', 'date_submitted', 'month'],\n",
       "      dtype='object')"
      ]
     },
     "execution_count": 67,
     "metadata": {},
     "output_type": "execute_result"
    }
   ],
   "source": [
    "seqsdf.columns"
   ]
  },
  {
   "cell_type": "code",
   "execution_count": 68,
   "metadata": {},
   "outputs": [],
   "source": [
    "seqsdf.loc[seqsdf['location'].isna(), 'location'] = 'unk'"
   ]
  },
  {
   "cell_type": "code",
   "execution_count": 139,
   "metadata": {},
   "outputs": [],
   "source": [
    "seqsdf.drop(columns=['sequence']).to_csv(out_dir/'replacements_19-12-2020.csv', index=False)"
   ]
  },
  {
   "cell_type": "code",
   "execution_count": 140,
   "metadata": {},
   "outputs": [],
   "source": [
    "subs.to_csv(out_dir/'replacements_aggregated_19-12-2020.csv', index=False)"
   ]
  },
  {
   "cell_type": "code",
   "execution_count": 141,
   "metadata": {},
   "outputs": [],
   "source": [
    "seqsdf[['idx', 'sequence']].to_csv(out_dir/'cns_sequences_19-12-2020.csv', index=False)"
   ]
  },
  {
   "cell_type": "code",
   "execution_count": 106,
   "metadata": {},
   "outputs": [
    {
     "name": "stdout",
     "output_type": "stream",
     "text": [
      "Aggregate final results...\n"
     ]
    }
   ],
   "source": [
    "print(f\"Aggregate final results...\")\n",
    "# aggregate on each substitutions, compute number of samples and other attributes\n",
    "subs = (seqsdf.groupby(['gene', 'pos', 'ref_aa', 'codon_num', 'alt_aa'])\n",
    ".agg(\n",
    " num_samples=('idx', 'nunique'),\n",
    " first_detected=('date', 'min'),\n",
    " last_detected=('date', 'max'),\n",
    " num_locations=('location', 'nunique'),\n",
    "#  locations=('location', 'unique'),\n",
    " location_counts=('location', lambda x: np.unique(x, return_counts=True)),\n",
    " num_divisions=('division', 'nunique'),\n",
    "#  divisions=('division', 'unique'),\n",
    " division_counts=('division', lambda x: np.unique(x, return_counts=True)),\n",
    " num_countries=('country', 'nunique'),\n",
    "#  countries=('country', 'unique'),\n",
    " country_counts=('country', lambda x: np.unique(x, return_counts=True))\n",
    "#  location_counts=('location', loc_counts)\n",
    ")\n",
    ".reset_index())\n",
    "# 1-based nucleotide position coordinate system\n",
    "subs['pos'] = subs['pos'] + 1"
   ]
  },
  {
   "cell_type": "code",
   "execution_count": 107,
   "metadata": {},
   "outputs": [],
   "source": [
    "gisaid_subs = (subs.rename(columns={'num_samples': 'gisaid_num_samples', 'first_detected': 'gisaid_1st_detected', 'last_detected': 'gisaid_last_detected',\n",
    "                                    'num_locations': 'gisaid_num_locations', 'locations': 'gisaid_locations', 'location_counts': 'gisaid_location_counts',\n",
    "                                   'num_divisions': 'gisaid_num_states','divisions': 'gisaid_states', 'division_counts': 'gisaid_state_counts',\n",
    "                                   'num_countries': 'gisaid_num_countries', 'countries': 'gisaid_countries', 'country_counts': 'gisaid_country_counts'})\n",
    "               .drop(columns=['ref_aa', 'pos']))"
   ]
  },
  {
   "cell_type": "code",
   "execution_count": 108,
   "metadata": {},
   "outputs": [
    {
     "data": {
      "text/plain": [
       "Index(['gene', 'codon_num', 'alt_aa', 'gisaid_num_samples',\n",
       "       'gisaid_1st_detected', 'gisaid_last_detected', 'gisaid_num_locations',\n",
       "       'gisaid_location_counts', 'gisaid_num_states', 'gisaid_state_counts',\n",
       "       'gisaid_num_countries', 'gisaid_country_counts'],\n",
       "      dtype='object')"
      ]
     },
     "execution_count": 108,
     "metadata": {},
     "output_type": "execute_result"
    }
   ],
   "source": [
    "gisaid_subs.columns"
   ]
  },
  {
   "cell_type": "code",
   "execution_count": 114,
   "metadata": {},
   "outputs": [],
   "source": [
    "# gisaid_subs.sort_values('gisaid_num_samples', ascending=False).iloc[0]['gisaid_country_counts']"
   ]
  },
  {
   "cell_type": "code",
   "execution_count": 115,
   "metadata": {},
   "outputs": [
    {
     "data": {
      "text/plain": [
       "(3986, 10)"
      ]
     },
     "execution_count": 115,
     "metadata": {},
     "output_type": "execute_result"
    }
   ],
   "source": [
    "our_subs = pd.read_csv(\"/home/al/analysis/mutations/alab_git/replacements_22-12-2020_orig.csv\")\n",
    "our_subs.shape"
   ]
  },
  {
   "cell_type": "code",
   "execution_count": 116,
   "metadata": {},
   "outputs": [],
   "source": [
    "all_subs = pd.merge(our_subs, gisaid_subs, on=['gene', 'codon_num', 'alt_aa'], how='left').drop_duplicates(subset=['gene', 'codon_num', 'alt_aa'])"
   ]
  },
  {
   "cell_type": "code",
   "execution_count": 119,
   "metadata": {},
   "outputs": [],
   "source": [
    "all_subs.to_csv(\"/home/al/analysis/mutations/alab_git/replacements_22-12-2020.csv\", index=False)"
   ]
  },
  {
   "cell_type": "code",
   "execution_count": 28,
   "metadata": {},
   "outputs": [
    {
     "data": {
      "text/html": [
       "<div>\n",
       "<style scoped>\n",
       "    .dataframe tbody tr th:only-of-type {\n",
       "        vertical-align: middle;\n",
       "    }\n",
       "\n",
       "    .dataframe tbody tr th {\n",
       "        vertical-align: top;\n",
       "    }\n",
       "\n",
       "    .dataframe thead th {\n",
       "        text-align: right;\n",
       "    }\n",
       "</style>\n",
       "<table border=\"1\" class=\"dataframe\">\n",
       "  <thead>\n",
       "    <tr style=\"text-align: right;\">\n",
       "      <th></th>\n",
       "      <th>gene</th>\n",
       "      <th>pos</th>\n",
       "      <th>ref_aa</th>\n",
       "      <th>codon_num</th>\n",
       "      <th>alt_aa</th>\n",
       "      <th>num_samples</th>\n",
       "      <th>first_detected</th>\n",
       "      <th>last_detected</th>\n",
       "      <th>num_locations</th>\n",
       "      <th>locations</th>\n",
       "      <th>location_counts</th>\n",
       "      <th>num_countries</th>\n",
       "      <th>countries</th>\n",
       "    </tr>\n",
       "  </thead>\n",
       "  <tbody>\n",
       "    <tr>\n",
       "      <th>23070</th>\n",
       "      <td>S</td>\n",
       "      <td>24432</td>\n",
       "      <td>Q</td>\n",
       "      <td>957</td>\n",
       "      <td>L</td>\n",
       "      <td>3</td>\n",
       "      <td>2020-10-27</td>\n",
       "      <td>2020-12-09</td>\n",
       "      <td>3</td>\n",
       "      <td>[Counties Manukau, King County, Sydney]</td>\n",
       "      <td>[1, 1, 1]</td>\n",
       "      <td>3</td>\n",
       "      <td>[USA, Australia, New Zealand]</td>\n",
       "    </tr>\n",
       "  </tbody>\n",
       "</table>\n",
       "</div>"
      ],
      "text/plain": [
       "      gene    pos ref_aa  codon_num alt_aa  num_samples first_detected  \\\n",
       "23070    S  24432      Q        957      L            3     2020-10-27   \n",
       "\n",
       "      last_detected  num_locations                                locations  \\\n",
       "23070    2020-12-09              3  [Counties Manukau, King County, Sydney]   \n",
       "\n",
       "      location_counts  num_countries                      countries  \n",
       "23070       [1, 1, 1]              3  [USA, Australia, New Zealand]  "
      ]
     },
     "execution_count": 28,
     "metadata": {},
     "output_type": "execute_result"
    }
   ],
   "source": [
    "subs.loc[(subs['gene']=='S')&(subs['alt_aa']=='L')&(subs['codon_num']==957)]"
   ]
  },
  {
   "cell_type": "code",
   "execution_count": null,
   "metadata": {},
   "outputs": [],
   "source": []
  },
  {
   "cell_type": "code",
   "execution_count": 29,
   "metadata": {},
   "outputs": [
    {
     "name": "stdout",
     "output_type": "stream",
     "text": [
      "Aggregate final results...\n"
     ]
    }
   ],
   "source": [
    "print(f\"Aggregate final results...\")\n",
    "# aggregate on each substitutions, compute number of samples and other attributes\n",
    "subs_mnth = (seqsdf.groupby(['month', 'gene', 'pos', 'ref_aa', 'codon_num', 'alt_aa'])\n",
    ".agg(\n",
    " num_samples=('idx', 'nunique'),\n",
    " first_detected_mnth=('date', 'min'),\n",
    " last_detected_mnth=('date', 'max'),\n",
    " num_locations=('location', 'nunique'),\n",
    " locations=('location', lambda x: list(np.unique(x))),\n",
    " location_counts=('location', lambda x: list(np.unique(x, return_counts=True)[1])),\n",
    " num_countries=('country', 'nunique'),\n",
    " countries=('country', lambda x: list(np.unique(x))),\n",
    " country_counts=('country', lambda x: list(np.unique(x, return_counts=True)[1])),\n",
    ")\n",
    ".reset_index())\n",
    "# 1-based nucleotide position coordinate system\n",
    "subs_mnth['pos'] = subs_mnth['pos'] + 1\n",
    "subs_mnth = pd.merge(subs_mnth, subs[['gene', 'pos', 'alt_aa', 'first_detected', 'last_detected']], on=['gene', 'pos', 'alt_aa'])"
   ]
  },
  {
   "cell_type": "code",
   "execution_count": 30,
   "metadata": {},
   "outputs": [],
   "source": [
    "cols = ['month', 'ref_aa', 'codon_num', 'alt_aa', 'first_detected', \n",
    "        'last_detected', 'num_samples', 'num_countries', \n",
    "        'countries', 'country_counts', 'num_locations', 'locations', 'location_counts' ,\n",
    "        'first_detected_mnth', 'last_detected_mnth']"
   ]
  },
  {
   "cell_type": "code",
   "execution_count": 72,
   "metadata": {},
   "outputs": [],
   "source": [
    "# (subs_mnth[(subs_mnth['gene']=='S') & (subs_mnth['month']==12)]\n",
    "#  .sort_values('num_samples', ascending=False)\n",
    "#  .drop_duplicates(subset=['codon_num', 'alt_aa'], keep='first')\n",
    "#  .iloc[:50]\n",
    "#  .reset_index(drop=True))[cols]"
   ]
  },
  {
   "cell_type": "code",
   "execution_count": 132,
   "metadata": {},
   "outputs": [],
   "source": [
    "# keys_df = seqsdf[['idx', 'sequence']]\n",
    "# keys_df.to_csv('gisaid_replacements.csv', index=False)"
   ]
  },
  {
   "cell_type": "code",
   "execution_count": null,
   "metadata": {},
   "outputs": [],
   "source": []
  },
  {
   "cell_type": "code",
   "execution_count": 133,
   "metadata": {},
   "outputs": [],
   "source": [
    "sd = []\n",
    "for d in seqsdf['location'].dropna().unique():\n",
    "    if 'san diego' in d.lower():\n",
    "        sd.append(d)"
   ]
  },
  {
   "cell_type": "code",
   "execution_count": 111,
   "metadata": {},
   "outputs": [],
   "source": [
    "ca = []\n",
    "for d in seqsdf['division'].unique():\n",
    "    if 'cali' in d.lower():\n",
    "        ca.append(d)"
   ]
  },
  {
   "cell_type": "code",
   "execution_count": 73,
   "metadata": {},
   "outputs": [],
   "source": [
    "# cols = ['idx', 'location', 'division', 'pos']\n",
    "# seqsdf.loc[(seqsdf['codon_num']==681) & (seqsdf['gene']=='S')][cols]"
   ]
  },
  {
   "cell_type": "markdown",
   "metadata": {},
   "source": [
    "## Deletions"
   ]
  },
  {
   "cell_type": "code",
   "execution_count": 124,
   "metadata": {},
   "outputs": [],
   "source": [
    "input_fasta = \"/home/al/analysis/mutations/S501Y/msa_reference.fa\"\n",
    "meta_fp = \"/home/al/analysis/mutations/S501Y/metadata_2020-12-20_12-24.tsv\"\n",
    "out_dir = \"/home/al/analysis/mutations/S501Y/\"\n",
    "ref_fp = \"/home/al/data/test_inputs/NC045512.fasta\"\n",
    "patient_zero = 'NC_045512.2'\n",
    "min_del_len = 1\n",
    "start_pos = 265\n",
    "end_pos = 29674"
   ]
  },
  {
   "cell_type": "code",
   "execution_count": 125,
   "metadata": {},
   "outputs": [],
   "source": [
    "# read MSA file\n",
    "consensus_data = AlignIO.read(input_fasta, 'fasta')\n",
    "# prcess MSA to remove insertions and fix position coordinate systems\n",
    "seqs, ref_seq = process_cns_seqs(consensus_data, patient_zero, start_pos=start_pos, end_pos=end_pos)\n",
    "# load into dataframe\n",
    "seqsdf = (pd.DataFrame(index=seqs.keys(), data=seqs.values(), \n",
    "                       columns=['sequence'])\n",
    "            .reset_index().rename(columns={'index': 'idx'}))"
   ]
  },
  {
   "cell_type": "code",
   "execution_count": 126,
   "metadata": {},
   "outputs": [
    {
     "name": "stdout",
     "output_type": "stream",
     "text": [
      "(273268, 2)\n",
      "(273267, 29)\n"
     ]
    }
   ],
   "source": [
    "# load and join metadata\n",
    "meta = pd.read_csv(meta_fp, sep='\\t')\n",
    "print(seqsdf.shape)\n",
    "seqsdf = pd.merge(seqsdf, meta, left_on='idx', right_on='strain')\n",
    "print(seqsdf.shape)\n",
    "# # clean and process sample collection dates\n",
    "# seqsdf = seqsdf.loc[(seqsdf['collection_date']!='Unknown') \n",
    "#                & (seqsdf['collection_date']!='1900-01-00')]\n",
    "# seqsdf.loc[seqsdf['collection_date'].str.contains('/'), 'collection_date'] = seqsdf['collection_date'].apply(lambda x: x.split('/')[0])\n",
    "seqsdf['date'] = pd.to_datetime(seqsdf['date_submitted'])"
   ]
  },
  {
   "cell_type": "code",
   "execution_count": 127,
   "metadata": {},
   "outputs": [],
   "source": [
    "# compute length of each sequence\n",
    "seqsdf['seq_len'] = seqsdf['sequence'].str.len()\n",
    "# identify deletion positions\n",
    "seqsdf['del_positions'] = seqsdf['sequence'].apply(find_deletions)"
   ]
  },
  {
   "cell_type": "code",
   "execution_count": 128,
   "metadata": {},
   "outputs": [
    {
     "data": {
      "text/html": [
       "<div>\n",
       "<style scoped>\n",
       "    .dataframe tbody tr th:only-of-type {\n",
       "        vertical-align: middle;\n",
       "    }\n",
       "\n",
       "    .dataframe tbody tr th {\n",
       "        vertical-align: top;\n",
       "    }\n",
       "\n",
       "    .dataframe thead th {\n",
       "        text-align: right;\n",
       "    }\n",
       "</style>\n",
       "<table border=\"1\" class=\"dataframe\">\n",
       "  <thead>\n",
       "    <tr style=\"text-align: right;\">\n",
       "      <th></th>\n",
       "      <th>relative_coords</th>\n",
       "      <th>del_len</th>\n",
       "      <th>samples</th>\n",
       "      <th>num_samples</th>\n",
       "      <th>first_detected</th>\n",
       "      <th>last_detected</th>\n",
       "      <th>location_counts</th>\n",
       "      <th>division_counts</th>\n",
       "      <th>country_counts</th>\n",
       "      <th>type</th>\n",
       "      <th>absolute_coords</th>\n",
       "      <th>pos</th>\n",
       "      <th>gene</th>\n",
       "      <th>codon_num</th>\n",
       "      <th>ref_codon</th>\n",
       "      <th>ref_aa</th>\n",
       "      <th>prev_5nts</th>\n",
       "      <th>next_5nts</th>\n",
       "    </tr>\n",
       "  </thead>\n",
       "  <tbody>\n",
       "    <tr>\n",
       "      <th>969</th>\n",
       "      <td>21499:21504</td>\n",
       "      <td>6</td>\n",
       "      <td>[England/SHEF-C43D2/2020, Australia/VIC1606/20...</td>\n",
       "      <td>6768</td>\n",
       "      <td>2020-05-27</td>\n",
       "      <td>2020-12-19</td>\n",
       "      <td>([Benátky nad Jizerou, Bobo Dioulasso, Brno, C...</td>\n",
       "      <td>([Aargau, Agder, Auckland, Auvergne-Rhône-Alpe...</td>\n",
       "      <td>([Australia, Burkina Faso, Canada, Croatia, Cz...</td>\n",
       "      <td>deletion</td>\n",
       "      <td>21765:21770</td>\n",
       "      <td>21765</td>\n",
       "      <td>S</td>\n",
       "      <td>68</td>\n",
       "      <td>ATA</td>\n",
       "      <td>I</td>\n",
       "      <td>gctat</td>\n",
       "      <td>ctctg</td>\n",
       "    </tr>\n",
       "    <tr>\n",
       "      <th>236</th>\n",
       "      <td>0:76</td>\n",
       "      <td>77</td>\n",
       "      <td>[Guangdong/ZQ-S2-P0061/2020, USA/CT-Yale-001/2...</td>\n",
       "      <td>3295</td>\n",
       "      <td>2020-03-09</td>\n",
       "      <td>2020-12-18</td>\n",
       "      <td>([Alameda County, Barcelona, Barranquilla, Bro...</td>\n",
       "      <td>([Alaska, Antioquia, Atlantico, Auckland, Aust...</td>\n",
       "      <td>([Australia, Austria, Bangladesh, Belgium, Bra...</td>\n",
       "      <td>deletion</td>\n",
       "      <td>266:342</td>\n",
       "      <td>266</td>\n",
       "      <td>ORF1ab</td>\n",
       "      <td>1</td>\n",
       "      <td>ATG</td>\n",
       "      <td>M</td>\n",
       "      <td>taaga</td>\n",
       "      <td>ctcgt</td>\n",
       "    </tr>\n",
       "    <tr>\n",
       "      <th>1025</th>\n",
       "      <td>21725:21727</td>\n",
       "      <td>3</td>\n",
       "      <td>[India/MH-1-27/2020, Netherlands/ZuidHolland_7...</td>\n",
       "      <td>2096</td>\n",
       "      <td>2020-03-06</td>\n",
       "      <td>2020-12-19</td>\n",
       "      <td>([Alameda County, Allegheny County, Amadora, C...</td>\n",
       "      <td>([Abu Dhabi, Amman, Andalusia, Apulia, Aragon,...</td>\n",
       "      <td>([Australia, Bangladesh, Canada, Côte d'Ivoire...</td>\n",
       "      <td>deletion</td>\n",
       "      <td>21991:21993</td>\n",
       "      <td>21991</td>\n",
       "      <td>S</td>\n",
       "      <td>144</td>\n",
       "      <td>TAT</td>\n",
       "      <td>Y</td>\n",
       "      <td>gtgtt</td>\n",
       "      <td>tacca</td>\n",
       "    </tr>\n",
       "    <tr>\n",
       "      <th>470</th>\n",
       "      <td>1339:1341</td>\n",
       "      <td>3</td>\n",
       "      <td>[France/ARA-739/2020, Netherlands/Andel_136506...</td>\n",
       "      <td>2064</td>\n",
       "      <td>2020-02-14</td>\n",
       "      <td>2020-12-18</td>\n",
       "      <td>([Alcaniz, Algemesi, Alhaurin de la Torre, Alz...</td>\n",
       "      <td>([Agder, Andalusia, Aragon, Athens, Auckland, ...</td>\n",
       "      <td>([Australia, Belgium, Canada, Chile, Curacao, ...</td>\n",
       "      <td>deletion</td>\n",
       "      <td>1605:1607</td>\n",
       "      <td>1605</td>\n",
       "      <td>ORF1ab</td>\n",
       "      <td>447</td>\n",
       "      <td>AAT</td>\n",
       "      <td>N</td>\n",
       "      <td>cttaa</td>\n",
       "      <td>caacc</td>\n",
       "    </tr>\n",
       "    <tr>\n",
       "      <th>2654</th>\n",
       "      <td>29400:29408</td>\n",
       "      <td>9</td>\n",
       "      <td>[Guangdong/DG-S9-P0045/2020, Guangdong/MM-S1-P...</td>\n",
       "      <td>2056</td>\n",
       "      <td>2020-03-09</td>\n",
       "      <td>2020-12-19</td>\n",
       "      <td>([A Coruna, Alameda County, Alaquas, Brown Cou...</td>\n",
       "      <td>([Alaska, Amazonas, Aragon, Arizona, Auckland,...</td>\n",
       "      <td>([Australia, Austria, Bangladesh, Belgium, Bra...</td>\n",
       "      <td>deletion</td>\n",
       "      <td>29666:29674</td>\n",
       "      <td>29666</td>\n",
       "      <td>ORF10</td>\n",
       "      <td>37</td>\n",
       "      <td>CTC</td>\n",
       "      <td>L</td>\n",
       "      <td>taatc</td>\n",
       "      <td>aatct</td>\n",
       "    </tr>\n",
       "    <tr>\n",
       "      <th>...</th>\n",
       "      <td>...</td>\n",
       "      <td>...</td>\n",
       "      <td>...</td>\n",
       "      <td>...</td>\n",
       "      <td>...</td>\n",
       "      <td>...</td>\n",
       "      <td>...</td>\n",
       "      <td>...</td>\n",
       "      <td>...</td>\n",
       "      <td>...</td>\n",
       "      <td>...</td>\n",
       "      <td>...</td>\n",
       "      <td>...</td>\n",
       "      <td>...</td>\n",
       "      <td>...</td>\n",
       "      <td>...</td>\n",
       "      <td>...</td>\n",
       "      <td>...</td>\n",
       "    </tr>\n",
       "    <tr>\n",
       "      <th>2074</th>\n",
       "      <td>27972:27974</td>\n",
       "      <td>3</td>\n",
       "      <td>[England/QEUH-B12C75/2020]</td>\n",
       "      <td>1</td>\n",
       "      <td>2020-11-18</td>\n",
       "      <td>2020-11-18</td>\n",
       "      <td>([unk], [1])</td>\n",
       "      <td>([England], [1])</td>\n",
       "      <td>([United Kingdom], [1])</td>\n",
       "      <td>deletion</td>\n",
       "      <td>28238:28240</td>\n",
       "      <td>28238</td>\n",
       "      <td>ORF8</td>\n",
       "      <td>116</td>\n",
       "      <td>GTT</td>\n",
       "      <td>V</td>\n",
       "      <td>ttcgt</td>\n",
       "      <td>gtttt</td>\n",
       "    </tr>\n",
       "    <tr>\n",
       "      <th>2058</th>\n",
       "      <td>2788:2844</td>\n",
       "      <td>57</td>\n",
       "      <td>[Japan/PG-4791/2020]</td>\n",
       "      <td>1</td>\n",
       "      <td>2020-12-10</td>\n",
       "      <td>2020-12-10</td>\n",
       "      <td>([unk], [1])</td>\n",
       "      <td>([Japan], [1])</td>\n",
       "      <td>([Japan], [1])</td>\n",
       "      <td>deletion</td>\n",
       "      <td>3054:3110</td>\n",
       "      <td>3054</td>\n",
       "      <td>ORF1ab</td>\n",
       "      <td>930</td>\n",
       "      <td>GAT</td>\n",
       "      <td>D</td>\n",
       "      <td>gagga</td>\n",
       "      <td>tggta</td>\n",
       "    </tr>\n",
       "    <tr>\n",
       "      <th>2059</th>\n",
       "      <td>27890:29408</td>\n",
       "      <td>1519</td>\n",
       "      <td>[NewZealand/20VR2530/2020]</td>\n",
       "      <td>1</td>\n",
       "      <td>2020-10-14</td>\n",
       "      <td>2020-10-14</td>\n",
       "      <td>([unk], [1])</td>\n",
       "      <td>([Auckland], [1])</td>\n",
       "      <td>([New Zealand], [1])</td>\n",
       "      <td>deletion</td>\n",
       "      <td>28156:29674</td>\n",
       "      <td>28156</td>\n",
       "      <td>ORF8</td>\n",
       "      <td>88</td>\n",
       "      <td>ATT</td>\n",
       "      <td>I</td>\n",
       "      <td>acaat</td>\n",
       "      <td>aatct</td>\n",
       "    </tr>\n",
       "    <tr>\n",
       "      <th>2060</th>\n",
       "      <td>27892:29408</td>\n",
       "      <td>1517</td>\n",
       "      <td>[NewZealand/20VR2503/2020]</td>\n",
       "      <td>1</td>\n",
       "      <td>2020-10-14</td>\n",
       "      <td>2020-10-14</td>\n",
       "      <td>([unk], [1])</td>\n",
       "      <td>([Auckland], [1])</td>\n",
       "      <td>([New Zealand], [1])</td>\n",
       "      <td>deletion</td>\n",
       "      <td>28158:29674</td>\n",
       "      <td>28158</td>\n",
       "      <td>ORF8</td>\n",
       "      <td>89</td>\n",
       "      <td>AAT</td>\n",
       "      <td>N</td>\n",
       "      <td>aatta</td>\n",
       "      <td>aatct</td>\n",
       "    </tr>\n",
       "    <tr>\n",
       "      <th>52</th>\n",
       "      <td>0:1680</td>\n",
       "      <td>1681</td>\n",
       "      <td>[Australia/WA42/2020]</td>\n",
       "      <td>1</td>\n",
       "      <td>2020-06-19</td>\n",
       "      <td>2020-06-19</td>\n",
       "      <td>([unk], [1])</td>\n",
       "      <td>([Western Australia], [1])</td>\n",
       "      <td>([Australia], [1])</td>\n",
       "      <td>deletion</td>\n",
       "      <td>266:1946</td>\n",
       "      <td>266</td>\n",
       "      <td>ORF1ab</td>\n",
       "      <td>1</td>\n",
       "      <td>ATG</td>\n",
       "      <td>M</td>\n",
       "      <td>taaga</td>\n",
       "      <td>tttac</td>\n",
       "    </tr>\n",
       "  </tbody>\n",
       "</table>\n",
       "<p>3197 rows × 18 columns</p>\n",
       "</div>"
      ],
      "text/plain": [
       "     relative_coords  del_len  \\\n",
       "969      21499:21504        6   \n",
       "236             0:76       77   \n",
       "1025     21725:21727        3   \n",
       "470        1339:1341        3   \n",
       "2654     29400:29408        9   \n",
       "...              ...      ...   \n",
       "2074     27972:27974        3   \n",
       "2058       2788:2844       57   \n",
       "2059     27890:29408     1519   \n",
       "2060     27892:29408     1517   \n",
       "52            0:1680     1681   \n",
       "\n",
       "                                                samples  num_samples  \\\n",
       "969   [England/SHEF-C43D2/2020, Australia/VIC1606/20...         6768   \n",
       "236   [Guangdong/ZQ-S2-P0061/2020, USA/CT-Yale-001/2...         3295   \n",
       "1025  [India/MH-1-27/2020, Netherlands/ZuidHolland_7...         2096   \n",
       "470   [France/ARA-739/2020, Netherlands/Andel_136506...         2064   \n",
       "2654  [Guangdong/DG-S9-P0045/2020, Guangdong/MM-S1-P...         2056   \n",
       "...                                                 ...          ...   \n",
       "2074                         [England/QEUH-B12C75/2020]            1   \n",
       "2058                               [Japan/PG-4791/2020]            1   \n",
       "2059                         [NewZealand/20VR2530/2020]            1   \n",
       "2060                         [NewZealand/20VR2503/2020]            1   \n",
       "52                                [Australia/WA42/2020]            1   \n",
       "\n",
       "     first_detected last_detected  \\\n",
       "969      2020-05-27    2020-12-19   \n",
       "236      2020-03-09    2020-12-18   \n",
       "1025     2020-03-06    2020-12-19   \n",
       "470      2020-02-14    2020-12-18   \n",
       "2654     2020-03-09    2020-12-19   \n",
       "...             ...           ...   \n",
       "2074     2020-11-18    2020-11-18   \n",
       "2058     2020-12-10    2020-12-10   \n",
       "2059     2020-10-14    2020-10-14   \n",
       "2060     2020-10-14    2020-10-14   \n",
       "52       2020-06-19    2020-06-19   \n",
       "\n",
       "                                        location_counts  \\\n",
       "969   ([Benátky nad Jizerou, Bobo Dioulasso, Brno, C...   \n",
       "236   ([Alameda County, Barcelona, Barranquilla, Bro...   \n",
       "1025  ([Alameda County, Allegheny County, Amadora, C...   \n",
       "470   ([Alcaniz, Algemesi, Alhaurin de la Torre, Alz...   \n",
       "2654  ([A Coruna, Alameda County, Alaquas, Brown Cou...   \n",
       "...                                                 ...   \n",
       "2074                                       ([unk], [1])   \n",
       "2058                                       ([unk], [1])   \n",
       "2059                                       ([unk], [1])   \n",
       "2060                                       ([unk], [1])   \n",
       "52                                         ([unk], [1])   \n",
       "\n",
       "                                        division_counts  \\\n",
       "969   ([Aargau, Agder, Auckland, Auvergne-Rhône-Alpe...   \n",
       "236   ([Alaska, Antioquia, Atlantico, Auckland, Aust...   \n",
       "1025  ([Abu Dhabi, Amman, Andalusia, Apulia, Aragon,...   \n",
       "470   ([Agder, Andalusia, Aragon, Athens, Auckland, ...   \n",
       "2654  ([Alaska, Amazonas, Aragon, Arizona, Auckland,...   \n",
       "...                                                 ...   \n",
       "2074                                   ([England], [1])   \n",
       "2058                                     ([Japan], [1])   \n",
       "2059                                  ([Auckland], [1])   \n",
       "2060                                  ([Auckland], [1])   \n",
       "52                           ([Western Australia], [1])   \n",
       "\n",
       "                                         country_counts      type  \\\n",
       "969   ([Australia, Burkina Faso, Canada, Croatia, Cz...  deletion   \n",
       "236   ([Australia, Austria, Bangladesh, Belgium, Bra...  deletion   \n",
       "1025  ([Australia, Bangladesh, Canada, Côte d'Ivoire...  deletion   \n",
       "470   ([Australia, Belgium, Canada, Chile, Curacao, ...  deletion   \n",
       "2654  ([Australia, Austria, Bangladesh, Belgium, Bra...  deletion   \n",
       "...                                                 ...       ...   \n",
       "2074                            ([United Kingdom], [1])  deletion   \n",
       "2058                                     ([Japan], [1])  deletion   \n",
       "2059                               ([New Zealand], [1])  deletion   \n",
       "2060                               ([New Zealand], [1])  deletion   \n",
       "52                                   ([Australia], [1])  deletion   \n",
       "\n",
       "     absolute_coords    pos    gene  codon_num ref_codon ref_aa prev_5nts  \\\n",
       "969      21765:21770  21765       S         68       ATA      I     gctat   \n",
       "236          266:342    266  ORF1ab          1       ATG      M     taaga   \n",
       "1025     21991:21993  21991       S        144       TAT      Y     gtgtt   \n",
       "470        1605:1607   1605  ORF1ab        447       AAT      N     cttaa   \n",
       "2654     29666:29674  29666   ORF10         37       CTC      L     taatc   \n",
       "...              ...    ...     ...        ...       ...    ...       ...   \n",
       "2074     28238:28240  28238    ORF8        116       GTT      V     ttcgt   \n",
       "2058       3054:3110   3054  ORF1ab        930       GAT      D     gagga   \n",
       "2059     28156:29674  28156    ORF8         88       ATT      I     acaat   \n",
       "2060     28158:29674  28158    ORF8         89       AAT      N     aatta   \n",
       "52          266:1946    266  ORF1ab          1       ATG      M     taaga   \n",
       "\n",
       "     next_5nts  \n",
       "969      ctctg  \n",
       "236      ctcgt  \n",
       "1025     tacca  \n",
       "470      caacc  \n",
       "2654     aatct  \n",
       "...        ...  \n",
       "2074     gtttt  \n",
       "2058     tggta  \n",
       "2059     aatct  \n",
       "2060     aatct  \n",
       "52       tttac  \n",
       "\n",
       "[3197 rows x 18 columns]"
      ]
     },
     "execution_count": 128,
     "metadata": {},
     "output_type": "execute_result"
    }
   ],
   "source": [
    "# sequences with one or more deletions\n",
    "del_seqs = seqsdf.loc[seqsdf['del_positions'].str.len() > 0]\n",
    "del_seqs = del_seqs.explode('del_positions')\n",
    "# compute length of each deletion\n",
    "del_seqs['del_len'] = del_seqs['del_positions'].apply(len)\n",
    "# only consider deletions longer than 2nts\n",
    "del_seqs = del_seqs[del_seqs['del_len'] >= min_del_len]\n",
    "# fetch coordinates of each deletion\n",
    "del_seqs['relative_coords'] = del_seqs['del_positions'].apply(get_indel_coords)\n",
    "del_seqs.loc[del_seqs['location'].isna(), 'location'] = 'unk'\n",
    "# group sample by the deletion they share\n",
    "del_seqs = (del_seqs.groupby(['relative_coords', 'del_len'])\n",
    "                    .agg(\n",
    "                         samples=('idx', 'unique'),\n",
    "                         num_samples=('idx', 'nunique'),\n",
    "                         first_detected=('date', 'min'),\n",
    "                         last_detected=('date', 'max'),\n",
    "#                          locations=('location', lambda x: list(np.unique(x))),\n",
    "                         location_counts=('location', lambda x: np.unique(x, return_counts=True)),\n",
    "#                          divisions=('division', lambda x: list(np.unique(x))),\n",
    "                         division_counts=('division', lambda x: np.unique(x, return_counts=True)),\n",
    "#                          countries=('country', lambda x: list(np.unique(x))),\n",
    "                         country_counts=('country', lambda x: np.unique(x, return_counts=True)),\n",
    "                        )\n",
    "                    .reset_index()\n",
    "                    .sort_values('num_samples'))\n",
    "del_seqs['type'] = 'deletion'\n",
    "# adjust coordinates to account for the nts trimmed from beginning e.g. 265nts\n",
    "del_seqs['absolute_coords'] = del_seqs['relative_coords'].apply(adjust_coords, args=(start_pos+1,))\n",
    "del_seqs['pos'] = del_seqs['absolute_coords'].apply(lambda x: int(x.split(':')[0]))\n",
    "# approximate the gene where each deletion was identified\n",
    "del_seqs['gene'] = del_seqs['pos'].apply(map_gene_to_pos)\n",
    "del_seqs = del_seqs.loc[~del_seqs['gene'].isna()]\n",
    "# filter our substitutions in non-gene positions\n",
    "del_seqs = del_seqs.loc[del_seqs['gene']!='nan']\n",
    "# compute codon number of each substitution\n",
    "del_seqs['codon_num'] = del_seqs.apply(compute_codon_num, args=(GENE2POS,), axis=1)\n",
    "# fetch the reference codon for each substitution\n",
    "del_seqs['ref_codon'] = del_seqs.apply(get_ref_codon, args=(ref_seq, GENE2POS), axis=1)\n",
    "# fetch the reference and alternative amino acids\n",
    "del_seqs['ref_aa'] = del_seqs['ref_codon'].apply(get_aa)\n",
    "# record the 5 nts before each deletion (based on reference seq)\n",
    "del_seqs['prev_5nts'] = del_seqs['absolute_coords'].apply(lambda x: ref_seq[int(x.split(':')[0])-5:int(x.split(':')[0])])\n",
    "# record the 5 nts after each deletion (based on reference seq)\n",
    "del_seqs['next_5nts'] = del_seqs['absolute_coords'].apply(lambda x: ref_seq[int(x.split(':')[1])+1:int(x.split(':')[1])+6])\n",
    "del_seqs.sort_values('num_samples', ascending=False)"
   ]
  },
  {
   "cell_type": "code",
   "execution_count": 142,
   "metadata": {},
   "outputs": [],
   "source": [
    "del_seqs.to_csv(out_dir/'deletions_aggregated_19-12-2020.csv', index=False)"
   ]
  },
  {
   "cell_type": "code",
   "execution_count": 130,
   "metadata": {},
   "outputs": [],
   "source": [
    "gisaid_dels = (del_seqs.rename(columns={'num_samples': 'gisaid_num_samples', 'first_detected': 'gisaid_1st_detected', 'last_detected': 'gisaid_last_detected',\n",
    "                                   'locations': 'gisaid_locations', 'location_counts': 'gisaid_location_counts',\n",
    "                                   'divisions': 'gisaid_states', 'division_counts': 'gisaid_state_counts',\n",
    "                                   'countries': 'gisaid_countries', 'country_counts': 'gisaid_country_counts'})\n",
    "               .drop(columns=['ref_aa', 'pos', 'type', 'samples', 'ref_codon', 'prev_5nts', 'next_5nts', 'relative_coords', 'del_len']))"
   ]
  },
  {
   "cell_type": "code",
   "execution_count": 131,
   "metadata": {},
   "outputs": [],
   "source": [
    "our_dels = pd.read_csv(\"/home/al/analysis/mutations/alab_git/deletions_22-12-2020_orig.csv\")\n",
    "# our_dels"
   ]
  },
  {
   "cell_type": "code",
   "execution_count": 132,
   "metadata": {},
   "outputs": [],
   "source": [
    "cols = ['type', 'gene', 'absolute_coords', 'del_len', 'pos', \n",
    "                 'ref_aa', 'codon_num', 'num_samples',\n",
    "                 'first_detected', 'last_detected',\n",
    "                 'location_counts', 'gisaid_num_samples',\n",
    "                 'gisaid_1st_detected', 'gisaid_last_detected', 'gisaid_country_counts',\n",
    "                 'gisaid_state_counts', 'gisaid_location_counts', 'samples',\n",
    "                 'ref_codon', 'prev_5nts', 'next_5nts'\n",
    "                 ]"
   ]
  },
  {
   "cell_type": "code",
   "execution_count": 133,
   "metadata": {},
   "outputs": [],
   "source": [
    "our_dels = pd.merge(our_dels, gisaid_dels, on=['gene', 'codon_num', 'absolute_coords'], how='left')"
   ]
  },
  {
   "cell_type": "code",
   "execution_count": 137,
   "metadata": {},
   "outputs": [],
   "source": [
    "our_dels[cols].sort_values('num_samples', ascending=False).to_csv(\"/home/al/analysis/mutations/alab_git/deletions_22-12-2020.csv\", index=False)"
   ]
  },
  {
   "cell_type": "code",
   "execution_count": null,
   "metadata": {},
   "outputs": [],
   "source": []
  },
  {
   "cell_type": "code",
   "execution_count": null,
   "metadata": {},
   "outputs": [],
   "source": []
  },
  {
   "cell_type": "code",
   "execution_count": null,
   "metadata": {},
   "outputs": [],
   "source": []
  },
  {
   "cell_type": "code",
   "execution_count": null,
   "metadata": {},
   "outputs": [],
   "source": []
  },
  {
   "cell_type": "code",
   "execution_count": null,
   "metadata": {},
   "outputs": [],
   "source": []
  },
  {
   "cell_type": "code",
   "execution_count": null,
   "metadata": {},
   "outputs": [],
   "source": []
  },
  {
   "cell_type": "code",
   "execution_count": null,
   "metadata": {},
   "outputs": [],
   "source": [
    "align_fasta_reference(seqs_fp, num_cpus=25, ref_fp=ref_fp)"
   ]
  },
  {
   "cell_type": "markdown",
   "metadata": {},
   "source": [
    "## CNS Mutations Report"
   ]
  },
  {
   "cell_type": "code",
   "execution_count": 6,
   "metadata": {},
   "outputs": [],
   "source": [
    "analysis_folder = Path('/home/al/code/HCoV-19-Genomics/consensus_sequences/')\n",
    "meta_fp = Path('/home/al/code/HCoV-19-Genomics/metadata.csv')\n",
    "ref_path = Path('/home/gk/code/hCoV19/db/NC045512.fasta')\n",
    "patient_zero = 'NC_045512.2'\n",
    "in_fp = '/home/al/analysis/mutations/S501Y/msa_aligned.fa'"
   ]
  },
  {
   "cell_type": "code",
   "execution_count": 3,
   "metadata": {},
   "outputs": [],
   "source": [
    "subs = identify_replacements(in_fp, meta_fp)"
   ]
  },
  {
   "cell_type": "code",
   "execution_count": 4,
   "metadata": {},
   "outputs": [
    {
     "data": {
      "text/html": [
       "<div>\n",
       "<style scoped>\n",
       "    .dataframe tbody tr th:only-of-type {\n",
       "        vertical-align: middle;\n",
       "    }\n",
       "\n",
       "    .dataframe tbody tr th {\n",
       "        vertical-align: top;\n",
       "    }\n",
       "\n",
       "    .dataframe thead th {\n",
       "        text-align: right;\n",
       "    }\n",
       "</style>\n",
       "<table border=\"1\" class=\"dataframe\">\n",
       "  <thead>\n",
       "    <tr style=\"text-align: right;\">\n",
       "      <th></th>\n",
       "      <th>gene</th>\n",
       "      <th>pos</th>\n",
       "      <th>ref_aa</th>\n",
       "      <th>codon_num</th>\n",
       "      <th>alt_aa</th>\n",
       "      <th>num_samples</th>\n",
       "      <th>first_detected</th>\n",
       "      <th>last_detected</th>\n",
       "      <th>locations</th>\n",
       "      <th>location_counts</th>\n",
       "      <th>samples</th>\n",
       "    </tr>\n",
       "  </thead>\n",
       "  <tbody>\n",
       "    <tr>\n",
       "      <th>0</th>\n",
       "      <td>3UTR</td>\n",
       "      <td>29679</td>\n",
       "      <td>S</td>\n",
       "      <td>2</td>\n",
       "      <td>F</td>\n",
       "      <td>2</td>\n",
       "      <td>2020-07-14</td>\n",
       "      <td>2020-10-07</td>\n",
       "      <td>USA/California/San Diego</td>\n",
       "      <td>2</td>\n",
       "      <td>[SEARCH-3119-SAN, SEARCH-4245-SAN]</td>\n",
       "    </tr>\n",
       "    <tr>\n",
       "      <th>1</th>\n",
       "      <td>3UTR</td>\n",
       "      <td>29681</td>\n",
       "      <td>L</td>\n",
       "      <td>3</td>\n",
       "      <td>L</td>\n",
       "      <td>2</td>\n",
       "      <td>2020-07-11</td>\n",
       "      <td>2020-07-21</td>\n",
       "      <td>[USA/California/Los Angeles, USA/California/Sa...</td>\n",
       "      <td>[1, 1]</td>\n",
       "      <td>[SEARCH-2600-SAN, SEARCH-2692-LAX]</td>\n",
       "    </tr>\n",
       "    <tr>\n",
       "      <th>2</th>\n",
       "      <td>3UTR</td>\n",
       "      <td>29688</td>\n",
       "      <td>S</td>\n",
       "      <td>5</td>\n",
       "      <td>I</td>\n",
       "      <td>4</td>\n",
       "      <td>2020-03-25</td>\n",
       "      <td>2020-10-26</td>\n",
       "      <td>USA/California/San Diego</td>\n",
       "      <td>4</td>\n",
       "      <td>[SEARCH-0113-SAN, SEARCH-2855-SAN, SEARCH-3609...</td>\n",
       "    </tr>\n",
       "    <tr>\n",
       "      <th>3</th>\n",
       "      <td>3UTR</td>\n",
       "      <td>29690</td>\n",
       "      <td>V</td>\n",
       "      <td>6</td>\n",
       "      <td>L</td>\n",
       "      <td>1</td>\n",
       "      <td>2020-08-13</td>\n",
       "      <td>2020-08-13</td>\n",
       "      <td>USA/California/San Diego</td>\n",
       "      <td>1</td>\n",
       "      <td>[SEARCH-4455-SAN]</td>\n",
       "    </tr>\n",
       "    <tr>\n",
       "      <th>4</th>\n",
       "      <td>3UTR</td>\n",
       "      <td>29692</td>\n",
       "      <td>V</td>\n",
       "      <td>6</td>\n",
       "      <td>V</td>\n",
       "      <td>1</td>\n",
       "      <td>2020-10-03</td>\n",
       "      <td>2020-10-03</td>\n",
       "      <td>Jordan/Amman</td>\n",
       "      <td>1</td>\n",
       "      <td>[SEARCH-4034-JOR]</td>\n",
       "    </tr>\n",
       "  </tbody>\n",
       "</table>\n",
       "</div>"
      ],
      "text/plain": [
       "   gene    pos ref_aa  codon_num alt_aa  num_samples first_detected  \\\n",
       "0  3UTR  29679      S          2      F            2     2020-07-14   \n",
       "1  3UTR  29681      L          3      L            2     2020-07-11   \n",
       "2  3UTR  29688      S          5      I            4     2020-03-25   \n",
       "3  3UTR  29690      V          6      L            1     2020-08-13   \n",
       "4  3UTR  29692      V          6      V            1     2020-10-03   \n",
       "\n",
       "  last_detected                                          locations  \\\n",
       "0    2020-10-07                           USA/California/San Diego   \n",
       "1    2020-07-21  [USA/California/Los Angeles, USA/California/Sa...   \n",
       "2    2020-10-26                           USA/California/San Diego   \n",
       "3    2020-08-13                           USA/California/San Diego   \n",
       "4    2020-10-03                                       Jordan/Amman   \n",
       "\n",
       "  location_counts                                            samples  \n",
       "0               2                 [SEARCH-3119-SAN, SEARCH-4245-SAN]  \n",
       "1          [1, 1]                 [SEARCH-2600-SAN, SEARCH-2692-LAX]  \n",
       "2               4  [SEARCH-0113-SAN, SEARCH-2855-SAN, SEARCH-3609...  \n",
       "3               1                                  [SEARCH-4455-SAN]  \n",
       "4               1                                  [SEARCH-4034-JOR]  "
      ]
     },
     "execution_count": 4,
     "metadata": {},
     "output_type": "execute_result"
    }
   ],
   "source": [
    "subs.head()"
   ]
  },
  {
   "cell_type": "code",
   "execution_count": 5,
   "metadata": {},
   "outputs": [
    {
     "data": {
      "text/html": [
       "<div>\n",
       "<style scoped>\n",
       "    .dataframe tbody tr th:only-of-type {\n",
       "        vertical-align: middle;\n",
       "    }\n",
       "\n",
       "    .dataframe tbody tr th {\n",
       "        vertical-align: top;\n",
       "    }\n",
       "\n",
       "    .dataframe thead th {\n",
       "        text-align: right;\n",
       "    }\n",
       "</style>\n",
       "<table border=\"1\" class=\"dataframe\">\n",
       "  <thead>\n",
       "    <tr style=\"text-align: right;\">\n",
       "      <th></th>\n",
       "      <th>type</th>\n",
       "      <th>gene</th>\n",
       "      <th>absolute_coords</th>\n",
       "      <th>del_len</th>\n",
       "      <th>pos</th>\n",
       "      <th>ref_aa</th>\n",
       "      <th>codon_num</th>\n",
       "      <th>num_samples</th>\n",
       "      <th>first_detected</th>\n",
       "      <th>last_detected</th>\n",
       "      <th>locations</th>\n",
       "      <th>location_counts</th>\n",
       "      <th>samples</th>\n",
       "      <th>ref_codon</th>\n",
       "      <th>prev_5nts</th>\n",
       "      <th>next_5nts</th>\n",
       "    </tr>\n",
       "  </thead>\n",
       "  <tbody>\n",
       "    <tr>\n",
       "      <th>30</th>\n",
       "      <td>deletion</td>\n",
       "      <td>ORF7a</td>\n",
       "      <td>27538:27572</td>\n",
       "      <td>35</td>\n",
       "      <td>27538</td>\n",
       "      <td>L</td>\n",
       "      <td>49</td>\n",
       "      <td>1</td>\n",
       "      <td>2020-04-28</td>\n",
       "      <td>2020-04-28</td>\n",
       "      <td>MEX/Baja California/Tijuana</td>\n",
       "      <td>1</td>\n",
       "      <td>[hCoV-19/MEX/SEARCH-1480-TIJ/2020]</td>\n",
       "      <td>CTA</td>\n",
       "      <td>tcctc</td>\n",
       "      <td>actca</td>\n",
       "    </tr>\n",
       "    <tr>\n",
       "      <th>27</th>\n",
       "      <td>deletion</td>\n",
       "      <td>ORF6</td>\n",
       "      <td>27264:27290</td>\n",
       "      <td>27</td>\n",
       "      <td>27264</td>\n",
       "      <td>F</td>\n",
       "      <td>22</td>\n",
       "      <td>1</td>\n",
       "      <td>2020-07-28</td>\n",
       "      <td>2020-07-28</td>\n",
       "      <td>USA/California/San Diego</td>\n",
       "      <td>1</td>\n",
       "      <td>[hCoV-19/USA/SEARCH-3236-SAN/2020]</td>\n",
       "      <td>TTT</td>\n",
       "      <td>ggact</td>\n",
       "      <td>tacat</td>\n",
       "    </tr>\n",
       "    <tr>\n",
       "      <th>28</th>\n",
       "      <td>deletion</td>\n",
       "      <td>ORF6</td>\n",
       "      <td>27266:27293</td>\n",
       "      <td>28</td>\n",
       "      <td>27266</td>\n",
       "      <td>F</td>\n",
       "      <td>22</td>\n",
       "      <td>1</td>\n",
       "      <td>2020-04-23</td>\n",
       "      <td>2020-04-23</td>\n",
       "      <td>USA/California/San Diego</td>\n",
       "      <td>1</td>\n",
       "      <td>[hCoV-19/USA/SEARCH-1921-SAN/2020]</td>\n",
       "      <td>TTT</td>\n",
       "      <td>acttt</td>\n",
       "      <td>atcat</td>\n",
       "    </tr>\n",
       "    <tr>\n",
       "      <th>29</th>\n",
       "      <td>deletion</td>\n",
       "      <td>ORF7a</td>\n",
       "      <td>27498:27531</td>\n",
       "      <td>34</td>\n",
       "      <td>27498</td>\n",
       "      <td>S</td>\n",
       "      <td>36</td>\n",
       "      <td>1</td>\n",
       "      <td>2020-05-12</td>\n",
       "      <td>2020-05-12</td>\n",
       "      <td>USA/California/Imperial</td>\n",
       "      <td>1</td>\n",
       "      <td>[hCoV-19/USA/SEARCH-0573-IPL/2020]</td>\n",
       "      <td>TCT</td>\n",
       "      <td>cttgc</td>\n",
       "      <td>atcct</td>\n",
       "    </tr>\n",
       "    <tr>\n",
       "      <th>59</th>\n",
       "      <td>deletion</td>\n",
       "      <td>ORF1ab</td>\n",
       "      <td>6656:6679</td>\n",
       "      <td>24</td>\n",
       "      <td>6656</td>\n",
       "      <td>N</td>\n",
       "      <td>2131</td>\n",
       "      <td>1</td>\n",
       "      <td>2020-06-13</td>\n",
       "      <td>2020-06-13</td>\n",
       "      <td>USA/California/San Diego</td>\n",
       "      <td>1</td>\n",
       "      <td>[hCoV-19/USA/SEARCH-3559-SAN/2020]</td>\n",
       "      <td>AAT</td>\n",
       "      <td>tgtta</td>\n",
       "      <td>ctaat</td>\n",
       "    </tr>\n",
       "    <tr>\n",
       "      <th>...</th>\n",
       "      <td>...</td>\n",
       "      <td>...</td>\n",
       "      <td>...</td>\n",
       "      <td>...</td>\n",
       "      <td>...</td>\n",
       "      <td>...</td>\n",
       "      <td>...</td>\n",
       "      <td>...</td>\n",
       "      <td>...</td>\n",
       "      <td>...</td>\n",
       "      <td>...</td>\n",
       "      <td>...</td>\n",
       "      <td>...</td>\n",
       "      <td>...</td>\n",
       "      <td>...</td>\n",
       "      <td>...</td>\n",
       "    </tr>\n",
       "    <tr>\n",
       "      <th>24</th>\n",
       "      <td>deletion</td>\n",
       "      <td>ORF3a</td>\n",
       "      <td>26158:26161</td>\n",
       "      <td>4</td>\n",
       "      <td>26158</td>\n",
       "      <td>V</td>\n",
       "      <td>256</td>\n",
       "      <td>9</td>\n",
       "      <td>2020-07-17</td>\n",
       "      <td>2020-09-14</td>\n",
       "      <td>USA/California/San Diego</td>\n",
       "      <td>9</td>\n",
       "      <td>[hCoV-19/USA/SEARCH-2907-SAN/2020, hCoV-19/USA...</td>\n",
       "      <td>GTT</td>\n",
       "      <td>agttg</td>\n",
       "      <td>tccag</td>\n",
       "    </tr>\n",
       "    <tr>\n",
       "      <th>16</th>\n",
       "      <td>deletion</td>\n",
       "      <td>ORF1ab</td>\n",
       "      <td>516:518</td>\n",
       "      <td>3</td>\n",
       "      <td>516</td>\n",
       "      <td>V</td>\n",
       "      <td>84</td>\n",
       "      <td>10</td>\n",
       "      <td>2020-07-22</td>\n",
       "      <td>2020-08-01</td>\n",
       "      <td>USA/California/San Diego</td>\n",
       "      <td>10</td>\n",
       "      <td>[hCoV-19/USA/SEARCH-4342-SAN/2020, hCoV-19/USA...</td>\n",
       "      <td>GTT</td>\n",
       "      <td>catgt</td>\n",
       "      <td>ggttg</td>\n",
       "    </tr>\n",
       "    <tr>\n",
       "      <th>56</th>\n",
       "      <td>deletion</td>\n",
       "      <td>ORF1ab</td>\n",
       "      <td>686:694</td>\n",
       "      <td>9</td>\n",
       "      <td>686</td>\n",
       "      <td>K</td>\n",
       "      <td>141</td>\n",
       "      <td>17</td>\n",
       "      <td>2020-03-31</td>\n",
       "      <td>2020-10-03</td>\n",
       "      <td>[Jordan/Amman, USA/California/San Diego, USA/L...</td>\n",
       "      <td>[2, 13, 2]</td>\n",
       "      <td>[hCoV-19/USA/SEARCH-0264-NBG/2020, hCoV-19/USA...</td>\n",
       "      <td>AAG</td>\n",
       "      <td>tctaa</td>\n",
       "      <td>actta</td>\n",
       "    </tr>\n",
       "    <tr>\n",
       "      <th>51</th>\n",
       "      <td>deletion</td>\n",
       "      <td>N</td>\n",
       "      <td>28890:28901</td>\n",
       "      <td>12</td>\n",
       "      <td>28890</td>\n",
       "      <td>S</td>\n",
       "      <td>206</td>\n",
       "      <td>23</td>\n",
       "      <td>2020-06-16</td>\n",
       "      <td>2020-08-06</td>\n",
       "      <td>USA/California/San Diego</td>\n",
       "      <td>23</td>\n",
       "      <td>[hCoV-19/USA/SEARCH-2285-SAN/2020, hCoV-19/USA...</td>\n",
       "      <td>TCT</td>\n",
       "      <td>acttc</td>\n",
       "      <td>ggctg</td>\n",
       "    </tr>\n",
       "    <tr>\n",
       "      <th>46</th>\n",
       "      <td>deletion</td>\n",
       "      <td>ORF8</td>\n",
       "      <td>28090:28092</td>\n",
       "      <td>3</td>\n",
       "      <td>28090</td>\n",
       "      <td>G</td>\n",
       "      <td>66</td>\n",
       "      <td>27</td>\n",
       "      <td>2020-09-30</td>\n",
       "      <td>2020-10-03</td>\n",
       "      <td>Jordan/Amman</td>\n",
       "      <td>27</td>\n",
       "      <td>[hCoV-19/JOR/SEARCH-3903-JOR/2020, hCoV-19/JOR...</td>\n",
       "      <td>GGT</td>\n",
       "      <td>gctgg</td>\n",
       "      <td>taaat</td>\n",
       "    </tr>\n",
       "  </tbody>\n",
       "</table>\n",
       "<p>61 rows × 16 columns</p>\n",
       "</div>"
      ],
      "text/plain": [
       "        type    gene absolute_coords  del_len    pos ref_aa  codon_num  \\\n",
       "30  deletion   ORF7a     27538:27572       35  27538      L         49   \n",
       "27  deletion    ORF6     27264:27290       27  27264      F         22   \n",
       "28  deletion    ORF6     27266:27293       28  27266      F         22   \n",
       "29  deletion   ORF7a     27498:27531       34  27498      S         36   \n",
       "59  deletion  ORF1ab       6656:6679       24   6656      N       2131   \n",
       "..       ...     ...             ...      ...    ...    ...        ...   \n",
       "24  deletion   ORF3a     26158:26161        4  26158      V        256   \n",
       "16  deletion  ORF1ab         516:518        3    516      V         84   \n",
       "56  deletion  ORF1ab         686:694        9    686      K        141   \n",
       "51  deletion       N     28890:28901       12  28890      S        206   \n",
       "46  deletion    ORF8     28090:28092        3  28090      G         66   \n",
       "\n",
       "    num_samples first_detected last_detected  \\\n",
       "30            1     2020-04-28    2020-04-28   \n",
       "27            1     2020-07-28    2020-07-28   \n",
       "28            1     2020-04-23    2020-04-23   \n",
       "29            1     2020-05-12    2020-05-12   \n",
       "59            1     2020-06-13    2020-06-13   \n",
       "..          ...            ...           ...   \n",
       "24            9     2020-07-17    2020-09-14   \n",
       "16           10     2020-07-22    2020-08-01   \n",
       "56           17     2020-03-31    2020-10-03   \n",
       "51           23     2020-06-16    2020-08-06   \n",
       "46           27     2020-09-30    2020-10-03   \n",
       "\n",
       "                                            locations location_counts  \\\n",
       "30                        MEX/Baja California/Tijuana               1   \n",
       "27                           USA/California/San Diego               1   \n",
       "28                           USA/California/San Diego               1   \n",
       "29                            USA/California/Imperial               1   \n",
       "59                           USA/California/San Diego               1   \n",
       "..                                                ...             ...   \n",
       "24                           USA/California/San Diego               9   \n",
       "16                           USA/California/San Diego              10   \n",
       "56  [Jordan/Amman, USA/California/San Diego, USA/L...      [2, 13, 2]   \n",
       "51                           USA/California/San Diego              23   \n",
       "46                                       Jordan/Amman              27   \n",
       "\n",
       "                                              samples ref_codon prev_5nts  \\\n",
       "30                 [hCoV-19/MEX/SEARCH-1480-TIJ/2020]       CTA     tcctc   \n",
       "27                 [hCoV-19/USA/SEARCH-3236-SAN/2020]       TTT     ggact   \n",
       "28                 [hCoV-19/USA/SEARCH-1921-SAN/2020]       TTT     acttt   \n",
       "29                 [hCoV-19/USA/SEARCH-0573-IPL/2020]       TCT     cttgc   \n",
       "59                 [hCoV-19/USA/SEARCH-3559-SAN/2020]       AAT     tgtta   \n",
       "..                                                ...       ...       ...   \n",
       "24  [hCoV-19/USA/SEARCH-2907-SAN/2020, hCoV-19/USA...       GTT     agttg   \n",
       "16  [hCoV-19/USA/SEARCH-4342-SAN/2020, hCoV-19/USA...       GTT     catgt   \n",
       "56  [hCoV-19/USA/SEARCH-0264-NBG/2020, hCoV-19/USA...       AAG     tctaa   \n",
       "51  [hCoV-19/USA/SEARCH-2285-SAN/2020, hCoV-19/USA...       TCT     acttc   \n",
       "46  [hCoV-19/JOR/SEARCH-3903-JOR/2020, hCoV-19/JOR...       GGT     gctgg   \n",
       "\n",
       "   next_5nts  \n",
       "30     actca  \n",
       "27     tacat  \n",
       "28     atcat  \n",
       "29     atcct  \n",
       "59     ctaat  \n",
       "..       ...  \n",
       "24     tccag  \n",
       "16     ggttg  \n",
       "56     actta  \n",
       "51     ggctg  \n",
       "46     taaat  \n",
       "\n",
       "[61 rows x 16 columns]"
      ]
     },
     "execution_count": 5,
     "metadata": {},
     "output_type": "execute_result"
    }
   ],
   "source": [
    "dels = identify_deletions(in_fp, meta_fp, patient_zero)\n",
    "dels"
   ]
  },
  {
   "cell_type": "code",
   "execution_count": 3,
   "metadata": {},
   "outputs": [
    {
     "ename": "NameError",
     "evalue": "name 'dels' is not defined",
     "output_type": "error",
     "traceback": [
      "\u001b[0;31m---------------------------------------------------------------------------\u001b[0m",
      "\u001b[0;31mNameError\u001b[0m                                 Traceback (most recent call last)",
      "\u001b[0;32m<ipython-input-3-c4aae0949dc6>\u001b[0m in \u001b[0;36m<module>\u001b[0;34m\u001b[0m\n\u001b[0;32m----> 1\u001b[0;31m \u001b[0mdels\u001b[0m\u001b[0;34m[\u001b[0m\u001b[0mdels\u001b[0m\u001b[0;34m[\u001b[0m\u001b[0;34m'gene'\u001b[0m\u001b[0;34m]\u001b[0m\u001b[0;34m==\u001b[0m\u001b[0;34m'S'\u001b[0m\u001b[0;34m]\u001b[0m\u001b[0;34m.\u001b[0m\u001b[0msort_values\u001b[0m\u001b[0;34m(\u001b[0m\u001b[0;34m'num_samples'\u001b[0m\u001b[0;34m,\u001b[0m \u001b[0mascending\u001b[0m\u001b[0;34m=\u001b[0m\u001b[0;32mFalse\u001b[0m\u001b[0;34m)\u001b[0m\u001b[0;31m#.to_csv('S_deletions_consensus.csv', index=False)\u001b[0m\u001b[0;34m\u001b[0m\u001b[0;34m\u001b[0m\u001b[0m\n\u001b[0m",
      "\u001b[0;31mNameError\u001b[0m: name 'dels' is not defined"
     ]
    }
   ],
   "source": [
    "dels[dels['gene']=='S'].sort_values('num_samples', ascending=False)#.to_csv('S_deletions_consensus.csv', index=False)"
   ]
  },
  {
   "cell_type": "code",
   "execution_count": 4,
   "metadata": {},
   "outputs": [],
   "source": [
    "identify_insertions(in_fp, patient_zero).to_csv('test.csv', index=False)"
   ]
  },
  {
   "cell_type": "markdown",
   "metadata": {},
   "source": [
    "## dev "
   ]
  },
  {
   "cell_type": "code",
   "execution_count": 10,
   "metadata": {},
   "outputs": [],
   "source": [
    "GENE2POS = {\n",
    "            '5UTR': {'start': 0, 'end': 265},\n",
    "            'ORF1ab': {'start': 265, 'end': 21555},\n",
    "            'S': {'start': 21562, 'end': 25384},\n",
    "            'ORF3a': {'start': 25392, 'end': 26220},\n",
    "            'E': {'start': 26244, 'end': 26472},\n",
    "            'M': {'start': 26522, 'end': 27191},\n",
    "            'ORF6': {'start': 27201, 'end': 27387},\n",
    "            'ORF7a': {'start': 27393, 'end': 27759},\n",
    "            'ORF7b': {'start': 27755, 'end': 27887},\n",
    "            'ORF8': {'start': 27893, 'end': 28259},\n",
    "            'N': {'start': 28273, 'end': 29533},\n",
    "            'ORF10': {'start': 29557, 'end': 29674},\n",
    "            '3UTR': {'start': 29674, 'end': 29902}\n",
    "           }"
   ]
  },
  {
   "cell_type": "code",
   "execution_count": 11,
   "metadata": {},
   "outputs": [],
   "source": [
    "in_dir = '/home/al/analysis/mutations/fa/'\n",
    "out_dir = '/home/al/analysis/mutations/msa/'"
   ]
  },
  {
   "cell_type": "code",
   "execution_count": 14,
   "metadata": {},
   "outputs": [],
   "source": [
    "!rm -r /home/al/analysis/mutations\n",
    "!mkdir /home/al/analysis/mutations\n",
    "!mkdir /home/al/analysis/mutations/fa"
   ]
  },
  {
   "cell_type": "code",
   "execution_count": 15,
   "metadata": {},
   "outputs": [],
   "source": [
    "for filename in analysis_folder.listdir():\n",
    "    if (filename.endswith('fa') or filename.endswith('fasta')):\n",
    "        copy(filename, '/home/al/analysis/mutations/fa/')\n",
    "#         print(filename)"
   ]
  },
  {
   "cell_type": "code",
   "execution_count": 179,
   "metadata": {},
   "outputs": [
    {
     "data": {
      "text/plain": [
       "'/home/al/analysis/mutations/fa/NC045512.fasta'"
      ]
     },
     "execution_count": 179,
     "metadata": {},
     "output_type": "execute_result"
    }
   ],
   "source": [
    "copy(ref_path, in_dir)"
   ]
  },
  {
   "cell_type": "code",
   "execution_count": 180,
   "metadata": {},
   "outputs": [
    {
     "data": {
      "text/plain": [
       "'/home/al/analysis/mutations/msa.fa'"
      ]
     },
     "execution_count": 180,
     "metadata": {},
     "output_type": "execute_result"
    }
   ],
   "source": [
    "in_dir = '/home/al/analysis/mutations/fa/'\n",
    "out_dir = '/home/al/analysis/mutations/msa'\n",
    "concat_fasta(in_dir, out_dir)"
   ]
  },
  {
   "cell_type": "code",
   "execution_count": 17,
   "metadata": {},
   "outputs": [
    {
     "data": {
      "text/plain": [
       "'/home/al/analysis/mutations/msa_aligned.fa'"
      ]
     },
     "execution_count": 17,
     "metadata": {},
     "output_type": "execute_result"
    }
   ],
   "source": [
    "align_fasta_reference('/home/al/analysis/mutations/msa.fa',  num_cpus=12, ref_fp=ref_path)"
   ]
  },
  {
   "cell_type": "code",
   "execution_count": 14,
   "metadata": {},
   "outputs": [],
   "source": [
    "cns = AlignIO.read('/home/al/analysis/mutations/msa_aligned.fa', 'fasta')"
   ]
  },
  {
   "cell_type": "code",
   "execution_count": 15,
   "metadata": {},
   "outputs": [],
   "source": [
    "ref_seq = get_seq(cns, patient_zero)"
   ]
  },
  {
   "cell_type": "code",
   "execution_count": 16,
   "metadata": {},
   "outputs": [
    {
     "data": {
      "text/plain": [
       "29903"
      ]
     },
     "execution_count": 16,
     "metadata": {},
     "output_type": "execute_result"
    }
   ],
   "source": [
    "len(ref_seq)"
   ]
  },
  {
   "cell_type": "code",
   "execution_count": 17,
   "metadata": {},
   "outputs": [],
   "source": [
    "seqs = get_seqs(cns, 0, 30000)"
   ]
  },
  {
   "cell_type": "code",
   "execution_count": 18,
   "metadata": {},
   "outputs": [],
   "source": [
    "seqsdf = (pd.DataFrame(index=seqs.keys(), data=seqs.values(), columns=['sequence'])\n",
    "                .reset_index().rename(columns={'index': 'idx'}))"
   ]
  },
  {
   "cell_type": "code",
   "execution_count": 19,
   "metadata": {},
   "outputs": [],
   "source": [
    "# seqsdf"
   ]
  },
  {
   "cell_type": "code",
   "execution_count": 20,
   "metadata": {},
   "outputs": [],
   "source": [
    "def find_replacements(x, ref):\n",
    "    return [f'{i}:{n}' for i, n in enumerate(x) \n",
    "            if n!=ref[i] and n!='-' and n!='n']"
   ]
  },
  {
   "cell_type": "code",
   "execution_count": 21,
   "metadata": {},
   "outputs": [],
   "source": [
    "seqsdf['replacements'] = seqsdf['sequence'].apply(find_replacements, args=(ref_seq,))"
   ]
  },
  {
   "cell_type": "code",
   "execution_count": 22,
   "metadata": {},
   "outputs": [],
   "source": [
    "seqsdf = seqsdf.explode('replacements')\n",
    "seqsdf['pos'] = -1\n",
    "seqsdf.loc[~seqsdf['replacements'].isna(), 'pos'] = seqsdf.loc[~seqsdf['replacements'].isna(), 'replacements'].apply(lambda x: int(x.split(':')[0]))\n",
    "seqsdf = seqsdf.loc[seqsdf['pos']!=-1]"
   ]
  },
  {
   "cell_type": "code",
   "execution_count": 23,
   "metadata": {},
   "outputs": [],
   "source": [
    "def compute_codon_num(x, gene2pos: dict):\n",
    "    pos = x['pos']\n",
    "    ref_pos = gene2pos[x['gene']]['start']\n",
    "    return math.ceil((pos - ref_pos + 1) / 3)"
   ]
  },
  {
   "cell_type": "code",
   "execution_count": 24,
   "metadata": {},
   "outputs": [],
   "source": [
    "seqsdf['gene'] = seqsdf['pos'].apply(map_gene_to_pos)\n",
    "seqsdf = seqsdf.loc[~seqsdf['gene'].isna()]\n",
    "seqsdf = seqsdf.loc[seqsdf['gene']!='nan']\n",
    "seqsdf['codon_num'] = seqsdf.apply(compute_codon_num, args=(GENE2POS,), axis=1)"
   ]
  },
  {
   "cell_type": "code",
   "execution_count": 25,
   "metadata": {},
   "outputs": [],
   "source": [
    "def get_ref_codon(x, ref_seq, gene2pos: dict):\n",
    "    ref_pos = gene2pos[x['gene']]['start']\n",
    "    codon_start = ref_pos + ((x['codon_num'] - 1) * 3)\n",
    "    return ref_seq[codon_start: codon_start+3].upper()\n",
    "seqsdf['ref_codon'] = seqsdf.apply(get_ref_codon, args=(ref_seq, GENE2POS), axis=1)"
   ]
  },
  {
   "cell_type": "code",
   "execution_count": 26,
   "metadata": {},
   "outputs": [],
   "source": [
    "def get_alt_codon(x, gene2pos: dict):\n",
    "    ref_pos = gene2pos[x['gene']]['start']\n",
    "    codon_start = ref_pos + ((x['codon_num'] - 1) * 3)\n",
    "    return x['sequence'][codon_start: codon_start+3].upper()\n",
    "seqsdf['alt_codon'] = seqsdf.apply(get_alt_codon, args=(GENE2POS,), axis=1)"
   ]
  },
  {
   "cell_type": "code",
   "execution_count": 27,
   "metadata": {},
   "outputs": [],
   "source": [
    "def get_aa(codon: str):\n",
    "    CODON2AA = { \n",
    "        'ATA':'I', 'ATC':'I', 'ATT':'I', 'ATG':'M', \n",
    "        'ACA':'T', 'ACC':'T', 'ACG':'T', 'ACT':'T', \n",
    "        'AAC':'N', 'AAT':'N', 'AAA':'K', 'AAG':'K', \n",
    "        'AGC':'S', 'AGT':'S', 'AGA':'R', 'AGG':'R',                  \n",
    "        'CTA':'L', 'CTC':'L', 'CTG':'L', 'CTT':'L', \n",
    "        'CCA':'P', 'CCC':'P', 'CCG':'P', 'CCT':'P', \n",
    "        'CAC':'H', 'CAT':'H', 'CAA':'Q', 'CAG':'Q', \n",
    "        'CGA':'R', 'CGC':'R', 'CGG':'R', 'CGT':'R', \n",
    "        'GTA':'V', 'GTC':'V', 'GTG':'V', 'GTT':'V', \n",
    "        'GCA':'A', 'GCC':'A', 'GCG':'A', 'GCT':'A', \n",
    "        'GAC':'D', 'GAT':'D', 'GAA':'E', 'GAG':'E', \n",
    "        'GGA':'G', 'GGC':'G', 'GGG':'G', 'GGT':'G', \n",
    "        'TCA':'S', 'TCC':'S', 'TCG':'S', 'TCT':'S', \n",
    "        'TTC':'F', 'TTT':'F', 'TTA':'L', 'TTG':'L', \n",
    "        'TAC':'Y', 'TAT':'Y', 'TAA':'_', 'TAG':'_', \n",
    "        'TGC':'C', 'TGT':'C', 'TGA':'_', 'TGG':'W', \n",
    "    } \n",
    "    return CODON2AA.get(codon, 'nan')\n",
    "seqsdf['ref_aa'] = seqsdf['ref_codon'].apply(get_aa)\n",
    "seqsdf['alt_aa'] = seqsdf['alt_codon'].apply(get_aa)\n",
    "seqsdf = seqsdf.loc[seqsdf['alt_aa']!='nan']"
   ]
  },
  {
   "cell_type": "code",
   "execution_count": 28,
   "metadata": {},
   "outputs": [
    {
     "data": {
      "text/plain": [
       "Index(['idx', 'sequence', 'replacements', 'pos', 'gene', 'codon_num',\n",
       "       'ref_codon', 'alt_codon', 'ref_aa', 'alt_aa'],\n",
       "      dtype='object')"
      ]
     },
     "execution_count": 28,
     "metadata": {},
     "output_type": "execute_result"
    }
   ],
   "source": [
    "seqsdf.columns"
   ]
  },
  {
   "cell_type": "code",
   "execution_count": 29,
   "metadata": {},
   "outputs": [
    {
     "name": "stdout",
     "output_type": "stream",
     "text": [
      "(2765,)\n",
      "(2765,)\n"
     ]
    }
   ],
   "source": [
    "meta = pd.read_csv(meta_fp)\n",
    "print(seqsdf['idx'].unique().shape)\n",
    "seqsdf = pd.merge(seqsdf, meta, left_on='idx', right_on='fasta_hdr')\n",
    "print(seqsdf['idx'].unique().shape)"
   ]
  },
  {
   "cell_type": "code",
   "execution_count": 30,
   "metadata": {},
   "outputs": [],
   "source": [
    "seqsdf = seqsdf.loc[(seqsdf['collection_date']!='Unknown') \n",
    "                   & (seqsdf['collection_date']!='1900-01-00')]\n",
    "seqsdf.loc[seqsdf['collection_date'].str.contains('/'), 'collection_date'] = seqsdf['collection_date'].apply(lambda x: x.split('/')[0])\n",
    "seqsdf['date'] = pd.to_datetime(seqsdf['collection_date'])"
   ]
  },
  {
   "cell_type": "code",
   "execution_count": 31,
   "metadata": {},
   "outputs": [
    {
     "data": {
      "text/plain": [
       "Timestamp('2020-03-04 00:00:00')"
      ]
     },
     "execution_count": 31,
     "metadata": {},
     "output_type": "execute_result"
    }
   ],
   "source": [
    "seqsdf['date'].min()"
   ]
  },
  {
   "cell_type": "code",
   "execution_count": 32,
   "metadata": {},
   "outputs": [],
   "source": [
    "# (seqsdf.groupby(['gene', 'ref_aa', 'codon_num', 'alt_aa'])\n",
    "# .agg(\n",
    "#      num_samples=('ID', 'nunique')))"
   ]
  },
  {
   "cell_type": "code",
   "execution_count": 35,
   "metadata": {},
   "outputs": [],
   "source": [
    "def uniq_locs(x):\n",
    "    return np.unique(x)\n",
    "def loc_counts(x):\n",
    "    _, counts = np.unique(x, return_counts=True)\n",
    "    return counts"
   ]
  },
  {
   "cell_type": "code",
   "execution_count": 37,
   "metadata": {},
   "outputs": [],
   "source": [
    "subs = (seqsdf.groupby(['gene', 'pos', 'ref_aa', 'codon_num', 'alt_aa'])\n",
    ".agg(\n",
    "     num_samples=('ID', 'nunique'),\n",
    "     first_detected=('date', 'min'),\n",
    "     last_detected=('date', 'max'),\n",
    "     locations=('location', uniq_locs),\n",
    "     location_counts=('location', loc_counts),\n",
    "     samples=('ID', 'unique')\n",
    "    )\n",
    ".reset_index())\n",
    "subs['pos'] = subs['pos'] + 1"
   ]
  },
  {
   "cell_type": "code",
   "execution_count": 175,
   "metadata": {},
   "outputs": [],
   "source": [
    "(subs[subs['gene']=='S'].sort_values('num_samples', ascending=False)\n",
    " .to_csv('S_mutations_consensus.csv', index=False))"
   ]
  },
  {
   "cell_type": "markdown",
   "metadata": {},
   "source": [
    "## Consolidate metadata ID and fasta headers"
   ]
  },
  {
   "cell_type": "code",
   "execution_count": 134,
   "metadata": {},
   "outputs": [],
   "source": [
    "def fix_header(x):\n",
    "    if 'Consensus' in x:\n",
    "        return x.split('_')[1]\n",
    "    else:\n",
    "        return x.split('/')[2]\n",
    "seqsdf['n_ID'] = seqsdf['idx'].apply(fix_header)"
   ]
  },
  {
   "cell_type": "code",
   "execution_count": 135,
   "metadata": {},
   "outputs": [],
   "source": [
    "seqsdf['n_ID'] = seqsdf['n_ID'].str.replace('ALSR', 'SEARCH')"
   ]
  },
  {
   "cell_type": "code",
   "execution_count": 136,
   "metadata": {},
   "outputs": [],
   "source": [
    "meta = pd.read_csv(meta_fp)\n",
    "meta['n_ID'] = meta['ID'].apply(lambda x: '-'.join(x.split('-')[:2]))"
   ]
  },
  {
   "cell_type": "code",
   "execution_count": 137,
   "metadata": {},
   "outputs": [],
   "source": [
    "seqsdf['n_ID'] = seqsdf['n_ID'].apply(lambda x: '-'.join(x.split('-')[:2]))"
   ]
  },
  {
   "cell_type": "code",
   "execution_count": 138,
   "metadata": {},
   "outputs": [],
   "source": [
    "tmp = pd.merge(seqsdf, meta, on='n_ID')"
   ]
  },
  {
   "cell_type": "code",
   "execution_count": 122,
   "metadata": {},
   "outputs": [],
   "source": [
    "# tmp[tmp['ID'].str.contains('2112')]"
   ]
  },
  {
   "cell_type": "code",
   "execution_count": 98,
   "metadata": {},
   "outputs": [],
   "source": [
    "# seqsdf"
   ]
  },
  {
   "cell_type": "code",
   "execution_count": 139,
   "metadata": {},
   "outputs": [
    {
     "data": {
      "text/plain": [
       "{'SEARCH-1668'}"
      ]
     },
     "execution_count": 139,
     "metadata": {},
     "output_type": "execute_result"
    }
   ],
   "source": [
    "set(meta['n_ID'].unique()) - set(tmp['n_ID'].unique())"
   ]
  },
  {
   "cell_type": "code",
   "execution_count": 140,
   "metadata": {},
   "outputs": [
    {
     "data": {
      "text/plain": [
       "(2765,)"
      ]
     },
     "execution_count": 140,
     "metadata": {},
     "output_type": "execute_result"
    }
   ],
   "source": [
    "seqsdf['idx'].unique().shape"
   ]
  },
  {
   "cell_type": "code",
   "execution_count": 141,
   "metadata": {},
   "outputs": [
    {
     "data": {
      "text/plain": [
       "(2766,)"
      ]
     },
     "execution_count": 141,
     "metadata": {},
     "output_type": "execute_result"
    }
   ],
   "source": [
    "meta['ID'].unique().shape"
   ]
  },
  {
   "cell_type": "code",
   "execution_count": 147,
   "metadata": {},
   "outputs": [],
   "source": [
    "s = seqsdf[['n_ID', 'idx']].drop_duplicates()"
   ]
  },
  {
   "cell_type": "code",
   "execution_count": 151,
   "metadata": {},
   "outputs": [],
   "source": [
    "new_meta = pd.merge(meta, s, on='n_ID', how='left')\n",
    "(new_meta.drop(columns=['n_ID'])\n",
    ".rename(columns={'idx': 'fasta_hdr'})\n",
    ".to_csv('metadata.csv', index=False))"
   ]
  },
  {
   "cell_type": "code",
   "execution_count": 152,
   "metadata": {},
   "outputs": [
    {
     "data": {
      "text/plain": [
       "(2766, 11)"
      ]
     },
     "execution_count": 152,
     "metadata": {},
     "output_type": "execute_result"
    }
   ],
   "source": [
    "new_meta.shape "
   ]
  },
  {
   "cell_type": "code",
   "execution_count": 153,
   "metadata": {},
   "outputs": [
    {
     "data": {
      "text/html": [
       "<div>\n",
       "<style scoped>\n",
       "    .dataframe tbody tr th:only-of-type {\n",
       "        vertical-align: middle;\n",
       "    }\n",
       "\n",
       "    .dataframe tbody tr th {\n",
       "        vertical-align: top;\n",
       "    }\n",
       "\n",
       "    .dataframe thead th {\n",
       "        text-align: right;\n",
       "    }\n",
       "</style>\n",
       "<table border=\"1\" class=\"dataframe\">\n",
       "  <thead>\n",
       "    <tr style=\"text-align: right;\">\n",
       "      <th></th>\n",
       "      <th>ID</th>\n",
       "      <th>gb_accession</th>\n",
       "      <th>gisaid_accession</th>\n",
       "      <th>collection_date</th>\n",
       "      <th>location</th>\n",
       "      <th>percent_coverage_cds</th>\n",
       "      <th>avg_depth</th>\n",
       "      <th>authors</th>\n",
       "      <th>originating_lab</th>\n",
       "      <th>n_ID</th>\n",
       "      <th>idx</th>\n",
       "    </tr>\n",
       "  </thead>\n",
       "  <tbody>\n",
       "    <tr>\n",
       "      <th>0</th>\n",
       "      <td>MG0987</td>\n",
       "      <td>MT598172</td>\n",
       "      <td>EPI_ISL_416457</td>\n",
       "      <td>2020-03-18</td>\n",
       "      <td>USA/California/San Diego</td>\n",
       "      <td>99.5954</td>\n",
       "      <td>2465.60</td>\n",
       "      <td>SEARCH Alliance San Diego</td>\n",
       "      <td>Andersen lab at Scripps Research</td>\n",
       "      <td>MG0987</td>\n",
       "      <td>Consensus_MG0987</td>\n",
       "    </tr>\n",
       "    <tr>\n",
       "      <th>1</th>\n",
       "      <td>PC00101P</td>\n",
       "      <td>MT192765</td>\n",
       "      <td>EPI_ISL_414648</td>\n",
       "      <td>2020-03-11</td>\n",
       "      <td>USA/California/San Diego</td>\n",
       "      <td>99.7525</td>\n",
       "      <td>3516.14</td>\n",
       "      <td>SEARCH Alliance San Diego</td>\n",
       "      <td>Andersen lab at Scripps Research</td>\n",
       "      <td>PC00101P</td>\n",
       "      <td>Consensus_PC00101P_threshold_0_quality_20</td>\n",
       "    </tr>\n",
       "    <tr>\n",
       "      <th>2</th>\n",
       "      <td>SEARCH-0007-SAN</td>\n",
       "      <td>MT598171</td>\n",
       "      <td>EPI_ISL_429990</td>\n",
       "      <td>2020-03-21</td>\n",
       "      <td>USA/California/San Diego</td>\n",
       "      <td>100.0000</td>\n",
       "      <td>6215.17</td>\n",
       "      <td>SEARCH Alliance San Diego with Christina Clark...</td>\n",
       "      <td>Rady's Childrens Hospital</td>\n",
       "      <td>SEARCH-0007</td>\n",
       "      <td>Consensus_SEARCH-0007-SAN_L1_threshold_0_quali...</td>\n",
       "    </tr>\n",
       "    <tr>\n",
       "      <th>3</th>\n",
       "      <td>SEARCH-0016-SAN</td>\n",
       "      <td>MT598173</td>\n",
       "      <td>EPI_ISL_430016</td>\n",
       "      <td>2020-03-24</td>\n",
       "      <td>USA/California/San Diego</td>\n",
       "      <td>100.0000</td>\n",
       "      <td>6440.67</td>\n",
       "      <td>SEARCH Alliance San Diego</td>\n",
       "      <td>Andersen lab at Scripps Research</td>\n",
       "      <td>SEARCH-0016</td>\n",
       "      <td>Consensus_SEARCH-0016-SAN_L1_threshold_0_quali...</td>\n",
       "    </tr>\n",
       "    <tr>\n",
       "      <th>4</th>\n",
       "      <td>SEARCH-0017-SAN</td>\n",
       "      <td>MT598174</td>\n",
       "      <td>EPI_ISL_429991</td>\n",
       "      <td>2020-03-24</td>\n",
       "      <td>USA/California/San Diego</td>\n",
       "      <td>100.0000</td>\n",
       "      <td>4947.09</td>\n",
       "      <td>SEARCH Alliance San Diego</td>\n",
       "      <td>Andersen lab at Scripps Research</td>\n",
       "      <td>SEARCH-0017</td>\n",
       "      <td>Consensus_SEARCH-0017-SAN_L1_threshold_0_quali...</td>\n",
       "    </tr>\n",
       "    <tr>\n",
       "      <th>...</th>\n",
       "      <td>...</td>\n",
       "      <td>...</td>\n",
       "      <td>...</td>\n",
       "      <td>...</td>\n",
       "      <td>...</td>\n",
       "      <td>...</td>\n",
       "      <td>...</td>\n",
       "      <td>...</td>\n",
       "      <td>...</td>\n",
       "      <td>...</td>\n",
       "      <td>...</td>\n",
       "    </tr>\n",
       "    <tr>\n",
       "      <th>2761</th>\n",
       "      <td>SEARCH-4685-SAN</td>\n",
       "      <td>NaN</td>\n",
       "      <td>NaN</td>\n",
       "      <td>2020-11-02</td>\n",
       "      <td>USA/California/San Diego</td>\n",
       "      <td>100.0000</td>\n",
       "      <td>4831.37</td>\n",
       "      <td>SEARCH Alliance San Diego with Tracy Basler, J...</td>\n",
       "      <td>San Diego County Public Health Laboratory</td>\n",
       "      <td>SEARCH-4685</td>\n",
       "      <td>hCoV-19/USA/SEARCH-4685-SAN/2020</td>\n",
       "    </tr>\n",
       "    <tr>\n",
       "      <th>2762</th>\n",
       "      <td>SEARCH-4686-SAN</td>\n",
       "      <td>NaN</td>\n",
       "      <td>NaN</td>\n",
       "      <td>2020-11-05</td>\n",
       "      <td>USA/California/San Diego</td>\n",
       "      <td>100.0000</td>\n",
       "      <td>3864.73</td>\n",
       "      <td>SEARCH Alliance San Diego with Tracy Basler, J...</td>\n",
       "      <td>San Diego County Public Health Laboratory</td>\n",
       "      <td>SEARCH-4686</td>\n",
       "      <td>hCoV-19/USA/SEARCH-4686-SAN/2020</td>\n",
       "    </tr>\n",
       "    <tr>\n",
       "      <th>2763</th>\n",
       "      <td>SEARCH-4687-ORA</td>\n",
       "      <td>NaN</td>\n",
       "      <td>NaN</td>\n",
       "      <td>2020-11-02</td>\n",
       "      <td>USA/California/Orange</td>\n",
       "      <td>98.1400</td>\n",
       "      <td>3123.54</td>\n",
       "      <td>SEARCH Alliance San Diego with Tracy Basler, J...</td>\n",
       "      <td>San Diego County Public Health Laboratory</td>\n",
       "      <td>SEARCH-4687</td>\n",
       "      <td>hCoV-19/USA/SEARCH-4687-ORA/2020</td>\n",
       "    </tr>\n",
       "    <tr>\n",
       "      <th>2764</th>\n",
       "      <td>SEARCH-4690-SAN</td>\n",
       "      <td>NaN</td>\n",
       "      <td>NaN</td>\n",
       "      <td>2020-05-28</td>\n",
       "      <td>USA/California/San Diego</td>\n",
       "      <td>98.7283</td>\n",
       "      <td>2625.16</td>\n",
       "      <td>SEARCH Alliance San Diego with Tracy Basler, J...</td>\n",
       "      <td>San Diego County Public Health Laboratory</td>\n",
       "      <td>SEARCH-4690</td>\n",
       "      <td>hCoV-19/USA/SEARCH-4690-SAN/2020</td>\n",
       "    </tr>\n",
       "    <tr>\n",
       "      <th>2765</th>\n",
       "      <td>SEARCH-4691-SAN</td>\n",
       "      <td>NaN</td>\n",
       "      <td>NaN</td>\n",
       "      <td>2020-05-20</td>\n",
       "      <td>USA/California/San Diego</td>\n",
       "      <td>99.1465</td>\n",
       "      <td>2623.45</td>\n",
       "      <td>SEARCH Alliance San Diego with Tracy Basler, J...</td>\n",
       "      <td>San Diego County Public Health Laboratory</td>\n",
       "      <td>SEARCH-4691</td>\n",
       "      <td>hCoV-19/USA/SEARCH-4691-SAN/2020</td>\n",
       "    </tr>\n",
       "  </tbody>\n",
       "</table>\n",
       "<p>2766 rows × 11 columns</p>\n",
       "</div>"
      ],
      "text/plain": [
       "                   ID gb_accession gisaid_accession collection_date  \\\n",
       "0              MG0987     MT598172   EPI_ISL_416457      2020-03-18   \n",
       "1            PC00101P     MT192765   EPI_ISL_414648      2020-03-11   \n",
       "2     SEARCH-0007-SAN     MT598171   EPI_ISL_429990      2020-03-21   \n",
       "3     SEARCH-0016-SAN     MT598173   EPI_ISL_430016      2020-03-24   \n",
       "4     SEARCH-0017-SAN     MT598174   EPI_ISL_429991      2020-03-24   \n",
       "...               ...          ...              ...             ...   \n",
       "2761  SEARCH-4685-SAN          NaN              NaN      2020-11-02   \n",
       "2762  SEARCH-4686-SAN          NaN              NaN      2020-11-05   \n",
       "2763  SEARCH-4687-ORA          NaN              NaN      2020-11-02   \n",
       "2764  SEARCH-4690-SAN          NaN              NaN      2020-05-28   \n",
       "2765  SEARCH-4691-SAN          NaN              NaN      2020-05-20   \n",
       "\n",
       "                      location  percent_coverage_cds  avg_depth  \\\n",
       "0     USA/California/San Diego               99.5954    2465.60   \n",
       "1     USA/California/San Diego               99.7525    3516.14   \n",
       "2     USA/California/San Diego              100.0000    6215.17   \n",
       "3     USA/California/San Diego              100.0000    6440.67   \n",
       "4     USA/California/San Diego              100.0000    4947.09   \n",
       "...                        ...                   ...        ...   \n",
       "2761  USA/California/San Diego              100.0000    4831.37   \n",
       "2762  USA/California/San Diego              100.0000    3864.73   \n",
       "2763     USA/California/Orange               98.1400    3123.54   \n",
       "2764  USA/California/San Diego               98.7283    2625.16   \n",
       "2765  USA/California/San Diego               99.1465    2623.45   \n",
       "\n",
       "                                                authors  \\\n",
       "0                             SEARCH Alliance San Diego   \n",
       "1                             SEARCH Alliance San Diego   \n",
       "2     SEARCH Alliance San Diego with Christina Clark...   \n",
       "3                             SEARCH Alliance San Diego   \n",
       "4                             SEARCH Alliance San Diego   \n",
       "...                                                 ...   \n",
       "2761  SEARCH Alliance San Diego with Tracy Basler, J...   \n",
       "2762  SEARCH Alliance San Diego with Tracy Basler, J...   \n",
       "2763  SEARCH Alliance San Diego with Tracy Basler, J...   \n",
       "2764  SEARCH Alliance San Diego with Tracy Basler, J...   \n",
       "2765  SEARCH Alliance San Diego with Tracy Basler, J...   \n",
       "\n",
       "                                originating_lab         n_ID  \\\n",
       "0              Andersen lab at Scripps Research       MG0987   \n",
       "1              Andersen lab at Scripps Research     PC00101P   \n",
       "2                     Rady's Childrens Hospital  SEARCH-0007   \n",
       "3              Andersen lab at Scripps Research  SEARCH-0016   \n",
       "4              Andersen lab at Scripps Research  SEARCH-0017   \n",
       "...                                         ...          ...   \n",
       "2761  San Diego County Public Health Laboratory  SEARCH-4685   \n",
       "2762  San Diego County Public Health Laboratory  SEARCH-4686   \n",
       "2763  San Diego County Public Health Laboratory  SEARCH-4687   \n",
       "2764  San Diego County Public Health Laboratory  SEARCH-4690   \n",
       "2765  San Diego County Public Health Laboratory  SEARCH-4691   \n",
       "\n",
       "                                                    idx  \n",
       "0                                      Consensus_MG0987  \n",
       "1             Consensus_PC00101P_threshold_0_quality_20  \n",
       "2     Consensus_SEARCH-0007-SAN_L1_threshold_0_quali...  \n",
       "3     Consensus_SEARCH-0016-SAN_L1_threshold_0_quali...  \n",
       "4     Consensus_SEARCH-0017-SAN_L1_threshold_0_quali...  \n",
       "...                                                 ...  \n",
       "2761                   hCoV-19/USA/SEARCH-4685-SAN/2020  \n",
       "2762                   hCoV-19/USA/SEARCH-4686-SAN/2020  \n",
       "2763                   hCoV-19/USA/SEARCH-4687-ORA/2020  \n",
       "2764                   hCoV-19/USA/SEARCH-4690-SAN/2020  \n",
       "2765                   hCoV-19/USA/SEARCH-4691-SAN/2020  \n",
       "\n",
       "[2766 rows x 11 columns]"
      ]
     },
     "execution_count": 153,
     "metadata": {},
     "output_type": "execute_result"
    }
   ],
   "source": [
    "new_meta"
   ]
  },
  {
   "cell_type": "code",
   "execution_count": 81,
   "metadata": {},
   "outputs": [
    {
     "data": {
      "text/plain": [
       "29903"
      ]
     },
     "execution_count": 81,
     "metadata": {},
     "output_type": "execute_result"
    }
   ],
   "source": [
    "len(ref_seq)"
   ]
  }
 ],
 "metadata": {
  "kernelspec": {
   "display_name": "Python 3",
   "language": "python",
   "name": "python3"
  },
  "language_info": {
   "codemirror_mode": {
    "name": "ipython",
    "version": 3
   },
   "file_extension": ".py",
   "mimetype": "text/x-python",
   "name": "python",
   "nbconvert_exporter": "python",
   "pygments_lexer": "ipython3",
   "version": "3.8.3"
  }
 },
 "nbformat": 4,
 "nbformat_minor": 4
}
